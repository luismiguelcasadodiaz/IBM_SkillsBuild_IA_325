{
  "nbformat": 4,
  "nbformat_minor": 0,
  "metadata": {
    "colab": {
      "provenance": [],
      "authorship_tag": "ABX9TyM2HMMj7D9hRf69Dkv1vUbC",
      "include_colab_link": true
    },
    "kernelspec": {
      "name": "python3",
      "display_name": "Python 3"
    },
    "language_info": {
      "name": "python"
    }
  },
  "cells": [
    {
      "cell_type": "markdown",
      "metadata": {
        "id": "view-in-github",
        "colab_type": "text"
      },
      "source": [
        "<a href=\"https://colab.research.google.com/github/luismiguelcasadodiaz/IBM_SkillsBuild_IA_325/blob/main/IA_325_py_cod_ex_41_s.ipynb\" target=\"_parent\"><img src=\"https://colab.research.google.com/assets/colab-badge.svg\" alt=\"Open In Colab\"/></a>"
      ]
    },
    {
      "cell_type": "markdown",
      "source": [
        "# Agrupando jugadores\n",
        "¿Qué tipo de gamer eres?\"\n",
        "\n",
        "## 📄 Enunciado del ejercicio\n",
        "\n",
        "Eres parte del equipo de análisis de una plataforma de videojuegos que quiere entender mejor a sus usuarios. Se ha recopilado información sobre distintos jugadores basada en su comportamiento dentro del juego. Tu misión es agrupar a estos jugadores en diferentes tipos (clusters) según su estilo de juego, utilizando el algoritmo de K-Means.\n",
        "\n",
        "## 🧠 Tareas a realizar\n",
        "\n",
        "  + 1.- Crea una clase Player que contenga los siguientes atributos:\n",
        "\n",
        "      + name (str): nombre del jugador\n",
        "\n",
        "      + avg_session_time (float): tiempo medio de juego por sesión (en horas)\n",
        "\n",
        "      + missions_completed (int): número de misiones completadas\n",
        "\n",
        "      + accuracy (float): precisión de disparo (entre 0 y 1)\n",
        "\n",
        "      + aggressiveness (float): valor entre 0 (pasivo) y 1 (muy agresivo)\n",
        "\n",
        "  + 2.- Crea una clase PlayerClusterer con los siguientes métodos:\n",
        "\n",
        "    + fit(players: List[Player], n_clusters: int): entrena un modelo K-Means con los datos de los jugadores.\n",
        "\n",
        "    + predict(player: Player) -> int: devuelve el número de cluster al que pertenece un nuevo jugador.\n",
        "\n",
        "    + get_cluster_centers(): devuelve los centros de los clusters.\n",
        "\n",
        "    + print_cluster_summary(players: List[Player]): imprime qué jugadores hay en cada grupo.\n",
        "\n",
        "  + 3.- Usa los datos proporcionados a continuación para entrenar el modelo con 3 clusters:\n",
        "```python\n",
        "\n",
        "      data = [\n",
        "                  (\"Alice\", 2.5, 100, 0.85, 0.3),\n",
        "                  (\"Bob\", 1.0, 20, 0.60, 0.7),\n",
        "                  (\"Charlie\", 3.0, 150, 0.9, 0.2),\n",
        "                  (\"Diana\", 0.8, 15, 0.55, 0.9),\n",
        "                  (\"Eve\", 2.7, 120, 0.88, 0.25),\n",
        "                  (\"Frank\", 1.1, 30, 0.62, 0.65),\n",
        "                  (\"Grace\", 0.9, 18, 0.58, 0.85),\n",
        "                  (\"Hank\", 3.2, 160, 0.91, 0.15)\n",
        "        ]\n",
        "```\n",
        "  + 4.-   Crea una clase GameAnalytics que haga lo siguiente:\n",
        "\n",
        "    + Cree los objetos Player con los datos anteriores.\n",
        "\n",
        "    + Cree un objeto PlayerClusterer, entrene el modelo y muestre los clusters formados.\n",
        "\n",
        "    + Prediga el cluster para un nuevo jugador: (\"Zoe\", 1.5, 45, 0.65, 0.5).\n",
        "\n",
        "\n",
        "\n",
        "## ✅ Requisitos del ejercicio\n",
        "\n",
        "+ Utiliza scikit-learn (KMeans) para la agrupación.\n",
        "+ Usa programación orientada a objetos.\n",
        "+ No uses ficheros externos. Todo debe estar en el código.\n",
        "+ Asegúrate de imprimir resultados entendibles para los usuarios.\n",
        "\n",
        "\n",
        "\n",
        "## 🧪 Ejemplo de uso\n",
        "```python\n",
        "analytics = GameAnalytics()\n",
        "analytics.run()\n",
        "```\n",
        "\n",
        "## 🧪 Salida esperada\n",
        "```python\n",
        "Cluster 2:\n",
        "  - Alice\n",
        "  - Eve\n",
        "Cluster 1:\n",
        "  - Bob\n",
        "  - Diana\n",
        "  - Frank\n",
        "  - Grace\n",
        "Cluster 0:\n",
        "  - Charlie\n",
        "  - Hank\n",
        "\n",
        "Jugador Zoe pertenece al cluster: 1\n",
        "```"
      ],
      "metadata": {
        "id": "Q7GQreGIakhe"
      }
    },
    {
      "cell_type": "markdown",
      "source": [
        "## Importando librerias"
      ],
      "metadata": {
        "id": "CYEOLjqncE8I"
      }
    },
    {
      "cell_type": "code",
      "source": [
        "from sklearn.cluster import KMeans\n",
        "import numpy as np"
      ],
      "metadata": {
        "id": "tMs9MpQmcr4Q"
      },
      "execution_count": 6,
      "outputs": []
    },
    {
      "cell_type": "markdown",
      "source": [
        "## Definición de la clase Player"
      ],
      "metadata": {
        "id": "r1siEwsBadTU"
      }
    },
    {
      "cell_type": "code",
      "source": [
        "class Player:\n",
        "  \"\"\"\n",
        "  Representa un jugador con sus estadísticas de juego.\n",
        "\n",
        "  Args:\n",
        "    name (str): Nombre del jugador.\n",
        "    avg_session_time (float): Tiempo medio de juego por sesión (en horas).\n",
        "    missions_completed (int): Número de misiones completadas.\n",
        "    accuracy (float): Precisión de disparo (entre 0 y 1).\n",
        "    aggressiveness (float): Valor entre 0 (pasivo) y 1 (muy agresivo).\n",
        "  \"\"\"\n",
        "  def __init__(self, name, avg_session_time, missions_completed, accuracy, aggressiveness):\n",
        "    self.name = name\n",
        "    self.avg_session_time = avg_session_time\n",
        "    self.missions_completed = missions_completed\n",
        "    self.accuracy = accuracy\n",
        "    self.aggressiveness = aggressiveness\n",
        "    self.data = np.array([avg_session_time, missions_completed, accuracy, aggressiveness])\n",
        "  def to_vector(self):\n",
        "    \"\"\"\n",
        "    Devuelve un array numpy con los atributos numéricos del jugador.\n",
        "\n",
        "    Returns:\n",
        "      np.ndarray: Array con los atributos numéricos del jugador.\n",
        "    \"\"\"\n",
        "    return self.data"
      ],
      "metadata": {
        "id": "njshRnPRcznF"
      },
      "execution_count": 7,
      "outputs": []
    },
    {
      "cell_type": "markdown",
      "source": [
        "## Definición de la clase PlayerClusterer"
      ],
      "metadata": {
        "id": "9DVsFepYcPLQ"
      }
    },
    {
      "cell_type": "code",
      "source": [
        "class PlayerClusterer:\n",
        "  \"\"\"\n",
        "  Clase para agrupar jugadores en clusters utilizando el algoritmo K-Means.\n",
        "\n",
        "  Args:\n",
        "    n_clusters (int): Número de clusters a formar.\n",
        "  \"\"\"\n",
        "  def __init__(self):\n",
        "    self.n_clusters = None\n",
        "    self.model = None\n",
        "    self.players = None\n",
        "    self.labels = None\n",
        "  def fit(self, players:list, n_clusters):\n",
        "    \"\"\"\n",
        "    Entrena un modelo K-Means con los datos de los jugadores.\n",
        "\n",
        "    Args:\n",
        "      players (list): Lista de objetos Player.\n",
        "      n_clusters (int): Número de clusters a formar.\n",
        "    \"\"\"\n",
        "    self.n_clusters = n_clusters\n",
        "    self.players = players\n",
        "    data = np.array([player.to_vector() for player in players])\n",
        "    self.model = KMeans(n_clusters=n_clusters)\n",
        "    self.model.fit(data)\n",
        "    self.labels = self.model.labels_\n",
        "  def predict(self, player:Player) -> int:\n",
        "    \"\"\"\n",
        "    Devuelve el número de cluster al que pertenece un nuevo jugador.\n",
        "\n",
        "    Args:\n",
        "      player (Player): Objeto Player.\n",
        "    Returns:\n",
        "      int: Número de cluster al que pertenece el jugador.\n",
        "    \"\"\"\n",
        "    return self.model.predict(player.to_vector().reshape(1, -1))[0]\n",
        "\n",
        "  def get_cluster_centers(self):\n",
        "    \"\"\"\n",
        "    Devuelve los centros de los clusters.\n",
        "\n",
        "    Returns:\n",
        "      np.ndarray: Array con los centros de los clusters.\n",
        "    \"\"\"\n",
        "    return self.model.cluster_centers_\n",
        "\n",
        "  def print_cluster_summary(self, players:list):\n",
        "    \"\"\"\n",
        "    Imprime qué jugadores hay en cada grupo.\n",
        "\n",
        "    Args:\n",
        "      players (list): Lista de objetos Player.\n",
        "    \"\"\"\n",
        "    for i in range(self.n_clusters):\n",
        "      print(f\"Cluster {i}:\")\n",
        "      for player in players:\n",
        "        if self.predict(player) == i:\n",
        "          print(f\"  - {player.name}\")"
      ],
      "metadata": {
        "id": "F96uJLNzdpKT"
      },
      "execution_count": 8,
      "outputs": []
    },
    {
      "cell_type": "markdown",
      "source": [
        "## Definición de la clase GameAnalytics"
      ],
      "metadata": {
        "id": "JBv59C7UcVtI"
      }
    },
    {
      "cell_type": "code",
      "source": [
        "class GameAnalytics:\n",
        "  \"\"\"\n",
        "  Clase para analizar los datos de los jugadores y agruparlos en clusters.\n",
        "  \"\"\"\n",
        "  def __init__(self):\n",
        "    self.players = []\n",
        "    self.clusterer = PlayerClusterer()\n",
        "  def run(self):\n",
        "    \"\"\"\n",
        "    Ejecuta el análisis de los datos de los jugadores y agrupalos en clusters.\n",
        "    \"\"\"\n",
        "    data = [\n",
        "              (\"Alice\", 2.5, 100, 0.85, 0.3),\n",
        "              (\"Bob\", 1.0, 20, 0.60, 0.7),\n",
        "              (\"Charlie\", 3.0, 150, 0.9, 0.2),\n",
        "              (\"Diana\", 0.8, 15, 0.55, 0.9),\n",
        "              (\"Eve\", 2.7, 120, 0.88, 0.25),\n",
        "              (\"Frank\", 1.1, 30, 0.62, 0.65),\n",
        "              (\"Grace\", 0.9, 18, 0.58, 0.85),\n",
        "              (\"Hank\", 3.2, 160, 0.91, 0.15)\n",
        "    ]\n",
        "    for player in data:\n",
        "      self.players.append(Player(player[0], player[1], player[2], player[3], player[4]))\n",
        "    self.clusterer.fit(self.players, 3)\n",
        "    self.clusterer.print_cluster_summary(self.players)\n",
        "    print(f\"Cluster del jugador Zoe: {self.clusterer.predict(Player('Zoe', 1.5, 45, 0.65, 0.5))}\")"
      ],
      "metadata": {
        "id": "K6PEYj6Vfphp"
      },
      "execution_count": 9,
      "outputs": []
    },
    {
      "cell_type": "markdown",
      "source": [
        "## Ejemplo de uso"
      ],
      "metadata": {
        "id": "5Y1VzTUhcf4e"
      }
    },
    {
      "cell_type": "code",
      "source": [
        "analytics = GameAnalytics()\n",
        "analytics.run()"
      ],
      "metadata": {
        "colab": {
          "base_uri": "https://localhost:8080/"
        },
        "id": "aSdDu_5OcnXw",
        "outputId": "b285ab21-44ec-4a53-9cb0-e94d0fb82528"
      },
      "execution_count": 10,
      "outputs": [
        {
          "output_type": "stream",
          "name": "stdout",
          "text": [
            "Cluster 0:\n",
            "  - Bob\n",
            "  - Diana\n",
            "  - Frank\n",
            "  - Grace\n",
            "Cluster 1:\n",
            "  - Charlie\n",
            "  - Hank\n",
            "Cluster 2:\n",
            "  - Alice\n",
            "  - Eve\n",
            "Cluster del jugador Zoe: 0\n"
          ]
        }
      ]
    }
  ]
}