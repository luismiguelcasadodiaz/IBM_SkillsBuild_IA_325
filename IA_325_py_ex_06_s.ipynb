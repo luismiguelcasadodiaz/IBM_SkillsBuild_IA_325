{
  "nbformat": 4,
  "nbformat_minor": 0,
  "metadata": {
    "colab": {
      "provenance": [],
      "authorship_tag": "ABX9TyPnf11GG63qSpJvfEUzb58I",
      "include_colab_link": true
    },
    "kernelspec": {
      "name": "python3",
      "display_name": "Python 3"
    },
    "language_info": {
      "name": "python"
    }
  },
  "cells": [
    {
      "cell_type": "markdown",
      "metadata": {
        "id": "view-in-github",
        "colab_type": "text"
      },
      "source": [
        "<a href=\"https://colab.research.google.com/github/luismiguelcasadodiaz/IBM_SkillsBuild_IA_325/blob/main/IA_325_py_ex_06_s.ipynb\" target=\"_parent\"><img src=\"https://colab.research.google.com/assets/colab-badge.svg\" alt=\"Open In Colab\"/></a>"
      ]
    },
    {
      "cell_type": "markdown",
      "source": [
        "Crea un array unidimensional con 9 valroes enteros aleatorios entre 0 y 100"
      ],
      "metadata": {
        "id": "nrcl7zrMhGy2"
      }
    },
    {
      "cell_type": "code",
      "source": [
        "import numpy as np\n",
        "vector_9 = np.random.randint(0, 100, 9)\n",
        "vector_9"
      ],
      "metadata": {
        "id": "xQ6VRqfYhk6M",
        "colab": {
          "base_uri": "https://localhost:8080/"
        },
        "outputId": "133fe656-4f41-44b2-a434-7c09cd6483dd"
      },
      "execution_count": 2,
      "outputs": [
        {
          "output_type": "execute_result",
          "data": {
            "text/plain": [
              "array([24,  1, 93, 20, 69,  4, 12,  4, 86])"
            ]
          },
          "metadata": {},
          "execution_count": 2
        }
      ]
    },
    {
      "cell_type": "markdown",
      "source": [
        "Convierte el array unidimensional en una matriz 3 x 3"
      ],
      "metadata": {
        "id": "3ge3dnlyhHNi"
      }
    },
    {
      "cell_type": "code",
      "source": [
        "matriz_3x3 = vector_9.reshape(3, 3)\n",
        "matriz_3x3"
      ],
      "metadata": {
        "id": "y5p0ScX-hlWC",
        "colab": {
          "base_uri": "https://localhost:8080/"
        },
        "outputId": "b8756849-aef4-4ec9-dcdf-f5c8a4a9f9d2"
      },
      "execution_count": 3,
      "outputs": [
        {
          "output_type": "execute_result",
          "data": {
            "text/plain": [
              "array([[24,  1, 93],\n",
              "       [20, 69,  4],\n",
              "       [12,  4, 86]])"
            ]
          },
          "metadata": {},
          "execution_count": 3
        }
      ]
    },
    {
      "cell_type": "markdown",
      "source": [
        "Muestra el valor del elemento de la posición inferior derecha"
      ],
      "metadata": {
        "id": "_G8vk4XbhHjA"
      }
    },
    {
      "cell_type": "code",
      "source": [
        "print(matriz_3x3[2, 2])"
      ],
      "metadata": {
        "id": "4U7hflSahl1t",
        "colab": {
          "base_uri": "https://localhost:8080/"
        },
        "outputId": "4452c719-da5f-40d0-d8da-c5cb7fa114bb"
      },
      "execution_count": 6,
      "outputs": [
        {
          "output_type": "stream",
          "name": "stdout",
          "text": [
            "86\n"
          ]
        }
      ]
    }
  ]
}