{
  "nbformat": 4,
  "nbformat_minor": 0,
  "metadata": {
    "colab": {
      "provenance": [],
      "authorship_tag": "ABX9TyNFEnYuubbHxLdfJS/OsC8M",
      "include_colab_link": true
    },
    "kernelspec": {
      "name": "python3",
      "display_name": "Python 3"
    },
    "language_info": {
      "name": "python"
    }
  },
  "cells": [
    {
      "cell_type": "markdown",
      "metadata": {
        "id": "view-in-github",
        "colab_type": "text"
      },
      "source": [
        "<a href=\"https://colab.research.google.com/github/luismiguelcasadodiaz/IBM_SkillsBuild_IA_325/blob/main/IA_325_py_cod_ex_25.ipynb\" target=\"_parent\"><img src=\"https://colab.research.google.com/assets/colab-badge.svg\" alt=\"Open In Colab\"/></a>"
      ]
    },
    {
      "cell_type": "markdown",
      "source": [
        "# Recomendador de canciones inteligente\n",
        "\n",
        "## 🧠 Contexto\n",
        "\n",
        "Estás desarrollando un sistema para una plataforma musical que quiere ofrecer **recomendaciones automáticas** basadas en características cuantitativas de las canciones, como su energía o duración.\n",
        "\n",
        "Utilizarás el algoritmo **K-Nearest Neighbors (KNN)** de la biblioteca scikit-learn para encontrar las canciones más similares a una canción objetivo.\n",
        "\n",
        "\n",
        "\n",
        "## 🎯 Objetivo del ejercicio\n",
        "\n",
        "Implementar un sistema de recomendación de canciones en Python, usando el modelo de K Vecinos Más Cercanos de scikit-learn.\n",
        "\n",
        "El sistema debe permitir recomendar canciones similares a partir de características musicales numéricas.\n",
        "\n",
        "\n",
        "\n",
        "## 📌 Requisitos\n",
        "\n",
        "+ 🧩 1. Clase Song: Represente una canción.\n",
        "  + Atributos:\n",
        "\n",
        "    + title (str): título de la canción.\n",
        "    + artist (str): artista o grupo musical.\n",
        "    + energy (float): energía de la canción (0.4 a 1.0).\n",
        "    + danceability (float): cuán bailable es la canción (0.4 a 1.0).\n",
        "    + duration (int): duración en segundos (180 a 300).\n",
        "    + popularity (int): nivel de popularidad (50 a 100).\n",
        "\n",
        "  + Métodos:\n",
        "    + to_vector(): que devuelva una lista con los valores [energy, danceability, duration, popularity].\n",
        "\n",
        "    + `__str__()`: que permita imprimir la canción en formato \"Song Title by Artist\".\n",
        "\n",
        "\n",
        "\n",
        "+ 🤖 2. Clase SongRecommender: Usa el algoritmo de KNN de scikit-learn:\n",
        "\n",
        "  + Atributos\n",
        "    + k :número de vecinos a considerar\n",
        "  + Métodos:\n",
        "    + fit(song_list) debe:\n",
        "      + Convertir la lista de canciones en una matriz de características numéricas.\n",
        "      + Ajustar el modelo NearestNeighbors con estas características.\n",
        "    + recommend(target_song) debe:\n",
        "      + Obtener los k vecinos más cercanos a la canción objetivo y Devolver la lista de canciones recomendadas (sin incluir la propia canción objetivo si aparece).\n",
        "\n",
        "\n",
        "\n",
        "+ 🔁 3. Clase SongGenerator\n",
        "  + Atributos\n",
        "    + num_songs: (por defecto 30).\n",
        "  + Métodos\n",
        "    + generate(): genera canciones aleatorias con numpy, usando nombres como \"Song1\", \"Song2\", etc., y artistas \"Artist1\", \"Artist2\", etc.\n",
        "\n",
        "\n",
        "\n",
        "+ 🧪 4. Clase SongRecommendationExample\n",
        "\n",
        "  + Genere una lista de canciones con SongGenerator.\n",
        "  + Defina una canción personalizada como objetivo (target_song).\n",
        "  + Cree una instancia de SongRecommender, la entrene con las canciones y obtenga recomendaciones.\n",
        "  + Imprima por pantalla las canciones recomendadas.\n",
        "\n",
        "\n",
        "\n",
        "## Ejemplo de salida:\n",
        "```python\n",
        "example = SongRecommendationExample()\n",
        "example.run()\n",
        "```\n",
        "\n",
        "\n",
        "## Salida esperada\n",
        "\n",
        "🎵 Recomendaciones para 'Mi Canción':\n",
        " - Song29 by Artist4\n",
        " - Song11 by Artist1\n",
        " - Song25 by Artist5\n",
        "\n",
        "\n",
        "## 💡 Recomendaciones para completar el ejercicio\n",
        "\n",
        "+ Usa numpy para generar valores aleatorios.\n",
        "+ Recuerda importar NearestNeighbors desde sklearn.neighbors.\n",
        "+ Asegúrate de convertir los objetos Song a vectores antes de ajustar o predecir con el modelo.\n",
        "+ No incluyas la canción objetivo entre las recomendaciones (verifica si es necesario).\n",
        "\n"
      ],
      "metadata": {
        "id": "XZXqvo6rvVEH"
      }
    },
    {
      "cell_type": "code",
      "execution_count": null,
      "metadata": {
        "id": "iKXGi5WEvSPM"
      },
      "outputs": [],
      "source": []
    }
  ]
}