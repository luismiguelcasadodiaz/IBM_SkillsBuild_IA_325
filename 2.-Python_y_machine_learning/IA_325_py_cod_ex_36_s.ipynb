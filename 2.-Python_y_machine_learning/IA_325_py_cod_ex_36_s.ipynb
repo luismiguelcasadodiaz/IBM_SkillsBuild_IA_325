{
  "nbformat": 4,
  "nbformat_minor": 0,
  "metadata": {
    "colab": {
      "provenance": [],
      "authorship_tag": "ABX9TyN4cuEOuriUuZRe/19Yew4B",
      "include_colab_link": true
    },
    "kernelspec": {
      "name": "python3",
      "display_name": "Python 3"
    },
    "language_info": {
      "name": "python"
    }
  },
  "cells": [
    {
      "cell_type": "markdown",
      "metadata": {
        "id": "view-in-github",
        "colab_type": "text"
      },
      "source": [
        "<a href=\"https://colab.research.google.com/github/luismiguelcasadodiaz/IBM_SkillsBuild_IA_325/blob/main/IA_325_py_cod_ex_36_s.ipynb\" target=\"_parent\"><img src=\"https://colab.research.google.com/assets/colab-badge.svg\" alt=\"Open In Colab\"/></a>"
      ]
    },
    {
      "cell_type": "markdown",
      "source": [
        "# SVM - Máquinas de vectores de soporte\n",
        "\n",
        "## Objetivo\n",
        "\n",
        "El objetivo es implementar una función que:\n",
        "\n",
        "  + 1.- Entrene un modelo de Máquina de Soporte Vectorial (SVM) usando SVC de sklearn.svm.\n",
        "  + 2.- Realice predicciones en un conjunto de prueba.\n",
        "  + 3.- Evalúe el modelo con las siguientes métricas:\n",
        "      + Precisión (accuracy_score).\n",
        "      + Matriz de confusión (confusion_matrix).\n",
        "      + Reporte de clasificación (classification_report).\n",
        "  + 4.- Devuelva los resultados en un diccionario.\n",
        "  + 5.- Supervise la implementación con pruebas unitarias (unittest).\n",
        "\n",
        "\n",
        "## Instrucciones\n",
        "\n",
        "  + 1.- Implementa una función llamada entrenar_y_evaluar_svm(X_train, y_train, X_test, y_test) que:\n",
        "\n",
        "    + Entrene un modelo SVC(kernel='rbf', C=10.0, gamma='scale', random_state=42).\n",
        "    + Prediga los valores de X_test.\n",
        "    + Calcule las métricas de evaluación mencionadas.\n",
        "    + Devuelva un diccionario con:\n",
        "      + \"predicciones\": Array de predicciones del modelo.\n",
        "      + \"accuracy\": Precisión del modelo en los datos de prueba.\n",
        "      + \"matriz_confusion\": Matriz de confusión.\n",
        "      + \"reporte\": Reporte de clasificación.\n",
        "\n",
        "  + 2.- Usa el dataset de digits de sklearn.datasets, que contiene imágenes de números escritos a mano.\n",
        "\n",
        "  + 3.- Asegúrate de que el modelo tenga al menos 90% de precisión en los datos de prueba.\n",
        "\n",
        "\n",
        "\n",
        "## Ejemplo de Uso\n",
        "\n",
        "Una vez que la función esté implementada, el siguiente código debería ejecutarse correctamente:\n",
        "\n",
        "```python\n",
        "\n",
        "from sklearn.datasets import load_digits\n",
        "from sklearn.model_selection import train_test_split\n",
        "import numpy as np\n",
        "\n",
        "# Cargar el dataset de dígitos escritos a mano\n",
        "digits = load_digits()\n",
        "X = digits.data  # Características (matriz de píxeles)\n",
        "y = digits.target  # Etiquetas (números del 0 al 9)\n",
        "\n",
        "# Dividir en conjunto de entrenamiento (80%) y prueba (20%)\n",
        "X_train, X_test, y_train, y_test = train_test_split(X, y, test_size=0.2, random_state=42)\n",
        "\n",
        "# Llamar a la función y obtener las métricas\n",
        "resultados = entrenar_y_evaluar_svm(X_train, y_train, X_test, y_test)\n",
        "\n",
        "# Mostrar los resultados\n",
        "print(\"Precisión del modelo:\", resultados[\"accuracy\"])\n",
        "print(\"Matriz de Confusión:\\n\", resultados[\"matriz_confusion\"])\n",
        "print(\"Reporte de Clasificación:\\n\", resultados[\"reporte\"])\n",
        "```\n",
        "\n",
        "\n",
        "## Salida esperada (aproximada)\n",
        "\n",
        "```python\n",
        "\n",
        "Precisión del modelo: 0.9861111111111112\n",
        "Matriz de Confusión:\n",
        " [[33  0  0  0  0  0  0  0  0  0]\n",
        " [ 0 28  0  0  0  0  0  0  0  0]\n",
        " [ 0  0 33  0  0  0  0  0  0  0]\n",
        " [ 0  0  0 33  0  1  0  0  0  0]\n",
        " [ 0  0  0  0 46  0  0  0  0  0]\n",
        " [ 0  0  0  0  0 46  1  0  0  0]\n",
        " [ 0  0  0  0  0  0 35  0  0  0]\n",
        " [ 0  0  0  0  0  0  0 33  0  1]\n",
        " [ 0  0  0  0  0  1  0  0 29  0]\n",
        " [ 0  0  0  0  0  0  0  1  0 39]]\n",
        "Reporte de Clasificación:\n",
        "               precision    recall  f1-score   support\n",
        "\n",
        "           0       1.00      1.00      1.00        33\n",
        "           1       1.00      1.00      1.00        28\n",
        "           2       1.00      1.00      1.00        33\n",
        "           3       1.00      0.97      0.99        34\n",
        "           4       1.00      1.00      1.00        46\n",
        "           5       0.96      0.98      0.97        47\n",
        "           6       0.97      1.00      0.99        35\n",
        "           7       0.97      0.97      0.97        34\n",
        "           8       1.00      0.97      0.98        30\n",
        "           9       0.97      0.97      0.97        40\n",
        "\n",
        "    accuracy                           0.99       360\n",
        "   macro avg       0.99      0.99      0.99       360\n",
        "weighted avg       0.99      0.99      0.99       360\n",
        "```"
      ],
      "metadata": {
        "id": "8fh-m-jQ8cvf"
      }
    },
    {
      "cell_type": "markdown",
      "source": [
        "## Importación de las librerías"
      ],
      "metadata": {
        "id": "Fvn5kFOHIpiR"
      }
    },
    {
      "cell_type": "code",
      "execution_count": 29,
      "metadata": {
        "id": "Lcv0r-nI7lTN"
      },
      "outputs": [],
      "source": [
        "import numpy as np\n",
        "import matplotlib.pyplot as plt\n",
        "\n",
        "from sklearn.datasets import load_digits\n",
        "\n",
        "\n",
        "from sklearn.svm import SVC\n",
        "from sklearn.metrics import accuracy_score, confusion_matrix, classification_report\n",
        "from sklearn.model_selection import train_test_split\n"
      ]
    },
    {
      "cell_type": "markdown",
      "source": [
        "## Definición de la función solicitada\n"
      ],
      "metadata": {
        "id": "ZFdya6C1MVw7"
      }
    },
    {
      "cell_type": "code",
      "source": [
        "def entrenar_y_evaluar_svm(X_train, y_train, X_test, y_test):\n",
        "    resultados ={}\n",
        "    # Crear y entrenar el modelo SVC\n",
        "    modelo_svm = SVC(kernel='rbf', C=10.0, gamma='scale', random_state=42)\n",
        "    modelo_svm.fit(X_train, y_train)\n",
        "    y_pred = modelo_svm.predict(X_test)\n",
        "\n",
        "    # Calcular las métricas\n",
        "    resultados[\"predicciones\"] = y_pred\n",
        "    resultados[\"accuracy\"] = accuracy_score(y_test, y_pred)\n",
        "    resultados[\"matriz_confusion\"] = confusion_matrix(y_test, y_pred)\n",
        "    resultados[\"reporte\"] = classification_report(y_test, y_pred)\n",
        "    return resultados"
      ],
      "metadata": {
        "id": "idroDqjmMVeE"
      },
      "execution_count": 30,
      "outputs": []
    },
    {
      "cell_type": "markdown",
      "source": [
        "## Importación de los datos"
      ],
      "metadata": {
        "id": "DbXHWSvgIvBq"
      }
    },
    {
      "cell_type": "code",
      "source": [
        "digits = load_digits()\n",
        "X = digits.data\n",
        "y = digits.target"
      ],
      "metadata": {
        "id": "xvBsUIC4I0bw"
      },
      "execution_count": 31,
      "outputs": []
    },
    {
      "cell_type": "code",
      "source": [
        "print(digits.data.shape)\n",
        "(1797, 64)\n",
        "fig, axes = plt.subplots(2, 5, figsize=(10, 5))\n",
        "plt.gray()\n",
        "for i, ax in enumerate(axes.flat):\n",
        "    ax.matshow(digits.images[i], cmap=plt.cm.gray)\n",
        "    ax.set_xticks([])\n",
        "    ax.set_yticks([])\n",
        "plt.tight_layout()\n",
        "plt.show()"
      ],
      "metadata": {
        "colab": {
          "base_uri": "https://localhost:8080/",
          "height": 458
        },
        "id": "aKZWJVUNJu07",
        "outputId": "c5b92b1e-e111-44e3-f1de-4043a2dc2149"
      },
      "execution_count": 32,
      "outputs": [
        {
          "output_type": "stream",
          "name": "stdout",
          "text": [
            "(1797, 64)\n"
          ]
        },
        {
          "output_type": "display_data",
          "data": {
            "text/plain": [
              "<Figure size 1000x500 with 10 Axes>"
            ],
            "image/png": "[encoded data removed]"
          },
          "metadata": {}
        }
      ]
    },
    {
      "cell_type": "markdown",
      "source": [
        "### 10 ejemplos del dataset"
      ],
      "metadata": {
        "id": "jhWENO4PME0Y"
      }
    },
    {
      "cell_type": "code",
      "source": [
        "fig, axes = plt.subplots(2, 5, figsize=(10, 5))\n",
        "plt.gray()\n",
        "for i, ax in enumerate(axes.flat):\n",
        "    ax.matshow( X[np.random.randint(0, digits.data.shape[0])].reshape(8,8)  \\\n",
        "               , cmap=plt.cm.gray)\n",
        "    ax.set_xticks([])\n",
        "    ax.set_yticks([])\n",
        "plt.tight_layout()\n",
        "plt.show()"
      ],
      "metadata": {
        "colab": {
          "base_uri": "https://localhost:8080/",
          "height": 440
        },
        "id": "Z3Xw7RasJR7s",
        "outputId": "3508b0ea-0898-4fbc-b1c1-ef95e7db9dae"
      },
      "execution_count": 33,
      "outputs": [
        {
          "output_type": "display_data",
          "data": {
            "text/plain": [
              "<Figure size 1000x500 with 10 Axes>"
            ],
            "image/png": "[encoded data removed]"
          },
          "metadata": {}
        }
      ]
    },
    {
      "cell_type": "code",
      "source": [
        "# Separación de los datos en entrenamiento y prueba\n",
        "\n",
        "X_train, X_test, y_train, y_test = train_test_split(X, y, test_size=0.2, random_state=42)\n",
        "\n",
        "# Llamar a la función y obtener las métricas\n",
        "resultados = entrenar_y_evaluar_svm(X_train, y_train, X_test, y_test)\n",
        "\n",
        "# Mostrar los resultados\n",
        "print(\"Precisión del modelo:\", resultados[\"accuracy\"])\n",
        "print(\"Matriz de Confusión:\\n\", resultados[\"matriz_confusion\"])\n",
        "print(\"Reporte de Clasificación:\\n\", resultados[\"reporte\"])"
      ],
      "metadata": {
        "colab": {
          "base_uri": "https://localhost:8080/"
        },
        "id": "A0_UhW_aJThp",
        "outputId": "2d6b589f-8262-4dac-9352-e118c8a608e6"
      },
      "execution_count": 34,
      "outputs": [
        {
          "output_type": "stream",
          "name": "stdout",
          "text": [
            "Precisión del modelo: 0.9861111111111112\n",
            "Matriz de Confusión:\n",
            " [[33  0  0  0  0  0  0  0  0  0]\n",
            " [ 0 28  0  0  0  0  0  0  0  0]\n",
            " [ 0  0 33  0  0  0  0  0  0  0]\n",
            " [ 0  0  0 33  0  1  0  0  0  0]\n",
            " [ 0  0  0  0 46  0  0  0  0  0]\n",
            " [ 0  0  0  0  0 46  1  0  0  0]\n",
            " [ 0  0  0  0  0  0 35  0  0  0]\n",
            " [ 0  0  0  0  0  0  0 33  0  1]\n",
            " [ 0  0  0  0  0  1  0  0 29  0]\n",
            " [ 0  0  0  0  0  0  0  1  0 39]]\n",
            "Reporte de Clasificación:\n",
            "               precision    recall  f1-score   support\n",
            "\n",
            "           0       1.00      1.00      1.00        33\n",
            "           1       1.00      1.00      1.00        28\n",
            "           2       1.00      1.00      1.00        33\n",
            "           3       1.00      0.97      0.99        34\n",
            "           4       1.00      1.00      1.00        46\n",
            "           5       0.96      0.98      0.97        47\n",
            "           6       0.97      1.00      0.99        35\n",
            "           7       0.97      0.97      0.97        34\n",
            "           8       1.00      0.97      0.98        30\n",
            "           9       0.97      0.97      0.97        40\n",
            "\n",
            "    accuracy                           0.99       360\n",
            "   macro avg       0.99      0.99      0.99       360\n",
            "weighted avg       0.99      0.99      0.99       360\n",
            "\n"
          ]
        }
      ]
    }
  ]
}