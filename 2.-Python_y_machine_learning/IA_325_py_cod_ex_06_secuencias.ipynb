{
  "nbformat": 4,
  "nbformat_minor": 0,
  "metadata": {
    "colab": {
      "provenance": [],
      "authorship_tag": "ABX9TyPMGTfbhAx/v/EBK1AmoLuo",
      "include_colab_link": true
    },
    "kernelspec": {
      "name": "python3",
      "display_name": "Python 3"
    },
    "language_info": {
      "name": "python"
    }
  },
  "cells": [
    {
      "cell_type": "markdown",
      "metadata": {
        "id": "view-in-github",
        "colab_type": "text"
      },
      "source": [
        "<a href=\"https://colab.research.google.com/github/luismiguelcasadodiaz/IBM_SkillsBuild_IA_325/blob/main/IA_325_py_cod_ex_06.ipynb\" target=\"_parent\"><img src=\"https://colab.research.google.com/assets/colab-badge.svg\" alt=\"Open In Colab\"/></a>"
      ]
    },
    {
      "cell_type": "markdown",
      "source": [
        "# Generar una Secuencia de Números\n",
        "\n",
        "+ Desarrolla una función llamada generar_secuencia_numerica\n",
        "  + Tome como entrada\n",
        "    + Un valor mínimo minimo.\n",
        "    + Un valor máximo maximo.\n",
        "    + Un paso paso.\n",
        "  + Generar una secuencia de números en el rango [minimo, maximo) con el paso especificado.\n",
        "\n",
        "\n",
        "\n",
        "def generar_secuencia_numerica(minimo, maximo, paso):\n",
        "\n",
        "   \n",
        "\n",
        "# Ejemplo de uso\n",
        "```python\n",
        "minimo = 0\n",
        "maximo = 10\n",
        "paso = 2\n",
        "resultado = generar_secuencia_numerica(minimo, maximo, paso)\n",
        "print(resultado)\n",
        "```\n",
        "\n",
        "Resultado\n",
        "\n",
        "[0 2 4 6 8]\n",
        "\n",
        "\n",
        "Tipo de datos del resultado\n",
        "\n",
        "type(resultado)\n",
        "\n",
        "\n",
        "\n",
        "numpy.ndarray\n"
      ],
      "metadata": {
        "id": "bqrGmGjVrprX"
      }
    },
    {
      "cell_type": "code",
      "source": [],
      "metadata": {
        "id": "X37a1XILsCvm"
      },
      "execution_count": null,
      "outputs": []
    }
  ]
}