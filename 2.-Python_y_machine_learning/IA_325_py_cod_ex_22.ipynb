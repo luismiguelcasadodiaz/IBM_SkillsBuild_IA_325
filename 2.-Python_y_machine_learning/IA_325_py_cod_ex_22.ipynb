{
  "nbformat": 4,
  "nbformat_minor": 0,
  "metadata": {
    "colab": {
      "provenance": [],
      "authorship_tag": "ABX9TyPO6Cavq1Y4tV6+ICfknPeZ",
      "include_colab_link": true
    },
    "kernelspec": {
      "name": "python3",
      "display_name": "Python 3"
    },
    "language_info": {
      "name": "python"
    }
  },
  "cells": [
    {
      "cell_type": "markdown",
      "metadata": {
        "id": "view-in-github",
        "colab_type": "text"
      },
      "source": [
        "<a href=\"https://colab.research.google.com/github/luismiguelcasadodiaz/IBM_SkillsBuild_IA_325/blob/main/IA_325_py_cod_ex_22.ipynb\" target=\"_parent\"><img src=\"https://colab.research.google.com/assets/colab-badge.svg\" alt=\"Open In Colab\"/></a>"
      ]
    },
    {
      "cell_type": "markdown",
      "source": [
        "# K Vecinos Más Cercanos para Clasificación\n",
        "En este ejercicio debes desarrollar una función que aplique el algoritmo de los k vecinos más cercanos (KNN) para un problema de clasificación.\n",
        "\n",
        "Supongamos que tienes un conjunto de datos que contiene información sobre diferentes tipos de flores, y deseas predecir el tipo de flor en función de las características de pétalos y sépalos.\n",
        "\n",
        "Utilizaremos el conjunto de datos Iris, que es un conjunto de datos de clasificación ampliamente utilizado en el aprendizaje automático.\n",
        "\n",
        "\n",
        "\n",
        "def knn_clasificacion(datos, k=3):\n",
        "\n",
        "\n",
        "\n",
        "## Ejemplo de uso con el conjunto de datos Iris\n",
        "\n",
        "```python\n",
        "data = pd.read_csv('iris.csv')  # Reemplaza 'iris.csv' con tu archivo de datos\n",
        "modelo_knn = knn_clasificacion(data, k=3)\n",
        "```\n",
        "\n",
        "## Estimaciones de clasificación para nuevas muestras\n",
        "\n",
        "```python\n",
        "\n",
        "nuevas_muestras = pd.DataFrame({\n",
        "    'LargoSepalo': [5.1, 6.0, 4.4],\n",
        "    'AnchoSepalo': [3.5, 2.9, 3.2],\n",
        "    'LargoPetalo': [1.4, 4.5, 1.3],\n",
        "    'AnchoPetalo': [0.2, 1.5, 0.2]\n",
        "})\n",
        "\n",
        "estimaciones_clasificacion = modelo_knn.predict(nuevas_muestras)\n",
        "print(\"Estimaciones de Clasificación:\")\n",
        "print(estimaciones_clasificacion)\n",
        "\n",
        "```\n",
        "## Resultados:\n",
        "\n",
        "\n",
        "\n",
        "Estimaciones de Clasificación:\n",
        "['setosa' 'versicolor' 'setosa']"
      ],
      "metadata": {
        "id": "HPyD7bfURGET"
      }
    },
    {
      "cell_type": "code",
      "source": [],
      "metadata": {
        "id": "Hx_XxogeST2r"
      },
      "execution_count": null,
      "outputs": []
    }
  ]
}