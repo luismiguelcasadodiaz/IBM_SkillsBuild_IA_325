{
  "nbformat": 4,
  "nbformat_minor": 0,
  "metadata": {
    "colab": {
      "provenance": [],
      "authorship_tag": "ABX9TyN1Zb6UZZbHnhq7VcHdpt8M",
      "include_colab_link": true
    },
    "kernelspec": {
      "name": "python3",
      "display_name": "Python 3"
    },
    "language_info": {
      "name": "python"
    }
  },
  "cells": [
    {
      "cell_type": "markdown",
      "metadata": {
        "id": "view-in-github",
        "colab_type": "text"
      },
      "source": [
        "<a href=\"https://colab.research.google.com/github/luismiguelcasadodiaz/IBM_SkillsBuild_IA_325/blob/main/IA_325_py_cod_ex_05.ipynb\" target=\"_parent\"><img src=\"https://colab.research.google.com/assets/colab-badge.svg\" alt=\"Open In Colab\"/></a>"
      ]
    },
    {
      "cell_type": "markdown",
      "source": [
        "# Numeros aleatorios entre un valor mínimo y un máximo\n",
        "\n",
        "Generar N números aleatorios enteros entre un valor mínimo y máximo\n",
        "+ Desarrolla una función llamada generar_numeros_enteros_aleatorios.\n",
        "  + Toma como entrada:\n",
        "    + El número de elementos N.\n",
        "    + Un valor mínimo minimo.\n",
        "    + Un valor máximo maximo.\n",
        "  + Utilice NumPy para generar una lista de N números enteros aleatorios en el rango [minimo, maximo].\n",
        "\n",
        "\n",
        "\n",
        "def generar_numeros_enteros_aleatorios(N, minimo, maximo):\n",
        "\n",
        "\n",
        "\n",
        "# Ejemplo de uso\n",
        "```python\n",
        "N = 5\n",
        "minimo = 1\n",
        "maximo = 10\n",
        "resultado = generar_numeros_enteros_aleatorios(N, minimo, maximo)\n",
        "print(resultado)\n",
        "````\n",
        "\n",
        "Resultado:\n",
        "\n",
        "[4, 10, 1, 8, 2]"
      ],
      "metadata": {
        "id": "SwswijEpjFQh"
      }
    },
    {
      "cell_type": "code",
      "source": [],
      "metadata": {
        "id": "k30bM9Zjjpah"
      },
      "execution_count": null,
      "outputs": []
    }
  ]
}