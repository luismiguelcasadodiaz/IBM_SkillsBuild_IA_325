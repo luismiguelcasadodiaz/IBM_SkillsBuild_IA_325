{
  "nbformat": 4,
  "nbformat_minor": 0,
  "metadata": {
    "colab": {
      "provenance": [],
      "authorship_tag": "ABX9TyPYhhUFp3YaKl9yp+yA6Cje",
      "include_colab_link": true
    },
    "kernelspec": {
      "name": "python3",
      "display_name": "Python 3"
    },
    "language_info": {
      "name": "python"
    }
  },
  "cells": [
    {
      "cell_type": "markdown",
      "metadata": {
        "id": "view-in-github",
        "colab_type": "text"
      },
      "source": [
        "<a href=\"https://colab.research.google.com/github/luismiguelcasadodiaz/IBM_SkillsBuild_IA_325/blob/main/IA_325_py_cod_ex_37_s.ipynb\" target=\"_parent\"><img src=\"https://colab.research.google.com/assets/colab-badge.svg\" alt=\"Open In Colab\"/></a>"
      ]
    },
    {
      "cell_type": "markdown",
      "source": [
        "# Detectar jugadores con potencial profesional  con SVM\n",
        "\n",
        "🧠 Contexto:\n",
        "\n",
        "Imagina que trabajas en una plataforma de eSports y tu equipo está desarrollando un sistema de scouting para detectar **jugadores con potencial profesional** en base a sus estadísticas de juego.\n",
        "\n",
        "Tu tarea es construir un **modelo de clasificación usando SVM (Support Vector Machine)** que, dada la información de un jugador, prediga si tiene el perfil de **jugador profesional** (1) o **casual** (0).\n",
        "\n",
        "## 📋 Objetivo del ejercicio\n",
        "\n",
        "Implementar un clasificador que:\n",
        "\n",
        "+ Use datos simulados de jugadores (partidas ganadas, horas jugadas, precisión, velocidad de reacción, estrategia).\n",
        "\n",
        "+ Entrene un modelo de SVM con scikit-learn.\n",
        "\n",
        "+ Clasifique a nuevos jugadores como “profesional” o “casual”.\n",
        "\n",
        "+ Evalúe el rendimiento del modelo utilizando la métrica de precisión (accuracy_score).\n",
        "\n",
        "📁 Datos de entrada:\n",
        "\n",
        "Cada jugador se representa con las siguientes características (todas normalizadas entre 0 y 1):\n",
        "\n",
        "|**Atributo**|**Descripción**|\n",
        "|-|-|\n",
        "|win_rate|Porcentaje de partidas ganadas|\n",
        "|hours_played|Total de horas jugadas|\n",
        "|accuracy|Precisión al disparar|\n",
        "|reaction_time|Velocidad de reaccion (menor, mejor)|\n",
        "|strategic_play|Capacidad de planificación estratégica|\n",
        "\n",
        "\n",
        "\n",
        "## 🧪 Ejemplo de datos\n",
        "\n",
        "```python\n",
        "simulator = GameSimulator()\n",
        "simulator.run()\n",
        "```\n",
        "\n",
        "##Salida esperada\n",
        "\n",
        "```python\n",
        "Jugador profesional:\n",
        "Precisión del modelo: 1.00\n",
        "```\n",
        "\n",
        "🛠️ Tareas a realizar:\n",
        "\n",
        "  + 1.- Implementa la clase ProPlayerClassifier con los métodos:\n",
        "    + train(X, y) para entrenar el modelo.\n",
        "    + predict(player_stats) para predecir si un jugador es profesional.\n",
        "    + evaluate(X_test, y_test): evalúa el modelo con precisión.\n",
        "  + 2.- Usa sklearn.svm.SVC como modelo base.\n",
        "  + 3.- Prueba el modelo con al menos dos predicciones de distintos jugadores.\n",
        "  + 4.- Evalúa su rendimiento con accuracy_score de sklearn.metrics"
      ],
      "metadata": {
        "id": "oKARVdMPOzFN"
      }
    },
    {
      "cell_type": "markdown",
      "source": [
        "## Importación de librerías"
      ],
      "metadata": {
        "id": "mz_l4kHxOrn3"
      }
    },
    {
      "cell_type": "code",
      "source": [
        "import numpy as np\n",
        "from sklearn.model_selection import train_test_split\n",
        "from sklearn.svm import SVC\n",
        "from sklearn.metrics import accuracy_score"
      ],
      "metadata": {
        "id": "HVMR5wLViBWP"
      },
      "execution_count": 114,
      "outputs": []
    },
    {
      "cell_type": "markdown",
      "source": [
        "## Definición de la clase Player"
      ],
      "metadata": {
        "id": "2q6paviRiJG1"
      }
    },
    {
      "cell_type": "code",
      "source": [
        "class Player:\n",
        "  def __init__(self, win_rate, hours_played, accuracy, reaction_time, strategic_play):\n",
        "    self.win_rate = win_rate\n",
        "    self.hours_played = hours_played\n",
        "    self.accuracy = accuracy\n",
        "    self.reaction_time = reaction_time\n",
        "    self.strategic_play = strategic_play\n",
        "  def to_vector(self):\n",
        "    return np.array([self.win_rate, self.hours_played, self.accuracy, self.reaction_time, self.strategic_play])\n"
      ],
      "metadata": {
        "id": "zCpLufs0iNIf"
      },
      "execution_count": 115,
      "outputs": []
    },
    {
      "cell_type": "code",
      "source": [
        "player = Player(np.random.rand(), np.random.rand(), np.random.rand(), np.random.rand(), np.random.rand())\n",
        "player.to_vector()"
      ],
      "metadata": {
        "colab": {
          "base_uri": "https://localhost:8080/"
        },
        "id": "MGggQl46m6fP",
        "outputId": "bac38ac8-4938-49b0-bfba-282713f5a1f5"
      },
      "execution_count": 116,
      "outputs": [
        {
          "output_type": "execute_result",
          "data": {
            "text/plain": [
              "array([0.39663642, 0.70150539, 0.73176961, 0.38952154, 0.70477925])"
            ]
          },
          "metadata": {},
          "execution_count": 116
        }
      ]
    },
    {
      "cell_type": "markdown",
      "source": [
        "## Define la clase PlayerGenerator"
      ],
      "metadata": {
        "id": "s6wgWdU6jShz"
      }
    },
    {
      "cell_type": "code",
      "source": [
        "class PlayerGenerator:\n",
        "  def __init__(self, num_players):\n",
        "    self.num_players = num_players\n",
        "  def generate_players(self):\n",
        "    players = []\n",
        "    for _ in range(self.num_players):\n",
        "      win_rate = np.random.rand()\n",
        "      hours_played = np.random.rand()\n",
        "      accuracy = np.random.rand()\n",
        "      reaction_time = np.random.rand()\n",
        "      strategic_play = np.random.rand()\n",
        "      p = Player(win_rate, hours_played, accuracy, reaction_time, strategic_play)\n",
        "      players.append(p)\n",
        "    return players\n",
        "  def generate_labels(self):\n",
        "    labels = []\n",
        "    for _ in range(self.num_players):\n",
        "      label = np.random.randint(0, 2)\n",
        "      labels.append(label)\n",
        "    return labels"
      ],
      "metadata": {
        "id": "vzRwI08hjZCG"
      },
      "execution_count": 117,
      "outputs": []
    },
    {
      "cell_type": "code",
      "source": [
        "pg = PlayerGenerator(10)\n",
        "players = pg.generate_players()\n",
        "labels = pg.generate_labels()\n",
        "players[0].to_vector()"
      ],
      "metadata": {
        "colab": {
          "base_uri": "https://localhost:8080/"
        },
        "id": "S7zCl7pll18E",
        "outputId": "b5e0475a-e734-4798-a5e9-fca2399c9026"
      },
      "execution_count": 118,
      "outputs": [
        {
          "output_type": "execute_result",
          "data": {
            "text/plain": [
              "array([0.0776263 , 0.2887773 , 0.61777417, 0.09945343, 0.06554027])"
            ]
          },
          "metadata": {},
          "execution_count": 118
        }
      ]
    },
    {
      "cell_type": "markdown",
      "source": [
        "## Define la clase ProPlayerClassifier"
      ],
      "metadata": {
        "id": "8iFAi0oMkh6w"
      }
    },
    {
      "cell_type": "code",
      "source": [
        "class ProPlayerClassifier:\n",
        "  def __init__(self):\n",
        "    self.model = SVC(gamma='auto')\n",
        "  def train(self, X, y):\n",
        "    self.model.fit(X, y)\n",
        "  def predict(self, player_stats):\n",
        "    return self.model.predict(player_stats)\n",
        "  def evaluate(self, X_test, y_test):\n",
        "    y_pred = self.model.predict(X_test)\n",
        "    return accuracy_score(y_test, y_pred)"
      ],
      "metadata": {
        "id": "iMCXXHSukohW"
      },
      "execution_count": 119,
      "outputs": []
    },
    {
      "cell_type": "markdown",
      "source": [
        "## Define la clase GameSimulator"
      ],
      "metadata": {
        "id": "KaqE7H9GlJ35"
      }
    },
    {
      "cell_type": "code",
      "source": [
        "class GameSimulator:\n",
        "  def __init__(self):\n",
        "    self.player_generator = PlayerGenerator( num_players = 100)\n",
        "    self.pro_player_classifier = ProPlayerClassifier()\n",
        "  def run(self):\n",
        "    players = self.player_generator.generate_players()\n",
        "    labels = self.player_generator.generate_labels()\n",
        "    player_stats = np.array([player.to_vector() for player in players])\n",
        "    X_train, X_test, y_train, y_test = train_test_split(player_stats, labels, test_size=0.2, random_state=42)\n",
        "    self.pro_player_classifier.train(player_stats, labels)\n",
        "    new_player = Player(np.random.rand(), np.random.rand(), np.random.rand(), np.random.rand(), np.random.rand())\n",
        "    prediction = self.pro_player_classifier.predict(new_player.to_vector().reshape(1, -1))\n",
        "    if prediction == 1:\n",
        "      print(\"Jugador profesional\")\n",
        "    else:\n",
        "      print(\"Jugador casual\")\n",
        "    accuracy = self.pro_player_classifier.evaluate(X_test, y_test)\n",
        "    print(f\"Precisión del modelo: {accuracy}\")"
      ],
      "metadata": {
        "id": "kANTo9ColO1F"
      },
      "execution_count": 120,
      "outputs": []
    },
    {
      "cell_type": "code",
      "source": [
        "simulator = GameSimulator()\n",
        "simulator.run()"
      ],
      "metadata": {
        "colab": {
          "base_uri": "https://localhost:8080/"
        },
        "id": "QLPJ3qMXoRoh",
        "outputId": "2d24e276-f1a1-4376-d826-b15bcc6d3003"
      },
      "execution_count": 121,
      "outputs": [
        {
          "output_type": "stream",
          "name": "stdout",
          "text": [
            "Jugador profesional\n",
            "Precisión del modelo: 0.7\n"
          ]
        }
      ]
    }
  ]
}