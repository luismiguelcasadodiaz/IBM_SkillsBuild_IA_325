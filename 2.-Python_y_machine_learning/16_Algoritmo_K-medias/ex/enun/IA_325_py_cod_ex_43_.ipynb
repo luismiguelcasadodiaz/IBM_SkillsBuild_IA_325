{
  "nbformat": 4,
  "nbformat_minor": 0,
  "metadata": {
    "colab": {
      "provenance": [],
      "authorship_tag": "ABX9TyM3iPz61j2aJkENIyqUjOpO",
      "include_colab_link": true
    },
    "kernelspec": {
      "name": "python3",
      "display_name": "Python 3"
    },
    "language_info": {
      "name": "python"
    }
  },
  "cells": [
    {
      "cell_type": "markdown",
      "metadata": {
        "id": "view-in-github",
        "colab_type": "text"
      },
      "source": [
        "<a href=\"https://colab.research.google.com/github/luismiguelcasadodiaz/IBM_SkillsBuild_IA_325/blob/main/IA_325_py_cod_ex_43_.ipynb\" target=\"_parent\"><img src=\"https://colab.research.google.com/assets/colab-badge.svg\" alt=\"Open In Colab\"/></a>"
      ]
    },
    {
      "cell_type": "markdown",
      "source": [
        "#Agrupar perfiles de sueño\n",
        "\n",
        "## 💤 Análisis de Perfiles de Sueño con K-Means\n",
        "\n",
        "Una empresa especializada en salud del sueño desea analizar los **hábitos de descanso de cientos de personas.**\n",
        "\n",
        "Se han recogido datos sobre cómo duermen los usuarios, y ahora tu misión es **agrupar a los individuos en diferentes tipos de \"dormidores\"** usando aprendizaje no supervisado.\n",
        "\n",
        "\n",
        "\n",
        "## 🎯 Objetivo\n",
        "\n",
        "Crear un sistema en Python que genere perfiles de sueño sintéticos, los agrupe en 3 categorías usando **K-Means Clustering**, y visualice los resultados.\n",
        "\n",
        "\n",
        "\n",
        "## 🧩 Estructura que debes seguir\n",
        "\n",
        "+ 1. **SleepProfile**: Clase que representa el perfil de sueño de una persona.\n",
        "\n",
        "  + Atributos:\n",
        "\n",
        "    + duration: duración promedio del sueño en horas (ej. 7.5)\n",
        "\n",
        "    + latency: tiempo promedio para quedarse dormido en minutos (ej. 25)\n",
        "\n",
        "    + wakeups: cantidad de despertares durante la noche (ej. 2)\n",
        "\n",
        "    + variability: variabilidad en la hora de irse a dormir, en minutos (ej. 35)\n",
        "\n",
        "  + Métodos:\n",
        "\n",
        "   + to_vector(self): Devuelve la información del perfil como una lista [duration, latency, wakeups, variability].\n",
        "\n",
        "<br>\n",
        "<br>\n",
        "\n",
        "+ 2. **SleepDatasetGenerator**:Clase que genera una lista de objetos SleepProfile con datos sintéticos y realistas.\n",
        "\n",
        "  + Constructor:\n",
        "\n",
        "    + __init__(self, n=300): genera n perfiles (por defecto 300).\n",
        "\n",
        "  + MétodoS:\n",
        "\n",
        "    + generate(self): retorna una lista de objetos SleepProfile, donde los atributos se generan así:\n",
        "\n",
        "      + duration: distribución normal con media 7 horas y desviación estándar 1.2 → np.random.normal(7, 1.2, n)\n",
        "\n",
        "      + latency: distribución normal positiva (usar np.abs) con media 20 y std 10\n",
        "\n",
        "      + wakeups: distribución Poisson con media 1.5 → np.random.poisson(1.5, n)\n",
        "\n",
        "      + variability: distribución normal positiva con media 30 y std 15\n",
        "\n",
        "<br>\n",
        "<br>\n",
        "\n",
        "\n",
        "3. **SleepClusterer**: Clase que entrena un modelo K-Means y agrupa los perfiles.\n",
        "\n",
        "  + Constructor:\n",
        "\n",
        "    + __init__(self, n_clusters=3): crea un modelo KMeans con 3 clústeres y un StandardScaler para escalar los datos antes de entrenar.\n",
        "\n",
        "  + Métodos:\n",
        "\n",
        "    + fit(self, profiles): recibe una lista de SleepProfile, los convierte a vectores, normaliza con StandardScaler y entrena el modelo. Retorna X_scaled y las etiquetas de clúster (labels).\n",
        "\n",
        "    + get_cluster_centers(self): devuelve los centros de clúster transformados a su escala original (usa scaler.inverse_transform).\n",
        "\n",
        "<br>\n",
        "<br>\n",
        "\n",
        "\n",
        "4. **SleepAnalysisExample**:Clase que ejecuta todo el análisis.\n",
        "\n",
        "  + Método:\n",
        "\n",
        "    + run(self):\n",
        "\n",
        "      + 1.- Genera los perfiles usando SleepDatasetGenerator.\n",
        "\n",
        "      + 2.- Agrupa los perfiles usando SleepClusterer con 3 grupos.\n",
        "\n",
        "      + 3.- Crea un DataFrame para mostrar resultados.\n",
        "\n",
        "      + 4.- Imprime los centroides (promedios de cada grupo).\n",
        "\n",
        "      + 5.- Grafica los perfiles usando matplotlib (eje X: duración, eje Y: variabilidad).\n",
        "\n",
        "\n",
        "\n",
        "## 🛠 Requisitos mínimos\n",
        "\n",
        "+ Usar numpy para generar datos sintéticos.\n",
        "+ Usar scikit-learn para KMeans y StandardScaler.\n",
        "+ Usar matplotlib para graficar los resultados.\n",
        "+ Organizar el código en clases separadas como se indica.\n",
        "+ Mostrar en consola los centroides de cada grupo.\n",
        "+ Graficar los grupos usando diferentes colores.\n",
        "\n",
        "\n",
        "\n",
        "## 📈 ¿Qué deberías mostrar al final?\n",
        "\n",
        "+ 1.- Los **centroides de los grupos**, interpretando lo que caracteriza a cada uno.\n",
        "\n",
        "+ 2.- Un **gráfico de dispersión** donde se vea la agrupación de perfiles por:\n",
        "\n",
        "  + Eje X: Duración del sueño\n",
        "  + Eje Y: Variabilidad de hora de dormir\n",
        "\n",
        "+ 3.- Comentarios sobre posibles tipos de durmientes: ¿hay un grupo de \"insomnes\"? ¿otro de \"buenos durmientes\"?\n",
        "\n",
        "\n",
        "\n",
        "## 🧪 Ejemplo de uso\n",
        "```PYTHON\n",
        "example = SleepAnalysisExample()\n",
        "example.run()\n",
        "```\n",
        "\n",
        "## Salida esperada\n",
        "```python\n",
        "📌 Centroides de los grupos:\n",
        "Grupo 0: Duración=6.30h, Latencia=19.3min, Despertares=1.2, Variabilidad=39.6min\n",
        "Grupo 1: Duración=6.79h, Latencia=18.9min, Despertares=3.4, Variabilidad=26.5min\n",
        "Grupo 2: Duración=7.98h, Latencia=18.6min, Despertares=1.0, Variabilidad=22.3min\n",
        "```"
      ],
      "metadata": {
        "id": "n2IZNGTp2q7o"
      }
    },
    {
      "cell_type": "code",
      "execution_count": 228,
      "metadata": {
        "id": "UHZn0ScD2p28"
      },
      "outputs": [],
      "source": []
    },
    {
      "cell_type": "markdown",
      "source": [
        "## Importación de librerías"
      ],
      "metadata": {
        "id": "oMF0Uz65Mx6S"
      }
    },
    {
      "cell_type": "code",
      "source": [
        "import numpy as np\n",
        "import matplotlib.pyplot as plt\n",
        "from sklearn.cluster import KMeans\n",
        "from sklearn.preprocessing import StandardScaler\n",
        "import pandas as pd\n",
        "import unittest"
      ],
      "metadata": {
        "id": "qsjYgEIrM0YA"
      },
      "execution_count": 229,
      "outputs": []
    },
    {
      "cell_type": "markdown",
      "source": [
        "## Definición de la clase SleepProfile"
      ],
      "metadata": {
        "id": "3bRcGt_yM3yY"
      }
    },
    {
      "cell_type": "code",
      "source": [
        "class SleepProfile:\n",
        "    \"\"\"\n",
        "    Representa el perfil de sueño de una persona.\n",
        "\n",
        "    Args:\n",
        "        duration (float): Duración promedio del sueño en horas.\n",
        "        latency (float): Tiempo promedio para quedarse dormido en minutos.\n",
        "        wakeups (float): Cantidad de despertares durante la noche.\n",
        "        variability (float): Variabilidad en hora de ir a dormir, en minutos.\n",
        "\n",
        "    Raises:\n",
        "        TypeError: Si alguno de los atributos no es numérico.\n",
        "        ValueError: Si alguno de los atributos es negativo.\n",
        "    \"\"\"\n",
        "    def __init__(self, duration:float, latency:float, \\\n",
        "                 wakeups:float, variability:float):\n",
        "\n",
        "      if not isinstance(duration, (int, float, np.integer, np.floating)) or \\\n",
        "      not isinstance(latency, (int, float, np.integer, np.floating)) or \\\n",
        "      not isinstance(wakeups, (int, float, np.integer, np.floating)) or \\\n",
        "      not isinstance(variability, (int, float, np.integer, np.floating)):\n",
        "        raise TypeError(\"Los atributos deben ser números.\")\n",
        "      if duration < 0 or latency < 0 or wakeups < 0 or variability < 0:\n",
        "        raise ValueError(\"Los atributos deben ser números positivos.\")\n",
        "\n",
        "      self.duration = duration\n",
        "      self.latency = latency\n",
        "      self.wakeups = wakeups\n",
        "      self.variability = variability\n",
        "\n",
        "    def to_vector(self)->list:\n",
        "      \"\"\"\n",
        "        Convierte la información del perfil a una lista de atributos numéricos.\n",
        "\n",
        "        Returns:\n",
        "            list: De atributos [duration, latency, wakeups, variability].\n",
        "      \"\"\"\n",
        "      return [self.duration, self.latency, self.wakeups, self.variability]"
      ],
      "metadata": {
        "id": "zHi1D2YINDCo"
      },
      "execution_count": 230,
      "outputs": []
    },
    {
      "cell_type": "code",
      "source": [
        "sleeper = SleepProfile(7.290242606936291, 16.531001439886875, 1, 36.98450695618974)\n",
        "sleeper.to_vector()"
      ],
      "metadata": {
        "colab": {
          "base_uri": "https://localhost:8080/"
        },
        "id": "2UiYVN8kPXaH",
        "outputId": "1909e161-3941-4bf6-a11b-2d6349e66353"
      },
      "execution_count": 231,
      "outputs": [
        {
          "output_type": "execute_result",
          "data": {
            "text/plain": [
              "[7.290242606936291, 16.531001439886875, 1, 36.98450695618974]"
            ]
          },
          "metadata": {},
          "execution_count": 231
        }
      ]
    },
    {
      "cell_type": "markdown",
      "source": [
        "#### Tests para la clase SleepProfile"
      ],
      "metadata": {
        "id": "INvLfIOFOf9M"
      }
    },
    {
      "cell_type": "code",
      "source": [
        "class TestSleepProfile(unittest.TestCase):\n",
        "\n",
        "    def test_sleep_profile_creation(self):\n",
        "        \"\"\"Test that a SleepProfile object is created correctly.\"\"\"\n",
        "        profile = SleepProfile(duration=7.5, latency=20.0, wakeups=1.0, variability=30.0)\n",
        "        self.assertEqual(profile.duration, 7.5)\n",
        "        self.assertEqual(profile.latency, 20.0)\n",
        "        self.assertEqual(profile.wakeups, 1.0)\n",
        "        self.assertEqual(profile.variability, 30.0)\n",
        "\n",
        "    def test_sleep_profile_creation_with_integers(self):\n",
        "        \"\"\"Test that a SleepProfile object is created correctly with integers.\"\"\"\n",
        "        profile = SleepProfile(duration=7, latency=20, wakeups=1, variability=30)\n",
        "        self.assertEqual(profile.duration, 7)\n",
        "        self.assertEqual(profile.latency, 20)\n",
        "        self.assertEqual(profile.wakeups, 1)\n",
        "        self.assertEqual(profile.variability, 30)\n",
        "\n",
        "    def test_sleep_profile_creation_invalid_type(self):\n",
        "        \"\"\"Test that creating a SleepProfile with invalid types raises a TypeError.\"\"\"\n",
        "        with self.assertRaises(TypeError):\n",
        "            SleepProfile(duration=\"seven\", latency=20.0, wakeups=1.0, variability=30.0)\n",
        "        with self.assertRaises(TypeError):\n",
        "            SleepProfile(duration=7.5, latency=\"twenty\", wakeups=1.0, variability=30.0)\n",
        "        with self.assertRaises(TypeError):\n",
        "            SleepProfile(duration=7.5, latency=20.0, wakeups=\"one\", variability=30.0)\n",
        "        with self.assertRaises(TypeError):\n",
        "            SleepProfile(duration=7.5, latency=20.0, wakeups=1.0, variability=\"thirty\")\n",
        "\n",
        "    def test_sleep_profile_creation_negative_value(self):\n",
        "        \"\"\"Test that creating a SleepProfile with negative values raises a ValueError.\"\"\"\n",
        "        with self.assertRaises(ValueError):\n",
        "            SleepProfile(duration=-7.5, latency=20.0, wakeups=1.0, variability=30.0)\n",
        "        with self.assertRaises(ValueError):\n",
        "            SleepProfile(duration=7.5, latency=-20.0, wakeups=1.0, variability=30.0)\n",
        "        with self.assertRaises(ValueError):\n",
        "            SleepProfile(duration=7.5, latency=20.0, wakeups=-1.0, variability=30.0)\n",
        "        with self.assertRaises(ValueError):\n",
        "            SleepProfile(duration=7.5, latency=20.0, wakeups=1.0, variability=-30.0)\n",
        "\n",
        "    def test_to_vector_method(self):\n",
        "        \"\"\"Test that the to_vector method returns the correct list.\"\"\"\n",
        "        profile = SleepProfile(duration=7.5, latency=20.0, wakeups=1.0, variability=30.0)\n",
        "        self.assertEqual(profile.to_vector(), [7.5, 20.0, 1.0, 30.0])\n"
      ],
      "metadata": {
        "id": "gFiE2WWkOkyb"
      },
      "execution_count": 232,
      "outputs": []
    },
    {
      "cell_type": "code",
      "source": [
        "loader = unittest.TestLoader()\n",
        "suite = loader.loadTestsFromTestCase(TestSleepProfile)\n",
        "runner = unittest.TextTestRunner(verbosity=2)\n",
        "result = runner.run(suite)"
      ],
      "metadata": {
        "colab": {
          "base_uri": "https://localhost:8080/"
        },
        "id": "ojRItaq6OpTT",
        "outputId": "4993f964-b267-4640-b854-16f19e5066b9"
      },
      "execution_count": 233,
      "outputs": [
        {
          "output_type": "stream",
          "name": "stderr",
          "text": [
            "test_sleep_profile_creation (__main__.TestSleepProfile.test_sleep_profile_creation)\n",
            "Test that a SleepProfile object is created correctly. ... ok\n",
            "test_sleep_profile_creation_invalid_type (__main__.TestSleepProfile.test_sleep_profile_creation_invalid_type)\n",
            "Test that creating a SleepProfile with invalid types raises a TypeError. ... ok\n",
            "test_sleep_profile_creation_negative_value (__main__.TestSleepProfile.test_sleep_profile_creation_negative_value)\n",
            "Test that creating a SleepProfile with negative values raises a ValueError. ... ok\n",
            "test_sleep_profile_creation_with_integers (__main__.TestSleepProfile.test_sleep_profile_creation_with_integers)\n",
            "Test that a SleepProfile object is created correctly with integers. ... ok\n",
            "test_to_vector_method (__main__.TestSleepProfile.test_to_vector_method)\n",
            "Test that the to_vector method returns the correct list. ... ok\n",
            "\n",
            "----------------------------------------------------------------------\n",
            "Ran 5 tests in 0.010s\n",
            "\n",
            "OK\n"
          ]
        }
      ]
    },
    {
      "cell_type": "markdown",
      "source": [
        "## Definición de la clase SleepDatasetGenerator"
      ],
      "metadata": {
        "id": "sfupfdA4PsjX"
      }
    },
    {
      "cell_type": "code",
      "source": [
        "class SleepDatasetGenerator:\n",
        "    \"\"\"\n",
        "    Genera una lista de objetos SleepProfile con datos sintéticos y realistas.\n",
        "\n",
        "    Crea perfiles de sueño sintéticos utilizando distribuciones estadísticas\n",
        "    para simular los diferentes atributos del sueño de una persona.\n",
        "\n",
        "    Args:\n",
        "        n (int): Número de perfiles a generar (por defecto 300).\n",
        "                 Debe ser un entero positivo.\n",
        "\n",
        "    Raises:\n",
        "        TypeError: Si n no es un entero.\n",
        "        ValueError: Si n es menor o igual a cero.\n",
        "    \"\"\"\n",
        "    def __init__(self, n=300):\n",
        "        if not isinstance(n, int):\n",
        "            raise TypeError(\"El número de perfiles 'n' debe ser un entero.\")\n",
        "        if n <= 0:\n",
        "            raise ValueError(\"El número de perfiles 'n' debe ser positivo.\")\n",
        "        self.n = n\n",
        "\n",
        "    def generate(self)-> list :\n",
        "        \"\"\"\n",
        "        Genera una lista de objetos SleepProfile con datos sintéticos.\n",
        "\n",
        "        Los atributos de los perfiles se generan de la siguiente manera:\n",
        "        - duration   : Distribución normal de media 7 y desviación estándar 1.2.\n",
        "        - latency    : Distribución normal positiva (absoluto) de media 20\n",
        "                       y desviación estándar 10.\n",
        "        - wakeups    : Distribución de Poisson de media 1.5.\n",
        "        - variability: Distribución normal positiva (absoluto) de media 30\n",
        "                       y desviación estándar 15.\n",
        "\n",
        "        Returns:\n",
        "            list: Una lista de objetos SleepProfile generados.\n",
        "        \"\"\"\n",
        "        profiles = []\n",
        "\n",
        "        # Generar datos para atributo utilizando distribuciones estadísticas\n",
        "        durations = np.random.normal(7, 1.2, self.n)\n",
        "        # np.abs asegura que la latencia y variabilidad sean positivas\n",
        "        latencies = np.abs(np.random.normal(20, 10, self.n))\n",
        "        wakeups = np.random.poisson(1.5, self.n)\n",
        "        variabilities = np.abs(np.random.normal(30, 15, self.n))\n",
        "\n",
        "        # Crear objetos SleepProfile con los datos generados\n",
        "        for i in range(self.n):\n",
        "          # Crear un objeto SleepProfile con los atributos generados\n",
        "          data = SleepProfile(durations[i], latencies[i], wakeups[i], variabilities[i])\n",
        "          profiles.append(data)\n",
        "        return profiles"
      ],
      "metadata": {
        "id": "N56F2C3zP0Fg"
      },
      "execution_count": 234,
      "outputs": []
    },
    {
      "cell_type": "code",
      "source": [
        "sdg = SleepDatasetGenerator()\n",
        "profiles = sdg.generate()"
      ],
      "metadata": {
        "id": "O4ff67Q9Xv3Z"
      },
      "execution_count": 235,
      "outputs": []
    },
    {
      "cell_type": "markdown",
      "source": [
        "## Definición de la clase SleepClusterer"
      ],
      "metadata": {
        "id": "xJdH0j78RVcM"
      }
    },
    {
      "cell_type": "code",
      "source": [
        "class SleepClusterer:\n",
        "  \"\"\"\n",
        "    Clase que entrena un modelo K-Means y agrupa los perfiles de sueño.\n",
        "\n",
        "    Esta clase se encarga de preprocesar los datos de los perfiles de sueño\n",
        "    (escalar) y luego aplicar el algoritmo K-Means para encontrar grupos\n",
        "    (clústeres) con características similares.\n",
        "\n",
        "    Args:\n",
        "        n_clusters (int): El número de clústeres a formar (por defecto 3).\n",
        "                          Debe ser un entero positivo.\n",
        "\n",
        "    Raises:\n",
        "        TypeError: Si n_clusters no es un entero.\n",
        "        ValueError: Si n_clusters es menor o igual a cero.\n",
        "  \"\"\"\n",
        "\n",
        "  def __init__(self, n_clusters=3):\n",
        "\n",
        "    if not isinstance(n_clusters, int):\n",
        "      raise TypeError(\"El número de clústeres 'n_clusters' debe ser un entero.\")\n",
        "    if n_clusters <= 0:\n",
        "      raise ValueError(\"El número de clústeres 'n_clusters' debe ser positivo.\")\n",
        "\n",
        "    self.n_clusters = n_clusters\n",
        "    # StandardScaler para normalizar los datos antes de aplicar K-Means\n",
        "    self.scaler = StandardScaler()\n",
        "    # Modelo K-Means para agrupar los datos\n",
        "    self.kmeans = KMeans(n_clusters=n_clusters)\n",
        "\n",
        "  def fit(self, profiles:list):\n",
        "    \"\"\"\n",
        "        Escala los perfiles de sueño y entrena el modelo K-Means.\n",
        "\n",
        "        Recibe lista de objetos SleepProfile, los vectoriza y los\n",
        "        escala utilizando StandardScaler y entrena el modelo K-Means.\n",
        "\n",
        "        Args:\n",
        "            profiles (list): Una lista de objetos SleepProfile.\n",
        "\n",
        "        Returns:\n",
        "            tuple: Una tupla que contiene:\n",
        "                   - numpy.ndarray: Los datos de los perfiles escalados.\n",
        "                   - numpy.ndarray: Las etiquetas de clúster asignadas.\n",
        "    \"\"\"\n",
        "    scaled_profiles = self.scaler.fit_transform([profile.to_vector() for profile in profiles])\n",
        "    self.kmeans.fit(scaled_profiles)\n",
        "    return scaled_profiles, self.kmeans.labels_\n",
        "\n",
        "  def get_cluster_centers(self):\n",
        "    \"\"\"\n",
        "        Devuelve los centroides de los clústeres en su escala original.\n",
        "\n",
        "        Después de entrenar el modelo K-Means con datos escalados, esta función\n",
        "        invierte la transformación para obtener los centroides en la escala original\n",
        "        de los atributos del perfil de sueño.\n",
        "\n",
        "        Returns:\n",
        "            numpy.ndarray: Una matriz donde cada fila es el centroide de un clúster\n",
        "                           en la escala original.\n",
        "    \"\"\"\n",
        "    return self.scaler.inverse_transform(self.kmeans.cluster_centers_)"
      ],
      "metadata": {
        "id": "MHGCV5yuSKLg"
      },
      "execution_count": 236,
      "outputs": []
    },
    {
      "cell_type": "markdown",
      "source": [
        "## Definición de la clase SleepAnalysisExample"
      ],
      "metadata": {
        "id": "6pt5CKysVfzX"
      }
    },
    {
      "cell_type": "code",
      "source": [
        "class SleepAnalysisExample:\n",
        "  def run(self):\n",
        "    # 1. Genera los perfiles usando SleepDatasetGenerator\n",
        "    n = 300\n",
        "    generator = SleepDatasetGenerator(n = 300)\n",
        "    profiles = generator.generate()\n",
        "    profiles_list = [profile.to_vector() for profile in profiles]\n",
        "\n",
        "    # 2. Agrupa los perfiles usando SleepCluster\n",
        "    clusterer = SleepClusterer()\n",
        "    scaled_profiles, labels = clusterer.fit(profiles)\n",
        "    centroides = clusterer.get_cluster_centers()\n",
        "\n",
        "    colores_grupo = {0:'blue', 1:'green', 2:'red'}\n",
        "    # 3. Crea un DataFrame para graficar los datos sin scalar\n",
        "    df = pd.DataFrame(profiles_list, columns=['duration', 'latency', 'wakeups', 'variability'])\n",
        "    df['cluster'] = labels\n",
        "\n",
        "    # 4. Imprime los centroides\n",
        "    print(\"📌 Centroides de los grupos:\")\n",
        "    for i, center in enumerate(centroides):\n",
        "      print(f\"Grupo {i}: Duración={center[0]:.2f}h, Latencia={center[1]:.1f}min, \\\n",
        "       Despertares={center[2]:.1f}, Variabilidad={center[3]:.1f}min\")\n",
        "\n",
        "    # 5. Grafica los perfiles originales\n",
        "    plt.scatter(df['duration'], df['variability'], c=df['cluster'].map(colores_grupo), alpha=0.1)\n",
        "    # 6 grafica los centroides\n",
        "    for i, center in enumerate(centroides):\n",
        "      print(i, colores_grupo[i])\n",
        "      plt.scatter(x=center[0], y=center[3], c=colores_grupo[i], marker='*', s=150)\n",
        "\n",
        "    plt.xlabel('Duración del sueño (horas)')\n",
        "    plt.ylabel('Variabilidad de hora de dormir (minutos)')\n",
        "    plt.title('Agrupación de perfiles de sueño agrupados (k_means)')"
      ],
      "metadata": {
        "id": "lHKK7S07VoWK"
      },
      "execution_count": 237,
      "outputs": []
    },
    {
      "cell_type": "markdown",
      "source": [
        "## Ejemplo de uso"
      ],
      "metadata": {
        "id": "JKQE1byJWvE8"
      }
    },
    {
      "cell_type": "code",
      "source": [
        "example = SleepAnalysisExample()\n",
        "example.run()"
      ],
      "metadata": {
        "colab": {
          "base_uri": "https://localhost:8080/",
          "height": 601
        },
        "id": "Vd0JrmJBWyQ7",
        "outputId": "c59cae4e-7c32-4969-e82f-47d3c3391133"
      },
      "execution_count": 238,
      "outputs": [
        {
          "output_type": "stream",
          "name": "stdout",
          "text": [
            "📌 Centroides de los grupos:\n",
            "Grupo 0: Duración=6.38h, Latencia=25.2min,        Despertares=0.7, Variabilidad=21.1min\n",
            "Grupo 1: Duración=7.73h, Latencia=17.3min,        Despertares=1.0, Variabilidad=37.4min\n",
            "Grupo 2: Duración=6.73h, Latencia=20.7min,        Despertares=2.7, Variabilidad=26.8min\n",
            "0 blue\n",
            "1 green\n",
            "2 red\n"
          ]
        },
        {
          "output_type": "display_data",
          "data": {
            "text/plain": [
              "<Figure size 640x480 with 1 Axes>"
            ],
            "image/png": "[encoded data removed]"
          },
          "metadata": {}
        }
      ]
    }
  ]
}