{
  "nbformat": 4,
  "nbformat_minor": 0,
  "metadata": {
    "colab": {
      "provenance": [],
      "authorship_tag": "ABX9TyMluM/jtbpt5Sxkb5CxSyDB",
      "include_colab_link": true
    },
    "kernelspec": {
      "name": "python3",
      "display_name": "Python 3"
    },
    "language_info": {
      "name": "python"
    }
  },
  "cells": [
    {
      "cell_type": "markdown",
      "metadata": {
        "id": "view-in-github",
        "colab_type": "text"
      },
      "source": [
        "<a href=\"https://colab.research.google.com/github/luismiguelcasadodiaz/IBM_SkillsBuild_IA_325/blob/main/IA_325_py_cod_ex_28.ipynb\" target=\"_parent\"><img src=\"https://colab.research.google.com/assets/colab-badge.svg\" alt=\"Open In Colab\"/></a>"
      ]
    },
    {
      "cell_type": "markdown",
      "source": [
        "# Métricas en árboles de decisión\n",
        "El objetivo de este ejercicio es que los estudiantes implementen una función que:\n",
        "\n",
        "+ Entrene un árbol de decisión usando DecisionTreeClassifier de sklearn.\n",
        "+ Haga predicciones en un conjunto de prueba.\n",
        "+ Evalúe el modelo utilizando métricas como precisión (accuracy), matriz de confusión y reporte de clasificación.\n",
        "+ Pase pruebas unitarias (unittest) que validen el funcionamiento correcto del código.\n",
        "\n",
        "\n",
        "\n",
        "## Instrucciones\n",
        "\n",
        "Implementa una función llamada entrenar_y_evaluar_arbol(X_train, y_train, X_test, y_test) que:\n",
        "\n",
        "  + Entrene un modelo DecisionTreeClassifier con los datos de entrenamiento (X_train, y_train).\n",
        "  + Prediga los valores de X_test.\n",
        "  + Evalúe el modelo usando:\n",
        "    + Precisión (accuracy_score). aciertos / predicciones\n",
        "    + Matriz de confusión (confusion_matrix)\n",
        "    + Reporte de clasificación (classification_report)\n",
        "  + Devuelva un diccionario con:\n",
        "\n",
        "    + predicciones: Un array con las predicciones del modelo.\n",
        "    + accuracy: Un número flotante con la precisión.\n",
        "    + matriz_confusion: Una matriz de confusión.\n",
        "    + reporte: Un string con el reporte de clasificación.\n",
        "\n",
        "Usa random_state=42 en DecisionTreeClassifier para reproducibilidad.\n",
        "\n",
        "Prueba la función con el dataset Iris, asegurando que el modelo tenga al menos 85% de precisión en los datos de prueba.\n",
        "\n",
        "\n",
        "\n",
        "##Ejemplo de Uso\n",
        "\n",
        "Una vez implementada la función, debe ejecutarse correctamente con este código de prueba:\n",
        "\n",
        "\n",
        "```python\n",
        "from sklearn.datasets import load_iris\n",
        "from sklearn.model_selection import train_test_split\n",
        "import numpy as np\n",
        "\n",
        "# Cargar el dataset de flores Iris\n",
        "iris = load_iris()\n",
        "X = iris.data  # Características\n",
        "y = iris.target  # Clases de las flores (Setosa, Versicolor, Virginica)\n",
        "\n",
        "# Dividir en conjunto de entrenamiento (80%) y prueba (20%)\n",
        "X_train, X_test, y_train, y_test = train_test_split(X, y, test_size=0.2, random_state=42)\n",
        "\n",
        "# Importar la función implementada\n",
        "from solution import entrenar_y_evaluar_arbol\n",
        "\n",
        "# Llamar a la función y obtener las métricas\n",
        "resultados = entrenar_y_evaluar_arbol(X_train, y_train, X_test, y_test)\n",
        "\n",
        "# Mostrar los resultados\n",
        "print(\"Precisión del modelo:\", resultados[\"accuracy\"])\n",
        "print(\"Matriz de Confusión:\\n\", resultados[\"matriz_confusion\"])\n",
        "print(\"Reporte de Clasificación:\\n\", resultados[\"reporte\"])\n",
        "```\n",
        "\n",
        "## Salida esperada (aproximada):\n",
        "```python\n",
        "\n",
        "Precisión del modelo: 1.0\n",
        "Matriz de Confusión:\n",
        " [[10  0  0]\n",
        " [ 0  9  0]\n",
        " [ 0  0 11]]\n",
        "Reporte de Clasificación:\n",
        "               precision    recall  f1-score   support\n",
        "\n",
        "      Setosa       1.00      1.00      1.00        10\n",
        "  Versicolor       1.00      1.00      1.00         9\n",
        "   Virginica       1.00      1.00      1.00        11\n",
        "\n",
        "    accuracy                           1.00        30\n",
        "   macro avg       1.00      1.00      1.00        30\n",
        "weighted avg       1.00      1.00      1.00        30\n",
        "\n",
        "```\n",
        "\n"
      ],
      "metadata": {
        "id": "I6VN5Kx9iHDl"
      }
    },
    {
      "cell_type": "code",
      "execution_count": null,
      "metadata": {
        "id": "60Nzh6Duh-xg"
      },
      "outputs": [],
      "source": []
    }
  ]
}