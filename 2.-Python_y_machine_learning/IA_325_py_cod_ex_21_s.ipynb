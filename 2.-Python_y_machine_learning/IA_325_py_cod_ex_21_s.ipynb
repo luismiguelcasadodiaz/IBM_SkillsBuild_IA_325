{
  "nbformat": 4,
  "nbformat_minor": 0,
  "metadata": {
    "colab": {
      "provenance": [],
      "authorship_tag": "ABX9TyPjFRoF71sbk1qg62XRr/kM",
      "include_colab_link": true
    },
    "kernelspec": {
      "name": "python3",
      "display_name": "Python 3"
    },
    "language_info": {
      "name": "python"
    }
  },
  "cells": [
    {
      "cell_type": "markdown",
      "metadata": {
        "id": "view-in-github",
        "colab_type": "text"
      },
      "source": [
        "<a href=\"https://colab.research.google.com/github/luismiguelcasadodiaz/IBM_SkillsBuild_IA_325/blob/main/IA_325_py_cod_ex_21_s.ipynb\" target=\"_parent\"><img src=\"https://colab.research.google.com/assets/colab-badge.svg\" alt=\"Open In Colab\"/></a>"
      ]
    },
    {
      "cell_type": "markdown",
      "source": [
        "# Predicción meteorológica con gráfico\n",
        "Los meteorólogos recopilan datos de humedad y presión atmosférica para predecir si lloverá o no.\n",
        "\n",
        "Tu misión es construir un sistema inteligente que pueda predecir la probabilidad de lluvia utilizando un modelo de regresión logística.\n",
        "\n",
        "## 🧩 Pasos a seguir\n",
        "\n",
        "### Crea la clase WeatherRecord: Representará un registro de condiciones meteorológicas\n",
        "  + Atributos:\n",
        "    + Humedad (%)\n",
        "    + Presión atmosférica (hPa)\n",
        "    + Lluvia (1 si llovió, 0 si no)\n",
        "\n",
        "<br>\n",
        "<br>\n",
        "\n",
        "### Crea la clase WeatherDataGenerator:\n",
        "Deberá generar registros sintéticos simulando que:\n",
        "  + Alta humedad y baja presión aumentan la probabilidad de lluvia.\n",
        "  + Baja humedad y alta presión indican que no lloverá.\n",
        "<br>\n",
        "<br>\n",
        "\n",
        "### Crea la clase WeatherRainClassifier: Entrena un modelo de regresión logística\n",
        "  + Métodos:\n",
        "    + Método fit(records) para entrenar.\n",
        "    + Método predict(humidity, pressure) que devuelva 1 o 0.\n",
        "    + Método get_model() para obtener el modelo scikit-learn (útil para visualización).\n",
        "<br>\n",
        "<br>\n",
        "\n",
        "### Crea la clase WeatherPredictionExample:\n",
        "Que haga lo siguiente:\n",
        "  + Genere datos.\n",
        "  + Entrene el modelo.\n",
        "  + Haga una predicción para nuevas condiciones climáticas.\n",
        "  + Muestre un gráfico con matplotlib diferenciando los casos de lluvia y no lluvia.\n",
        "\n",
        "\n",
        "\n",
        "## 🎯 Ejemplo de uso\n",
        "```python\n",
        "example = WeatherRainPredictionExample()\n",
        "example.run()\n",
        "```\n",
        "\n",
        "#### 📊 Salida esperada\n",
        "```python\n",
        "[[21  0]\n",
        " [ 0 39]]\n",
        "              precision    recall  f1-score   support\n",
        "\n",
        "           0       1.00      1.00      1.00        21\n",
        "           1       1.00      1.00      1.00        39\n",
        "\n",
        "    accuracy                           1.00        60\n",
        "   macro avg       1.00      1.00      1.00        60\n",
        "weighted avg       1.00      1.00      1.00        60\n",
        " ```\n",
        "\n",
        "#### 🔍 Predicción para condiciones nuevas:\n",
        "```python\n",
        "   Humedad: 80%\n",
        "   Presión: 995 hPa\n",
        "   ¿Lloverá?: Sí ☔\n",
        "```"
      ],
      "metadata": {
        "id": "XoyYUrilfoBZ"
      }
    },
    {
      "cell_type": "markdown",
      "source": [
        "###Importación de librerias"
      ],
      "metadata": {
        "id": "nAkC9_QYinme"
      }
    },
    {
      "cell_type": "code",
      "execution_count": 75,
      "metadata": {
        "id": "dpKN9mZXfZq0"
      },
      "outputs": [],
      "source": [
        "import pandas as pd\n",
        "import numpy as np\n",
        "import matplotlib.pyplot as plt\n",
        "from sklearn.linear_model import LogisticRegression\n",
        "from sklearn.preprocessing import StandardScaler\n",
        "from sklearn.metrics import classification_report\n",
        "from sklearn.metrics import confusion_matrix"
      ]
    },
    {
      "cell_type": "markdown",
      "source": [
        "### Creación de la clase WeatherRecord:"
      ],
      "metadata": {
        "id": "6P2-O1Xxi4k8"
      }
    },
    {
      "cell_type": "code",
      "source": [
        "class WeatherRecord:\n",
        "    \"\"\"Representa un registro meteorológico con humedad, presión y lluvia.\n",
        "\n",
        "    Almacena la humedad relativa, la presión atmosférica y un indicador\n",
        "    binario de si llovió o no en un momento dado.\n",
        "    \"\"\"\n",
        "    def __init__(self, humedad, presion, lluvia):\n",
        "        \"\"\"Inicializa un registro meteorológico.\n",
        "\n",
        "        Args:\n",
        "            humedad (float): Humedad relativa en porcentaje (0-100).\n",
        "            presion (float): Presión atmosférica en hectopascales (hPa).\n",
        "            lluvia (int): 1 si llovió, 0 si no llovió.\n",
        "\n",
        "        Raises:\n",
        "            ValueError: Si los valores de humedad, presión o lluvia\n",
        "                están fuera de los rangos válidos.\n",
        "        \"\"\"\n",
        "        if not 0 <= humedad <= 100:\n",
        "            raise ValueError(\"La humedad debe estar entre  0 y  100.\")\n",
        "        if not 900 <= presion <= 1100:\n",
        "            raise ValueError(\"La presión debe estar entre 900 y 1100 hPa.\")\n",
        "        if not isinstance(lluvia, int) or lluvia not in [0, 1]:\n",
        "            raise ValueError(\"El valor de lluvia debe ser 0 o 1.\")\n",
        "        self.humedad = humedad\n",
        "        self.presion = presion\n",
        "        self.lluvia = lluvia\n",
        "\n",
        "    def to_dict(self):\n",
        "        \"\"\"Devuelve un diccionario con los datos del registro.\"\"\"\n",
        "        return {\n",
        "            'humedad': self.humedad,\n",
        "            'presion': self.presion,\n",
        "            'lluvia': self.lluvia\n",
        "        }\n",
        "\n",
        "    def __str__(self):\n",
        "        \"\"\"Devuelve una representación legible del registro.\"\"\"\n",
        "        return f\"Humedad: {self.humedad}%, Presión: {self.presion} hPa, ¿Lloverá?: {'Sí' if self.lluvia else 'No'}\""
      ],
      "metadata": {
        "id": "xstUZ9chjEHn"
      },
      "execution_count": 76,
      "outputs": []
    },
    {
      "cell_type": "markdown",
      "source": [
        "#### Test de la clase WaetherRecord"
      ],
      "metadata": {
        "id": "kdN7Vne5jcgL"
      }
    },
    {
      "cell_type": "code",
      "source": [
        "# normal\n",
        "record = WeatherRecord(80, 995, 1)\n",
        "print(record)\n",
        "print(record.to_dict())\n"
      ],
      "metadata": {
        "id": "gQu4zGoXlsWC",
        "colab": {
          "base_uri": "https://localhost:8080/"
        },
        "outputId": "958c84e0-d767-4cda-de1a-84bc37e81e95"
      },
      "execution_count": 77,
      "outputs": [
        {
          "output_type": "stream",
          "name": "stdout",
          "text": [
            "Humedad: 80%, Presión: 995 hPa, ¿Lloverá?: Sí\n",
            "{'humedad': 80, 'presion': 995, 'lluvia': 1}\n"
          ]
        }
      ]
    },
    {
      "cell_type": "code",
      "source": [
        "# Sin humedad\n",
        "record = WeatherRecord(0, 995, 1)"
      ],
      "metadata": {
        "id": "xOYEYrUvl5hF"
      },
      "execution_count": 78,
      "outputs": []
    },
    {
      "cell_type": "code",
      "source": [
        "# mala humedad\n",
        "record = WeatherRecord(-10, 995, 1)"
      ],
      "metadata": {
        "colab": {
          "base_uri": "https://localhost:8080/",
          "height": 280
        },
        "id": "rZg1AUtOmB1t",
        "outputId": "c55479e3-ea3e-4793-93ee-9331b89ddc5a"
      },
      "execution_count": 79,
      "outputs": [
        {
          "output_type": "error",
          "ename": "ValueError",
          "evalue": "La humedad debe estar entre  0 y  100.",
          "traceback": [
            "\u001b[0;31m---------------------------------------------------------------------------\u001b[0m",
            "\u001b[0;31mValueError\u001b[0m                                Traceback (most recent call last)",
            "\u001b[0;32m<ipython-input-79-ed34538228a2>\u001b[0m in \u001b[0;36m<cell line: 0>\u001b[0;34m()\u001b[0m\n\u001b[1;32m      1\u001b[0m \u001b[0;31m# mala humedad\u001b[0m\u001b[0;34m\u001b[0m\u001b[0;34m\u001b[0m\u001b[0m\n\u001b[0;32m----> 2\u001b[0;31m \u001b[0mrecord\u001b[0m \u001b[0;34m=\u001b[0m \u001b[0mWeatherRecord\u001b[0m\u001b[0;34m(\u001b[0m\u001b[0;34m-\u001b[0m\u001b[0;36m10\u001b[0m\u001b[0;34m,\u001b[0m \u001b[0;36m995\u001b[0m\u001b[0;34m,\u001b[0m \u001b[0;36m1\u001b[0m\u001b[0;34m)\u001b[0m\u001b[0;34m\u001b[0m\u001b[0;34m\u001b[0m\u001b[0m\n\u001b[0m",
            "\u001b[0;32m<ipython-input-76-966ed375ac4f>\u001b[0m in \u001b[0;36m__init__\u001b[0;34m(self, humedad, presion, lluvia)\u001b[0m\n\u001b[1;32m     18\u001b[0m         \"\"\"\n\u001b[1;32m     19\u001b[0m         \u001b[0;32mif\u001b[0m \u001b[0;32mnot\u001b[0m \u001b[0;36m0\u001b[0m \u001b[0;34m<=\u001b[0m \u001b[0mhumedad\u001b[0m \u001b[0;34m<=\u001b[0m \u001b[0;36m100\u001b[0m\u001b[0;34m:\u001b[0m\u001b[0;34m\u001b[0m\u001b[0;34m\u001b[0m\u001b[0m\n\u001b[0;32m---> 20\u001b[0;31m             \u001b[0;32mraise\u001b[0m \u001b[0mValueError\u001b[0m\u001b[0;34m(\u001b[0m\u001b[0;34m\"La humedad debe estar entre  0 y  100.\"\u001b[0m\u001b[0;34m)\u001b[0m\u001b[0;34m\u001b[0m\u001b[0;34m\u001b[0m\u001b[0m\n\u001b[0m\u001b[1;32m     21\u001b[0m         \u001b[0;32mif\u001b[0m \u001b[0;32mnot\u001b[0m \u001b[0;36m900\u001b[0m \u001b[0;34m<=\u001b[0m \u001b[0mpresion\u001b[0m \u001b[0;34m<=\u001b[0m \u001b[0;36m1100\u001b[0m\u001b[0;34m:\u001b[0m\u001b[0;34m\u001b[0m\u001b[0;34m\u001b[0m\u001b[0m\n\u001b[1;32m     22\u001b[0m             \u001b[0;32mraise\u001b[0m \u001b[0mValueError\u001b[0m\u001b[0;34m(\u001b[0m\u001b[0;34m\"La presión debe estar entre 900 y 1100 hPa.\"\u001b[0m\u001b[0;34m)\u001b[0m\u001b[0;34m\u001b[0m\u001b[0;34m\u001b[0m\u001b[0m\n",
            "\u001b[0;31mValueError\u001b[0m: La humedad debe estar entre  0 y  100."
          ]
        }
      ]
    },
    {
      "cell_type": "code",
      "source": [
        "# mala humedad\n",
        "record = WeatherRecord(180, 995, 1)"
      ],
      "metadata": {
        "colab": {
          "base_uri": "https://localhost:8080/",
          "height": 280
        },
        "id": "43WhRiJpjgou",
        "outputId": "fa5c1380-296b-4ab5-c4a1-5a1261e6220f"
      },
      "execution_count": 80,
      "outputs": [
        {
          "output_type": "error",
          "ename": "ValueError",
          "evalue": "La humedad debe estar entre  0 y  100.",
          "traceback": [
            "\u001b[0;31m---------------------------------------------------------------------------\u001b[0m",
            "\u001b[0;31mValueError\u001b[0m                                Traceback (most recent call last)",
            "\u001b[0;32m<ipython-input-80-e534aa6337d5>\u001b[0m in \u001b[0;36m<cell line: 0>\u001b[0;34m()\u001b[0m\n\u001b[1;32m      1\u001b[0m \u001b[0;31m# mala humedad\u001b[0m\u001b[0;34m\u001b[0m\u001b[0;34m\u001b[0m\u001b[0m\n\u001b[0;32m----> 2\u001b[0;31m \u001b[0mrecord\u001b[0m \u001b[0;34m=\u001b[0m \u001b[0mWeatherRecord\u001b[0m\u001b[0;34m(\u001b[0m\u001b[0;36m180\u001b[0m\u001b[0;34m,\u001b[0m \u001b[0;36m995\u001b[0m\u001b[0;34m,\u001b[0m \u001b[0;36m1\u001b[0m\u001b[0;34m)\u001b[0m\u001b[0;34m\u001b[0m\u001b[0;34m\u001b[0m\u001b[0m\n\u001b[0m",
            "\u001b[0;32m<ipython-input-76-966ed375ac4f>\u001b[0m in \u001b[0;36m__init__\u001b[0;34m(self, humedad, presion, lluvia)\u001b[0m\n\u001b[1;32m     18\u001b[0m         \"\"\"\n\u001b[1;32m     19\u001b[0m         \u001b[0;32mif\u001b[0m \u001b[0;32mnot\u001b[0m \u001b[0;36m0\u001b[0m \u001b[0;34m<=\u001b[0m \u001b[0mhumedad\u001b[0m \u001b[0;34m<=\u001b[0m \u001b[0;36m100\u001b[0m\u001b[0;34m:\u001b[0m\u001b[0;34m\u001b[0m\u001b[0;34m\u001b[0m\u001b[0m\n\u001b[0;32m---> 20\u001b[0;31m             \u001b[0;32mraise\u001b[0m \u001b[0mValueError\u001b[0m\u001b[0;34m(\u001b[0m\u001b[0;34m\"La humedad debe estar entre  0 y  100.\"\u001b[0m\u001b[0;34m)\u001b[0m\u001b[0;34m\u001b[0m\u001b[0;34m\u001b[0m\u001b[0m\n\u001b[0m\u001b[1;32m     21\u001b[0m         \u001b[0;32mif\u001b[0m \u001b[0;32mnot\u001b[0m \u001b[0;36m900\u001b[0m \u001b[0;34m<=\u001b[0m \u001b[0mpresion\u001b[0m \u001b[0;34m<=\u001b[0m \u001b[0;36m1100\u001b[0m\u001b[0;34m:\u001b[0m\u001b[0;34m\u001b[0m\u001b[0;34m\u001b[0m\u001b[0m\n\u001b[1;32m     22\u001b[0m             \u001b[0;32mraise\u001b[0m \u001b[0mValueError\u001b[0m\u001b[0;34m(\u001b[0m\u001b[0;34m\"La presión debe estar entre 900 y 1100 hPa.\"\u001b[0m\u001b[0;34m)\u001b[0m\u001b[0;34m\u001b[0m\u001b[0;34m\u001b[0m\u001b[0m\n",
            "\u001b[0;31mValueError\u001b[0m: La humedad debe estar entre  0 y  100."
          ]
        }
      ]
    },
    {
      "cell_type": "markdown",
      "source": [
        "### Creación de la clase WeatherDataGenerator"
      ],
      "metadata": {
        "id": "072wuOBAmTjU"
      }
    },
    {
      "cell_type": "code",
      "source": [
        "class WeatherDataGenerator:\n",
        "    \"\"\"Genera registros meteorológicos sintéticos.\n",
        "\n",
        "    Crea una lista de objetos WeatherRecord con valores aleatorios\n",
        "    de humedad, presión y una indicación de lluvia, simulando\n",
        "    una probabilidad de lluvia dependiente de estos factores.\n",
        "\n",
        "    La probabilidad de lluvia se calcula normalizando la humedad\n",
        "    (entre 0 y 1) y la presión de forma inversa (también entre\n",
        "    aproximadamente 1 y 0), multiplicando estos valores.\n",
        "    Una humedad más alta y una presión más baja aumentan la\n",
        "    probabilidad resultante.\n",
        "\n",
        "    \"\"\"\n",
        "    _humedad_minima = 20\n",
        "    _humedad_maxima = 80\n",
        "    _presion_minima = 900\n",
        "    _presion_maxima = 1100\n",
        "\n",
        "    def __init__(self, num_records=100):\n",
        "        \"\"\"Inicializa el generador de datos meteorológicos.\n",
        "\n",
        "        Args:\n",
        "            num_records (int, optional): Número de registros a generar.\n",
        "                Defaults to 100.\n",
        "        \"\"\"\n",
        "        self.num_records = num_records\n",
        "        self.records = []\n",
        "        self._generate_data()\n",
        "\n",
        "    def _generate_data(self):\n",
        "        \"\"\"Genera los datos meteorológicos sintéticos.\"\"\"\n",
        "        for _ in range(self.num_records):\n",
        "            # Genera valorea aleatorios para humedad(h), presion(p)\n",
        "            h = np.random.uniform(self._humedad_minima,\n",
        "                                  self._humedad_maxima)\n",
        "            p = np.random.uniform(self._presion_minima,\n",
        "                                  self._presion_maxima)\n",
        "            probab_lluvia = (h / 100) * (1 - (p - self._presion_minima) / 150)\n",
        "            llovio = 1 if np.random.uniform() < probab_lluvia else 0\n",
        "            self.records.append(WeatherRecord(h, p, llovio))"
      ],
      "metadata": {
        "id": "g0XdPv20mH7x"
      },
      "execution_count": 88,
      "outputs": []
    },
    {
      "cell_type": "markdown",
      "source": [
        "###3 Pruebas para la clase WeatherDataGenerator"
      ],
      "metadata": {
        "id": "KeQj_ZjyscNK"
      }
    },
    {
      "cell_type": "code",
      "source": [
        "datos_5 = WeatherDataGenerator(5)\n",
        "for registro in datos_5.records:\n",
        "  print(registro)\n",
        "  print(registro.to_dict())"
      ],
      "metadata": {
        "colab": {
          "base_uri": "https://localhost:8080/"
        },
        "id": "Xkh0ItAPsolh",
        "outputId": "b097b457-8fc6-4c2c-ab50-54471631a1c3"
      },
      "execution_count": 81,
      "outputs": [
        {
          "output_type": "stream",
          "name": "stdout",
          "text": [
            "Humedad: 57.097773755106246%, Presión: 1076.1408269828883 hPa, ¿Lloverá?: No\n",
            "{'humedad': 57.097773755106246, 'presion': 1076.1408269828883, 'lluvia': 0}\n",
            "Humedad: 45.13524620236046%, Presión: 1096.601910432939 hPa, ¿Lloverá?: No\n",
            "{'humedad': 45.13524620236046, 'presion': 1096.601910432939, 'lluvia': 0}\n",
            "Humedad: 63.11533299184872%, Presión: 992.4259814317429 hPa, ¿Lloverá?: No\n",
            "{'humedad': 63.11533299184872, 'presion': 992.4259814317429, 'lluvia': 0}\n",
            "Humedad: 72.28870768989302%, Presión: 1094.4494397842773 hPa, ¿Lloverá?: No\n",
            "{'humedad': 72.28870768989302, 'presion': 1094.4494397842773, 'lluvia': 0}\n",
            "Humedad: 20.02917682646369%, Presión: 1055.3211427522099 hPa, ¿Lloverá?: No\n",
            "{'humedad': 20.02917682646369, 'presion': 1055.3211427522099, 'lluvia': 0}\n"
          ]
        }
      ]
    },
    {
      "cell_type": "markdown",
      "source": [
        "### Creación de la clase WeatherRainClassifier"
      ],
      "metadata": {
        "id": "d2st7VmmuZGF"
      }
    },
    {
      "cell_type": "code",
      "source": [
        "class WeatherRainClassifier:\n",
        "    \"\"\"Clasifica si lloverá basándose en humedad y presión.\n",
        "\n",
        "    Utiliza regresión logística para predecir la probabilidad de\n",
        "    lluvia a partir de datos de humedad y presión atmosférica.\n",
        "    \"\"\"\n",
        "    def __init__(self):\n",
        "        \"\"\"Inicializa el clasificador con un modelo y un escalador.\"\"\"\n",
        "        self.model = LogisticRegression()\n",
        "        self.scaler = StandardScaler()\n",
        "\n",
        "    def fit(self, records):\n",
        "        \"\"\"Entrena el modelo con registros meteorológicos.\n",
        "\n",
        "        Args:\n",
        "            records (list): Una lista de objetos WeatherRecord\n",
        "                con datos de humedad, presión y la variable objetivo (lluvia).\n",
        "        \"\"\"\n",
        "        X = [[r.humedad, r.presion] for r in records]\n",
        "        y = [r.lluvia for r in records]\n",
        "        X_scaled = self.scaler.fit_transform(X)\n",
        "        self.model.fit(X_scaled, y)\n",
        "\n",
        "    def predict(self, h, p):\n",
        "        \"\"\"Predice si lloverá para una humedad y presión dadas.\n",
        "\n",
        "        Args:\n",
        "            h (float): Valor de humedad relativa.\n",
        "            p (float): Valor de presión atmosférica.\n",
        "\n",
        "        Returns:\n",
        "            int: 1 si se predice lluvia, 0 si no se predice lluvia.\n",
        "        \"\"\"\n",
        "        X_scaled = self.scaler.transform([[h, p]])\n",
        "        return self.model.predict(X_scaled)[0]\n",
        "\n",
        "    def get_model(self):\n",
        "        \"\"\"Devuelve el modelo de regresión logística entrenado.\n",
        "\n",
        "        Returns:\n",
        "            LogisticRegression: El modelo entrenado.\n",
        "        \"\"\"\n",
        "        return self.model"
      ],
      "metadata": {
        "id": "IdEkSVrJurFU"
      },
      "execution_count": null,
      "outputs": []
    },
    {
      "cell_type": "markdown",
      "source": [
        "#### Pruebas de la clase WeatherRainClassifier"
      ],
      "metadata": {
        "id": "0hs3wWJJvkkm"
      }
    },
    {
      "cell_type": "code",
      "source": [
        "wrc = WeatherRainClassifier()\n",
        "datos = WeatherDataGenerator(100)\n",
        "wrc.fit(datos.records)\n",
        "print(wrc.predict(80, 995))\n",
        "\n"
      ],
      "metadata": {
        "colab": {
          "base_uri": "https://localhost:8080/"
        },
        "id": "x27tcQgtvn-M",
        "outputId": "58ae1ed1-4cce-4d3a-8557-c34bc0b7de4b"
      },
      "execution_count": 82,
      "outputs": [
        {
          "output_type": "stream",
          "name": "stdout",
          "text": [
            "0\n"
          ]
        }
      ]
    },
    {
      "cell_type": "markdown",
      "source": [
        "### Creación de la clase  WeatherPredictionExample"
      ],
      "metadata": {
        "id": "wozuXA5Pxd2C"
      }
    },
    {
      "cell_type": "code",
      "source": [
        "class WeatherPredictionExample:\n",
        "    \"\"\"Ejemplo de predicción de lluvia usando datos sintéticos.\n",
        "\n",
        "    Crea datos meteorológicos sintéticos, entrena un clasificador\n",
        "    de lluvia y realiza una predicción para condiciones dadas,\n",
        "    mostrando también métricas de evaluación y una visualización.\n",
        "    \"\"\"\n",
        "    def __init__(self):\n",
        "        \"\"\"Inicializa el ejemplo, creando el clasificador y los datos.\"\"\"\n",
        "        self.wrc = WeatherRainClassifier()\n",
        "        self.data = WeatherDataGenerator(100)\n",
        "\n",
        "    def run(self):\n",
        "        \"\"\"Ejecuta el ejemplo de predicción de lluvia.\n",
        "\n",
        "        Entrena el modelo, realiza predicciones sobre los datos\n",
        "        generados, muestra la matriz de confusión y el informe de\n",
        "        clasificación, predice para una condición específica y\n",
        "        visualiza los datos y las predicciones.\n",
        "        \"\"\"\n",
        "        # entrena el modelo\n",
        "        x = [r.humedad for r in self.data.records]\n",
        "        y = [r.presion for r in self.data.records]\n",
        "        z = [r.lluvia for r in self.data.records]\n",
        "        self.wrc.fit(self.data.records)\n",
        "        predicciones = self.wrc.model.predict(\n",
        "            self.wrc.scaler.transform(list(zip(x, y)))\n",
        "        )\n",
        "        print(confusion_matrix(z, predicciones))\n",
        "        print(classification_report(z, predicciones))\n",
        "        h = 80\n",
        "        p = 995\n",
        "        lluvia = self.wrc.predict(h, p)\n",
        "        print(f\"Humedad: {h}%\\nPresión: {p} hPa\\n¿Lloverá?: {'Sí' if lluvia else 'No'}\")\n",
        "\n",
        "        fig = plt.figure(figsize=(8, 6))\n",
        "        plt.scatter(x, y, c=z, cmap='coolwarm')\n",
        "        plt.colorbar(label='0 = No llueve, 1 = llueve')\n",
        "        plt.xlabel('Humedad relativa (%)')\n",
        "        plt.ylabel('Presión atmosférica (hPa)')\n",
        "        plt.title('Predicción de lluvia según condiciones meteorológicas')\n",
        "        plt.show()\n",
        "\n"
      ],
      "metadata": {
        "id": "TAryY46QvviO"
      },
      "execution_count": 85,
      "outputs": []
    },
    {
      "cell_type": "markdown",
      "source": [
        "#### Pruebas para la clase  WeatherPredictionExample"
      ],
      "metadata": {
        "id": "rBnj7SOs2utF"
      }
    },
    {
      "cell_type": "code",
      "source": [
        "example = WeatherPredictionExample()\n",
        "example.run()"
      ],
      "metadata": {
        "colab": {
          "base_uri": "https://localhost:8080/",
          "height": 808
        },
        "id": "hSoKJfsv2t55",
        "outputId": "679d92b0-8f57-428e-fb3d-2f968aa98ec0"
      },
      "execution_count": 89,
      "outputs": [
        {
          "output_type": "stream",
          "name": "stdout",
          "text": [
            "[[85  0]\n",
            " [14  1]]\n",
            "              precision    recall  f1-score   support\n",
            "\n",
            "           0       0.86      1.00      0.92        85\n",
            "           1       1.00      0.07      0.12        15\n",
            "\n",
            "    accuracy                           0.86       100\n",
            "   macro avg       0.93      0.53      0.52       100\n",
            "weighted avg       0.88      0.86      0.80       100\n",
            "\n",
            "Humedad: 80%\n",
            "Presión: 995 hPa\n",
            "¿Lloverá?: No\n"
          ]
        },
        {
          "output_type": "display_data",
          "data": {
            "text/plain": [
              "<Figure size 800x600 with 2 Axes>"
            ],
            "image/png": "[encoded data removed]"
          },
          "metadata": {}
        }
      ]
    },
    {
      "cell_type": "code",
      "source": [],
      "metadata": {
        "id": "x3RgAsGU23-y"
      },
      "execution_count": null,
      "outputs": []
    }
  ]
}