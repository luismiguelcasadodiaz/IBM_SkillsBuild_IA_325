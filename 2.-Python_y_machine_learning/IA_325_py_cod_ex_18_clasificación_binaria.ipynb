{
  "nbformat": 4,
  "nbformat_minor": 0,
  "metadata": {
    "colab": {
      "provenance": [],
      "authorship_tag": "ABX9TyPuasDKnR07KE+vPnYYRSCQ",
      "include_colab_link": true
    },
    "kernelspec": {
      "name": "python3",
      "display_name": "Python 3"
    },
    "language_info": {
      "name": "python"
    }
  },
  "cells": [
    {
      "cell_type": "markdown",
      "metadata": {
        "id": "view-in-github",
        "colab_type": "text"
      },
      "source": [
        "<a href=\"https://colab.research.google.com/github/luismiguelcasadodiaz/IBM_SkillsBuild_IA_325/blob/main/IA_325_py_cod_ex_18.ipynb\" target=\"_parent\"><img src=\"https://colab.research.google.com/assets/colab-badge.svg\" alt=\"Open In Colab\"/></a>"
      ]
    },
    {
      "cell_type": "markdown",
      "source": [
        "# Clasificación Binaria\n",
        "Supongamos que tienes un conjunto de datos que contiene información sobre pacientes y deseas predecir si un paciente tiene una enfermedad (1) o no (0) en función de algunas características médicas, como la edad y los niveles de colesterol.\n",
        "\n",
        "Tu tarea es desarrollar una función llamada regresion_logistica que tome estos datos como entrada y ajuste un modelo de regresión logística para la clasificación binaria.\n",
        "\n",
        "\n",
        "\n",
        "def regresion_logistica(datos):\n",
        "\n",
        "   \n",
        "\n",
        "## Ejemplo de uso con datos de pacientes\n",
        "```python\n",
        "data = {\n",
        "    'Edad': [50, 35, 65, 28, 60],\n",
        "    'Colesterol': [180, 150, 210, 130, 190],\n",
        "    'Enfermedad': [1, 0, 1, 0, 1]\n",
        "}\n",
        "\n",
        "df = pd.DataFrame(data)\n",
        "modelo_regresion_logistica = regresion_logistica(df)\n",
        "```\n",
        "\n",
        "## Estimaciones de clasificación binaria para nuevos datos\n",
        "```python\n",
        "nuevos_datos = pd.DataFrame({'Edad': [45, 55], 'Colesterol': [170, 200]})\n",
        "estimaciones_clasificacion = modelo_regresion_logistica.predict(nuevos_datos)\n",
        "print(\"Estimaciones de Clasificación:\")\n",
        "print(estimaciones_clasificacion)\n",
        "```\n",
        "\n",
        "## Resultados:\n",
        "\n",
        "\n",
        "\n",
        "Estimaciones de Clasificación:\n",
        "[1 1]"
      ],
      "metadata": {
        "id": "ykFKrt0H-FuY"
      }
    },
    {
      "cell_type": "markdown",
      "source": [
        "### Importación de librerías"
      ],
      "metadata": {
        "id": "pOgdcxVd-leP"
      }
    },
    {
      "cell_type": "code",
      "source": [
        "import pandas as pd\n",
        "from sklearn.linear_model import LogisticRegression"
      ],
      "metadata": {
        "id": "32JyTJds-gyh"
      },
      "execution_count": null,
      "outputs": []
    },
    {
      "cell_type": "markdown",
      "source": [
        "### Definición de la regresión"
      ],
      "metadata": {
        "id": "XEDkhnaT-tKM"
      }
    },
    {
      "cell_type": "code",
      "source": [
        "def regresion_logistica(datos):\n",
        "  pass"
      ],
      "metadata": {
        "id": "zAHWfk4S_ULO"
      },
      "execution_count": null,
      "outputs": []
    },
    {
      "cell_type": "markdown",
      "source": [
        "### Preparacion de datos"
      ],
      "metadata": {
        "id": "dWAMXzaJ_XIv"
      }
    },
    {
      "cell_type": "code",
      "source": [
        "data = {\n",
        "    'Edad': [50, 35, 65, 28, 60],\n",
        "    'Colesterol': [180, 150, 210, 130, 190],\n",
        "    'Enfermedad': [1, 0, 1, 0, 1]\n",
        "}\n",
        "\n",
        "datos = pd.DataFrame(data)\n",
        "\n",
        "nuevos_datos = pd.DataFrame({'Edad': [45, 55], 'Colesterol': [170, 200]})"
      ],
      "metadata": {
        "id": "Js-ZSFHe_gsP"
      },
      "execution_count": null,
      "outputs": []
    },
    {
      "cell_type": "markdown",
      "source": [
        "### Obtenemos un modelo entrenado"
      ],
      "metadata": {
        "id": "5BkOxDPq_wuR"
      }
    },
    {
      "cell_type": "code",
      "source": [
        "modelo_regresion_logistica = regresion_logistica(datos)"
      ],
      "metadata": {
        "id": "wCs0sEbu_pJW"
      },
      "execution_count": null,
      "outputs": []
    },
    {
      "cell_type": "markdown",
      "source": [
        "### Predicción"
      ],
      "metadata": {
        "id": "_Uz4-kdLASLv"
      }
    },
    {
      "cell_type": "code",
      "source": [
        "estimaciones_clasificacion = modelo_regresion_logistica.predict(nuevos_datos)\n",
        "print(\"Estimaciones de Clasificación:\")\n",
        "print(estimaciones_clasificacion)"
      ],
      "metadata": {
        "colab": {
          "base_uri": "https://localhost:8080/",
          "height": 176
        },
        "id": "S-qmZT_GAS_6",
        "outputId": "a978fdc1-0766-4893-a266-22b43d0c395d"
      },
      "execution_count": null,
      "outputs": [
        {
          "output_type": "error",
          "ename": "AttributeError",
          "evalue": "'NoneType' object has no attribute 'predict'",
          "traceback": [
            "\u001b[0;31m---------------------------------------------------------------------------\u001b[0m",
            "\u001b[0;31mAttributeError\u001b[0m                            Traceback (most recent call last)",
            "\u001b[0;32m<ipython-input-13-bf88c065a8d0>\u001b[0m in \u001b[0;36m<cell line: 0>\u001b[0;34m()\u001b[0m\n\u001b[0;32m----> 1\u001b[0;31m \u001b[0mestimaciones_clasificacion\u001b[0m \u001b[0;34m=\u001b[0m \u001b[0mmodelo_regresion_logistica\u001b[0m\u001b[0;34m.\u001b[0m\u001b[0mpredict\u001b[0m\u001b[0;34m(\u001b[0m\u001b[0mnuevos_datos\u001b[0m\u001b[0;34m)\u001b[0m\u001b[0;34m\u001b[0m\u001b[0;34m\u001b[0m\u001b[0m\n\u001b[0m\u001b[1;32m      2\u001b[0m \u001b[0mprint\u001b[0m\u001b[0;34m(\u001b[0m\u001b[0;34m\"Estimaciones de Clasificación:\"\u001b[0m\u001b[0;34m)\u001b[0m\u001b[0;34m\u001b[0m\u001b[0;34m\u001b[0m\u001b[0m\n\u001b[1;32m      3\u001b[0m \u001b[0mprint\u001b[0m\u001b[0;34m(\u001b[0m\u001b[0mestimaciones_clasificacion\u001b[0m\u001b[0;34m)\u001b[0m\u001b[0;34m\u001b[0m\u001b[0;34m\u001b[0m\u001b[0m\n",
            "\u001b[0;31mAttributeError\u001b[0m: 'NoneType' object has no attribute 'predict'"
          ]
        }
      ]
    }
  ]
}