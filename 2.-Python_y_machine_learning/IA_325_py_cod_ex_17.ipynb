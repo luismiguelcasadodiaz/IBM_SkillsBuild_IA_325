{
  "nbformat": 4,
  "nbformat_minor": 0,
  "metadata": {
    "colab": {
      "provenance": [],
      "authorship_tag": "ABX9TyOWWnp5wf/O3foF9KJV8gPk",
      "include_colab_link": true
    },
    "kernelspec": {
      "name": "python3",
      "display_name": "Python 3"
    },
    "language_info": {
      "name": "python"
    }
  },
  "cells": [
    {
      "cell_type": "markdown",
      "metadata": {
        "id": "view-in-github",
        "colab_type": "text"
      },
      "source": [
        "<a href=\"https://colab.research.google.com/github/luismiguelcasadodiaz/IBM_SkillsBuild_IA_325/blob/main/IA_325_py_cod_ex_17.ipynb\" target=\"_parent\"><img src=\"https://colab.research.google.com/assets/colab-badge.svg\" alt=\"Open In Colab\"/></a>"
      ]
    },
    {
      "cell_type": "markdown",
      "source": [
        "# Predecir consumo energético de satélites\n",
        "\n",
        "\n",
        "Una agencia espacial quiere entender mejor cómo varía el **consumo energético diario** de sus satélites dependiendo de la **duración de su misión**.\n",
        "\n",
        "Te han pedido que analices esta relación utilizando **datos simulados**, y que desarrolles un modelo que permita:\n",
        "\n",
        "+ Generar una muestra de satélites con características realistas.\n",
        "+ Calcular una **nueva métrica**: la **eficiencia energética** del satélite.\n",
        "+ Aplicar un modelo de **regresión lineal** para predecir el consumo diario a partir de la duración de la misión.\n",
        "+ Visualizar los resultados para facilitar la toma de decisiones.\n",
        "\n",
        "\n",
        "##  Actividades a realizar\n",
        "\n",
        "### 1. Crear una clase Satellite\n",
        "\n",
        "Esta clase debe representar un satélite individual con los siguientes atributos:\n",
        "\n",
        "+ duracion_mision (en días)\n",
        "+ paneles_sol (superficie total de paneles solares en m²)\n",
        "+ carga_util (peso de instrumentos y sensores en kg)\n",
        "+ consumo_diario (energía consumida por día en kWh)\n",
        "\n",
        "<br>\n",
        "<br>\n",
        "\n",
        "###  2. Generar datos sintéticos con SatelliteDatasetGenerator\n",
        "\n",
        "Esta clase debe generar N satélites simulados (por defecto 300), con los siguientes criterios:\n",
        "\n",
        "+ duracion_mision: aleatorio entre 100 y 1000 días.\n",
        "+ paneles_sol: aleatorio entre 10 y 100 m².\n",
        "+ carga_util: aleatorio entre 200 y 2000 kg.\n",
        "+ consumo_diario: calculado con la fórmula:\n",
        "consumo_diario=5+(0.01⋅duracion_mision)+(0.002⋅carga_util)+ruido_normal\n",
        "Donde ruido_normal es una perturbación aleatoria generada con np.random.normal(0, 1) para hacer los datos más realistas.\n",
        "\n",
        "\n",
        "<br>\n",
        "<br>\n",
        "\n",
        "### 3. Procesar los datos con SatelliteDataProcessor\n",
        "\n",
        "Convierte la lista de objetos Satellite en un DataFrame de pandas, y añade una columna nueva: Esta métrica mide cuánto **consume el satélite por cada metro cuadrado de panel solar**.\n",
        "<br>\n",
        "<br>\n",
        "\n",
        "\n",
        "### 4. Aplicar regresión lineal con EnergyConsumptionRegressor\n",
        "\n",
        "Esta clase debe aplicar el modelo de regresión lineal para predecir el consumo energético a partir de la duración de la misión. Debes:\n",
        "\n",
        "Entrenar el modelo con duracion_mision_dias como entrada (X) y consumo_diario como salida (y).\n",
        "\n",
        "Calcular el R² del modelo (r2_score) y mostrar los coeficientes:\n",
        "\n",
        "y_pred=(coef⋅duracion_mision)+intercepto\n",
        "\n",
        "<br>\n",
        "<br>\n",
        "\n",
        "### 5. Visualizar los resultados con SatellitePlotter\n",
        "\n",
        "Muestra un gráfico con:\n",
        "\n",
        "+ Puntos dispersos: consumo diario vs. duración de la misión.\n",
        "+ Color por carga útil (usa un mapa de color viridis).\n",
        "+ Línea de regresión en rojo.\n",
        "\n",
        "<br>\n",
        "<br>\n",
        "\n",
        "### 6. Ejecutar todo con la clase SatelliteAnalysisExample\n",
        "\n",
        "Una vez que has desarrollado las clases anteriores para generar, procesar, modelar y visualizar los datos, el último paso es integrar todo en una clase orquestadora que automatice el análisis completo.Esta clase debe encargarse de:\n",
        "\n",
        "+ Generar los datos: usando la clase SatelliteDatasetGenerator.\n",
        "+ Procesarlos: con SatelliteDataProcessor, que además de convertir la lista a DataFrame, añade la columna de eficiencia.\n",
        "+ Aplicar regresión: usando EnergyConsumptionRegressor para entrenar el modelo con la duración de la misión como predictor.\n",
        "+ Evaluar el modelo: imprimiendo el coeficiente de regresión, el intercepto y el R², que indica qué tan bien se ajusta el modelo a los datos.\n",
        "+ Visualizar los resultados: con SatellitePlotter, mostrando una gráfica clara con los datos y la predicción lineal\n",
        "\n",
        "\n",
        "\n",
        "\n",
        "## Ejemplo de uso\n",
        "\n",
        "example = SatelliteAnalysisExample()\n",
        "example.run()\n",
        "\n",
        "\n",
        "Salida esperada\n",
        "\n",
        "📈 Modelo: y = 0.0103 * x + 7.06\n",
        "🔍 R² del modelo: 0.7780"
      ],
      "metadata": {
        "id": "GxJLKS2twfj5"
      }
    },
    {
      "cell_type": "code",
      "source": [],
      "metadata": {
        "id": "Ul8Vvd3Nyw_F"
      },
      "execution_count": null,
      "outputs": []
    }
  ]
}