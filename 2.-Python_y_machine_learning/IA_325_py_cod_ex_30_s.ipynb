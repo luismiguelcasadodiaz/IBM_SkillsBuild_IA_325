{
  "nbformat": 4,
  "nbformat_minor": 0,
  "metadata": {
    "colab": {
      "provenance": [],
      "authorship_tag": "ABX9TyNlr8bOJGmn3nHgXrZ3KfY/",
      "include_colab_link": true
    },
    "kernelspec": {
      "name": "python3",
      "display_name": "Python 3"
    },
    "language_info": {
      "name": "python"
    }
  },
  "cells": [
    {
      "cell_type": "markdown",
      "metadata": {
        "id": "view-in-github",
        "colab_type": "text"
      },
      "source": [
        "<a href=\"https://colab.research.google.com/github/luismiguelcasadodiaz/IBM_SkillsBuild_IA_325/blob/main/IA_325_py_cod_ex_30_s.ipynb\" target=\"_parent\"><img src=\"https://colab.research.google.com/assets/colab-badge.svg\" alt=\"Open In Colab\"/></a>"
      ]
    },
    {
      "cell_type": "markdown",
      "source": [
        "#Clasificador de snacks saludables\n",
        "\n",
        "## Objetivo:\n",
        "\n",
        "En este ejercicio, aprenderás a crear un clasificador para predecir si un snack es saludable o no, basándote en características nutricionales como las calorías, azúcar, proteínas, grasas y fibra.\n",
        "\n",
        "Usaremos un árbol de decisión para crear un modelo que prediga si un snack es saludable en función de estos atributos.\n",
        "\n",
        "\n",
        "\n",
        "## Descripción:\n",
        "\n",
        "Imagina que trabajas en una aplicación de salud que recomienda snacks a los usuarios. Tienes acceso a un conjunto de datos que contiene información sobre varios snacks y su contenido nutricional.\n",
        "\n",
        "Usaremos estos datos para entrenar un modelo que pueda predecir si un snack es saludable basándose en sus atributos.\n",
        "\n",
        "\n",
        "\n",
        "## Pasos a seguir:\n",
        "\n",
        "### Creación de la clase Snack:\n",
        "  + Atributos:\n",
        "    + calories\n",
        "    + sugar\n",
        "    + protein\n",
        "    + fat\n",
        "    + fiber\n",
        "    + is_healthy(opcional), que será el resultado que queremos predecir (1 si el snack es saludable, 0 si no lo es).\n",
        "\n",
        "  + Métodos:\n",
        "    + to_vector() que convierta un snack en un vector de características (calorías, azúcar, proteínas, grasas, fibra).\n",
        "\n",
        "### Generación de Datos Sintéticos con la clase SnackGenerator:\n",
        "\n",
        "  + Crea una clase SnackGenerator que sea capaz de generar un conjunto de datos sintéticos con snacks. Esta clase debe crear entre 50 y 200 snacks con valores aleatorios para las características mencionadas.\n",
        "    + Atributos\n",
        "\n",
        "      + Calorías: entre 50 y 500.\n",
        "      + Azúcar: entre 0 y 50 gramos.\n",
        "      + Proteína: entre 0 y 30 gramos.\n",
        "      + Grasa: entre 0 y 30 gramos.\n",
        "      + Fibra: entre 0 y 15 gramos.\n",
        "\n",
        "  + La variable is_healthy debe seguir una regla aproximada: un snack es saludable si tiene menos de 200 calorías, menos de 15 gramos de azúcar, menos de 10 gramos de grasa, y al menos 5 gramos de proteína o fibra.\n",
        "\n",
        "### Clasificador de Snacks con Árbol de Decisión:\n",
        "\n",
        "  + Crea una clase SnackClassifier que use un árbol de decisión para clasificar los snacks.\n",
        "    + Métodos:\n",
        "\n",
        "      + fit(): entrenar el modelo usando un conjunto de snacks y sus etiquetas (is_healthy).\n",
        "\n",
        "      + predict(): predecir si un snack específico es saludable o no.\n",
        "\n",
        "### Crear un Ejemplo de Uso:\n",
        "\n",
        "+ Crea un objeto de la clase SnackRecommendationExample que entrene el clasificador utilizando el generador de snacks.\n",
        "\n",
        "+ Crea un snack de prueba con valores nutricionales conocidos, como 150 calorías, 10 gramos de azúcar, 6 gramos de proteína, 5 gramos de grasa y 3 gramos de fibra.\n",
        "\n",
        "+ Usa el clasificador para predecir si este snack es saludable y muestra la predicción.\n",
        "\n",
        "\n",
        "\n",
        "## Requisitos:\n",
        "\n",
        "+ **Uso de Árbol de Decisión**: Para realizar la clasificación, usa la librería sklearn y su DecisionTreeClassifier.\n",
        "\n",
        "+ **Generación de datos**: Usa numpy para generar valores aleatorios.\n",
        "\n",
        "+ **Impresión de resultados**: Imprime la información nutricional del snack de prueba junto con la predicción de si es saludable o no.\n",
        "\n",
        "\n",
        "\n",
        "## Resultado esperado:\n",
        "\n",
        "Al ejecutar el código, el sistema debe mostrar la información nutricional del snack de prueba y una predicción indicando si es saludable o no.\n",
        "\n",
        "### Ejemplo de uso\n",
        "```python\n",
        "# Ejecutar ejemplo\n",
        "example = SnackRecommendationExample()\n",
        "example.run()\n",
        "```\n",
        "### Salida esperada\n",
        "\n",
        "🔍 Snack Info:<br>\n",
        "Calories: 150, Sugar: 10g, Protein: 6g, Fat: 5g, Fiber: 3g<br>\n",
        "✅ Predicción: Este snack no es saludable.\n"
      ],
      "metadata": {
        "id": "wNiQSrhN2ZJE"
      }
    },
    {
      "cell_type": "markdown",
      "source": [
        "## Importación de las librerías"
      ],
      "metadata": {
        "id": "B9eYD7vP-Kt6"
      }
    },
    {
      "cell_type": "code",
      "source": [
        "import numpy as np\n",
        "from sklearn.tree import DecisionTreeClassifier\n"
      ],
      "metadata": {
        "id": "HhRCIyxk-Nqk"
      },
      "execution_count": 21,
      "outputs": []
    },
    {
      "cell_type": "markdown",
      "source": [
        "## Definición de la clase Snack"
      ],
      "metadata": {
        "id": "C-ipJ_FH2O9o"
      }
    },
    {
      "cell_type": "code",
      "source": [
        "class Snack:\n",
        "  def __init__(self, calories, sugar, protein, fat, fiber, is_health = None):\n",
        "    if not isinstance(calories, int) or calories < 50 or 500 < calories:\n",
        "      raise TypeError('Calories debe ser un entero entre 50 y 500')\n",
        "    if not isinstance(sugar, int) or sugar < 0 or 50 < sugar:\n",
        "      raise TypeError('Sugar debe ser un entero entre 0 y 50  gramos')\n",
        "    if not isinstance(protein, int) or protein < 0 or 30 < protein:\n",
        "      raise TypeError('Protein debe ser un entero entre 0 y 30 gramos')\n",
        "    if not isinstance(fat, int) or fat < 0 or 30 < fat:\n",
        "      raise TypeError('Fat debe ser un entero entre 0 y 30 gramos')\n",
        "    if not isinstance(fiber, int) or fiber < 0 or 15 < fiber:\n",
        "      raise TypeError('Fiber debe ser un entero entre 0 y 15 gramos')\n",
        "    if not is_health is None and not isinstance(is_health, int):\n",
        "      raise TypeError('is_health debe ser un entero')\n",
        "\n",
        "    self.calories = calories\n",
        "    self.sugar = sugar\n",
        "    self.protein = protein\n",
        "    self.fat = fat\n",
        "    self.fiber = fiber\n",
        "    self.is_healthy = is_health\n",
        "  def to_vector(self):\n",
        "    return [self.calories, self.sugar, self.protein, self.fat, self.fiber]\n",
        "  def __str__(self):\n",
        "    return f'Calories: {self.calories}, Sugar: {self.sugar}g, Protein: {self.protein}g, Fat: {self.fat}g, Fiber: {self.fiber}g'"
      ],
      "metadata": {
        "id": "zFXSfL-j57cx"
      },
      "execution_count": 22,
      "outputs": []
    },
    {
      "cell_type": "markdown",
      "source": [
        "## Definición de la clase SnackGenerator"
      ],
      "metadata": {
        "id": "i9joftVY5P-D"
      }
    },
    {
      "cell_type": "code",
      "source": [
        "class SnackGenerator:\n",
        "  def __init__(self):\n",
        "    self.snacks = []\n",
        "  def generate(self, n):\n",
        "    for i in range(n):\n",
        "      calories = np.random.randint(50, 500)\n",
        "      sugar = np.random.randint(0, 50)\n",
        "      protein = np.random.randint(0, 30)\n",
        "      fat = np.random.randint(0, 30)\n",
        "      fiber = np.random.randint(0, 15)\n",
        "      if calories < 200 and sugar < 15 and fat < 10 and (protein > 5 or fiber > 5):\n",
        "        is_healthy = 1\n",
        "      else:\n",
        "        is_healthy = 0\n",
        "      self.snacks.append(Snack(calories, sugar, protein, fat, fiber, is_healthy))\n",
        "    return self.snacks"
      ],
      "metadata": {
        "id": "bjDbn7DB7q73"
      },
      "execution_count": 23,
      "outputs": []
    },
    {
      "cell_type": "markdown",
      "source": [
        "## Definición de la clase SnackClassifer"
      ],
      "metadata": {
        "id": "8S-mC7KJ5Prl"
      }
    },
    {
      "cell_type": "code",
      "source": [
        "class SnackClassifier:\n",
        "  def __init__(self):\n",
        "    self.tree =  None\n",
        "    self.snacks = []\n",
        "  def fit(self, snacks):\n",
        "    self.snacks = snacks\n",
        "    X = [snack.to_vector() for snack in snacks]\n",
        "    y = [snack.is_healthy for snack in snacks]\n",
        "    self.tree = DecisionTreeClassifier()\n",
        "    self.tree.fit(X, y)\n",
        "\n",
        "  def predict(self, snack):\n",
        "    if not isinstance(snack, Snack):\n",
        "      raise TypeError('snack debe ser de tipo Snack')\n",
        "    if self.tree is None:\n",
        "      raise Exception('El clasificador no ha sido entrenado')\n",
        "    X = snack.to_vector()\n",
        "    prediction = self.tree.predict([X])\n",
        "    if prediction[0] == 1:\n",
        "      return 'Este snack es saludable'\n",
        "    else:\n",
        "      return 'Este snack no es saludable'"
      ],
      "metadata": {
        "id": "y3hcIvFl8Q8d"
      },
      "execution_count": 24,
      "outputs": []
    },
    {
      "cell_type": "markdown",
      "source": [
        "## Definicción de la clase SnackRecommendationExample"
      ],
      "metadata": {
        "id": "gOxKivs65PbB"
      }
    },
    {
      "cell_type": "code",
      "source": [
        "class SnackRecommendationExample:\n",
        "  def __init__(self):\n",
        "    self.generator = SnackGenerator()\n",
        "    self.classifier = SnackClassifier()\n",
        "  def run(self):\n",
        "    self.classifier.fit(self.generator.generate(np.random.randint(50, 200)))\n",
        "    snack = Snack(150, 10, 6, 5, 3)\n",
        "    print(\"🔍 Snack Info:\")\n",
        "    print(snack)\n",
        "    print(f\"✅ Predicción: {self.classifier.predict(snack)}\")\n",
        ""
      ],
      "metadata": {
        "id": "WtgZGOwu5tvI"
      },
      "execution_count": 25,
      "outputs": []
    },
    {
      "cell_type": "code",
      "source": [
        "example = SnackRecommendationExample()\n",
        "example.run()"
      ],
      "metadata": {
        "colab": {
          "base_uri": "https://localhost:8080/"
        },
        "id": "wqnPXXEA-E5I",
        "outputId": "29b335dd-c640-44b1-af4a-550bebf87e80"
      },
      "execution_count": 26,
      "outputs": [
        {
          "output_type": "stream",
          "name": "stdout",
          "text": [
            "🔍 Snack Info:\n",
            "Calories: 150, Sugar: 10g, Protein: 6g, Fat: 5g, Fiber: 3g\n",
            "✅ Predicción: Este snack no es saludable\n"
          ]
        }
      ]
    }
  ]
}