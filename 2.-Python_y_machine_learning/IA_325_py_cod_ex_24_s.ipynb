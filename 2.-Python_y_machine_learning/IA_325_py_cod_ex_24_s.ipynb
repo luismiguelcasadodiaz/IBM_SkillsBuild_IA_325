{
  "nbformat": 4,
  "nbformat_minor": 0,
  "metadata": {
    "colab": {
      "provenance": [],
      "authorship_tag": "ABX9TyOxMSOo4r9YczW/A+n8lAj2",
      "include_colab_link": true
    },
    "kernelspec": {
      "name": "python3",
      "display_name": "Python 3"
    },
    "language_info": {
      "name": "python"
    }
  },
  "cells": [
    {
      "cell_type": "markdown",
      "metadata": {
        "id": "view-in-github",
        "colab_type": "text"
      },
      "source": [
        "<a href=\"https://colab.research.google.com/github/luismiguelcasadodiaz/IBM_SkillsBuild_IA_325/blob/main/IA_325_py_cod_ex_24_s.ipynb\" target=\"_parent\"><img src=\"https://colab.research.google.com/assets/colab-badge.svg\" alt=\"Open In Colab\"/></a>"
      ]
    },
    {
      "cell_type": "markdown",
      "source": [
        "# Recomendador de Personajes\n",
        "🎮 \"Recomendador de Personajes: ¿Qué tipo de personaje deberías elegir?\"\n",
        "\n",
        "##📘 Enunciado\n",
        "\n",
        "En este ejercicio trabajarás como desarrollador de sistemas inteligentes para un nuevo videojuego tipo RPG online. El juego permite a los jugadores crear personajes y elegir entre distintos **roles o clases** (por ejemplo: guerrero, mago, arquero, curandero…).\n",
        "\n",
        "Tu tarea es construir un **modelo de recomendación** que, dado un perfil de jugador (nivel, estilo de combate, número de partidas jugadas, etc.), recomiende qué **tipo de personaje** debería usar, basándose en datos históricos de otros jugadores similares.\n",
        "\n",
        "## 🧩 Requerimientos\n",
        "\n",
        "+ Crea una **clase Player**:represente a un jugador con los siguientes\n",
        "  + Atributos:\n",
        "\n",
        "    + name: nombre del jugador.\n",
        "    + level: nivel del jugador (1 a 100).\n",
        "    + aggressiveness: valor entre 0 y 1 que representa su estilo ofensivo.\n",
        "    + cooperation: valor entre 0 y 1 que representa cuánto coopera con el equipo.\n",
        "    + exploration: valor entre 0 y 1 que representa cuánto le gusta explorar el mapa.\n",
        "    + preferred_class: clase de personaje que suele elegir (solo en los datos de entrenamiento).\n",
        "  + Métodos\n",
        "    + .to_features() en la clase para convertir al jugador en una **lista** de características numéricas (sin la clase preferida).\n",
        "\n",
        "+ Crea una **clase PlayerDataset**:\n",
        "\n",
        "  + Atributos:\n",
        "    + una lista de jugadores\n",
        "  + Métodos:\n",
        "    + get_X() → lista de listas de características.\n",
        "    + get_y() → lista de clases preferidas.\n",
        "\n",
        "+ Crea una clase **ClassRecommender** que use KNN para:\n",
        "  + Métoodos\n",
        "    + train : para Entrenar el modelo a partir de un PlayerDataset.\n",
        "    + predict: para Predecir la mejor clase para un nuevo jugador (predict(player)).\n",
        "    + get_nearest_neighbors(player) : para obtener los k jugadores más parecidos (get_nearest_neighbors(player)).\n",
        "    (opcional)\n",
        "    + best_k : para probar diferentes valores de k\n",
        "    + evaluate ; para evaluar la precisión del modelo con cross_val_score.\n",
        "\n",
        "\n",
        "\n",
        "## 🧪 Ejemplo de uso\n",
        "\n",
        "### Datos de entrenamiento\n",
        "```python\n",
        "players = [\n",
        "    Player(\"Alice\", 20, 0.8, 0.2, 0.1, \"Warrior\"),\n",
        "    Player(\"Bob\", 45, 0.4, 0.8, 0.2, \"Healer\"),\n",
        "    Player(\"Cleo\", 33, 0.6, 0.4, 0.6, \"Archer\"),\n",
        "    Player(\"Dan\", 60, 0.3, 0.9, 0.3, \"Healer\"),\n",
        "    Player(\"Eli\", 50, 0.7, 0.2, 0.9, \"Mage\"),\n",
        "    Player(\"Fay\", 25, 0.9, 0.1, 0.2, \"Warrior\"),\n",
        "]\n",
        "```\n",
        "\n",
        "### Nuevo jugador\n",
        "```python\n",
        "new_player = Player(\"TestPlayer\", 40, 0.6, 0.3, 0.8)\n",
        "```\n",
        "### Entrenamiento y predicción\n",
        "```python\n",
        "dataset = PlayerDataset(players)\n",
        "recommender = ClassRecommender(n_neighbors=3)\n",
        "recommender.train(dataset)\n",
        "```\n",
        "### Resultado\n",
        "```python\n",
        "recommended_class = recommender.predict(new_player)\n",
        "neighbors_indices = recommender.get_nearest_neighbors(new_player)\n",
        "\n",
        "print(f\"Clase recomendada para {new_player.name}: {recommended_class}\")\n",
        "print(\"Jugadores similares:\")\n",
        "for i in neighbors_indices:\n",
        "    print(f\"- {players[i].name} ({players[i].preferred_class})\")\n",
        "\n",
        "```\n",
        "\n",
        "### 🧪 Salida esperada\n",
        "\n",
        "Clase recomendada para TestPlayer: Archer\n",
        "Jugadores similares:\n",
        "- Bob (Healer)\n",
        "- Cleo (Archer)\n",
        "- Eli (Mage)"
      ],
      "metadata": {
        "id": "EPrG-I7-ltaz"
      }
    },
    {
      "cell_type": "markdown",
      "source": [
        "## Importación de librerias"
      ],
      "metadata": {
        "id": "oamO6M4NpYW8"
      }
    },
    {
      "cell_type": "code",
      "execution_count": 219,
      "metadata": {
        "id": "L3uV_kRllqOS"
      },
      "outputs": [],
      "source": [
        "import pandas as pd\n",
        "import numpy as np\n",
        "import unittest\n",
        "from sklearn.neighbors import KNeighborsClassifier\n",
        "\n",
        "from sklearn.model_selection import train_test_split, cross_val_score"
      ]
    },
    {
      "cell_type": "markdown",
      "source": [
        "## Definición de la clase Player"
      ],
      "metadata": {
        "id": "xz9FLIa1qNyo"
      }
    },
    {
      "cell_type": "code",
      "source": [
        "class Player:\n",
        "  \"\"\"\n",
        "  Representa a un jugador con atributos y método para obtener características.\n",
        "\n",
        "  Atributos:\n",
        "    name (str): Nombre del jugador.\n",
        "    level (int): Nivel del jugador (1 a 100).\n",
        "    aggressiveness (float): Estilo ofensivo del jugador (0 a 1).\n",
        "    cooperation (float): Cuánto coopera con el equipo (0 a 1).\n",
        "    exploration (float): Cuánto le gusta explorar el mapa (0 a 1).\n",
        "    preferred_class (str): Clase de personaje que suele elegir\n",
        "      (\"Warrior\", \"Healer\", \"Archer\", \"Mage\").\n",
        "  \"\"\"\n",
        "  def __init__(self, name, level, aggressiveness, cooperation, exploration, \\\n",
        "               preferred_class=None):\n",
        "    if not isinstance(name, str) or len(name) == 0:\n",
        "      raise ValueError(\"El nombre debe ser una cadena de texto\")\n",
        "    self.name = name\n",
        "    if not isinstance(level, int) or level < 1 or level > 100:\n",
        "      raise ValueError(\"El nivel debe ser entre 1 y 100\")\n",
        "    self.level = level\n",
        "    if not isinstance(aggressiveness, float) or not (0 <= aggressiveness <= 1):\n",
        "      raise ValueError(\"La agressividad debe estar entre 0 y 1\")\n",
        "    self.aggressiveness = aggressiveness\n",
        "    if not isinstance(cooperation, float) or not (0 <= cooperation <= 1):\n",
        "      raise ValueError(\"La cooperacion debe estar entre 0 y 1\")\n",
        "    self.cooperation = cooperation\n",
        "    if not isinstance(exploration, float) or not (0 <= exploration <= 1):\n",
        "      raise ValueError(\"La exploracion debe estar entre 0 y 1\")\n",
        "    self.exploration = exploration\n",
        "    if preferred_class is not None and preferred_class not in [\"Warrior\", \\\n",
        "                                                               \"Healer\",  \\\n",
        "                                                               \"Archer\",  \\\n",
        "                                                               \"Mage\"]:\n",
        "      raise ValueError(\"La clase debe ser Warrior, Healer, Archer o Mage\")\n",
        "    self.preferred_class = preferred_class\n",
        "  def to_features(self):\n",
        "    return [self.level, self.aggressiveness, self.cooperation, self.exploration]\n",
        "\n"
      ],
      "metadata": {
        "id": "2iOzHDkAquQE"
      },
      "execution_count": 220,
      "outputs": []
    },
    {
      "cell_type": "markdown",
      "source": [
        "#### Tests para la clase Player"
      ],
      "metadata": {
        "id": "zKs0K-NOtpeL"
      }
    },
    {
      "cell_type": "code",
      "source": [
        "class TestPlayer(unittest.TestCase):\n",
        "\n",
        "    def test_player_creation_valid(self):\n",
        "        # Test creating a player with valid attributes\n",
        "        try:\n",
        "            player = Player(\"Alice\", 20, 0.8, 0.2, 0.1, \"Warrior\")\n",
        "            self.assertEqual(player.name, \"Alice\")\n",
        "            self.assertEqual(player.level, 20)\n",
        "            self.assertEqual(player.aggressiveness, 0.8)\n",
        "            self.assertEqual(player.cooperation, 0.2)\n",
        "            self.assertEqual(player.exploration, 0.1)\n",
        "            self.assertEqual(player.preferred_class, \"Warrior\")\n",
        "        except ValueError as e:\n",
        "            self.fail(f\"Valid player creation failed with error: {e}\")\n",
        "\n",
        "    def test_player_creation_invalid_level(self):\n",
        "        # Test creating a player with an invalid level\n",
        "        with self.assertRaises(ValueError):\n",
        "            Player(\"Bob\", 101, 0.4, 0.8, 0.2, \"Healer\")\n",
        "        with self.assertRaises(ValueError):\n",
        "            Player(\"Bob\", 0, 0.4, 0.8, 0.2, \"Healer\")\n",
        "\n",
        "    def test_player_creation_invalid_aggressiveness(self):\n",
        "        # Test creating a player with invalid aggressiveness\n",
        "        with self.assertRaises(ValueError):\n",
        "            Player(\"Cleo\", 33, 1.1, 0.4, 0.6, \"Archer\")\n",
        "        with self.assertRaises(ValueError):\n",
        "            Player(\"Cleo\", 33, -0.1, 0.4, 0.6, \"Archer\")\n",
        "\n",
        "    def test_player_creation_invalid_cooperation(self):\n",
        "        # Test creating a player with invalid cooperation\n",
        "        with self.assertRaises(ValueError):\n",
        "            Player(\"Dan\", 60, 0.3, 1.2, 0.3, \"Healer\")\n",
        "        with self.assertRaises(ValueError):\n",
        "            Player(\"Dan\", 60, 0.3, -0.2, 0.3, \"Healer\")\n",
        "\n",
        "    def test_player_creation_invalid_exploration(self):\n",
        "        # Test creating a player with invalid exploration\n",
        "        with self.assertRaises(ValueError):\n",
        "            Player(\"Eli\", 50, 0.7, 0.2, 1.3, \"Mage\")\n",
        "        with self.assertRaises(ValueError):\n",
        "            Player(\"Eli\", 50, 0.7, 0.2, -0.3, \"Mage\")\n",
        "\n",
        "    def test_player_creation_invalid_preferred_class(self):\n",
        "        # Test creating a player with an invalid preferred class\n",
        "        with self.assertRaises(ValueError):\n",
        "            Player(\"Fay\", 25, 0.9, 0.1, 0.2, \"InvalidClass\")\n",
        "\n",
        "    def test_to_features(self):\n",
        "        # Test the to_features method\n",
        "        player = Player(\"Alice\", 20, 0.8, 0.2, 0.1, \"Warrior\")\n",
        "        features = player.to_features()\n",
        "        self.assertEqual(features, [20, 0.8, 0.2, 0.1])\n"
      ],
      "metadata": {
        "id": "akfjFfs-thF_"
      },
      "execution_count": 221,
      "outputs": []
    },
    {
      "cell_type": "code",
      "source": [
        "unittest.main(argv=['first-arg-is-ignored'], exit=False)"
      ],
      "metadata": {
        "colab": {
          "base_uri": "https://localhost:8080/"
        },
        "id": "o7h2rYGyuQNc",
        "outputId": "7d5e6dc5-2f90-4f79-faa5-d5946c4f36ab"
      },
      "execution_count": 222,
      "outputs": [
        {
          "output_type": "stream",
          "name": "stderr",
          "text": [
            "..F.............\n",
            "======================================================================\n",
            "FAIL: test_predict (__main__.TestClassRecommender.test_predict)\n",
            "----------------------------------------------------------------------\n",
            "Traceback (most recent call last):\n",
            "  File \"<ipython-input-214-9d74e682c354>\", line 27, in test_predict\n",
            "    self.assertIsInstance(recommended_class, (list, np.ndarray))\n",
            "AssertionError: np.str_('Archer') is not an instance of (<class 'list'>, <class 'numpy.ndarray'>)\n",
            "\n",
            "----------------------------------------------------------------------\n",
            "Ran 16 tests in 0.028s\n",
            "\n",
            "FAILED (failures=1)\n"
          ]
        },
        {
          "output_type": "execute_result",
          "data": {
            "text/plain": [
              "<unittest.main.TestProgram at 0x7e168a6eb510>"
            ]
          },
          "metadata": {},
          "execution_count": 222
        }
      ]
    },
    {
      "cell_type": "markdown",
      "source": [
        "## Definición de la clase PlayerDataset"
      ],
      "metadata": {
        "id": "FiM8oQaSqcin"
      }
    },
    {
      "cell_type": "code",
      "source": [
        "class PlayerDataset:\n",
        "  \"\"\"Representa un conjunto de datos de jugadores.\n",
        "\n",
        "  Atributos:\n",
        "    players\n",
        "  \"\"\"\n",
        "  def __init__(self, players):\n",
        "    if not isinstance(players, list):\n",
        "      raise ValueError(\"Los jugadores deben ser una lista\")\n",
        "    self.players = players\n",
        "\n",
        "  def get_X(self):\n",
        "    return [player.to_features() for player in self.players]\n",
        "\n",
        "  def get_y(self):\n",
        "    return [player.preferred_class for player in self.players]"
      ],
      "metadata": {
        "id": "idsW2G0aupWK"
      },
      "execution_count": 223,
      "outputs": []
    },
    {
      "cell_type": "markdown",
      "source": [
        "#### Test para la clase PlayerDataset"
      ],
      "metadata": {
        "id": "XBG-FBJcvBxg"
      }
    },
    {
      "cell_type": "code",
      "source": [
        "class TestPlayerDataset(unittest.TestCase):\n",
        "\n",
        "    def test_dataset_creation_valid(self):\n",
        "        # Test creating a PlayerDataset with valid input\n",
        "        players = [\n",
        "            Player(\"Alice\", 20, 0.8, 0.2, 0.1, \"Warrior\"),\n",
        "            Player(\"Bob\", 45, 0.4, 0.8, 0.2, \"Healer\")\n",
        "        ]\n",
        "        try:\n",
        "            dataset = PlayerDataset(players)\n",
        "            self.assertEqual(len(dataset.players), 2)\n",
        "            self.assertEqual(dataset.players[0].name, \"Alice\")\n",
        "        except ValueError as e:\n",
        "            self.fail(f\"Valid PlayerDataset creation failed with error: {e}\")\n",
        "\n",
        "    def test_dataset_creation_invalid(self):\n",
        "        # Test creating a PlayerDataset with invalid input\n",
        "        with self.assertRaises(ValueError):\n",
        "            PlayerDataset(\"not a list\")\n",
        "\n",
        "    def test_get_X(self):\n",
        "        # Test the get_X method\n",
        "        players = [\n",
        "            Player(\"Alice\", 20, 0.8, 0.2, 0.1, \"Warrior\"),\n",
        "            Player(\"Bob\", 45, 0.4, 0.8, 0.2, \"Healer\")\n",
        "        ]\n",
        "        dataset = PlayerDataset(players)\n",
        "        X = dataset.get_X()\n",
        "        self.assertEqual(X, [[20, 0.8, 0.2, 0.1], [45, 0.4, 0.8, 0.2]])\n",
        "\n",
        "    def test_get_y(self):\n",
        "        # Test the get_y method\n",
        "        players = [\n",
        "            Player(\"Alice\", 20, 0.8, 0.2, 0.1, \"Warrior\"),\n",
        "            Player(\"Bob\", 45, 0.4, 0.8, 0.2, \"Healer\")\n",
        "        ]\n",
        "        dataset = PlayerDataset(players)\n",
        "        y = dataset.get_y()\n",
        "        self.assertEqual(y, [\"Warrior\", \"Healer\"])"
      ],
      "metadata": {
        "id": "D126DawIvHGj"
      },
      "execution_count": 224,
      "outputs": []
    },
    {
      "cell_type": "code",
      "source": [
        "unittest.main(argv=['first-arg-is-ignored'], exit=False)"
      ],
      "metadata": {
        "colab": {
          "base_uri": "https://localhost:8080/"
        },
        "id": "F9NBNQATvL7G",
        "outputId": "e335fe57-112f-430d-a74c-00c30dabb519"
      },
      "execution_count": 225,
      "outputs": [
        {
          "output_type": "stream",
          "name": "stderr",
          "text": [
            "..F.............\n",
            "======================================================================\n",
            "FAIL: test_predict (__main__.TestClassRecommender.test_predict)\n",
            "----------------------------------------------------------------------\n",
            "Traceback (most recent call last):\n",
            "  File \"<ipython-input-214-9d74e682c354>\", line 27, in test_predict\n",
            "    self.assertIsInstance(recommended_class, (list, np.ndarray))\n",
            "AssertionError: np.str_('Archer') is not an instance of (<class 'list'>, <class 'numpy.ndarray'>)\n",
            "\n",
            "----------------------------------------------------------------------\n",
            "Ran 16 tests in 0.024s\n",
            "\n",
            "FAILED (failures=1)\n"
          ]
        },
        {
          "output_type": "execute_result",
          "data": {
            "text/plain": [
              "<unittest.main.TestProgram at 0x7e168a66cdd0>"
            ]
          },
          "metadata": {},
          "execution_count": 225
        }
      ]
    },
    {
      "cell_type": "markdown",
      "source": [
        "## Definición de la clase ClassRecommender"
      ],
      "metadata": {
        "id": "CzydkSPcqoHU"
      }
    },
    {
      "cell_type": "code",
      "source": [
        "class ClassRecommender:\n",
        "  \"\"\"Recomendador de clases de personaje basado en jugadores similares usando KNN.\n",
        "\n",
        "  Atributos:\n",
        "    n_neighbors (int): Número de vecinos a considerar para la recomendación.\n",
        "    knn (KNeighborsClassifier): El modelo KNN entrenado.\n",
        "  \"\"\"\n",
        "  def __init__(self, n_neighbors=5):\n",
        "    self.n_neighbors = n_neighbors\n",
        "    self.knn = None\n",
        "\n",
        "  def train(self, dataset):\n",
        "    \"\"\"Entrena el modelo KNN con los datos del dataset.\n",
        "\n",
        "    Args:\n",
        "      dataset (PlayerDataset): El dataset de jugadores a usar para entrenar.\n",
        "    \"\"\"\n",
        "    X = np.array(dataset.get_X())\n",
        "    y = np.array(dataset.get_y())\n",
        "    self.knn = KNeighborsClassifier(n_neighbors=self.n_neighbors)\n",
        "    self.knn.fit(X, y)\n",
        "\n",
        "  def predict(self, new_player):\n",
        "    \"\"\"Predice la clase de personaje recomendada para un nuevo jugador.\n",
        "\n",
        "    Args:\n",
        "      new_player (Player): El nuevo jugador para el que hacer la predicción.\n",
        "\n",
        "    Returns:\n",
        "      str: La clase de personaje recomendada.\n",
        "\n",
        "    Raises:\n",
        "      ValueError: Si el modelo no ha sido entrenado.\n",
        "    \"\"\"\n",
        "    if self.knn is None:\n",
        "      raise ValueError(\"El modelo no ha sido entrenado\")\n",
        "    new_player_features = np.array(new_player.to_features()).reshape(1, -1)\n",
        "    return self.knn.predict(new_player_features)[0]\n",
        "\n",
        "  def get_nearest_neighbors(self, new_player):\n",
        "    \"\"\"Obtiene los índices de los vecinos más cercanos a un nuevo jugador.\n",
        "\n",
        "    Args:\n",
        "      new_player (Player): El nuevo jugador.\n",
        "\n",
        "    Returns:\n",
        "      np.ndarray: Un array con los índices de los k vecinos más cercanos.\n",
        "\n",
        "    Raises:\n",
        "      ValueError: Si el modelo no ha sido entrenado.\n",
        "    \"\"\"\n",
        "    if self.knn is None:\n",
        "      raise ValueError(\"El modelo no ha sido entrenado\")\n",
        "    new_player_features = np.array(new_player.to_features()).reshape(1, -1)\n",
        "    _, indices = self.knn.kneighbors(new_player_features)\n",
        "    return indices.flatten()\n",
        "\n",
        "  def best_k(self, dataset):\n",
        "    \"\"\"Encuentra el mejor valor de k para el modelo usando validación cruzada.\n",
        "\n",
        "    Args:\n",
        "      dataset (PlayerDataset): El dataset de jugadores para evaluar.\n",
        "\n",
        "    Returns:\n",
        "      int: El valor de k que resultó en el menor error.\n",
        "    \"\"\"\n",
        "    X = np.array(dataset.get_X())\n",
        "    y = np.array(dataset.get_y())\n",
        "    X_train, X_test, y_train, y_test = train_test_split(X, y, test_size=0.2, random_state=42)\n",
        "    tasa_errores = []\n",
        "    for k in range(1, X_train.shape[0]):\n",
        "      knn = KNeighborsClassifier(n_neighbors=k)\n",
        "      knn.fit(X_train, y_train)\n",
        "      y_pred = knn.predict(X_test)\n",
        "      tasa_errores.append(np.mean(y_pred != y_test))\n",
        "    print(tasa_errores) # Considerar si esto es necesario en un método\n",
        "    min_error = min(tasa_errores)\n",
        "    best_k = tasa_errores.index(min_error) + 1\n",
        "    return best_k\n",
        "\n",
        "  def evaluate(self, dataset):\n",
        "    \"\"\"Evalúa la precisión del modelo usando validación cruzada.\n",
        "\n",
        "    Args:\n",
        "      dataset (PlayerDataset): El dataset de jugadores para evaluar.\n",
        "\n",
        "    Returns:\n",
        "      np.ndarray: Un array con las puntuaciones de precisión de cada fold.\n",
        "\n",
        "    Raises:\n",
        "      ValueError: Si el modelo no ha sido entrenado.\n",
        "    \"\"\"\n",
        "    if self.knn is None:\n",
        "        raise ValueError(\"El modelo no ha sido entrenado\")\n",
        "    X = np.array(dataset.get_X())\n",
        "    y = np.array(dataset.get_y())\n",
        "    scores = cross_val_score(self.knn, X, y, cv=5)\n",
        "    return scores\n",
        ""
      ],
      "metadata": {
        "id": "YCO9eoz4vXjV"
      },
      "execution_count": 226,
      "outputs": []
    },
    {
      "cell_type": "markdown",
      "source": [
        "#### Tests para la clase ClassRecommender"
      ],
      "metadata": {
        "id": "0wd8okW0ZrRG"
      }
    },
    {
      "cell_type": "code",
      "source": [
        "class TestClassRecommender(unittest.TestCase):\n",
        "\n",
        "    def setUp(self):\n",
        "        # Set up a sample dataset and recommender for testing\n",
        "        self.players = [\n",
        "            Player(\"Alice\", 20, 0.8, 0.2, 0.1, \"Warrior\"),\n",
        "            Player(\"Bob\", 45, 0.4, 0.8, 0.2, \"Healer\"),\n",
        "            Player(\"Cleo\", 33, 0.6, 0.4, 0.6, \"Archer\"),\n",
        "            Player(\"Dan\", 60, 0.3, 0.9, 0.3, \"Healer\"),\n",
        "            Player(\"Eli\", 50, 0.7, 0.2, 0.9, \"Mage\"),\n",
        "            Player(\"Fay\", 25, 0.9, 0.1, 0.2, \"Warrior\"),\n",
        "        ]\n",
        "        self.dataset = PlayerDataset(self.players)\n",
        "        self.recommender = ClassRecommender(n_neighbors=3)\n",
        "        self.recommender.train(self.dataset)\n",
        "\n",
        "    def test_train(self):\n",
        "        # Test if the model is trained (knn attribute is not None)\n",
        "        self.assertIsNotNone(self.recommender.knn)\n",
        "\n",
        "    def test_predict(self):\n",
        "        # Test the predict method with a new player\n",
        "        new_player = Player(\"TestPlayer\", 40, 0.6, 0.3, 0.8)\n",
        "        recommended_class = self.recommender.predict(new_player)\n",
        "        # Since KNN depends on the data and k, we can't assert a specific class\n",
        "        # but we can check if the output is a list or array (from the model)\n",
        "        self.assertIsInstance(recommended_class, (list, np.ndarray))\n",
        "        # A more specific test would require knowing the expected output for this\n",
        "        # specific new_player and dataset. For example:\n",
        "        # self.assertEqual(recommended_class[0], \"Archer\") # If \"Archer\" is the expected class\n",
        "\n",
        "    def test_predict_before_training(self):\n",
        "        # Test if predict raises an error before training\n",
        "        recommender_untrained = ClassRecommender(n_neighbors=3)\n",
        "        new_player = Player(\"TestPlayer\", 40, 0.6, 0.3, 0.8)\n",
        "        with self.assertRaises(ValueError):\n",
        "            recommender_untrained.predict(new_player)\n",
        "\n",
        "    def test_get_nearest_neighbors(self):\n",
        "        # Test the get_nearest_neighbors method\n",
        "        new_player = Player(\"TestPlayer\", 40, 0.6, 0.3, 0.8)\n",
        "        neighbors_indices = self.recommender.get_nearest_neighbors(new_player)\n",
        "        # We can check if the number of neighbors matches n_neighbors\n",
        "        self.assertEqual(len(neighbors_indices), self.recommender.n_neighbors)\n",
        "        # We can also check if the indices are within the bounds of the dataset\n",
        "        for index in neighbors_indices:\n",
        "            self.assertGreaterEqual(index, 0)\n",
        "            self.assertLess(index, len(self.players))\n",
        "\n",
        "    def test_get_nearest_neighbors_before_training(self):\n",
        "        # Test if get_nearest_neighbors raises an error before training\n",
        "        recommender_untrained = ClassRecommender(n_neighbors=3)\n",
        "        new_player = Player(\"TestPlayer\", 40, 0.6, 0.3, 0.8)\n",
        "        with self.assertRaises(ValueError):\n",
        "            recommender_untrained.get_nearest_neighbors(new_player)\n",
        "\n",
        "    # Note: Testing best_k and evaluate is more complex as it involves\n",
        "    # splitting data and cross-validation, which can be non-deterministic\n",
        "    # depending on the random state. You would typically mock or carefully\n",
        "    # set up the data to test these methods reliably. For a basic test,\n",
        "    # you could check if they return values of the expected type.\n",
        "\n",
        "    # def test_best_k(self):\n",
        "    #     # Basic test for best_k - check if it returns an integer\n",
        "    #     best_k_value = self.recommender.best_k(self.dataset)\n",
        "    #     self.assertIsInstance(best_k_value, int)\n",
        "    #     self.assertGreaterEqual(best_k_value, 1) # Assuming k is at least 1\n",
        "\n",
        "    # def test_evaluate(self):\n",
        "    #     # Basic test for evaluate - check if it returns a numpy array\n",
        "    #     scores = self.recommender.evaluate(self.dataset)\n",
        "    #     self.assertIsInstance(scores, np.ndarray)\n",
        "    #     self.assertEqual(len(scores), 5) # Assuming cv=5\n",
        "\n",
        "# To run the tests, uncomment the following line after the previous unittest.main calls:\n"
      ],
      "metadata": {
        "id": "LQB5gx15Z30e"
      },
      "execution_count": 227,
      "outputs": []
    },
    {
      "cell_type": "code",
      "source": [
        "unittest.main(argv=['first-arg-is-ignored'], exit=False)"
      ],
      "metadata": {
        "colab": {
          "base_uri": "https://localhost:8080/"
        },
        "id": "eH2p_pI7Z6gt",
        "outputId": "70218659-9429-4286-b4e9-3325392425cc"
      },
      "execution_count": 228,
      "outputs": [
        {
          "output_type": "stream",
          "name": "stderr",
          "text": [
            "..F.............\n",
            "======================================================================\n",
            "FAIL: test_predict (__main__.TestClassRecommender.test_predict)\n",
            "----------------------------------------------------------------------\n",
            "Traceback (most recent call last):\n",
            "  File \"<ipython-input-227-9d74e682c354>\", line 27, in test_predict\n",
            "    self.assertIsInstance(recommended_class, (list, np.ndarray))\n",
            "AssertionError: np.str_('Archer') is not an instance of (<class 'list'>, <class 'numpy.ndarray'>)\n",
            "\n",
            "----------------------------------------------------------------------\n",
            "Ran 16 tests in 0.033s\n",
            "\n",
            "FAILED (failures=1)\n"
          ]
        },
        {
          "output_type": "execute_result",
          "data": {
            "text/plain": [
              "<unittest.main.TestProgram at 0x7e168a66c610>"
            ]
          },
          "metadata": {},
          "execution_count": 228
        }
      ]
    },
    {
      "cell_type": "markdown",
      "source": [
        "## Datos de entrenamiento y uso"
      ],
      "metadata": {
        "id": "6Fs630Dupg0W"
      }
    },
    {
      "cell_type": "code",
      "source": [
        "players = [\n",
        "    Player(\"Alice\", 20, 0.8, 0.2, 0.1, \"Warrior\"),\n",
        "    Player(\"Bob\", 45, 0.4, 0.8, 0.2, \"Healer\"),\n",
        "    Player(\"Cleo\", 33, 0.6, 0.4, 0.6, \"Archer\"),\n",
        "    Player(\"Dan\", 60, 0.3, 0.9, 0.3, \"Healer\"),\n",
        "    Player(\"Eli\", 50, 0.7, 0.2, 0.9, \"Mage\"),\n",
        "    Player(\"Fay\", 25, 0.9, 0.1, 0.2, \"Warrior\"),\n",
        "]\n",
        "new_player = Player(\"TestPlayer\", 40, 0.6, 0.3, 0.8)"
      ],
      "metadata": {
        "id": "Opm8GpziplXV"
      },
      "execution_count": 229,
      "outputs": []
    },
    {
      "cell_type": "markdown",
      "source": [
        "## Ejemplo de uso"
      ],
      "metadata": {
        "id": "b1Rddb7tp82y"
      }
    },
    {
      "cell_type": "code",
      "source": [
        "dataset = PlayerDataset(players)\n",
        "recommender = ClassRecommender(n_neighbors=3)\n",
        "recommender.train(dataset)\n",
        "recommended_class = recommender.predict(new_player)\n",
        "neighbors_indices = recommender.get_nearest_neighbors(new_player)\n",
        "print(\"EL mejor K para este dataset es \",recommender.best_k(dataset))\n",
        "\n",
        "print(f\"Clase recomendada para {new_player.name}: {recommended_class}\")\n",
        "print(\"Jugadores similares:\")\n",
        "for i in neighbors_indices:\n",
        "    print(f\"- {players[i].name} ({players[i].preferred_class})\")\n"
      ],
      "metadata": {
        "colab": {
          "base_uri": "https://localhost:8080/"
        },
        "id": "DPb0lc2fppjV",
        "outputId": "2c222264-be57-4ae4-f3ba-e7c3bc2ce6d3"
      },
      "execution_count": 230,
      "outputs": [
        {
          "output_type": "stream",
          "name": "stdout",
          "text": [
            "[np.float64(0.5), np.float64(1.0), np.float64(1.0)]\n",
            "EL mejor K para este dataset es  1\n",
            "Clase recomendada para TestPlayer: Archer\n",
            "Jugadores similares:\n",
            "- Bob (Healer)\n",
            "- Cleo (Archer)\n",
            "- Eli (Mage)\n"
          ]
        }
      ]
    }
  ]
}