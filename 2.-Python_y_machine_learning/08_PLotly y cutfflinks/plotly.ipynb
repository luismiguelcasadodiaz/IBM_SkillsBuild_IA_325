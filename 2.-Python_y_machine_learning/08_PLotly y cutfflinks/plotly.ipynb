{
  "nbformat": 4,
  "nbformat_minor": 0,
  "metadata": {
    "colab": {
      "provenance": [],
      "authorship_tag": "ABX9TyN4GnRiVQtIt7rIaSJPSHA2",
      "include_colab_link": true
    },
    "kernelspec": {
      "name": "python3",
      "display_name": "Python 3"
    },
    "language_info": {
      "name": "python"
    }
  },
  "cells": [
    {
      "cell_type": "markdown",
      "metadata": {
        "id": "view-in-github",
        "colab_type": "text"
      },
      "source": [
        "<a href=\"https://colab.research.google.com/github/luismiguelcasadodiaz/IBM_SkillsBuild_IA_325/blob/main/plotly.ipynb\" target=\"_parent\"><img src=\"https://colab.research.google.com/assets/colab-badge.svg\" alt=\"Open In Colab\"/></a>"
      ]
    },
    {
      "cell_type": "markdown",
      "source": [
        "# Plotly y Cufflinks"
      ],
      "metadata": {
        "id": "AMDdP08ZNMDe"
      }
    },
    {
      "cell_type": "code",
      "source": [
        "#!pip install plotly==4.14.0 cufflinks==0.17.3\n",
        "!pip install --upgrade cufflinks plotly"
      ],
      "metadata": {
        "colab": {
          "base_uri": "https://localhost:8080/"
        },
        "id": "RlpE13nBp1Uq",
        "outputId": "6c58770c-53af-4c42-e273-47ec1b886193"
      },
      "execution_count": 91,
      "outputs": [
        {
          "output_type": "stream",
          "name": "stdout",
          "text": [
            "Requirement already satisfied: cufflinks in /usr/local/lib/python3.11/dist-packages (0.17.3)\n",
            "Requirement already satisfied: plotly in /usr/local/lib/python3.11/dist-packages (6.1.1)\n",
            "Requirement already satisfied: numpy>=1.9.2 in /usr/local/lib/python3.11/dist-packages (from cufflinks) (2.0.2)\n",
            "Requirement already satisfied: pandas>=0.19.2 in /usr/local/lib/python3.11/dist-packages (from cufflinks) (2.2.2)\n",
            "Requirement already satisfied: six>=1.9.0 in /usr/local/lib/python3.11/dist-packages (from cufflinks) (1.17.0)\n",
            "Requirement already satisfied: colorlover>=0.2.1 in /usr/local/lib/python3.11/dist-packages (from cufflinks) (0.3.0)\n",
            "Requirement already satisfied: setuptools>=34.4.1 in /usr/local/lib/python3.11/dist-packages (from cufflinks) (75.2.0)\n",
            "Requirement already satisfied: ipython>=5.3.0 in /usr/local/lib/python3.11/dist-packages (from cufflinks) (7.34.0)\n",
            "Requirement already satisfied: ipywidgets>=7.0.0 in /usr/local/lib/python3.11/dist-packages (from cufflinks) (7.7.1)\n",
            "Requirement already satisfied: narwhals>=1.15.1 in /usr/local/lib/python3.11/dist-packages (from plotly) (1.39.0)\n",
            "Requirement already satisfied: packaging in /usr/local/lib/python3.11/dist-packages (from plotly) (24.2)\n",
            "Requirement already satisfied: jedi>=0.16 in /usr/local/lib/python3.11/dist-packages (from ipython>=5.3.0->cufflinks) (0.19.2)\n",
            "Requirement already satisfied: decorator in /usr/local/lib/python3.11/dist-packages (from ipython>=5.3.0->cufflinks) (4.4.2)\n",
            "Requirement already satisfied: pickleshare in /usr/local/lib/python3.11/dist-packages (from ipython>=5.3.0->cufflinks) (0.7.5)\n",
            "Requirement already satisfied: traitlets>=4.2 in /usr/local/lib/python3.11/dist-packages (from ipython>=5.3.0->cufflinks) (5.7.1)\n",
            "Requirement already satisfied: prompt-toolkit!=3.0.0,!=3.0.1,<3.1.0,>=2.0.0 in /usr/local/lib/python3.11/dist-packages (from ipython>=5.3.0->cufflinks) (3.0.51)\n",
            "Requirement already satisfied: pygments in /usr/local/lib/python3.11/dist-packages (from ipython>=5.3.0->cufflinks) (2.19.1)\n",
            "Requirement already satisfied: backcall in /usr/local/lib/python3.11/dist-packages (from ipython>=5.3.0->cufflinks) (0.2.0)\n",
            "Requirement already satisfied: matplotlib-inline in /usr/local/lib/python3.11/dist-packages (from ipython>=5.3.0->cufflinks) (0.1.7)\n",
            "Requirement already satisfied: pexpect>4.3 in /usr/local/lib/python3.11/dist-packages (from ipython>=5.3.0->cufflinks) (4.9.0)\n",
            "Requirement already satisfied: ipykernel>=4.5.1 in /usr/local/lib/python3.11/dist-packages (from ipywidgets>=7.0.0->cufflinks) (6.17.1)\n",
            "Requirement already satisfied: ipython-genutils~=0.2.0 in /usr/local/lib/python3.11/dist-packages (from ipywidgets>=7.0.0->cufflinks) (0.2.0)\n",
            "Requirement already satisfied: widgetsnbextension~=3.6.0 in /usr/local/lib/python3.11/dist-packages (from ipywidgets>=7.0.0->cufflinks) (3.6.10)\n",
            "Requirement already satisfied: jupyterlab-widgets>=1.0.0 in /usr/local/lib/python3.11/dist-packages (from ipywidgets>=7.0.0->cufflinks) (3.0.15)\n",
            "Requirement already satisfied: python-dateutil>=2.8.2 in /usr/local/lib/python3.11/dist-packages (from pandas>=0.19.2->cufflinks) (2.9.0.post0)\n",
            "Requirement already satisfied: pytz>=2020.1 in /usr/local/lib/python3.11/dist-packages (from pandas>=0.19.2->cufflinks) (2025.2)\n",
            "Requirement already satisfied: tzdata>=2022.7 in /usr/local/lib/python3.11/dist-packages (from pandas>=0.19.2->cufflinks) (2025.2)\n",
            "Requirement already satisfied: debugpy>=1.0 in /usr/local/lib/python3.11/dist-packages (from ipykernel>=4.5.1->ipywidgets>=7.0.0->cufflinks) (1.8.0)\n",
            "Requirement already satisfied: jupyter-client>=6.1.12 in /usr/local/lib/python3.11/dist-packages (from ipykernel>=4.5.1->ipywidgets>=7.0.0->cufflinks) (6.1.12)\n",
            "Requirement already satisfied: nest-asyncio in /usr/local/lib/python3.11/dist-packages (from ipykernel>=4.5.1->ipywidgets>=7.0.0->cufflinks) (1.6.0)\n",
            "Requirement already satisfied: psutil in /usr/local/lib/python3.11/dist-packages (from ipykernel>=4.5.1->ipywidgets>=7.0.0->cufflinks) (5.9.5)\n",
            "Requirement already satisfied: pyzmq>=17 in /usr/local/lib/python3.11/dist-packages (from ipykernel>=4.5.1->ipywidgets>=7.0.0->cufflinks) (24.0.1)\n",
            "Requirement already satisfied: tornado>=6.1 in /usr/local/lib/python3.11/dist-packages (from ipykernel>=4.5.1->ipywidgets>=7.0.0->cufflinks) (6.4.2)\n",
            "Requirement already satisfied: parso<0.9.0,>=0.8.4 in /usr/local/lib/python3.11/dist-packages (from jedi>=0.16->ipython>=5.3.0->cufflinks) (0.8.4)\n",
            "Requirement already satisfied: ptyprocess>=0.5 in /usr/local/lib/python3.11/dist-packages (from pexpect>4.3->ipython>=5.3.0->cufflinks) (0.7.0)\n",
            "Requirement already satisfied: wcwidth in /usr/local/lib/python3.11/dist-packages (from prompt-toolkit!=3.0.0,!=3.0.1,<3.1.0,>=2.0.0->ipython>=5.3.0->cufflinks) (0.2.13)\n",
            "Requirement already satisfied: notebook>=4.4.1 in /usr/local/lib/python3.11/dist-packages (from widgetsnbextension~=3.6.0->ipywidgets>=7.0.0->cufflinks) (6.5.7)\n",
            "Requirement already satisfied: jupyter-core>=4.6.0 in /usr/local/lib/python3.11/dist-packages (from jupyter-client>=6.1.12->ipykernel>=4.5.1->ipywidgets>=7.0.0->cufflinks) (5.7.2)\n",
            "Requirement already satisfied: jinja2 in /usr/local/lib/python3.11/dist-packages (from notebook>=4.4.1->widgetsnbextension~=3.6.0->ipywidgets>=7.0.0->cufflinks) (3.1.6)\n",
            "Requirement already satisfied: argon2-cffi in /usr/local/lib/python3.11/dist-packages (from notebook>=4.4.1->widgetsnbextension~=3.6.0->ipywidgets>=7.0.0->cufflinks) (23.1.0)\n",
            "Requirement already satisfied: nbformat in /usr/local/lib/python3.11/dist-packages (from notebook>=4.4.1->widgetsnbextension~=3.6.0->ipywidgets>=7.0.0->cufflinks) (5.10.4)\n",
            "Requirement already satisfied: nbconvert>=5 in /usr/local/lib/python3.11/dist-packages (from notebook>=4.4.1->widgetsnbextension~=3.6.0->ipywidgets>=7.0.0->cufflinks) (7.16.6)\n",
            "Requirement already satisfied: Send2Trash>=1.8.0 in /usr/local/lib/python3.11/dist-packages (from notebook>=4.4.1->widgetsnbextension~=3.6.0->ipywidgets>=7.0.0->cufflinks) (1.8.3)\n",
            "Requirement already satisfied: terminado>=0.8.3 in /usr/local/lib/python3.11/dist-packages (from notebook>=4.4.1->widgetsnbextension~=3.6.0->ipywidgets>=7.0.0->cufflinks) (0.18.1)\n",
            "Requirement already satisfied: prometheus-client in /usr/local/lib/python3.11/dist-packages (from notebook>=4.4.1->widgetsnbextension~=3.6.0->ipywidgets>=7.0.0->cufflinks) (0.21.1)\n",
            "Requirement already satisfied: nbclassic>=0.4.7 in /usr/local/lib/python3.11/dist-packages (from notebook>=4.4.1->widgetsnbextension~=3.6.0->ipywidgets>=7.0.0->cufflinks) (1.3.1)\n",
            "Requirement already satisfied: platformdirs>=2.5 in /usr/local/lib/python3.11/dist-packages (from jupyter-core>=4.6.0->jupyter-client>=6.1.12->ipykernel>=4.5.1->ipywidgets>=7.0.0->cufflinks) (4.3.8)\n",
            "Requirement already satisfied: notebook-shim>=0.2.3 in /usr/local/lib/python3.11/dist-packages (from nbclassic>=0.4.7->notebook>=4.4.1->widgetsnbextension~=3.6.0->ipywidgets>=7.0.0->cufflinks) (0.2.4)\n",
            "Requirement already satisfied: beautifulsoup4 in /usr/local/lib/python3.11/dist-packages (from nbconvert>=5->notebook>=4.4.1->widgetsnbextension~=3.6.0->ipywidgets>=7.0.0->cufflinks) (4.13.4)\n",
            "Requirement already satisfied: bleach!=5.0.0 in /usr/local/lib/python3.11/dist-packages (from bleach[css]!=5.0.0->nbconvert>=5->notebook>=4.4.1->widgetsnbextension~=3.6.0->ipywidgets>=7.0.0->cufflinks) (6.2.0)\n",
            "Requirement already satisfied: defusedxml in /usr/local/lib/python3.11/dist-packages (from nbconvert>=5->notebook>=4.4.1->widgetsnbextension~=3.6.0->ipywidgets>=7.0.0->cufflinks) (0.7.1)\n",
            "Requirement already satisfied: jupyterlab-pygments in /usr/local/lib/python3.11/dist-packages (from nbconvert>=5->notebook>=4.4.1->widgetsnbextension~=3.6.0->ipywidgets>=7.0.0->cufflinks) (0.3.0)\n",
            "Requirement already satisfied: markupsafe>=2.0 in /usr/local/lib/python3.11/dist-packages (from nbconvert>=5->notebook>=4.4.1->widgetsnbextension~=3.6.0->ipywidgets>=7.0.0->cufflinks) (3.0.2)\n",
            "Requirement already satisfied: mistune<4,>=2.0.3 in /usr/local/lib/python3.11/dist-packages (from nbconvert>=5->notebook>=4.4.1->widgetsnbextension~=3.6.0->ipywidgets>=7.0.0->cufflinks) (3.1.3)\n",
            "Requirement already satisfied: nbclient>=0.5.0 in /usr/local/lib/python3.11/dist-packages (from nbconvert>=5->notebook>=4.4.1->widgetsnbextension~=3.6.0->ipywidgets>=7.0.0->cufflinks) (0.10.2)\n",
            "Requirement already satisfied: pandocfilters>=1.4.1 in /usr/local/lib/python3.11/dist-packages (from nbconvert>=5->notebook>=4.4.1->widgetsnbextension~=3.6.0->ipywidgets>=7.0.0->cufflinks) (1.5.1)\n",
            "Requirement already satisfied: fastjsonschema>=2.15 in /usr/local/lib/python3.11/dist-packages (from nbformat->notebook>=4.4.1->widgetsnbextension~=3.6.0->ipywidgets>=7.0.0->cufflinks) (2.21.1)\n",
            "Requirement already satisfied: jsonschema>=2.6 in /usr/local/lib/python3.11/dist-packages (from nbformat->notebook>=4.4.1->widgetsnbextension~=3.6.0->ipywidgets>=7.0.0->cufflinks) (4.23.0)\n",
            "Requirement already satisfied: argon2-cffi-bindings in /usr/local/lib/python3.11/dist-packages (from argon2-cffi->notebook>=4.4.1->widgetsnbextension~=3.6.0->ipywidgets>=7.0.0->cufflinks) (21.2.0)\n",
            "Requirement already satisfied: webencodings in /usr/local/lib/python3.11/dist-packages (from bleach!=5.0.0->bleach[css]!=5.0.0->nbconvert>=5->notebook>=4.4.1->widgetsnbextension~=3.6.0->ipywidgets>=7.0.0->cufflinks) (0.5.1)\n",
            "Requirement already satisfied: tinycss2<1.5,>=1.1.0 in /usr/local/lib/python3.11/dist-packages (from bleach[css]!=5.0.0->nbconvert>=5->notebook>=4.4.1->widgetsnbextension~=3.6.0->ipywidgets>=7.0.0->cufflinks) (1.4.0)\n",
            "Requirement already satisfied: attrs>=22.2.0 in /usr/local/lib/python3.11/dist-packages (from jsonschema>=2.6->nbformat->notebook>=4.4.1->widgetsnbextension~=3.6.0->ipywidgets>=7.0.0->cufflinks) (25.3.0)\n",
            "Requirement already satisfied: jsonschema-specifications>=2023.03.6 in /usr/local/lib/python3.11/dist-packages (from jsonschema>=2.6->nbformat->notebook>=4.4.1->widgetsnbextension~=3.6.0->ipywidgets>=7.0.0->cufflinks) (2025.4.1)\n",
            "Requirement already satisfied: referencing>=0.28.4 in /usr/local/lib/python3.11/dist-packages (from jsonschema>=2.6->nbformat->notebook>=4.4.1->widgetsnbextension~=3.6.0->ipywidgets>=7.0.0->cufflinks) (0.36.2)\n",
            "Requirement already satisfied: rpds-py>=0.7.1 in /usr/local/lib/python3.11/dist-packages (from jsonschema>=2.6->nbformat->notebook>=4.4.1->widgetsnbextension~=3.6.0->ipywidgets>=7.0.0->cufflinks) (0.24.0)\n",
            "Requirement already satisfied: jupyter-server<3,>=1.8 in /usr/local/lib/python3.11/dist-packages (from notebook-shim>=0.2.3->nbclassic>=0.4.7->notebook>=4.4.1->widgetsnbextension~=3.6.0->ipywidgets>=7.0.0->cufflinks) (1.16.0)\n",
            "Requirement already satisfied: cffi>=1.0.1 in /usr/local/lib/python3.11/dist-packages (from argon2-cffi-bindings->argon2-cffi->notebook>=4.4.1->widgetsnbextension~=3.6.0->ipywidgets>=7.0.0->cufflinks) (1.17.1)\n",
            "Requirement already satisfied: soupsieve>1.2 in /usr/local/lib/python3.11/dist-packages (from beautifulsoup4->nbconvert>=5->notebook>=4.4.1->widgetsnbextension~=3.6.0->ipywidgets>=7.0.0->cufflinks) (2.7)\n",
            "Requirement already satisfied: typing-extensions>=4.0.0 in /usr/local/lib/python3.11/dist-packages (from beautifulsoup4->nbconvert>=5->notebook>=4.4.1->widgetsnbextension~=3.6.0->ipywidgets>=7.0.0->cufflinks) (4.13.2)\n",
            "Requirement already satisfied: pycparser in /usr/local/lib/python3.11/dist-packages (from cffi>=1.0.1->argon2-cffi-bindings->argon2-cffi->notebook>=4.4.1->widgetsnbextension~=3.6.0->ipywidgets>=7.0.0->cufflinks) (2.22)\n",
            "Requirement already satisfied: anyio>=3.1.0 in /usr/local/lib/python3.11/dist-packages (from jupyter-server<3,>=1.8->notebook-shim>=0.2.3->nbclassic>=0.4.7->notebook>=4.4.1->widgetsnbextension~=3.6.0->ipywidgets>=7.0.0->cufflinks) (4.9.0)\n",
            "Requirement already satisfied: websocket-client in /usr/local/lib/python3.11/dist-packages (from jupyter-server<3,>=1.8->notebook-shim>=0.2.3->nbclassic>=0.4.7->notebook>=4.4.1->widgetsnbextension~=3.6.0->ipywidgets>=7.0.0->cufflinks) (1.8.0)\n",
            "Requirement already satisfied: idna>=2.8 in /usr/local/lib/python3.11/dist-packages (from anyio>=3.1.0->jupyter-server<3,>=1.8->notebook-shim>=0.2.3->nbclassic>=0.4.7->notebook>=4.4.1->widgetsnbextension~=3.6.0->ipywidgets>=7.0.0->cufflinks) (3.10)\n",
            "Requirement already satisfied: sniffio>=1.1 in /usr/local/lib/python3.11/dist-packages (from anyio>=3.1.0->jupyter-server<3,>=1.8->notebook-shim>=0.2.3->nbclassic>=0.4.7->notebook>=4.4.1->widgetsnbextension~=3.6.0->ipywidgets>=7.0.0->cufflinks) (1.3.1)\n"
          ]
        }
      ]
    },
    {
      "cell_type": "code",
      "source": [
        "import pandas as pd\n",
        "import numpy as np\n",
        "import cufflinks as cf\n",
        "import plotly\n",
        "from plotly.offline import download_plotlyjs, init_notebook_mode, plot, iplot\n",
        "init_notebook_mode(connected=True)\n",
        "cf.go_offline()\n",
        "%matplotlib inline\n",
        "print(f\"Cufflinks version: {cf.__version__}\")\n",
        "print(f\"Plotly version: {plotly.__version__}\")"
      ],
      "metadata": {
        "colab": {
          "base_uri": "https://localhost:8080/",
          "height": 52
        },
        "id": "J0jUQVBGNVX5",
        "outputId": "90083ee1-5879-4089-d5d8-778defaa484e"
      },
      "execution_count": 92,
      "outputs": [
        {
          "output_type": "display_data",
          "data": {
            "text/html": [
              "        <script type=\"text/javascript\">\n",
              "        window.PlotlyConfig = {MathJaxConfig: 'local'};\n",
              "        if (window.MathJax && window.MathJax.Hub && window.MathJax.Hub.Config) {window.MathJax.Hub.Config({SVG: {font: \"STIX-Web\"}});}\n",
              "        </script>\n",
              "        <script type=\"module\">import \"https://cdn.plot.ly/plotly-3.0.1.min\"</script>\n",
              "        "
            ]
          },
          "metadata": {}
        },
        {
          "output_type": "display_data",
          "data": {
            "text/html": [
              "        <script type=\"text/javascript\">\n",
              "        window.PlotlyConfig = {MathJaxConfig: 'local'};\n",
              "        if (window.MathJax && window.MathJax.Hub && window.MathJax.Hub.Config) {window.MathJax.Hub.Config({SVG: {font: \"STIX-Web\"}});}\n",
              "        </script>\n",
              "        <script type=\"module\">import \"https://cdn.plot.ly/plotly-3.0.1.min\"</script>\n",
              "        "
            ]
          },
          "metadata": {}
        },
        {
          "output_type": "stream",
          "name": "stdout",
          "text": [
            "Cufflinks version: 0.17.3\n",
            "Plotly version: 6.1.1\n"
          ]
        }
      ]
    },
    {
      "cell_type": "markdown",
      "source": [
        "### from plotly.offline import download_plotlyjs, init_notebook_mode, plot, iplot\n",
        "\n",
        "+ **What it does:** This line imports specific functions from the plotly.offline module.\n",
        "\n",
        "  + download_plotlyjs(): Downloads the Plotly.js library, which is necessary for rendering Plotly plots offline (without an internet connection).\n",
        "  + init_notebook_mode(connected=True): Initializes Plotly to work within a Jupyter Notebook environment. The connected=True argument means that Plotly will link to an online CDN (Content Delivery Network) for its JavaScript libraries. If you set it to connected=False, it will rely on a local installation of Plotly.js (which might require running download_plotlyjs() first).\n",
        "  + plot(): Used to **save** Plotly figures as standalone **HTML files**.\n",
        "  + iplot(): Used to **display** Plotly **figures directly within** a Jupyter Notebook output **cell**.\n",
        "+ **Why it's used:** This setup is crucial for using Plotly effectively in a Jupyter Notebook. init_notebook_mode() ensures that the interactive Plotly plots are rendered correctly within the notebook. iplot() is the primary function for displaying these interactive visualizations.\n",
        "\n",
        "### cf.go_offline()\n",
        "\n",
        "+ **What it does:** This line tells Cufflinks to work in offline mode.\n",
        "+ **Why it's used:** Similar to Plotly's offline mode, this ensures that Cufflinks can generate Plotly figures **without requiring an internet connection**. It likely uses the Plotly.js library that was set up in the previous step.\n",
        "\n",
        "### %matplotlib inline\n",
        "\n",
        "+ **What it does:** This is a \"magic command\" specific to IPython (the kernel underlying Jupyter Notebook).\n",
        "+ **Why it's used:** %matplotlib inline configures Matplotlib to display its plots directly within the output cells of the Jupyter Notebook. Without this command, Matplotlib plots might appear in separate windows. This is very convenient for viewing visualizations alongside your code."
      ],
      "metadata": {
        "id": "Wue4OyIXkGQb"
      }
    },
    {
      "cell_type": "code",
      "source": [
        "# preparo 4 series de datos aleatorios\n",
        "df = pd.DataFrame(np.random.randint(-250,250,size=(100,4)),columns='A B C D'.split())\n",
        "df.head()"
      ],
      "metadata": {
        "colab": {
          "base_uri": "https://localhost:8080/",
          "height": 206
        },
        "id": "KfJq1XBcNiyO",
        "outputId": "703f41f5-80db-4d92-b9b1-eb7e577be265"
      },
      "execution_count": 93,
      "outputs": [
        {
          "output_type": "execute_result",
          "data": {
            "text/plain": [
              "     A    B    C    D\n",
              "0  206 -248   82  -72\n",
              "1  -88 -247 -215   82\n",
              "2  -51   50  116 -123\n",
              "3  -87  -72 -184 -162\n",
              "4  -62   68  -32   51"
            ],
            "text/html": [
              "\n",
              "  <div id=\"df-55bdbffa-95f0-435b-8a86-2ce146dcb8eb\" class=\"colab-df-container\">\n",
              "    <div>\n",
              "<style scoped>\n",
              "    .dataframe tbody tr th:only-of-type {\n",
              "        vertical-align: middle;\n",
              "    }\n",
              "\n",
              "    .dataframe tbody tr th {\n",
              "        vertical-align: top;\n",
              "    }\n",
              "\n",
              "    .dataframe thead th {\n",
              "        text-align: right;\n",
              "    }\n",
              "</style>\n",
              "<table border=\"1\" class=\"dataframe\">\n",
              "  <thead>\n",
              "    <tr style=\"text-align: right;\">\n",
              "      <th></th>\n",
              "      <th>A</th>\n",
              "      <th>B</th>\n",
              "      <th>C</th>\n",
              "      <th>D</th>\n",
              "    </tr>\n",
              "  </thead>\n",
              "  <tbody>\n",
              "    <tr>\n",
              "      <th>0</th>\n",
              "      <td>206</td>\n",
              "      <td>-248</td>\n",
              "      <td>82</td>\n",
              "      <td>-72</td>\n",
              "    </tr>\n",
              "    <tr>\n",
              "      <th>1</th>\n",
              "      <td>-88</td>\n",
              "      <td>-247</td>\n",
              "      <td>-215</td>\n",
              "      <td>82</td>\n",
              "    </tr>\n",
              "    <tr>\n",
              "      <th>2</th>\n",
              "      <td>-51</td>\n",
              "      <td>50</td>\n",
              "      <td>116</td>\n",
              "      <td>-123</td>\n",
              "    </tr>\n",
              "    <tr>\n",
              "      <th>3</th>\n",
              "      <td>-87</td>\n",
              "      <td>-72</td>\n",
              "      <td>-184</td>\n",
              "      <td>-162</td>\n",
              "    </tr>\n",
              "    <tr>\n",
              "      <th>4</th>\n",
              "      <td>-62</td>\n",
              "      <td>68</td>\n",
              "      <td>-32</td>\n",
              "      <td>51</td>\n",
              "    </tr>\n",
              "  </tbody>\n",
              "</table>\n",
              "</div>\n",
              "    <div class=\"colab-df-buttons\">\n",
              "\n",
              "  <div class=\"colab-df-container\">\n",
              "    <button class=\"colab-df-convert\" onclick=\"convertToInteractive('df-55bdbffa-95f0-435b-8a86-2ce146dcb8eb')\"\n",
              "            title=\"Convert this dataframe to an interactive table.\"\n",
              "            style=\"display:none;\">\n",
              "\n",
              "  <svg xmlns=\"http://www.w3.org/2000/svg\" height=\"24px\" viewBox=\"0 -960 960 960\">\n",
              "    <path d=\"M120-120v-720h720v720H120Zm60-500h600v-160H180v160Zm220 220h160v-160H400v160Zm0 220h160v-160H400v160ZM180-400h160v-160H180v160Zm440 0h160v-160H620v160ZM180-180h160v-160H180v160Zm440 0h160v-160H620v160Z\"/>\n",
              "  </svg>\n",
              "    </button>\n",
              "\n",
              "  <style>\n",
              "    .colab-df-container {\n",
              "      display:flex;\n",
              "      gap: 12px;\n",
              "    }\n",
              "\n",
              "    .colab-df-convert {\n",
              "      background-color: #E8F0FE;\n",
              "      border: none;\n",
              "      border-radius: 50%;\n",
              "      cursor: pointer;\n",
              "      display: none;\n",
              "      fill: #1967D2;\n",
              "      height: 32px;\n",
              "      padding: 0 0 0 0;\n",
              "      width: 32px;\n",
              "    }\n",
              "\n",
              "    .colab-df-convert:hover {\n",
              "      background-color: #E2EBFA;\n",
              "      box-shadow: 0px 1px 2px rgba(60, 64, 67, 0.3), 0px 1px 3px 1px rgba(60, 64, 67, 0.15);\n",
              "      fill: #174EA6;\n",
              "    }\n",
              "\n",
              "    .colab-df-buttons div {\n",
              "      margin-bottom: 4px;\n",
              "    }\n",
              "\n",
              "    [theme=dark] .colab-df-convert {\n",
              "      background-color: #3B4455;\n",
              "      fill: #D2E3FC;\n",
              "    }\n",
              "\n",
              "    [theme=dark] .colab-df-convert:hover {\n",
              "      background-color: #434B5C;\n",
              "      box-shadow: 0px 1px 3px 1px rgba(0, 0, 0, 0.15);\n",
              "      filter: drop-shadow(0px 1px 2px rgba(0, 0, 0, 0.3));\n",
              "      fill: #FFFFFF;\n",
              "    }\n",
              "  </style>\n",
              "\n",
              "    <script>\n",
              "      const buttonEl =\n",
              "        document.querySelector('#df-55bdbffa-95f0-435b-8a86-2ce146dcb8eb button.colab-df-convert');\n",
              "      buttonEl.style.display =\n",
              "        google.colab.kernel.accessAllowed ? 'block' : 'none';\n",
              "\n",
              "      async function convertToInteractive(key) {\n",
              "        const element = document.querySelector('#df-55bdbffa-95f0-435b-8a86-2ce146dcb8eb');\n",
              "        const dataTable =\n",
              "          await google.colab.kernel.invokeFunction('convertToInteractive',\n",
              "                                                    [key], {});\n",
              "        if (!dataTable) return;\n",
              "\n",
              "        const docLinkHtml = 'Like what you see? Visit the ' +\n",
              "          '<a target=\"_blank\" href=https://colab.research.google.com/notebooks/data_table.ipynb>data table notebook</a>'\n",
              "          + ' to learn more about interactive tables.';\n",
              "        element.innerHTML = '';\n",
              "        dataTable['output_type'] = 'display_data';\n",
              "        await google.colab.output.renderOutput(dataTable, element);\n",
              "        const docLink = document.createElement('div');\n",
              "        docLink.innerHTML = docLinkHtml;\n",
              "        element.appendChild(docLink);\n",
              "      }\n",
              "    </script>\n",
              "  </div>\n",
              "\n",
              "\n",
              "    <div id=\"df-424a23b8-007b-4bdc-9b3a-bb2c134f26ce\">\n",
              "      <button class=\"colab-df-quickchart\" onclick=\"quickchart('df-424a23b8-007b-4bdc-9b3a-bb2c134f26ce')\"\n",
              "                title=\"Suggest charts\"\n",
              "                style=\"display:none;\">\n",
              "\n",
              "<svg xmlns=\"http://www.w3.org/2000/svg\" height=\"24px\"viewBox=\"0 0 24 24\"\n",
              "     width=\"24px\">\n",
              "    <g>\n",
              "        <path d=\"M19 3H5c-1.1 0-2 .9-2 2v14c0 1.1.9 2 2 2h14c1.1 0 2-.9 2-2V5c0-1.1-.9-2-2-2zM9 17H7v-7h2v7zm4 0h-2V7h2v10zm4 0h-2v-4h2v4z\"/>\n",
              "    </g>\n",
              "</svg>\n",
              "      </button>\n",
              "\n",
              "<style>\n",
              "  .colab-df-quickchart {\n",
              "      --bg-color: #E8F0FE;\n",
              "      --fill-color: #1967D2;\n",
              "      --hover-bg-color: #E2EBFA;\n",
              "      --hover-fill-color: #174EA6;\n",
              "      --disabled-fill-color: #AAA;\n",
              "      --disabled-bg-color: #DDD;\n",
              "  }\n",
              "\n",
              "  [theme=dark] .colab-df-quickchart {\n",
              "      --bg-color: #3B4455;\n",
              "      --fill-color: #D2E3FC;\n",
              "      --hover-bg-color: #434B5C;\n",
              "      --hover-fill-color: #FFFFFF;\n",
              "      --disabled-bg-color: #3B4455;\n",
              "      --disabled-fill-color: #666;\n",
              "  }\n",
              "\n",
              "  .colab-df-quickchart {\n",
              "    background-color: var(--bg-color);\n",
              "    border: none;\n",
              "    border-radius: 50%;\n",
              "    cursor: pointer;\n",
              "    display: none;\n",
              "    fill: var(--fill-color);\n",
              "    height: 32px;\n",
              "    padding: 0;\n",
              "    width: 32px;\n",
              "  }\n",
              "\n",
              "  .colab-df-quickchart:hover {\n",
              "    background-color: var(--hover-bg-color);\n",
              "    box-shadow: 0 1px 2px rgba(60, 64, 67, 0.3), 0 1px 3px 1px rgba(60, 64, 67, 0.15);\n",
              "    fill: var(--button-hover-fill-color);\n",
              "  }\n",
              "\n",
              "  .colab-df-quickchart-complete:disabled,\n",
              "  .colab-df-quickchart-complete:disabled:hover {\n",
              "    background-color: var(--disabled-bg-color);\n",
              "    fill: var(--disabled-fill-color);\n",
              "    box-shadow: none;\n",
              "  }\n",
              "\n",
              "  .colab-df-spinner {\n",
              "    border: 2px solid var(--fill-color);\n",
              "    border-color: transparent;\n",
              "    border-bottom-color: var(--fill-color);\n",
              "    animation:\n",
              "      spin 1s steps(1) infinite;\n",
              "  }\n",
              "\n",
              "  @keyframes spin {\n",
              "    0% {\n",
              "      border-color: transparent;\n",
              "      border-bottom-color: var(--fill-color);\n",
              "      border-left-color: var(--fill-color);\n",
              "    }\n",
              "    20% {\n",
              "      border-color: transparent;\n",
              "      border-left-color: var(--fill-color);\n",
              "      border-top-color: var(--fill-color);\n",
              "    }\n",
              "    30% {\n",
              "      border-color: transparent;\n",
              "      border-left-color: var(--fill-color);\n",
              "      border-top-color: var(--fill-color);\n",
              "      border-right-color: var(--fill-color);\n",
              "    }\n",
              "    40% {\n",
              "      border-color: transparent;\n",
              "      border-right-color: var(--fill-color);\n",
              "      border-top-color: var(--fill-color);\n",
              "    }\n",
              "    60% {\n",
              "      border-color: transparent;\n",
              "      border-right-color: var(--fill-color);\n",
              "    }\n",
              "    80% {\n",
              "      border-color: transparent;\n",
              "      border-right-color: var(--fill-color);\n",
              "      border-bottom-color: var(--fill-color);\n",
              "    }\n",
              "    90% {\n",
              "      border-color: transparent;\n",
              "      border-bottom-color: var(--fill-color);\n",
              "    }\n",
              "  }\n",
              "</style>\n",
              "\n",
              "      <script>\n",
              "        async function quickchart(key) {\n",
              "          const quickchartButtonEl =\n",
              "            document.querySelector('#' + key + ' button');\n",
              "          quickchartButtonEl.disabled = true;  // To prevent multiple clicks.\n",
              "          quickchartButtonEl.classList.add('colab-df-spinner');\n",
              "          try {\n",
              "            const charts = await google.colab.kernel.invokeFunction(\n",
              "                'suggestCharts', [key], {});\n",
              "          } catch (error) {\n",
              "            console.error('Error during call to suggestCharts:', error);\n",
              "          }\n",
              "          quickchartButtonEl.classList.remove('colab-df-spinner');\n",
              "          quickchartButtonEl.classList.add('colab-df-quickchart-complete');\n",
              "        }\n",
              "        (() => {\n",
              "          let quickchartButtonEl =\n",
              "            document.querySelector('#df-424a23b8-007b-4bdc-9b3a-bb2c134f26ce button');\n",
              "          quickchartButtonEl.style.display =\n",
              "            google.colab.kernel.accessAllowed ? 'block' : 'none';\n",
              "        })();\n",
              "      </script>\n",
              "    </div>\n",
              "\n",
              "    </div>\n",
              "  </div>\n"
            ],
            "application/vnd.google.colaboratory.intrinsic+json": {
              "type": "dataframe",
              "variable_name": "df",
              "summary": "{\n  \"name\": \"df\",\n  \"rows\": 100,\n  \"fields\": [\n    {\n      \"column\": \"A\",\n      \"properties\": {\n        \"dtype\": \"number\",\n        \"std\": 145,\n        \"min\": -238,\n        \"max\": 245,\n        \"num_unique_values\": 90,\n        \"samples\": [\n          58,\n          -226,\n          -2\n        ],\n        \"semantic_type\": \"\",\n        \"description\": \"\"\n      }\n    },\n    {\n      \"column\": \"B\",\n      \"properties\": {\n        \"dtype\": \"number\",\n        \"std\": 148,\n        \"min\": -248,\n        \"max\": 242,\n        \"num_unique_values\": 92,\n        \"samples\": [\n          -97,\n          -24,\n          -203\n        ],\n        \"semantic_type\": \"\",\n        \"description\": \"\"\n      }\n    },\n    {\n      \"column\": \"C\",\n      \"properties\": {\n        \"dtype\": \"number\",\n        \"std\": 134,\n        \"min\": -238,\n        \"max\": 247,\n        \"num_unique_values\": 87,\n        \"samples\": [\n          -201,\n          82,\n          -30\n        ],\n        \"semantic_type\": \"\",\n        \"description\": \"\"\n      }\n    },\n    {\n      \"column\": \"D\",\n      \"properties\": {\n        \"dtype\": \"number\",\n        \"std\": 149,\n        \"min\": -244,\n        \"max\": 246,\n        \"num_unique_values\": 91,\n        \"samples\": [\n          126,\n          -24,\n          -105\n        ],\n        \"semantic_type\": \"\",\n        \"description\": \"\"\n      }\n    }\n  ]\n}"
            }
          },
          "metadata": {},
          "execution_count": 93
        }
      ]
    },
    {
      "cell_type": "code",
      "source": [
        "# clasico gráfico estático\n",
        "df.plot()"
      ],
      "metadata": {
        "colab": {
          "base_uri": "https://localhost:8080/",
          "height": 447
        },
        "id": "k_8w2QtMlsmu",
        "outputId": "87969912-0f7c-4147-dec1-2e737ac85cbc"
      },
      "execution_count": 94,
      "outputs": [
        {
          "output_type": "execute_result",
          "data": {
            "text/plain": [
              "<Axes: >"
            ]
          },
          "metadata": {},
          "execution_count": 94
        },
        {
          "output_type": "display_data",
          "data": {
            "text/plain": [
              "<Figure size 640x480 with 1 Axes>"
            ],
            "image/png": "[encoded data removed]"
          },
          "metadata": {}
        }
      ]
    },
    {
      "cell_type": "code",
      "source": [
        "# clásico grafico interactivo con iplot()\n",
        "fig = go.Figure()\n",
        "\n",
        "# Add traces for each column\n",
        "fig.add_trace(go.Scatter(y=df['A'], name='A', line=dict(color='blue')))\n",
        "fig.add_trace(go.Scatter(y=df['B'], name='B', line=dict(color='red')))\n",
        "fig.add_trace(go.Scatter(y=df['C'], name='C', line=dict(color='green')))\n",
        "fig.add_trace(go.Scatter(y=df['D'], name='D', line=dict(color='purple')))\n",
        "\n",
        "iplot(fig)"
      ],
      "metadata": {
        "colab": {
          "base_uri": "https://localhost:8080/",
          "height": 542
        },
        "id": "RKQ0z9Gkl4Mw",
        "outputId": "dfe4af09-6f1a-4ce7-ea36-087dd0661ba7"
      },
      "execution_count": 95,
      "outputs": [
        {
          "output_type": "display_data",
          "data": {
            "application/vnd.plotly.v1+json": {
              "data": [
                {
                  "line": {
                    "color": "blue"
                  },
                  "name": "A",
                  "y": {
                    "dtype": "i2",
                    "bdata": "zgCo/83/qf/C/5f/o/9XAFIAJv9mAPQAlQBOAOIA6/9AAN0AbgAS/6P/FP8h/x7/z/80/9v/UwBf/1n/9QCA/0gAof8bAIoAHQBKACP/lP8hADoAv/+zAOn/qf9l/8IAZP/S/zv/qQC0/zAAxAAd/2L//v/eAIP/mAAn/xv/KgB3AK8AjQAv/6X/pgASAN4A3/9//3r/Ff9Q/+7/ff8vACUAyQAbAM///v9f/94AIQCGAIf/Rv/T/3v/cv8//yn/pP/VAI0AdgA="
                  },
                  "type": "scatter"
                },
                {
                  "line": {
                    "color": "red"
                  },
                  "name": "B",
                  "y": {
                    "dtype": "i2",
                    "bdata": "CP8J/zIAuP9EAOYAYQAYAIX/Uf8GAJ0AMADt/7YASv8q/9kA7ADz/7z/ZP/o/0j/H/+cAMYA0//EAOkAX/9SAMMAPwCi/xj/af8nAHIAhACf/z8AgP85/7UA1gDJ/27/fwCmAJz/owArAEsAGQDtADX/nf+K/8//8f/v/yn/4QBoAPIA4gD1/4wABQCFANn/4ADRAPH/tgDh/37/BwAMALb/5gBKAC8ACf8CAJ0Axv9u/3gAlv90AK//AQDfANwAI/8W/5gAZP8="
                  },
                  "type": "scatter"
                },
                {
                  "line": {
                    "color": "green"
                  },
                  "name": "C",
                  "y": {
                    "dtype": "i2",
                    "bdata": "UgAp/3QASP/g/wsAZAB/AM//fAB9AK3/LP9SADMAg/+uAOD/BgCLAI0APf+fAFIA6f92/8MAFACy/+L/1/8KAJwA+f8PAGn/3gDJ/w4AEv8Z/8j/fACYAFcAdv86/yIAE/+6/3QALAB5AB4AKQDCAJH/jgAt/yQAjv+QAHP/Y//3//cAyv92/7IAWP87AIv/HQAKAHsAkP8U/+AAwABqANH/3v+c/7T/N/+J/x7/Zv9UAFoAkADf/8MAsv+xAJ4Ai/9s/xz/g/8="
                  },
                  "type": "scatter"
                },
                {
                  "line": {
                    "color": "purple"
                  },
                  "name": "D",
                  "y": {
                    "dtype": "i2",
                    "bdata": "uP9SAIX/Xv8zAIoAhf8DAJb/IACh/xX/QAAiAGAARgD2AP7/WP/JAC3/iwDEAOj/0v86ABP/0/8S/zb/Hv90AE8A6P9v/4AAlP8a/6kAO/+FAOkAfgAM/x3/owBOABwArgDk/5z/1/9lAMUAgf+0AG//hACX/wkAJv80AEP/3f9M/z7/Kv9GAJUAIwBiAPAAXwAy/9P/av/h/3P/f/8o/3T/wAA6AJb/JgBF/9MAXgAT/4gAvwAKALz/Uf/wAOwAIv/A/2j/N/8="
                  },
                  "type": "scatter"
                }
              ],
              "layout": {
                "template": {
                  "data": {
                    "barpolar": [
                      {
                        "marker": {
                          "line": {
                            "color": "#E5ECF6",
                            "width": 0.5
                          },
                          "pattern": {
                            "fillmode": "overlay",
                            "size": 10,
                            "solidity": 0.2
                          }
                        },
                        "type": "barpolar"
                      }
                    ],
                    "bar": [
                      {
                        "error_x": {
                          "color": "#2a3f5f"
                        },
                        "error_y": {
                          "color": "#2a3f5f"
                        },
                        "marker": {
                          "line": {
                            "color": "#E5ECF6",
                            "width": 0.5
                          },
                          "pattern": {
                            "fillmode": "overlay",
                            "size": 10,
                            "solidity": 0.2
                          }
                        },
                        "type": "bar"
                      }
                    ],
                    "carpet": [
                      {
                        "aaxis": {
                          "endlinecolor": "#2a3f5f",
                          "gridcolor": "white",
                          "linecolor": "white",
                          "minorgridcolor": "white",
                          "startlinecolor": "#2a3f5f"
                        },
                        "baxis": {
                          "endlinecolor": "#2a3f5f",
                          "gridcolor": "white",
                          "linecolor": "white",
                          "minorgridcolor": "white",
                          "startlinecolor": "#2a3f5f"
                        },
                        "type": "carpet"
                      }
                    ],
                    "choropleth": [
                      {
                        "colorbar": {
                          "outlinewidth": 0,
                          "ticks": ""
                        },
                        "type": "choropleth"
                      }
                    ],
                    "contourcarpet": [
                      {
                        "colorbar": {
                          "outlinewidth": 0,
                          "ticks": ""
                        },
                        "type": "contourcarpet"
                      }
                    ],
                    "contour": [
                      {
                        "colorbar": {
                          "outlinewidth": 0,
                          "ticks": ""
                        },
                        "colorscale": [
                          [
                            0,
                            "#0d0887"
                          ],
                          [
                            0.1111111111111111,
                            "#46039f"
                          ],
                          [
                            0.2222222222222222,
                            "#7201a8"
                          ],
                          [
                            0.3333333333333333,
                            "#9c179e"
                          ],
                          [
                            0.4444444444444444,
                            "#bd3786"
                          ],
                          [
                            0.5555555555555556,
                            "#d8576b"
                          ],
                          [
                            0.6666666666666666,
                            "#ed7953"
                          ],
                          [
                            0.7777777777777778,
                            "#fb9f3a"
                          ],
                          [
                            0.8888888888888888,
                            "#fdca26"
                          ],
                          [
                            1,
                            "#f0f921"
                          ]
                        ],
                        "type": "contour"
                      }
                    ],
                    "heatmap": [
                      {
                        "colorbar": {
                          "outlinewidth": 0,
                          "ticks": ""
                        },
                        "colorscale": [
                          [
                            0,
                            "#0d0887"
                          ],
                          [
                            0.1111111111111111,
                            "#46039f"
                          ],
                          [
                            0.2222222222222222,
                            "#7201a8"
                          ],
                          [
                            0.3333333333333333,
                            "#9c179e"
                          ],
                          [
                            0.4444444444444444,
                            "#bd3786"
                          ],
                          [
                            0.5555555555555556,
                            "#d8576b"
                          ],
                          [
                            0.6666666666666666,
                            "#ed7953"
                          ],
                          [
                            0.7777777777777778,
                            "#fb9f3a"
                          ],
                          [
                            0.8888888888888888,
                            "#fdca26"
                          ],
                          [
                            1,
                            "#f0f921"
                          ]
                        ],
                        "type": "heatmap"
                      }
                    ],
                    "histogram2dcontour": [
                      {
                        "colorbar": {
                          "outlinewidth": 0,
                          "ticks": ""
                        },
                        "colorscale": [
                          [
                            0,
                            "#0d0887"
                          ],
                          [
                            0.1111111111111111,
                            "#46039f"
                          ],
                          [
                            0.2222222222222222,
                            "#7201a8"
                          ],
                          [
                            0.3333333333333333,
                            "#9c179e"
                          ],
                          [
                            0.4444444444444444,
                            "#bd3786"
                          ],
                          [
                            0.5555555555555556,
                            "#d8576b"
                          ],
                          [
                            0.6666666666666666,
                            "#ed7953"
                          ],
                          [
                            0.7777777777777778,
                            "#fb9f3a"
                          ],
                          [
                            0.8888888888888888,
                            "#fdca26"
                          ],
                          [
                            1,
                            "#f0f921"
                          ]
                        ],
                        "type": "histogram2dcontour"
                      }
                    ],
                    "histogram2d": [
                      {
                        "colorbar": {
                          "outlinewidth": 0,
                          "ticks": ""
                        },
                        "colorscale": [
                          [
                            0,
                            "#0d0887"
                          ],
                          [
                            0.1111111111111111,
                            "#46039f"
                          ],
                          [
                            0.2222222222222222,
                            "#7201a8"
                          ],
                          [
                            0.3333333333333333,
                            "#9c179e"
                          ],
                          [
                            0.4444444444444444,
                            "#bd3786"
                          ],
                          [
                            0.5555555555555556,
                            "#d8576b"
                          ],
                          [
                            0.6666666666666666,
                            "#ed7953"
                          ],
                          [
                            0.7777777777777778,
                            "#fb9f3a"
                          ],
                          [
                            0.8888888888888888,
                            "#fdca26"
                          ],
                          [
                            1,
                            "#f0f921"
                          ]
                        ],
                        "type": "histogram2d"
                      }
                    ],
                    "histogram": [
                      {
                        "marker": {
                          "pattern": {
                            "fillmode": "overlay",
                            "size": 10,
                            "solidity": 0.2
                          }
                        },
                        "type": "histogram"
                      }
                    ],
                    "mesh3d": [
                      {
                        "colorbar": {
                          "outlinewidth": 0,
                          "ticks": ""
                        },
                        "type": "mesh3d"
                      }
                    ],
                    "parcoords": [
                      {
                        "line": {
                          "colorbar": {
                            "outlinewidth": 0,
                            "ticks": ""
                          }
                        },
                        "type": "parcoords"
                      }
                    ],
                    "pie": [
                      {
                        "automargin": true,
                        "type": "pie"
                      }
                    ],
                    "scatter3d": [
                      {
                        "line": {
                          "colorbar": {
                            "outlinewidth": 0,
                            "ticks": ""
                          }
                        },
                        "marker": {
                          "colorbar": {
                            "outlinewidth": 0,
                            "ticks": ""
                          }
                        },
                        "type": "scatter3d"
                      }
                    ],
                    "scattercarpet": [
                      {
                        "marker": {
                          "colorbar": {
                            "outlinewidth": 0,
                            "ticks": ""
                          }
                        },
                        "type": "scattercarpet"
                      }
                    ],
                    "scattergeo": [
                      {
                        "marker": {
                          "colorbar": {
                            "outlinewidth": 0,
                            "ticks": ""
                          }
                        },
                        "type": "scattergeo"
                      }
                    ],
                    "scattergl": [
                      {
                        "marker": {
                          "colorbar": {
                            "outlinewidth": 0,
                            "ticks": ""
                          }
                        },
                        "type": "scattergl"
                      }
                    ],
                    "scattermapbox": [
                      {
                        "marker": {
                          "colorbar": {
                            "outlinewidth": 0,
                            "ticks": ""
                          }
                        },
                        "type": "scattermapbox"
                      }
                    ],
                    "scattermap": [
                      {
                        "marker": {
                          "colorbar": {
                            "outlinewidth": 0,
                            "ticks": ""
                          }
                        },
                        "type": "scattermap"
                      }
                    ],
                    "scatterpolargl": [
                      {
                        "marker": {
                          "colorbar": {
                            "outlinewidth": 0,
                            "ticks": ""
                          }
                        },
                        "type": "scatterpolargl"
                      }
                    ],
                    "scatterpolar": [
                      {
                        "marker": {
                          "colorbar": {
                            "outlinewidth": 0,
                            "ticks": ""
                          }
                        },
                        "type": "scatterpolar"
                      }
                    ],
                    "scatter": [
                      {
                        "fillpattern": {
                          "fillmode": "overlay",
                          "size": 10,
                          "solidity": 0.2
                        },
                        "type": "scatter"
                      }
                    ],
                    "scatterternary": [
                      {
                        "marker": {
                          "colorbar": {
                            "outlinewidth": 0,
                            "ticks": ""
                          }
                        },
                        "type": "scatterternary"
                      }
                    ],
                    "surface": [
                      {
                        "colorbar": {
                          "outlinewidth": 0,
                          "ticks": ""
                        },
                        "colorscale": [
                          [
                            0,
                            "#0d0887"
                          ],
                          [
                            0.1111111111111111,
                            "#46039f"
                          ],
                          [
                            0.2222222222222222,
                            "#7201a8"
                          ],
                          [
                            0.3333333333333333,
                            "#9c179e"
                          ],
                          [
                            0.4444444444444444,
                            "#bd3786"
                          ],
                          [
                            0.5555555555555556,
                            "#d8576b"
                          ],
                          [
                            0.6666666666666666,
                            "#ed7953"
                          ],
                          [
                            0.7777777777777778,
                            "#fb9f3a"
                          ],
                          [
                            0.8888888888888888,
                            "#fdca26"
                          ],
                          [
                            1,
                            "#f0f921"
                          ]
                        ],
                        "type": "surface"
                      }
                    ],
                    "table": [
                      {
                        "cells": {
                          "fill": {
                            "color": "#EBF0F8"
                          },
                          "line": {
                            "color": "white"
                          }
                        },
                        "header": {
                          "fill": {
                            "color": "#C8D4E3"
                          },
                          "line": {
                            "color": "white"
                          }
                        },
                        "type": "table"
                      }
                    ]
                  },
                  "layout": {
                    "annotationdefaults": {
                      "arrowcolor": "#2a3f5f",
                      "arrowhead": 0,
                      "arrowwidth": 1
                    },
                    "autotypenumbers": "strict",
                    "coloraxis": {
                      "colorbar": {
                        "outlinewidth": 0,
                        "ticks": ""
                      }
                    },
                    "colorscale": {
                      "diverging": [
                        [
                          0,
                          "#8e0152"
                        ],
                        [
                          0.1,
                          "#c51b7d"
                        ],
                        [
                          0.2,
                          "#de77ae"
                        ],
                        [
                          0.3,
                          "#f1b6da"
                        ],
                        [
                          0.4,
                          "#fde0ef"
                        ],
                        [
                          0.5,
                          "#f7f7f7"
                        ],
                        [
                          0.6,
                          "#e6f5d0"
                        ],
                        [
                          0.7,
                          "#b8e186"
                        ],
                        [
                          0.8,
                          "#7fbc41"
                        ],
                        [
                          0.9,
                          "#4d9221"
                        ],
                        [
                          1,
                          "#276419"
                        ]
                      ],
                      "sequential": [
                        [
                          0,
                          "#0d0887"
                        ],
                        [
                          0.1111111111111111,
                          "#46039f"
                        ],
                        [
                          0.2222222222222222,
                          "#7201a8"
                        ],
                        [
                          0.3333333333333333,
                          "#9c179e"
                        ],
                        [
                          0.4444444444444444,
                          "#bd3786"
                        ],
                        [
                          0.5555555555555556,
                          "#d8576b"
                        ],
                        [
                          0.6666666666666666,
                          "#ed7953"
                        ],
                        [
                          0.7777777777777778,
                          "#fb9f3a"
                        ],
                        [
                          0.8888888888888888,
                          "#fdca26"
                        ],
                        [
                          1,
                          "#f0f921"
                        ]
                      ],
                      "sequentialminus": [
                        [
                          0,
                          "#0d0887"
                        ],
                        [
                          0.1111111111111111,
                          "#46039f"
                        ],
                        [
                          0.2222222222222222,
                          "#7201a8"
                        ],
                        [
                          0.3333333333333333,
                          "#9c179e"
                        ],
                        [
                          0.4444444444444444,
                          "#bd3786"
                        ],
                        [
                          0.5555555555555556,
                          "#d8576b"
                        ],
                        [
                          0.6666666666666666,
                          "#ed7953"
                        ],
                        [
                          0.7777777777777778,
                          "#fb9f3a"
                        ],
                        [
                          0.8888888888888888,
                          "#fdca26"
                        ],
                        [
                          1,
                          "#f0f921"
                        ]
                      ]
                    },
                    "colorway": [
                      "#636efa",
                      "#EF553B",
                      "#00cc96",
                      "#ab63fa",
                      "#FFA15A",
                      "#19d3f3",
                      "#FF6692",
                      "#B6E880",
                      "#FF97FF",
                      "#FECB52"
                    ],
                    "font": {
                      "color": "#2a3f5f"
                    },
                    "geo": {
                      "bgcolor": "white",
                      "lakecolor": "white",
                      "landcolor": "#E5ECF6",
                      "showlakes": true,
                      "showland": true,
                      "subunitcolor": "white"
                    },
                    "hoverlabel": {
                      "align": "left"
                    },
                    "hovermode": "closest",
                    "mapbox": {
                      "style": "light"
                    },
                    "paper_bgcolor": "white",
                    "plot_bgcolor": "#E5ECF6",
                    "polar": {
                      "angularaxis": {
                        "gridcolor": "white",
                        "linecolor": "white",
                        "ticks": ""
                      },
                      "bgcolor": "#E5ECF6",
                      "radialaxis": {
                        "gridcolor": "white",
                        "linecolor": "white",
                        "ticks": ""
                      }
                    },
                    "scene": {
                      "xaxis": {
                        "backgroundcolor": "#E5ECF6",
                        "gridcolor": "white",
                        "gridwidth": 2,
                        "linecolor": "white",
                        "showbackground": true,
                        "ticks": "",
                        "zerolinecolor": "white"
                      },
                      "yaxis": {
                        "backgroundcolor": "#E5ECF6",
                        "gridcolor": "white",
                        "gridwidth": 2,
                        "linecolor": "white",
                        "showbackground": true,
                        "ticks": "",
                        "zerolinecolor": "white"
                      },
                      "zaxis": {
                        "backgroundcolor": "#E5ECF6",
                        "gridcolor": "white",
                        "gridwidth": 2,
                        "linecolor": "white",
                        "showbackground": true,
                        "ticks": "",
                        "zerolinecolor": "white"
                      }
                    },
                    "shapedefaults": {
                      "line": {
                        "color": "#2a3f5f"
                      }
                    },
                    "ternary": {
                      "aaxis": {
                        "gridcolor": "white",
                        "linecolor": "white",
                        "ticks": ""
                      },
                      "baxis": {
                        "gridcolor": "white",
                        "linecolor": "white",
                        "ticks": ""
                      },
                      "bgcolor": "#E5ECF6",
                      "caxis": {
                        "gridcolor": "white",
                        "linecolor": "white",
                        "ticks": ""
                      }
                    },
                    "title": {
                      "x": 0.05
                    },
                    "xaxis": {
                      "automargin": true,
                      "gridcolor": "white",
                      "linecolor": "white",
                      "ticks": "",
                      "title": {
                        "standoff": 15
                      },
                      "zerolinecolor": "white",
                      "zerolinewidth": 2
                    },
                    "yaxis": {
                      "automargin": true,
                      "gridcolor": "white",
                      "linecolor": "white",
                      "ticks": "",
                      "title": {
                        "standoff": 15
                      },
                      "zerolinecolor": "white",
                      "zerolinewidth": 2
                    }
                  }
                }
              },
              "config": {
                "showLink": false,
                "linkText": "Export to plot.ly",
                "plotlyServerURL": "https://plot.ly"
              }
            },
            "text/html": [
              "<div>            <script src=\"https://cdnjs.cloudflare.com/ajax/libs/mathjax/2.7.5/MathJax.js?config=TeX-AMS-MML_SVG\"></script><script type=\"text/javascript\">if (window.MathJax && window.MathJax.Hub && window.MathJax.Hub.Config) {window.MathJax.Hub.Config({SVG: {font: \"STIX-Web\"}});}</script>                <script type=\"text/javascript\">window.PlotlyConfig = {MathJaxConfig: 'local'};</script>\n",
              "        <script charset=\"utf-8\" src=\"https://cdn.plot.ly/plotly-3.0.1.min.js\"></script>                <div id=\"d5aa0b46-6b15-4db8-b046-2fae2b781112\" class=\"plotly-graph-div\" style=\"height:525px; width:100%;\"></div>            <script type=\"text/javascript\">                window.PLOTLYENV=window.PLOTLYENV || {};                                if (document.getElementById(\"d5aa0b46-6b15-4db8-b046-2fae2b781112\")) {                    Plotly.newPlot(                        \"d5aa0b46-6b15-4db8-b046-2fae2b781112\",                        [{\"line\":{\"color\":\"blue\"},\"name\":\"A\",\"y\":{\"dtype\":\"i2\",\"bdata\":\"zgCo\\u002f83\\u002fqf\\u002fC\\u002f5f\\u002fo\\u002f9XAFIAJv9mAPQAlQBOAOIA6\\u002f9AAN0AbgAS\\u002f6P\\u002fFP8h\\u002fx7\\u002fz\\u002f80\\u002f9v\\u002fUwBf\\u002f1n\\u002f9QCA\\u002f0gAof8bAIoAHQBKACP\\u002flP8hADoAv\\u002f+zAOn\\u002fqf9l\\u002f8IAZP\\u002fS\\u002fzv\\u002fqQC0\\u002fzAAxAAd\\u002f2L\\u002f\\u002fv\\u002feAIP\\u002fmAAn\\u002fxv\\u002fKgB3AK8AjQAv\\u002f6X\\u002fpgASAN4A3\\u002f9\\u002f\\u002f3r\\u002fFf9Q\\u002f+7\\u002fff8vACUAyQAbAM\\u002f\\u002f\\u002fv9f\\u002f94AIQCGAIf\\u002fRv\\u002fT\\u002f3v\\u002fcv8\\u002f\\u002fyn\\u002fpP\\u002fVAI0AdgA=\"},\"type\":\"scatter\"},{\"line\":{\"color\":\"red\"},\"name\":\"B\",\"y\":{\"dtype\":\"i2\",\"bdata\":\"CP8J\\u002fzIAuP9EAOYAYQAYAIX\\u002fUf8GAJ0AMADt\\u002f7YASv8q\\u002f9kA7ADz\\u002f7z\\u002fZP\\u002fo\\u002f0j\\u002fH\\u002f+cAMYA0\\u002f\\u002fEAOkAX\\u002f9SAMMAPwCi\\u002fxj\\u002faf8nAHIAhACf\\u002fz8AgP85\\u002f7UA1gDJ\\u002f27\\u002ffwCmAJz\\u002fowArAEsAGQDtADX\\u002fnf+K\\u002f8\\u002f\\u002f8f\\u002fv\\u002fyn\\u002f4QBoAPIA4gD1\\u002f4wABQCFANn\\u002f4ADRAPH\\u002ftgDh\\u002f37\\u002fBwAMALb\\u002f5gBKAC8ACf8CAJ0Axv9u\\u002f3gAlv90AK\\u002f\\u002fAQDfANwAI\\u002f8W\\u002f5gAZP8=\"},\"type\":\"scatter\"},{\"line\":{\"color\":\"green\"},\"name\":\"C\",\"y\":{\"dtype\":\"i2\",\"bdata\":\"UgAp\\u002f3QASP\\u002fg\\u002fwsAZAB\\u002fAM\\u002f\\u002ffAB9AK3\\u002fLP9SADMAg\\u002f+uAOD\\u002fBgCLAI0APf+fAFIA6f92\\u002f8MAFACy\\u002f+L\\u002f1\\u002f8KAJwA+f8PAGn\\u002f3gDJ\\u002fw4AEv8Z\\u002f8j\\u002ffACYAFcAdv86\\u002fyIAE\\u002f+6\\u002f3QALAB5AB4AKQDCAJH\\u002fjgAt\\u002fyQAjv+QAHP\\u002fY\\u002f\\u002f3\\u002f\\u002fcAyv92\\u002f7IAWP87AIv\\u002fHQAKAHsAkP8U\\u002f+AAwABqANH\\u002f3v+c\\u002f7T\\u002fN\\u002f+J\\u002fx7\\u002fZv9UAFoAkADf\\u002f8MAsv+xAJ4Ai\\u002f9s\\u002fxz\\u002fg\\u002f8=\"},\"type\":\"scatter\"},{\"line\":{\"color\":\"purple\"},\"name\":\"D\",\"y\":{\"dtype\":\"i2\",\"bdata\":\"uP9SAIX\\u002fXv8zAIoAhf8DAJb\\u002fIACh\\u002fxX\\u002fQAAiAGAARgD2AP7\\u002fWP\\u002fJAC3\\u002fiwDEAOj\\u002f0v86ABP\\u002f0\\u002f8S\\u002fzb\\u002fHv90AE8A6P9v\\u002f4AAlP8a\\u002f6kAO\\u002f+FAOkAfgAM\\u002fx3\\u002fowBOABwArgDk\\u002f5z\\u002f1\\u002f9lAMUAgf+0AG\\u002f\\u002fhACX\\u002fwkAJv80AEP\\u002f3f9M\\u002fz7\\u002fKv9GAJUAIwBiAPAAXwAy\\u002f9P\\u002fav\\u002fh\\u002f3P\\u002ff\\u002f8o\\u002f3T\\u002fwAA6AJb\\u002fJgBF\\u002f9MAXgAT\\u002f4gAvwAKALz\\u002fUf\\u002fwAOwAIv\\u002fA\\u002f2j\\u002fN\\u002f8=\"},\"type\":\"scatter\"}],                        {\"template\":{\"data\":{\"barpolar\":[{\"marker\":{\"line\":{\"color\":\"#E5ECF6\",\"width\":0.5},\"pattern\":{\"fillmode\":\"overlay\",\"size\":10,\"solidity\":0.2}},\"type\":\"barpolar\"}],\"bar\":[{\"error_x\":{\"color\":\"#2a3f5f\"},\"error_y\":{\"color\":\"#2a3f5f\"},\"marker\":{\"line\":{\"color\":\"#E5ECF6\",\"width\":0.5},\"pattern\":{\"fillmode\":\"overlay\",\"size\":10,\"solidity\":0.2}},\"type\":\"bar\"}],\"carpet\":[{\"aaxis\":{\"endlinecolor\":\"#2a3f5f\",\"gridcolor\":\"white\",\"linecolor\":\"white\",\"minorgridcolor\":\"white\",\"startlinecolor\":\"#2a3f5f\"},\"baxis\":{\"endlinecolor\":\"#2a3f5f\",\"gridcolor\":\"white\",\"linecolor\":\"white\",\"minorgridcolor\":\"white\",\"startlinecolor\":\"#2a3f5f\"},\"type\":\"carpet\"}],\"choropleth\":[{\"colorbar\":{\"outlinewidth\":0,\"ticks\":\"\"},\"type\":\"choropleth\"}],\"contourcarpet\":[{\"colorbar\":{\"outlinewidth\":0,\"ticks\":\"\"},\"type\":\"contourcarpet\"}],\"contour\":[{\"colorbar\":{\"outlinewidth\":0,\"ticks\":\"\"},\"colorscale\":[[0.0,\"#0d0887\"],[0.1111111111111111,\"#46039f\"],[0.2222222222222222,\"#7201a8\"],[0.3333333333333333,\"#9c179e\"],[0.4444444444444444,\"#bd3786\"],[0.5555555555555556,\"#d8576b\"],[0.6666666666666666,\"#ed7953\"],[0.7777777777777778,\"#fb9f3a\"],[0.8888888888888888,\"#fdca26\"],[1.0,\"#f0f921\"]],\"type\":\"contour\"}],\"heatmap\":[{\"colorbar\":{\"outlinewidth\":0,\"ticks\":\"\"},\"colorscale\":[[0.0,\"#0d0887\"],[0.1111111111111111,\"#46039f\"],[0.2222222222222222,\"#7201a8\"],[0.3333333333333333,\"#9c179e\"],[0.4444444444444444,\"#bd3786\"],[0.5555555555555556,\"#d8576b\"],[0.6666666666666666,\"#ed7953\"],[0.7777777777777778,\"#fb9f3a\"],[0.8888888888888888,\"#fdca26\"],[1.0,\"#f0f921\"]],\"type\":\"heatmap\"}],\"histogram2dcontour\":[{\"colorbar\":{\"outlinewidth\":0,\"ticks\":\"\"},\"colorscale\":[[0.0,\"#0d0887\"],[0.1111111111111111,\"#46039f\"],[0.2222222222222222,\"#7201a8\"],[0.3333333333333333,\"#9c179e\"],[0.4444444444444444,\"#bd3786\"],[0.5555555555555556,\"#d8576b\"],[0.6666666666666666,\"#ed7953\"],[0.7777777777777778,\"#fb9f3a\"],[0.8888888888888888,\"#fdca26\"],[1.0,\"#f0f921\"]],\"type\":\"histogram2dcontour\"}],\"histogram2d\":[{\"colorbar\":{\"outlinewidth\":0,\"ticks\":\"\"},\"colorscale\":[[0.0,\"#0d0887\"],[0.1111111111111111,\"#46039f\"],[0.2222222222222222,\"#7201a8\"],[0.3333333333333333,\"#9c179e\"],[0.4444444444444444,\"#bd3786\"],[0.5555555555555556,\"#d8576b\"],[0.6666666666666666,\"#ed7953\"],[0.7777777777777778,\"#fb9f3a\"],[0.8888888888888888,\"#fdca26\"],[1.0,\"#f0f921\"]],\"type\":\"histogram2d\"}],\"histogram\":[{\"marker\":{\"pattern\":{\"fillmode\":\"overlay\",\"size\":10,\"solidity\":0.2}},\"type\":\"histogram\"}],\"mesh3d\":[{\"colorbar\":{\"outlinewidth\":0,\"ticks\":\"\"},\"type\":\"mesh3d\"}],\"parcoords\":[{\"line\":{\"colorbar\":{\"outlinewidth\":0,\"ticks\":\"\"}},\"type\":\"parcoords\"}],\"pie\":[{\"automargin\":true,\"type\":\"pie\"}],\"scatter3d\":[{\"line\":{\"colorbar\":{\"outlinewidth\":0,\"ticks\":\"\"}},\"marker\":{\"colorbar\":{\"outlinewidth\":0,\"ticks\":\"\"}},\"type\":\"scatter3d\"}],\"scattercarpet\":[{\"marker\":{\"colorbar\":{\"outlinewidth\":0,\"ticks\":\"\"}},\"type\":\"scattercarpet\"}],\"scattergeo\":[{\"marker\":{\"colorbar\":{\"outlinewidth\":0,\"ticks\":\"\"}},\"type\":\"scattergeo\"}],\"scattergl\":[{\"marker\":{\"colorbar\":{\"outlinewidth\":0,\"ticks\":\"\"}},\"type\":\"scattergl\"}],\"scattermapbox\":[{\"marker\":{\"colorbar\":{\"outlinewidth\":0,\"ticks\":\"\"}},\"type\":\"scattermapbox\"}],\"scattermap\":[{\"marker\":{\"colorbar\":{\"outlinewidth\":0,\"ticks\":\"\"}},\"type\":\"scattermap\"}],\"scatterpolargl\":[{\"marker\":{\"colorbar\":{\"outlinewidth\":0,\"ticks\":\"\"}},\"type\":\"scatterpolargl\"}],\"scatterpolar\":[{\"marker\":{\"colorbar\":{\"outlinewidth\":0,\"ticks\":\"\"}},\"type\":\"scatterpolar\"}],\"scatter\":[{\"fillpattern\":{\"fillmode\":\"overlay\",\"size\":10,\"solidity\":0.2},\"type\":\"scatter\"}],\"scatterternary\":[{\"marker\":{\"colorbar\":{\"outlinewidth\":0,\"ticks\":\"\"}},\"type\":\"scatterternary\"}],\"surface\":[{\"colorbar\":{\"outlinewidth\":0,\"ticks\":\"\"},\"colorscale\":[[0.0,\"#0d0887\"],[0.1111111111111111,\"#46039f\"],[0.2222222222222222,\"#7201a8\"],[0.3333333333333333,\"#9c179e\"],[0.4444444444444444,\"#bd3786\"],[0.5555555555555556,\"#d8576b\"],[0.6666666666666666,\"#ed7953\"],[0.7777777777777778,\"#fb9f3a\"],[0.8888888888888888,\"#fdca26\"],[1.0,\"#f0f921\"]],\"type\":\"surface\"}],\"table\":[{\"cells\":{\"fill\":{\"color\":\"#EBF0F8\"},\"line\":{\"color\":\"white\"}},\"header\":{\"fill\":{\"color\":\"#C8D4E3\"},\"line\":{\"color\":\"white\"}},\"type\":\"table\"}]},\"layout\":{\"annotationdefaults\":{\"arrowcolor\":\"#2a3f5f\",\"arrowhead\":0,\"arrowwidth\":1},\"autotypenumbers\":\"strict\",\"coloraxis\":{\"colorbar\":{\"outlinewidth\":0,\"ticks\":\"\"}},\"colorscale\":{\"diverging\":[[0,\"#8e0152\"],[0.1,\"#c51b7d\"],[0.2,\"#de77ae\"],[0.3,\"#f1b6da\"],[0.4,\"#fde0ef\"],[0.5,\"#f7f7f7\"],[0.6,\"#e6f5d0\"],[0.7,\"#b8e186\"],[0.8,\"#7fbc41\"],[0.9,\"#4d9221\"],[1,\"#276419\"]],\"sequential\":[[0.0,\"#0d0887\"],[0.1111111111111111,\"#46039f\"],[0.2222222222222222,\"#7201a8\"],[0.3333333333333333,\"#9c179e\"],[0.4444444444444444,\"#bd3786\"],[0.5555555555555556,\"#d8576b\"],[0.6666666666666666,\"#ed7953\"],[0.7777777777777778,\"#fb9f3a\"],[0.8888888888888888,\"#fdca26\"],[1.0,\"#f0f921\"]],\"sequentialminus\":[[0.0,\"#0d0887\"],[0.1111111111111111,\"#46039f\"],[0.2222222222222222,\"#7201a8\"],[0.3333333333333333,\"#9c179e\"],[0.4444444444444444,\"#bd3786\"],[0.5555555555555556,\"#d8576b\"],[0.6666666666666666,\"#ed7953\"],[0.7777777777777778,\"#fb9f3a\"],[0.8888888888888888,\"#fdca26\"],[1.0,\"#f0f921\"]]},\"colorway\":[\"#636efa\",\"#EF553B\",\"#00cc96\",\"#ab63fa\",\"#FFA15A\",\"#19d3f3\",\"#FF6692\",\"#B6E880\",\"#FF97FF\",\"#FECB52\"],\"font\":{\"color\":\"#2a3f5f\"},\"geo\":{\"bgcolor\":\"white\",\"lakecolor\":\"white\",\"landcolor\":\"#E5ECF6\",\"showlakes\":true,\"showland\":true,\"subunitcolor\":\"white\"},\"hoverlabel\":{\"align\":\"left\"},\"hovermode\":\"closest\",\"mapbox\":{\"style\":\"light\"},\"paper_bgcolor\":\"white\",\"plot_bgcolor\":\"#E5ECF6\",\"polar\":{\"angularaxis\":{\"gridcolor\":\"white\",\"linecolor\":\"white\",\"ticks\":\"\"},\"bgcolor\":\"#E5ECF6\",\"radialaxis\":{\"gridcolor\":\"white\",\"linecolor\":\"white\",\"ticks\":\"\"}},\"scene\":{\"xaxis\":{\"backgroundcolor\":\"#E5ECF6\",\"gridcolor\":\"white\",\"gridwidth\":2,\"linecolor\":\"white\",\"showbackground\":true,\"ticks\":\"\",\"zerolinecolor\":\"white\"},\"yaxis\":{\"backgroundcolor\":\"#E5ECF6\",\"gridcolor\":\"white\",\"gridwidth\":2,\"linecolor\":\"white\",\"showbackground\":true,\"ticks\":\"\",\"zerolinecolor\":\"white\"},\"zaxis\":{\"backgroundcolor\":\"#E5ECF6\",\"gridcolor\":\"white\",\"gridwidth\":2,\"linecolor\":\"white\",\"showbackground\":true,\"ticks\":\"\",\"zerolinecolor\":\"white\"}},\"shapedefaults\":{\"line\":{\"color\":\"#2a3f5f\"}},\"ternary\":{\"aaxis\":{\"gridcolor\":\"white\",\"linecolor\":\"white\",\"ticks\":\"\"},\"baxis\":{\"gridcolor\":\"white\",\"linecolor\":\"white\",\"ticks\":\"\"},\"bgcolor\":\"#E5ECF6\",\"caxis\":{\"gridcolor\":\"white\",\"linecolor\":\"white\",\"ticks\":\"\"}},\"title\":{\"x\":0.05},\"xaxis\":{\"automargin\":true,\"gridcolor\":\"white\",\"linecolor\":\"white\",\"ticks\":\"\",\"title\":{\"standoff\":15},\"zerolinecolor\":\"white\",\"zerolinewidth\":2},\"yaxis\":{\"automargin\":true,\"gridcolor\":\"white\",\"linecolor\":\"white\",\"ticks\":\"\",\"title\":{\"standoff\":15},\"zerolinecolor\":\"white\",\"zerolinewidth\":2}}}},                        {\"responsive\": true}                    ).then(function(){\n",
              "                            \n",
              "var gd = document.getElementById('d5aa0b46-6b15-4db8-b046-2fae2b781112');\n",
              "var x = new MutationObserver(function (mutations, observer) {{\n",
              "        var display = window.getComputedStyle(gd).display;\n",
              "        if (!display || display === 'none') {{\n",
              "            console.log([gd, 'removed!']);\n",
              "            Plotly.purge(gd);\n",
              "            observer.disconnect();\n",
              "        }}\n",
              "}});\n",
              "\n",
              "// Listen for the removal of the full notebook cells\n",
              "var notebookContainer = gd.closest('#notebook-container');\n",
              "if (notebookContainer) {{\n",
              "    x.observe(notebookContainer, {childList: true});\n",
              "}}\n",
              "\n",
              "// Listen for the clearing of the current output cell\n",
              "var outputEl = gd.closest('.output');\n",
              "if (outputEl) {{\n",
              "    x.observe(outputEl, {childList: true});\n",
              "}}\n",
              "\n",
              "                        })                };            </script>        </div>"
            ]
          },
          "metadata": {}
        }
      ]
    },
    {
      "cell_type": "code",
      "source": [
        "fig = go.Figure()\n",
        "# Add traces for each column\n",
        "fig.add_trace(go.Scatter(x=df['A'], y=df['B'], mode='markers', name='A vs B', line=dict(color='blue')))\n",
        "iplot(fig)"
      ],
      "metadata": {
        "colab": {
          "base_uri": "https://localhost:8080/",
          "height": 542
        },
        "id": "nPQYqUMAmY6y",
        "outputId": "f8c759e8-b2a8-4283-be98-f4e5a0c71885"
      },
      "execution_count": 96,
      "outputs": [
        {
          "output_type": "display_data",
          "data": {
            "application/vnd.plotly.v1+json": {
              "data": [
                {
                  "line": {
                    "color": "blue"
                  },
                  "mode": "markers",
                  "name": "A vs B",
                  "x": {
                    "dtype": "i2",
                    "bdata": "zgCo/83/qf/C/5f/o/9XAFIAJv9mAPQAlQBOAOIA6/9AAN0AbgAS/6P/FP8h/x7/z/80/9v/UwBf/1n/9QCA/0gAof8bAIoAHQBKACP/lP8hADoAv/+zAOn/qf9l/8IAZP/S/zv/qQC0/zAAxAAd/2L//v/eAIP/mAAn/xv/KgB3AK8AjQAv/6X/pgASAN4A3/9//3r/Ff9Q/+7/ff8vACUAyQAbAM///v9f/94AIQCGAIf/Rv/T/3v/cv8//yn/pP/VAI0AdgA="
                  },
                  "y": {
                    "dtype": "i2",
                    "bdata": "CP8J/zIAuP9EAOYAYQAYAIX/Uf8GAJ0AMADt/7YASv8q/9kA7ADz/7z/ZP/o/0j/H/+cAMYA0//EAOkAX/9SAMMAPwCi/xj/af8nAHIAhACf/z8AgP85/7UA1gDJ/27/fwCmAJz/owArAEsAGQDtADX/nf+K/8//8f/v/yn/4QBoAPIA4gD1/4wABQCFANn/4ADRAPH/tgDh/37/BwAMALb/5gBKAC8ACf8CAJ0Axv9u/3gAlv90AK//AQDfANwAI/8W/5gAZP8="
                  },
                  "type": "scatter"
                }
              ],
              "layout": {
                "template": {
                  "data": {
                    "barpolar": [
                      {
                        "marker": {
                          "line": {
                            "color": "#E5ECF6",
                            "width": 0.5
                          },
                          "pattern": {
                            "fillmode": "overlay",
                            "size": 10,
                            "solidity": 0.2
                          }
                        },
                        "type": "barpolar"
                      }
                    ],
                    "bar": [
                      {
                        "error_x": {
                          "color": "#2a3f5f"
                        },
                        "error_y": {
                          "color": "#2a3f5f"
                        },
                        "marker": {
                          "line": {
                            "color": "#E5ECF6",
                            "width": 0.5
                          },
                          "pattern": {
                            "fillmode": "overlay",
                            "size": 10,
                            "solidity": 0.2
                          }
                        },
                        "type": "bar"
                      }
                    ],
                    "carpet": [
                      {
                        "aaxis": {
                          "endlinecolor": "#2a3f5f",
                          "gridcolor": "white",
                          "linecolor": "white",
                          "minorgridcolor": "white",
                          "startlinecolor": "#2a3f5f"
                        },
                        "baxis": {
                          "endlinecolor": "#2a3f5f",
                          "gridcolor": "white",
                          "linecolor": "white",
                          "minorgridcolor": "white",
                          "startlinecolor": "#2a3f5f"
                        },
                        "type": "carpet"
                      }
                    ],
                    "choropleth": [
                      {
                        "colorbar": {
                          "outlinewidth": 0,
                          "ticks": ""
                        },
                        "type": "choropleth"
                      }
                    ],
                    "contourcarpet": [
                      {
                        "colorbar": {
                          "outlinewidth": 0,
                          "ticks": ""
                        },
                        "type": "contourcarpet"
                      }
                    ],
                    "contour": [
                      {
                        "colorbar": {
                          "outlinewidth": 0,
                          "ticks": ""
                        },
                        "colorscale": [
                          [
                            0,
                            "#0d0887"
                          ],
                          [
                            0.1111111111111111,
                            "#46039f"
                          ],
                          [
                            0.2222222222222222,
                            "#7201a8"
                          ],
                          [
                            0.3333333333333333,
                            "#9c179e"
                          ],
                          [
                            0.4444444444444444,
                            "#bd3786"
                          ],
                          [
                            0.5555555555555556,
                            "#d8576b"
                          ],
                          [
                            0.6666666666666666,
                            "#ed7953"
                          ],
                          [
                            0.7777777777777778,
                            "#fb9f3a"
                          ],
                          [
                            0.8888888888888888,
                            "#fdca26"
                          ],
                          [
                            1,
                            "#f0f921"
                          ]
                        ],
                        "type": "contour"
                      }
                    ],
                    "heatmap": [
                      {
                        "colorbar": {
                          "outlinewidth": 0,
                          "ticks": ""
                        },
                        "colorscale": [
                          [
                            0,
                            "#0d0887"
                          ],
                          [
                            0.1111111111111111,
                            "#46039f"
                          ],
                          [
                            0.2222222222222222,
                            "#7201a8"
                          ],
                          [
                            0.3333333333333333,
                            "#9c179e"
                          ],
                          [
                            0.4444444444444444,
                            "#bd3786"
                          ],
                          [
                            0.5555555555555556,
                            "#d8576b"
                          ],
                          [
                            0.6666666666666666,
                            "#ed7953"
                          ],
                          [
                            0.7777777777777778,
                            "#fb9f3a"
                          ],
                          [
                            0.8888888888888888,
                            "#fdca26"
                          ],
                          [
                            1,
                            "#f0f921"
                          ]
                        ],
                        "type": "heatmap"
                      }
                    ],
                    "histogram2dcontour": [
                      {
                        "colorbar": {
                          "outlinewidth": 0,
                          "ticks": ""
                        },
                        "colorscale": [
                          [
                            0,
                            "#0d0887"
                          ],
                          [
                            0.1111111111111111,
                            "#46039f"
                          ],
                          [
                            0.2222222222222222,
                            "#7201a8"
                          ],
                          [
                            0.3333333333333333,
                            "#9c179e"
                          ],
                          [
                            0.4444444444444444,
                            "#bd3786"
                          ],
                          [
                            0.5555555555555556,
                            "#d8576b"
                          ],
                          [
                            0.6666666666666666,
                            "#ed7953"
                          ],
                          [
                            0.7777777777777778,
                            "#fb9f3a"
                          ],
                          [
                            0.8888888888888888,
                            "#fdca26"
                          ],
                          [
                            1,
                            "#f0f921"
                          ]
                        ],
                        "type": "histogram2dcontour"
                      }
                    ],
                    "histogram2d": [
                      {
                        "colorbar": {
                          "outlinewidth": 0,
                          "ticks": ""
                        },
                        "colorscale": [
                          [
                            0,
                            "#0d0887"
                          ],
                          [
                            0.1111111111111111,
                            "#46039f"
                          ],
                          [
                            0.2222222222222222,
                            "#7201a8"
                          ],
                          [
                            0.3333333333333333,
                            "#9c179e"
                          ],
                          [
                            0.4444444444444444,
                            "#bd3786"
                          ],
                          [
                            0.5555555555555556,
                            "#d8576b"
                          ],
                          [
                            0.6666666666666666,
                            "#ed7953"
                          ],
                          [
                            0.7777777777777778,
                            "#fb9f3a"
                          ],
                          [
                            0.8888888888888888,
                            "#fdca26"
                          ],
                          [
                            1,
                            "#f0f921"
                          ]
                        ],
                        "type": "histogram2d"
                      }
                    ],
                    "histogram": [
                      {
                        "marker": {
                          "pattern": {
                            "fillmode": "overlay",
                            "size": 10,
                            "solidity": 0.2
                          }
                        },
                        "type": "histogram"
                      }
                    ],
                    "mesh3d": [
                      {
                        "colorbar": {
                          "outlinewidth": 0,
                          "ticks": ""
                        },
                        "type": "mesh3d"
                      }
                    ],
                    "parcoords": [
                      {
                        "line": {
                          "colorbar": {
                            "outlinewidth": 0,
                            "ticks": ""
                          }
                        },
                        "type": "parcoords"
                      }
                    ],
                    "pie": [
                      {
                        "automargin": true,
                        "type": "pie"
                      }
                    ],
                    "scatter3d": [
                      {
                        "line": {
                          "colorbar": {
                            "outlinewidth": 0,
                            "ticks": ""
                          }
                        },
                        "marker": {
                          "colorbar": {
                            "outlinewidth": 0,
                            "ticks": ""
                          }
                        },
                        "type": "scatter3d"
                      }
                    ],
                    "scattercarpet": [
                      {
                        "marker": {
                          "colorbar": {
                            "outlinewidth": 0,
                            "ticks": ""
                          }
                        },
                        "type": "scattercarpet"
                      }
                    ],
                    "scattergeo": [
                      {
                        "marker": {
                          "colorbar": {
                            "outlinewidth": 0,
                            "ticks": ""
                          }
                        },
                        "type": "scattergeo"
                      }
                    ],
                    "scattergl": [
                      {
                        "marker": {
                          "colorbar": {
                            "outlinewidth": 0,
                            "ticks": ""
                          }
                        },
                        "type": "scattergl"
                      }
                    ],
                    "scattermapbox": [
                      {
                        "marker": {
                          "colorbar": {
                            "outlinewidth": 0,
                            "ticks": ""
                          }
                        },
                        "type": "scattermapbox"
                      }
                    ],
                    "scattermap": [
                      {
                        "marker": {
                          "colorbar": {
                            "outlinewidth": 0,
                            "ticks": ""
                          }
                        },
                        "type": "scattermap"
                      }
                    ],
                    "scatterpolargl": [
                      {
                        "marker": {
                          "colorbar": {
                            "outlinewidth": 0,
                            "ticks": ""
                          }
                        },
                        "type": "scatterpolargl"
                      }
                    ],
                    "scatterpolar": [
                      {
                        "marker": {
                          "colorbar": {
                            "outlinewidth": 0,
                            "ticks": ""
                          }
                        },
                        "type": "scatterpolar"
                      }
                    ],
                    "scatter": [
                      {
                        "fillpattern": {
                          "fillmode": "overlay",
                          "size": 10,
                          "solidity": 0.2
                        },
                        "type": "scatter"
                      }
                    ],
                    "scatterternary": [
                      {
                        "marker": {
                          "colorbar": {
                            "outlinewidth": 0,
                            "ticks": ""
                          }
                        },
                        "type": "scatterternary"
                      }
                    ],
                    "surface": [
                      {
                        "colorbar": {
                          "outlinewidth": 0,
                          "ticks": ""
                        },
                        "colorscale": [
                          [
                            0,
                            "#0d0887"
                          ],
                          [
                            0.1111111111111111,
                            "#46039f"
                          ],
                          [
                            0.2222222222222222,
                            "#7201a8"
                          ],
                          [
                            0.3333333333333333,
                            "#9c179e"
                          ],
                          [
                            0.4444444444444444,
                            "#bd3786"
                          ],
                          [
                            0.5555555555555556,
                            "#d8576b"
                          ],
                          [
                            0.6666666666666666,
                            "#ed7953"
                          ],
                          [
                            0.7777777777777778,
                            "#fb9f3a"
                          ],
                          [
                            0.8888888888888888,
                            "#fdca26"
                          ],
                          [
                            1,
                            "#f0f921"
                          ]
                        ],
                        "type": "surface"
                      }
                    ],
                    "table": [
                      {
                        "cells": {
                          "fill": {
                            "color": "#EBF0F8"
                          },
                          "line": {
                            "color": "white"
                          }
                        },
                        "header": {
                          "fill": {
                            "color": "#C8D4E3"
                          },
                          "line": {
                            "color": "white"
                          }
                        },
                        "type": "table"
                      }
                    ]
                  },
                  "layout": {
                    "annotationdefaults": {
                      "arrowcolor": "#2a3f5f",
                      "arrowhead": 0,
                      "arrowwidth": 1
                    },
                    "autotypenumbers": "strict",
                    "coloraxis": {
                      "colorbar": {
                        "outlinewidth": 0,
                        "ticks": ""
                      }
                    },
                    "colorscale": {
                      "diverging": [
                        [
                          0,
                          "#8e0152"
                        ],
                        [
                          0.1,
                          "#c51b7d"
                        ],
                        [
                          0.2,
                          "#de77ae"
                        ],
                        [
                          0.3,
                          "#f1b6da"
                        ],
                        [
                          0.4,
                          "#fde0ef"
                        ],
                        [
                          0.5,
                          "#f7f7f7"
                        ],
                        [
                          0.6,
                          "#e6f5d0"
                        ],
                        [
                          0.7,
                          "#b8e186"
                        ],
                        [
                          0.8,
                          "#7fbc41"
                        ],
                        [
                          0.9,
                          "#4d9221"
                        ],
                        [
                          1,
                          "#276419"
                        ]
                      ],
                      "sequential": [
                        [
                          0,
                          "#0d0887"
                        ],
                        [
                          0.1111111111111111,
                          "#46039f"
                        ],
                        [
                          0.2222222222222222,
                          "#7201a8"
                        ],
                        [
                          0.3333333333333333,
                          "#9c179e"
                        ],
                        [
                          0.4444444444444444,
                          "#bd3786"
                        ],
                        [
                          0.5555555555555556,
                          "#d8576b"
                        ],
                        [
                          0.6666666666666666,
                          "#ed7953"
                        ],
                        [
                          0.7777777777777778,
                          "#fb9f3a"
                        ],
                        [
                          0.8888888888888888,
                          "#fdca26"
                        ],
                        [
                          1,
                          "#f0f921"
                        ]
                      ],
                      "sequentialminus": [
                        [
                          0,
                          "#0d0887"
                        ],
                        [
                          0.1111111111111111,
                          "#46039f"
                        ],
                        [
                          0.2222222222222222,
                          "#7201a8"
                        ],
                        [
                          0.3333333333333333,
                          "#9c179e"
                        ],
                        [
                          0.4444444444444444,
                          "#bd3786"
                        ],
                        [
                          0.5555555555555556,
                          "#d8576b"
                        ],
                        [
                          0.6666666666666666,
                          "#ed7953"
                        ],
                        [
                          0.7777777777777778,
                          "#fb9f3a"
                        ],
                        [
                          0.8888888888888888,
                          "#fdca26"
                        ],
                        [
                          1,
                          "#f0f921"
                        ]
                      ]
                    },
                    "colorway": [
                      "#636efa",
                      "#EF553B",
                      "#00cc96",
                      "#ab63fa",
                      "#FFA15A",
                      "#19d3f3",
                      "#FF6692",
                      "#B6E880",
                      "#FF97FF",
                      "#FECB52"
                    ],
                    "font": {
                      "color": "#2a3f5f"
                    },
                    "geo": {
                      "bgcolor": "white",
                      "lakecolor": "white",
                      "landcolor": "#E5ECF6",
                      "showlakes": true,
                      "showland": true,
                      "subunitcolor": "white"
                    },
                    "hoverlabel": {
                      "align": "left"
                    },
                    "hovermode": "closest",
                    "mapbox": {
                      "style": "light"
                    },
                    "paper_bgcolor": "white",
                    "plot_bgcolor": "#E5ECF6",
                    "polar": {
                      "angularaxis": {
                        "gridcolor": "white",
                        "linecolor": "white",
                        "ticks": ""
                      },
                      "bgcolor": "#E5ECF6",
                      "radialaxis": {
                        "gridcolor": "white",
                        "linecolor": "white",
                        "ticks": ""
                      }
                    },
                    "scene": {
                      "xaxis": {
                        "backgroundcolor": "#E5ECF6",
                        "gridcolor": "white",
                        "gridwidth": 2,
                        "linecolor": "white",
                        "showbackground": true,
                        "ticks": "",
                        "zerolinecolor": "white"
                      },
                      "yaxis": {
                        "backgroundcolor": "#E5ECF6",
                        "gridcolor": "white",
                        "gridwidth": 2,
                        "linecolor": "white",
                        "showbackground": true,
                        "ticks": "",
                        "zerolinecolor": "white"
                      },
                      "zaxis": {
                        "backgroundcolor": "#E5ECF6",
                        "gridcolor": "white",
                        "gridwidth": 2,
                        "linecolor": "white",
                        "showbackground": true,
                        "ticks": "",
                        "zerolinecolor": "white"
                      }
                    },
                    "shapedefaults": {
                      "line": {
                        "color": "#2a3f5f"
                      }
                    },
                    "ternary": {
                      "aaxis": {
                        "gridcolor": "white",
                        "linecolor": "white",
                        "ticks": ""
                      },
                      "baxis": {
                        "gridcolor": "white",
                        "linecolor": "white",
                        "ticks": ""
                      },
                      "bgcolor": "#E5ECF6",
                      "caxis": {
                        "gridcolor": "white",
                        "linecolor": "white",
                        "ticks": ""
                      }
                    },
                    "title": {
                      "x": 0.05
                    },
                    "xaxis": {
                      "automargin": true,
                      "gridcolor": "white",
                      "linecolor": "white",
                      "ticks": "",
                      "title": {
                        "standoff": 15
                      },
                      "zerolinecolor": "white",
                      "zerolinewidth": 2
                    },
                    "yaxis": {
                      "automargin": true,
                      "gridcolor": "white",
                      "linecolor": "white",
                      "ticks": "",
                      "title": {
                        "standoff": 15
                      },
                      "zerolinecolor": "white",
                      "zerolinewidth": 2
                    }
                  }
                }
              },
              "config": {
                "showLink": false,
                "linkText": "Export to plot.ly",
                "plotlyServerURL": "https://plot.ly"
              }
            },
            "text/html": [
              "<div>            <script src=\"https://cdnjs.cloudflare.com/ajax/libs/mathjax/2.7.5/MathJax.js?config=TeX-AMS-MML_SVG\"></script><script type=\"text/javascript\">if (window.MathJax && window.MathJax.Hub && window.MathJax.Hub.Config) {window.MathJax.Hub.Config({SVG: {font: \"STIX-Web\"}});}</script>                <script type=\"text/javascript\">window.PlotlyConfig = {MathJaxConfig: 'local'};</script>\n",
              "        <script charset=\"utf-8\" src=\"https://cdn.plot.ly/plotly-3.0.1.min.js\"></script>                <div id=\"42cf09d4-aeb9-44f1-be14-8031ce24f5a6\" class=\"plotly-graph-div\" style=\"height:525px; width:100%;\"></div>            <script type=\"text/javascript\">                window.PLOTLYENV=window.PLOTLYENV || {};                                if (document.getElementById(\"42cf09d4-aeb9-44f1-be14-8031ce24f5a6\")) {                    Plotly.newPlot(                        \"42cf09d4-aeb9-44f1-be14-8031ce24f5a6\",                        [{\"line\":{\"color\":\"blue\"},\"mode\":\"markers\",\"name\":\"A vs B\",\"x\":{\"dtype\":\"i2\",\"bdata\":\"zgCo\\u002f83\\u002fqf\\u002fC\\u002f5f\\u002fo\\u002f9XAFIAJv9mAPQAlQBOAOIA6\\u002f9AAN0AbgAS\\u002f6P\\u002fFP8h\\u002fx7\\u002fz\\u002f80\\u002f9v\\u002fUwBf\\u002f1n\\u002f9QCA\\u002f0gAof8bAIoAHQBKACP\\u002flP8hADoAv\\u002f+zAOn\\u002fqf9l\\u002f8IAZP\\u002fS\\u002fzv\\u002fqQC0\\u002fzAAxAAd\\u002f2L\\u002f\\u002fv\\u002feAIP\\u002fmAAn\\u002fxv\\u002fKgB3AK8AjQAv\\u002f6X\\u002fpgASAN4A3\\u002f9\\u002f\\u002f3r\\u002fFf9Q\\u002f+7\\u002fff8vACUAyQAbAM\\u002f\\u002f\\u002fv9f\\u002f94AIQCGAIf\\u002fRv\\u002fT\\u002f3v\\u002fcv8\\u002f\\u002fyn\\u002fpP\\u002fVAI0AdgA=\"},\"y\":{\"dtype\":\"i2\",\"bdata\":\"CP8J\\u002fzIAuP9EAOYAYQAYAIX\\u002fUf8GAJ0AMADt\\u002f7YASv8q\\u002f9kA7ADz\\u002f7z\\u002fZP\\u002fo\\u002f0j\\u002fH\\u002f+cAMYA0\\u002f\\u002fEAOkAX\\u002f9SAMMAPwCi\\u002fxj\\u002faf8nAHIAhACf\\u002fz8AgP85\\u002f7UA1gDJ\\u002f27\\u002ffwCmAJz\\u002fowArAEsAGQDtADX\\u002fnf+K\\u002f8\\u002f\\u002f8f\\u002fv\\u002fyn\\u002f4QBoAPIA4gD1\\u002f4wABQCFANn\\u002f4ADRAPH\\u002ftgDh\\u002f37\\u002fBwAMALb\\u002f5gBKAC8ACf8CAJ0Axv9u\\u002f3gAlv90AK\\u002f\\u002fAQDfANwAI\\u002f8W\\u002f5gAZP8=\"},\"type\":\"scatter\"}],                        {\"template\":{\"data\":{\"barpolar\":[{\"marker\":{\"line\":{\"color\":\"#E5ECF6\",\"width\":0.5},\"pattern\":{\"fillmode\":\"overlay\",\"size\":10,\"solidity\":0.2}},\"type\":\"barpolar\"}],\"bar\":[{\"error_x\":{\"color\":\"#2a3f5f\"},\"error_y\":{\"color\":\"#2a3f5f\"},\"marker\":{\"line\":{\"color\":\"#E5ECF6\",\"width\":0.5},\"pattern\":{\"fillmode\":\"overlay\",\"size\":10,\"solidity\":0.2}},\"type\":\"bar\"}],\"carpet\":[{\"aaxis\":{\"endlinecolor\":\"#2a3f5f\",\"gridcolor\":\"white\",\"linecolor\":\"white\",\"minorgridcolor\":\"white\",\"startlinecolor\":\"#2a3f5f\"},\"baxis\":{\"endlinecolor\":\"#2a3f5f\",\"gridcolor\":\"white\",\"linecolor\":\"white\",\"minorgridcolor\":\"white\",\"startlinecolor\":\"#2a3f5f\"},\"type\":\"carpet\"}],\"choropleth\":[{\"colorbar\":{\"outlinewidth\":0,\"ticks\":\"\"},\"type\":\"choropleth\"}],\"contourcarpet\":[{\"colorbar\":{\"outlinewidth\":0,\"ticks\":\"\"},\"type\":\"contourcarpet\"}],\"contour\":[{\"colorbar\":{\"outlinewidth\":0,\"ticks\":\"\"},\"colorscale\":[[0.0,\"#0d0887\"],[0.1111111111111111,\"#46039f\"],[0.2222222222222222,\"#7201a8\"],[0.3333333333333333,\"#9c179e\"],[0.4444444444444444,\"#bd3786\"],[0.5555555555555556,\"#d8576b\"],[0.6666666666666666,\"#ed7953\"],[0.7777777777777778,\"#fb9f3a\"],[0.8888888888888888,\"#fdca26\"],[1.0,\"#f0f921\"]],\"type\":\"contour\"}],\"heatmap\":[{\"colorbar\":{\"outlinewidth\":0,\"ticks\":\"\"},\"colorscale\":[[0.0,\"#0d0887\"],[0.1111111111111111,\"#46039f\"],[0.2222222222222222,\"#7201a8\"],[0.3333333333333333,\"#9c179e\"],[0.4444444444444444,\"#bd3786\"],[0.5555555555555556,\"#d8576b\"],[0.6666666666666666,\"#ed7953\"],[0.7777777777777778,\"#fb9f3a\"],[0.8888888888888888,\"#fdca26\"],[1.0,\"#f0f921\"]],\"type\":\"heatmap\"}],\"histogram2dcontour\":[{\"colorbar\":{\"outlinewidth\":0,\"ticks\":\"\"},\"colorscale\":[[0.0,\"#0d0887\"],[0.1111111111111111,\"#46039f\"],[0.2222222222222222,\"#7201a8\"],[0.3333333333333333,\"#9c179e\"],[0.4444444444444444,\"#bd3786\"],[0.5555555555555556,\"#d8576b\"],[0.6666666666666666,\"#ed7953\"],[0.7777777777777778,\"#fb9f3a\"],[0.8888888888888888,\"#fdca26\"],[1.0,\"#f0f921\"]],\"type\":\"histogram2dcontour\"}],\"histogram2d\":[{\"colorbar\":{\"outlinewidth\":0,\"ticks\":\"\"},\"colorscale\":[[0.0,\"#0d0887\"],[0.1111111111111111,\"#46039f\"],[0.2222222222222222,\"#7201a8\"],[0.3333333333333333,\"#9c179e\"],[0.4444444444444444,\"#bd3786\"],[0.5555555555555556,\"#d8576b\"],[0.6666666666666666,\"#ed7953\"],[0.7777777777777778,\"#fb9f3a\"],[0.8888888888888888,\"#fdca26\"],[1.0,\"#f0f921\"]],\"type\":\"histogram2d\"}],\"histogram\":[{\"marker\":{\"pattern\":{\"fillmode\":\"overlay\",\"size\":10,\"solidity\":0.2}},\"type\":\"histogram\"}],\"mesh3d\":[{\"colorbar\":{\"outlinewidth\":0,\"ticks\":\"\"},\"type\":\"mesh3d\"}],\"parcoords\":[{\"line\":{\"colorbar\":{\"outlinewidth\":0,\"ticks\":\"\"}},\"type\":\"parcoords\"}],\"pie\":[{\"automargin\":true,\"type\":\"pie\"}],\"scatter3d\":[{\"line\":{\"colorbar\":{\"outlinewidth\":0,\"ticks\":\"\"}},\"marker\":{\"colorbar\":{\"outlinewidth\":0,\"ticks\":\"\"}},\"type\":\"scatter3d\"}],\"scattercarpet\":[{\"marker\":{\"colorbar\":{\"outlinewidth\":0,\"ticks\":\"\"}},\"type\":\"scattercarpet\"}],\"scattergeo\":[{\"marker\":{\"colorbar\":{\"outlinewidth\":0,\"ticks\":\"\"}},\"type\":\"scattergeo\"}],\"scattergl\":[{\"marker\":{\"colorbar\":{\"outlinewidth\":0,\"ticks\":\"\"}},\"type\":\"scattergl\"}],\"scattermapbox\":[{\"marker\":{\"colorbar\":{\"outlinewidth\":0,\"ticks\":\"\"}},\"type\":\"scattermapbox\"}],\"scattermap\":[{\"marker\":{\"colorbar\":{\"outlinewidth\":0,\"ticks\":\"\"}},\"type\":\"scattermap\"}],\"scatterpolargl\":[{\"marker\":{\"colorbar\":{\"outlinewidth\":0,\"ticks\":\"\"}},\"type\":\"scatterpolargl\"}],\"scatterpolar\":[{\"marker\":{\"colorbar\":{\"outlinewidth\":0,\"ticks\":\"\"}},\"type\":\"scatterpolar\"}],\"scatter\":[{\"fillpattern\":{\"fillmode\":\"overlay\",\"size\":10,\"solidity\":0.2},\"type\":\"scatter\"}],\"scatterternary\":[{\"marker\":{\"colorbar\":{\"outlinewidth\":0,\"ticks\":\"\"}},\"type\":\"scatterternary\"}],\"surface\":[{\"colorbar\":{\"outlinewidth\":0,\"ticks\":\"\"},\"colorscale\":[[0.0,\"#0d0887\"],[0.1111111111111111,\"#46039f\"],[0.2222222222222222,\"#7201a8\"],[0.3333333333333333,\"#9c179e\"],[0.4444444444444444,\"#bd3786\"],[0.5555555555555556,\"#d8576b\"],[0.6666666666666666,\"#ed7953\"],[0.7777777777777778,\"#fb9f3a\"],[0.8888888888888888,\"#fdca26\"],[1.0,\"#f0f921\"]],\"type\":\"surface\"}],\"table\":[{\"cells\":{\"fill\":{\"color\":\"#EBF0F8\"},\"line\":{\"color\":\"white\"}},\"header\":{\"fill\":{\"color\":\"#C8D4E3\"},\"line\":{\"color\":\"white\"}},\"type\":\"table\"}]},\"layout\":{\"annotationdefaults\":{\"arrowcolor\":\"#2a3f5f\",\"arrowhead\":0,\"arrowwidth\":1},\"autotypenumbers\":\"strict\",\"coloraxis\":{\"colorbar\":{\"outlinewidth\":0,\"ticks\":\"\"}},\"colorscale\":{\"diverging\":[[0,\"#8e0152\"],[0.1,\"#c51b7d\"],[0.2,\"#de77ae\"],[0.3,\"#f1b6da\"],[0.4,\"#fde0ef\"],[0.5,\"#f7f7f7\"],[0.6,\"#e6f5d0\"],[0.7,\"#b8e186\"],[0.8,\"#7fbc41\"],[0.9,\"#4d9221\"],[1,\"#276419\"]],\"sequential\":[[0.0,\"#0d0887\"],[0.1111111111111111,\"#46039f\"],[0.2222222222222222,\"#7201a8\"],[0.3333333333333333,\"#9c179e\"],[0.4444444444444444,\"#bd3786\"],[0.5555555555555556,\"#d8576b\"],[0.6666666666666666,\"#ed7953\"],[0.7777777777777778,\"#fb9f3a\"],[0.8888888888888888,\"#fdca26\"],[1.0,\"#f0f921\"]],\"sequentialminus\":[[0.0,\"#0d0887\"],[0.1111111111111111,\"#46039f\"],[0.2222222222222222,\"#7201a8\"],[0.3333333333333333,\"#9c179e\"],[0.4444444444444444,\"#bd3786\"],[0.5555555555555556,\"#d8576b\"],[0.6666666666666666,\"#ed7953\"],[0.7777777777777778,\"#fb9f3a\"],[0.8888888888888888,\"#fdca26\"],[1.0,\"#f0f921\"]]},\"colorway\":[\"#636efa\",\"#EF553B\",\"#00cc96\",\"#ab63fa\",\"#FFA15A\",\"#19d3f3\",\"#FF6692\",\"#B6E880\",\"#FF97FF\",\"#FECB52\"],\"font\":{\"color\":\"#2a3f5f\"},\"geo\":{\"bgcolor\":\"white\",\"lakecolor\":\"white\",\"landcolor\":\"#E5ECF6\",\"showlakes\":true,\"showland\":true,\"subunitcolor\":\"white\"},\"hoverlabel\":{\"align\":\"left\"},\"hovermode\":\"closest\",\"mapbox\":{\"style\":\"light\"},\"paper_bgcolor\":\"white\",\"plot_bgcolor\":\"#E5ECF6\",\"polar\":{\"angularaxis\":{\"gridcolor\":\"white\",\"linecolor\":\"white\",\"ticks\":\"\"},\"bgcolor\":\"#E5ECF6\",\"radialaxis\":{\"gridcolor\":\"white\",\"linecolor\":\"white\",\"ticks\":\"\"}},\"scene\":{\"xaxis\":{\"backgroundcolor\":\"#E5ECF6\",\"gridcolor\":\"white\",\"gridwidth\":2,\"linecolor\":\"white\",\"showbackground\":true,\"ticks\":\"\",\"zerolinecolor\":\"white\"},\"yaxis\":{\"backgroundcolor\":\"#E5ECF6\",\"gridcolor\":\"white\",\"gridwidth\":2,\"linecolor\":\"white\",\"showbackground\":true,\"ticks\":\"\",\"zerolinecolor\":\"white\"},\"zaxis\":{\"backgroundcolor\":\"#E5ECF6\",\"gridcolor\":\"white\",\"gridwidth\":2,\"linecolor\":\"white\",\"showbackground\":true,\"ticks\":\"\",\"zerolinecolor\":\"white\"}},\"shapedefaults\":{\"line\":{\"color\":\"#2a3f5f\"}},\"ternary\":{\"aaxis\":{\"gridcolor\":\"white\",\"linecolor\":\"white\",\"ticks\":\"\"},\"baxis\":{\"gridcolor\":\"white\",\"linecolor\":\"white\",\"ticks\":\"\"},\"bgcolor\":\"#E5ECF6\",\"caxis\":{\"gridcolor\":\"white\",\"linecolor\":\"white\",\"ticks\":\"\"}},\"title\":{\"x\":0.05},\"xaxis\":{\"automargin\":true,\"gridcolor\":\"white\",\"linecolor\":\"white\",\"ticks\":\"\",\"title\":{\"standoff\":15},\"zerolinecolor\":\"white\",\"zerolinewidth\":2},\"yaxis\":{\"automargin\":true,\"gridcolor\":\"white\",\"linecolor\":\"white\",\"ticks\":\"\",\"title\":{\"standoff\":15},\"zerolinecolor\":\"white\",\"zerolinewidth\":2}}}},                        {\"responsive\": true}                    ).then(function(){\n",
              "                            \n",
              "var gd = document.getElementById('42cf09d4-aeb9-44f1-be14-8031ce24f5a6');\n",
              "var x = new MutationObserver(function (mutations, observer) {{\n",
              "        var display = window.getComputedStyle(gd).display;\n",
              "        if (!display || display === 'none') {{\n",
              "            console.log([gd, 'removed!']);\n",
              "            Plotly.purge(gd);\n",
              "            observer.disconnect();\n",
              "        }}\n",
              "}});\n",
              "\n",
              "// Listen for the removal of the full notebook cells\n",
              "var notebookContainer = gd.closest('#notebook-container');\n",
              "if (notebookContainer) {{\n",
              "    x.observe(notebookContainer, {childList: true});\n",
              "}}\n",
              "\n",
              "// Listen for the clearing of the current output cell\n",
              "var outputEl = gd.closest('.output');\n",
              "if (outputEl) {{\n",
              "    x.observe(outputEl, {childList: true});\n",
              "}}\n",
              "\n",
              "                        })                };            </script>        </div>"
            ]
          },
          "metadata": {}
        }
      ]
    },
    {
      "cell_type": "code",
      "source": [
        "fig = go.Figure(data=[go.Bar(x=df['A'], y=df['B'])])\n",
        "iplot(fig)"
      ],
      "metadata": {
        "colab": {
          "base_uri": "https://localhost:8080/",
          "height": 542
        },
        "id": "y_TW144CxW4w",
        "outputId": "d4df954f-f237-4390-c132-2fc6bb0c6bae"
      },
      "execution_count": 97,
      "outputs": [
        {
          "output_type": "display_data",
          "data": {
            "application/vnd.plotly.v1+json": {
              "data": [
                {
                  "x": {
                    "dtype": "i2",
                    "bdata": "zgCo/83/qf/C/5f/o/9XAFIAJv9mAPQAlQBOAOIA6/9AAN0AbgAS/6P/FP8h/x7/z/80/9v/UwBf/1n/9QCA/0gAof8bAIoAHQBKACP/lP8hADoAv/+zAOn/qf9l/8IAZP/S/zv/qQC0/zAAxAAd/2L//v/eAIP/mAAn/xv/KgB3AK8AjQAv/6X/pgASAN4A3/9//3r/Ff9Q/+7/ff8vACUAyQAbAM///v9f/94AIQCGAIf/Rv/T/3v/cv8//yn/pP/VAI0AdgA="
                  },
                  "y": {
                    "dtype": "i2",
                    "bdata": "CP8J/zIAuP9EAOYAYQAYAIX/Uf8GAJ0AMADt/7YASv8q/9kA7ADz/7z/ZP/o/0j/H/+cAMYA0//EAOkAX/9SAMMAPwCi/xj/af8nAHIAhACf/z8AgP85/7UA1gDJ/27/fwCmAJz/owArAEsAGQDtADX/nf+K/8//8f/v/yn/4QBoAPIA4gD1/4wABQCFANn/4ADRAPH/tgDh/37/BwAMALb/5gBKAC8ACf8CAJ0Axv9u/3gAlv90AK//AQDfANwAI/8W/5gAZP8="
                  },
                  "type": "bar"
                }
              ],
              "layout": {
                "template": {
                  "data": {
                    "barpolar": [
                      {
                        "marker": {
                          "line": {
                            "color": "#E5ECF6",
                            "width": 0.5
                          },
                          "pattern": {
                            "fillmode": "overlay",
                            "size": 10,
                            "solidity": 0.2
                          }
                        },
                        "type": "barpolar"
                      }
                    ],
                    "bar": [
                      {
                        "error_x": {
                          "color": "#2a3f5f"
                        },
                        "error_y": {
                          "color": "#2a3f5f"
                        },
                        "marker": {
                          "line": {
                            "color": "#E5ECF6",
                            "width": 0.5
                          },
                          "pattern": {
                            "fillmode": "overlay",
                            "size": 10,
                            "solidity": 0.2
                          }
                        },
                        "type": "bar"
                      }
                    ],
                    "carpet": [
                      {
                        "aaxis": {
                          "endlinecolor": "#2a3f5f",
                          "gridcolor": "white",
                          "linecolor": "white",
                          "minorgridcolor": "white",
                          "startlinecolor": "#2a3f5f"
                        },
                        "baxis": {
                          "endlinecolor": "#2a3f5f",
                          "gridcolor": "white",
                          "linecolor": "white",
                          "minorgridcolor": "white",
                          "startlinecolor": "#2a3f5f"
                        },
                        "type": "carpet"
                      }
                    ],
                    "choropleth": [
                      {
                        "colorbar": {
                          "outlinewidth": 0,
                          "ticks": ""
                        },
                        "type": "choropleth"
                      }
                    ],
                    "contourcarpet": [
                      {
                        "colorbar": {
                          "outlinewidth": 0,
                          "ticks": ""
                        },
                        "type": "contourcarpet"
                      }
                    ],
                    "contour": [
                      {
                        "colorbar": {
                          "outlinewidth": 0,
                          "ticks": ""
                        },
                        "colorscale": [
                          [
                            0,
                            "#0d0887"
                          ],
                          [
                            0.1111111111111111,
                            "#46039f"
                          ],
                          [
                            0.2222222222222222,
                            "#7201a8"
                          ],
                          [
                            0.3333333333333333,
                            "#9c179e"
                          ],
                          [
                            0.4444444444444444,
                            "#bd3786"
                          ],
                          [
                            0.5555555555555556,
                            "#d8576b"
                          ],
                          [
                            0.6666666666666666,
                            "#ed7953"
                          ],
                          [
                            0.7777777777777778,
                            "#fb9f3a"
                          ],
                          [
                            0.8888888888888888,
                            "#fdca26"
                          ],
                          [
                            1,
                            "#f0f921"
                          ]
                        ],
                        "type": "contour"
                      }
                    ],
                    "heatmap": [
                      {
                        "colorbar": {
                          "outlinewidth": 0,
                          "ticks": ""
                        },
                        "colorscale": [
                          [
                            0,
                            "#0d0887"
                          ],
                          [
                            0.1111111111111111,
                            "#46039f"
                          ],
                          [
                            0.2222222222222222,
                            "#7201a8"
                          ],
                          [
                            0.3333333333333333,
                            "#9c179e"
                          ],
                          [
                            0.4444444444444444,
                            "#bd3786"
                          ],
                          [
                            0.5555555555555556,
                            "#d8576b"
                          ],
                          [
                            0.6666666666666666,
                            "#ed7953"
                          ],
                          [
                            0.7777777777777778,
                            "#fb9f3a"
                          ],
                          [
                            0.8888888888888888,
                            "#fdca26"
                          ],
                          [
                            1,
                            "#f0f921"
                          ]
                        ],
                        "type": "heatmap"
                      }
                    ],
                    "histogram2dcontour": [
                      {
                        "colorbar": {
                          "outlinewidth": 0,
                          "ticks": ""
                        },
                        "colorscale": [
                          [
                            0,
                            "#0d0887"
                          ],
                          [
                            0.1111111111111111,
                            "#46039f"
                          ],
                          [
                            0.2222222222222222,
                            "#7201a8"
                          ],
                          [
                            0.3333333333333333,
                            "#9c179e"
                          ],
                          [
                            0.4444444444444444,
                            "#bd3786"
                          ],
                          [
                            0.5555555555555556,
                            "#d8576b"
                          ],
                          [
                            0.6666666666666666,
                            "#ed7953"
                          ],
                          [
                            0.7777777777777778,
                            "#fb9f3a"
                          ],
                          [
                            0.8888888888888888,
                            "#fdca26"
                          ],
                          [
                            1,
                            "#f0f921"
                          ]
                        ],
                        "type": "histogram2dcontour"
                      }
                    ],
                    "histogram2d": [
                      {
                        "colorbar": {
                          "outlinewidth": 0,
                          "ticks": ""
                        },
                        "colorscale": [
                          [
                            0,
                            "#0d0887"
                          ],
                          [
                            0.1111111111111111,
                            "#46039f"
                          ],
                          [
                            0.2222222222222222,
                            "#7201a8"
                          ],
                          [
                            0.3333333333333333,
                            "#9c179e"
                          ],
                          [
                            0.4444444444444444,
                            "#bd3786"
                          ],
                          [
                            0.5555555555555556,
                            "#d8576b"
                          ],
                          [
                            0.6666666666666666,
                            "#ed7953"
                          ],
                          [
                            0.7777777777777778,
                            "#fb9f3a"
                          ],
                          [
                            0.8888888888888888,
                            "#fdca26"
                          ],
                          [
                            1,
                            "#f0f921"
                          ]
                        ],
                        "type": "histogram2d"
                      }
                    ],
                    "histogram": [
                      {
                        "marker": {
                          "pattern": {
                            "fillmode": "overlay",
                            "size": 10,
                            "solidity": 0.2
                          }
                        },
                        "type": "histogram"
                      }
                    ],
                    "mesh3d": [
                      {
                        "colorbar": {
                          "outlinewidth": 0,
                          "ticks": ""
                        },
                        "type": "mesh3d"
                      }
                    ],
                    "parcoords": [
                      {
                        "line": {
                          "colorbar": {
                            "outlinewidth": 0,
                            "ticks": ""
                          }
                        },
                        "type": "parcoords"
                      }
                    ],
                    "pie": [
                      {
                        "automargin": true,
                        "type": "pie"
                      }
                    ],
                    "scatter3d": [
                      {
                        "line": {
                          "colorbar": {
                            "outlinewidth": 0,
                            "ticks": ""
                          }
                        },
                        "marker": {
                          "colorbar": {
                            "outlinewidth": 0,
                            "ticks": ""
                          }
                        },
                        "type": "scatter3d"
                      }
                    ],
                    "scattercarpet": [
                      {
                        "marker": {
                          "colorbar": {
                            "outlinewidth": 0,
                            "ticks": ""
                          }
                        },
                        "type": "scattercarpet"
                      }
                    ],
                    "scattergeo": [
                      {
                        "marker": {
                          "colorbar": {
                            "outlinewidth": 0,
                            "ticks": ""
                          }
                        },
                        "type": "scattergeo"
                      }
                    ],
                    "scattergl": [
                      {
                        "marker": {
                          "colorbar": {
                            "outlinewidth": 0,
                            "ticks": ""
                          }
                        },
                        "type": "scattergl"
                      }
                    ],
                    "scattermapbox": [
                      {
                        "marker": {
                          "colorbar": {
                            "outlinewidth": 0,
                            "ticks": ""
                          }
                        },
                        "type": "scattermapbox"
                      }
                    ],
                    "scattermap": [
                      {
                        "marker": {
                          "colorbar": {
                            "outlinewidth": 0,
                            "ticks": ""
                          }
                        },
                        "type": "scattermap"
                      }
                    ],
                    "scatterpolargl": [
                      {
                        "marker": {
                          "colorbar": {
                            "outlinewidth": 0,
                            "ticks": ""
                          }
                        },
                        "type": "scatterpolargl"
                      }
                    ],
                    "scatterpolar": [
                      {
                        "marker": {
                          "colorbar": {
                            "outlinewidth": 0,
                            "ticks": ""
                          }
                        },
                        "type": "scatterpolar"
                      }
                    ],
                    "scatter": [
                      {
                        "fillpattern": {
                          "fillmode": "overlay",
                          "size": 10,
                          "solidity": 0.2
                        },
                        "type": "scatter"
                      }
                    ],
                    "scatterternary": [
                      {
                        "marker": {
                          "colorbar": {
                            "outlinewidth": 0,
                            "ticks": ""
                          }
                        },
                        "type": "scatterternary"
                      }
                    ],
                    "surface": [
                      {
                        "colorbar": {
                          "outlinewidth": 0,
                          "ticks": ""
                        },
                        "colorscale": [
                          [
                            0,
                            "#0d0887"
                          ],
                          [
                            0.1111111111111111,
                            "#46039f"
                          ],
                          [
                            0.2222222222222222,
                            "#7201a8"
                          ],
                          [
                            0.3333333333333333,
                            "#9c179e"
                          ],
                          [
                            0.4444444444444444,
                            "#bd3786"
                          ],
                          [
                            0.5555555555555556,
                            "#d8576b"
                          ],
                          [
                            0.6666666666666666,
                            "#ed7953"
                          ],
                          [
                            0.7777777777777778,
                            "#fb9f3a"
                          ],
                          [
                            0.8888888888888888,
                            "#fdca26"
                          ],
                          [
                            1,
                            "#f0f921"
                          ]
                        ],
                        "type": "surface"
                      }
                    ],
                    "table": [
                      {
                        "cells": {
                          "fill": {
                            "color": "#EBF0F8"
                          },
                          "line": {
                            "color": "white"
                          }
                        },
                        "header": {
                          "fill": {
                            "color": "#C8D4E3"
                          },
                          "line": {
                            "color": "white"
                          }
                        },
                        "type": "table"
                      }
                    ]
                  },
                  "layout": {
                    "annotationdefaults": {
                      "arrowcolor": "#2a3f5f",
                      "arrowhead": 0,
                      "arrowwidth": 1
                    },
                    "autotypenumbers": "strict",
                    "coloraxis": {
                      "colorbar": {
                        "outlinewidth": 0,
                        "ticks": ""
                      }
                    },
                    "colorscale": {
                      "diverging": [
                        [
                          0,
                          "#8e0152"
                        ],
                        [
                          0.1,
                          "#c51b7d"
                        ],
                        [
                          0.2,
                          "#de77ae"
                        ],
                        [
                          0.3,
                          "#f1b6da"
                        ],
                        [
                          0.4,
                          "#fde0ef"
                        ],
                        [
                          0.5,
                          "#f7f7f7"
                        ],
                        [
                          0.6,
                          "#e6f5d0"
                        ],
                        [
                          0.7,
                          "#b8e186"
                        ],
                        [
                          0.8,
                          "#7fbc41"
                        ],
                        [
                          0.9,
                          "#4d9221"
                        ],
                        [
                          1,
                          "#276419"
                        ]
                      ],
                      "sequential": [
                        [
                          0,
                          "#0d0887"
                        ],
                        [
                          0.1111111111111111,
                          "#46039f"
                        ],
                        [
                          0.2222222222222222,
                          "#7201a8"
                        ],
                        [
                          0.3333333333333333,
                          "#9c179e"
                        ],
                        [
                          0.4444444444444444,
                          "#bd3786"
                        ],
                        [
                          0.5555555555555556,
                          "#d8576b"
                        ],
                        [
                          0.6666666666666666,
                          "#ed7953"
                        ],
                        [
                          0.7777777777777778,
                          "#fb9f3a"
                        ],
                        [
                          0.8888888888888888,
                          "#fdca26"
                        ],
                        [
                          1,
                          "#f0f921"
                        ]
                      ],
                      "sequentialminus": [
                        [
                          0,
                          "#0d0887"
                        ],
                        [
                          0.1111111111111111,
                          "#46039f"
                        ],
                        [
                          0.2222222222222222,
                          "#7201a8"
                        ],
                        [
                          0.3333333333333333,
                          "#9c179e"
                        ],
                        [
                          0.4444444444444444,
                          "#bd3786"
                        ],
                        [
                          0.5555555555555556,
                          "#d8576b"
                        ],
                        [
                          0.6666666666666666,
                          "#ed7953"
                        ],
                        [
                          0.7777777777777778,
                          "#fb9f3a"
                        ],
                        [
                          0.8888888888888888,
                          "#fdca26"
                        ],
                        [
                          1,
                          "#f0f921"
                        ]
                      ]
                    },
                    "colorway": [
                      "#636efa",
                      "#EF553B",
                      "#00cc96",
                      "#ab63fa",
                      "#FFA15A",
                      "#19d3f3",
                      "#FF6692",
                      "#B6E880",
                      "#FF97FF",
                      "#FECB52"
                    ],
                    "font": {
                      "color": "#2a3f5f"
                    },
                    "geo": {
                      "bgcolor": "white",
                      "lakecolor": "white",
                      "landcolor": "#E5ECF6",
                      "showlakes": true,
                      "showland": true,
                      "subunitcolor": "white"
                    },
                    "hoverlabel": {
                      "align": "left"
                    },
                    "hovermode": "closest",
                    "mapbox": {
                      "style": "light"
                    },
                    "paper_bgcolor": "white",
                    "plot_bgcolor": "#E5ECF6",
                    "polar": {
                      "angularaxis": {
                        "gridcolor": "white",
                        "linecolor": "white",
                        "ticks": ""
                      },
                      "bgcolor": "#E5ECF6",
                      "radialaxis": {
                        "gridcolor": "white",
                        "linecolor": "white",
                        "ticks": ""
                      }
                    },
                    "scene": {
                      "xaxis": {
                        "backgroundcolor": "#E5ECF6",
                        "gridcolor": "white",
                        "gridwidth": 2,
                        "linecolor": "white",
                        "showbackground": true,
                        "ticks": "",
                        "zerolinecolor": "white"
                      },
                      "yaxis": {
                        "backgroundcolor": "#E5ECF6",
                        "gridcolor": "white",
                        "gridwidth": 2,
                        "linecolor": "white",
                        "showbackground": true,
                        "ticks": "",
                        "zerolinecolor": "white"
                      },
                      "zaxis": {
                        "backgroundcolor": "#E5ECF6",
                        "gridcolor": "white",
                        "gridwidth": 2,
                        "linecolor": "white",
                        "showbackground": true,
                        "ticks": "",
                        "zerolinecolor": "white"
                      }
                    },
                    "shapedefaults": {
                      "line": {
                        "color": "#2a3f5f"
                      }
                    },
                    "ternary": {
                      "aaxis": {
                        "gridcolor": "white",
                        "linecolor": "white",
                        "ticks": ""
                      },
                      "baxis": {
                        "gridcolor": "white",
                        "linecolor": "white",
                        "ticks": ""
                      },
                      "bgcolor": "#E5ECF6",
                      "caxis": {
                        "gridcolor": "white",
                        "linecolor": "white",
                        "ticks": ""
                      }
                    },
                    "title": {
                      "x": 0.05
                    },
                    "xaxis": {
                      "automargin": true,
                      "gridcolor": "white",
                      "linecolor": "white",
                      "ticks": "",
                      "title": {
                        "standoff": 15
                      },
                      "zerolinecolor": "white",
                      "zerolinewidth": 2
                    },
                    "yaxis": {
                      "automargin": true,
                      "gridcolor": "white",
                      "linecolor": "white",
                      "ticks": "",
                      "title": {
                        "standoff": 15
                      },
                      "zerolinecolor": "white",
                      "zerolinewidth": 2
                    }
                  }
                }
              },
              "config": {
                "showLink": false,
                "linkText": "Export to plot.ly",
                "plotlyServerURL": "https://plot.ly"
              }
            },
            "text/html": [
              "<div>            <script src=\"https://cdnjs.cloudflare.com/ajax/libs/mathjax/2.7.5/MathJax.js?config=TeX-AMS-MML_SVG\"></script><script type=\"text/javascript\">if (window.MathJax && window.MathJax.Hub && window.MathJax.Hub.Config) {window.MathJax.Hub.Config({SVG: {font: \"STIX-Web\"}});}</script>                <script type=\"text/javascript\">window.PlotlyConfig = {MathJaxConfig: 'local'};</script>\n",
              "        <script charset=\"utf-8\" src=\"https://cdn.plot.ly/plotly-3.0.1.min.js\"></script>                <div id=\"c67b9936-5a89-469d-b2da-174d679d0424\" class=\"plotly-graph-div\" style=\"height:525px; width:100%;\"></div>            <script type=\"text/javascript\">                window.PLOTLYENV=window.PLOTLYENV || {};                                if (document.getElementById(\"c67b9936-5a89-469d-b2da-174d679d0424\")) {                    Plotly.newPlot(                        \"c67b9936-5a89-469d-b2da-174d679d0424\",                        [{\"x\":{\"dtype\":\"i2\",\"bdata\":\"zgCo\\u002f83\\u002fqf\\u002fC\\u002f5f\\u002fo\\u002f9XAFIAJv9mAPQAlQBOAOIA6\\u002f9AAN0AbgAS\\u002f6P\\u002fFP8h\\u002fx7\\u002fz\\u002f80\\u002f9v\\u002fUwBf\\u002f1n\\u002f9QCA\\u002f0gAof8bAIoAHQBKACP\\u002flP8hADoAv\\u002f+zAOn\\u002fqf9l\\u002f8IAZP\\u002fS\\u002fzv\\u002fqQC0\\u002fzAAxAAd\\u002f2L\\u002f\\u002fv\\u002feAIP\\u002fmAAn\\u002fxv\\u002fKgB3AK8AjQAv\\u002f6X\\u002fpgASAN4A3\\u002f9\\u002f\\u002f3r\\u002fFf9Q\\u002f+7\\u002fff8vACUAyQAbAM\\u002f\\u002f\\u002fv9f\\u002f94AIQCGAIf\\u002fRv\\u002fT\\u002f3v\\u002fcv8\\u002f\\u002fyn\\u002fpP\\u002fVAI0AdgA=\"},\"y\":{\"dtype\":\"i2\",\"bdata\":\"CP8J\\u002fzIAuP9EAOYAYQAYAIX\\u002fUf8GAJ0AMADt\\u002f7YASv8q\\u002f9kA7ADz\\u002f7z\\u002fZP\\u002fo\\u002f0j\\u002fH\\u002f+cAMYA0\\u002f\\u002fEAOkAX\\u002f9SAMMAPwCi\\u002fxj\\u002faf8nAHIAhACf\\u002fz8AgP85\\u002f7UA1gDJ\\u002f27\\u002ffwCmAJz\\u002fowArAEsAGQDtADX\\u002fnf+K\\u002f8\\u002f\\u002f8f\\u002fv\\u002fyn\\u002f4QBoAPIA4gD1\\u002f4wABQCFANn\\u002f4ADRAPH\\u002ftgDh\\u002f37\\u002fBwAMALb\\u002f5gBKAC8ACf8CAJ0Axv9u\\u002f3gAlv90AK\\u002f\\u002fAQDfANwAI\\u002f8W\\u002f5gAZP8=\"},\"type\":\"bar\"}],                        {\"template\":{\"data\":{\"barpolar\":[{\"marker\":{\"line\":{\"color\":\"#E5ECF6\",\"width\":0.5},\"pattern\":{\"fillmode\":\"overlay\",\"size\":10,\"solidity\":0.2}},\"type\":\"barpolar\"}],\"bar\":[{\"error_x\":{\"color\":\"#2a3f5f\"},\"error_y\":{\"color\":\"#2a3f5f\"},\"marker\":{\"line\":{\"color\":\"#E5ECF6\",\"width\":0.5},\"pattern\":{\"fillmode\":\"overlay\",\"size\":10,\"solidity\":0.2}},\"type\":\"bar\"}],\"carpet\":[{\"aaxis\":{\"endlinecolor\":\"#2a3f5f\",\"gridcolor\":\"white\",\"linecolor\":\"white\",\"minorgridcolor\":\"white\",\"startlinecolor\":\"#2a3f5f\"},\"baxis\":{\"endlinecolor\":\"#2a3f5f\",\"gridcolor\":\"white\",\"linecolor\":\"white\",\"minorgridcolor\":\"white\",\"startlinecolor\":\"#2a3f5f\"},\"type\":\"carpet\"}],\"choropleth\":[{\"colorbar\":{\"outlinewidth\":0,\"ticks\":\"\"},\"type\":\"choropleth\"}],\"contourcarpet\":[{\"colorbar\":{\"outlinewidth\":0,\"ticks\":\"\"},\"type\":\"contourcarpet\"}],\"contour\":[{\"colorbar\":{\"outlinewidth\":0,\"ticks\":\"\"},\"colorscale\":[[0.0,\"#0d0887\"],[0.1111111111111111,\"#46039f\"],[0.2222222222222222,\"#7201a8\"],[0.3333333333333333,\"#9c179e\"],[0.4444444444444444,\"#bd3786\"],[0.5555555555555556,\"#d8576b\"],[0.6666666666666666,\"#ed7953\"],[0.7777777777777778,\"#fb9f3a\"],[0.8888888888888888,\"#fdca26\"],[1.0,\"#f0f921\"]],\"type\":\"contour\"}],\"heatmap\":[{\"colorbar\":{\"outlinewidth\":0,\"ticks\":\"\"},\"colorscale\":[[0.0,\"#0d0887\"],[0.1111111111111111,\"#46039f\"],[0.2222222222222222,\"#7201a8\"],[0.3333333333333333,\"#9c179e\"],[0.4444444444444444,\"#bd3786\"],[0.5555555555555556,\"#d8576b\"],[0.6666666666666666,\"#ed7953\"],[0.7777777777777778,\"#fb9f3a\"],[0.8888888888888888,\"#fdca26\"],[1.0,\"#f0f921\"]],\"type\":\"heatmap\"}],\"histogram2dcontour\":[{\"colorbar\":{\"outlinewidth\":0,\"ticks\":\"\"},\"colorscale\":[[0.0,\"#0d0887\"],[0.1111111111111111,\"#46039f\"],[0.2222222222222222,\"#7201a8\"],[0.3333333333333333,\"#9c179e\"],[0.4444444444444444,\"#bd3786\"],[0.5555555555555556,\"#d8576b\"],[0.6666666666666666,\"#ed7953\"],[0.7777777777777778,\"#fb9f3a\"],[0.8888888888888888,\"#fdca26\"],[1.0,\"#f0f921\"]],\"type\":\"histogram2dcontour\"}],\"histogram2d\":[{\"colorbar\":{\"outlinewidth\":0,\"ticks\":\"\"},\"colorscale\":[[0.0,\"#0d0887\"],[0.1111111111111111,\"#46039f\"],[0.2222222222222222,\"#7201a8\"],[0.3333333333333333,\"#9c179e\"],[0.4444444444444444,\"#bd3786\"],[0.5555555555555556,\"#d8576b\"],[0.6666666666666666,\"#ed7953\"],[0.7777777777777778,\"#fb9f3a\"],[0.8888888888888888,\"#fdca26\"],[1.0,\"#f0f921\"]],\"type\":\"histogram2d\"}],\"histogram\":[{\"marker\":{\"pattern\":{\"fillmode\":\"overlay\",\"size\":10,\"solidity\":0.2}},\"type\":\"histogram\"}],\"mesh3d\":[{\"colorbar\":{\"outlinewidth\":0,\"ticks\":\"\"},\"type\":\"mesh3d\"}],\"parcoords\":[{\"line\":{\"colorbar\":{\"outlinewidth\":0,\"ticks\":\"\"}},\"type\":\"parcoords\"}],\"pie\":[{\"automargin\":true,\"type\":\"pie\"}],\"scatter3d\":[{\"line\":{\"colorbar\":{\"outlinewidth\":0,\"ticks\":\"\"}},\"marker\":{\"colorbar\":{\"outlinewidth\":0,\"ticks\":\"\"}},\"type\":\"scatter3d\"}],\"scattercarpet\":[{\"marker\":{\"colorbar\":{\"outlinewidth\":0,\"ticks\":\"\"}},\"type\":\"scattercarpet\"}],\"scattergeo\":[{\"marker\":{\"colorbar\":{\"outlinewidth\":0,\"ticks\":\"\"}},\"type\":\"scattergeo\"}],\"scattergl\":[{\"marker\":{\"colorbar\":{\"outlinewidth\":0,\"ticks\":\"\"}},\"type\":\"scattergl\"}],\"scattermapbox\":[{\"marker\":{\"colorbar\":{\"outlinewidth\":0,\"ticks\":\"\"}},\"type\":\"scattermapbox\"}],\"scattermap\":[{\"marker\":{\"colorbar\":{\"outlinewidth\":0,\"ticks\":\"\"}},\"type\":\"scattermap\"}],\"scatterpolargl\":[{\"marker\":{\"colorbar\":{\"outlinewidth\":0,\"ticks\":\"\"}},\"type\":\"scatterpolargl\"}],\"scatterpolar\":[{\"marker\":{\"colorbar\":{\"outlinewidth\":0,\"ticks\":\"\"}},\"type\":\"scatterpolar\"}],\"scatter\":[{\"fillpattern\":{\"fillmode\":\"overlay\",\"size\":10,\"solidity\":0.2},\"type\":\"scatter\"}],\"scatterternary\":[{\"marker\":{\"colorbar\":{\"outlinewidth\":0,\"ticks\":\"\"}},\"type\":\"scatterternary\"}],\"surface\":[{\"colorbar\":{\"outlinewidth\":0,\"ticks\":\"\"},\"colorscale\":[[0.0,\"#0d0887\"],[0.1111111111111111,\"#46039f\"],[0.2222222222222222,\"#7201a8\"],[0.3333333333333333,\"#9c179e\"],[0.4444444444444444,\"#bd3786\"],[0.5555555555555556,\"#d8576b\"],[0.6666666666666666,\"#ed7953\"],[0.7777777777777778,\"#fb9f3a\"],[0.8888888888888888,\"#fdca26\"],[1.0,\"#f0f921\"]],\"type\":\"surface\"}],\"table\":[{\"cells\":{\"fill\":{\"color\":\"#EBF0F8\"},\"line\":{\"color\":\"white\"}},\"header\":{\"fill\":{\"color\":\"#C8D4E3\"},\"line\":{\"color\":\"white\"}},\"type\":\"table\"}]},\"layout\":{\"annotationdefaults\":{\"arrowcolor\":\"#2a3f5f\",\"arrowhead\":0,\"arrowwidth\":1},\"autotypenumbers\":\"strict\",\"coloraxis\":{\"colorbar\":{\"outlinewidth\":0,\"ticks\":\"\"}},\"colorscale\":{\"diverging\":[[0,\"#8e0152\"],[0.1,\"#c51b7d\"],[0.2,\"#de77ae\"],[0.3,\"#f1b6da\"],[0.4,\"#fde0ef\"],[0.5,\"#f7f7f7\"],[0.6,\"#e6f5d0\"],[0.7,\"#b8e186\"],[0.8,\"#7fbc41\"],[0.9,\"#4d9221\"],[1,\"#276419\"]],\"sequential\":[[0.0,\"#0d0887\"],[0.1111111111111111,\"#46039f\"],[0.2222222222222222,\"#7201a8\"],[0.3333333333333333,\"#9c179e\"],[0.4444444444444444,\"#bd3786\"],[0.5555555555555556,\"#d8576b\"],[0.6666666666666666,\"#ed7953\"],[0.7777777777777778,\"#fb9f3a\"],[0.8888888888888888,\"#fdca26\"],[1.0,\"#f0f921\"]],\"sequentialminus\":[[0.0,\"#0d0887\"],[0.1111111111111111,\"#46039f\"],[0.2222222222222222,\"#7201a8\"],[0.3333333333333333,\"#9c179e\"],[0.4444444444444444,\"#bd3786\"],[0.5555555555555556,\"#d8576b\"],[0.6666666666666666,\"#ed7953\"],[0.7777777777777778,\"#fb9f3a\"],[0.8888888888888888,\"#fdca26\"],[1.0,\"#f0f921\"]]},\"colorway\":[\"#636efa\",\"#EF553B\",\"#00cc96\",\"#ab63fa\",\"#FFA15A\",\"#19d3f3\",\"#FF6692\",\"#B6E880\",\"#FF97FF\",\"#FECB52\"],\"font\":{\"color\":\"#2a3f5f\"},\"geo\":{\"bgcolor\":\"white\",\"lakecolor\":\"white\",\"landcolor\":\"#E5ECF6\",\"showlakes\":true,\"showland\":true,\"subunitcolor\":\"white\"},\"hoverlabel\":{\"align\":\"left\"},\"hovermode\":\"closest\",\"mapbox\":{\"style\":\"light\"},\"paper_bgcolor\":\"white\",\"plot_bgcolor\":\"#E5ECF6\",\"polar\":{\"angularaxis\":{\"gridcolor\":\"white\",\"linecolor\":\"white\",\"ticks\":\"\"},\"bgcolor\":\"#E5ECF6\",\"radialaxis\":{\"gridcolor\":\"white\",\"linecolor\":\"white\",\"ticks\":\"\"}},\"scene\":{\"xaxis\":{\"backgroundcolor\":\"#E5ECF6\",\"gridcolor\":\"white\",\"gridwidth\":2,\"linecolor\":\"white\",\"showbackground\":true,\"ticks\":\"\",\"zerolinecolor\":\"white\"},\"yaxis\":{\"backgroundcolor\":\"#E5ECF6\",\"gridcolor\":\"white\",\"gridwidth\":2,\"linecolor\":\"white\",\"showbackground\":true,\"ticks\":\"\",\"zerolinecolor\":\"white\"},\"zaxis\":{\"backgroundcolor\":\"#E5ECF6\",\"gridcolor\":\"white\",\"gridwidth\":2,\"linecolor\":\"white\",\"showbackground\":true,\"ticks\":\"\",\"zerolinecolor\":\"white\"}},\"shapedefaults\":{\"line\":{\"color\":\"#2a3f5f\"}},\"ternary\":{\"aaxis\":{\"gridcolor\":\"white\",\"linecolor\":\"white\",\"ticks\":\"\"},\"baxis\":{\"gridcolor\":\"white\",\"linecolor\":\"white\",\"ticks\":\"\"},\"bgcolor\":\"#E5ECF6\",\"caxis\":{\"gridcolor\":\"white\",\"linecolor\":\"white\",\"ticks\":\"\"}},\"title\":{\"x\":0.05},\"xaxis\":{\"automargin\":true,\"gridcolor\":\"white\",\"linecolor\":\"white\",\"ticks\":\"\",\"title\":{\"standoff\":15},\"zerolinecolor\":\"white\",\"zerolinewidth\":2},\"yaxis\":{\"automargin\":true,\"gridcolor\":\"white\",\"linecolor\":\"white\",\"ticks\":\"\",\"title\":{\"standoff\":15},\"zerolinecolor\":\"white\",\"zerolinewidth\":2}}}},                        {\"responsive\": true}                    ).then(function(){\n",
              "                            \n",
              "var gd = document.getElementById('c67b9936-5a89-469d-b2da-174d679d0424');\n",
              "var x = new MutationObserver(function (mutations, observer) {{\n",
              "        var display = window.getComputedStyle(gd).display;\n",
              "        if (!display || display === 'none') {{\n",
              "            console.log([gd, 'removed!']);\n",
              "            Plotly.purge(gd);\n",
              "            observer.disconnect();\n",
              "        }}\n",
              "}});\n",
              "\n",
              "// Listen for the removal of the full notebook cells\n",
              "var notebookContainer = gd.closest('#notebook-container');\n",
              "if (notebookContainer) {{\n",
              "    x.observe(notebookContainer, {childList: true});\n",
              "}}\n",
              "\n",
              "// Listen for the clearing of the current output cell\n",
              "var outputEl = gd.closest('.output');\n",
              "if (outputEl) {{\n",
              "    x.observe(outputEl, {childList: true});\n",
              "}}\n",
              "\n",
              "                        })                };            </script>        </div>"
            ]
          },
          "metadata": {}
        }
      ]
    },
    {
      "cell_type": "code",
      "source": [
        "suma = df.sum()\n",
        "fig = go.Figure(data=[go.Bar(x=suma.index, y=suma.values)])\n",
        "\n",
        "iplot(fig)"
      ],
      "metadata": {
        "colab": {
          "base_uri": "https://localhost:8080/",
          "height": 542
        },
        "id": "wKVglv9FzVI_",
        "outputId": "86de2285-7843-494b-c580-259374af8b0f"
      },
      "execution_count": 98,
      "outputs": [
        {
          "output_type": "display_data",
          "data": {
            "application/vnd.plotly.v1+json": {
              "data": [
                {
                  "x": [
                    "A",
                    "B",
                    "C",
                    "D"
                  ],
                  "y": {
                    "dtype": "i2",
                    "bdata": "p/mlBYD9cfg="
                  },
                  "type": "bar"
                }
              ],
              "layout": {
                "template": {
                  "data": {
                    "barpolar": [
                      {
                        "marker": {
                          "line": {
                            "color": "#E5ECF6",
                            "width": 0.5
                          },
                          "pattern": {
                            "fillmode": "overlay",
                            "size": 10,
                            "solidity": 0.2
                          }
                        },
                        "type": "barpolar"
                      }
                    ],
                    "bar": [
                      {
                        "error_x": {
                          "color": "#2a3f5f"
                        },
                        "error_y": {
                          "color": "#2a3f5f"
                        },
                        "marker": {
                          "line": {
                            "color": "#E5ECF6",
                            "width": 0.5
                          },
                          "pattern": {
                            "fillmode": "overlay",
                            "size": 10,
                            "solidity": 0.2
                          }
                        },
                        "type": "bar"
                      }
                    ],
                    "carpet": [
                      {
                        "aaxis": {
                          "endlinecolor": "#2a3f5f",
                          "gridcolor": "white",
                          "linecolor": "white",
                          "minorgridcolor": "white",
                          "startlinecolor": "#2a3f5f"
                        },
                        "baxis": {
                          "endlinecolor": "#2a3f5f",
                          "gridcolor": "white",
                          "linecolor": "white",
                          "minorgridcolor": "white",
                          "startlinecolor": "#2a3f5f"
                        },
                        "type": "carpet"
                      }
                    ],
                    "choropleth": [
                      {
                        "colorbar": {
                          "outlinewidth": 0,
                          "ticks": ""
                        },
                        "type": "choropleth"
                      }
                    ],
                    "contourcarpet": [
                      {
                        "colorbar": {
                          "outlinewidth": 0,
                          "ticks": ""
                        },
                        "type": "contourcarpet"
                      }
                    ],
                    "contour": [
                      {
                        "colorbar": {
                          "outlinewidth": 0,
                          "ticks": ""
                        },
                        "colorscale": [
                          [
                            0,
                            "#0d0887"
                          ],
                          [
                            0.1111111111111111,
                            "#46039f"
                          ],
                          [
                            0.2222222222222222,
                            "#7201a8"
                          ],
                          [
                            0.3333333333333333,
                            "#9c179e"
                          ],
                          [
                            0.4444444444444444,
                            "#bd3786"
                          ],
                          [
                            0.5555555555555556,
                            "#d8576b"
                          ],
                          [
                            0.6666666666666666,
                            "#ed7953"
                          ],
                          [
                            0.7777777777777778,
                            "#fb9f3a"
                          ],
                          [
                            0.8888888888888888,
                            "#fdca26"
                          ],
                          [
                            1,
                            "#f0f921"
                          ]
                        ],
                        "type": "contour"
                      }
                    ],
                    "heatmap": [
                      {
                        "colorbar": {
                          "outlinewidth": 0,
                          "ticks": ""
                        },
                        "colorscale": [
                          [
                            0,
                            "#0d0887"
                          ],
                          [
                            0.1111111111111111,
                            "#46039f"
                          ],
                          [
                            0.2222222222222222,
                            "#7201a8"
                          ],
                          [
                            0.3333333333333333,
                            "#9c179e"
                          ],
                          [
                            0.4444444444444444,
                            "#bd3786"
                          ],
                          [
                            0.5555555555555556,
                            "#d8576b"
                          ],
                          [
                            0.6666666666666666,
                            "#ed7953"
                          ],
                          [
                            0.7777777777777778,
                            "#fb9f3a"
                          ],
                          [
                            0.8888888888888888,
                            "#fdca26"
                          ],
                          [
                            1,
                            "#f0f921"
                          ]
                        ],
                        "type": "heatmap"
                      }
                    ],
                    "histogram2dcontour": [
                      {
                        "colorbar": {
                          "outlinewidth": 0,
                          "ticks": ""
                        },
                        "colorscale": [
                          [
                            0,
                            "#0d0887"
                          ],
                          [
                            0.1111111111111111,
                            "#46039f"
                          ],
                          [
                            0.2222222222222222,
                            "#7201a8"
                          ],
                          [
                            0.3333333333333333,
                            "#9c179e"
                          ],
                          [
                            0.4444444444444444,
                            "#bd3786"
                          ],
                          [
                            0.5555555555555556,
                            "#d8576b"
                          ],
                          [
                            0.6666666666666666,
                            "#ed7953"
                          ],
                          [
                            0.7777777777777778,
                            "#fb9f3a"
                          ],
                          [
                            0.8888888888888888,
                            "#fdca26"
                          ],
                          [
                            1,
                            "#f0f921"
                          ]
                        ],
                        "type": "histogram2dcontour"
                      }
                    ],
                    "histogram2d": [
                      {
                        "colorbar": {
                          "outlinewidth": 0,
                          "ticks": ""
                        },
                        "colorscale": [
                          [
                            0,
                            "#0d0887"
                          ],
                          [
                            0.1111111111111111,
                            "#46039f"
                          ],
                          [
                            0.2222222222222222,
                            "#7201a8"
                          ],
                          [
                            0.3333333333333333,
                            "#9c179e"
                          ],
                          [
                            0.4444444444444444,
                            "#bd3786"
                          ],
                          [
                            0.5555555555555556,
                            "#d8576b"
                          ],
                          [
                            0.6666666666666666,
                            "#ed7953"
                          ],
                          [
                            0.7777777777777778,
                            "#fb9f3a"
                          ],
                          [
                            0.8888888888888888,
                            "#fdca26"
                          ],
                          [
                            1,
                            "#f0f921"
                          ]
                        ],
                        "type": "histogram2d"
                      }
                    ],
                    "histogram": [
                      {
                        "marker": {
                          "pattern": {
                            "fillmode": "overlay",
                            "size": 10,
                            "solidity": 0.2
                          }
                        },
                        "type": "histogram"
                      }
                    ],
                    "mesh3d": [
                      {
                        "colorbar": {
                          "outlinewidth": 0,
                          "ticks": ""
                        },
                        "type": "mesh3d"
                      }
                    ],
                    "parcoords": [
                      {
                        "line": {
                          "colorbar": {
                            "outlinewidth": 0,
                            "ticks": ""
                          }
                        },
                        "type": "parcoords"
                      }
                    ],
                    "pie": [
                      {
                        "automargin": true,
                        "type": "pie"
                      }
                    ],
                    "scatter3d": [
                      {
                        "line": {
                          "colorbar": {
                            "outlinewidth": 0,
                            "ticks": ""
                          }
                        },
                        "marker": {
                          "colorbar": {
                            "outlinewidth": 0,
                            "ticks": ""
                          }
                        },
                        "type": "scatter3d"
                      }
                    ],
                    "scattercarpet": [
                      {
                        "marker": {
                          "colorbar": {
                            "outlinewidth": 0,
                            "ticks": ""
                          }
                        },
                        "type": "scattercarpet"
                      }
                    ],
                    "scattergeo": [
                      {
                        "marker": {
                          "colorbar": {
                            "outlinewidth": 0,
                            "ticks": ""
                          }
                        },
                        "type": "scattergeo"
                      }
                    ],
                    "scattergl": [
                      {
                        "marker": {
                          "colorbar": {
                            "outlinewidth": 0,
                            "ticks": ""
                          }
                        },
                        "type": "scattergl"
                      }
                    ],
                    "scattermapbox": [
                      {
                        "marker": {
                          "colorbar": {
                            "outlinewidth": 0,
                            "ticks": ""
                          }
                        },
                        "type": "scattermapbox"
                      }
                    ],
                    "scattermap": [
                      {
                        "marker": {
                          "colorbar": {
                            "outlinewidth": 0,
                            "ticks": ""
                          }
                        },
                        "type": "scattermap"
                      }
                    ],
                    "scatterpolargl": [
                      {
                        "marker": {
                          "colorbar": {
                            "outlinewidth": 0,
                            "ticks": ""
                          }
                        },
                        "type": "scatterpolargl"
                      }
                    ],
                    "scatterpolar": [
                      {
                        "marker": {
                          "colorbar": {
                            "outlinewidth": 0,
                            "ticks": ""
                          }
                        },
                        "type": "scatterpolar"
                      }
                    ],
                    "scatter": [
                      {
                        "fillpattern": {
                          "fillmode": "overlay",
                          "size": 10,
                          "solidity": 0.2
                        },
                        "type": "scatter"
                      }
                    ],
                    "scatterternary": [
                      {
                        "marker": {
                          "colorbar": {
                            "outlinewidth": 0,
                            "ticks": ""
                          }
                        },
                        "type": "scatterternary"
                      }
                    ],
                    "surface": [
                      {
                        "colorbar": {
                          "outlinewidth": 0,
                          "ticks": ""
                        },
                        "colorscale": [
                          [
                            0,
                            "#0d0887"
                          ],
                          [
                            0.1111111111111111,
                            "#46039f"
                          ],
                          [
                            0.2222222222222222,
                            "#7201a8"
                          ],
                          [
                            0.3333333333333333,
                            "#9c179e"
                          ],
                          [
                            0.4444444444444444,
                            "#bd3786"
                          ],
                          [
                            0.5555555555555556,
                            "#d8576b"
                          ],
                          [
                            0.6666666666666666,
                            "#ed7953"
                          ],
                          [
                            0.7777777777777778,
                            "#fb9f3a"
                          ],
                          [
                            0.8888888888888888,
                            "#fdca26"
                          ],
                          [
                            1,
                            "#f0f921"
                          ]
                        ],
                        "type": "surface"
                      }
                    ],
                    "table": [
                      {
                        "cells": {
                          "fill": {
                            "color": "#EBF0F8"
                          },
                          "line": {
                            "color": "white"
                          }
                        },
                        "header": {
                          "fill": {
                            "color": "#C8D4E3"
                          },
                          "line": {
                            "color": "white"
                          }
                        },
                        "type": "table"
                      }
                    ]
                  },
                  "layout": {
                    "annotationdefaults": {
                      "arrowcolor": "#2a3f5f",
                      "arrowhead": 0,
                      "arrowwidth": 1
                    },
                    "autotypenumbers": "strict",
                    "coloraxis": {
                      "colorbar": {
                        "outlinewidth": 0,
                        "ticks": ""
                      }
                    },
                    "colorscale": {
                      "diverging": [
                        [
                          0,
                          "#8e0152"
                        ],
                        [
                          0.1,
                          "#c51b7d"
                        ],
                        [
                          0.2,
                          "#de77ae"
                        ],
                        [
                          0.3,
                          "#f1b6da"
                        ],
                        [
                          0.4,
                          "#fde0ef"
                        ],
                        [
                          0.5,
                          "#f7f7f7"
                        ],
                        [
                          0.6,
                          "#e6f5d0"
                        ],
                        [
                          0.7,
                          "#b8e186"
                        ],
                        [
                          0.8,
                          "#7fbc41"
                        ],
                        [
                          0.9,
                          "#4d9221"
                        ],
                        [
                          1,
                          "#276419"
                        ]
                      ],
                      "sequential": [
                        [
                          0,
                          "#0d0887"
                        ],
                        [
                          0.1111111111111111,
                          "#46039f"
                        ],
                        [
                          0.2222222222222222,
                          "#7201a8"
                        ],
                        [
                          0.3333333333333333,
                          "#9c179e"
                        ],
                        [
                          0.4444444444444444,
                          "#bd3786"
                        ],
                        [
                          0.5555555555555556,
                          "#d8576b"
                        ],
                        [
                          0.6666666666666666,
                          "#ed7953"
                        ],
                        [
                          0.7777777777777778,
                          "#fb9f3a"
                        ],
                        [
                          0.8888888888888888,
                          "#fdca26"
                        ],
                        [
                          1,
                          "#f0f921"
                        ]
                      ],
                      "sequentialminus": [
                        [
                          0,
                          "#0d0887"
                        ],
                        [
                          0.1111111111111111,
                          "#46039f"
                        ],
                        [
                          0.2222222222222222,
                          "#7201a8"
                        ],
                        [
                          0.3333333333333333,
                          "#9c179e"
                        ],
                        [
                          0.4444444444444444,
                          "#bd3786"
                        ],
                        [
                          0.5555555555555556,
                          "#d8576b"
                        ],
                        [
                          0.6666666666666666,
                          "#ed7953"
                        ],
                        [
                          0.7777777777777778,
                          "#fb9f3a"
                        ],
                        [
                          0.8888888888888888,
                          "#fdca26"
                        ],
                        [
                          1,
                          "#f0f921"
                        ]
                      ]
                    },
                    "colorway": [
                      "#636efa",
                      "#EF553B",
                      "#00cc96",
                      "#ab63fa",
                      "#FFA15A",
                      "#19d3f3",
                      "#FF6692",
                      "#B6E880",
                      "#FF97FF",
                      "#FECB52"
                    ],
                    "font": {
                      "color": "#2a3f5f"
                    },
                    "geo": {
                      "bgcolor": "white",
                      "lakecolor": "white",
                      "landcolor": "#E5ECF6",
                      "showlakes": true,
                      "showland": true,
                      "subunitcolor": "white"
                    },
                    "hoverlabel": {
                      "align": "left"
                    },
                    "hovermode": "closest",
                    "mapbox": {
                      "style": "light"
                    },
                    "paper_bgcolor": "white",
                    "plot_bgcolor": "#E5ECF6",
                    "polar": {
                      "angularaxis": {
                        "gridcolor": "white",
                        "linecolor": "white",
                        "ticks": ""
                      },
                      "bgcolor": "#E5ECF6",
                      "radialaxis": {
                        "gridcolor": "white",
                        "linecolor": "white",
                        "ticks": ""
                      }
                    },
                    "scene": {
                      "xaxis": {
                        "backgroundcolor": "#E5ECF6",
                        "gridcolor": "white",
                        "gridwidth": 2,
                        "linecolor": "white",
                        "showbackground": true,
                        "ticks": "",
                        "zerolinecolor": "white"
                      },
                      "yaxis": {
                        "backgroundcolor": "#E5ECF6",
                        "gridcolor": "white",
                        "gridwidth": 2,
                        "linecolor": "white",
                        "showbackground": true,
                        "ticks": "",
                        "zerolinecolor": "white"
                      },
                      "zaxis": {
                        "backgroundcolor": "#E5ECF6",
                        "gridcolor": "white",
                        "gridwidth": 2,
                        "linecolor": "white",
                        "showbackground": true,
                        "ticks": "",
                        "zerolinecolor": "white"
                      }
                    },
                    "shapedefaults": {
                      "line": {
                        "color": "#2a3f5f"
                      }
                    },
                    "ternary": {
                      "aaxis": {
                        "gridcolor": "white",
                        "linecolor": "white",
                        "ticks": ""
                      },
                      "baxis": {
                        "gridcolor": "white",
                        "linecolor": "white",
                        "ticks": ""
                      },
                      "bgcolor": "#E5ECF6",
                      "caxis": {
                        "gridcolor": "white",
                        "linecolor": "white",
                        "ticks": ""
                      }
                    },
                    "title": {
                      "x": 0.05
                    },
                    "xaxis": {
                      "automargin": true,
                      "gridcolor": "white",
                      "linecolor": "white",
                      "ticks": "",
                      "title": {
                        "standoff": 15
                      },
                      "zerolinecolor": "white",
                      "zerolinewidth": 2
                    },
                    "yaxis": {
                      "automargin": true,
                      "gridcolor": "white",
                      "linecolor": "white",
                      "ticks": "",
                      "title": {
                        "standoff": 15
                      },
                      "zerolinecolor": "white",
                      "zerolinewidth": 2
                    }
                  }
                }
              },
              "config": {
                "showLink": false,
                "linkText": "Export to plot.ly",
                "plotlyServerURL": "https://plot.ly"
              }
            },
            "text/html": [
              "<div>            <script src=\"https://cdnjs.cloudflare.com/ajax/libs/mathjax/2.7.5/MathJax.js?config=TeX-AMS-MML_SVG\"></script><script type=\"text/javascript\">if (window.MathJax && window.MathJax.Hub && window.MathJax.Hub.Config) {window.MathJax.Hub.Config({SVG: {font: \"STIX-Web\"}});}</script>                <script type=\"text/javascript\">window.PlotlyConfig = {MathJaxConfig: 'local'};</script>\n",
              "        <script charset=\"utf-8\" src=\"https://cdn.plot.ly/plotly-3.0.1.min.js\"></script>                <div id=\"8b6a18c3-6cae-4627-b77d-7e1e9b6ad70c\" class=\"plotly-graph-div\" style=\"height:525px; width:100%;\"></div>            <script type=\"text/javascript\">                window.PLOTLYENV=window.PLOTLYENV || {};                                if (document.getElementById(\"8b6a18c3-6cae-4627-b77d-7e1e9b6ad70c\")) {                    Plotly.newPlot(                        \"8b6a18c3-6cae-4627-b77d-7e1e9b6ad70c\",                        [{\"x\":[\"A\",\"B\",\"C\",\"D\"],\"y\":{\"dtype\":\"i2\",\"bdata\":\"p\\u002fmlBYD9cfg=\"},\"type\":\"bar\"}],                        {\"template\":{\"data\":{\"barpolar\":[{\"marker\":{\"line\":{\"color\":\"#E5ECF6\",\"width\":0.5},\"pattern\":{\"fillmode\":\"overlay\",\"size\":10,\"solidity\":0.2}},\"type\":\"barpolar\"}],\"bar\":[{\"error_x\":{\"color\":\"#2a3f5f\"},\"error_y\":{\"color\":\"#2a3f5f\"},\"marker\":{\"line\":{\"color\":\"#E5ECF6\",\"width\":0.5},\"pattern\":{\"fillmode\":\"overlay\",\"size\":10,\"solidity\":0.2}},\"type\":\"bar\"}],\"carpet\":[{\"aaxis\":{\"endlinecolor\":\"#2a3f5f\",\"gridcolor\":\"white\",\"linecolor\":\"white\",\"minorgridcolor\":\"white\",\"startlinecolor\":\"#2a3f5f\"},\"baxis\":{\"endlinecolor\":\"#2a3f5f\",\"gridcolor\":\"white\",\"linecolor\":\"white\",\"minorgridcolor\":\"white\",\"startlinecolor\":\"#2a3f5f\"},\"type\":\"carpet\"}],\"choropleth\":[{\"colorbar\":{\"outlinewidth\":0,\"ticks\":\"\"},\"type\":\"choropleth\"}],\"contourcarpet\":[{\"colorbar\":{\"outlinewidth\":0,\"ticks\":\"\"},\"type\":\"contourcarpet\"}],\"contour\":[{\"colorbar\":{\"outlinewidth\":0,\"ticks\":\"\"},\"colorscale\":[[0.0,\"#0d0887\"],[0.1111111111111111,\"#46039f\"],[0.2222222222222222,\"#7201a8\"],[0.3333333333333333,\"#9c179e\"],[0.4444444444444444,\"#bd3786\"],[0.5555555555555556,\"#d8576b\"],[0.6666666666666666,\"#ed7953\"],[0.7777777777777778,\"#fb9f3a\"],[0.8888888888888888,\"#fdca26\"],[1.0,\"#f0f921\"]],\"type\":\"contour\"}],\"heatmap\":[{\"colorbar\":{\"outlinewidth\":0,\"ticks\":\"\"},\"colorscale\":[[0.0,\"#0d0887\"],[0.1111111111111111,\"#46039f\"],[0.2222222222222222,\"#7201a8\"],[0.3333333333333333,\"#9c179e\"],[0.4444444444444444,\"#bd3786\"],[0.5555555555555556,\"#d8576b\"],[0.6666666666666666,\"#ed7953\"],[0.7777777777777778,\"#fb9f3a\"],[0.8888888888888888,\"#fdca26\"],[1.0,\"#f0f921\"]],\"type\":\"heatmap\"}],\"histogram2dcontour\":[{\"colorbar\":{\"outlinewidth\":0,\"ticks\":\"\"},\"colorscale\":[[0.0,\"#0d0887\"],[0.1111111111111111,\"#46039f\"],[0.2222222222222222,\"#7201a8\"],[0.3333333333333333,\"#9c179e\"],[0.4444444444444444,\"#bd3786\"],[0.5555555555555556,\"#d8576b\"],[0.6666666666666666,\"#ed7953\"],[0.7777777777777778,\"#fb9f3a\"],[0.8888888888888888,\"#fdca26\"],[1.0,\"#f0f921\"]],\"type\":\"histogram2dcontour\"}],\"histogram2d\":[{\"colorbar\":{\"outlinewidth\":0,\"ticks\":\"\"},\"colorscale\":[[0.0,\"#0d0887\"],[0.1111111111111111,\"#46039f\"],[0.2222222222222222,\"#7201a8\"],[0.3333333333333333,\"#9c179e\"],[0.4444444444444444,\"#bd3786\"],[0.5555555555555556,\"#d8576b\"],[0.6666666666666666,\"#ed7953\"],[0.7777777777777778,\"#fb9f3a\"],[0.8888888888888888,\"#fdca26\"],[1.0,\"#f0f921\"]],\"type\":\"histogram2d\"}],\"histogram\":[{\"marker\":{\"pattern\":{\"fillmode\":\"overlay\",\"size\":10,\"solidity\":0.2}},\"type\":\"histogram\"}],\"mesh3d\":[{\"colorbar\":{\"outlinewidth\":0,\"ticks\":\"\"},\"type\":\"mesh3d\"}],\"parcoords\":[{\"line\":{\"colorbar\":{\"outlinewidth\":0,\"ticks\":\"\"}},\"type\":\"parcoords\"}],\"pie\":[{\"automargin\":true,\"type\":\"pie\"}],\"scatter3d\":[{\"line\":{\"colorbar\":{\"outlinewidth\":0,\"ticks\":\"\"}},\"marker\":{\"colorbar\":{\"outlinewidth\":0,\"ticks\":\"\"}},\"type\":\"scatter3d\"}],\"scattercarpet\":[{\"marker\":{\"colorbar\":{\"outlinewidth\":0,\"ticks\":\"\"}},\"type\":\"scattercarpet\"}],\"scattergeo\":[{\"marker\":{\"colorbar\":{\"outlinewidth\":0,\"ticks\":\"\"}},\"type\":\"scattergeo\"}],\"scattergl\":[{\"marker\":{\"colorbar\":{\"outlinewidth\":0,\"ticks\":\"\"}},\"type\":\"scattergl\"}],\"scattermapbox\":[{\"marker\":{\"colorbar\":{\"outlinewidth\":0,\"ticks\":\"\"}},\"type\":\"scattermapbox\"}],\"scattermap\":[{\"marker\":{\"colorbar\":{\"outlinewidth\":0,\"ticks\":\"\"}},\"type\":\"scattermap\"}],\"scatterpolargl\":[{\"marker\":{\"colorbar\":{\"outlinewidth\":0,\"ticks\":\"\"}},\"type\":\"scatterpolargl\"}],\"scatterpolar\":[{\"marker\":{\"colorbar\":{\"outlinewidth\":0,\"ticks\":\"\"}},\"type\":\"scatterpolar\"}],\"scatter\":[{\"fillpattern\":{\"fillmode\":\"overlay\",\"size\":10,\"solidity\":0.2},\"type\":\"scatter\"}],\"scatterternary\":[{\"marker\":{\"colorbar\":{\"outlinewidth\":0,\"ticks\":\"\"}},\"type\":\"scatterternary\"}],\"surface\":[{\"colorbar\":{\"outlinewidth\":0,\"ticks\":\"\"},\"colorscale\":[[0.0,\"#0d0887\"],[0.1111111111111111,\"#46039f\"],[0.2222222222222222,\"#7201a8\"],[0.3333333333333333,\"#9c179e\"],[0.4444444444444444,\"#bd3786\"],[0.5555555555555556,\"#d8576b\"],[0.6666666666666666,\"#ed7953\"],[0.7777777777777778,\"#fb9f3a\"],[0.8888888888888888,\"#fdca26\"],[1.0,\"#f0f921\"]],\"type\":\"surface\"}],\"table\":[{\"cells\":{\"fill\":{\"color\":\"#EBF0F8\"},\"line\":{\"color\":\"white\"}},\"header\":{\"fill\":{\"color\":\"#C8D4E3\"},\"line\":{\"color\":\"white\"}},\"type\":\"table\"}]},\"layout\":{\"annotationdefaults\":{\"arrowcolor\":\"#2a3f5f\",\"arrowhead\":0,\"arrowwidth\":1},\"autotypenumbers\":\"strict\",\"coloraxis\":{\"colorbar\":{\"outlinewidth\":0,\"ticks\":\"\"}},\"colorscale\":{\"diverging\":[[0,\"#8e0152\"],[0.1,\"#c51b7d\"],[0.2,\"#de77ae\"],[0.3,\"#f1b6da\"],[0.4,\"#fde0ef\"],[0.5,\"#f7f7f7\"],[0.6,\"#e6f5d0\"],[0.7,\"#b8e186\"],[0.8,\"#7fbc41\"],[0.9,\"#4d9221\"],[1,\"#276419\"]],\"sequential\":[[0.0,\"#0d0887\"],[0.1111111111111111,\"#46039f\"],[0.2222222222222222,\"#7201a8\"],[0.3333333333333333,\"#9c179e\"],[0.4444444444444444,\"#bd3786\"],[0.5555555555555556,\"#d8576b\"],[0.6666666666666666,\"#ed7953\"],[0.7777777777777778,\"#fb9f3a\"],[0.8888888888888888,\"#fdca26\"],[1.0,\"#f0f921\"]],\"sequentialminus\":[[0.0,\"#0d0887\"],[0.1111111111111111,\"#46039f\"],[0.2222222222222222,\"#7201a8\"],[0.3333333333333333,\"#9c179e\"],[0.4444444444444444,\"#bd3786\"],[0.5555555555555556,\"#d8576b\"],[0.6666666666666666,\"#ed7953\"],[0.7777777777777778,\"#fb9f3a\"],[0.8888888888888888,\"#fdca26\"],[1.0,\"#f0f921\"]]},\"colorway\":[\"#636efa\",\"#EF553B\",\"#00cc96\",\"#ab63fa\",\"#FFA15A\",\"#19d3f3\",\"#FF6692\",\"#B6E880\",\"#FF97FF\",\"#FECB52\"],\"font\":{\"color\":\"#2a3f5f\"},\"geo\":{\"bgcolor\":\"white\",\"lakecolor\":\"white\",\"landcolor\":\"#E5ECF6\",\"showlakes\":true,\"showland\":true,\"subunitcolor\":\"white\"},\"hoverlabel\":{\"align\":\"left\"},\"hovermode\":\"closest\",\"mapbox\":{\"style\":\"light\"},\"paper_bgcolor\":\"white\",\"plot_bgcolor\":\"#E5ECF6\",\"polar\":{\"angularaxis\":{\"gridcolor\":\"white\",\"linecolor\":\"white\",\"ticks\":\"\"},\"bgcolor\":\"#E5ECF6\",\"radialaxis\":{\"gridcolor\":\"white\",\"linecolor\":\"white\",\"ticks\":\"\"}},\"scene\":{\"xaxis\":{\"backgroundcolor\":\"#E5ECF6\",\"gridcolor\":\"white\",\"gridwidth\":2,\"linecolor\":\"white\",\"showbackground\":true,\"ticks\":\"\",\"zerolinecolor\":\"white\"},\"yaxis\":{\"backgroundcolor\":\"#E5ECF6\",\"gridcolor\":\"white\",\"gridwidth\":2,\"linecolor\":\"white\",\"showbackground\":true,\"ticks\":\"\",\"zerolinecolor\":\"white\"},\"zaxis\":{\"backgroundcolor\":\"#E5ECF6\",\"gridcolor\":\"white\",\"gridwidth\":2,\"linecolor\":\"white\",\"showbackground\":true,\"ticks\":\"\",\"zerolinecolor\":\"white\"}},\"shapedefaults\":{\"line\":{\"color\":\"#2a3f5f\"}},\"ternary\":{\"aaxis\":{\"gridcolor\":\"white\",\"linecolor\":\"white\",\"ticks\":\"\"},\"baxis\":{\"gridcolor\":\"white\",\"linecolor\":\"white\",\"ticks\":\"\"},\"bgcolor\":\"#E5ECF6\",\"caxis\":{\"gridcolor\":\"white\",\"linecolor\":\"white\",\"ticks\":\"\"}},\"title\":{\"x\":0.05},\"xaxis\":{\"automargin\":true,\"gridcolor\":\"white\",\"linecolor\":\"white\",\"ticks\":\"\",\"title\":{\"standoff\":15},\"zerolinecolor\":\"white\",\"zerolinewidth\":2},\"yaxis\":{\"automargin\":true,\"gridcolor\":\"white\",\"linecolor\":\"white\",\"ticks\":\"\",\"title\":{\"standoff\":15},\"zerolinecolor\":\"white\",\"zerolinewidth\":2}}}},                        {\"responsive\": true}                    ).then(function(){\n",
              "                            \n",
              "var gd = document.getElementById('8b6a18c3-6cae-4627-b77d-7e1e9b6ad70c');\n",
              "var x = new MutationObserver(function (mutations, observer) {{\n",
              "        var display = window.getComputedStyle(gd).display;\n",
              "        if (!display || display === 'none') {{\n",
              "            console.log([gd, 'removed!']);\n",
              "            Plotly.purge(gd);\n",
              "            observer.disconnect();\n",
              "        }}\n",
              "}});\n",
              "\n",
              "// Listen for the removal of the full notebook cells\n",
              "var notebookContainer = gd.closest('#notebook-container');\n",
              "if (notebookContainer) {{\n",
              "    x.observe(notebookContainer, {childList: true});\n",
              "}}\n",
              "\n",
              "// Listen for the clearing of the current output cell\n",
              "var outputEl = gd.closest('.output');\n",
              "if (outputEl) {{\n",
              "    x.observe(outputEl, {childList: true});\n",
              "}}\n",
              "\n",
              "                        })                };            </script>        </div>"
            ]
          },
          "metadata": {}
        }
      ]
    },
    {
      "cell_type": "code",
      "source": [
        "fig = go.Figure()\n",
        "for column in df.columns:\n",
        "  fig.add_trace(go.Box(y=df[column], name=column))\n",
        "\n",
        "iplot(fig)"
      ],
      "metadata": {
        "colab": {
          "base_uri": "https://localhost:8080/",
          "height": 542
        },
        "id": "fb2LFTsdzdu_",
        "outputId": "8c280310-8359-4eda-e632-92ef32ecf8f8"
      },
      "execution_count": 99,
      "outputs": [
        {
          "output_type": "display_data",
          "data": {
            "application/vnd.plotly.v1+json": {
              "data": [
                {
                  "name": "A",
                  "y": {
                    "dtype": "i2",
                    "bdata": "zgCo/83/qf/C/5f/o/9XAFIAJv9mAPQAlQBOAOIA6/9AAN0AbgAS/6P/FP8h/x7/z/80/9v/UwBf/1n/9QCA/0gAof8bAIoAHQBKACP/lP8hADoAv/+zAOn/qf9l/8IAZP/S/zv/qQC0/zAAxAAd/2L//v/eAIP/mAAn/xv/KgB3AK8AjQAv/6X/pgASAN4A3/9//3r/Ff9Q/+7/ff8vACUAyQAbAM///v9f/94AIQCGAIf/Rv/T/3v/cv8//yn/pP/VAI0AdgA="
                  },
                  "type": "box"
                },
                {
                  "name": "B",
                  "y": {
                    "dtype": "i2",
                    "bdata": "CP8J/zIAuP9EAOYAYQAYAIX/Uf8GAJ0AMADt/7YASv8q/9kA7ADz/7z/ZP/o/0j/H/+cAMYA0//EAOkAX/9SAMMAPwCi/xj/af8nAHIAhACf/z8AgP85/7UA1gDJ/27/fwCmAJz/owArAEsAGQDtADX/nf+K/8//8f/v/yn/4QBoAPIA4gD1/4wABQCFANn/4ADRAPH/tgDh/37/BwAMALb/5gBKAC8ACf8CAJ0Axv9u/3gAlv90AK//AQDfANwAI/8W/5gAZP8="
                  },
                  "type": "box"
                },
                {
                  "name": "C",
                  "y": {
                    "dtype": "i2",
                    "bdata": "UgAp/3QASP/g/wsAZAB/AM//fAB9AK3/LP9SADMAg/+uAOD/BgCLAI0APf+fAFIA6f92/8MAFACy/+L/1/8KAJwA+f8PAGn/3gDJ/w4AEv8Z/8j/fACYAFcAdv86/yIAE/+6/3QALAB5AB4AKQDCAJH/jgAt/yQAjv+QAHP/Y//3//cAyv92/7IAWP87AIv/HQAKAHsAkP8U/+AAwABqANH/3v+c/7T/N/+J/x7/Zv9UAFoAkADf/8MAsv+xAJ4Ai/9s/xz/g/8="
                  },
                  "type": "box"
                },
                {
                  "name": "D",
                  "y": {
                    "dtype": "i2",
                    "bdata": "uP9SAIX/Xv8zAIoAhf8DAJb/IACh/xX/QAAiAGAARgD2AP7/WP/JAC3/iwDEAOj/0v86ABP/0/8S/zb/Hv90AE8A6P9v/4AAlP8a/6kAO/+FAOkAfgAM/x3/owBOABwArgDk/5z/1/9lAMUAgf+0AG//hACX/wkAJv80AEP/3f9M/z7/Kv9GAJUAIwBiAPAAXwAy/9P/av/h/3P/f/8o/3T/wAA6AJb/JgBF/9MAXgAT/4gAvwAKALz/Uf/wAOwAIv/A/2j/N/8="
                  },
                  "type": "box"
                }
              ],
              "layout": {
                "template": {
                  "data": {
                    "barpolar": [
                      {
                        "marker": {
                          "line": {
                            "color": "#E5ECF6",
                            "width": 0.5
                          },
                          "pattern": {
                            "fillmode": "overlay",
                            "size": 10,
                            "solidity": 0.2
                          }
                        },
                        "type": "barpolar"
                      }
                    ],
                    "bar": [
                      {
                        "error_x": {
                          "color": "#2a3f5f"
                        },
                        "error_y": {
                          "color": "#2a3f5f"
                        },
                        "marker": {
                          "line": {
                            "color": "#E5ECF6",
                            "width": 0.5
                          },
                          "pattern": {
                            "fillmode": "overlay",
                            "size": 10,
                            "solidity": 0.2
                          }
                        },
                        "type": "bar"
                      }
                    ],
                    "carpet": [
                      {
                        "aaxis": {
                          "endlinecolor": "#2a3f5f",
                          "gridcolor": "white",
                          "linecolor": "white",
                          "minorgridcolor": "white",
                          "startlinecolor": "#2a3f5f"
                        },
                        "baxis": {
                          "endlinecolor": "#2a3f5f",
                          "gridcolor": "white",
                          "linecolor": "white",
                          "minorgridcolor": "white",
                          "startlinecolor": "#2a3f5f"
                        },
                        "type": "carpet"
                      }
                    ],
                    "choropleth": [
                      {
                        "colorbar": {
                          "outlinewidth": 0,
                          "ticks": ""
                        },
                        "type": "choropleth"
                      }
                    ],
                    "contourcarpet": [
                      {
                        "colorbar": {
                          "outlinewidth": 0,
                          "ticks": ""
                        },
                        "type": "contourcarpet"
                      }
                    ],
                    "contour": [
                      {
                        "colorbar": {
                          "outlinewidth": 0,
                          "ticks": ""
                        },
                        "colorscale": [
                          [
                            0,
                            "#0d0887"
                          ],
                          [
                            0.1111111111111111,
                            "#46039f"
                          ],
                          [
                            0.2222222222222222,
                            "#7201a8"
                          ],
                          [
                            0.3333333333333333,
                            "#9c179e"
                          ],
                          [
                            0.4444444444444444,
                            "#bd3786"
                          ],
                          [
                            0.5555555555555556,
                            "#d8576b"
                          ],
                          [
                            0.6666666666666666,
                            "#ed7953"
                          ],
                          [
                            0.7777777777777778,
                            "#fb9f3a"
                          ],
                          [
                            0.8888888888888888,
                            "#fdca26"
                          ],
                          [
                            1,
                            "#f0f921"
                          ]
                        ],
                        "type": "contour"
                      }
                    ],
                    "heatmap": [
                      {
                        "colorbar": {
                          "outlinewidth": 0,
                          "ticks": ""
                        },
                        "colorscale": [
                          [
                            0,
                            "#0d0887"
                          ],
                          [
                            0.1111111111111111,
                            "#46039f"
                          ],
                          [
                            0.2222222222222222,
                            "#7201a8"
                          ],
                          [
                            0.3333333333333333,
                            "#9c179e"
                          ],
                          [
                            0.4444444444444444,
                            "#bd3786"
                          ],
                          [
                            0.5555555555555556,
                            "#d8576b"
                          ],
                          [
                            0.6666666666666666,
                            "#ed7953"
                          ],
                          [
                            0.7777777777777778,
                            "#fb9f3a"
                          ],
                          [
                            0.8888888888888888,
                            "#fdca26"
                          ],
                          [
                            1,
                            "#f0f921"
                          ]
                        ],
                        "type": "heatmap"
                      }
                    ],
                    "histogram2dcontour": [
                      {
                        "colorbar": {
                          "outlinewidth": 0,
                          "ticks": ""
                        },
                        "colorscale": [
                          [
                            0,
                            "#0d0887"
                          ],
                          [
                            0.1111111111111111,
                            "#46039f"
                          ],
                          [
                            0.2222222222222222,
                            "#7201a8"
                          ],
                          [
                            0.3333333333333333,
                            "#9c179e"
                          ],
                          [
                            0.4444444444444444,
                            "#bd3786"
                          ],
                          [
                            0.5555555555555556,
                            "#d8576b"
                          ],
                          [
                            0.6666666666666666,
                            "#ed7953"
                          ],
                          [
                            0.7777777777777778,
                            "#fb9f3a"
                          ],
                          [
                            0.8888888888888888,
                            "#fdca26"
                          ],
                          [
                            1,
                            "#f0f921"
                          ]
                        ],
                        "type": "histogram2dcontour"
                      }
                    ],
                    "histogram2d": [
                      {
                        "colorbar": {
                          "outlinewidth": 0,
                          "ticks": ""
                        },
                        "colorscale": [
                          [
                            0,
                            "#0d0887"
                          ],
                          [
                            0.1111111111111111,
                            "#46039f"
                          ],
                          [
                            0.2222222222222222,
                            "#7201a8"
                          ],
                          [
                            0.3333333333333333,
                            "#9c179e"
                          ],
                          [
                            0.4444444444444444,
                            "#bd3786"
                          ],
                          [
                            0.5555555555555556,
                            "#d8576b"
                          ],
                          [
                            0.6666666666666666,
                            "#ed7953"
                          ],
                          [
                            0.7777777777777778,
                            "#fb9f3a"
                          ],
                          [
                            0.8888888888888888,
                            "#fdca26"
                          ],
                          [
                            1,
                            "#f0f921"
                          ]
                        ],
                        "type": "histogram2d"
                      }
                    ],
                    "histogram": [
                      {
                        "marker": {
                          "pattern": {
                            "fillmode": "overlay",
                            "size": 10,
                            "solidity": 0.2
                          }
                        },
                        "type": "histogram"
                      }
                    ],
                    "mesh3d": [
                      {
                        "colorbar": {
                          "outlinewidth": 0,
                          "ticks": ""
                        },
                        "type": "mesh3d"
                      }
                    ],
                    "parcoords": [
                      {
                        "line": {
                          "colorbar": {
                            "outlinewidth": 0,
                            "ticks": ""
                          }
                        },
                        "type": "parcoords"
                      }
                    ],
                    "pie": [
                      {
                        "automargin": true,
                        "type": "pie"
                      }
                    ],
                    "scatter3d": [
                      {
                        "line": {
                          "colorbar": {
                            "outlinewidth": 0,
                            "ticks": ""
                          }
                        },
                        "marker": {
                          "colorbar": {
                            "outlinewidth": 0,
                            "ticks": ""
                          }
                        },
                        "type": "scatter3d"
                      }
                    ],
                    "scattercarpet": [
                      {
                        "marker": {
                          "colorbar": {
                            "outlinewidth": 0,
                            "ticks": ""
                          }
                        },
                        "type": "scattercarpet"
                      }
                    ],
                    "scattergeo": [
                      {
                        "marker": {
                          "colorbar": {
                            "outlinewidth": 0,
                            "ticks": ""
                          }
                        },
                        "type": "scattergeo"
                      }
                    ],
                    "scattergl": [
                      {
                        "marker": {
                          "colorbar": {
                            "outlinewidth": 0,
                            "ticks": ""
                          }
                        },
                        "type": "scattergl"
                      }
                    ],
                    "scattermapbox": [
                      {
                        "marker": {
                          "colorbar": {
                            "outlinewidth": 0,
                            "ticks": ""
                          }
                        },
                        "type": "scattermapbox"
                      }
                    ],
                    "scattermap": [
                      {
                        "marker": {
                          "colorbar": {
                            "outlinewidth": 0,
                            "ticks": ""
                          }
                        },
                        "type": "scattermap"
                      }
                    ],
                    "scatterpolargl": [
                      {
                        "marker": {
                          "colorbar": {
                            "outlinewidth": 0,
                            "ticks": ""
                          }
                        },
                        "type": "scatterpolargl"
                      }
                    ],
                    "scatterpolar": [
                      {
                        "marker": {
                          "colorbar": {
                            "outlinewidth": 0,
                            "ticks": ""
                          }
                        },
                        "type": "scatterpolar"
                      }
                    ],
                    "scatter": [
                      {
                        "fillpattern": {
                          "fillmode": "overlay",
                          "size": 10,
                          "solidity": 0.2
                        },
                        "type": "scatter"
                      }
                    ],
                    "scatterternary": [
                      {
                        "marker": {
                          "colorbar": {
                            "outlinewidth": 0,
                            "ticks": ""
                          }
                        },
                        "type": "scatterternary"
                      }
                    ],
                    "surface": [
                      {
                        "colorbar": {
                          "outlinewidth": 0,
                          "ticks": ""
                        },
                        "colorscale": [
                          [
                            0,
                            "#0d0887"
                          ],
                          [
                            0.1111111111111111,
                            "#46039f"
                          ],
                          [
                            0.2222222222222222,
                            "#7201a8"
                          ],
                          [
                            0.3333333333333333,
                            "#9c179e"
                          ],
                          [
                            0.4444444444444444,
                            "#bd3786"
                          ],
                          [
                            0.5555555555555556,
                            "#d8576b"
                          ],
                          [
                            0.6666666666666666,
                            "#ed7953"
                          ],
                          [
                            0.7777777777777778,
                            "#fb9f3a"
                          ],
                          [
                            0.8888888888888888,
                            "#fdca26"
                          ],
                          [
                            1,
                            "#f0f921"
                          ]
                        ],
                        "type": "surface"
                      }
                    ],
                    "table": [
                      {
                        "cells": {
                          "fill": {
                            "color": "#EBF0F8"
                          },
                          "line": {
                            "color": "white"
                          }
                        },
                        "header": {
                          "fill": {
                            "color": "#C8D4E3"
                          },
                          "line": {
                            "color": "white"
                          }
                        },
                        "type": "table"
                      }
                    ]
                  },
                  "layout": {
                    "annotationdefaults": {
                      "arrowcolor": "#2a3f5f",
                      "arrowhead": 0,
                      "arrowwidth": 1
                    },
                    "autotypenumbers": "strict",
                    "coloraxis": {
                      "colorbar": {
                        "outlinewidth": 0,
                        "ticks": ""
                      }
                    },
                    "colorscale": {
                      "diverging": [
                        [
                          0,
                          "#8e0152"
                        ],
                        [
                          0.1,
                          "#c51b7d"
                        ],
                        [
                          0.2,
                          "#de77ae"
                        ],
                        [
                          0.3,
                          "#f1b6da"
                        ],
                        [
                          0.4,
                          "#fde0ef"
                        ],
                        [
                          0.5,
                          "#f7f7f7"
                        ],
                        [
                          0.6,
                          "#e6f5d0"
                        ],
                        [
                          0.7,
                          "#b8e186"
                        ],
                        [
                          0.8,
                          "#7fbc41"
                        ],
                        [
                          0.9,
                          "#4d9221"
                        ],
                        [
                          1,
                          "#276419"
                        ]
                      ],
                      "sequential": [
                        [
                          0,
                          "#0d0887"
                        ],
                        [
                          0.1111111111111111,
                          "#46039f"
                        ],
                        [
                          0.2222222222222222,
                          "#7201a8"
                        ],
                        [
                          0.3333333333333333,
                          "#9c179e"
                        ],
                        [
                          0.4444444444444444,
                          "#bd3786"
                        ],
                        [
                          0.5555555555555556,
                          "#d8576b"
                        ],
                        [
                          0.6666666666666666,
                          "#ed7953"
                        ],
                        [
                          0.7777777777777778,
                          "#fb9f3a"
                        ],
                        [
                          0.8888888888888888,
                          "#fdca26"
                        ],
                        [
                          1,
                          "#f0f921"
                        ]
                      ],
                      "sequentialminus": [
                        [
                          0,
                          "#0d0887"
                        ],
                        [
                          0.1111111111111111,
                          "#46039f"
                        ],
                        [
                          0.2222222222222222,
                          "#7201a8"
                        ],
                        [
                          0.3333333333333333,
                          "#9c179e"
                        ],
                        [
                          0.4444444444444444,
                          "#bd3786"
                        ],
                        [
                          0.5555555555555556,
                          "#d8576b"
                        ],
                        [
                          0.6666666666666666,
                          "#ed7953"
                        ],
                        [
                          0.7777777777777778,
                          "#fb9f3a"
                        ],
                        [
                          0.8888888888888888,
                          "#fdca26"
                        ],
                        [
                          1,
                          "#f0f921"
                        ]
                      ]
                    },
                    "colorway": [
                      "#636efa",
                      "#EF553B",
                      "#00cc96",
                      "#ab63fa",
                      "#FFA15A",
                      "#19d3f3",
                      "#FF6692",
                      "#B6E880",
                      "#FF97FF",
                      "#FECB52"
                    ],
                    "font": {
                      "color": "#2a3f5f"
                    },
                    "geo": {
                      "bgcolor": "white",
                      "lakecolor": "white",
                      "landcolor": "#E5ECF6",
                      "showlakes": true,
                      "showland": true,
                      "subunitcolor": "white"
                    },
                    "hoverlabel": {
                      "align": "left"
                    },
                    "hovermode": "closest",
                    "mapbox": {
                      "style": "light"
                    },
                    "paper_bgcolor": "white",
                    "plot_bgcolor": "#E5ECF6",
                    "polar": {
                      "angularaxis": {
                        "gridcolor": "white",
                        "linecolor": "white",
                        "ticks": ""
                      },
                      "bgcolor": "#E5ECF6",
                      "radialaxis": {
                        "gridcolor": "white",
                        "linecolor": "white",
                        "ticks": ""
                      }
                    },
                    "scene": {
                      "xaxis": {
                        "backgroundcolor": "#E5ECF6",
                        "gridcolor": "white",
                        "gridwidth": 2,
                        "linecolor": "white",
                        "showbackground": true,
                        "ticks": "",
                        "zerolinecolor": "white"
                      },
                      "yaxis": {
                        "backgroundcolor": "#E5ECF6",
                        "gridcolor": "white",
                        "gridwidth": 2,
                        "linecolor": "white",
                        "showbackground": true,
                        "ticks": "",
                        "zerolinecolor": "white"
                      },
                      "zaxis": {
                        "backgroundcolor": "#E5ECF6",
                        "gridcolor": "white",
                        "gridwidth": 2,
                        "linecolor": "white",
                        "showbackground": true,
                        "ticks": "",
                        "zerolinecolor": "white"
                      }
                    },
                    "shapedefaults": {
                      "line": {
                        "color": "#2a3f5f"
                      }
                    },
                    "ternary": {
                      "aaxis": {
                        "gridcolor": "white",
                        "linecolor": "white",
                        "ticks": ""
                      },
                      "baxis": {
                        "gridcolor": "white",
                        "linecolor": "white",
                        "ticks": ""
                      },
                      "bgcolor": "#E5ECF6",
                      "caxis": {
                        "gridcolor": "white",
                        "linecolor": "white",
                        "ticks": ""
                      }
                    },
                    "title": {
                      "x": 0.05
                    },
                    "xaxis": {
                      "automargin": true,
                      "gridcolor": "white",
                      "linecolor": "white",
                      "ticks": "",
                      "title": {
                        "standoff": 15
                      },
                      "zerolinecolor": "white",
                      "zerolinewidth": 2
                    },
                    "yaxis": {
                      "automargin": true,
                      "gridcolor": "white",
                      "linecolor": "white",
                      "ticks": "",
                      "title": {
                        "standoff": 15
                      },
                      "zerolinecolor": "white",
                      "zerolinewidth": 2
                    }
                  }
                }
              },
              "config": {
                "showLink": false,
                "linkText": "Export to plot.ly",
                "plotlyServerURL": "https://plot.ly"
              }
            },
            "text/html": [
              "<div>            <script src=\"https://cdnjs.cloudflare.com/ajax/libs/mathjax/2.7.5/MathJax.js?config=TeX-AMS-MML_SVG\"></script><script type=\"text/javascript\">if (window.MathJax && window.MathJax.Hub && window.MathJax.Hub.Config) {window.MathJax.Hub.Config({SVG: {font: \"STIX-Web\"}});}</script>                <script type=\"text/javascript\">window.PlotlyConfig = {MathJaxConfig: 'local'};</script>\n",
              "        <script charset=\"utf-8\" src=\"https://cdn.plot.ly/plotly-3.0.1.min.js\"></script>                <div id=\"e923a246-dcef-46a2-b558-5b8ff7e481b2\" class=\"plotly-graph-div\" style=\"height:525px; width:100%;\"></div>            <script type=\"text/javascript\">                window.PLOTLYENV=window.PLOTLYENV || {};                                if (document.getElementById(\"e923a246-dcef-46a2-b558-5b8ff7e481b2\")) {                    Plotly.newPlot(                        \"e923a246-dcef-46a2-b558-5b8ff7e481b2\",                        [{\"name\":\"A\",\"y\":{\"dtype\":\"i2\",\"bdata\":\"zgCo\\u002f83\\u002fqf\\u002fC\\u002f5f\\u002fo\\u002f9XAFIAJv9mAPQAlQBOAOIA6\\u002f9AAN0AbgAS\\u002f6P\\u002fFP8h\\u002fx7\\u002fz\\u002f80\\u002f9v\\u002fUwBf\\u002f1n\\u002f9QCA\\u002f0gAof8bAIoAHQBKACP\\u002flP8hADoAv\\u002f+zAOn\\u002fqf9l\\u002f8IAZP\\u002fS\\u002fzv\\u002fqQC0\\u002fzAAxAAd\\u002f2L\\u002f\\u002fv\\u002feAIP\\u002fmAAn\\u002fxv\\u002fKgB3AK8AjQAv\\u002f6X\\u002fpgASAN4A3\\u002f9\\u002f\\u002f3r\\u002fFf9Q\\u002f+7\\u002fff8vACUAyQAbAM\\u002f\\u002f\\u002fv9f\\u002f94AIQCGAIf\\u002fRv\\u002fT\\u002f3v\\u002fcv8\\u002f\\u002fyn\\u002fpP\\u002fVAI0AdgA=\"},\"type\":\"box\"},{\"name\":\"B\",\"y\":{\"dtype\":\"i2\",\"bdata\":\"CP8J\\u002fzIAuP9EAOYAYQAYAIX\\u002fUf8GAJ0AMADt\\u002f7YASv8q\\u002f9kA7ADz\\u002f7z\\u002fZP\\u002fo\\u002f0j\\u002fH\\u002f+cAMYA0\\u002f\\u002fEAOkAX\\u002f9SAMMAPwCi\\u002fxj\\u002faf8nAHIAhACf\\u002fz8AgP85\\u002f7UA1gDJ\\u002f27\\u002ffwCmAJz\\u002fowArAEsAGQDtADX\\u002fnf+K\\u002f8\\u002f\\u002f8f\\u002fv\\u002fyn\\u002f4QBoAPIA4gD1\\u002f4wABQCFANn\\u002f4ADRAPH\\u002ftgDh\\u002f37\\u002fBwAMALb\\u002f5gBKAC8ACf8CAJ0Axv9u\\u002f3gAlv90AK\\u002f\\u002fAQDfANwAI\\u002f8W\\u002f5gAZP8=\"},\"type\":\"box\"},{\"name\":\"C\",\"y\":{\"dtype\":\"i2\",\"bdata\":\"UgAp\\u002f3QASP\\u002fg\\u002fwsAZAB\\u002fAM\\u002f\\u002ffAB9AK3\\u002fLP9SADMAg\\u002f+uAOD\\u002fBgCLAI0APf+fAFIA6f92\\u002f8MAFACy\\u002f+L\\u002f1\\u002f8KAJwA+f8PAGn\\u002f3gDJ\\u002fw4AEv8Z\\u002f8j\\u002ffACYAFcAdv86\\u002fyIAE\\u002f+6\\u002f3QALAB5AB4AKQDCAJH\\u002fjgAt\\u002fyQAjv+QAHP\\u002fY\\u002f\\u002f3\\u002f\\u002fcAyv92\\u002f7IAWP87AIv\\u002fHQAKAHsAkP8U\\u002f+AAwABqANH\\u002f3v+c\\u002f7T\\u002fN\\u002f+J\\u002fx7\\u002fZv9UAFoAkADf\\u002f8MAsv+xAJ4Ai\\u002f9s\\u002fxz\\u002fg\\u002f8=\"},\"type\":\"box\"},{\"name\":\"D\",\"y\":{\"dtype\":\"i2\",\"bdata\":\"uP9SAIX\\u002fXv8zAIoAhf8DAJb\\u002fIACh\\u002fxX\\u002fQAAiAGAARgD2AP7\\u002fWP\\u002fJAC3\\u002fiwDEAOj\\u002f0v86ABP\\u002f0\\u002f8S\\u002fzb\\u002fHv90AE8A6P9v\\u002f4AAlP8a\\u002f6kAO\\u002f+FAOkAfgAM\\u002fx3\\u002fowBOABwArgDk\\u002f5z\\u002f1\\u002f9lAMUAgf+0AG\\u002f\\u002fhACX\\u002fwkAJv80AEP\\u002f3f9M\\u002fz7\\u002fKv9GAJUAIwBiAPAAXwAy\\u002f9P\\u002fav\\u002fh\\u002f3P\\u002ff\\u002f8o\\u002f3T\\u002fwAA6AJb\\u002fJgBF\\u002f9MAXgAT\\u002f4gAvwAKALz\\u002fUf\\u002fwAOwAIv\\u002fA\\u002f2j\\u002fN\\u002f8=\"},\"type\":\"box\"}],                        {\"template\":{\"data\":{\"barpolar\":[{\"marker\":{\"line\":{\"color\":\"#E5ECF6\",\"width\":0.5},\"pattern\":{\"fillmode\":\"overlay\",\"size\":10,\"solidity\":0.2}},\"type\":\"barpolar\"}],\"bar\":[{\"error_x\":{\"color\":\"#2a3f5f\"},\"error_y\":{\"color\":\"#2a3f5f\"},\"marker\":{\"line\":{\"color\":\"#E5ECF6\",\"width\":0.5},\"pattern\":{\"fillmode\":\"overlay\",\"size\":10,\"solidity\":0.2}},\"type\":\"bar\"}],\"carpet\":[{\"aaxis\":{\"endlinecolor\":\"#2a3f5f\",\"gridcolor\":\"white\",\"linecolor\":\"white\",\"minorgridcolor\":\"white\",\"startlinecolor\":\"#2a3f5f\"},\"baxis\":{\"endlinecolor\":\"#2a3f5f\",\"gridcolor\":\"white\",\"linecolor\":\"white\",\"minorgridcolor\":\"white\",\"startlinecolor\":\"#2a3f5f\"},\"type\":\"carpet\"}],\"choropleth\":[{\"colorbar\":{\"outlinewidth\":0,\"ticks\":\"\"},\"type\":\"choropleth\"}],\"contourcarpet\":[{\"colorbar\":{\"outlinewidth\":0,\"ticks\":\"\"},\"type\":\"contourcarpet\"}],\"contour\":[{\"colorbar\":{\"outlinewidth\":0,\"ticks\":\"\"},\"colorscale\":[[0.0,\"#0d0887\"],[0.1111111111111111,\"#46039f\"],[0.2222222222222222,\"#7201a8\"],[0.3333333333333333,\"#9c179e\"],[0.4444444444444444,\"#bd3786\"],[0.5555555555555556,\"#d8576b\"],[0.6666666666666666,\"#ed7953\"],[0.7777777777777778,\"#fb9f3a\"],[0.8888888888888888,\"#fdca26\"],[1.0,\"#f0f921\"]],\"type\":\"contour\"}],\"heatmap\":[{\"colorbar\":{\"outlinewidth\":0,\"ticks\":\"\"},\"colorscale\":[[0.0,\"#0d0887\"],[0.1111111111111111,\"#46039f\"],[0.2222222222222222,\"#7201a8\"],[0.3333333333333333,\"#9c179e\"],[0.4444444444444444,\"#bd3786\"],[0.5555555555555556,\"#d8576b\"],[0.6666666666666666,\"#ed7953\"],[0.7777777777777778,\"#fb9f3a\"],[0.8888888888888888,\"#fdca26\"],[1.0,\"#f0f921\"]],\"type\":\"heatmap\"}],\"histogram2dcontour\":[{\"colorbar\":{\"outlinewidth\":0,\"ticks\":\"\"},\"colorscale\":[[0.0,\"#0d0887\"],[0.1111111111111111,\"#46039f\"],[0.2222222222222222,\"#7201a8\"],[0.3333333333333333,\"#9c179e\"],[0.4444444444444444,\"#bd3786\"],[0.5555555555555556,\"#d8576b\"],[0.6666666666666666,\"#ed7953\"],[0.7777777777777778,\"#fb9f3a\"],[0.8888888888888888,\"#fdca26\"],[1.0,\"#f0f921\"]],\"type\":\"histogram2dcontour\"}],\"histogram2d\":[{\"colorbar\":{\"outlinewidth\":0,\"ticks\":\"\"},\"colorscale\":[[0.0,\"#0d0887\"],[0.1111111111111111,\"#46039f\"],[0.2222222222222222,\"#7201a8\"],[0.3333333333333333,\"#9c179e\"],[0.4444444444444444,\"#bd3786\"],[0.5555555555555556,\"#d8576b\"],[0.6666666666666666,\"#ed7953\"],[0.7777777777777778,\"#fb9f3a\"],[0.8888888888888888,\"#fdca26\"],[1.0,\"#f0f921\"]],\"type\":\"histogram2d\"}],\"histogram\":[{\"marker\":{\"pattern\":{\"fillmode\":\"overlay\",\"size\":10,\"solidity\":0.2}},\"type\":\"histogram\"}],\"mesh3d\":[{\"colorbar\":{\"outlinewidth\":0,\"ticks\":\"\"},\"type\":\"mesh3d\"}],\"parcoords\":[{\"line\":{\"colorbar\":{\"outlinewidth\":0,\"ticks\":\"\"}},\"type\":\"parcoords\"}],\"pie\":[{\"automargin\":true,\"type\":\"pie\"}],\"scatter3d\":[{\"line\":{\"colorbar\":{\"outlinewidth\":0,\"ticks\":\"\"}},\"marker\":{\"colorbar\":{\"outlinewidth\":0,\"ticks\":\"\"}},\"type\":\"scatter3d\"}],\"scattercarpet\":[{\"marker\":{\"colorbar\":{\"outlinewidth\":0,\"ticks\":\"\"}},\"type\":\"scattercarpet\"}],\"scattergeo\":[{\"marker\":{\"colorbar\":{\"outlinewidth\":0,\"ticks\":\"\"}},\"type\":\"scattergeo\"}],\"scattergl\":[{\"marker\":{\"colorbar\":{\"outlinewidth\":0,\"ticks\":\"\"}},\"type\":\"scattergl\"}],\"scattermapbox\":[{\"marker\":{\"colorbar\":{\"outlinewidth\":0,\"ticks\":\"\"}},\"type\":\"scattermapbox\"}],\"scattermap\":[{\"marker\":{\"colorbar\":{\"outlinewidth\":0,\"ticks\":\"\"}},\"type\":\"scattermap\"}],\"scatterpolargl\":[{\"marker\":{\"colorbar\":{\"outlinewidth\":0,\"ticks\":\"\"}},\"type\":\"scatterpolargl\"}],\"scatterpolar\":[{\"marker\":{\"colorbar\":{\"outlinewidth\":0,\"ticks\":\"\"}},\"type\":\"scatterpolar\"}],\"scatter\":[{\"fillpattern\":{\"fillmode\":\"overlay\",\"size\":10,\"solidity\":0.2},\"type\":\"scatter\"}],\"scatterternary\":[{\"marker\":{\"colorbar\":{\"outlinewidth\":0,\"ticks\":\"\"}},\"type\":\"scatterternary\"}],\"surface\":[{\"colorbar\":{\"outlinewidth\":0,\"ticks\":\"\"},\"colorscale\":[[0.0,\"#0d0887\"],[0.1111111111111111,\"#46039f\"],[0.2222222222222222,\"#7201a8\"],[0.3333333333333333,\"#9c179e\"],[0.4444444444444444,\"#bd3786\"],[0.5555555555555556,\"#d8576b\"],[0.6666666666666666,\"#ed7953\"],[0.7777777777777778,\"#fb9f3a\"],[0.8888888888888888,\"#fdca26\"],[1.0,\"#f0f921\"]],\"type\":\"surface\"}],\"table\":[{\"cells\":{\"fill\":{\"color\":\"#EBF0F8\"},\"line\":{\"color\":\"white\"}},\"header\":{\"fill\":{\"color\":\"#C8D4E3\"},\"line\":{\"color\":\"white\"}},\"type\":\"table\"}]},\"layout\":{\"annotationdefaults\":{\"arrowcolor\":\"#2a3f5f\",\"arrowhead\":0,\"arrowwidth\":1},\"autotypenumbers\":\"strict\",\"coloraxis\":{\"colorbar\":{\"outlinewidth\":0,\"ticks\":\"\"}},\"colorscale\":{\"diverging\":[[0,\"#8e0152\"],[0.1,\"#c51b7d\"],[0.2,\"#de77ae\"],[0.3,\"#f1b6da\"],[0.4,\"#fde0ef\"],[0.5,\"#f7f7f7\"],[0.6,\"#e6f5d0\"],[0.7,\"#b8e186\"],[0.8,\"#7fbc41\"],[0.9,\"#4d9221\"],[1,\"#276419\"]],\"sequential\":[[0.0,\"#0d0887\"],[0.1111111111111111,\"#46039f\"],[0.2222222222222222,\"#7201a8\"],[0.3333333333333333,\"#9c179e\"],[0.4444444444444444,\"#bd3786\"],[0.5555555555555556,\"#d8576b\"],[0.6666666666666666,\"#ed7953\"],[0.7777777777777778,\"#fb9f3a\"],[0.8888888888888888,\"#fdca26\"],[1.0,\"#f0f921\"]],\"sequentialminus\":[[0.0,\"#0d0887\"],[0.1111111111111111,\"#46039f\"],[0.2222222222222222,\"#7201a8\"],[0.3333333333333333,\"#9c179e\"],[0.4444444444444444,\"#bd3786\"],[0.5555555555555556,\"#d8576b\"],[0.6666666666666666,\"#ed7953\"],[0.7777777777777778,\"#fb9f3a\"],[0.8888888888888888,\"#fdca26\"],[1.0,\"#f0f921\"]]},\"colorway\":[\"#636efa\",\"#EF553B\",\"#00cc96\",\"#ab63fa\",\"#FFA15A\",\"#19d3f3\",\"#FF6692\",\"#B6E880\",\"#FF97FF\",\"#FECB52\"],\"font\":{\"color\":\"#2a3f5f\"},\"geo\":{\"bgcolor\":\"white\",\"lakecolor\":\"white\",\"landcolor\":\"#E5ECF6\",\"showlakes\":true,\"showland\":true,\"subunitcolor\":\"white\"},\"hoverlabel\":{\"align\":\"left\"},\"hovermode\":\"closest\",\"mapbox\":{\"style\":\"light\"},\"paper_bgcolor\":\"white\",\"plot_bgcolor\":\"#E5ECF6\",\"polar\":{\"angularaxis\":{\"gridcolor\":\"white\",\"linecolor\":\"white\",\"ticks\":\"\"},\"bgcolor\":\"#E5ECF6\",\"radialaxis\":{\"gridcolor\":\"white\",\"linecolor\":\"white\",\"ticks\":\"\"}},\"scene\":{\"xaxis\":{\"backgroundcolor\":\"#E5ECF6\",\"gridcolor\":\"white\",\"gridwidth\":2,\"linecolor\":\"white\",\"showbackground\":true,\"ticks\":\"\",\"zerolinecolor\":\"white\"},\"yaxis\":{\"backgroundcolor\":\"#E5ECF6\",\"gridcolor\":\"white\",\"gridwidth\":2,\"linecolor\":\"white\",\"showbackground\":true,\"ticks\":\"\",\"zerolinecolor\":\"white\"},\"zaxis\":{\"backgroundcolor\":\"#E5ECF6\",\"gridcolor\":\"white\",\"gridwidth\":2,\"linecolor\":\"white\",\"showbackground\":true,\"ticks\":\"\",\"zerolinecolor\":\"white\"}},\"shapedefaults\":{\"line\":{\"color\":\"#2a3f5f\"}},\"ternary\":{\"aaxis\":{\"gridcolor\":\"white\",\"linecolor\":\"white\",\"ticks\":\"\"},\"baxis\":{\"gridcolor\":\"white\",\"linecolor\":\"white\",\"ticks\":\"\"},\"bgcolor\":\"#E5ECF6\",\"caxis\":{\"gridcolor\":\"white\",\"linecolor\":\"white\",\"ticks\":\"\"}},\"title\":{\"x\":0.05},\"xaxis\":{\"automargin\":true,\"gridcolor\":\"white\",\"linecolor\":\"white\",\"ticks\":\"\",\"title\":{\"standoff\":15},\"zerolinecolor\":\"white\",\"zerolinewidth\":2},\"yaxis\":{\"automargin\":true,\"gridcolor\":\"white\",\"linecolor\":\"white\",\"ticks\":\"\",\"title\":{\"standoff\":15},\"zerolinecolor\":\"white\",\"zerolinewidth\":2}}}},                        {\"responsive\": true}                    ).then(function(){\n",
              "                            \n",
              "var gd = document.getElementById('e923a246-dcef-46a2-b558-5b8ff7e481b2');\n",
              "var x = new MutationObserver(function (mutations, observer) {{\n",
              "        var display = window.getComputedStyle(gd).display;\n",
              "        if (!display || display === 'none') {{\n",
              "            console.log([gd, 'removed!']);\n",
              "            Plotly.purge(gd);\n",
              "            observer.disconnect();\n",
              "        }}\n",
              "}});\n",
              "\n",
              "// Listen for the removal of the full notebook cells\n",
              "var notebookContainer = gd.closest('#notebook-container');\n",
              "if (notebookContainer) {{\n",
              "    x.observe(notebookContainer, {childList: true});\n",
              "}}\n",
              "\n",
              "// Listen for the clearing of the current output cell\n",
              "var outputEl = gd.closest('.output');\n",
              "if (outputEl) {{\n",
              "    x.observe(outputEl, {childList: true});\n",
              "}}\n",
              "\n",
              "                        })                };            </script>        </div>"
            ]
          },
          "metadata": {}
        }
      ]
    },
    {
      "cell_type": "code",
      "source": [
        "fig = go.Figure(data=[go.Histogram(x=df['A'])])\n",
        "\n",
        "iplot(fig)"
      ],
      "metadata": {
        "colab": {
          "base_uri": "https://localhost:8080/",
          "height": 542
        },
        "id": "vqaiaE_Dzk2d",
        "outputId": "5e0e7ac2-464f-4a33-cdbf-48f072f5d488"
      },
      "execution_count": 100,
      "outputs": [
        {
          "output_type": "display_data",
          "data": {
            "application/vnd.plotly.v1+json": {
              "data": [
                {
                  "x": {
                    "dtype": "i2",
                    "bdata": "zgCo/83/qf/C/5f/o/9XAFIAJv9mAPQAlQBOAOIA6/9AAN0AbgAS/6P/FP8h/x7/z/80/9v/UwBf/1n/9QCA/0gAof8bAIoAHQBKACP/lP8hADoAv/+zAOn/qf9l/8IAZP/S/zv/qQC0/zAAxAAd/2L//v/eAIP/mAAn/xv/KgB3AK8AjQAv/6X/pgASAN4A3/9//3r/Ff9Q/+7/ff8vACUAyQAbAM///v9f/94AIQCGAIf/Rv/T/3v/cv8//yn/pP/VAI0AdgA="
                  },
                  "type": "histogram"
                }
              ],
              "layout": {
                "template": {
                  "data": {
                    "barpolar": [
                      {
                        "marker": {
                          "line": {
                            "color": "#E5ECF6",
                            "width": 0.5
                          },
                          "pattern": {
                            "fillmode": "overlay",
                            "size": 10,
                            "solidity": 0.2
                          }
                        },
                        "type": "barpolar"
                      }
                    ],
                    "bar": [
                      {
                        "error_x": {
                          "color": "#2a3f5f"
                        },
                        "error_y": {
                          "color": "#2a3f5f"
                        },
                        "marker": {
                          "line": {
                            "color": "#E5ECF6",
                            "width": 0.5
                          },
                          "pattern": {
                            "fillmode": "overlay",
                            "size": 10,
                            "solidity": 0.2
                          }
                        },
                        "type": "bar"
                      }
                    ],
                    "carpet": [
                      {
                        "aaxis": {
                          "endlinecolor": "#2a3f5f",
                          "gridcolor": "white",
                          "linecolor": "white",
                          "minorgridcolor": "white",
                          "startlinecolor": "#2a3f5f"
                        },
                        "baxis": {
                          "endlinecolor": "#2a3f5f",
                          "gridcolor": "white",
                          "linecolor": "white",
                          "minorgridcolor": "white",
                          "startlinecolor": "#2a3f5f"
                        },
                        "type": "carpet"
                      }
                    ],
                    "choropleth": [
                      {
                        "colorbar": {
                          "outlinewidth": 0,
                          "ticks": ""
                        },
                        "type": "choropleth"
                      }
                    ],
                    "contourcarpet": [
                      {
                        "colorbar": {
                          "outlinewidth": 0,
                          "ticks": ""
                        },
                        "type": "contourcarpet"
                      }
                    ],
                    "contour": [
                      {
                        "colorbar": {
                          "outlinewidth": 0,
                          "ticks": ""
                        },
                        "colorscale": [
                          [
                            0,
                            "#0d0887"
                          ],
                          [
                            0.1111111111111111,
                            "#46039f"
                          ],
                          [
                            0.2222222222222222,
                            "#7201a8"
                          ],
                          [
                            0.3333333333333333,
                            "#9c179e"
                          ],
                          [
                            0.4444444444444444,
                            "#bd3786"
                          ],
                          [
                            0.5555555555555556,
                            "#d8576b"
                          ],
                          [
                            0.6666666666666666,
                            "#ed7953"
                          ],
                          [
                            0.7777777777777778,
                            "#fb9f3a"
                          ],
                          [
                            0.8888888888888888,
                            "#fdca26"
                          ],
                          [
                            1,
                            "#f0f921"
                          ]
                        ],
                        "type": "contour"
                      }
                    ],
                    "heatmap": [
                      {
                        "colorbar": {
                          "outlinewidth": 0,
                          "ticks": ""
                        },
                        "colorscale": [
                          [
                            0,
                            "#0d0887"
                          ],
                          [
                            0.1111111111111111,
                            "#46039f"
                          ],
                          [
                            0.2222222222222222,
                            "#7201a8"
                          ],
                          [
                            0.3333333333333333,
                            "#9c179e"
                          ],
                          [
                            0.4444444444444444,
                            "#bd3786"
                          ],
                          [
                            0.5555555555555556,
                            "#d8576b"
                          ],
                          [
                            0.6666666666666666,
                            "#ed7953"
                          ],
                          [
                            0.7777777777777778,
                            "#fb9f3a"
                          ],
                          [
                            0.8888888888888888,
                            "#fdca26"
                          ],
                          [
                            1,
                            "#f0f921"
                          ]
                        ],
                        "type": "heatmap"
                      }
                    ],
                    "histogram2dcontour": [
                      {
                        "colorbar": {
                          "outlinewidth": 0,
                          "ticks": ""
                        },
                        "colorscale": [
                          [
                            0,
                            "#0d0887"
                          ],
                          [
                            0.1111111111111111,
                            "#46039f"
                          ],
                          [
                            0.2222222222222222,
                            "#7201a8"
                          ],
                          [
                            0.3333333333333333,
                            "#9c179e"
                          ],
                          [
                            0.4444444444444444,
                            "#bd3786"
                          ],
                          [
                            0.5555555555555556,
                            "#d8576b"
                          ],
                          [
                            0.6666666666666666,
                            "#ed7953"
                          ],
                          [
                            0.7777777777777778,
                            "#fb9f3a"
                          ],
                          [
                            0.8888888888888888,
                            "#fdca26"
                          ],
                          [
                            1,
                            "#f0f921"
                          ]
                        ],
                        "type": "histogram2dcontour"
                      }
                    ],
                    "histogram2d": [
                      {
                        "colorbar": {
                          "outlinewidth": 0,
                          "ticks": ""
                        },
                        "colorscale": [
                          [
                            0,
                            "#0d0887"
                          ],
                          [
                            0.1111111111111111,
                            "#46039f"
                          ],
                          [
                            0.2222222222222222,
                            "#7201a8"
                          ],
                          [
                            0.3333333333333333,
                            "#9c179e"
                          ],
                          [
                            0.4444444444444444,
                            "#bd3786"
                          ],
                          [
                            0.5555555555555556,
                            "#d8576b"
                          ],
                          [
                            0.6666666666666666,
                            "#ed7953"
                          ],
                          [
                            0.7777777777777778,
                            "#fb9f3a"
                          ],
                          [
                            0.8888888888888888,
                            "#fdca26"
                          ],
                          [
                            1,
                            "#f0f921"
                          ]
                        ],
                        "type": "histogram2d"
                      }
                    ],
                    "histogram": [
                      {
                        "marker": {
                          "pattern": {
                            "fillmode": "overlay",
                            "size": 10,
                            "solidity": 0.2
                          }
                        },
                        "type": "histogram"
                      }
                    ],
                    "mesh3d": [
                      {
                        "colorbar": {
                          "outlinewidth": 0,
                          "ticks": ""
                        },
                        "type": "mesh3d"
                      }
                    ],
                    "parcoords": [
                      {
                        "line": {
                          "colorbar": {
                            "outlinewidth": 0,
                            "ticks": ""
                          }
                        },
                        "type": "parcoords"
                      }
                    ],
                    "pie": [
                      {
                        "automargin": true,
                        "type": "pie"
                      }
                    ],
                    "scatter3d": [
                      {
                        "line": {
                          "colorbar": {
                            "outlinewidth": 0,
                            "ticks": ""
                          }
                        },
                        "marker": {
                          "colorbar": {
                            "outlinewidth": 0,
                            "ticks": ""
                          }
                        },
                        "type": "scatter3d"
                      }
                    ],
                    "scattercarpet": [
                      {
                        "marker": {
                          "colorbar": {
                            "outlinewidth": 0,
                            "ticks": ""
                          }
                        },
                        "type": "scattercarpet"
                      }
                    ],
                    "scattergeo": [
                      {
                        "marker": {
                          "colorbar": {
                            "outlinewidth": 0,
                            "ticks": ""
                          }
                        },
                        "type": "scattergeo"
                      }
                    ],
                    "scattergl": [
                      {
                        "marker": {
                          "colorbar": {
                            "outlinewidth": 0,
                            "ticks": ""
                          }
                        },
                        "type": "scattergl"
                      }
                    ],
                    "scattermapbox": [
                      {
                        "marker": {
                          "colorbar": {
                            "outlinewidth": 0,
                            "ticks": ""
                          }
                        },
                        "type": "scattermapbox"
                      }
                    ],
                    "scattermap": [
                      {
                        "marker": {
                          "colorbar": {
                            "outlinewidth": 0,
                            "ticks": ""
                          }
                        },
                        "type": "scattermap"
                      }
                    ],
                    "scatterpolargl": [
                      {
                        "marker": {
                          "colorbar": {
                            "outlinewidth": 0,
                            "ticks": ""
                          }
                        },
                        "type": "scatterpolargl"
                      }
                    ],
                    "scatterpolar": [
                      {
                        "marker": {
                          "colorbar": {
                            "outlinewidth": 0,
                            "ticks": ""
                          }
                        },
                        "type": "scatterpolar"
                      }
                    ],
                    "scatter": [
                      {
                        "fillpattern": {
                          "fillmode": "overlay",
                          "size": 10,
                          "solidity": 0.2
                        },
                        "type": "scatter"
                      }
                    ],
                    "scatterternary": [
                      {
                        "marker": {
                          "colorbar": {
                            "outlinewidth": 0,
                            "ticks": ""
                          }
                        },
                        "type": "scatterternary"
                      }
                    ],
                    "surface": [
                      {
                        "colorbar": {
                          "outlinewidth": 0,
                          "ticks": ""
                        },
                        "colorscale": [
                          [
                            0,
                            "#0d0887"
                          ],
                          [
                            0.1111111111111111,
                            "#46039f"
                          ],
                          [
                            0.2222222222222222,
                            "#7201a8"
                          ],
                          [
                            0.3333333333333333,
                            "#9c179e"
                          ],
                          [
                            0.4444444444444444,
                            "#bd3786"
                          ],
                          [
                            0.5555555555555556,
                            "#d8576b"
                          ],
                          [
                            0.6666666666666666,
                            "#ed7953"
                          ],
                          [
                            0.7777777777777778,
                            "#fb9f3a"
                          ],
                          [
                            0.8888888888888888,
                            "#fdca26"
                          ],
                          [
                            1,
                            "#f0f921"
                          ]
                        ],
                        "type": "surface"
                      }
                    ],
                    "table": [
                      {
                        "cells": {
                          "fill": {
                            "color": "#EBF0F8"
                          },
                          "line": {
                            "color": "white"
                          }
                        },
                        "header": {
                          "fill": {
                            "color": "#C8D4E3"
                          },
                          "line": {
                            "color": "white"
                          }
                        },
                        "type": "table"
                      }
                    ]
                  },
                  "layout": {
                    "annotationdefaults": {
                      "arrowcolor": "#2a3f5f",
                      "arrowhead": 0,
                      "arrowwidth": 1
                    },
                    "autotypenumbers": "strict",
                    "coloraxis": {
                      "colorbar": {
                        "outlinewidth": 0,
                        "ticks": ""
                      }
                    },
                    "colorscale": {
                      "diverging": [
                        [
                          0,
                          "#8e0152"
                        ],
                        [
                          0.1,
                          "#c51b7d"
                        ],
                        [
                          0.2,
                          "#de77ae"
                        ],
                        [
                          0.3,
                          "#f1b6da"
                        ],
                        [
                          0.4,
                          "#fde0ef"
                        ],
                        [
                          0.5,
                          "#f7f7f7"
                        ],
                        [
                          0.6,
                          "#e6f5d0"
                        ],
                        [
                          0.7,
                          "#b8e186"
                        ],
                        [
                          0.8,
                          "#7fbc41"
                        ],
                        [
                          0.9,
                          "#4d9221"
                        ],
                        [
                          1,
                          "#276419"
                        ]
                      ],
                      "sequential": [
                        [
                          0,
                          "#0d0887"
                        ],
                        [
                          0.1111111111111111,
                          "#46039f"
                        ],
                        [
                          0.2222222222222222,
                          "#7201a8"
                        ],
                        [
                          0.3333333333333333,
                          "#9c179e"
                        ],
                        [
                          0.4444444444444444,
                          "#bd3786"
                        ],
                        [
                          0.5555555555555556,
                          "#d8576b"
                        ],
                        [
                          0.6666666666666666,
                          "#ed7953"
                        ],
                        [
                          0.7777777777777778,
                          "#fb9f3a"
                        ],
                        [
                          0.8888888888888888,
                          "#fdca26"
                        ],
                        [
                          1,
                          "#f0f921"
                        ]
                      ],
                      "sequentialminus": [
                        [
                          0,
                          "#0d0887"
                        ],
                        [
                          0.1111111111111111,
                          "#46039f"
                        ],
                        [
                          0.2222222222222222,
                          "#7201a8"
                        ],
                        [
                          0.3333333333333333,
                          "#9c179e"
                        ],
                        [
                          0.4444444444444444,
                          "#bd3786"
                        ],
                        [
                          0.5555555555555556,
                          "#d8576b"
                        ],
                        [
                          0.6666666666666666,
                          "#ed7953"
                        ],
                        [
                          0.7777777777777778,
                          "#fb9f3a"
                        ],
                        [
                          0.8888888888888888,
                          "#fdca26"
                        ],
                        [
                          1,
                          "#f0f921"
                        ]
                      ]
                    },
                    "colorway": [
                      "#636efa",
                      "#EF553B",
                      "#00cc96",
                      "#ab63fa",
                      "#FFA15A",
                      "#19d3f3",
                      "#FF6692",
                      "#B6E880",
                      "#FF97FF",
                      "#FECB52"
                    ],
                    "font": {
                      "color": "#2a3f5f"
                    },
                    "geo": {
                      "bgcolor": "white",
                      "lakecolor": "white",
                      "landcolor": "#E5ECF6",
                      "showlakes": true,
                      "showland": true,
                      "subunitcolor": "white"
                    },
                    "hoverlabel": {
                      "align": "left"
                    },
                    "hovermode": "closest",
                    "mapbox": {
                      "style": "light"
                    },
                    "paper_bgcolor": "white",
                    "plot_bgcolor": "#E5ECF6",
                    "polar": {
                      "angularaxis": {
                        "gridcolor": "white",
                        "linecolor": "white",
                        "ticks": ""
                      },
                      "bgcolor": "#E5ECF6",
                      "radialaxis": {
                        "gridcolor": "white",
                        "linecolor": "white",
                        "ticks": ""
                      }
                    },
                    "scene": {
                      "xaxis": {
                        "backgroundcolor": "#E5ECF6",
                        "gridcolor": "white",
                        "gridwidth": 2,
                        "linecolor": "white",
                        "showbackground": true,
                        "ticks": "",
                        "zerolinecolor": "white"
                      },
                      "yaxis": {
                        "backgroundcolor": "#E5ECF6",
                        "gridcolor": "white",
                        "gridwidth": 2,
                        "linecolor": "white",
                        "showbackground": true,
                        "ticks": "",
                        "zerolinecolor": "white"
                      },
                      "zaxis": {
                        "backgroundcolor": "#E5ECF6",
                        "gridcolor": "white",
                        "gridwidth": 2,
                        "linecolor": "white",
                        "showbackground": true,
                        "ticks": "",
                        "zerolinecolor": "white"
                      }
                    },
                    "shapedefaults": {
                      "line": {
                        "color": "#2a3f5f"
                      }
                    },
                    "ternary": {
                      "aaxis": {
                        "gridcolor": "white",
                        "linecolor": "white",
                        "ticks": ""
                      },
                      "baxis": {
                        "gridcolor": "white",
                        "linecolor": "white",
                        "ticks": ""
                      },
                      "bgcolor": "#E5ECF6",
                      "caxis": {
                        "gridcolor": "white",
                        "linecolor": "white",
                        "ticks": ""
                      }
                    },
                    "title": {
                      "x": 0.05
                    },
                    "xaxis": {
                      "automargin": true,
                      "gridcolor": "white",
                      "linecolor": "white",
                      "ticks": "",
                      "title": {
                        "standoff": 15
                      },
                      "zerolinecolor": "white",
                      "zerolinewidth": 2
                    },
                    "yaxis": {
                      "automargin": true,
                      "gridcolor": "white",
                      "linecolor": "white",
                      "ticks": "",
                      "title": {
                        "standoff": 15
                      },
                      "zerolinecolor": "white",
                      "zerolinewidth": 2
                    }
                  }
                }
              },
              "config": {
                "showLink": false,
                "linkText": "Export to plot.ly",
                "plotlyServerURL": "https://plot.ly"
              }
            },
            "text/html": [
              "<div>            <script src=\"https://cdnjs.cloudflare.com/ajax/libs/mathjax/2.7.5/MathJax.js?config=TeX-AMS-MML_SVG\"></script><script type=\"text/javascript\">if (window.MathJax && window.MathJax.Hub && window.MathJax.Hub.Config) {window.MathJax.Hub.Config({SVG: {font: \"STIX-Web\"}});}</script>                <script type=\"text/javascript\">window.PlotlyConfig = {MathJaxConfig: 'local'};</script>\n",
              "        <script charset=\"utf-8\" src=\"https://cdn.plot.ly/plotly-3.0.1.min.js\"></script>                <div id=\"1c444575-efc4-4115-b43f-de79afe9b9cd\" class=\"plotly-graph-div\" style=\"height:525px; width:100%;\"></div>            <script type=\"text/javascript\">                window.PLOTLYENV=window.PLOTLYENV || {};                                if (document.getElementById(\"1c444575-efc4-4115-b43f-de79afe9b9cd\")) {                    Plotly.newPlot(                        \"1c444575-efc4-4115-b43f-de79afe9b9cd\",                        [{\"x\":{\"dtype\":\"i2\",\"bdata\":\"zgCo\\u002f83\\u002fqf\\u002fC\\u002f5f\\u002fo\\u002f9XAFIAJv9mAPQAlQBOAOIA6\\u002f9AAN0AbgAS\\u002f6P\\u002fFP8h\\u002fx7\\u002fz\\u002f80\\u002f9v\\u002fUwBf\\u002f1n\\u002f9QCA\\u002f0gAof8bAIoAHQBKACP\\u002flP8hADoAv\\u002f+zAOn\\u002fqf9l\\u002f8IAZP\\u002fS\\u002fzv\\u002fqQC0\\u002fzAAxAAd\\u002f2L\\u002f\\u002fv\\u002feAIP\\u002fmAAn\\u002fxv\\u002fKgB3AK8AjQAv\\u002f6X\\u002fpgASAN4A3\\u002f9\\u002f\\u002f3r\\u002fFf9Q\\u002f+7\\u002fff8vACUAyQAbAM\\u002f\\u002f\\u002fv9f\\u002f94AIQCGAIf\\u002fRv\\u002fT\\u002f3v\\u002fcv8\\u002f\\u002fyn\\u002fpP\\u002fVAI0AdgA=\"},\"type\":\"histogram\"}],                        {\"template\":{\"data\":{\"barpolar\":[{\"marker\":{\"line\":{\"color\":\"#E5ECF6\",\"width\":0.5},\"pattern\":{\"fillmode\":\"overlay\",\"size\":10,\"solidity\":0.2}},\"type\":\"barpolar\"}],\"bar\":[{\"error_x\":{\"color\":\"#2a3f5f\"},\"error_y\":{\"color\":\"#2a3f5f\"},\"marker\":{\"line\":{\"color\":\"#E5ECF6\",\"width\":0.5},\"pattern\":{\"fillmode\":\"overlay\",\"size\":10,\"solidity\":0.2}},\"type\":\"bar\"}],\"carpet\":[{\"aaxis\":{\"endlinecolor\":\"#2a3f5f\",\"gridcolor\":\"white\",\"linecolor\":\"white\",\"minorgridcolor\":\"white\",\"startlinecolor\":\"#2a3f5f\"},\"baxis\":{\"endlinecolor\":\"#2a3f5f\",\"gridcolor\":\"white\",\"linecolor\":\"white\",\"minorgridcolor\":\"white\",\"startlinecolor\":\"#2a3f5f\"},\"type\":\"carpet\"}],\"choropleth\":[{\"colorbar\":{\"outlinewidth\":0,\"ticks\":\"\"},\"type\":\"choropleth\"}],\"contourcarpet\":[{\"colorbar\":{\"outlinewidth\":0,\"ticks\":\"\"},\"type\":\"contourcarpet\"}],\"contour\":[{\"colorbar\":{\"outlinewidth\":0,\"ticks\":\"\"},\"colorscale\":[[0.0,\"#0d0887\"],[0.1111111111111111,\"#46039f\"],[0.2222222222222222,\"#7201a8\"],[0.3333333333333333,\"#9c179e\"],[0.4444444444444444,\"#bd3786\"],[0.5555555555555556,\"#d8576b\"],[0.6666666666666666,\"#ed7953\"],[0.7777777777777778,\"#fb9f3a\"],[0.8888888888888888,\"#fdca26\"],[1.0,\"#f0f921\"]],\"type\":\"contour\"}],\"heatmap\":[{\"colorbar\":{\"outlinewidth\":0,\"ticks\":\"\"},\"colorscale\":[[0.0,\"#0d0887\"],[0.1111111111111111,\"#46039f\"],[0.2222222222222222,\"#7201a8\"],[0.3333333333333333,\"#9c179e\"],[0.4444444444444444,\"#bd3786\"],[0.5555555555555556,\"#d8576b\"],[0.6666666666666666,\"#ed7953\"],[0.7777777777777778,\"#fb9f3a\"],[0.8888888888888888,\"#fdca26\"],[1.0,\"#f0f921\"]],\"type\":\"heatmap\"}],\"histogram2dcontour\":[{\"colorbar\":{\"outlinewidth\":0,\"ticks\":\"\"},\"colorscale\":[[0.0,\"#0d0887\"],[0.1111111111111111,\"#46039f\"],[0.2222222222222222,\"#7201a8\"],[0.3333333333333333,\"#9c179e\"],[0.4444444444444444,\"#bd3786\"],[0.5555555555555556,\"#d8576b\"],[0.6666666666666666,\"#ed7953\"],[0.7777777777777778,\"#fb9f3a\"],[0.8888888888888888,\"#fdca26\"],[1.0,\"#f0f921\"]],\"type\":\"histogram2dcontour\"}],\"histogram2d\":[{\"colorbar\":{\"outlinewidth\":0,\"ticks\":\"\"},\"colorscale\":[[0.0,\"#0d0887\"],[0.1111111111111111,\"#46039f\"],[0.2222222222222222,\"#7201a8\"],[0.3333333333333333,\"#9c179e\"],[0.4444444444444444,\"#bd3786\"],[0.5555555555555556,\"#d8576b\"],[0.6666666666666666,\"#ed7953\"],[0.7777777777777778,\"#fb9f3a\"],[0.8888888888888888,\"#fdca26\"],[1.0,\"#f0f921\"]],\"type\":\"histogram2d\"}],\"histogram\":[{\"marker\":{\"pattern\":{\"fillmode\":\"overlay\",\"size\":10,\"solidity\":0.2}},\"type\":\"histogram\"}],\"mesh3d\":[{\"colorbar\":{\"outlinewidth\":0,\"ticks\":\"\"},\"type\":\"mesh3d\"}],\"parcoords\":[{\"line\":{\"colorbar\":{\"outlinewidth\":0,\"ticks\":\"\"}},\"type\":\"parcoords\"}],\"pie\":[{\"automargin\":true,\"type\":\"pie\"}],\"scatter3d\":[{\"line\":{\"colorbar\":{\"outlinewidth\":0,\"ticks\":\"\"}},\"marker\":{\"colorbar\":{\"outlinewidth\":0,\"ticks\":\"\"}},\"type\":\"scatter3d\"}],\"scattercarpet\":[{\"marker\":{\"colorbar\":{\"outlinewidth\":0,\"ticks\":\"\"}},\"type\":\"scattercarpet\"}],\"scattergeo\":[{\"marker\":{\"colorbar\":{\"outlinewidth\":0,\"ticks\":\"\"}},\"type\":\"scattergeo\"}],\"scattergl\":[{\"marker\":{\"colorbar\":{\"outlinewidth\":0,\"ticks\":\"\"}},\"type\":\"scattergl\"}],\"scattermapbox\":[{\"marker\":{\"colorbar\":{\"outlinewidth\":0,\"ticks\":\"\"}},\"type\":\"scattermapbox\"}],\"scattermap\":[{\"marker\":{\"colorbar\":{\"outlinewidth\":0,\"ticks\":\"\"}},\"type\":\"scattermap\"}],\"scatterpolargl\":[{\"marker\":{\"colorbar\":{\"outlinewidth\":0,\"ticks\":\"\"}},\"type\":\"scatterpolargl\"}],\"scatterpolar\":[{\"marker\":{\"colorbar\":{\"outlinewidth\":0,\"ticks\":\"\"}},\"type\":\"scatterpolar\"}],\"scatter\":[{\"fillpattern\":{\"fillmode\":\"overlay\",\"size\":10,\"solidity\":0.2},\"type\":\"scatter\"}],\"scatterternary\":[{\"marker\":{\"colorbar\":{\"outlinewidth\":0,\"ticks\":\"\"}},\"type\":\"scatterternary\"}],\"surface\":[{\"colorbar\":{\"outlinewidth\":0,\"ticks\":\"\"},\"colorscale\":[[0.0,\"#0d0887\"],[0.1111111111111111,\"#46039f\"],[0.2222222222222222,\"#7201a8\"],[0.3333333333333333,\"#9c179e\"],[0.4444444444444444,\"#bd3786\"],[0.5555555555555556,\"#d8576b\"],[0.6666666666666666,\"#ed7953\"],[0.7777777777777778,\"#fb9f3a\"],[0.8888888888888888,\"#fdca26\"],[1.0,\"#f0f921\"]],\"type\":\"surface\"}],\"table\":[{\"cells\":{\"fill\":{\"color\":\"#EBF0F8\"},\"line\":{\"color\":\"white\"}},\"header\":{\"fill\":{\"color\":\"#C8D4E3\"},\"line\":{\"color\":\"white\"}},\"type\":\"table\"}]},\"layout\":{\"annotationdefaults\":{\"arrowcolor\":\"#2a3f5f\",\"arrowhead\":0,\"arrowwidth\":1},\"autotypenumbers\":\"strict\",\"coloraxis\":{\"colorbar\":{\"outlinewidth\":0,\"ticks\":\"\"}},\"colorscale\":{\"diverging\":[[0,\"#8e0152\"],[0.1,\"#c51b7d\"],[0.2,\"#de77ae\"],[0.3,\"#f1b6da\"],[0.4,\"#fde0ef\"],[0.5,\"#f7f7f7\"],[0.6,\"#e6f5d0\"],[0.7,\"#b8e186\"],[0.8,\"#7fbc41\"],[0.9,\"#4d9221\"],[1,\"#276419\"]],\"sequential\":[[0.0,\"#0d0887\"],[0.1111111111111111,\"#46039f\"],[0.2222222222222222,\"#7201a8\"],[0.3333333333333333,\"#9c179e\"],[0.4444444444444444,\"#bd3786\"],[0.5555555555555556,\"#d8576b\"],[0.6666666666666666,\"#ed7953\"],[0.7777777777777778,\"#fb9f3a\"],[0.8888888888888888,\"#fdca26\"],[1.0,\"#f0f921\"]],\"sequentialminus\":[[0.0,\"#0d0887\"],[0.1111111111111111,\"#46039f\"],[0.2222222222222222,\"#7201a8\"],[0.3333333333333333,\"#9c179e\"],[0.4444444444444444,\"#bd3786\"],[0.5555555555555556,\"#d8576b\"],[0.6666666666666666,\"#ed7953\"],[0.7777777777777778,\"#fb9f3a\"],[0.8888888888888888,\"#fdca26\"],[1.0,\"#f0f921\"]]},\"colorway\":[\"#636efa\",\"#EF553B\",\"#00cc96\",\"#ab63fa\",\"#FFA15A\",\"#19d3f3\",\"#FF6692\",\"#B6E880\",\"#FF97FF\",\"#FECB52\"],\"font\":{\"color\":\"#2a3f5f\"},\"geo\":{\"bgcolor\":\"white\",\"lakecolor\":\"white\",\"landcolor\":\"#E5ECF6\",\"showlakes\":true,\"showland\":true,\"subunitcolor\":\"white\"},\"hoverlabel\":{\"align\":\"left\"},\"hovermode\":\"closest\",\"mapbox\":{\"style\":\"light\"},\"paper_bgcolor\":\"white\",\"plot_bgcolor\":\"#E5ECF6\",\"polar\":{\"angularaxis\":{\"gridcolor\":\"white\",\"linecolor\":\"white\",\"ticks\":\"\"},\"bgcolor\":\"#E5ECF6\",\"radialaxis\":{\"gridcolor\":\"white\",\"linecolor\":\"white\",\"ticks\":\"\"}},\"scene\":{\"xaxis\":{\"backgroundcolor\":\"#E5ECF6\",\"gridcolor\":\"white\",\"gridwidth\":2,\"linecolor\":\"white\",\"showbackground\":true,\"ticks\":\"\",\"zerolinecolor\":\"white\"},\"yaxis\":{\"backgroundcolor\":\"#E5ECF6\",\"gridcolor\":\"white\",\"gridwidth\":2,\"linecolor\":\"white\",\"showbackground\":true,\"ticks\":\"\",\"zerolinecolor\":\"white\"},\"zaxis\":{\"backgroundcolor\":\"#E5ECF6\",\"gridcolor\":\"white\",\"gridwidth\":2,\"linecolor\":\"white\",\"showbackground\":true,\"ticks\":\"\",\"zerolinecolor\":\"white\"}},\"shapedefaults\":{\"line\":{\"color\":\"#2a3f5f\"}},\"ternary\":{\"aaxis\":{\"gridcolor\":\"white\",\"linecolor\":\"white\",\"ticks\":\"\"},\"baxis\":{\"gridcolor\":\"white\",\"linecolor\":\"white\",\"ticks\":\"\"},\"bgcolor\":\"#E5ECF6\",\"caxis\":{\"gridcolor\":\"white\",\"linecolor\":\"white\",\"ticks\":\"\"}},\"title\":{\"x\":0.05},\"xaxis\":{\"automargin\":true,\"gridcolor\":\"white\",\"linecolor\":\"white\",\"ticks\":\"\",\"title\":{\"standoff\":15},\"zerolinecolor\":\"white\",\"zerolinewidth\":2},\"yaxis\":{\"automargin\":true,\"gridcolor\":\"white\",\"linecolor\":\"white\",\"ticks\":\"\",\"title\":{\"standoff\":15},\"zerolinecolor\":\"white\",\"zerolinewidth\":2}}}},                        {\"responsive\": true}                    ).then(function(){\n",
              "                            \n",
              "var gd = document.getElementById('1c444575-efc4-4115-b43f-de79afe9b9cd');\n",
              "var x = new MutationObserver(function (mutations, observer) {{\n",
              "        var display = window.getComputedStyle(gd).display;\n",
              "        if (!display || display === 'none') {{\n",
              "            console.log([gd, 'removed!']);\n",
              "            Plotly.purge(gd);\n",
              "            observer.disconnect();\n",
              "        }}\n",
              "}});\n",
              "\n",
              "// Listen for the removal of the full notebook cells\n",
              "var notebookContainer = gd.closest('#notebook-container');\n",
              "if (notebookContainer) {{\n",
              "    x.observe(notebookContainer, {childList: true});\n",
              "}}\n",
              "\n",
              "// Listen for the clearing of the current output cell\n",
              "var outputEl = gd.closest('.output');\n",
              "if (outputEl) {{\n",
              "    x.observe(outputEl, {childList: true});\n",
              "}}\n",
              "\n",
              "                        })                };            </script>        </div>"
            ]
          },
          "metadata": {}
        }
      ]
    },
    {
      "cell_type": "code",
      "source": [
        "fig = go.Figure()\n",
        "for column in df.columns:\n",
        "  fig.add_trace(go.Histogram(x=df[column], name=column))\n",
        "\n",
        "iplot(fig)"
      ],
      "metadata": {
        "colab": {
          "base_uri": "https://localhost:8080/",
          "height": 542
        },
        "id": "o5YLmKTX6tRS",
        "outputId": "ed32cc63-9fa1-4b4e-f7d3-abc29014510b"
      },
      "execution_count": 101,
      "outputs": [
        {
          "output_type": "display_data",
          "data": {
            "application/vnd.plotly.v1+json": {
              "data": [
                {
                  "name": "A",
                  "x": {
                    "dtype": "i2",
                    "bdata": "zgCo/83/qf/C/5f/o/9XAFIAJv9mAPQAlQBOAOIA6/9AAN0AbgAS/6P/FP8h/x7/z/80/9v/UwBf/1n/9QCA/0gAof8bAIoAHQBKACP/lP8hADoAv/+zAOn/qf9l/8IAZP/S/zv/qQC0/zAAxAAd/2L//v/eAIP/mAAn/xv/KgB3AK8AjQAv/6X/pgASAN4A3/9//3r/Ff9Q/+7/ff8vACUAyQAbAM///v9f/94AIQCGAIf/Rv/T/3v/cv8//yn/pP/VAI0AdgA="
                  },
                  "type": "histogram"
                },
                {
                  "name": "B",
                  "x": {
                    "dtype": "i2",
                    "bdata": "CP8J/zIAuP9EAOYAYQAYAIX/Uf8GAJ0AMADt/7YASv8q/9kA7ADz/7z/ZP/o/0j/H/+cAMYA0//EAOkAX/9SAMMAPwCi/xj/af8nAHIAhACf/z8AgP85/7UA1gDJ/27/fwCmAJz/owArAEsAGQDtADX/nf+K/8//8f/v/yn/4QBoAPIA4gD1/4wABQCFANn/4ADRAPH/tgDh/37/BwAMALb/5gBKAC8ACf8CAJ0Axv9u/3gAlv90AK//AQDfANwAI/8W/5gAZP8="
                  },
                  "type": "histogram"
                },
                {
                  "name": "C",
                  "x": {
                    "dtype": "i2",
                    "bdata": "UgAp/3QASP/g/wsAZAB/AM//fAB9AK3/LP9SADMAg/+uAOD/BgCLAI0APf+fAFIA6f92/8MAFACy/+L/1/8KAJwA+f8PAGn/3gDJ/w4AEv8Z/8j/fACYAFcAdv86/yIAE/+6/3QALAB5AB4AKQDCAJH/jgAt/yQAjv+QAHP/Y//3//cAyv92/7IAWP87AIv/HQAKAHsAkP8U/+AAwABqANH/3v+c/7T/N/+J/x7/Zv9UAFoAkADf/8MAsv+xAJ4Ai/9s/xz/g/8="
                  },
                  "type": "histogram"
                },
                {
                  "name": "D",
                  "x": {
                    "dtype": "i2",
                    "bdata": "uP9SAIX/Xv8zAIoAhf8DAJb/IACh/xX/QAAiAGAARgD2AP7/WP/JAC3/iwDEAOj/0v86ABP/0/8S/zb/Hv90AE8A6P9v/4AAlP8a/6kAO/+FAOkAfgAM/x3/owBOABwArgDk/5z/1/9lAMUAgf+0AG//hACX/wkAJv80AEP/3f9M/z7/Kv9GAJUAIwBiAPAAXwAy/9P/av/h/3P/f/8o/3T/wAA6AJb/JgBF/9MAXgAT/4gAvwAKALz/Uf/wAOwAIv/A/2j/N/8="
                  },
                  "type": "histogram"
                }
              ],
              "layout": {
                "template": {
                  "data": {
                    "barpolar": [
                      {
                        "marker": {
                          "line": {
                            "color": "#E5ECF6",
                            "width": 0.5
                          },
                          "pattern": {
                            "fillmode": "overlay",
                            "size": 10,
                            "solidity": 0.2
                          }
                        },
                        "type": "barpolar"
                      }
                    ],
                    "bar": [
                      {
                        "error_x": {
                          "color": "#2a3f5f"
                        },
                        "error_y": {
                          "color": "#2a3f5f"
                        },
                        "marker": {
                          "line": {
                            "color": "#E5ECF6",
                            "width": 0.5
                          },
                          "pattern": {
                            "fillmode": "overlay",
                            "size": 10,
                            "solidity": 0.2
                          }
                        },
                        "type": "bar"
                      }
                    ],
                    "carpet": [
                      {
                        "aaxis": {
                          "endlinecolor": "#2a3f5f",
                          "gridcolor": "white",
                          "linecolor": "white",
                          "minorgridcolor": "white",
                          "startlinecolor": "#2a3f5f"
                        },
                        "baxis": {
                          "endlinecolor": "#2a3f5f",
                          "gridcolor": "white",
                          "linecolor": "white",
                          "minorgridcolor": "white",
                          "startlinecolor": "#2a3f5f"
                        },
                        "type": "carpet"
                      }
                    ],
                    "choropleth": [
                      {
                        "colorbar": {
                          "outlinewidth": 0,
                          "ticks": ""
                        },
                        "type": "choropleth"
                      }
                    ],
                    "contourcarpet": [
                      {
                        "colorbar": {
                          "outlinewidth": 0,
                          "ticks": ""
                        },
                        "type": "contourcarpet"
                      }
                    ],
                    "contour": [
                      {
                        "colorbar": {
                          "outlinewidth": 0,
                          "ticks": ""
                        },
                        "colorscale": [
                          [
                            0,
                            "#0d0887"
                          ],
                          [
                            0.1111111111111111,
                            "#46039f"
                          ],
                          [
                            0.2222222222222222,
                            "#7201a8"
                          ],
                          [
                            0.3333333333333333,
                            "#9c179e"
                          ],
                          [
                            0.4444444444444444,
                            "#bd3786"
                          ],
                          [
                            0.5555555555555556,
                            "#d8576b"
                          ],
                          [
                            0.6666666666666666,
                            "#ed7953"
                          ],
                          [
                            0.7777777777777778,
                            "#fb9f3a"
                          ],
                          [
                            0.8888888888888888,
                            "#fdca26"
                          ],
                          [
                            1,
                            "#f0f921"
                          ]
                        ],
                        "type": "contour"
                      }
                    ],
                    "heatmap": [
                      {
                        "colorbar": {
                          "outlinewidth": 0,
                          "ticks": ""
                        },
                        "colorscale": [
                          [
                            0,
                            "#0d0887"
                          ],
                          [
                            0.1111111111111111,
                            "#46039f"
                          ],
                          [
                            0.2222222222222222,
                            "#7201a8"
                          ],
                          [
                            0.3333333333333333,
                            "#9c179e"
                          ],
                          [
                            0.4444444444444444,
                            "#bd3786"
                          ],
                          [
                            0.5555555555555556,
                            "#d8576b"
                          ],
                          [
                            0.6666666666666666,
                            "#ed7953"
                          ],
                          [
                            0.7777777777777778,
                            "#fb9f3a"
                          ],
                          [
                            0.8888888888888888,
                            "#fdca26"
                          ],
                          [
                            1,
                            "#f0f921"
                          ]
                        ],
                        "type": "heatmap"
                      }
                    ],
                    "histogram2dcontour": [
                      {
                        "colorbar": {
                          "outlinewidth": 0,
                          "ticks": ""
                        },
                        "colorscale": [
                          [
                            0,
                            "#0d0887"
                          ],
                          [
                            0.1111111111111111,
                            "#46039f"
                          ],
                          [
                            0.2222222222222222,
                            "#7201a8"
                          ],
                          [
                            0.3333333333333333,
                            "#9c179e"
                          ],
                          [
                            0.4444444444444444,
                            "#bd3786"
                          ],
                          [
                            0.5555555555555556,
                            "#d8576b"
                          ],
                          [
                            0.6666666666666666,
                            "#ed7953"
                          ],
                          [
                            0.7777777777777778,
                            "#fb9f3a"
                          ],
                          [
                            0.8888888888888888,
                            "#fdca26"
                          ],
                          [
                            1,
                            "#f0f921"
                          ]
                        ],
                        "type": "histogram2dcontour"
                      }
                    ],
                    "histogram2d": [
                      {
                        "colorbar": {
                          "outlinewidth": 0,
                          "ticks": ""
                        },
                        "colorscale": [
                          [
                            0,
                            "#0d0887"
                          ],
                          [
                            0.1111111111111111,
                            "#46039f"
                          ],
                          [
                            0.2222222222222222,
                            "#7201a8"
                          ],
                          [
                            0.3333333333333333,
                            "#9c179e"
                          ],
                          [
                            0.4444444444444444,
                            "#bd3786"
                          ],
                          [
                            0.5555555555555556,
                            "#d8576b"
                          ],
                          [
                            0.6666666666666666,
                            "#ed7953"
                          ],
                          [
                            0.7777777777777778,
                            "#fb9f3a"
                          ],
                          [
                            0.8888888888888888,
                            "#fdca26"
                          ],
                          [
                            1,
                            "#f0f921"
                          ]
                        ],
                        "type": "histogram2d"
                      }
                    ],
                    "histogram": [
                      {
                        "marker": {
                          "pattern": {
                            "fillmode": "overlay",
                            "size": 10,
                            "solidity": 0.2
                          }
                        },
                        "type": "histogram"
                      }
                    ],
                    "mesh3d": [
                      {
                        "colorbar": {
                          "outlinewidth": 0,
                          "ticks": ""
                        },
                        "type": "mesh3d"
                      }
                    ],
                    "parcoords": [
                      {
                        "line": {
                          "colorbar": {
                            "outlinewidth": 0,
                            "ticks": ""
                          }
                        },
                        "type": "parcoords"
                      }
                    ],
                    "pie": [
                      {
                        "automargin": true,
                        "type": "pie"
                      }
                    ],
                    "scatter3d": [
                      {
                        "line": {
                          "colorbar": {
                            "outlinewidth": 0,
                            "ticks": ""
                          }
                        },
                        "marker": {
                          "colorbar": {
                            "outlinewidth": 0,
                            "ticks": ""
                          }
                        },
                        "type": "scatter3d"
                      }
                    ],
                    "scattercarpet": [
                      {
                        "marker": {
                          "colorbar": {
                            "outlinewidth": 0,
                            "ticks": ""
                          }
                        },
                        "type": "scattercarpet"
                      }
                    ],
                    "scattergeo": [
                      {
                        "marker": {
                          "colorbar": {
                            "outlinewidth": 0,
                            "ticks": ""
                          }
                        },
                        "type": "scattergeo"
                      }
                    ],
                    "scattergl": [
                      {
                        "marker": {
                          "colorbar": {
                            "outlinewidth": 0,
                            "ticks": ""
                          }
                        },
                        "type": "scattergl"
                      }
                    ],
                    "scattermapbox": [
                      {
                        "marker": {
                          "colorbar": {
                            "outlinewidth": 0,
                            "ticks": ""
                          }
                        },
                        "type": "scattermapbox"
                      }
                    ],
                    "scattermap": [
                      {
                        "marker": {
                          "colorbar": {
                            "outlinewidth": 0,
                            "ticks": ""
                          }
                        },
                        "type": "scattermap"
                      }
                    ],
                    "scatterpolargl": [
                      {
                        "marker": {
                          "colorbar": {
                            "outlinewidth": 0,
                            "ticks": ""
                          }
                        },
                        "type": "scatterpolargl"
                      }
                    ],
                    "scatterpolar": [
                      {
                        "marker": {
                          "colorbar": {
                            "outlinewidth": 0,
                            "ticks": ""
                          }
                        },
                        "type": "scatterpolar"
                      }
                    ],
                    "scatter": [
                      {
                        "fillpattern": {
                          "fillmode": "overlay",
                          "size": 10,
                          "solidity": 0.2
                        },
                        "type": "scatter"
                      }
                    ],
                    "scatterternary": [
                      {
                        "marker": {
                          "colorbar": {
                            "outlinewidth": 0,
                            "ticks": ""
                          }
                        },
                        "type": "scatterternary"
                      }
                    ],
                    "surface": [
                      {
                        "colorbar": {
                          "outlinewidth": 0,
                          "ticks": ""
                        },
                        "colorscale": [
                          [
                            0,
                            "#0d0887"
                          ],
                          [
                            0.1111111111111111,
                            "#46039f"
                          ],
                          [
                            0.2222222222222222,
                            "#7201a8"
                          ],
                          [
                            0.3333333333333333,
                            "#9c179e"
                          ],
                          [
                            0.4444444444444444,
                            "#bd3786"
                          ],
                          [
                            0.5555555555555556,
                            "#d8576b"
                          ],
                          [
                            0.6666666666666666,
                            "#ed7953"
                          ],
                          [
                            0.7777777777777778,
                            "#fb9f3a"
                          ],
                          [
                            0.8888888888888888,
                            "#fdca26"
                          ],
                          [
                            1,
                            "#f0f921"
                          ]
                        ],
                        "type": "surface"
                      }
                    ],
                    "table": [
                      {
                        "cells": {
                          "fill": {
                            "color": "#EBF0F8"
                          },
                          "line": {
                            "color": "white"
                          }
                        },
                        "header": {
                          "fill": {
                            "color": "#C8D4E3"
                          },
                          "line": {
                            "color": "white"
                          }
                        },
                        "type": "table"
                      }
                    ]
                  },
                  "layout": {
                    "annotationdefaults": {
                      "arrowcolor": "#2a3f5f",
                      "arrowhead": 0,
                      "arrowwidth": 1
                    },
                    "autotypenumbers": "strict",
                    "coloraxis": {
                      "colorbar": {
                        "outlinewidth": 0,
                        "ticks": ""
                      }
                    },
                    "colorscale": {
                      "diverging": [
                        [
                          0,
                          "#8e0152"
                        ],
                        [
                          0.1,
                          "#c51b7d"
                        ],
                        [
                          0.2,
                          "#de77ae"
                        ],
                        [
                          0.3,
                          "#f1b6da"
                        ],
                        [
                          0.4,
                          "#fde0ef"
                        ],
                        [
                          0.5,
                          "#f7f7f7"
                        ],
                        [
                          0.6,
                          "#e6f5d0"
                        ],
                        [
                          0.7,
                          "#b8e186"
                        ],
                        [
                          0.8,
                          "#7fbc41"
                        ],
                        [
                          0.9,
                          "#4d9221"
                        ],
                        [
                          1,
                          "#276419"
                        ]
                      ],
                      "sequential": [
                        [
                          0,
                          "#0d0887"
                        ],
                        [
                          0.1111111111111111,
                          "#46039f"
                        ],
                        [
                          0.2222222222222222,
                          "#7201a8"
                        ],
                        [
                          0.3333333333333333,
                          "#9c179e"
                        ],
                        [
                          0.4444444444444444,
                          "#bd3786"
                        ],
                        [
                          0.5555555555555556,
                          "#d8576b"
                        ],
                        [
                          0.6666666666666666,
                          "#ed7953"
                        ],
                        [
                          0.7777777777777778,
                          "#fb9f3a"
                        ],
                        [
                          0.8888888888888888,
                          "#fdca26"
                        ],
                        [
                          1,
                          "#f0f921"
                        ]
                      ],
                      "sequentialminus": [
                        [
                          0,
                          "#0d0887"
                        ],
                        [
                          0.1111111111111111,
                          "#46039f"
                        ],
                        [
                          0.2222222222222222,
                          "#7201a8"
                        ],
                        [
                          0.3333333333333333,
                          "#9c179e"
                        ],
                        [
                          0.4444444444444444,
                          "#bd3786"
                        ],
                        [
                          0.5555555555555556,
                          "#d8576b"
                        ],
                        [
                          0.6666666666666666,
                          "#ed7953"
                        ],
                        [
                          0.7777777777777778,
                          "#fb9f3a"
                        ],
                        [
                          0.8888888888888888,
                          "#fdca26"
                        ],
                        [
                          1,
                          "#f0f921"
                        ]
                      ]
                    },
                    "colorway": [
                      "#636efa",
                      "#EF553B",
                      "#00cc96",
                      "#ab63fa",
                      "#FFA15A",
                      "#19d3f3",
                      "#FF6692",
                      "#B6E880",
                      "#FF97FF",
                      "#FECB52"
                    ],
                    "font": {
                      "color": "#2a3f5f"
                    },
                    "geo": {
                      "bgcolor": "white",
                      "lakecolor": "white",
                      "landcolor": "#E5ECF6",
                      "showlakes": true,
                      "showland": true,
                      "subunitcolor": "white"
                    },
                    "hoverlabel": {
                      "align": "left"
                    },
                    "hovermode": "closest",
                    "mapbox": {
                      "style": "light"
                    },
                    "paper_bgcolor": "white",
                    "plot_bgcolor": "#E5ECF6",
                    "polar": {
                      "angularaxis": {
                        "gridcolor": "white",
                        "linecolor": "white",
                        "ticks": ""
                      },
                      "bgcolor": "#E5ECF6",
                      "radialaxis": {
                        "gridcolor": "white",
                        "linecolor": "white",
                        "ticks": ""
                      }
                    },
                    "scene": {
                      "xaxis": {
                        "backgroundcolor": "#E5ECF6",
                        "gridcolor": "white",
                        "gridwidth": 2,
                        "linecolor": "white",
                        "showbackground": true,
                        "ticks": "",
                        "zerolinecolor": "white"
                      },
                      "yaxis": {
                        "backgroundcolor": "#E5ECF6",
                        "gridcolor": "white",
                        "gridwidth": 2,
                        "linecolor": "white",
                        "showbackground": true,
                        "ticks": "",
                        "zerolinecolor": "white"
                      },
                      "zaxis": {
                        "backgroundcolor": "#E5ECF6",
                        "gridcolor": "white",
                        "gridwidth": 2,
                        "linecolor": "white",
                        "showbackground": true,
                        "ticks": "",
                        "zerolinecolor": "white"
                      }
                    },
                    "shapedefaults": {
                      "line": {
                        "color": "#2a3f5f"
                      }
                    },
                    "ternary": {
                      "aaxis": {
                        "gridcolor": "white",
                        "linecolor": "white",
                        "ticks": ""
                      },
                      "baxis": {
                        "gridcolor": "white",
                        "linecolor": "white",
                        "ticks": ""
                      },
                      "bgcolor": "#E5ECF6",
                      "caxis": {
                        "gridcolor": "white",
                        "linecolor": "white",
                        "ticks": ""
                      }
                    },
                    "title": {
                      "x": 0.05
                    },
                    "xaxis": {
                      "automargin": true,
                      "gridcolor": "white",
                      "linecolor": "white",
                      "ticks": "",
                      "title": {
                        "standoff": 15
                      },
                      "zerolinecolor": "white",
                      "zerolinewidth": 2
                    },
                    "yaxis": {
                      "automargin": true,
                      "gridcolor": "white",
                      "linecolor": "white",
                      "ticks": "",
                      "title": {
                        "standoff": 15
                      },
                      "zerolinecolor": "white",
                      "zerolinewidth": 2
                    }
                  }
                }
              },
              "config": {
                "showLink": false,
                "linkText": "Export to plot.ly",
                "plotlyServerURL": "https://plot.ly"
              }
            },
            "text/html": [
              "<div>            <script src=\"https://cdnjs.cloudflare.com/ajax/libs/mathjax/2.7.5/MathJax.js?config=TeX-AMS-MML_SVG\"></script><script type=\"text/javascript\">if (window.MathJax && window.MathJax.Hub && window.MathJax.Hub.Config) {window.MathJax.Hub.Config({SVG: {font: \"STIX-Web\"}});}</script>                <script type=\"text/javascript\">window.PlotlyConfig = {MathJaxConfig: 'local'};</script>\n",
              "        <script charset=\"utf-8\" src=\"https://cdn.plot.ly/plotly-3.0.1.min.js\"></script>                <div id=\"1667375f-d072-47ae-ad65-c864d29d17a0\" class=\"plotly-graph-div\" style=\"height:525px; width:100%;\"></div>            <script type=\"text/javascript\">                window.PLOTLYENV=window.PLOTLYENV || {};                                if (document.getElementById(\"1667375f-d072-47ae-ad65-c864d29d17a0\")) {                    Plotly.newPlot(                        \"1667375f-d072-47ae-ad65-c864d29d17a0\",                        [{\"name\":\"A\",\"x\":{\"dtype\":\"i2\",\"bdata\":\"zgCo\\u002f83\\u002fqf\\u002fC\\u002f5f\\u002fo\\u002f9XAFIAJv9mAPQAlQBOAOIA6\\u002f9AAN0AbgAS\\u002f6P\\u002fFP8h\\u002fx7\\u002fz\\u002f80\\u002f9v\\u002fUwBf\\u002f1n\\u002f9QCA\\u002f0gAof8bAIoAHQBKACP\\u002flP8hADoAv\\u002f+zAOn\\u002fqf9l\\u002f8IAZP\\u002fS\\u002fzv\\u002fqQC0\\u002fzAAxAAd\\u002f2L\\u002f\\u002fv\\u002feAIP\\u002fmAAn\\u002fxv\\u002fKgB3AK8AjQAv\\u002f6X\\u002fpgASAN4A3\\u002f9\\u002f\\u002f3r\\u002fFf9Q\\u002f+7\\u002fff8vACUAyQAbAM\\u002f\\u002f\\u002fv9f\\u002f94AIQCGAIf\\u002fRv\\u002fT\\u002f3v\\u002fcv8\\u002f\\u002fyn\\u002fpP\\u002fVAI0AdgA=\"},\"type\":\"histogram\"},{\"name\":\"B\",\"x\":{\"dtype\":\"i2\",\"bdata\":\"CP8J\\u002fzIAuP9EAOYAYQAYAIX\\u002fUf8GAJ0AMADt\\u002f7YASv8q\\u002f9kA7ADz\\u002f7z\\u002fZP\\u002fo\\u002f0j\\u002fH\\u002f+cAMYA0\\u002f\\u002fEAOkAX\\u002f9SAMMAPwCi\\u002fxj\\u002faf8nAHIAhACf\\u002fz8AgP85\\u002f7UA1gDJ\\u002f27\\u002ffwCmAJz\\u002fowArAEsAGQDtADX\\u002fnf+K\\u002f8\\u002f\\u002f8f\\u002fv\\u002fyn\\u002f4QBoAPIA4gD1\\u002f4wABQCFANn\\u002f4ADRAPH\\u002ftgDh\\u002f37\\u002fBwAMALb\\u002f5gBKAC8ACf8CAJ0Axv9u\\u002f3gAlv90AK\\u002f\\u002fAQDfANwAI\\u002f8W\\u002f5gAZP8=\"},\"type\":\"histogram\"},{\"name\":\"C\",\"x\":{\"dtype\":\"i2\",\"bdata\":\"UgAp\\u002f3QASP\\u002fg\\u002fwsAZAB\\u002fAM\\u002f\\u002ffAB9AK3\\u002fLP9SADMAg\\u002f+uAOD\\u002fBgCLAI0APf+fAFIA6f92\\u002f8MAFACy\\u002f+L\\u002f1\\u002f8KAJwA+f8PAGn\\u002f3gDJ\\u002fw4AEv8Z\\u002f8j\\u002ffACYAFcAdv86\\u002fyIAE\\u002f+6\\u002f3QALAB5AB4AKQDCAJH\\u002fjgAt\\u002fyQAjv+QAHP\\u002fY\\u002f\\u002f3\\u002f\\u002fcAyv92\\u002f7IAWP87AIv\\u002fHQAKAHsAkP8U\\u002f+AAwABqANH\\u002f3v+c\\u002f7T\\u002fN\\u002f+J\\u002fx7\\u002fZv9UAFoAkADf\\u002f8MAsv+xAJ4Ai\\u002f9s\\u002fxz\\u002fg\\u002f8=\"},\"type\":\"histogram\"},{\"name\":\"D\",\"x\":{\"dtype\":\"i2\",\"bdata\":\"uP9SAIX\\u002fXv8zAIoAhf8DAJb\\u002fIACh\\u002fxX\\u002fQAAiAGAARgD2AP7\\u002fWP\\u002fJAC3\\u002fiwDEAOj\\u002f0v86ABP\\u002f0\\u002f8S\\u002fzb\\u002fHv90AE8A6P9v\\u002f4AAlP8a\\u002f6kAO\\u002f+FAOkAfgAM\\u002fx3\\u002fowBOABwArgDk\\u002f5z\\u002f1\\u002f9lAMUAgf+0AG\\u002f\\u002fhACX\\u002fwkAJv80AEP\\u002f3f9M\\u002fz7\\u002fKv9GAJUAIwBiAPAAXwAy\\u002f9P\\u002fav\\u002fh\\u002f3P\\u002ff\\u002f8o\\u002f3T\\u002fwAA6AJb\\u002fJgBF\\u002f9MAXgAT\\u002f4gAvwAKALz\\u002fUf\\u002fwAOwAIv\\u002fA\\u002f2j\\u002fN\\u002f8=\"},\"type\":\"histogram\"}],                        {\"template\":{\"data\":{\"barpolar\":[{\"marker\":{\"line\":{\"color\":\"#E5ECF6\",\"width\":0.5},\"pattern\":{\"fillmode\":\"overlay\",\"size\":10,\"solidity\":0.2}},\"type\":\"barpolar\"}],\"bar\":[{\"error_x\":{\"color\":\"#2a3f5f\"},\"error_y\":{\"color\":\"#2a3f5f\"},\"marker\":{\"line\":{\"color\":\"#E5ECF6\",\"width\":0.5},\"pattern\":{\"fillmode\":\"overlay\",\"size\":10,\"solidity\":0.2}},\"type\":\"bar\"}],\"carpet\":[{\"aaxis\":{\"endlinecolor\":\"#2a3f5f\",\"gridcolor\":\"white\",\"linecolor\":\"white\",\"minorgridcolor\":\"white\",\"startlinecolor\":\"#2a3f5f\"},\"baxis\":{\"endlinecolor\":\"#2a3f5f\",\"gridcolor\":\"white\",\"linecolor\":\"white\",\"minorgridcolor\":\"white\",\"startlinecolor\":\"#2a3f5f\"},\"type\":\"carpet\"}],\"choropleth\":[{\"colorbar\":{\"outlinewidth\":0,\"ticks\":\"\"},\"type\":\"choropleth\"}],\"contourcarpet\":[{\"colorbar\":{\"outlinewidth\":0,\"ticks\":\"\"},\"type\":\"contourcarpet\"}],\"contour\":[{\"colorbar\":{\"outlinewidth\":0,\"ticks\":\"\"},\"colorscale\":[[0.0,\"#0d0887\"],[0.1111111111111111,\"#46039f\"],[0.2222222222222222,\"#7201a8\"],[0.3333333333333333,\"#9c179e\"],[0.4444444444444444,\"#bd3786\"],[0.5555555555555556,\"#d8576b\"],[0.6666666666666666,\"#ed7953\"],[0.7777777777777778,\"#fb9f3a\"],[0.8888888888888888,\"#fdca26\"],[1.0,\"#f0f921\"]],\"type\":\"contour\"}],\"heatmap\":[{\"colorbar\":{\"outlinewidth\":0,\"ticks\":\"\"},\"colorscale\":[[0.0,\"#0d0887\"],[0.1111111111111111,\"#46039f\"],[0.2222222222222222,\"#7201a8\"],[0.3333333333333333,\"#9c179e\"],[0.4444444444444444,\"#bd3786\"],[0.5555555555555556,\"#d8576b\"],[0.6666666666666666,\"#ed7953\"],[0.7777777777777778,\"#fb9f3a\"],[0.8888888888888888,\"#fdca26\"],[1.0,\"#f0f921\"]],\"type\":\"heatmap\"}],\"histogram2dcontour\":[{\"colorbar\":{\"outlinewidth\":0,\"ticks\":\"\"},\"colorscale\":[[0.0,\"#0d0887\"],[0.1111111111111111,\"#46039f\"],[0.2222222222222222,\"#7201a8\"],[0.3333333333333333,\"#9c179e\"],[0.4444444444444444,\"#bd3786\"],[0.5555555555555556,\"#d8576b\"],[0.6666666666666666,\"#ed7953\"],[0.7777777777777778,\"#fb9f3a\"],[0.8888888888888888,\"#fdca26\"],[1.0,\"#f0f921\"]],\"type\":\"histogram2dcontour\"}],\"histogram2d\":[{\"colorbar\":{\"outlinewidth\":0,\"ticks\":\"\"},\"colorscale\":[[0.0,\"#0d0887\"],[0.1111111111111111,\"#46039f\"],[0.2222222222222222,\"#7201a8\"],[0.3333333333333333,\"#9c179e\"],[0.4444444444444444,\"#bd3786\"],[0.5555555555555556,\"#d8576b\"],[0.6666666666666666,\"#ed7953\"],[0.7777777777777778,\"#fb9f3a\"],[0.8888888888888888,\"#fdca26\"],[1.0,\"#f0f921\"]],\"type\":\"histogram2d\"}],\"histogram\":[{\"marker\":{\"pattern\":{\"fillmode\":\"overlay\",\"size\":10,\"solidity\":0.2}},\"type\":\"histogram\"}],\"mesh3d\":[{\"colorbar\":{\"outlinewidth\":0,\"ticks\":\"\"},\"type\":\"mesh3d\"}],\"parcoords\":[{\"line\":{\"colorbar\":{\"outlinewidth\":0,\"ticks\":\"\"}},\"type\":\"parcoords\"}],\"pie\":[{\"automargin\":true,\"type\":\"pie\"}],\"scatter3d\":[{\"line\":{\"colorbar\":{\"outlinewidth\":0,\"ticks\":\"\"}},\"marker\":{\"colorbar\":{\"outlinewidth\":0,\"ticks\":\"\"}},\"type\":\"scatter3d\"}],\"scattercarpet\":[{\"marker\":{\"colorbar\":{\"outlinewidth\":0,\"ticks\":\"\"}},\"type\":\"scattercarpet\"}],\"scattergeo\":[{\"marker\":{\"colorbar\":{\"outlinewidth\":0,\"ticks\":\"\"}},\"type\":\"scattergeo\"}],\"scattergl\":[{\"marker\":{\"colorbar\":{\"outlinewidth\":0,\"ticks\":\"\"}},\"type\":\"scattergl\"}],\"scattermapbox\":[{\"marker\":{\"colorbar\":{\"outlinewidth\":0,\"ticks\":\"\"}},\"type\":\"scattermapbox\"}],\"scattermap\":[{\"marker\":{\"colorbar\":{\"outlinewidth\":0,\"ticks\":\"\"}},\"type\":\"scattermap\"}],\"scatterpolargl\":[{\"marker\":{\"colorbar\":{\"outlinewidth\":0,\"ticks\":\"\"}},\"type\":\"scatterpolargl\"}],\"scatterpolar\":[{\"marker\":{\"colorbar\":{\"outlinewidth\":0,\"ticks\":\"\"}},\"type\":\"scatterpolar\"}],\"scatter\":[{\"fillpattern\":{\"fillmode\":\"overlay\",\"size\":10,\"solidity\":0.2},\"type\":\"scatter\"}],\"scatterternary\":[{\"marker\":{\"colorbar\":{\"outlinewidth\":0,\"ticks\":\"\"}},\"type\":\"scatterternary\"}],\"surface\":[{\"colorbar\":{\"outlinewidth\":0,\"ticks\":\"\"},\"colorscale\":[[0.0,\"#0d0887\"],[0.1111111111111111,\"#46039f\"],[0.2222222222222222,\"#7201a8\"],[0.3333333333333333,\"#9c179e\"],[0.4444444444444444,\"#bd3786\"],[0.5555555555555556,\"#d8576b\"],[0.6666666666666666,\"#ed7953\"],[0.7777777777777778,\"#fb9f3a\"],[0.8888888888888888,\"#fdca26\"],[1.0,\"#f0f921\"]],\"type\":\"surface\"}],\"table\":[{\"cells\":{\"fill\":{\"color\":\"#EBF0F8\"},\"line\":{\"color\":\"white\"}},\"header\":{\"fill\":{\"color\":\"#C8D4E3\"},\"line\":{\"color\":\"white\"}},\"type\":\"table\"}]},\"layout\":{\"annotationdefaults\":{\"arrowcolor\":\"#2a3f5f\",\"arrowhead\":0,\"arrowwidth\":1},\"autotypenumbers\":\"strict\",\"coloraxis\":{\"colorbar\":{\"outlinewidth\":0,\"ticks\":\"\"}},\"colorscale\":{\"diverging\":[[0,\"#8e0152\"],[0.1,\"#c51b7d\"],[0.2,\"#de77ae\"],[0.3,\"#f1b6da\"],[0.4,\"#fde0ef\"],[0.5,\"#f7f7f7\"],[0.6,\"#e6f5d0\"],[0.7,\"#b8e186\"],[0.8,\"#7fbc41\"],[0.9,\"#4d9221\"],[1,\"#276419\"]],\"sequential\":[[0.0,\"#0d0887\"],[0.1111111111111111,\"#46039f\"],[0.2222222222222222,\"#7201a8\"],[0.3333333333333333,\"#9c179e\"],[0.4444444444444444,\"#bd3786\"],[0.5555555555555556,\"#d8576b\"],[0.6666666666666666,\"#ed7953\"],[0.7777777777777778,\"#fb9f3a\"],[0.8888888888888888,\"#fdca26\"],[1.0,\"#f0f921\"]],\"sequentialminus\":[[0.0,\"#0d0887\"],[0.1111111111111111,\"#46039f\"],[0.2222222222222222,\"#7201a8\"],[0.3333333333333333,\"#9c179e\"],[0.4444444444444444,\"#bd3786\"],[0.5555555555555556,\"#d8576b\"],[0.6666666666666666,\"#ed7953\"],[0.7777777777777778,\"#fb9f3a\"],[0.8888888888888888,\"#fdca26\"],[1.0,\"#f0f921\"]]},\"colorway\":[\"#636efa\",\"#EF553B\",\"#00cc96\",\"#ab63fa\",\"#FFA15A\",\"#19d3f3\",\"#FF6692\",\"#B6E880\",\"#FF97FF\",\"#FECB52\"],\"font\":{\"color\":\"#2a3f5f\"},\"geo\":{\"bgcolor\":\"white\",\"lakecolor\":\"white\",\"landcolor\":\"#E5ECF6\",\"showlakes\":true,\"showland\":true,\"subunitcolor\":\"white\"},\"hoverlabel\":{\"align\":\"left\"},\"hovermode\":\"closest\",\"mapbox\":{\"style\":\"light\"},\"paper_bgcolor\":\"white\",\"plot_bgcolor\":\"#E5ECF6\",\"polar\":{\"angularaxis\":{\"gridcolor\":\"white\",\"linecolor\":\"white\",\"ticks\":\"\"},\"bgcolor\":\"#E5ECF6\",\"radialaxis\":{\"gridcolor\":\"white\",\"linecolor\":\"white\",\"ticks\":\"\"}},\"scene\":{\"xaxis\":{\"backgroundcolor\":\"#E5ECF6\",\"gridcolor\":\"white\",\"gridwidth\":2,\"linecolor\":\"white\",\"showbackground\":true,\"ticks\":\"\",\"zerolinecolor\":\"white\"},\"yaxis\":{\"backgroundcolor\":\"#E5ECF6\",\"gridcolor\":\"white\",\"gridwidth\":2,\"linecolor\":\"white\",\"showbackground\":true,\"ticks\":\"\",\"zerolinecolor\":\"white\"},\"zaxis\":{\"backgroundcolor\":\"#E5ECF6\",\"gridcolor\":\"white\",\"gridwidth\":2,\"linecolor\":\"white\",\"showbackground\":true,\"ticks\":\"\",\"zerolinecolor\":\"white\"}},\"shapedefaults\":{\"line\":{\"color\":\"#2a3f5f\"}},\"ternary\":{\"aaxis\":{\"gridcolor\":\"white\",\"linecolor\":\"white\",\"ticks\":\"\"},\"baxis\":{\"gridcolor\":\"white\",\"linecolor\":\"white\",\"ticks\":\"\"},\"bgcolor\":\"#E5ECF6\",\"caxis\":{\"gridcolor\":\"white\",\"linecolor\":\"white\",\"ticks\":\"\"}},\"title\":{\"x\":0.05},\"xaxis\":{\"automargin\":true,\"gridcolor\":\"white\",\"linecolor\":\"white\",\"ticks\":\"\",\"title\":{\"standoff\":15},\"zerolinecolor\":\"white\",\"zerolinewidth\":2},\"yaxis\":{\"automargin\":true,\"gridcolor\":\"white\",\"linecolor\":\"white\",\"ticks\":\"\",\"title\":{\"standoff\":15},\"zerolinecolor\":\"white\",\"zerolinewidth\":2}}}},                        {\"responsive\": true}                    ).then(function(){\n",
              "                            \n",
              "var gd = document.getElementById('1667375f-d072-47ae-ad65-c864d29d17a0');\n",
              "var x = new MutationObserver(function (mutations, observer) {{\n",
              "        var display = window.getComputedStyle(gd).display;\n",
              "        if (!display || display === 'none') {{\n",
              "            console.log([gd, 'removed!']);\n",
              "            Plotly.purge(gd);\n",
              "            observer.disconnect();\n",
              "        }}\n",
              "}});\n",
              "\n",
              "// Listen for the removal of the full notebook cells\n",
              "var notebookContainer = gd.closest('#notebook-container');\n",
              "if (notebookContainer) {{\n",
              "    x.observe(notebookContainer, {childList: true});\n",
              "}}\n",
              "\n",
              "// Listen for the clearing of the current output cell\n",
              "var outputEl = gd.closest('.output');\n",
              "if (outputEl) {{\n",
              "    x.observe(outputEl, {childList: true});\n",
              "}}\n",
              "\n",
              "                        })                };            </script>        </div>"
            ]
          },
          "metadata": {}
        }
      ]
    },
    {
      "cell_type": "code",
      "source": [
        "#df[['A','B']].iplot(kind='spread')\n",
        "# Pendiente de solucionar"
      ],
      "metadata": {
        "id": "3ibpcfhJ8z2T"
      },
      "execution_count": 103,
      "outputs": []
    },
    {
      "cell_type": "markdown",
      "source": [
        "EL error en el entorno no me deja generar esta imagen. tengo que aprender más\n",
        "\n",
        "\n",
        "\n",
        "![image.png](data:image/png;base64,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)"
      ],
      "metadata": {
        "id": "CUqpVWSQ9j-o"
      }
    },
    {
      "cell_type": "code",
      "source": [
        "#df.iplot(kind='bubble', x='A', y='B', size='C')\n",
        "#pendiente de solucionar"
      ],
      "metadata": {
        "id": "MEjkQkMl69KF"
      },
      "execution_count": null,
      "outputs": []
    },
    {
      "cell_type": "markdown",
      "source": [],
      "metadata": {
        "id": "mLcri9JI-oDN"
      }
    },
    {
      "cell_type": "code",
      "source": [
        "# Create the spread chart between Series A and B\n",
        "fig = go.Figure()\n",
        "\n",
        "# Scatter plot of Series A vs. Series B\n",
        "fig.add_trace(go.Scatter(x=df['A'], y=df['B'], mode='markers', name='Data Points (A vs B)'))\n",
        "\n",
        "# Add a line of equality for reference (y=x)\n",
        "min_val = min(df['A'].min(), df['B'].min())\n",
        "max_val = max(df['A'].max(), df['B'].max())\n",
        "fig.add_trace(go.Scatter(x=[min_val, max_val], y=[min_val, max_val],\n",
        "                         mode='lines', name='Line of Equality',\n",
        "                         line=dict(color='gray', dash='dash')))\n",
        "\n",
        "# Add annotations to highlight the spread (optional)\n",
        "# Adjust the threshold based on your data's scale\n",
        "for i in range(len(df)):\n",
        "    spread = df['B'][i] - df['A'][i]\n",
        "    if abs(spread) > 1:  # Example threshold\n",
        "        fig.add_annotation(x=df['A'][i], y=df['B'][i],\n",
        "                             text=f'{spread:.2f}',\n",
        "                             showarrow=True,\n",
        "                             arrowhead=1,\n",
        "                             ax=20,\n",
        "                             ay=-20)\n",
        "\n",
        "fig.update_layout(\n",
        "    title='Spread Chart between Series A and B',\n",
        "    xaxis_title='Series A',\n",
        "    yaxis_title='Series B',\n",
        "    showlegend=True\n",
        ")\n",
        "\n",
        "iplot(fig)"
      ],
      "metadata": {
        "id": "6sZWGeml83LR"
      },
      "execution_count": null,
      "outputs": []
    },
    {
      "cell_type": "code",
      "source": [
        "# df[['A','B','C']].iplot(kind='surface')\n",
        "\n",
        "# pendiente de solucionar"
      ],
      "metadata": {
        "id": "HcocepXo9UfY"
      },
      "execution_count": null,
      "outputs": []
    },
    {
      "cell_type": "code",
      "source": [],
      "metadata": {
        "id": "BJyBpaH1_jQx"
      },
      "execution_count": null,
      "outputs": []
    }
  ]
}