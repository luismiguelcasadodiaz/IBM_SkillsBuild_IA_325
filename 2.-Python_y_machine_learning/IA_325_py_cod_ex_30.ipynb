{
  "nbformat": 4,
  "nbformat_minor": 0,
  "metadata": {
    "colab": {
      "provenance": [],
      "authorship_tag": "ABX9TyNbgC1/DaQ9sv259SnqtH8S",
      "include_colab_link": true
    },
    "kernelspec": {
      "name": "python3",
      "display_name": "Python 3"
    },
    "language_info": {
      "name": "python"
    }
  },
  "cells": [
    {
      "cell_type": "markdown",
      "metadata": {
        "id": "view-in-github",
        "colab_type": "text"
      },
      "source": [
        "<a href=\"https://colab.research.google.com/github/luismiguelcasadodiaz/IBM_SkillsBuild_IA_325/blob/main/IA_325_py_cod_ex_30.ipynb\" target=\"_parent\"><img src=\"https://colab.research.google.com/assets/colab-badge.svg\" alt=\"Open In Colab\"/></a>"
      ]
    },
    {
      "cell_type": "markdown",
      "source": [
        "#Clasificador de snacks saludables\n",
        "\n",
        "## Objetivo:\n",
        "\n",
        "En este ejercicio, aprenderás a crear un clasificador para predecir si un snack es saludable o no, basándote en características nutricionales como las calorías, azúcar, proteínas, grasas y fibra.\n",
        "\n",
        "Usaremos un árbol de decisión para crear un modelo que prediga si un snack es saludable en función de estos atributos.\n",
        "\n",
        "\n",
        "\n",
        "## Descripción:\n",
        "\n",
        "Imagina que trabajas en una aplicación de salud que recomienda snacks a los usuarios. Tienes acceso a un conjunto de datos que contiene información sobre varios snacks y su contenido nutricional.\n",
        "\n",
        "Usaremos estos datos para entrenar un modelo que pueda predecir si un snack es saludable basándose en sus atributos.\n",
        "\n",
        "\n",
        "\n",
        "## Pasos a seguir:\n",
        "\n",
        "### Creación de la clase Snack:\n",
        "  + Atributos:\n",
        "    + calories\n",
        "    + sugar\n",
        "    + protein\n",
        "    + fat\n",
        "    + fiber\n",
        "    + is_healthy(opcional), que será el resultado que queremos predecir (1 si el snack es saludable, 0 si no lo es).\n",
        "\n",
        "  + Métodos:\n",
        "    + to_vector() que convierta un snack en un vector de características (calorías, azúcar, proteínas, grasas, fibra).\n",
        "\n",
        "### Generación de Datos Sintéticos con la clase SnackGenerator:\n",
        "\n",
        "  + Crea una clase SnackGenerator que sea capaz de generar un conjunto de datos sintéticos con snacks. Esta clase debe crear entre 50 y 200 snacks con valores aleatorios para las características mencionadas.\n",
        "    + Atributos\n",
        "\n",
        "      + Calorías: entre 50 y 500.\n",
        "      + Azúcar: entre 0 y 50 gramos.\n",
        "      + Proteína: entre 0 y 30 gramos.\n",
        "      + Grasa: entre 0 y 30 gramos.\n",
        "      + Fibra: entre 0 y 15 gramos.\n",
        "\n",
        "  + La variable is_healthy debe seguir una regla aproximada: un snack es saludable si tiene menos de 200 calorías, menos de 15 gramos de azúcar, menos de 10 gramos de grasa, y al menos 5 gramos de proteína o fibra.\n",
        "\n",
        "### Clasificador de Snacks con Árbol de Decisión:\n",
        "\n",
        "  + Crea una clase SnackClassifier que use un árbol de decisión para clasificar los snacks.\n",
        "    + Métodos:\n",
        "\n",
        "      + fit(): entrenar el modelo usando un conjunto de snacks y sus etiquetas (is_healthy).\n",
        "\n",
        "      + predict(): predecir si un snack específico es saludable o no.\n",
        "\n",
        "### Crear un Ejemplo de Uso:\n",
        "\n",
        "+ Crea un objeto de la clase SnackRecommendationExample que entrene el clasificador utilizando el generador de snacks.\n",
        "\n",
        "+ Crea un snack de prueba con valores nutricionales conocidos, como 150 calorías, 10 gramos de azúcar, 6 gramos de proteína, 5 gramos de grasa y 3 gramos de fibra.\n",
        "\n",
        "+ Usa el clasificador para predecir si este snack es saludable y muestra la predicción.\n",
        "\n",
        "\n",
        "\n",
        "## Requisitos:\n",
        "\n",
        "+ **Uso de Árbol de Decisión**: Para realizar la clasificación, usa la librería sklearn y su DecisionTreeClassifier.\n",
        "\n",
        "+ **Generación de datos**: Usa numpy para generar valores aleatorios.\n",
        "\n",
        "+ **Impresión de resultados**: Imprime la información nutricional del snack de prueba junto con la predicción de si es saludable o no.\n",
        "\n",
        "\n",
        "\n",
        "## Resultado esperado:\n",
        "\n",
        "Al ejecutar el código, el sistema debe mostrar la información nutricional del snack de prueba y una predicción indicando si es saludable o no.\n",
        "\n",
        "### Ejemplo de uso\n",
        "```python\n",
        "# Ejecutar ejemplo\n",
        "example = SnackRecommendationExample()\n",
        "example.run()\n",
        "```\n",
        "### Salida esperada\n",
        "\n",
        "🔍 Snack Info:<br>\n",
        "Calories: 150, Sugar: 10g, Protein: 6g, Fat: 5g, Fiber: 3g<br>\n",
        "✅ Predicción: Este snack no es saludable.\n"
      ],
      "metadata": {
        "id": "wNiQSrhN2ZJE"
      }
    },
    {
      "cell_type": "code",
      "execution_count": null,
      "metadata": {
        "id": "C-ipJ_FH2O9o"
      },
      "outputs": [],
      "source": []
    }
  ]
}