{
  "nbformat": 4,
  "nbformat_minor": 0,
  "metadata": {
    "colab": {
      "provenance": [],
      "authorship_tag": "ABX9TyPgXcUiZTkHxmM7wRg3RDs0",
      "include_colab_link": true
    },
    "kernelspec": {
      "name": "python3",
      "display_name": "Python 3"
    },
    "language_info": {
      "name": "python"
    }
  },
  "cells": [
    {
      "cell_type": "markdown",
      "metadata": {
        "id": "view-in-github",
        "colab_type": "text"
      },
      "source": [
        "<a href=\"https://colab.research.google.com/github/luismiguelcasadodiaz/IBM_SkillsBuild_IA_325/blob/main/IA_325_py_cod_ex_42_s.ipynb\" target=\"_parent\"><img src=\"https://colab.research.google.com/assets/colab-badge.svg\" alt=\"Open In Colab\"/></a>"
      ]
    },
    {
      "cell_type": "markdown",
      "source": [
        "# Agrupar viajeros según sus preferencias\n",
        "\n",
        "\n",
        "## 🧠 Contexto\n",
        "\n",
        "Imagina que trabajas en una agencia de viajes internacional que recibe cientos de perfiles de clientes.\n",
        "\n",
        "Cada viajero indica cuánto le gustan distintos tipos de destinos:\n",
        "\n",
        "+ 🏖️ Playa\n",
        "\n",
        "+ 🏔️ Montaña\n",
        "\n",
        "+ 🏙️ Ciudad\n",
        "\n",
        "+ 🌄 Campo\n",
        "\n",
        "Tu misión es desarrollar un sistema que agrupe automáticamente a los viajeros en tres grandes tipos según sus gustos.\n",
        "\n",
        "Para lograrlo, utilizarás el algoritmo de K-Means Clustering de scikit-learn.\n",
        "\n",
        "\n",
        "\n",
        "## 🎯 Objetivo del ejercicio\n",
        "\n",
        "Debes implementar cuatro clases principales para estructurar tu solución:\n",
        "\n",
        "+ 1.  **Traveler** (almacena las preferencias de un viajero)\n",
        "\n",
        "  + Atributos:\n",
        "\n",
        "    + beach (int): preferencia por la playa (0–10)\n",
        "\n",
        "    + mountain (int): preferencia por la montaña (0–10)\n",
        "\n",
        "    + city (int): preferencia por la ciudad (0–10)\n",
        "\n",
        "    + countryside (int): preferencia por el campo (0–10)\n",
        "\n",
        "  + Método:\n",
        "\n",
        "    + to_vector(self) -> list: devuelve las preferencias del viajero como una lista [beach, mountain, city, countryside].\n",
        "\n",
        "\n",
        "\n",
        "+ 2. **TravelerGenerator** (genera viajeros aleatorios)\n",
        "\n",
        "  + Atributos:\n",
        "\n",
        "    + num_travelers (int): cantidad de viajeros a generar.\n",
        "\n",
        "  + Método:\n",
        "\n",
        "    + generate(self) -> list[Traveler]: genera una lista de objetos Traveler con preferencias aleatorias. Para cada preferencia, usa:   np.random.randint(0, 11)  # genera valores enteros entre 0 y 10 (inclusive)\n",
        "\n",
        "\n",
        "\n",
        "+ 3. **TravelerClusterer** (agrupa a los viajeros con K-Means)\n",
        "\n",
        "  + Atributos:\n",
        "\n",
        "    + model: instancia de KMeans con n_clusters=3 y random_state=42.\n",
        "\n",
        "  + Métodos:\n",
        "\n",
        "    + fit(self, travelers: list[Traveler]): entrena el modelo de KMeans con los vectores de preferencias.\n",
        "\n",
        "    + predict(self, traveler: Traveler) -> int: devuelve el número de clúster (0, 1 o 2) al que pertenece un nuevo viajero.\n",
        "\n",
        "    + get_cluster_centers(self) -> np.ndarray: retorna los centros de los clústeres calculados por el modelo.\n",
        "\n",
        "\n",
        "\n",
        "+ 4. **TravelerClusteringExample** (orquesta todo el flujo del ejemplo)\n",
        "\n",
        "  + Métodos:\n",
        "\n",
        "    + run(self): debe hacer lo siguiente:\n",
        "\n",
        "      + Generar 200 viajeros usando TravelerGenerator.\n",
        "\n",
        "      + Entrenar un modelo TravelerClusterer.\n",
        "\n",
        "      + Mostrar en pantalla los centros de los 3 clústeres, indicando el promedio de preferencias en cada uno.\n",
        "\n",
        "      + Crear un nuevo viajero personalizado, por ejemplo:\n",
        "\n",
        "      + new_traveler = Traveler(beach=9, mountain=2, city=8, countryside=1)\n",
        "\n",
        "      + Predecir a qué clúster pertenece ese viajero con predict.\n",
        "\n",
        "      + Mostrar en pantalla los resultados.\n",
        "\n",
        "\n",
        "\n",
        "## ✅ Ejemplo de uso\n",
        "```python\n",
        "\n",
        "# Ejecutar ejemplo\n",
        "example = TravelerClusteringExample()\n",
        "example.run()\n",
        "```\n",
        "\n",
        "## Salida esperada\n",
        "\n",
        "```python\n",
        "🏝️🏔️🏙️🌄 Cluster Centers (Preferencias promedio):\n",
        "Cluster 0: Playa=4.79, Montaña=5.16, Ciudad=7.79, Campo=7.82\n",
        "Cluster 1: Playa=5.11, Montaña=5.54, Ciudad=6.60, Campo=1.66\n",
        "Cluster 2: Playa=4.69, Montaña=5.23, Ciudad=1.46, Campo=6.16\n",
        "\n",
        "Interpretación aproximada:\n",
        "- Cluster con alta Playa y Ciudad: Viajero urbano y costero.\n",
        "- Cluster con alta Montaña y Campo: Amante de la naturaleza.\n",
        "- Cluster equilibrado: Viajero versátil o aventurero.\n",
        "\n",
        "🔍 Nuevo viajero con preferencias:\n",
        "Playa: 9, Montaña: 2, Ciudad: 8, Campo: 1\n",
        "📌 El nuevo viajero pertenece al grupo 1.\n",
        "```"
      ],
      "metadata": {
        "id": "5i7Sb2WgiaLt"
      }
    },
    {
      "cell_type": "markdown",
      "source": [
        "## Importación de librerías"
      ],
      "metadata": {
        "id": "czUCqWpbmOWS"
      }
    },
    {
      "cell_type": "code",
      "source": [
        "import numpy as np\n",
        "from sklearn.cluster import KMeans"
      ],
      "metadata": {
        "id": "F7MFGAhSmQXO"
      },
      "execution_count": 14,
      "outputs": []
    },
    {
      "cell_type": "markdown",
      "source": [
        "## Definición de la clase Traveler"
      ],
      "metadata": {
        "id": "3XvQ7bagmdcC"
      }
    },
    {
      "cell_type": "code",
      "source": [
        "class Traveler:\n",
        "  \"\"\"\n",
        "  Representa un viajero con preferencias por diferentes tipos de destinos.\n",
        "\n",
        "  Atributos:\n",
        "    beach (int): Preferencia por la playa (0-10).\n",
        "    mountain (int): Preferencia por la montaña (0-10).\n",
        "    city (int): Preferencia por la ciudad (0-10).\n",
        "    countryside (int): Preferencia por el campo (0-10).\n",
        "  \"\"\"\n",
        "  def __init__(self, beach: int, mountain: int, city: int, countryside: int):\n",
        "    \"\"\"\n",
        "    Inicializa un objeto Traveler.\n",
        "\n",
        "    Args:\n",
        "      beach (int): Preferencia por la playa (0-10).\n",
        "      mountain (int): Preferencia por la montaña (0-10).\n",
        "      city (int): Preferencia por la ciudad (0-10).\n",
        "      countryside (int): Preferencia por el campo (0-10).\n",
        "\n",
        "    Raises:\n",
        "      TypeError: Si alguno de los argumentos no es de tipo int.\n",
        "      ValueError: Si alguno de los argumentos está fuera del rango permitido (0-10).\n",
        "    \"\"\"\n",
        "    if not isinstance(beach, int) or not isinstance(mountain, int) or not isinstance(city, int) or not isinstance(countryside, int):\n",
        "      raise TypeError(\"Los argumentos deben ser de tipo int\")\n",
        "    if beach < 0 or beach > 10 or mountain < 0 or mountain > 10 or city < 0 or city > 10 or countryside < 0 or countryside > 10:\n",
        "      raise ValueError(\"Los argumentos deben estar entre 0 y 10\")\n",
        "    self.beach = beach\n",
        "    self.mountain = mountain\n",
        "    self.city = city\n",
        "    self.countryside = countryside\n",
        "  def to_vector(self)->list:\n",
        "    \"\"\"\n",
        "    Devuelve las preferencias del viajero como una lista.\n",
        "\n",
        "    Returns:\n",
        "      list: Una lista con las preferencias [beach, mountain, city, countryside].\n",
        "    \"\"\"\n",
        "    return [self.beach, self.mountain, self.city, self.countryside]\n",
        "  def __str__(self):\n",
        "    \"\"\"\n",
        "    Devuelve una representación en cadena del objeto Traveler.\n",
        "\n",
        "    Returns:\n",
        "      str: Una cadena con las preferencias del viajero.\n",
        "    \"\"\"\n",
        "    return f\"Beach: {self.beach}, Mountain: {self.mountain}, City: {self.city}, Countryside: {self.countryside}\""
      ],
      "metadata": {
        "id": "_Hz6pDZ8miUF"
      },
      "execution_count": 15,
      "outputs": []
    },
    {
      "cell_type": "markdown",
      "source": [
        "## Definición de la clase TravelerGenerator"
      ],
      "metadata": {
        "id": "5kCZQV1-nh2E"
      }
    },
    {
      "cell_type": "code",
      "source": [
        "class TravelerGenerator:\n",
        "  def __init__(self, num_travelers: int):\n",
        "    \"\"\"\n",
        "    Inicializa un generador de viajeros.\n",
        "\n",
        "    Args:\n",
        "      num_travelers (int): Cantidad de viajeros a generar.\n",
        "    \"\"\"\n",
        "    self.num_travelers = num_travelers\n",
        "  def generate(self)->list[Traveler]:\n",
        "    \"\"\"\n",
        "    Genera una lista de objetos Traveler con preferencias aleatorias.\n",
        "\n",
        "    Returns:\n",
        "      list[Traveler]: Una lista de objetos Traveler con preferencias aleatorias.\n",
        "    \"\"\"\n",
        "    viajeros = []\n",
        "    for _ in range(self.num_travelers):\n",
        "      beach = np.random.randint(0,10)\n",
        "      mountain = np.random.randint(0,10)\n",
        "      city =  np.random.randint(0,10)\n",
        "      countryside =np.random.randint(0,10)\n",
        "      viajeros.append(Traveler(beach, mountain, city, countryside))\n",
        "    return viajeros"
      ],
      "metadata": {
        "id": "5Fy2SO1jnm50"
      },
      "execution_count": 16,
      "outputs": []
    },
    {
      "cell_type": "code",
      "source": [
        "tg = TravelerGenerator(10)\n",
        "viajeros = tg.generate()\n",
        "for v in viajeros:\n",
        "  print(v)"
      ],
      "metadata": {
        "colab": {
          "base_uri": "https://localhost:8080/"
        },
        "id": "4XuAxXVhoWcG",
        "outputId": "fadf0bac-9e13-4b5c-963c-6abb0ce580cc"
      },
      "execution_count": 17,
      "outputs": [
        {
          "output_type": "stream",
          "name": "stdout",
          "text": [
            "Beach: 7, Mountain: 8, City: 8, Countryside: 9\n",
            "Beach: 2, Mountain: 1, City: 8, Countryside: 4\n",
            "Beach: 7, Mountain: 3, City: 1, Countryside: 6\n",
            "Beach: 0, Mountain: 8, City: 4, Countryside: 9\n",
            "Beach: 9, Mountain: 9, City: 4, Countryside: 5\n",
            "Beach: 4, Mountain: 4, City: 3, Countryside: 7\n",
            "Beach: 7, Mountain: 7, City: 9, Countryside: 7\n",
            "Beach: 5, Mountain: 3, City: 2, Countryside: 8\n",
            "Beach: 6, Mountain: 6, City: 4, Countryside: 0\n",
            "Beach: 9, Mountain: 4, City: 3, Countryside: 4\n"
          ]
        }
      ]
    },
    {
      "cell_type": "markdown",
      "source": [
        "## Definición de la clase TravelerClusterer"
      ],
      "metadata": {
        "id": "Jt8lnH1uos9h"
      }
    },
    {
      "cell_type": "code",
      "source": [
        "class TravelerClusterer:\n",
        "  def __init__(self):\n",
        "    self.model = None\n",
        "  def fit(self, travelers: list[Traveler]):\n",
        "    if self.model is None:\n",
        "      self.model = KMeans(n_clusters=3, random_state=42)\n",
        "      travelers_vectors = [traveler.to_vector() for traveler in travelers]\n",
        "      self.model.fit(travelers_vectors)\n",
        "    else:\n",
        "      raise Exception(\"El modelo no ha sido entrenado\")\n",
        "  def predict(self, traveler: Traveler) -> int:\n",
        "    if self.model is None:\n",
        "      raise Exception(\"El modelo no ha sido entrenado\")\n",
        "    traveler_vector = traveler.to_vector()\n",
        "    return int(self.model.predict([traveler_vector])[0])\n",
        "  def get_cluster_centers(self) -> np.ndarray:\n",
        "    if self.model is None:\n",
        "      raise Exception(\"El modelo no ha sido entrenado\")\n",
        "    return self.model.cluster_centers_\n",
        ""
      ],
      "metadata": {
        "id": "cvLB6hD0o25r"
      },
      "execution_count": 18,
      "outputs": []
    },
    {
      "cell_type": "markdown",
      "source": [
        "## Definición de la clase TravelerClusteringExample"
      ],
      "metadata": {
        "id": "Eux6G6TWpp4o"
      }
    },
    {
      "cell_type": "code",
      "source": [
        "class TravelerClusteringExample:\n",
        "  def run(self):\n",
        "    travelers = TravelerGenerator(200).generate()\n",
        "    clusterer = TravelerClusterer()\n",
        "    clusterer.fit(travelers)\n",
        "    print(\"🏝️🏔️🏙️🌄 Cluster Centers (Preferencias promedio):\")\n",
        "    for center in clusterer.get_cluster_centers():\n",
        "      print(f\"Cluster: Playa={center[0]:.2f}, Montaña={center[1]:.2f}, Ciudad={center[2]:.2f}, Campo={center[3]:.2f}\")\n",
        "    nuevo_viajero = Traveler(beach=9, mountain=2, city=8, countryside=1)\n",
        "    grupo = clusterer.predict(nuevo_viajero)\n",
        "    print(f\"Interpretación aproximada:\\n- Cluster con alta Playa y Ciudad: Viajero urbano y costero.\\n- Cluster con alta Montaña y Campo: Amante de la naturaleza.\\n- Cluster equilibrado: Viajero versátil o aventurero.\\n\")\n",
        "    print(f\"🔍 Nuevo viajero con preferencias:\\n \\Playa: {nuevo_viajero.beach}, Montaña: {nuevo_viajero.mountain}, Ciudad: {nuevo_viajero.city}, Campo: {nuevo_viajero.countryside}\")\n",
        "    print(f\"📌 El nuevo viajero pertenece al grupo {grupo}.\")"
      ],
      "metadata": {
        "id": "ilcYi_6Xp0rQ"
      },
      "execution_count": 19,
      "outputs": []
    },
    {
      "cell_type": "markdown",
      "source": [
        "## Ejemplo de uso"
      ],
      "metadata": {
        "id": "TA2IPklCq-_I"
      }
    },
    {
      "cell_type": "code",
      "source": [
        "example = TravelerClusteringExample()\n",
        "example.run()"
      ],
      "metadata": {
        "colab": {
          "base_uri": "https://localhost:8080/"
        },
        "id": "z9hgVNX-rBlI",
        "outputId": "b5e18d3d-254c-4e07-9e4a-944411114674"
      },
      "execution_count": 20,
      "outputs": [
        {
          "output_type": "stream",
          "name": "stdout",
          "text": [
            "🏝️🏔️🏙️🌄 Cluster Centers (Preferencias promedio):\n",
            "Cluster: Playa=6.41, Montaña=4.92, Ciudad=5.42, Campo=6.90\n",
            "Cluster: Playa=1.54, Montaña=2.52, Ciudad=4.32, Campo=4.83\n",
            "Cluster: Playa=5.36, Montaña=5.73, Ciudad=3.86, Campo=1.44\n",
            "Interpretación aproximada:\n",
            "- Cluster con alta Playa y Ciudad: Viajero urbano y costero.\n",
            "- Cluster con alta Montaña y Campo: Amante de la naturaleza.\n",
            "- Cluster equilibrado: Viajero versátil o aventurero.\n",
            "\n",
            "🔍 Nuevo viajero con preferencias:\n",
            " \\Playa: 9, Montaña: 2, Ciudad: 8, Campo: 1\n",
            "📌 El nuevo viajero pertenece al grupo 2.\n"
          ]
        }
      ]
    }
  ]
}