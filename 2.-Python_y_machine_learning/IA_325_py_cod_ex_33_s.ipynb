{
  "nbformat": 4,
  "nbformat_minor": 0,
  "metadata": {
    "colab": {
      "provenance": [],
      "authorship_tag": "ABX9TyMSzeQ577/wmeTpiyo5gXyb",
      "include_colab_link": true
    },
    "kernelspec": {
      "name": "python3",
      "display_name": "Python 3"
    },
    "language_info": {
      "name": "python"
    }
  },
  "cells": [
    {
      "cell_type": "markdown",
      "metadata": {
        "id": "view-in-github",
        "colab_type": "text"
      },
      "source": [
        "<a href=\"https://colab.research.google.com/github/luismiguelcasadodiaz/IBM_SkillsBuild_IA_325/blob/main/IA_325_py_cod_ex_33_s.ipynb\" target=\"_parent\"><img src=\"https://colab.research.google.com/assets/colab-badge.svg\" alt=\"Open In Colab\"/></a>"
      ]
    },
    {
      "cell_type": "markdown",
      "source": [
        "# Recomendador de lenguajes de programación\n",
        "\n",
        "##🧠 Proyecto: ¿Qué lenguaje de programación debo usar?\n",
        "\n",
        "Imagina que trabajas como consultor de software para una aceleradora de startups. Tu tarea es desarrollar un sistema inteligente que, en base a ciertas características de un nuevo proyecto tecnológico, recomiende el lenguaje de programación más adecuado.\n",
        "\n",
        "Para ello, cuentas con un histórico de proyectos clasificados según el lenguaje usado: **Python, JavaScript, Java o C++**. Cada proyecto tiene las siguientes características numéricas:\n",
        "\n",
        "+ velocidad: qué tan rápido debe ser el desarrollo (0.0 a 1.0)\n",
        "+ mantenimiento: importancia del mantenimiento a largo plazo (0.0 a 1.0)\n",
        "+ libs: disponibilidad de librerías relevantes para el proyecto (0.0 a 1.0)\n",
        "+ tipo_app: tipo de aplicación:\n",
        "\n",
        "  + 0 = Ciencia de Datos\n",
        "  + 1 = Aplicación Web\n",
        "  + 2 = Sistema Embebido\n",
        "\n",
        "+ rendimiento: necesidad de alto rendimiento (0.0 a 1.0)\n",
        "\n",
        "Tu tarea consiste en:\n",
        "\n",
        "## ✅ Objetivo\n",
        "\n",
        "  + 1.- Crear una clase llamada LanguagePredictor que Use un Random Forest Classifier de sklearn.ensemble para entrenarse con un conjunto de datos sintético.\n",
        "    + Métodos:\n",
        "      + .train(X, y) que entrene el modelo.\n",
        "\n",
        "      + .predict(features) que devuelva el lenguaje recomendado como cadena (\"Python\", \"JavaScript\", \"Java\", o \"C++\").\n",
        "\n",
        "  + 2.- Crear una función generate_dataset(n_samples=100) que Genere n_samples ejemplos de proyectos con características aleatorias.\n",
        "\n",
        "    Asigne un lenguaje de programación como etiqueta usando reglas simples, por ejemplo:\n",
        "\n",
        "      + Si el rendimiento es alto (> 0.8) y el tipo de app es sistema embebido (tipo_app == 2), usar C++.\n",
        "\n",
        "      + Si el mantenimiento es alto (> 0.7) y se trata de una aplicación web (tipo_app == 1), usar Java.\n",
        "\n",
        "      + Si hay muchas librerías disponibles (> 0.6) y es un proyecto de ciencia de datos (tipo_app == 0), usar Python.\n",
        "\n",
        "      + En otros casos, usar JavaScript como opción generalista.\n",
        "\n",
        "\n",
        "\n",
        "## 🧪 Ejemplo de uso\n",
        "```python\n",
        "\n",
        "# Generar datos y entrenar\n",
        "X, y = generate_dataset()\n",
        "predictor = LanguagePredictor()\n",
        "predictor.train(X, y)\n",
        "\n",
        "# Crear un proyecto nuevo\n",
        "new_project = np.array([0.7, 0.9, 0.5, 1, 0.6])  # Características del proyecto\n",
        "\n",
        "# Predecir lenguaje ideal\n",
        "pred = predictor.predict(new_project)\n",
        "print(f\"Lenguaje recomendado para el nuevo proyecto: {pred}\")\n",
        "\n",
        "```\n",
        "\n",
        "## Salida esperada\n",
        "\n",
        "Lenguaje recomendado para el nuevo proyecto: JavaScript\n"
      ],
      "metadata": {
        "id": "mUjeL0uucZI7"
      }
    },
    {
      "cell_type": "markdown",
      "source": [
        "## Importacion de librerías"
      ],
      "metadata": {
        "id": "fMgLAwBCjq3k"
      }
    },
    {
      "cell_type": "code",
      "source": [
        "import numpy as np\n",
        "from sklearn.ensemble import RandomForestClassifier"
      ],
      "metadata": {
        "id": "amnsMgb3juYw"
      },
      "execution_count": 51,
      "outputs": []
    },
    {
      "cell_type": "markdown",
      "source": [
        "## Definición de la función generate_dataset"
      ],
      "metadata": {
        "id": "9LJ_np_3ftIH"
      }
    },
    {
      "cell_type": "code",
      "source": [
        "def generate_dataset(n_samples=100):\n",
        "    \"\"\"\n",
        "    Genera un conjunto de datos sintético para la recomendación de lenguajes de programación.\n",
        "\n",
        "    Args:\n",
        "        n_samples (int): El número de muestras (proyectos) a generar. Por defecto es 100.\n",
        "\n",
        "    Returns:\n",
        "        tuple: Una tupla que contiene dos elementos:\n",
        "            - X (list): Una lista de listas, donde cada lista interna representa\n",
        "              las características de un proyecto (velocidad, mantenimiento, libs, tipo_app, rendimiento).\n",
        "            - y (list): Una lista de cadenas, donde cada cadena es el lenguaje de\n",
        "              programación recomendado para el proyecto correspondiente en X.\n",
        "    \"\"\"\n",
        "    X = []\n",
        "    y = []\n",
        "    velocities = np.random.uniform(0.0, 1.0, n_samples)\n",
        "    maintenances = np.random.uniform(0.0, 1.0, n_samples)\n",
        "    libs = np.random.uniform(0.0, 1.0, n_samples)\n",
        "    type_apps = np.random.randint(0, 3, n_samples)\n",
        "    performances = np.random.uniform(0.0, 1.0, n_samples)\n",
        "    lenguajes = []\n",
        "    for i in range(n_samples):\n",
        "        if performances[i] > 0.8 and type_apps[i] == 2:\n",
        "            lenguajes.append(\"C++\")\n",
        "        elif maintenances[i] > 0.7 and type_apps[i] == 1:\n",
        "            lenguajes.append(\"Java\")\n",
        "        elif libs[i] > 0.6 and type_apps[i] == 0:\n",
        "            lenguajes.append(\"Python\")\n",
        "        else:\n",
        "            lenguajes.append(\"JavaScript\")\n",
        "        X.append([velocities[i], maintenances[i], libs[i], type_apps[i], performances[i]])\n",
        "        y.append(lenguajes[i])\n",
        "    return X, y"
      ],
      "metadata": {
        "id": "m32QPCsmh3eM"
      },
      "execution_count": 52,
      "outputs": []
    },
    {
      "cell_type": "code",
      "source": [
        "X, y = generate_dataset(3)"
      ],
      "metadata": {
        "id": "YoxXSaa9jlny"
      },
      "execution_count": 53,
      "outputs": []
    },
    {
      "cell_type": "code",
      "source": [
        "print(X)\n",
        "print(y)"
      ],
      "metadata": {
        "colab": {
          "base_uri": "https://localhost:8080/"
        },
        "id": "GpVFgEkDj1EB",
        "outputId": "0679cbbb-81da-42fb-b29f-5cf28f07190a"
      },
      "execution_count": 54,
      "outputs": [
        {
          "output_type": "stream",
          "name": "stdout",
          "text": [
            "[[np.float64(0.7329599417040279), np.float64(0.9290134083284516), np.float64(0.11208874968525084), np.int64(0), np.float64(0.6398656277850663)], [np.float64(0.8278696597711317), np.float64(0.663287972611895), np.float64(0.38809736178505627), np.int64(2), np.float64(0.9208629818823221)], [np.float64(0.01677547732368656), np.float64(0.042251387019075826), np.float64(0.8070592186813311), np.int64(2), np.float64(0.5060725773892707)]]\n",
            "['JavaScript', 'C++', 'JavaScript']\n"
          ]
        }
      ]
    },
    {
      "cell_type": "code",
      "source": [],
      "metadata": {
        "id": "jfDzIHKokJWg"
      },
      "execution_count": 54,
      "outputs": []
    },
    {
      "cell_type": "markdown",
      "source": [
        "## Definción de clase LanguagePredictor"
      ],
      "metadata": {
        "id": "QnLs6U87fszq"
      }
    },
    {
      "cell_type": "code",
      "source": [
        "class LanguagePredictor:\n",
        "    \"\"\"\n",
        "    Clase para predecir el lenguaje de programación recomendado para un proyecto\n",
        "    basado en sus características. Utiliza un modelo Random Forest Classifier.\n",
        "    \"\"\"\n",
        "    def __init__(self):\n",
        "        \"\"\"\n",
        "        Inicializa la clase LanguagePredictor.\n",
        "\n",
        "        Atributos:\n",
        "            model: El modelo Random Forest Classifier (inicialmente None).\n",
        "        \"\"\"\n",
        "        self.model = None\n",
        "\n",
        "    def train(self, X, y):\n",
        "        \"\"\"\n",
        "        Entrena el modelo Random Forest Classifier con los datos proporcionados.\n",
        "\n",
        "        Args:\n",
        "            X (list): Lista de listas, donde cada lista interna son las características de un proyecto.\n",
        "            y (list): Lista de cadenas, donde cada cadena es el lenguaje de programación correspondiente.\n",
        "\n",
        "        Raises:\n",
        "            ValueError: Si el modelo ya ha sido entrenado.\n",
        "        \"\"\"\n",
        "        if self.model is None:\n",
        "            self.model = RandomForestClassifier(n_estimators=80, random_state=42)\n",
        "            self.model.fit(X, y)\n",
        "        else:\n",
        "            raise ValueError(\"Modelo ya entrenado\")\n",
        "\n",
        "    def predict(self, features):\n",
        "        \"\"\"\n",
        "        Predice el lenguaje de programación para un nuevo proyecto.\n",
        "\n",
        "        Args:\n",
        "            features (np.array): Un array numpy con las características del nuevo proyecto.\n",
        "\n",
        "        Returns:\n",
        "            str: El lenguaje de programación recomendado como cadena.\n",
        "\n",
        "        Raises:\n",
        "            ValueError: Si el modelo no ha sido entrenado.\n",
        "        \"\"\"\n",
        "        if self.model is None:\n",
        "            raise ValueError(\"Modelo no entrenado\")\n",
        "        else:\n",
        "            return self.model.predict([features])[0] # Se añade [0] para devolver solo la cadena"
      ],
      "metadata": {
        "id": "G6hN7RcakUil"
      },
      "execution_count": 55,
      "outputs": []
    },
    {
      "cell_type": "markdown",
      "source": [
        "## Ejemplo de uso"
      ],
      "metadata": {
        "id": "_-SOjpRKcTjk"
      }
    },
    {
      "cell_type": "code",
      "source": [
        "# Generar datos y entrenar\n",
        "X, y = generate_dataset()\n",
        "predictor = LanguagePredictor()\n",
        "predictor.train(X, y)\n",
        "\n",
        "# Crear un proyecto nuevo\n",
        "new_project = np.array([0.7, 0.9, 0.5, 1, 0.6])  # Características del proyecto\n",
        "\n",
        "# Predecir lenguaje ideal\n",
        "pred = predictor.predict(new_project)\n",
        "print(f\"Lenguaje recomendado para el nuevo proyecto: {pred}\")"
      ],
      "metadata": {
        "colab": {
          "base_uri": "https://localhost:8080/"
        },
        "id": "i17osuLcg4EF",
        "outputId": "c66fe470-e024-4ace-87ed-25bb0f799570"
      },
      "execution_count": 56,
      "outputs": [
        {
          "output_type": "stream",
          "name": "stdout",
          "text": [
            "Lenguaje recomendado para el nuevo proyecto: Java\n"
          ]
        }
      ]
    }
  ]
}