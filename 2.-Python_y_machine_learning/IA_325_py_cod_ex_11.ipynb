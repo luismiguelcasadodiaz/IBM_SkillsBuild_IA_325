{
  "nbformat": 4,
  "nbformat_minor": 0,
  "metadata": {
    "colab": {
      "provenance": [],
      "authorship_tag": "ABX9TyNW1wfr2crZu5vFaZ2l2rbq",
      "include_colab_link": true
    },
    "kernelspec": {
      "name": "python3",
      "display_name": "Python 3"
    },
    "language_info": {
      "name": "python"
    }
  },
  "cells": [
    {
      "cell_type": "markdown",
      "metadata": {
        "id": "view-in-github",
        "colab_type": "text"
      },
      "source": [
        "<a href=\"https://colab.research.google.com/github/luismiguelcasadodiaz/IBM_SkillsBuild_IA_325/blob/main/IA_325_py_cod_ex_11.ipynb\" target=\"_parent\"><img src=\"https://colab.research.google.com/assets/colab-badge.svg\" alt=\"Open In Colab\"/></a>"
      ]
    },
    {
      "cell_type": "markdown",
      "source": [
        "# Horas de estudio y calificaciones\n",
        "\n",
        "Crear una función en Python utilizando matplotlib que grafique la relación entre las horas de estudio y las calificaciones obtenidas por los estudiantes, con el objetivo de visualizar la tendencia de cómo las calificaciones aumentan a medida que aumentan las horas de estudio.\n",
        "\n",
        "## Instrucciones:\n",
        "\n",
        "### Crear la función graficar_linea:\n",
        "\n",
        "Define una función llamada graficar_linea que reciba dos listas:\n",
        "\n",
        "+ x: una lista que contenga los valores de las horas de estudio.\n",
        "+ y: una lista que contenga las calificaciones obtenidas.\n",
        "\n",
        "La función debe utilizar la librería matplotlib.pyplot para graficar una línea que conecte los puntos (x, y) en un gráfico de dispersión.\n",
        "\n",
        "La gráfica debe incluir:\n",
        "\n",
        "+ Un título: \"Relación entre horas de estudio y calificaciones\".\n",
        "\n",
        "+ Etiquetas en los ejes:\n",
        "\n",
        "  + El eje X debe estar etiquetado como \"Horas de Estudio\".\n",
        "  + El eje Y debe estar etiquetado como \"Calificación\".\n",
        "\n",
        "## Datos de entrada:\n",
        "A continuación se proporcionan los datos que debes usar para graficar la relación entre las horas de estudio y las calificaciones.\n",
        "\n",
        "Horas de estudio (x):\n",
        "[1, 2, 3, 4, 5, 6, 7, 8]\n",
        "\n",
        "Calificaciones (y):\n",
        "[55, 60, 65, 70, 75, 80, 85, 90]\n",
        "\n",
        "## Requisitos:\n",
        "\n",
        "Usa la librería matplotlib para crear la gráfica.\n",
        "\n",
        "La gráfica debe ser una línea que conecte los puntos (x, y).\n",
        "\n",
        "Al ejecutar la función, debe aparecer una ventana con la gráfica generada.\n",
        "\n",
        "Asegúrate de que los ejes X e Y estén correctamente etiquetados y que el gráfico tenga el título especificado.\n",
        "\n",
        "## Prueba:\n",
        "\n",
        "Llama a la función graficar_linea con los datos proporcionados y asegúrate de que la gráfica se muestre correctamente."
      ],
      "metadata": {
        "id": "zFQf6v8qCOgm"
      }
    }
  ]
}