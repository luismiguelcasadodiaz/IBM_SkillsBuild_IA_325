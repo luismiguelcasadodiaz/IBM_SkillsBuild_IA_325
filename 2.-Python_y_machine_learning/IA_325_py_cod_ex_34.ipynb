{
  "nbformat": 4,
  "nbformat_minor": 0,
  "metadata": {
    "colab": {
      "provenance": [],
      "authorship_tag": "ABX9TyNLLbEhdDHnLlvIAWOINn1w",
      "include_colab_link": true
    },
    "kernelspec": {
      "name": "python3",
      "display_name": "Python 3"
    },
    "language_info": {
      "name": "python"
    }
  },
  "cells": [
    {
      "cell_type": "markdown",
      "metadata": {
        "id": "view-in-github",
        "colab_type": "text"
      },
      "source": [
        "<a href=\"https://colab.research.google.com/github/luismiguelcasadodiaz/IBM_SkillsBuild_IA_325/blob/main/IA_325_py_cod_ex_34.ipynb\" target=\"_parent\"><img src=\"https://colab.research.google.com/assets/colab-badge.svg\" alt=\"Open In Colab\"/></a>"
      ]
    },
    {
      "cell_type": "markdown",
      "source": [
        "# Recomendador de videojuegos\n",
        "\n",
        "##🧠 Descripción:\n",
        "\n",
        "Vas a construir un **sistema de recomendación de videojuegos** que pueda predecir si a un jugador le gustará o no un videojuego basándose en características como la acción, la estrategia, los gráficos o la dificultad.\n",
        "\n",
        "Para ello, utilizarás:\n",
        "\n",
        "  + Datos sintéticos generados con numpy\n",
        "  + Un modelo de clasificación usando **Random Forest** de sklearn\n",
        "\n",
        "\n",
        "\n",
        "## 🕹️ Objetivo:\n",
        "\n",
        "  1.- Crear una clase VideoGame que represente un videojuego con características numéricas.\n",
        "\n",
        "  2.- Generar una lista de videojuegos con etiquetas (le gusta/no le gusta) usando reglas sencillas.\n",
        "\n",
        "  3.- Entrenar un modelo con **RandomForestClassifier**.\n",
        "\n",
        "  4.- Usar el modelo para predecir si un nuevo videojuego será del gusto de un jugador.\n",
        "\n",
        "\n",
        "\n",
        "## 🧩 Especificaciones del ejercicio:\n",
        "\n",
        "  + ### Crea una clase VideoGame:\n",
        "    + Atributos:\n",
        "\n",
        "      + action (nivel de acción, de 0 a 1)\n",
        "      + strategy (nivel de estrategia, de 0 a 1)\n",
        "      + graphics (calidad gráfica, de 0 a 1)\n",
        "      + difficulty (nivel de dificultad, de 0 a 1)\n",
        "      + liked (opcional: 1 si le gusta al jugador, 0 si no)\n",
        "\n",
        "  + ### Crea una clase VideoGameGenerator que genere datos sintéticos de videojuegos, incluyendo si fueron o no del gusto de los jugadores (campo liked).\n",
        "\n",
        "    📝 Tip: Una regla simple para considerar que un juego gustó puede ser:\n",
        "\n",
        "    liked = int((action > 0.6 or graphics > 0.7) and difficulty < 0.7)\n",
        "\n",
        "\n",
        "\n",
        "  + ### Crea la clase VideoGameClassifier que:\n",
        "\n",
        "    + Entrene un modelo de clasificación usando RandomForestClassifier de scikit-learn, con el parámetro n_estimators=100, que indica que se usarán 100 árboles en el bosque aleatorio.\n",
        "\n",
        "    + Pueda predecir si le gustará un nuevo videojuego al jugador, a partir de sus características numéricas (action, strategy, graphics, difficulty).\n",
        "\n",
        "  + ### Crea una clase de ejemplo VideoGameRecommendationExample  donde:\n",
        "\n",
        "    + Generas 100 videojuegos aleatorios para entrenar.\n",
        "\n",
        "    + Predices si al jugador le gustará un nuevo juego con:\n",
        "     ```python\n",
        "     new_game = VideoGame(action=0.9, strategy=0.4, graphics=0.8, difficulty=0.3)\n",
        "     ```\n",
        "\n",
        "\n",
        "\n",
        "\n",
        "\n",
        "## ✅ Ejemplo de uso\n",
        "```python\n",
        "example = VideoGameRecommendationExample()\n",
        "example.run()\n",
        "```\n",
        "## Salida esperada\n",
        "```python\n",
        "🎮 Nuevo juego:\n",
        "Action: 0.9, Strategy: 0.4, Graphics: 0.8, Difficulty: 0.3\n",
        "✅ Le gustará al jugador el juego? Si!\n",
        "```"
      ],
      "metadata": {
        "id": "6Efs7GW1nA2P"
      }
    },
    {
      "cell_type": "code",
      "execution_count": null,
      "metadata": {
        "id": "j8WWOI2fm8t1"
      },
      "outputs": [],
      "source": []
    }
  ]
}