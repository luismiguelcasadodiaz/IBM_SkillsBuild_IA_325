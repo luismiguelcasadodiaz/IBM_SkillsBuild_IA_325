{
  "nbformat": 4,
  "nbformat_minor": 0,
  "metadata": {
    "colab": {
      "provenance": [],
      "authorship_tag": "ABX9TyPmlZjSfgdkg7RNnLc1Dt5b",
      "include_colab_link": true
    },
    "kernelspec": {
      "name": "python3",
      "display_name": "Python 3"
    },
    "language_info": {
      "name": "python"
    }
  },
  "cells": [
    {
      "cell_type": "markdown",
      "metadata": {
        "id": "view-in-github",
        "colab_type": "text"
      },
      "source": [
        "<a href=\"https://colab.research.google.com/github/luismiguelcasadodiaz/IBM_SkillsBuild_IA_325/blob/main/IA_325_py_cod_ex_41.ipynb\" target=\"_parent\"><img src=\"https://colab.research.google.com/assets/colab-badge.svg\" alt=\"Open In Colab\"/></a>"
      ]
    },
    {
      "cell_type": "markdown",
      "source": [
        "# Agrupando jugadores\n",
        "¿Qué tipo de gamer eres?\"\n",
        "\n",
        "## 📄 Enunciado del ejercicio\n",
        "\n",
        "Eres parte del equipo de análisis de una plataforma de videojuegos que quiere entender mejor a sus usuarios. Se ha recopilado información sobre distintos jugadores basada en su comportamiento dentro del juego. Tu misión es agrupar a estos jugadores en diferentes tipos (clusters) según su estilo de juego, utilizando el algoritmo de K-Means.\n",
        "\n",
        "## 🧠 Tareas a realizar\n",
        "\n",
        "  + 1.- Crea una clase Player que contenga los siguientes atributos:\n",
        "\n",
        "      + name (str): nombre del jugador\n",
        "\n",
        "      + avg_session_time (float): tiempo medio de juego por sesión (en horas)\n",
        "\n",
        "      + missions_completed (int): número de misiones completadas\n",
        "\n",
        "      + accuracy (float): precisión de disparo (entre 0 y 1)\n",
        "\n",
        "      + aggressiveness (float): valor entre 0 (pasivo) y 1 (muy agresivo)\n",
        "\n",
        "  + 2.- Crea una clase PlayerClusterer con los siguientes métodos:\n",
        "\n",
        "    + fit(players: List[Player], n_clusters: int): entrena un modelo K-Means con los datos de los jugadores.\n",
        "\n",
        "    + predict(player: Player) -> int: devuelve el número de cluster al que pertenece un nuevo jugador.\n",
        "\n",
        "    + get_cluster_centers(): devuelve los centros de los clusters.\n",
        "\n",
        "    + print_cluster_summary(players: List[Player]): imprime qué jugadores hay en cada grupo.\n",
        "\n",
        "  + 3.- Usa los datos proporcionados a continuación para entrenar el modelo con 3 clusters:\n",
        "```python\n",
        "\n",
        "      data = [\n",
        "                  (\"Alice\", 2.5, 100, 0.85, 0.3),\n",
        "                  (\"Bob\", 1.0, 20, 0.60, 0.7),\n",
        "                  (\"Charlie\", 3.0, 150, 0.9, 0.2),\n",
        "                  (\"Diana\", 0.8, 15, 0.55, 0.9),\n",
        "                  (\"Eve\", 2.7, 120, 0.88, 0.25),\n",
        "                  (\"Frank\", 1.1, 30, 0.62, 0.65),\n",
        "                  (\"Grace\", 0.9, 18, 0.58, 0.85),\n",
        "                  (\"Hank\", 3.2, 160, 0.91, 0.15)\n",
        "        ]\n",
        "```\n",
        "  + 4.-   Crea una clase GameAnalytics que haga lo siguiente:\n",
        "\n",
        "    + Cree los objetos Player con los datos anteriores.\n",
        "\n",
        "    + Cree un objeto PlayerClusterer, entrene el modelo y muestre los clusters formados.\n",
        "\n",
        "    + Prediga el cluster para un nuevo jugador: (\"Zoe\", 1.5, 45, 0.65, 0.5).\n",
        "\n",
        "\n",
        "\n",
        "## ✅ Requisitos del ejercicio\n",
        "\n",
        "+ Utiliza scikit-learn (KMeans) para la agrupación.\n",
        "+ Usa programación orientada a objetos.\n",
        "+ No uses ficheros externos. Todo debe estar en el código.\n",
        "+ Asegúrate de imprimir resultados entendibles para los usuarios.\n",
        "\n",
        "\n",
        "\n",
        "## 🧪 Ejemplo de uso\n",
        "```python\n",
        "analytics = GameAnalytics()\n",
        "analytics.run()\n",
        "```\n",
        "\n",
        "## 🧪 Salida esperada\n",
        "```python\n",
        "Cluster 2:\n",
        "  - Alice\n",
        "  - Eve\n",
        "Cluster 1:\n",
        "  - Bob\n",
        "  - Diana\n",
        "  - Frank\n",
        "  - Grace\n",
        "Cluster 0:\n",
        "  - Charlie\n",
        "  - Hank\n",
        "\n",
        "Jugador Zoe pertenece al cluster: 1\n",
        "```"
      ],
      "metadata": {
        "id": "Q7GQreGIakhe"
      }
    },
    {
      "cell_type": "code",
      "execution_count": null,
      "metadata": {
        "id": "r1siEwsBadTU"
      },
      "outputs": [],
      "source": []
    }
  ]
}