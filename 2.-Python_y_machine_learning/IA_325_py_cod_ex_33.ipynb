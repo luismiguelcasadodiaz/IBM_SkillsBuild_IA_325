{
  "nbformat": 4,
  "nbformat_minor": 0,
  "metadata": {
    "colab": {
      "provenance": [],
      "authorship_tag": "ABX9TyOsWYbLOdn2LP6sa/rNXyN0",
      "include_colab_link": true
    },
    "kernelspec": {
      "name": "python3",
      "display_name": "Python 3"
    },
    "language_info": {
      "name": "python"
    }
  },
  "cells": [
    {
      "cell_type": "markdown",
      "metadata": {
        "id": "view-in-github",
        "colab_type": "text"
      },
      "source": [
        "<a href=\"https://colab.research.google.com/github/luismiguelcasadodiaz/IBM_SkillsBuild_IA_325/blob/main/IA_325_py_cod_ex_33.ipynb\" target=\"_parent\"><img src=\"https://colab.research.google.com/assets/colab-badge.svg\" alt=\"Open In Colab\"/></a>"
      ]
    },
    {
      "cell_type": "markdown",
      "source": [
        "# Recomendador de lenguajes de programación\n",
        "\n",
        "##🧠 Proyecto: ¿Qué lenguaje de programación debo usar?\n",
        "\n",
        "Imagina que trabajas como consultor de software para una aceleradora de startups. Tu tarea es desarrollar un sistema inteligente que, en base a ciertas características de un nuevo proyecto tecnológico, recomiende el lenguaje de programación más adecuado.\n",
        "\n",
        "Para ello, cuentas con un histórico de proyectos clasificados según el lenguaje usado: **Python, JavaScript, Java o C++**. Cada proyecto tiene las siguientes características numéricas:\n",
        "\n",
        "+ velocidad: qué tan rápido debe ser el desarrollo (0.0 a 1.0)\n",
        "+ mantenimiento: importancia del mantenimiento a largo plazo (0.0 a 1.0)\n",
        "+ libs: disponibilidad de librerías relevantes para el proyecto (0.0 a 1.0)\n",
        "+ tipo_app: tipo de aplicación:\n",
        "\n",
        "  + 0 = Ciencia de Datos\n",
        "  + 1 = Aplicación Web\n",
        "  + 2 = Sistema Embebido\n",
        "\n",
        "+ rendimiento: necesidad de alto rendimiento (0.0 a 1.0)\n",
        "\n",
        "Tu tarea consiste en:\n",
        "\n",
        "## ✅ Objetivo\n",
        "\n",
        "  + 1.- Crear una clase llamada LanguagePredictor que Use un Random Forest Classifier de sklearn.ensemble para entrenarse con un conjunto de datos sintético.\n",
        "    + Métodos:\n",
        "      + .train(X, y) que entrene el modelo.\n",
        "\n",
        "      + .predict(features) que devuelva el lenguaje recomendado como cadena (\"Python\", \"JavaScript\", \"Java\", o \"C++\").\n",
        "\n",
        "  + 2.- Crear una función generate_dataset(n_samples=100) que Genere n_samples ejemplos de proyectos con características aleatorias.\n",
        "\n",
        "    Asigne un lenguaje de programación como etiqueta usando reglas simples, por ejemplo:\n",
        "\n",
        "      + Si el rendimiento es alto (> 0.8) y el tipo de app es sistema embebido (tipo_app == 2), usar C++.\n",
        "\n",
        "      + Si el mantenimiento es alto (> 0.7) y se trata de una aplicación web (tipo_app == 1), usar Java.\n",
        "\n",
        "      + Si hay muchas librerías disponibles (> 0.6) y es un proyecto de ciencia de datos (tipo_app == 0), usar Python.\n",
        "\n",
        "      + En otros casos, usar JavaScript como opción generalista.\n",
        "\n",
        "\n",
        "\n",
        "## 🧪 Ejemplo de uso\n",
        "```python\n",
        "\n",
        "# Generar datos y entrenar\n",
        "X, y = generate_dataset()\n",
        "predictor = LanguagePredictor()\n",
        "predictor.train(X, y)\n",
        "\n",
        "# Crear un proyecto nuevo\n",
        "new_project = np.array([0.7, 0.9, 0.5, 1, 0.6])  # Características del proyecto\n",
        "\n",
        "# Predecir lenguaje ideal\n",
        "pred = predictor.predict(new_project)\n",
        "print(f\"Lenguaje recomendado para el nuevo proyecto: {pred}\")\n",
        "\n",
        "```\n",
        "\n",
        "## Salida esperada\n",
        "\n",
        "Lenguaje recomendado para el nuevo proyecto: JavaScript\n"
      ],
      "metadata": {
        "id": "mUjeL0uucZI7"
      }
    },
    {
      "cell_type": "code",
      "execution_count": null,
      "metadata": {
        "id": "_-SOjpRKcTjk"
      },
      "outputs": [],
      "source": []
    }
  ]
}