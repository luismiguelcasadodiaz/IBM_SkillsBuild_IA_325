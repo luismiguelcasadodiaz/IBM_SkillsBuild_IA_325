{
  "nbformat": 4,
  "nbformat_minor": 0,
  "metadata": {
    "colab": {
      "provenance": [],
      "authorship_tag": "ABX9TyNQR+1JcOwdTQ0IlgW8heJ4",
      "include_colab_link": true
    },
    "kernelspec": {
      "name": "python3",
      "display_name": "Python 3"
    },
    "language_info": {
      "name": "python"
    }
  },
  "cells": [
    {
      "cell_type": "markdown",
      "metadata": {
        "id": "view-in-github",
        "colab_type": "text"
      },
      "source": [
        "<a href=\"https://colab.research.google.com/github/luismiguelcasadodiaz/IBM_SkillsBuild_IA_325/blob/main/IA_325_py_cod_ex_15_s.ipynb\" target=\"_parent\"><img src=\"https://colab.research.google.com/assets/colab-badge.svg\" alt=\"Open In Colab\"/></a>"
      ]
    },
    {
      "cell_type": "markdown",
      "source": [
        "# Predecir ingresos de una aplicación\n",
        "\n",
        "Eres parte de un equipo de analistas de datos en una empresa tecnológica que desarrolla aplicaciones móviles. Te han proporcionado un pequeño conjunto de datos con información sobre diferentes apps que ya están publicadas, y tu tarea es crear un modelo de regresión lineal para predecir los ingresos estimados de una nueva app.\n",
        "\n",
        "\n",
        "\n",
        "## Datos disponibles por app:\n",
        "\n",
        "+ app_name: Nombre de la app\n",
        "+ downloads: Número de descargas (en miles)\n",
        "+ rating: Valoración media de los usuarios (de 1 a 5)\n",
        "+ size_mb: Tamaño de la app (en MB)\n",
        "+ reviews: Número de valoraciones escritas\n",
        "+ revenue: Ingresos generados (en miles de dólares) → variable a predecir\n",
        "\n",
        "\n",
        "\n",
        "## Tareas que debes realizar:\n",
        "\n",
        "+ Crea una clase App que represente cada app con sus atributos.\n",
        "\n",
        "+ Crea una clase RevenuePredictor que:\n",
        "\n",
        "  + Reciba una lista de objetos App.\n",
        "\n",
        "  + Extraiga las características relevantes para entrenar un modelo.\n",
        "\n",
        "  + Entrene un modelo de regresión lineal para predecir los ingresos (revenue).\n",
        "\n",
        "  + Permita predecir los ingresos de una nueva app con datos similares.\n",
        "\n",
        "+ Entrena el modelo con los datos proporcionados (puedes usar una lista de ejemplo en el código).\n",
        "\n",
        "+ Prueba el modelo prediciendo los ingresos estimados de una nueva app ficticia.\n",
        "\n",
        "\n",
        "\n",
        "##  Ejemplo de uso\n",
        "\n",
        "### Datos simulados de entrenamiento\n",
        "```python\n",
        "training_apps = [\n",
        "    App(\"TaskPro\", 200, 4.2, 45.0, 1800, 120.0),\n",
        "    App(\"MindSpark\", 150, 4.5, 60.0, 2100, 135.0),\n",
        "    App(\"WorkFlow\", 300, 4.1, 55.0, 2500, 160.0),\n",
        "    App(\"ZenTime\", 120, 4.8, 40.0, 1700, 140.0),\n",
        "    App(\"FocusApp\", 180, 4.3, 52.0, 1900, 130.0),\n",
        "    App(\"BoostApp\", 220, 4.0, 48.0, 2300, 145.0),\n",
        "]\n",
        "\n",
        "# Creamos y entrenamos el predictor\n",
        "predictor = RevenuePredictor()\n",
        "predictor.fit(training_apps)\n",
        "\n",
        "# Nueva app para predecir\n",
        "new_app = App(\"FocusMaster\", 250, 4.5, 50.0, 3000)\n",
        "predicted_revenue = predictor.predict(new_app)\n",
        "\n",
        "print(f\"Ingresos estimados para {new_app.name}: ${predicted_revenue:.2f}K\")\n",
        "```\n",
        "\n",
        "### Salida esperada\n",
        "\n",
        "Ingresos estimados para FocusMaster: $207.59K"
      ],
      "metadata": {
        "id": "jL7HEYJWq_xI"
      }
    },
    {
      "cell_type": "code",
      "source": [
        "import pandas as pd\n",
        "from sklearn.linear_model import LinearRegression\n",
        "from sklearn.preprocessing import StandardScaler\n",
        "from sklearn.pipeline import make_pipeline\n",
        "from sklearn.metrics import mean_squared_error\n",
        "from sklearn.model_selection import train_test_split"
      ],
      "metadata": {
        "id": "LNL5MI2Br2p4"
      },
      "execution_count": 33,
      "outputs": []
    },
    {
      "cell_type": "markdown",
      "source": [
        "## Creación de la clase App"
      ],
      "metadata": {
        "id": "ljywm-4ks_7v"
      }
    },
    {
      "cell_type": "code",
      "source": [
        "class App:\n",
        "  def __init__(self, app_name: str, downloads: float, rating: float, size_mb: float, reviews: int, revenue: float = None):\n",
        "      \"\"\"\n",
        "      Inicializa una instancia de la clase App.\n",
        "\n",
        "      Parámetros:\n",
        "      - app_name (str): Nombre de la aplicación.\n",
        "      - downloads (float): Número de descargas en miles.\n",
        "      - rating (float): Valoración media de los usuarios (1 a 5).\n",
        "      - size_mb (float): Tamaño de la app en megabytes.\n",
        "      - reviews (int): Número de valoraciones escritas.\n",
        "      - revenue (float): Ingresos generados en miles de dólares. Puede ser None si se desea predecir.\n",
        "      \"\"\"\n",
        "      self.name = app_name\n",
        "      self.downloads = downloads\n",
        "      self.rating = rating\n",
        "      self.size_mb = size_mb\n",
        "      self.reviews = reviews\n",
        "      self.revenue = revenue\n",
        "\n",
        "  def to_dict(self):\n",
        "      \"\"\"Convierte la instancia de App en un diccionario (útil para crear DataFrames).\"\"\"\n",
        "      return {\n",
        "          \"name\": self.name,\n",
        "          \"downloads\": self.downloads,\n",
        "          \"rating\": self.rating,\n",
        "          \"size_mb\": self.size_mb,\n",
        "          \"reviews\": self.reviews,\n",
        "          \"revenue\": self.revenue\n",
        "      }\n",
        "\n",
        "  def to_features(self):\n",
        "      \"\"\"Convierte la instancia de App en un lista de variables independientes.\"\"\"\n",
        "      dict_app = self.to_dict()\n",
        "      return list(dict_app.values())[1:-1]\n",
        "\n",
        "  def __repr__(self):\n",
        "      return (f\"App(name='{self.name}', downloads={self.downloads}, \"\n",
        "              f\"rating={self.rating}, size_mb={self.size_mb}, reviews={self.reviews}, \"\n",
        "              f\"revenue={self.revenue})\")\n"
      ],
      "metadata": {
        "id": "T0avi0IZtLt1"
      },
      "execution_count": 34,
      "outputs": []
    },
    {
      "cell_type": "markdown",
      "source": [
        "#### Test de la clase App"
      ],
      "metadata": {
        "id": "7fqBO-grv_AV"
      }
    },
    {
      "cell_type": "code",
      "source": [
        "una = App(\"WorkFlow\", 300, 4.1, 55.0, 2500, 160.0)\n",
        "print(una)\n",
        "print(una.to_dict())\n",
        "print(una.to_features())"
      ],
      "metadata": {
        "colab": {
          "base_uri": "https://localhost:8080/"
        },
        "id": "gX7RzNQWtZTU",
        "outputId": "6cba9f71-aaf3-459f-9412-9287a33c6088"
      },
      "execution_count": 35,
      "outputs": [
        {
          "output_type": "stream",
          "name": "stdout",
          "text": [
            "App(name='WorkFlow', downloads=300, rating=4.1, size_mb=55.0, reviews=2500, revenue=160.0)\n",
            "{'name': 'WorkFlow', 'downloads': 300, 'rating': 4.1, 'size_mb': 55.0, 'reviews': 2500, 'revenue': 160.0}\n",
            "[300, 4.1, 55.0, 2500]\n"
          ]
        }
      ]
    },
    {
      "cell_type": "markdown",
      "source": [
        "## Crea la clase  RevenuePredictor"
      ],
      "metadata": {
        "id": "UwC7LWyxuDpE"
      }
    },
    {
      "cell_type": "code",
      "source": [
        "class RevenuePredictor:\n",
        "  def __init__(self, apps: list[App] = None):\n",
        "    self.apps = apps\n",
        "    self.model = LinearRegression()\n",
        "\n",
        "  def _prepara_datos(self):\n",
        "    X = [app.to_features() for app in self.apps]\n",
        "    y = [app.revenue for app in self.apps]\n",
        "    return X, y\n",
        "\n",
        "  def fit(self, apps: list[App] = None ):\n",
        "    self.apps = apps\n",
        "    X, y = self._prepara_datos()\n",
        "    self.model.fit(X, y)\n",
        "\n",
        "  def predict(self, app: App):\n",
        "    X = [app.to_features()]\n",
        "    return self.model.predict(X)[0]"
      ],
      "metadata": {
        "id": "D1OXiFt6w7Dg"
      },
      "execution_count": 36,
      "outputs": []
    },
    {
      "cell_type": "code",
      "source": [
        "training_apps = [\n",
        "    App(\"TaskPro\", 200, 4.2, 45.0, 1800, 120.0),\n",
        "    App(\"MindSpark\", 150, 4.5, 60.0, 2100, 135.0),\n",
        "    App(\"WorkFlow\", 300, 4.1, 55.0, 2500, 160.0),\n",
        "    App(\"ZenTime\", 120, 4.8, 40.0, 1700, 140.0),\n",
        "    App(\"FocusApp\", 180, 4.3, 52.0, 1900, 130.0),\n",
        "    App(\"BoostApp\", 220, 4.0, 48.0, 2300, 145.0),\n",
        "]\n",
        "\n",
        "# Creamos y entrenamos el predictor\n",
        "predictor = RevenuePredictor()\n",
        "predictor.fit(training_apps)\n",
        "\n",
        "# Nueva app para predecir\n",
        "new_app = App(\"FocusMaster\", 250, 4.5, 50.0, 3000)\n",
        "predicted_revenue = predictor.predict(new_app)\n",
        "\n",
        "print(f\"Ingresos estimados para {new_app.name}: ${predicted_revenue:.2f}K\")"
      ],
      "metadata": {
        "colab": {
          "base_uri": "https://localhost:8080/"
        },
        "id": "Pxz5eGnMy7jn",
        "outputId": "35356a64-ddc1-46d0-f5e4-38eb8504805f"
      },
      "execution_count": 37,
      "outputs": [
        {
          "output_type": "stream",
          "name": "stdout",
          "text": [
            "Ingresos estimados para FocusMaster: $207.59K\n"
          ]
        }
      ]
    }
  ]
}