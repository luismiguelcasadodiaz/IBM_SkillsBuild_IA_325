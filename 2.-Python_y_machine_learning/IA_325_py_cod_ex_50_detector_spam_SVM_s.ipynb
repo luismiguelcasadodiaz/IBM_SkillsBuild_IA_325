{
  "nbformat": 4,
  "nbformat_minor": 0,
  "metadata": {
    "colab": {
      "provenance": [],
      "authorship_tag": "ABX9TyPd2CAVqHoYE4tN6nRfhFdq",
      "include_colab_link": true
    },
    "kernelspec": {
      "name": "python3",
      "display_name": "Python 3"
    },
    "language_info": {
      "name": "python"
    }
  },
  "cells": [
    {
      "cell_type": "markdown",
      "metadata": {
        "id": "view-in-github",
        "colab_type": "text"
      },
      "source": [
        "<a href=\"https://colab.research.google.com/github/luismiguelcasadodiaz/IBM_SkillsBuild_IA_325/blob/main/IA_325_py_cod_ex_50_s.ipynb\" target=\"_parent\"><img src=\"https://colab.research.google.com/assets/colab-badge.svg\" alt=\"Open In Colab\"/></a>"
      ]
    },
    {
      "cell_type": "markdown",
      "source": [
        "# Detectar correo electrónico spam\n",
        "\n",
        "\n",
        "## Clasificación de Emails: ¿Spam o No Spam?\n",
        "\n",
        "**Contexto**: Tienes un conjunto de datos que contiene información sobre emails. Cada email tiene un conjunto de características, como la longitud del mensaje, la frecuencia de ciertas palabras clave, la cantidad de enlaces, y otros aspectos relevantes. El objetivo es construir un modelo de clasificación para predecir si un email es **Spam** o **No Spam**.\n",
        "\n",
        "**Objetivo**: Tu tarea es implementar un modelo de clasificación que, dada la información de un email (características como la longitud del mensaje y la frecuencia de palabras clave), sea capaz de predecir si el email es Spam (1) o No Spam (0).\n",
        "\n",
        "+ Funciones a Implementar:\n",
        "\n",
        "  + 1.- Generar datos de emails:\n",
        "\n",
        "    Función: generar_datos_emails(num_muestras)\n",
        "\n",
        "      + Esta función debe generar un conjunto de datos ficticios con **num_muestras** emails.\n",
        "\n",
        "      + Cada email tendrá las siguientes características:\n",
        "\n",
        "        + **longitud_mensaje**: Un número aleatorio que representa la longitud del email en caracteres (entre 50 y 500).\n",
        "\n",
        "        + **frecuencia_palabra_clave**: Un número aleatorio que representa la frecuencia de una palabra clave relacionada con spam (entre 0 y 1).\n",
        "\n",
        "        + **cantidad_enlaces**: Un número aleatorio que representa la cantidad de enlaces en el email (entre 0 y 10).\n",
        "\n",
        "      + Cada email será etiquetado como **Spam (1)** o **No Spam (0)**.\n",
        "\n",
        "  + 2.- Entrenar el modelo SVM:\n",
        "\n",
        "    Función: `entrenar_modelo_svm(datos, etiquetas)`\n",
        "\n",
        "      + Esta función debe tomar un conjunto de datos con características de emails y sus etiquetas, y entrenar un modelo de clasificación.\n",
        "\n",
        "      + La salida debe ser el modelo entrenado.\n",
        "\n",
        "  + 3.- Realizar predicciones:\n",
        "\n",
        "    Función: `predecir_email(modelo, longitud_mensaje, frecuencia_palabra_clave, cantidad_enlaces)`\n",
        "\n",
        "      + Esta función debe tomar un modelo entrenado y las características de un nuevo email, y devolver si el email es **Spam** o **No Spam**.\n",
        "\n",
        "      + La salida debe ser una cadena de texto que indique si el email es **Spam** o **No Spam**.\n",
        "<br>\n",
        "+ Instrucciones:\n",
        "\n",
        "  + 1.- **Generar Datos**: Para empezar, debes generar un conjunto de datos con emails etiquetados (Spam o No Spam).\n",
        "\n",
        "  + 2.- **Entrenar el Modelo**: Entrenar el modelo de clasificación basado en las características del email.\n",
        "\n",
        "  + 3.- **Predicciones**: Utiliza el modelo entrenado para predecir si un email es Spam o No Spam según sus características."
      ],
      "metadata": {
        "id": "-NHOio5s4ko1"
      }
    },
    {
      "cell_type": "markdown",
      "source": [
        "## Importación de librerías"
      ],
      "metadata": {
        "id": "8HmOJ4VS_CBm"
      }
    },
    {
      "cell_type": "code",
      "source": [
        "import numpy as np\n",
        "from sklearn.svm import SVC\n",
        "from sklearn.model_selection import train_test_split"
      ],
      "metadata": {
        "id": "EpnV4tkp_G5_"
      },
      "execution_count": 28,
      "outputs": []
    },
    {
      "cell_type": "markdown",
      "source": [
        "## Definición de la función generar_datos_emails"
      ],
      "metadata": {
        "id": "7ZjWtoqV-J-r"
      }
    },
    {
      "cell_type": "code",
      "source": [
        "def generar_datos_emails(num_muestras):\n",
        "    \"\"\"\n",
        "    Genera un conjunto de datos ficticios para la clasificación de emails (Spam o No Spam).\n",
        "\n",
        "    Args:\n",
        "        num_muestras (int): El número de emails a generar.\n",
        "\n",
        "    Returns:\n",
        "        tuple: Una tupla que contiene dos elementos:\n",
        "            - datos (np.ndarray): Un array NumPy con las características de los emails.\n",
        "              Cada fila representa un email y las columnas son:\n",
        "              [longitud_mensaje, frecuencia_palabra_clave, cantidad_enlaces].\n",
        "            - etiquetas (np.ndarray): Un array NumPy con las etiquetas de los emails\n",
        "              (1 para Spam, 0 para No Spam).\n",
        "    \"\"\"\n",
        "    longitud_mensaje = np.random.randint(50, 501, num_muestras)\n",
        "    frecuencia_palabra_clave = np.random.uniform(0, 1, num_muestras)\n",
        "    cantidad_enlaces = np.random.randint(0, 11, num_muestras)\n",
        "\n",
        "    # Asigna etiquetas a los emails (1 para Spam, 0 para No Spam)\n",
        "    # Un email se considera Spam si cumple alguna de las siguientes condiciones:\n",
        "    # - La longitud del mensaje es mayor a 200 caracteres.\n",
        "    # - La frecuencia de la palabra clave es mayor a 0.5.\n",
        "    # - La cantidad de enlaces es mayor a 5.\n",
        "    etiquetas = ((longitud_mensaje > 200) | (frecuencia_palabra_clave > 0.5) | (cantidad_enlaces > 5)).astype(int)\n",
        "\n",
        "    datos = np.column_stack((longitud_mensaje, frecuencia_palabra_clave, cantidad_enlaces))\n",
        "    return datos, etiquetas"
      ],
      "metadata": {
        "id": "H604VO6Y-S3b"
      },
      "execution_count": 33,
      "outputs": []
    },
    {
      "source": [],
      "cell_type": "code",
      "metadata": {
        "id": "_hSK1WUuMEFG"
      },
      "execution_count": null,
      "outputs": []
    },
    {
      "cell_type": "markdown",
      "source": [
        "## Definición de la función entrenar_modelo_svm"
      ],
      "metadata": {
        "id": "qzHHBVYm-0d4"
      }
    },
    {
      "cell_type": "code",
      "source": [
        "def entrenar_modelo_svm(datos, etiquetas):\n",
        "    \"\"\"\n",
        "    Entrena un modelo de clasificación SVM con los datos proporcionados.\n",
        "\n",
        "    Args:\n",
        "        datos (np.ndarray): Un array NumPy con las características de los emails.\n",
        "        etiquetas (np.ndarray): Un array NumPy con las etiquetas de los emails (0 o 1).\n",
        "\n",
        "    Returns:\n",
        "        sklearn.svm.SVC: El modelo SVM entrenado.\n",
        "    \"\"\"\n",
        "    X_train, X_test, y_train, y_test = train_test_split(datos, etiquetas, test_size=0.2, random_state=42)\n",
        "    modelo = SVC(kernel='linear')\n",
        "    modelo.fit(X_train, y_train)\n",
        "    return modelo"
      ],
      "metadata": {
        "id": "A3gzapcB-yjn"
      },
      "execution_count": 30,
      "outputs": []
    },
    {
      "cell_type": "markdown",
      "source": [
        "## Definición de la función predecir_email"
      ],
      "metadata": {
        "id": "AHj7v43F_ceX"
      }
    },
    {
      "cell_type": "code",
      "source": [
        "def predecir_email(modelo, longitud_mensaje, frecuencia_palabra_clave, cantidad_enlaces):\n",
        "    prediccion = modelo.predict([[longitud_mensaje, frecuencia_palabra_clave, cantidad_enlaces]])\n",
        "    if prediccion[0] == 1:\n",
        "        return \"el email es Spam\"\n",
        "    else:\n",
        "        return \"El email es No Spam\"\n",
        ""
      ],
      "metadata": {
        "id": "igR45AEk_kwx"
      },
      "execution_count": 31,
      "outputs": []
    },
    {
      "cell_type": "code",
      "source": [
        "datos, etiquetas = generar_datos_emails(1000)\n",
        "modelo = entrenar_modelo_svm(datos, etiquetas)\n",
        "y_pred = predecir_email(modelo, 600, 0.8, 5)\n",
        "print(y_pred)"
      ],
      "metadata": {
        "colab": {
          "base_uri": "https://localhost:8080/"
        },
        "id": "WCDR256rI0Wr",
        "outputId": "178ca8f4-cccb-4e53-d3eb-75c78bbe9d2f"
      },
      "execution_count": 32,
      "outputs": [
        {
          "output_type": "stream",
          "name": "stdout",
          "text": [
            "el email es Spam\n"
          ]
        }
      ]
    }
  ]
}