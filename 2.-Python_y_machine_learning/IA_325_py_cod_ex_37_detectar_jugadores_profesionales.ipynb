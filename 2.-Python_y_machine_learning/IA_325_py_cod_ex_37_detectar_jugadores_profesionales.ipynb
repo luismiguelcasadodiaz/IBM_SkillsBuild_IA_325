{
  "nbformat": 4,
  "nbformat_minor": 0,
  "metadata": {
    "colab": {
      "provenance": [],
      "authorship_tag": "ABX9TyPDxnhFxismQQmHj0ZmBto+",
      "include_colab_link": true
    },
    "kernelspec": {
      "name": "python3",
      "display_name": "Python 3"
    },
    "language_info": {
      "name": "python"
    }
  },
  "cells": [
    {
      "cell_type": "markdown",
      "metadata": {
        "id": "view-in-github",
        "colab_type": "text"
      },
      "source": [
        "<a href=\"https://colab.research.google.com/github/luismiguelcasadodiaz/IBM_SkillsBuild_IA_325/blob/main/IA_325_py_cod_ex_37.ipynb\" target=\"_parent\"><img src=\"https://colab.research.google.com/assets/colab-badge.svg\" alt=\"Open In Colab\"/></a>"
      ]
    },
    {
      "cell_type": "markdown",
      "source": [
        "# Detectar jugadores con potencial profesional  con SVM\n",
        "\n",
        "🧠 Contexto:\n",
        "\n",
        "Imagina que trabajas en una plataforma de eSports y tu equipo está desarrollando un sistema de scouting para detectar **jugadores con potencial profesional** en base a sus estadísticas de juego.\n",
        "\n",
        "Tu tarea es construir un **modelo de clasificación usando SVM (Support Vector Machine)** que, dada la información de un jugador, prediga si tiene el perfil de **jugador profesional** (1) o **casual** (0).\n",
        "\n",
        "## 📋 Objetivo del ejercicio\n",
        "\n",
        "Implementar un clasificador que:\n",
        "\n",
        "+ Use datos simulados de jugadores (partidas ganadas, horas jugadas, precisión, velocidad de reacción, estrategia).\n",
        "\n",
        "+ Entrene un modelo de SVM con scikit-learn.\n",
        "\n",
        "+ Clasifique a nuevos jugadores como “profesional” o “casual”.\n",
        "\n",
        "+ Evalúe el rendimiento del modelo utilizando la métrica de precisión (accuracy_score).\n",
        "\n",
        "📁 Datos de entrada:\n",
        "\n",
        "Cada jugador se representa con las siguientes características (todas normalizadas entre 0 y 1):\n",
        "\n",
        "|**Atributo**|**Descripción**|\n",
        "|-|-|\n",
        "|win_rate|Porcentaje de partidas ganadas|\n",
        "|hours_played|Total de horas jugadas|\n",
        "|accuracy|Precisión al disparar|\n",
        "|reaction_time|Velocidad de reaccion (menor, mejor)|\n",
        "|strategic_play|Capacidad de planificación estratégica|\n",
        "\n",
        "\n",
        "\n",
        "## 🧪 Ejemplo de datos\n",
        "\n",
        "```python\n",
        "simulator = GameSimulator()\n",
        "simulator.run()\n",
        "```\n",
        "\n",
        "##Salida esperada\n",
        "\n",
        "```python\n",
        "Jugador profesional:\n",
        "Precisión del modelo: 1.00\n",
        "```\n",
        "\n",
        "🛠️ Tareas a realizar:\n",
        "\n",
        "  + 1.- Implementa la clase ProPlayerClassifier con los métodos:\n",
        "    + train(X, y) para entrenar el modelo.\n",
        "    + predict(player_stats) para predecir si un jugador es profesional.\n",
        "    + evaluate(X_test, y_test): evalúa el modelo con precisión.\n",
        "  + 2.- Usa sklearn.svm.SVC como modelo base.\n",
        "  + 3.- Prueba el modelo con al menos dos predicciones de distintos jugadores.\n",
        "  + 4.- Evalúa su rendimiento con accuracy_score de sklearn.metrics"
      ],
      "metadata": {
        "id": "oKARVdMPOzFN"
      }
    },
    {
      "cell_type": "code",
      "execution_count": null,
      "metadata": {
        "id": "mz_l4kHxOrn3"
      },
      "outputs": [],
      "source": []
    }
  ]
}