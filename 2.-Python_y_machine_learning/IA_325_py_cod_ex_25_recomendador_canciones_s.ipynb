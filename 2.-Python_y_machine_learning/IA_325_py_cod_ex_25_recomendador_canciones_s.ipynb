{
  "nbformat": 4,
  "nbformat_minor": 0,
  "metadata": {
    "colab": {
      "provenance": [],
      "collapsed_sections": [
        "Sf-ePV733LAs"
      ],
      "authorship_tag": "ABX9TyP125GPRRZGZfHWqFOUCT8y",
      "include_colab_link": true
    },
    "kernelspec": {
      "name": "python3",
      "display_name": "Python 3"
    },
    "language_info": {
      "name": "python"
    }
  },
  "cells": [
    {
      "cell_type": "markdown",
      "metadata": {
        "id": "view-in-github",
        "colab_type": "text"
      },
      "source": [
        "<a href=\"https://colab.research.google.com/github/luismiguelcasadodiaz/IBM_SkillsBuild_IA_325/blob/main/IA_325_py_cod_ex_25_s.ipynb\" target=\"_parent\"><img src=\"https://colab.research.google.com/assets/colab-badge.svg\" alt=\"Open In Colab\"/></a>"
      ]
    },
    {
      "cell_type": "markdown",
      "source": [
        "# Recomendador de canciones inteligente\n",
        "\n",
        "## 🧠 Contexto\n",
        "\n",
        "Estás desarrollando un sistema para una plataforma musical que quiere ofrecer **recomendaciones automáticas** basadas en características cuantitativas de las canciones, como su energía o duración.\n",
        "\n",
        "Utilizarás el algoritmo **K-Nearest Neighbors (KNN)** de la biblioteca scikit-learn para encontrar las canciones más similares a una canción objetivo.\n",
        "\n",
        "\n",
        "\n",
        "## 🎯 Objetivo del ejercicio\n",
        "\n",
        "Implementar un sistema de recomendación de canciones en Python, usando el modelo de K Vecinos Más Cercanos de scikit-learn.\n",
        "\n",
        "El sistema debe permitir recomendar canciones similares a partir de características musicales numéricas.\n",
        "\n",
        "\n",
        "\n",
        "## 📌 Requisitos\n",
        "\n",
        "+ 🧩 1. Clase Song: Represente una canción.\n",
        "  + Atributos:\n",
        "\n",
        "    + title (str): título de la canción.\n",
        "    + artist (str): artista o grupo musical.\n",
        "    + energy (float): energía de la canción (0.4 a 1.0).\n",
        "    + danceability (float): cuán bailable es la canción (0.4 a 1.0).\n",
        "    + duration (int): duración en segundos (180 a 300).\n",
        "    + popularity (int): nivel de popularidad (50 a 100).\n",
        "\n",
        "  + Métodos:\n",
        "    + to_vector(): que devuelva una lista con los valores [energy, danceability, duration, popularity].\n",
        "\n",
        "    + `__str__()`: que permita imprimir la canción en formato \"Song Title by Artist\".\n",
        "\n",
        "\n",
        "\n",
        "+ 🤖 2. Clase SongRecommender: Usa el algoritmo de KNN de scikit-learn:\n",
        "\n",
        "  + Atributos\n",
        "    + k :número de vecinos a considerar\n",
        "  + Métodos:\n",
        "    + fit(song_list) debe:\n",
        "      + Convertir la lista de canciones en una matriz de características numéricas.\n",
        "      + Ajustar el modelo NearestNeighbors con estas características.\n",
        "    + recommend(target_song) debe:\n",
        "      + Obtener los k vecinos más cercanos a la canción objetivo y Devolver la lista de canciones recomendadas (sin incluir la propia canción objetivo si aparece).\n",
        "\n",
        "\n",
        "\n",
        "+ 🔁 3. Clase SongGenerator\n",
        "  + Atributos\n",
        "    + num_songs: (por defecto 30).\n",
        "  + Métodos\n",
        "    + generate(): genera canciones aleatorias con numpy, usando nombres como \"Song1\", \"Song2\", etc., y artistas \"Artist1\", \"Artist2\", etc.\n",
        "\n",
        "\n",
        "\n",
        "+ 🧪 4. Clase SongRecommendationExample\n",
        "\n",
        "  + Genere una lista de canciones con SongGenerator.\n",
        "  + Defina una canción personalizada como objetivo (target_song).\n",
        "  + Cree una instancia de SongRecommender, la entrene con las canciones y obtenga recomendaciones.\n",
        "  + Imprima por pantalla las canciones recomendadas.\n",
        "\n",
        "\n",
        "\n",
        "## Ejemplo de salida:\n",
        "```python\n",
        "example = SongRecommendationExample()\n",
        "example.run()\n",
        "```\n",
        "\n",
        "\n",
        "## Salida esperada\n",
        "\n",
        "🎵 Recomendaciones para 'Mi Canción':\n",
        " - Song29 by Artist4\n",
        " - Song11 by Artist1\n",
        " - Song25 by Artist5\n",
        "\n",
        "\n",
        "## 💡 Recomendaciones para completar el ejercicio\n",
        "\n",
        "+ Usa numpy para generar valores aleatorios.\n",
        "+ Recuerda importar NearestNeighbors desde sklearn.neighbors.\n",
        "+ Asegúrate de convertir los objetos Song a vectores antes de ajustar o predecir con el modelo.\n",
        "+ No incluyas la canción objetivo entre las recomendaciones (verifica si es necesario).\n",
        "\n"
      ],
      "metadata": {
        "id": "XZXqvo6rvVEH"
      }
    },
    {
      "cell_type": "markdown",
      "source": [
        "## Importación de librerías"
      ],
      "metadata": {
        "id": "yIUgkbjS0qef"
      }
    },
    {
      "cell_type": "code",
      "execution_count": 147,
      "metadata": {
        "id": "iKXGi5WEvSPM"
      },
      "outputs": [],
      "source": [
        "import numpy as np\n",
        "from sklearn.neighbors import KNeighborsClassifier\n",
        "import unittest"
      ]
    },
    {
      "cell_type": "markdown",
      "source": [
        "## Definición de la clase Song"
      ],
      "metadata": {
        "id": "7P04PdHs3Aqs"
      }
    },
    {
      "cell_type": "code",
      "source": [
        "class Song:\n",
        "  \"\"\"Representa una canción con sus características numéricas.\n",
        "\n",
        "  Atributos:\n",
        "      title (str): Título de la canción.\n",
        "      artist (str): Artista de la canción.\n",
        "      energy (float): Energía de la canción (0.4-1.0).\n",
        "      danceability (float): Bailabilidad de la canción (0.4-1.0).\n",
        "      duration (int): Duración en segundos (180-300).\n",
        "      popularity (int): Popularidad de la canción (50-100).\n",
        "  \"\"\"\n",
        "  def __init__(self, title, artist, energy, danceability, duration, popularity):\n",
        "    \"\"\"Inicializa una nueva instancia de Song.\"\"\"\n",
        "    if not isinstance(title, str) or len(title) == 0:\n",
        "      raise ValueError(\"El título debe ser una cadena de texto no vacía.\")\n",
        "    if not isinstance(artist, str) or len(artist) == 0:\n",
        "      raise ValueError(\"El artista debe ser una cadena de texto no vacía\")\n",
        "    if not isinstance(energy, float) or energy < 0.4 or energy > 1.0:\n",
        "      raise ValueError(\"La energía debe estar entre 0.4 y 1.0\")\n",
        "    if not isinstance(danceability, float) or danceability < 0.4 or danceability > 1.0:\n",
        "      raise ValueError(\"La bailabilidad debe estar entre 0.4 y 1.0\")\n",
        "    if not isinstance(duration, int) or duration < 180 or duration > 300:\n",
        "      raise ValueError(\"La duración debe estar entre 180 y 300 segundos\")\n",
        "    if not isinstance(popularity, int) or popularity < 50 or popularity > 100:\n",
        "      raise ValueError(\"La popularidad debe estar entre 50 y 100\")\n",
        "    self.title = title\n",
        "    self.artist = artist\n",
        "    self.energy = energy\n",
        "    self.danceability = danceability\n",
        "    self.duration = duration\n",
        "    self.popularity = popularity\n",
        "\n",
        "  def to_vector(self):\n",
        "    \"\"\"Devuelve un vector numérico de las características.\"\"\"\n",
        "    return [self.energy, self.danceability, self.duration, self.popularity]\n",
        "  def __str__(self):\n",
        "    \"\"\"Devuelve una representación en cadena de la canción.\"\"\"\n",
        "    return f\"Song {self.title:<10} by {self.artist}\""
      ],
      "metadata": {
        "id": "fBWs0CMI1Cn7"
      },
      "execution_count": 148,
      "outputs": []
    },
    {
      "cell_type": "markdown",
      "source": [
        "#### Test para la clase Song"
      ],
      "metadata": {
        "id": "gcKR9xke3FUi"
      }
    },
    {
      "cell_type": "code",
      "source": [
        "class TestSong(unittest.TestCase):\n",
        "    def test_song_creation_valid(self):\n",
        "        # Cracción de una canción válida\n",
        "        song = Song(\"Test Title\", \"Test Artist\", 0.7, 0.8, 240, 75)\n",
        "        self.assertEqual(song.title, \"Test Title\")\n",
        "        self.assertEqual(song.artist, \"Test Artist\")\n",
        "        self.assertEqual(song.energy, 0.7)\n",
        "        self.assertEqual(song.danceability, 0.8)\n",
        "        self.assertEqual(song.duration, 240)\n",
        "        self.assertEqual(song.popularity, 75)\n",
        "\n",
        "    def test_song_creation_invalid_title(self):\n",
        "        # Probando las restricciones del nombre de la canción\n",
        "        with self.assertRaises(ValueError):\n",
        "            Song(\"\", \"Test Artist\", 0.7, 0.8, 240, 75)\n",
        "        with self.assertRaises(ValueError):\n",
        "            Song(123, \"Test Artist\", 0.7, 0.8, 240, 75)\n",
        "\n",
        "    def test_song_creation_invalid_artist(self):\n",
        "        # Probando las restricciones del artista\n",
        "        with self.assertRaises(ValueError):\n",
        "            Song(\"Test Title\", \"\", 0.7, 0.8, 240, 75)\n",
        "        with self.assertRaises(ValueError):\n",
        "            Song(\"Test Title\", 123, 0.7, 0.8, 240, 75)\n",
        "\n",
        "    def test_song_creation_invalid_energy(self):\n",
        "        # Probando los limites de la energía y un tipo erroneos\n",
        "        with self.assertRaises(ValueError):\n",
        "            Song(\"Test Title\", \"Test Artist\", 0.3, 0.8, 240, 75)\n",
        "        with self.assertRaises(ValueError):\n",
        "            Song(\"Test Title\", \"Test Artist\", 1.1, 0.8, 240, 75)\n",
        "        with self.assertRaises(ValueError):\n",
        "            Song(\"Test Title\", \"Test Artist\", \"invalid\", 0.8, 240, 75)\n",
        "\n",
        "    def test_song_creation_invalid_danceability(self):\n",
        "        # Probando los limites de la bailabilidad y un tipo erroneos\n",
        "        with self.assertRaises(ValueError):\n",
        "            Song(\"Test Title\", \"Test Artist\", 0.7, 0.3, 240, 75)\n",
        "        with self.assertRaises(ValueError):\n",
        "            Song(\"Test Title\", \"Test Artist\", 0.7, 1.1, 240, 75)\n",
        "        with self.assertRaises(ValueError):\n",
        "            Song(\"Test Title\", \"Test Artist\", 0.7, \"invalid\", 240, 75)\n",
        "\n",
        "    def test_song_creation_invalid_duration(self):\n",
        "        # Probando los limites de la duración y un tipo erroneos\n",
        "        with self.assertRaises(ValueError):\n",
        "            Song(\"Test Title\", \"Test Artist\", 0.7, 0.8, 179, 75)\n",
        "        with self.assertRaises(ValueError):\n",
        "            Song(\"Test Title\", \"Test Artist\", 0.7, 0.8, 301, 75)\n",
        "        with self.assertRaises(ValueError):\n",
        "            Song(\"Test Title\", \"Test Artist\", 0.7, 0.8, \"invalid\", 75)\n",
        "\n",
        "    def test_song_creation_invalid_popularity(self):\n",
        "        # Probando los limites de la popularidad y un tipo erroneos\n",
        "        with self.assertRaises(ValueError):\n",
        "            Song(\"Test Title\", \"Test Artist\", 0.7, 0.8, 240, 49)\n",
        "        with self.assertRaises(ValueError):\n",
        "            Song(\"Test Title\", \"Test Artist\", 0.7, 0.8, 240, 101)\n",
        "        with self.assertRaises(ValueError):\n",
        "            Song(\"Test Title\", \"Test Artist\", 0.7, 0.8, 240, \"invalid\")\n",
        "\n",
        "    def test_to_vector(self):\n",
        "        # validación del método to_vectos devuelve una lista con los parametros\n",
        "        # introducidos en la creación\n",
        "        song = Song(\"Test Title\", \"Test Artist\", 0.7, 0.8, 240, 75)\n",
        "        self.assertEqual(song.to_vector(), [0.7, 0.8, 240, 75])\n",
        "\n",
        "    def test_str_representation(self):\n",
        "        # Prueba el método __str__()\n",
        "        song = Song(\"Test Title\", \"Test Artist\", 0.7, 0.8, 240, 75)\n",
        "        self.assertEqual(str(song), \"Song Test Title by Test Artist\")"
      ],
      "metadata": {
        "id": "lT203F8P2MsF"
      },
      "execution_count": 149,
      "outputs": []
    },
    {
      "cell_type": "code",
      "source": [
        "unittest.main(argv=['first-arg-is-ignored'], exit=False)"
      ],
      "metadata": {
        "colab": {
          "base_uri": "https://localhost:8080/"
        },
        "id": "XM40OJ2u2z8W",
        "outputId": "4bbabc4c-4259-41fc-e60d-c310fe110659"
      },
      "execution_count": 150,
      "outputs": [
        {
          "output_type": "stream",
          "name": "stderr",
          "text": [
            "..............\n",
            "----------------------------------------------------------------------\n",
            "Ran 14 tests in 0.020s\n",
            "\n",
            "OK\n"
          ]
        },
        {
          "output_type": "execute_result",
          "data": {
            "text/plain": [
              "<unittest.main.TestProgram at 0x7c280d1a12d0>"
            ]
          },
          "metadata": {},
          "execution_count": 150
        }
      ]
    },
    {
      "cell_type": "markdown",
      "source": [
        "## Definición de la clase SongRecommender"
      ],
      "metadata": {
        "id": "Sf-ePV733LAs"
      }
    },
    {
      "cell_type": "code",
      "source": [
        "class SongRecommender:\n",
        "  \"\"\"Recomendador de canciones basado en el algoritmo K-Nearest Neighbors.\n",
        "\n",
        "  Utiliza características numéricas de las canciones para encontrar canciones\n",
        "  similares a una canción objetivo.\n",
        "\n",
        "  Atributos:\n",
        "      k (int): El número de vecinos (canciones más cercanas) a considerar\n",
        "               para la recomendación. Por defecto es 5.\n",
        "      model: Una instancia de NearestNeighbors de scikit-learn.\n",
        "  \"\"\"\n",
        "  def __init__(self, k=5):\n",
        "    \"\"\"Inicializa una nueva instancia de SongRecommender.\n",
        "\n",
        "    Args:\n",
        "        k (int, optional): El número de vecinos a considerar. Por defecto es 5.\n",
        "    \"\"\"\n",
        "    self.k = k\n",
        "    self.model = KNeighborsClassifier(n_neighbors=k)\n",
        "    self.song_list = []\n",
        "\n",
        "  def fit(self, song_list):\n",
        "    \"\"\"Entrena el modelo NearestNeighbors con una lista de canciones.\n",
        "\n",
        "    Convierte las canciones a vectores numéricos y ajusta el modelo.\n",
        "\n",
        "    Args:\n",
        "        song_list (list): Una lista de objetos Song.\n",
        "    \"\"\"\n",
        "    self.song_list = song_list\n",
        "    X = np.array([song.to_vector() for song in song_list])\n",
        "    # Usamos loa indices como etiquetas tontas para el  KNeighborsClassifier\n",
        "    y = np.arange(len(song_list))\n",
        "    self.model.fit(X, y)\n",
        "\n",
        "  def recommend(self, target_song):\n",
        "    \"\"\"Recomienda canciones similares a una canción objetivo.\n",
        "\n",
        "    Encuentra las k canciones más cercanas a la canción objetivo basadas en\n",
        "    sus características numéricas.\n",
        "\n",
        "    Args:\n",
        "        target_song (Song): La canción objetivo para la cual se buscan\n",
        "                            recomendaciones.\n",
        "\n",
        "    Returns:\n",
        "        list: Una lista de objetos Song recomendados, excluyendo la canción\n",
        "              objetivo si aparece.\n",
        "    \"\"\"\n",
        "\n",
        "    canciones_recomendadas = []\n",
        "    target_vector = np.array(target_song.to_vector()).reshape(1, -1)\n",
        "    distances, indices = self.model.kneighbors(target_vector, n_neighbors=self.k)\n",
        "    print(\"distancias ->\", distances)\n",
        "    print(\"indices ->\",indices)\n",
        "    for indice in indices[0]:\n",
        "      if indice != target_song:\n",
        "        canciones_recomendadas.append(self.song_list[indice])\n",
        "    return canciones_recomendadas\n",
        "\n",
        "    # The indices refer to the original position in the song_list used for fitting\n",
        "    #recommended_indices = indices.flatten()\n",
        "\n",
        "    # Necesitas acceso a la lista original de canciones para devolver objetos Song.\n",
        "    # Actualmente, este método no tiene acceso a esa lista.\n",
        "    # Podrías considerar almacenar la lista de canciones en el objeto SongRecommender\n",
        "    # durante el método fit, o pasarla al método recommend.\n",
        "    # Por ahora, devolveré los índices. Necesitarías mapear estos índices\n",
        "    # de vuelta a los objetos Song originales fuera de este método.\n",
        "\n",
        "    # NOTA: Para filtrar la canción objetivo, necesitarías comparar\n",
        "    # la canción objetivo con las canciones de la lista original basándote en el índice.\n",
        "    # Esto requiere acceso a la lista original de canciones.\n",
        "\n",
        "    # Ejemplo de cómo podrías filtrar SI tuvieras acceso a la lista de canciones:\n",
        "    # lista_original_canciones = # ... la lista usada en fit ...\n",
        "    # canciones_recomendadas = [lista_original_canciones[i] for i in recommended_indices if lista_original_canciones[i] != target_song]\n",
        "    # return canciones_recomendadas\n",
        "\n",
        "    # Devolviendo índices por ahora, asumiendo que manejarás el mapeo fuera.\n"
      ],
      "metadata": {
        "id": "ndj35arg2-KT"
      },
      "execution_count": 151,
      "outputs": []
    },
    {
      "cell_type": "markdown",
      "source": [
        "## Definición de la clase SongGenerator"
      ],
      "metadata": {
        "id": "9o4hfv-S69cz"
      }
    },
    {
      "cell_type": "code",
      "source": [
        "class SongGenerator:\n",
        "  \"\"\"Generador de canciones aleatorias.\n",
        "\n",
        "  Atributos:\n",
        "      num_songs (int): El número de canciones a generar.\n",
        "\n",
        "  \"\"\"\n",
        "  def __init__(self, num_songs=30):\n",
        "    \"\"\"Inicializa una nueva instancia de SongGenerator.\n",
        "\n",
        "    Args:\n",
        "        num_songs (int, optional): El número de canciones a generar. Por defecto es 30.\n",
        "    \"\"\"\n",
        "    self.num_songs = num_songs\n",
        "\n",
        "  def generate(self):\n",
        "    lista_canciones = []\n",
        "    for i in range(1, self.num_songs + 1):\n",
        "      title = f\"Song{i}\"\n",
        "      # Supongo que hay hay la mitad de artistas que de canciones\n",
        "      artist = f\"Artist{np.random.randint(1, (self.num_songs // 2) )}\"\n",
        "      energy = np.random.uniform(0.4, 1.0)\n",
        "      danceability = np.random.uniform(0.4, 1.0)\n",
        "      duration = np.random.randint(180, 301)\n",
        "      popularity = np.random.randint(50, 101)\n",
        "      song = Song(title, artist, energy, danceability, duration, popularity)\n",
        "      lista_canciones.append(song)\n",
        "    return lista_canciones"
      ],
      "metadata": {
        "id": "EKyUG11f7DkP"
      },
      "execution_count": 152,
      "outputs": []
    },
    {
      "cell_type": "markdown",
      "source": [
        "#### Tests para la calse SongGenerator"
      ],
      "metadata": {
        "id": "F-diAfsg8Ujt"
      }
    },
    {
      "cell_type": "code",
      "source": [
        "class TestSongGenerator(unittest.TestCase):\n",
        "    def test_song_generator_default_num_songs(self):\n",
        "        # Verifica que el número por defecto de canciones se crea\n",
        "        generator = SongGenerator()\n",
        "        songs = generator.generate()\n",
        "        self.assertEqual(len(songs), 30)\n",
        "\n",
        "    def test_song_generator_custom_num_songs(self):\n",
        "        # Verifica que se crea el número de canciones pedidas\n",
        "        generator = SongGenerator(num_songs=15)\n",
        "        songs = generator.generate()\n",
        "        self.assertEqual(len(songs), 15)\n",
        "\n",
        "    def test_generated_songs_are_song_objects(self):\n",
        "        # Verificar que la lista devuelve canciones\n",
        "        generator = SongGenerator(num_songs=5)\n",
        "        songs = generator.generate()\n",
        "        for song in songs:\n",
        "            self.assertIsInstance(song, Song)\n",
        "\n",
        "    def test_generated_songs_have_valid_attributes(self):\n",
        "        # Validamos que los atributos de las canciones generadas están en rango\n",
        "        generator = SongGenerator(num_songs=10)\n",
        "        songs = generator.generate()\n",
        "        for song in songs:\n",
        "            self.assertIsInstance(song.title, str)\n",
        "            self.assertTrue(song.title.startswith(\"Song\"))\n",
        "            self.assertIsInstance(song.artist, str)\n",
        "            self.assertTrue(song.artist.startswith(\"Artist\"))\n",
        "            self.assertIsInstance(song.energy, float)\n",
        "            self.assertTrue(0.4 <= song.energy <= 1.0)\n",
        "            self.assertIsInstance(song.danceability, float)\n",
        "            self.assertTrue(0.4 <= song.danceability <= 1.0)\n",
        "            self.assertIsInstance(song.duration, int)\n",
        "            self.assertTrue(180 <= song.duration <= 300) # The randint upper bound is exclusive, so 301 means up to 300\n",
        "            self.assertIsInstance(song.popularity, int)\n",
        "            self.assertTrue(50 <= song.popularity <= 100)\n",
        "\n",
        "    def test_generated_song_titles_and_artists_are_unique(self):\n",
        "        # Verifica la unicidad de los títulos y los artistas\n",
        "        # siguiendo la convención de nombres actual (Song1, Artist1, etc.)\n",
        "        generator = SongGenerator(num_songs=50)\n",
        "        max_artists = 50 // 2\n",
        "        songs = generator.generate()\n",
        "        titles = [song.title for song in songs]\n",
        "        artists = [song.artist for song in songs]\n",
        "        self.assertEqual(len(titles), len(set(titles)))\n",
        "        self.assertLessEqual(len(set(artists)), max_artists)"
      ],
      "metadata": {
        "id": "8iTQbSdK8Qp1"
      },
      "execution_count": 153,
      "outputs": []
    },
    {
      "cell_type": "code",
      "source": [
        "unittest.main(argv=['first-arg-is-ignored'], exit=False)"
      ],
      "metadata": {
        "colab": {
          "base_uri": "https://localhost:8080/"
        },
        "id": "E6lClOWz8TKq",
        "outputId": "2b51a96a-4b65-40a8-a53b-c27cd4934a69"
      },
      "execution_count": 154,
      "outputs": [
        {
          "output_type": "stream",
          "name": "stderr",
          "text": [
            "..............\n",
            "----------------------------------------------------------------------\n",
            "Ran 14 tests in 0.017s\n",
            "\n",
            "OK\n"
          ]
        },
        {
          "output_type": "execute_result",
          "data": {
            "text/plain": [
              "<unittest.main.TestProgram at 0x7c280cf8d690>"
            ]
          },
          "metadata": {},
          "execution_count": 154
        }
      ]
    },
    {
      "cell_type": "markdown",
      "source": [
        "## Definición de la clase SongRecommendationExample"
      ],
      "metadata": {
        "id": "sPdsXgGJ-wSz"
      }
    },
    {
      "cell_type": "code",
      "source": [
        "class SongRecommendationExample:\n",
        "  \"\"\"Ejemplo de uso del recomendador de canciones.\"\"\"\n",
        "  def __init__(self):\n",
        "    \"\"\"Inicializa una nueva instancia de SongRecommenderExample.\"\"\"\n",
        "    self.song_generator = SongGenerator()\n",
        "    self.lista_canciones = SongGenerator().generate()\n",
        "    self.song_recommender = SongRecommender()\n",
        "  def run(self):\n",
        "    self.song_recommender.fit(self.lista_canciones)\n",
        "    cancion_objetivo = Song(\"Mi Canción\", \"Mi Artista\", 0.7, 0.8, 240, 75)\n",
        "    recomendaciones = self.song_recommender.recommend(cancion_objetivo)\n",
        "    print(\"Recomendaciones para 'Mi Canción':\")\n",
        "    for recomendacion in recomendaciones:\n",
        "      print(f\"- {recomendacion}\")"
      ],
      "metadata": {
        "id": "Y6SP1f6w--QD"
      },
      "execution_count": 155,
      "outputs": []
    },
    {
      "cell_type": "code",
      "source": [
        "example = SongRecommendationExample()\n",
        "example.run()"
      ],
      "metadata": {
        "colab": {
          "base_uri": "https://localhost:8080/"
        },
        "id": "ArBZfWolBuy3",
        "outputId": "69b3f8f7-fb54-4c13-bbf4-9ff3029b809f"
      },
      "execution_count": 156,
      "outputs": [
        {
          "output_type": "stream",
          "name": "stdout",
          "text": [
            "distancias -> [[ 1.02112468 10.00672477 12.53608806 16.4935788  16.97188527]]\n",
            "indices -> [[15  6 29  1 28]]\n",
            "Recomendaciones para 'Mi Canción':\n",
            "- Song Song16     by Artist2\n",
            "- Song Song7      by Artist14\n",
            "- Song Song30     by Artist7\n",
            "- Song Song2      by Artist6\n",
            "- Song Song29     by Artist8\n"
          ]
        }
      ]
    },
    {
      "cell_type": "code",
      "source": [
        "13 //2"
      ],
      "metadata": {
        "colab": {
          "base_uri": "https://localhost:8080/"
        },
        "id": "-JcmtU9sCht6",
        "outputId": "931cb35e-3a0f-46c2-94dc-904a1a48d665"
      },
      "execution_count": 157,
      "outputs": [
        {
          "output_type": "execute_result",
          "data": {
            "text/plain": [
              "6"
            ]
          },
          "metadata": {},
          "execution_count": 157
        }
      ]
    },
    {
      "cell_type": "code",
      "source": [],
      "metadata": {
        "id": "kJr0fkU8Cjqg"
      },
      "execution_count": 157,
      "outputs": []
    }
  ]
}