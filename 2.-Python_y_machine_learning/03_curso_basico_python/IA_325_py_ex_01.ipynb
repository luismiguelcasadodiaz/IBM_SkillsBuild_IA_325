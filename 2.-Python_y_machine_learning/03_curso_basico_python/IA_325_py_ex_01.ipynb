{
  "nbformat": 4,
  "nbformat_minor": 0,
  "metadata": {
    "colab": {
      "provenance": [],
      "authorship_tag": "ABX9TyPyHbkDvFpjIw2pgtotUhR0",
      "include_colab_link": true
    },
    "kernelspec": {
      "name": "python3",
      "display_name": "Python 3"
    },
    "language_info": {
      "name": "python"
    }
  },
  "cells": [
    {
      "cell_type": "markdown",
      "metadata": {
        "id": "view-in-github",
        "colab_type": "text"
      },
      "source": [
        "<a href=\"https://colab.research.google.com/github/luismiguelcasadodiaz/IBM_SkillsBuild_IA_325/blob/main/IA_325_py_ex_01.ipynb\" target=\"_parent\"><img src=\"https://colab.research.google.com/assets/colab-badge.svg\" alt=\"Open In Colab\"/></a>"
      ]
    },
    {
      "cell_type": "markdown",
      "source": [
        "Imprime una frase\n",
        "\"La frase tiene n palabras\"\n",
        "\n",
        "siendo n el número de palabras de la frase.\n",
        "\n",
        "frase=\"Este es el primer ejercicio de python del curso introdución a la IA del marzo del año 25\"\n",
        "\n",
        "Explica con comentarios lo que estas haciendo."
      ],
      "metadata": {
        "id": "5nVwGXZ4E3z9"
      }
    },
    {
      "cell_type": "code",
      "execution_count": 2,
      "metadata": {
        "id": "Dq1fgUsWEtTR"
      },
      "outputs": [],
      "source": []
    }
  ]
}