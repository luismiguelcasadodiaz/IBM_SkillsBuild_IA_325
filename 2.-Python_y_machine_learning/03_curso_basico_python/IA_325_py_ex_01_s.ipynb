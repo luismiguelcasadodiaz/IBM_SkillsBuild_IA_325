{
  "nbformat": 4,
  "nbformat_minor": 0,
  "metadata": {
    "colab": {
      "provenance": [],
      "authorship_tag": "ABX9TyOFDCyD6YsRTdKhulB0nWeo",
      "include_colab_link": true
    },
    "kernelspec": {
      "name": "python3",
      "display_name": "Python 3"
    },
    "language_info": {
      "name": "python"
    }
  },
  "cells": [
    {
      "cell_type": "markdown",
      "metadata": {
        "id": "view-in-github",
        "colab_type": "text"
      },
      "source": [
        "<a href=\"https://colab.research.google.com/github/luismiguelcasadodiaz/IBM_SkillsBuild_IA_325/blob/main/IA_325_py_ex_01_s.ipynb\" target=\"_parent\"><img src=\"https://colab.research.google.com/assets/colab-badge.svg\" alt=\"Open In Colab\"/></a>"
      ]
    },
    {
      "cell_type": "markdown",
      "source": [
        "Imprime una frase\n",
        "\"La frase tiene n palabras\"\n",
        "\n",
        "siendo n el número de palabras de la frase.\n",
        "\n",
        "frase=\"Este es el primer ejercicio de python del curso introdución a la IA del marzo del año 25\"\n",
        "\n",
        "Explica con comentarios lo que estas haciendo."
      ],
      "metadata": {
        "id": "5nVwGXZ4E3z9"
      }
    },
    {
      "cell_type": "code",
      "execution_count": 4,
      "metadata": {
        "id": "Dq1fgUsWEtTR"
      },
      "outputs": [],
      "source": [
        "# Defino los datos de entrada\n",
        "frase=\"Este es el primer ejercicio de python del curso introdución a la IA del marzo del año 25\""
      ]
    },
    {
      "cell_type": "code",
      "source": [
        "# Creo una lista de palabras\n",
        "palabras=frase.split()"
      ],
      "metadata": {
        "id": "5EFDT_zRxnCQ"
      },
      "execution_count": 5,
      "outputs": []
    },
    {
      "cell_type": "code",
      "source": [
        "# Cuento el número de palabras\n",
        "numero = len(palabras)"
      ],
      "metadata": {
        "id": "05Por9Q2x0Du"
      },
      "execution_count": 7,
      "outputs": []
    },
    {
      "cell_type": "code",
      "source": [
        "# Muestro el número de palabras\n",
        "print(\"La frase tiene {} palabras \".format(numero))"
      ],
      "metadata": {
        "colab": {
          "base_uri": "https://localhost:8080/"
        },
        "id": "IY_s2NacyDku",
        "outputId": "bbcb238d-29aa-4cf2-e8e3-ab4722d77b89"
      },
      "execution_count": 10,
      "outputs": [
        {
          "output_type": "stream",
          "name": "stdout",
          "text": [
            "La frase tiene 18 palabras \n"
          ]
        }
      ]
    },
    {
      "cell_type": "code",
      "source": [],
      "metadata": {
        "id": "FDUU8MuayneX"
      },
      "execution_count": null,
      "outputs": []
    }
  ]
}