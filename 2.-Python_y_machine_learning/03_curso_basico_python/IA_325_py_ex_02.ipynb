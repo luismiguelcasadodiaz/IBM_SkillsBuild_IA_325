{
  "nbformat": 4,
  "nbformat_minor": 0,
  "metadata": {
    "colab": {
      "provenance": [],
      "authorship_tag": "ABX9TyP5OduJ3sKcev2Rc7B9H44i",
      "include_colab_link": true
    },
    "kernelspec": {
      "name": "python3",
      "display_name": "Python 3"
    },
    "language_info": {
      "name": "python"
    }
  },
  "cells": [
    {
      "cell_type": "markdown",
      "metadata": {
        "id": "view-in-github",
        "colab_type": "text"
      },
      "source": [
        "<a href=\"https://colab.research.google.com/github/luismiguelcasadodiaz/IBM_SkillsBuild_IA_325/blob/main/IA_325_py_ex_02.ipynb\" target=\"_parent\"><img src=\"https://colab.research.google.com/assets/colab-badge.svg\" alt=\"Open In Colab\"/></a>"
      ]
    },
    {
      "cell_type": "markdown",
      "source": [
        "Crea una función positivo que acepta un número como parámetro.\n",
        "Si el número recibido es positivo, lo devuelve. En caso contrario no devuelve nada"
      ],
      "metadata": {
        "id": "wY67OT_7HgmN"
      }
    },
    {
      "cell_type": "code",
      "execution_count": null,
      "metadata": {
        "id": "-853fKx9Hbpm"
      },
      "outputs": [],
      "source": []
    },
    {
      "cell_type": "markdown",
      "source": [
        "Filtra la lista con la funcion filter() para obtener la lista de positivos"
      ],
      "metadata": {
        "id": "fb0mT0XdH32w"
      }
    },
    {
      "cell_type": "code",
      "source": [
        "lista = [1, -1, 2, -2, 3, -3]"
      ],
      "metadata": {
        "id": "Sbxh1CosI9Jj"
      },
      "execution_count": null,
      "outputs": []
    },
    {
      "cell_type": "code",
      "source": [
        "lista_positivos ="
      ],
      "metadata": {
        "id": "a5LhUxaqHf71"
      },
      "execution_count": null,
      "outputs": []
    },
    {
      "cell_type": "code",
      "source": [],
      "metadata": {
        "id": "iCdTRUevH1Ya"
      },
      "execution_count": null,
      "outputs": []
    },
    {
      "cell_type": "markdown",
      "source": [
        "Imprime la lista de positivos"
      ],
      "metadata": {
        "id": "eJU0jnP9IVQ6"
      }
    },
    {
      "cell_type": "code",
      "source": [],
      "metadata": {
        "id": "prFajDCcIZKS"
      },
      "execution_count": null,
      "outputs": []
    }
  ]
}