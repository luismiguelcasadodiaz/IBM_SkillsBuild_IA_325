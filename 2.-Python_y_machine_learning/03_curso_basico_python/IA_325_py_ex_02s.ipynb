{
  "nbformat": 4,
  "nbformat_minor": 0,
  "metadata": {
    "colab": {
      "provenance": [],
      "authorship_tag": "ABX9TyPEUPujh5HiHISQvvV8jBsm",
      "include_colab_link": true
    },
    "kernelspec": {
      "name": "python3",
      "display_name": "Python 3"
    },
    "language_info": {
      "name": "python"
    }
  },
  "cells": [
    {
      "cell_type": "markdown",
      "metadata": {
        "id": "view-in-github",
        "colab_type": "text"
      },
      "source": [
        "<a href=\"https://colab.research.google.com/github/luismiguelcasadodiaz/IBM_SkillsBuild_IA_325/blob/main/IA_325_py_ex_02s.ipynb\" target=\"_parent\"><img src=\"https://colab.research.google.com/assets/colab-badge.svg\" alt=\"Open In Colab\"/></a>"
      ]
    },
    {
      "cell_type": "markdown",
      "source": [
        "Crea una función positivo que acepta un número como parámetro.\n",
        "Si el número recibido es positivo, lo devuelve. En caso contrario no devuelve nada"
      ],
      "metadata": {
        "id": "wY67OT_7HgmN"
      }
    },
    {
      "cell_type": "code",
      "execution_count": 3,
      "metadata": {
        "id": "-853fKx9Hbpm"
      },
      "outputs": [],
      "source": [
        "def positivo(numero):\n",
        "    if numero > 0:\n",
        "        return numero"
      ]
    },
    {
      "cell_type": "markdown",
      "source": [
        "Filtra la lista con la funcion filter() para obtener la lista de positivos"
      ],
      "metadata": {
        "id": "fb0mT0XdH32w"
      }
    },
    {
      "cell_type": "code",
      "source": [
        "lista = [1, -1, 2, -2, 3, -3]"
      ],
      "metadata": {
        "id": "BBHgQyZeJd1P"
      },
      "execution_count": 4,
      "outputs": []
    },
    {
      "cell_type": "code",
      "source": [
        "lista_positivos = list(filter(positivo, lista))"
      ],
      "metadata": {
        "id": "a5LhUxaqHf71"
      },
      "execution_count": 5,
      "outputs": []
    },
    {
      "cell_type": "markdown",
      "source": [
        "Imprime la lista de positivos"
      ],
      "metadata": {
        "id": "eJU0jnP9IVQ6"
      }
    },
    {
      "cell_type": "code",
      "source": [
        "print(lista_positivos)"
      ],
      "metadata": {
        "id": "prFajDCcIZKS",
        "colab": {
          "base_uri": "https://localhost:8080/"
        },
        "outputId": "4299a394-daf3-4b6f-c60d-2b88c4db4930"
      },
      "execution_count": 6,
      "outputs": [
        {
          "output_type": "stream",
          "name": "stdout",
          "text": [
            "[1, 2, 3]\n"
          ]
        }
      ]
    }
  ]
}