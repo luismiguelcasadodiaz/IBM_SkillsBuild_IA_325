{
  "nbformat": 4,
  "nbformat_minor": 0,
  "metadata": {
    "colab": {
      "provenance": [],
      "authorship_tag": "ABX9TyP6aIDKSDyk9XEK2qVdjPAd",
      "include_colab_link": true
    },
    "kernelspec": {
      "name": "python3",
      "display_name": "Python 3"
    },
    "language_info": {
      "name": "python"
    }
  },
  "cells": [
    {
      "cell_type": "markdown",
      "metadata": {
        "id": "view-in-github",
        "colab_type": "text"
      },
      "source": [
        "<a href=\"https://colab.research.google.com/github/luismiguelcasadodiaz/IBM_SkillsBuild_IA_325/blob/main/IA_325_py_cod_ex_23_s.ipynb\" target=\"_parent\"><img src=\"https://colab.research.google.com/assets/colab-badge.svg\" alt=\"Open In Colab\"/></a>"
      ]
    },
    {
      "cell_type": "markdown",
      "source": [
        "# Seguridad en Dispositivos IoT\n",
        "\n",
        "\n",
        "## Contexto\n",
        "Imagina que formas parte del equipo de defensa digital de un hogar inteligente.\n",
        "\n",
        "Con cada vez más dispositivos conectados a internet, se vuelve crucial **detectar cuáles son seguros y cuáles podrían representar una amenaza**.\n",
        "\n",
        "Tu tarea será construir un modelo que aprenda a clasificar dispositivos IoT (Internet de las Cosas) como **seguros (1)** o **peligrosos (0)** según su tráfico de red, utilizando el algoritmo **k-Nearest Neighbors (KNN)**.\n",
        "\n",
        "\n",
        "\n",
        "##🧠 Instrucciones\n",
        "\n",
        "Crea una clase llamada `IoTKNNClassifier` que simule un sistema de detección para dispositivos IoT basado en aprendizaje automático.\n",
        "\n",
        "\n",
        "\n",
        "### 🔧 1. Constructor: __init__(self, n_neighbors=3, n_samples=50)\n",
        "\n",
        "Genera un conjunto de datos sintéticos de tamaño n_samples que simulen tráfico de red para varios dispositivos.\n",
        "\n",
        "  + Atributos\n",
        "  \n",
        "    + **paquetes_por_segundo**: un entero entre 10 y 1000\n",
        "    + **bytes_por_paquete**: un entero entre 50 y 1500\n",
        "    + **protocolo**: valores posibles 1 (TCP), 2 (UDP), o 3 (HTTP)\n",
        "    + **seguro**: valor 0 (peligroso) o 1 (seguro), generado aleatoriamente\n",
        "\n",
        "Guarda los datos en un DataFrame de pandas.\n",
        "\n",
        "Divide los datos en entrenamiento y prueba (80% - 20%) usando train_test_split.\n",
        "\n",
        "```python\n",
        "self.X = self.df.drop(columns=[\"seguro\"])\n",
        "self.y = self.df[\"seguro\"]\n",
        "```\n",
        "\n",
        "### 🏋️‍♂️ 2. Método train(self)\n",
        "\n",
        "Entrena un modelo de KNeighborsClassifier de sklearn con los datos de entrenamiento (self.X_train, self.y_train).\n",
        "\n",
        "\n",
        "\n",
        "### 📈 3. Método evaluate(self)\n",
        "\n",
        "Evalúa el modelo sobre los datos de prueba.\n",
        "\n",
        "Calcula y retorna la precisión del modelo (valor entre 0 y 1) usando accuracy_score.\n",
        "\n",
        "\n",
        "\n",
        "### 🔍 4. Método predict(self, nuevo_dispositivo)\n",
        "\n",
        "Recibe una lista con 3 valores: [paquetes_por_segundo, bytes_por_paquete, protocolo].\n",
        "\n",
        "Retorna la predicción del modelo: 1 si el dispositivo es seguro, o 0 si es peligroso.\n",
        "\n",
        "\n",
        "\n",
        "## Ejemplo de uso\n",
        "```python\n",
        "clasificador = IoTKNNClassifier(n_neighbors=3, n_samples=50)\n",
        "clasificador.train()\n",
        "print(\"Precisión del modelo:\", clasificador.evaluate())\n",
        "```\n",
        "\n",
        "#### Nuevo dispositivo IoT\n",
        "```python\n",
        "nuevo = [300, 1000, 1]  # 300 paquetes/segundo, 1000 bytes/paquete, protocolo TCP\n",
        "resultado = clasificador.predict(nuevo)\n",
        "\n",
        "if resultado == 1:\n",
        "    print(\"✅ Dispositivo seguro\")\n",
        "else:\n",
        "    print(\"⚠️ Dispositivo peligroso\")\n",
        "\n",
        "```\n",
        "#### Salida esperada\n",
        "\n",
        "Precisión del modelo: 0.6\n",
        "\n",
        "⚠️ Dispositivo peligroso\n",
        "\n",
        "\n",
        "\n",
        "\n"
      ],
      "metadata": {
        "id": "QsGhhA_-OXZ9"
      }
    },
    {
      "cell_type": "markdown",
      "source": [
        "## Importación de librerías"
      ],
      "metadata": {
        "id": "t4T_5r6CSbjO"
      }
    },
    {
      "cell_type": "code",
      "source": [
        "import pandas as pd\n",
        "import numpy as np\n",
        "from sklearn.model_selection import train_test_split\n",
        "from sklearn.neighbors import KNeighborsClassifier\n",
        "from sklearn.metrics import accuracy_score"
      ],
      "metadata": {
        "id": "PhhW-ZXLShFN"
      },
      "execution_count": 55,
      "outputs": []
    },
    {
      "cell_type": "markdown",
      "source": [
        "## Definición de la clase"
      ],
      "metadata": {
        "id": "bU81s6W6Rmw3"
      }
    },
    {
      "cell_type": "code",
      "source": [
        "class IoTKNNClassifier:\n",
        "    \"\"\"\n",
        "    Clasificador k-NN para identificar dispositivos IoT seguros o peligrosos\n",
        "    basándose en el tráfico de red.\n",
        "\n",
        "    Inicializa el clasificador con el número de vecinos y el número de\n",
        "    muestras para generar el conjunto de datos sintético inicial.\n",
        "    Realiza la división de datos en entrenamiento y prueba, y entrena\n",
        "    un modelo KNeighborsClassifier de scikit-learn.\n",
        "    \"\"\"\n",
        "    def __init__(self, n_neighbors=3, n_samples=50):\n",
        "        \"\"\"\n",
        "        Inicializa el IoTKNNClassifier.\n",
        "\n",
        "        Args:\n",
        "            n_neighbors (int): El número de vecinos a utilizar en el\n",
        "                               algoritmo k-NN (por defecto: 3).\n",
        "            n_samples (int): El número de muestras a generar para el\n",
        "                             conjunto de datos inicial (por defecto: 50).\n",
        "        \"\"\"\n",
        "        self.n_neighbors = n_neighbors\n",
        "        self.n_samples = n_samples\n",
        "        self.df = self._generate_data(self.n_samples)\n",
        "        self.X = self.df.drop(columns=[\"seguro\"])\n",
        "        self.y = self.df[\"seguro\"]\n",
        "        self.X_train, self.X_test, self.y_train, self.y_test = \\\n",
        "            train_test_split(self.X, self.y, test_size=0.2, random_state=42)\n",
        "        self.model = KNeighborsClassifier(n_neighbors=self.n_neighbors)\n",
        "\n",
        "\n",
        "    def _generate_data(self, n_samples):\n",
        "        \"\"\"\n",
        "        Genera un conjunto de datos sintético para el entrenamiento.\n",
        "\n",
        "        Args:\n",
        "            n_samples (int): El número de muestras a generar.\n",
        "\n",
        "        Returns:\n",
        "            pd.DataFrame: Un DataFrame con datos simulados de tráfico de red\n",
        "                          y la etiqueta 'seguro'.\n",
        "        \"\"\"\n",
        "        np.random.seed(42)\n",
        "        paquetes_por_segundo = np.random.randint(10, 1000, size=n_samples)\n",
        "        bytes_por_paquete = np.random.randint(50, 1500, size=n_samples)\n",
        "        protocolo = np.random.randint(1, 4, size=n_samples)  # Corrección: 1, 2 o 3\n",
        "        seguro = np.random.randint(0, 2, size=n_samples)\n",
        "        df = pd.DataFrame({\"paquetes_por_segundo\": paquetes_por_segundo,\n",
        "                           \"bytes_por_paquete\": bytes_por_paquete,\n",
        "                           \"protocolo\": protocolo,\n",
        "                           \"seguro\": seguro})\n",
        "        return df\n",
        "\n",
        "\n",
        "    def train(self):\n",
        "        \"\"\"\n",
        "        Entrena el modelo k-NN con los datos de entrenamiento.\n",
        "        \"\"\"\n",
        "        self.model.fit(self.X_train, self.y_train)\n",
        "\n",
        "\n",
        "    def evaluate(self):\n",
        "        \"\"\"\n",
        "        Evalúa el rendimiento del modelo utilizando los datos de prueba.\n",
        "\n",
        "        Returns:\n",
        "            float: La precisión del modelo en los datos de prueba.\n",
        "        \"\"\"\n",
        "        predicciones = self.model.predict(self.X_test)\n",
        "        precision = accuracy_score(self.y_test, predicciones)\n",
        "        return precision\n",
        "\n",
        "\n",
        "    def predict(self, nuevo_dispositivo: list) -> int:\n",
        "        \"\"\"\n",
        "        Predice si un nuevo dispositivo IoT es seguro o peligroso.\n",
        "\n",
        "        Args:\n",
        "            nuevo_dispositivo (list): Una lista con tres valores:\n",
        "                                      [paquetes_por_segundo, bytes_por_paquete,\n",
        "                                       protocolo].\n",
        "\n",
        "        Returns:\n",
        "            int: 1 si el dispositivo se predice como seguro, 0 si es\n",
        "                 peligroso.\n",
        "        \"\"\"\n",
        "        df_nuevo = pd.DataFrame([nuevo_dispositivo], columns=[\"paquetes_por_segundo\",\n",
        "                                                           \"bytes_por_paquete\",\n",
        "                                                           \"protocolo\"])\n",
        "        return self.model.predict(df_nuevo)[0]"
      ],
      "metadata": {
        "id": "OgRtW98uRuHR"
      },
      "execution_count": 56,
      "outputs": []
    },
    {
      "cell_type": "markdown",
      "source": [
        "## Caso de uso"
      ],
      "metadata": {
        "id": "D6W7Mwp4RjqA"
      }
    },
    {
      "cell_type": "code",
      "execution_count": 57,
      "metadata": {
        "id": "8EoTO2B5OSWx",
        "colab": {
          "base_uri": "https://localhost:8080/"
        },
        "outputId": "1c0d0daf-4377-45ed-b4a1-69e85451ab00"
      },
      "outputs": [
        {
          "output_type": "stream",
          "name": "stdout",
          "text": [
            "Precisión del modelo: 0.6\n",
            "⚠️ Dispositivo peligroso\n"
          ]
        }
      ],
      "source": [
        "clasificador = IoTKNNClassifier(n_neighbors=3, n_samples=50)\n",
        "clasificador.train()\n",
        "print(\"Precisión del modelo:\", clasificador.evaluate())\n",
        "\n",
        "nuevo = [300, 1000, 1]  # 300 paquetes/segundo, 1000 bytes/paquete, protocolo TCP\n",
        "resultado = clasificador.predict(nuevo)\n",
        "\n",
        "if resultado == 1:\n",
        "    print(\"✅ Dispositivo seguro\")\n",
        "else:\n",
        "    print(\"⚠️ Dispositivo peligroso\")"
      ]
    },
    {
      "cell_type": "code",
      "source": [
        "resultado"
      ],
      "metadata": {
        "colab": {
          "base_uri": "https://localhost:8080/"
        },
        "id": "PQN7CJx0oqoV",
        "outputId": "c2142cf6-ebe2-4a19-c9c4-ebaaf5fd1206"
      },
      "execution_count": 58,
      "outputs": [
        {
          "output_type": "execute_result",
          "data": {
            "text/plain": [
              "np.int64(0)"
            ]
          },
          "metadata": {},
          "execution_count": 58
        }
      ]
    },
    {
      "cell_type": "code",
      "source": [],
      "metadata": {
        "id": "-hQbf6191Xik"
      },
      "execution_count": 58,
      "outputs": []
    }
  ]
}