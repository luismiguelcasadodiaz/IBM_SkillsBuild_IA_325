{
  "nbformat": 4,
  "nbformat_minor": 0,
  "metadata": {
    "colab": {
      "provenance": [],
      "authorship_tag": "ABX9TyPaqSdq6e2nPtiEY8b/8rYF",
      "include_colab_link": true
    },
    "kernelspec": {
      "name": "python3",
      "display_name": "Python 3"
    },
    "language_info": {
      "name": "python"
    }
  },
  "cells": [
    {
      "cell_type": "markdown",
      "metadata": {
        "id": "view-in-github",
        "colab_type": "text"
      },
      "source": [
        "<a href=\"https://colab.research.google.com/github/luismiguelcasadodiaz/IBM_SkillsBuild_IA_325/blob/main/IA_325_py_cod_ex_06_s.ipynb\" target=\"_parent\"><img src=\"https://colab.research.google.com/assets/colab-badge.svg\" alt=\"Open In Colab\"/></a>"
      ]
    },
    {
      "cell_type": "markdown",
      "source": [
        "# Generar una Secuencia de Números\n",
        "\n",
        "+ Desarrolla una función llamada generar_secuencia_numerica\n",
        "  + Tome como entrada\n",
        "    + Un valor mínimo minimo.\n",
        "    + Un valor máximo maximo.\n",
        "    + Un paso paso.\n",
        "  + Generar una secuencia de números en el rango [minimo, maximo) con el paso especificado.\n",
        "\n",
        "\n",
        "\n",
        "def generar_secuencia_numerica(minimo, maximo, paso):\n",
        "\n",
        "   \n",
        "\n",
        "# Ejemplo de uso\n",
        "```python\n",
        "minimo = 0\n",
        "maximo = 10\n",
        "paso = 2\n",
        "resultado = generar_secuencia_numerica(minimo, maximo, paso)\n",
        "print(resultado)\n",
        "```\n",
        "\n",
        "Resultado\n",
        "\n",
        "[0 2 4 6 8]\n",
        "\n",
        "\n",
        "Tipo de datos del resultado\n",
        "\n",
        "type(resultado)\n",
        "\n",
        "\n",
        "\n",
        "numpy.ndarray\n"
      ],
      "metadata": {
        "id": "bqrGmGjVrprX"
      }
    },
    {
      "cell_type": "code",
      "source": [
        "import numpy as np"
      ],
      "metadata": {
        "id": "HFjRWPWys6xM"
      },
      "execution_count": 4,
      "outputs": []
    },
    {
      "cell_type": "code",
      "source": [
        "def generar_secuencia_numerica(minimo, maximo, paso):\n",
        "    secuencia = np.arange(minimo, maximo, paso)\n",
        "    return secuencia"
      ],
      "metadata": {
        "id": "X37a1XILsCvm"
      },
      "execution_count": 5,
      "outputs": []
    },
    {
      "cell_type": "code",
      "source": [
        "minimo = 0\n",
        "maximo = 10\n",
        "paso = 2\n",
        "resultado = generar_secuencia_numerica(minimo, maximo, paso)\n",
        "print(resultado)"
      ],
      "metadata": {
        "colab": {
          "base_uri": "https://localhost:8080/"
        },
        "id": "IJkgrvMXseIu",
        "outputId": "4e1ba851-1580-4c07-c354-dc31e81e8588"
      },
      "execution_count": 6,
      "outputs": [
        {
          "output_type": "stream",
          "name": "stdout",
          "text": [
            "[0 2 4 6 8]\n"
          ]
        }
      ]
    },
    {
      "cell_type": "code",
      "source": [
        "type(resultado)"
      ],
      "metadata": {
        "colab": {
          "base_uri": "https://localhost:8080/"
        },
        "id": "jipvrwcrsezC",
        "outputId": "2dcf0697-9902-4e4b-9bd4-b8b9773aba7a"
      },
      "execution_count": 7,
      "outputs": [
        {
          "output_type": "execute_result",
          "data": {
            "text/plain": [
              "numpy.ndarray"
            ]
          },
          "metadata": {},
          "execution_count": 7
        }
      ]
    },
    {
      "cell_type": "code",
      "source": [],
      "metadata": {
        "id": "Z37wgRV8tCsx"
      },
      "execution_count": null,
      "outputs": []
    }
  ]
}