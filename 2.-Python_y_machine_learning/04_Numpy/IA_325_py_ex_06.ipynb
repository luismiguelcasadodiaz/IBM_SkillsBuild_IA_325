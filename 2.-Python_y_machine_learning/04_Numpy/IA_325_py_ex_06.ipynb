{
  "nbformat": 4,
  "nbformat_minor": 0,
  "metadata": {
    "colab": {
      "provenance": [],
      "authorship_tag": "ABX9TyPqhTZ4xw+xy4zbVjSN5A4z",
      "include_colab_link": true
    },
    "kernelspec": {
      "name": "python3",
      "display_name": "Python 3"
    },
    "language_info": {
      "name": "python"
    }
  },
  "cells": [
    {
      "cell_type": "markdown",
      "metadata": {
        "id": "view-in-github",
        "colab_type": "text"
      },
      "source": [
        "<a href=\"https://colab.research.google.com/github/luismiguelcasadodiaz/IBM_SkillsBuild_IA_325/blob/main/IA_325_py_ex_06.ipynb\" target=\"_parent\"><img src=\"https://colab.research.google.com/assets/colab-badge.svg\" alt=\"Open In Colab\"/></a>"
      ]
    },
    {
      "cell_type": "markdown",
      "source": [
        "Crea un array unidimensional con 9 valroes enteros aleatorios entre 0 y 100"
      ],
      "metadata": {
        "id": "nrcl7zrMhGy2"
      }
    },
    {
      "cell_type": "code",
      "source": [],
      "metadata": {
        "id": "xQ6VRqfYhk6M"
      },
      "execution_count": null,
      "outputs": []
    },
    {
      "cell_type": "markdown",
      "source": [
        "Convierte el array unidimensional en una matriz 3 x 3"
      ],
      "metadata": {
        "id": "3ge3dnlyhHNi"
      }
    },
    {
      "cell_type": "code",
      "source": [],
      "metadata": {
        "id": "y5p0ScX-hlWC"
      },
      "execution_count": null,
      "outputs": []
    },
    {
      "cell_type": "markdown",
      "source": [
        "Muestra el valor del elemento de la posición inferior derecha"
      ],
      "metadata": {
        "id": "_G8vk4XbhHjA"
      }
    },
    {
      "cell_type": "code",
      "source": [],
      "metadata": {
        "id": "4U7hflSahl1t"
      },
      "execution_count": null,
      "outputs": []
    }
  ]
}