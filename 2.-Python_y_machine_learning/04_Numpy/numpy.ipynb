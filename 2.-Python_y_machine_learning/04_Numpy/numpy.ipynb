{
  "nbformat": 4,
  "nbformat_minor": 0,
  "metadata": {
    "colab": {
      "provenance": [],
      "authorship_tag": "ABX9TyMDdoc0KOuvqkTLFxxIdX+F",
      "include_colab_link": true
    },
    "kernelspec": {
      "name": "python3",
      "display_name": "Python 3"
    },
    "language_info": {
      "name": "python"
    }
  },
  "cells": [
    {
      "cell_type": "markdown",
      "metadata": {
        "id": "view-in-github",
        "colab_type": "text"
      },
      "source": [
        "<a href=\"https://colab.research.google.com/github/luismiguelcasadodiaz/IBM_SkillsBuild_IA_325/blob/main/numpy.ipynb\" target=\"_parent\"><img src=\"https://colab.research.google.com/assets/colab-badge.svg\" alt=\"Open In Colab\"/></a>"
      ]
    },
    {
      "cell_type": "markdown",
      "source": [
        "Crear un array a partir de una lista"
      ],
      "metadata": {
        "id": "GHmRQ-0MMiN1"
      }
    },
    {
      "cell_type": "code",
      "source": [
        "import numpy as np"
      ],
      "metadata": {
        "id": "SvCGpfZlM2Jp"
      },
      "execution_count": 6,
      "outputs": []
    },
    {
      "cell_type": "code",
      "execution_count": 7,
      "metadata": {
        "colab": {
          "base_uri": "https://localhost:8080/"
        },
        "id": "hNBPsiQoMeR9",
        "outputId": "ac12c7bc-96d7-466f-c7b4-9b782f961d3f"
      },
      "outputs": [
        {
          "output_type": "execute_result",
          "data": {
            "text/plain": [
              "array([1, 2, 3, 4])"
            ]
          },
          "metadata": {},
          "execution_count": 7
        }
      ],
      "source": [
        "lista = [1,2,3,4]\n",
        "array = np.array(lista)\n",
        "\n",
        "array"
      ]
    },
    {
      "cell_type": "code",
      "source": [
        "lista2 = [ [1, 2, 3], [4, 5, 6], [7, 8, 9] ]\n",
        "array2 = np.array(lista2)"
      ],
      "metadata": {
        "id": "2f68fQxOMt0h"
      },
      "execution_count": 8,
      "outputs": []
    },
    {
      "cell_type": "code",
      "source": [
        "\n",
        "print(array)\n",
        "print(\"-----\")\n",
        "print(array2)"
      ],
      "metadata": {
        "colab": {
          "base_uri": "https://localhost:8080/"
        },
        "id": "_UHWUpyXNByn",
        "outputId": "53dbae68-acb6-41e4-9302-f48f97d61bb4"
      },
      "execution_count": 11,
      "outputs": [
        {
          "output_type": "stream",
          "name": "stdout",
          "text": [
            "[1 2 3 4]\n",
            "-----\n",
            "[[1 2 3]\n",
            " [4 5 6]\n",
            " [7 8 9]]\n"
          ]
        }
      ]
    },
    {
      "cell_type": "code",
      "source": [],
      "metadata": {
        "id": "7ybniOPjNFIm"
      },
      "execution_count": null,
      "outputs": []
    },
    {
      "cell_type": "markdown",
      "source": [
        "crear un array con uns secuencia de números creados con arange()"
      ],
      "metadata": {
        "id": "CDunl0bANXvA"
      }
    },
    {
      "cell_type": "code",
      "source": [
        "multiplos_5 = np.arange(5,55, 5)\n",
        "print(multiplos_5)"
      ],
      "metadata": {
        "colab": {
          "base_uri": "https://localhost:8080/"
        },
        "id": "4PnDI6AfNgRt",
        "outputId": "2cbe60ce-ac2a-4405-b5fc-474fc8a5b3d9"
      },
      "execution_count": 12,
      "outputs": [
        {
          "output_type": "stream",
          "name": "stdout",
          "text": [
            "[ 5 10 15 20 25 30 35 40 45 50]\n"
          ]
        }
      ]
    },
    {
      "cell_type": "markdown",
      "source": [
        "Crear vectores o matrices nulas con la funcion zeros()"
      ],
      "metadata": {
        "id": "K3pTr048fH3X"
      }
    },
    {
      "cell_type": "code",
      "source": [
        "vector_5_nulo=np.zeros(5)\n",
        "matriz_3_x_6_nulo=np.zeros((3,6))"
      ],
      "metadata": {
        "id": "GM0VeVq9NvBd"
      },
      "execution_count": 16,
      "outputs": []
    },
    {
      "cell_type": "code",
      "source": [
        "print(vector_5_nulo)\n",
        "print(\"-----\")\n",
        "print(matriz_3_x_6_nulo)"
      ],
      "metadata": {
        "colab": {
          "base_uri": "https://localhost:8080/"
        },
        "id": "FBVyL1_RfaiV",
        "outputId": "554ce3cb-5dfe-4daf-d9cb-a29c62df54a6"
      },
      "execution_count": 17,
      "outputs": [
        {
          "output_type": "stream",
          "name": "stdout",
          "text": [
            "[0. 0. 0. 0. 0.]\n",
            "-----\n",
            "[[0. 0. 0. 0. 0. 0.]\n",
            " [0. 0. 0. 0. 0. 0.]\n",
            " [0. 0. 0. 0. 0. 0.]]\n"
          ]
        }
      ]
    },
    {
      "cell_type": "markdown",
      "source": [
        "Crear vectores o matrices unitarias con la funcion ones()"
      ],
      "metadata": {
        "id": "it5ctdttf105"
      }
    },
    {
      "cell_type": "code",
      "source": [
        "vector_5_unitario=np.ones(5)\n",
        "matriz_6_x_3_unitario=np.ones((6,3))"
      ],
      "metadata": {
        "id": "lTu3DUNlfwbZ"
      },
      "execution_count": 18,
      "outputs": []
    },
    {
      "cell_type": "code",
      "source": [
        "print(vector_5_unitario)\n",
        "print(\"-----\")\n",
        "print(matriz_6_x_3_unitario)"
      ],
      "metadata": {
        "colab": {
          "base_uri": "https://localhost:8080/"
        },
        "outputId": "7fef030e-daa3-4a76-c7b1-dbfd7b227fdb",
        "id": "INqke3LZgPUQ"
      },
      "execution_count": 19,
      "outputs": [
        {
          "output_type": "stream",
          "name": "stdout",
          "text": [
            "[1. 1. 1. 1. 1.]\n",
            "-----\n",
            "[[1. 1. 1.]\n",
            " [1. 1. 1.]\n",
            " [1. 1. 1.]\n",
            " [1. 1. 1.]\n",
            " [1. 1. 1.]\n",
            " [1. 1. 1.]]\n"
          ]
        }
      ]
    },
    {
      "cell_type": "markdown",
      "source": [
        "Crear vectores con un determinado número de elementos equidistantes entre un limite inferior y uno superieor"
      ],
      "metadata": {
        "id": "EBqiUuyugddt"
      }
    },
    {
      "cell_type": "code",
      "source": [
        "secuencia = np.linspace(1,2,9)\n",
        "print(secuencia)"
      ],
      "metadata": {
        "colab": {
          "base_uri": "https://localhost:8080/"
        },
        "id": "DlKy68cxgtwX",
        "outputId": "9a28aa82-7ea5-4e59-abd7-a1058e3219ae"
      },
      "execution_count": 23,
      "outputs": [
        {
          "output_type": "stream",
          "name": "stdout",
          "text": [
            "[1.    1.125 1.25  1.375 1.5   1.625 1.75  1.875 2.   ]\n"
          ]
        }
      ]
    },
    {
      "cell_type": "markdown",
      "source": [
        "Crea la matriz identidad (Diagonal principal con unos)"
      ],
      "metadata": {
        "id": "WPhoy_oahrA0"
      }
    },
    {
      "cell_type": "code",
      "source": [
        "identidad = np.eye(4)\n",
        "print(identidad)"
      ],
      "metadata": {
        "colab": {
          "base_uri": "https://localhost:8080/"
        },
        "id": "rXvfyCTeg1LO",
        "outputId": "5dcd7cf5-50ea-4d3a-e571-2a851a58cdce"
      },
      "execution_count": 24,
      "outputs": [
        {
          "output_type": "stream",
          "name": "stdout",
          "text": [
            "[[1. 0. 0. 0.]\n",
            " [0. 1. 0. 0.]\n",
            " [0. 0. 1. 0.]\n",
            " [0. 0. 0. 1.]]\n"
          ]
        }
      ]
    },
    {
      "cell_type": "markdown",
      "source": [
        "Crear vectores y matrices de numeros aleatorios"
      ],
      "metadata": {
        "id": "33IxnL4jh63Y"
      }
    },
    {
      "cell_type": "code",
      "source": [
        "# rand genera aleatorios ente 0 y 1\n",
        "vector_aleatorio = np.random.rand(5)\n",
        "matriz_aleatoria = np.random.rand(3,5)\n",
        "print(vector_aleatorio)\n",
        "print(\"-----\")\n",
        "print(matriz_aleatoria)"
      ],
      "metadata": {
        "colab": {
          "base_uri": "https://localhost:8080/"
        },
        "id": "E-27Ybk6h1-D",
        "outputId": "fb52456c-0c66-4a49-a548-ec6d7e51201b"
      },
      "execution_count": 34,
      "outputs": [
        {
          "output_type": "stream",
          "name": "stdout",
          "text": [
            "[0.21886072 0.69764001 0.40248169 0.80601967 0.61543968]\n",
            "-----\n",
            "[[0.31014964 0.7549965  0.29629256 0.21288267 0.58845652]\n",
            " [0.14092961 0.83483755 0.58415554 0.37154867 0.74988837]\n",
            " [0.75733058 0.22895998 0.99195544 0.48145649 0.74050176]]\n"
          ]
        }
      ]
    },
    {
      "cell_type": "code",
      "source": [
        "print(vector_aleatorio.mean())"
      ],
      "metadata": {
        "colab": {
          "base_uri": "https://localhost:8080/"
        },
        "outputId": "9dd9f415-e03f-4d6f-c638-d92044cb920d",
        "id": "tOBjcdakjnP3"
      },
      "execution_count": 35,
      "outputs": [
        {
          "output_type": "stream",
          "name": "stdout",
          "text": [
            "0.5480883540285955\n"
          ]
        }
      ]
    },
    {
      "cell_type": "code",
      "source": [
        "# randn genera aleatorios siguiendo una distribución normal standard (media = 0, dev_std = 1)\n",
        "vector_aleatorio = np.random.randn(5)\n",
        "matriz_aleatoria = np.random.randn(3,5)\n",
        "print(vector_aleatorio)\n",
        "print(\"-----\")\n",
        "print(matriz_aleatoria)"
      ],
      "metadata": {
        "colab": {
          "base_uri": "https://localhost:8080/"
        },
        "id": "k7VAQo5Biy4F",
        "outputId": "a1e5b0c0-f291-4f43-89c2-7b2475319b34"
      },
      "execution_count": 36,
      "outputs": [
        {
          "output_type": "stream",
          "name": "stdout",
          "text": [
            "[-0.0229323   0.07723095  1.14825798 -0.99068941  0.43188962]\n",
            "-----\n",
            "[[-0.1681834   1.24100349  1.470457   -0.19960641  0.76984745]\n",
            " [ 0.33779876  0.86267535 -2.10098465 -2.20286944 -0.44595427]\n",
            " [ 0.18574653 -1.30997046  0.97624179 -0.93901293  0.99973543]]\n"
          ]
        }
      ]
    },
    {
      "cell_type": "code",
      "source": [
        "print(vector_aleatorio.mean())"
      ],
      "metadata": {
        "colab": {
          "base_uri": "https://localhost:8080/"
        },
        "id": "DVoGBY2TjIxu",
        "outputId": "c672c6f3-4d11-4455-9b26-8972e25a23d6"
      },
      "execution_count": 37,
      "outputs": [
        {
          "output_type": "stream",
          "name": "stdout",
          "text": [
            "0.12875137104889298\n"
          ]
        }
      ]
    },
    {
      "cell_type": "markdown",
      "source": [
        "Crear vectores y matrices de numeros aleatorios enteros"
      ],
      "metadata": {
        "id": "3OGxsczYj2LC"
      }
    },
    {
      "cell_type": "code",
      "source": [
        "vector_5_aleatorios_enteros_entre_1_y_100 = np.random.randint(1,100,5)\n",
        "print(vector_5_aleatorios_enteros_entre_1_y_100)"
      ],
      "metadata": {
        "colab": {
          "base_uri": "https://localhost:8080/"
        },
        "id": "-U-b2PL3jd6Y",
        "outputId": "81106dd3-7c72-4e91-9b2c-9d2da2786ae7"
      },
      "execution_count": 39,
      "outputs": [
        {
          "output_type": "stream",
          "name": "stdout",
          "text": [
            "[79 60 91 10 12]\n"
          ]
        }
      ]
    },
    {
      "cell_type": "markdown",
      "source": [
        "Cambio del tamaño de un vector o una matrix"
      ],
      "metadata": {
        "id": "i9E6VOr7kXox"
      }
    },
    {
      "cell_type": "code",
      "source": [
        "array = np.random.randint(1,100,20)\n",
        "print(array)"
      ],
      "metadata": {
        "colab": {
          "base_uri": "https://localhost:8080/"
        },
        "id": "5sZQ8RVekcGn",
        "outputId": "f05fa013-47cc-4142-f359-2a7e675bdb66"
      },
      "execution_count": 40,
      "outputs": [
        {
          "output_type": "stream",
          "name": "stdout",
          "text": [
            "[28 43 89 69 50 93 72 94 80 13 73 38 22 95 43 88 62 33  3 58]\n"
          ]
        }
      ]
    },
    {
      "cell_type": "code",
      "source": [
        "matriz = array.reshape(4,5)"
      ],
      "metadata": {
        "id": "SB-AlTogkgw7"
      },
      "execution_count": 41,
      "outputs": []
    },
    {
      "cell_type": "code",
      "source": [
        "print(matriz)"
      ],
      "metadata": {
        "colab": {
          "base_uri": "https://localhost:8080/"
        },
        "id": "sak1M7lRkoGy",
        "outputId": "57ceaac7-e19c-4b65-ea66-7dcaf6267b8a"
      },
      "execution_count": 42,
      "outputs": [
        {
          "output_type": "stream",
          "name": "stdout",
          "text": [
            "[[28 43 89 69 50]\n",
            " [93 72 94 80 13]\n",
            " [73 38 22 95 43]\n",
            " [88 62 33  3 58]]\n"
          ]
        }
      ]
    },
    {
      "cell_type": "markdown",
      "source": [
        "Calcular el máximo y el minimo de un *vector* y su posicion"
      ],
      "metadata": {
        "id": "6LEDiEVEku4E"
      }
    },
    {
      "cell_type": "code",
      "source": [
        "# prompt: 10 random numbers using numpy\n",
        "\n",
        "import numpy as np\n",
        "\n",
        "random_numbers = np.random.randint(0, 100, 10) # Generates 10 random integers between 0 and 99 (inclusive)\n",
        "random_numbers\n",
        "valr_maximo = random_numbers.max()\n",
        "posicion_maximo = random_numbers.argmax()\n",
        "valr_minimo = random_numbers.min()\n",
        "posicion_minimo = random_numbers.argmin()\n",
        "print(random_numbers)\n",
        "print(valr_maximo)\n",
        "print(posicion_maximo)\n",
        "print(valr_minimo)\n",
        "print(posicion_minimo)\n"
      ],
      "metadata": {
        "colab": {
          "base_uri": "https://localhost:8080/"
        },
        "id": "9cM7_OujkrYC",
        "outputId": "fc16b674-f5fc-40e1-fab4-93accaabfeca"
      },
      "execution_count": 3,
      "outputs": [
        {
          "output_type": "stream",
          "name": "stdout",
          "text": [
            "[97 14 43 29 34  0 40 67 94 86]\n",
            "97\n",
            "0\n",
            "0\n",
            "5\n"
          ]
        }
      ]
    },
    {
      "cell_type": "markdown",
      "source": [
        "Acceso a los elementos de los vectores"
      ],
      "metadata": {
        "id": "L0wxUkJYln70"
      }
    },
    {
      "cell_type": "code",
      "source": [
        "print(f\"El primer elemento del array es {random_numbers[0]}\")\n",
        "print(f\"El segundo elemento del array es {random_numbers[1]}\")\n",
        "print(f\"el ultimo elemento del array es {random_numbers[-1]}\")\n",
        "print(f\"Los elementos del segundo al cuarto elemento del array son {random_numbers[1:4]}\")\n",
        "print(f\"Los elementos del inicio al tercer elemento del array son {random_numbers[:3]}\")\n",
        "print(f\"Los elementos del quinto al final del array son {random_numbers[4:]}\")\n"
      ],
      "metadata": {
        "colab": {
          "base_uri": "https://localhost:8080/"
        },
        "id": "AeqwucVElVIn",
        "outputId": "5ecbe9d1-a32f-487e-8918-fb241ff40452"
      },
      "execution_count": 5,
      "outputs": [
        {
          "output_type": "stream",
          "name": "stdout",
          "text": [
            "El primer elemento del array es 97\n",
            "El segundo elemento del array es 14\n",
            "el ultimo elemento del array es 86\n",
            "Los elementos del segundo al cuarto elemento del array son [14 43 29]\n",
            "Los elementos del inicio al tercer elemento del array son [97 14 43]\n",
            "Los elementos del quinto al final del array son [34  0 40 67 94 86]\n"
          ]
        }
      ]
    },
    {
      "cell_type": "markdown",
      "source": [
        "Copiar un array"
      ],
      "metadata": {
        "id": "flwfGEQArFj2"
      }
    },
    {
      "cell_type": "code",
      "source": [
        "copia_array = random_numbers.copy()\n",
        "print(copia_array)\n",
        "print(f\"La dirección de memoria del array es {hex(id(random_numbers))}\")\n",
        "print(f\"La dirección de memoria de la copia del array es {hex(id(copia_array))} \")\n",
        "random_numbers[0] = 100\n",
        "print(f\"La dirección de memoria del array es {hex(id(random_numbers))}\")\n",
        "print(f\"La dirección de memoria de la copia del array es {hex(id(copia_array))} \")\n",
        "print(f\"El primer elemento del array es {random_numbers[0]}\")\n",
        "print(f\"El primer elemento de la copia del array es {copia_array[0]}\")"
      ],
      "metadata": {
        "colab": {
          "base_uri": "https://localhost:8080/"
        },
        "id": "1RfPNx9krH6e",
        "outputId": "5ea3ccfc-b365-42eb-be08-bfa3dff93f11"
      },
      "execution_count": 9,
      "outputs": [
        {
          "output_type": "stream",
          "name": "stdout",
          "text": [
            "[97 14 43 29 34  0 40 67 94 86]\n",
            "La dirección de memoria del array es 0x781af84f3bd0\n",
            "La dirección de memoria de la copia del array es 0x781acfe86fd0 \n",
            "La dirección de memoria del array es 0x781af84f3bd0\n",
            "La dirección de memoria de la copia del array es 0x781acfe86fd0 \n",
            "El primer elemento del array es 100\n",
            "El primer elemento de la copia del array es 97\n"
          ]
        }
      ]
    },
    {
      "cell_type": "markdown",
      "source": [
        "Acceso a los elementos de una matriz"
      ],
      "metadata": {
        "id": "M-4rfguBt_yQ"
      }
    },
    {
      "cell_type": "code",
      "source": [
        "matriz = np.array([[1, 2, 3],[4, 5 ,6],[7, 8, 9]])\n",
        "matriz"
      ],
      "metadata": {
        "colab": {
          "base_uri": "https://localhost:8080/"
        },
        "id": "IsSjBGoFu1ap",
        "outputId": "5e834084-6434-4cbd-8fea-66231100d9ef"
      },
      "execution_count": 12,
      "outputs": [
        {
          "output_type": "execute_result",
          "data": {
            "text/plain": [
              "array([[1, 2, 3],\n",
              "       [4, 5, 6],\n",
              "       [7, 8, 9]])"
            ]
          },
          "metadata": {},
          "execution_count": 12
        }
      ]
    },
    {
      "cell_type": "code",
      "source": [
        "\n",
        "print(f\"El primer elemento de la matriz es {matriz[0][0]}\")\n",
        "print(f\"El ultimo elemento de la matriz es {matriz[-1][-1]}\")\n",
        "print(f\"Los elementos de la segunda fila de la matriz son {matriz[1]}\")\n",
        "print(f\"Los elementos de la segunda columna de la matriz son {matriz[:,1]}\")\n",
        "print(f\"Los elementos de la segunda y tercera fila de la matriz son {matriz[1:3]}\")\n",
        "print(f\"Los elementos de la segunda y tercera fila y segunda y tercera columna de la matriz son {matriz[1:3,1:3]}\")\n"
      ],
      "metadata": {
        "colab": {
          "base_uri": "https://localhost:8080/"
        },
        "id": "_5LOkalWqGg_",
        "outputId": "3deca9de-c235-4e6a-9211-f36fc26968be"
      },
      "execution_count": 13,
      "outputs": [
        {
          "output_type": "stream",
          "name": "stdout",
          "text": [
            "El primer elemento de la matriz es 1\n",
            "El ultimo elemento de la matriz es 9\n",
            "Los elementos de la segunda fila de la matriz son [4 5 6]\n",
            "Los elementos de la segunda columna de la matriz son [2 5 8]\n",
            "Los elementos de la segunda y tercera fila de la matriz son [[4 5 6]\n",
            " [7 8 9]]\n",
            "Los elementos de la segunda y tercera fila y segunda y tercera columna de la matriz son [[5 6]\n",
            " [8 9]]\n"
          ]
        }
      ]
    },
    {
      "cell_type": "markdown",
      "source": [
        "Seleccionar los elementos de una vector que cumplen una condición"
      ],
      "metadata": {
        "id": "2SVij0k6vgn-"
      }
    },
    {
      "cell_type": "code",
      "source": [
        "datos = np.arange(0,20)\n",
        "datos"
      ],
      "metadata": {
        "colab": {
          "base_uri": "https://localhost:8080/"
        },
        "id": "H2VCq8aeunI9",
        "outputId": "3bdcfef3-ec96-4150-9c92-cd31cc994f50"
      },
      "execution_count": 14,
      "outputs": [
        {
          "output_type": "execute_result",
          "data": {
            "text/plain": [
              "array([ 0,  1,  2,  3,  4,  5,  6,  7,  8,  9, 10, 11, 12, 13, 14, 15, 16,\n",
              "       17, 18, 19])"
            ]
          },
          "metadata": {},
          "execution_count": 14
        }
      ]
    },
    {
      "cell_type": "code",
      "source": [
        "condicion_par = datos % 2 == 0\n",
        "condicion_impar = datos % 2 != 0\n",
        "print(condicion_par)"
      ],
      "metadata": {
        "colab": {
          "base_uri": "https://localhost:8080/"
        },
        "id": "LdSEUmu7v9qM",
        "outputId": "e01197a1-a8be-4768-c7dd-d8381afc9182"
      },
      "execution_count": 19,
      "outputs": [
        {
          "output_type": "stream",
          "name": "stdout",
          "text": [
            "[ True False  True False  True False  True False  True False  True False\n",
            "  True False  True False  True False  True False]\n"
          ]
        }
      ]
    },
    {
      "cell_type": "code",
      "source": [
        "pares = datos[condicion_par]\n",
        "impares = datos[condicion_impar]\n",
        "print(pares)\n",
        "print(impares)"
      ],
      "metadata": {
        "colab": {
          "base_uri": "https://localhost:8080/"
        },
        "id": "6I7Qyz9NwCqF",
        "outputId": "3d3ad2d6-288c-4f9a-a328-1c3a78f650c6"
      },
      "execution_count": 20,
      "outputs": [
        {
          "output_type": "stream",
          "name": "stdout",
          "text": [
            "[ 0  2  4  6  8 10 12 14 16 18]\n",
            "[ 1  3  5  7  9 11 13 15 17 19]\n"
          ]
        }
      ]
    },
    {
      "cell_type": "markdown",
      "source": [
        "Operaciones aritmeticas con arrays"
      ],
      "metadata": {
        "id": "v_ANMWLKy77Y"
      }
    },
    {
      "cell_type": "code",
      "source": [
        "print(datos * 100)\n",
        "print(datos + 100)\n",
        "print(datos / 100)\n",
        "print(datos - 100)\n",
        "print(datos + datos)\n",
        "print(datos - datos)\n",
        "print(datos * datos)\n",
        "print(datos / datos)"
      ],
      "metadata": {
        "colab": {
          "base_uri": "https://localhost:8080/"
        },
        "id": "uwvh44iHy_lO",
        "outputId": "35f19609-8af8-497f-f932-ded82944172b"
      },
      "execution_count": 21,
      "outputs": [
        {
          "output_type": "stream",
          "name": "stdout",
          "text": [
            "[   0  100  200  300  400  500  600  700  800  900 1000 1100 1200 1300\n",
            " 1400 1500 1600 1700 1800 1900]\n",
            "[100 101 102 103 104 105 106 107 108 109 110 111 112 113 114 115 116 117\n",
            " 118 119]\n",
            "[0.   0.01 0.02 0.03 0.04 0.05 0.06 0.07 0.08 0.09 0.1  0.11 0.12 0.13\n",
            " 0.14 0.15 0.16 0.17 0.18 0.19]\n",
            "[-100  -99  -98  -97  -96  -95  -94  -93  -92  -91  -90  -89  -88  -87\n",
            "  -86  -85  -84  -83  -82  -81]\n",
            "[ 0  2  4  6  8 10 12 14 16 18 20 22 24 26 28 30 32 34 36 38]\n",
            "[0 0 0 0 0 0 0 0 0 0 0 0 0 0 0 0 0 0 0 0]\n",
            "[  0   1   4   9  16  25  36  49  64  81 100 121 144 169 196 225 256 289\n",
            " 324 361]\n",
            "[nan  1.  1.  1.  1.  1.  1.  1.  1.  1.  1.  1.  1.  1.  1.  1.  1.  1.\n",
            "  1.  1.]\n"
          ]
        },
        {
          "output_type": "stream",
          "name": "stderr",
          "text": [
            "<ipython-input-21-833830eaed23>:8: RuntimeWarning: invalid value encountered in divide\n",
            "  print(datos / datos)\n"
          ]
        }
      ]
    },
    {
      "cell_type": "code",
      "source": [],
      "metadata": {
        "id": "09jFdYUKzWkc"
      },
      "execution_count": null,
      "outputs": []
    },
    {
      "cell_type": "markdown",
      "source": [
        "Funciones aplicadas a los arrays"
      ],
      "metadata": {
        "id": "DFqh4xFqzrp2"
      }
    },
    {
      "cell_type": "code",
      "source": [
        "print(f\"Raiz cuadrada {np.sqrt(datos)}\")\n",
        "print(f\"Exponencial {np.exp(datos)}\")\n",
        "print(f\"Logaritmo {np.log(datos)}\")\n",
        "print(f\"Media {np.mean(datos)}\")\n",
        "print(f\"Desviación estándar {np.std(datos)}\")\n",
        "print(f\"Suma {np.sum(datos)}\")\n",
        "print(f\"Suma acumulada {np.cumsum(datos)}\")\n",
        "print(f\"Suma acumulada {np.cumsum(datos)}\")"
      ],
      "metadata": {
        "colab": {
          "base_uri": "https://localhost:8080/"
        },
        "id": "1UPZLdz6zwct",
        "outputId": "1778a82c-94f7-4b1a-8151-b862fe40bc8f"
      },
      "execution_count": 24,
      "outputs": [
        {
          "output_type": "stream",
          "name": "stdout",
          "text": [
            "Raiz cuadrada [0.         1.         1.41421356 1.73205081 2.         2.23606798\n",
            " 2.44948974 2.64575131 2.82842712 3.         3.16227766 3.31662479\n",
            " 3.46410162 3.60555128 3.74165739 3.87298335 4.         4.12310563\n",
            " 4.24264069 4.35889894]\n",
            "Exponencial [1.00000000e+00 2.71828183e+00 7.38905610e+00 2.00855369e+01\n",
            " 5.45981500e+01 1.48413159e+02 4.03428793e+02 1.09663316e+03\n",
            " 2.98095799e+03 8.10308393e+03 2.20264658e+04 5.98741417e+04\n",
            " 1.62754791e+05 4.42413392e+05 1.20260428e+06 3.26901737e+06\n",
            " 8.88611052e+06 2.41549528e+07 6.56599691e+07 1.78482301e+08]\n",
            "Logaritmo [      -inf 0.         0.69314718 1.09861229 1.38629436 1.60943791\n",
            " 1.79175947 1.94591015 2.07944154 2.19722458 2.30258509 2.39789527\n",
            " 2.48490665 2.56494936 2.63905733 2.7080502  2.77258872 2.83321334\n",
            " 2.89037176 2.94443898]\n",
            "Media 9.5\n",
            "Desviación estándar 5.766281297335398\n",
            "Suma 190\n",
            "Suma acumulada [  0   1   3   6  10  15  21  28  36  45  55  66  78  91 105 120 136 153\n",
            " 171 190]\n",
            "Suma acumulada [  0   1   3   6  10  15  21  28  36  45  55  66  78  91 105 120 136 153\n",
            " 171 190]\n"
          ]
        },
        {
          "output_type": "stream",
          "name": "stderr",
          "text": [
            "<ipython-input-24-245b97bead92>:3: RuntimeWarning: divide by zero encountered in log\n",
            "  print(f\"Logaritmo {np.log(datos)}\")\n"
          ]
        }
      ]
    },
    {
      "cell_type": "code",
      "source": [],
      "metadata": {
        "id": "IKgHG1qq0VIt"
      },
      "execution_count": null,
      "outputs": []
    }
  ]
}