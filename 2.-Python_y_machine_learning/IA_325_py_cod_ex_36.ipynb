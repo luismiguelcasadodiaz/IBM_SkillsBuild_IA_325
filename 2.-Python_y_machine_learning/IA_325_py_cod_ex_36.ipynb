{
  "nbformat": 4,
  "nbformat_minor": 0,
  "metadata": {
    "colab": {
      "provenance": [],
      "authorship_tag": "ABX9TyOPHvvNQb8R+FK2xkfUKK39",
      "include_colab_link": true
    },
    "kernelspec": {
      "name": "python3",
      "display_name": "Python 3"
    },
    "language_info": {
      "name": "python"
    }
  },
  "cells": [
    {
      "cell_type": "markdown",
      "metadata": {
        "id": "view-in-github",
        "colab_type": "text"
      },
      "source": [
        "<a href=\"https://colab.research.google.com/github/luismiguelcasadodiaz/IBM_SkillsBuild_IA_325/blob/main/IA_325_py_cod_ex_36.ipynb\" target=\"_parent\"><img src=\"https://colab.research.google.com/assets/colab-badge.svg\" alt=\"Open In Colab\"/></a>"
      ]
    },
    {
      "cell_type": "markdown",
      "source": [
        "# SVM - Máquinas de vectores de soporte\n",
        "\n",
        "## Objetivo\n",
        "\n",
        "El objetivo es implementar una función que:\n",
        "\n",
        "  + 1.- Entrene un modelo de Máquina de Soporte Vectorial (SVM) usando SVC de sklearn.svm.\n",
        "  + 2.- Realice predicciones en un conjunto de prueba.\n",
        "  + 3.- Evalúe el modelo con las siguientes métricas:\n",
        "      + Precisión (accuracy_score).\n",
        "      + Matriz de confusión (confusion_matrix).\n",
        "      + Reporte de clasificación (classification_report).\n",
        "  + 4.- Devuelva los resultados en un diccionario.\n",
        "  + 5.- Supervise la implementación con pruebas unitarias (unittest).\n",
        "\n",
        "\n",
        "## Instrucciones\n",
        "\n",
        "  + 1.- Implementa una función llamada entrenar_y_evaluar_svm(X_train, y_train, X_test, y_test) que:\n",
        "\n",
        "    + Entrene un modelo SVC(kernel='rbf', C=10.0, gamma='scale', random_state=42).\n",
        "    + Prediga los valores de X_test.\n",
        "    + Calcule las métricas de evaluación mencionadas.\n",
        "    + Devuelva un diccionario con:\n",
        "      + \"predicciones\": Array de predicciones del modelo.\n",
        "      + \"accuracy\": Precisión del modelo en los datos de prueba.\n",
        "      + \"matriz_confusion\": Matriz de confusión.\n",
        "      + \"reporte\": Reporte de clasificación.\n",
        "\n",
        "  + 2.- Usa el dataset de digits de sklearn.datasets, que contiene imágenes de números escritos a mano.\n",
        "\n",
        "  + 3.- Asegúrate de que el modelo tenga al menos 90% de precisión en los datos de prueba.\n",
        "\n",
        "\n",
        "\n",
        "## Ejemplo de Uso\n",
        "\n",
        "Una vez que la función esté implementada, el siguiente código debería ejecutarse correctamente:\n",
        "\n",
        "```python\n",
        "\n",
        "from sklearn.datasets import load_digits\n",
        "from sklearn.model_selection import train_test_split\n",
        "import numpy as np\n",
        "\n",
        "# Cargar el dataset de dígitos escritos a mano\n",
        "digits = load_digits()\n",
        "X = digits.data  # Características (matriz de píxeles)\n",
        "y = digits.target  # Etiquetas (números del 0 al 9)\n",
        "\n",
        "# Dividir en conjunto de entrenamiento (80%) y prueba (20%)\n",
        "X_train, X_test, y_train, y_test = train_test_split(X, y, test_size=0.2, random_state=42)\n",
        "\n",
        "# Llamar a la función y obtener las métricas\n",
        "resultados = entrenar_y_evaluar_svm(X_train, y_train, X_test, y_test)\n",
        "\n",
        "# Mostrar los resultados\n",
        "print(\"Precisión del modelo:\", resultados[\"accuracy\"])\n",
        "print(\"Matriz de Confusión:\\n\", resultados[\"matriz_confusion\"])\n",
        "print(\"Reporte de Clasificación:\\n\", resultados[\"reporte\"])\n",
        "```\n",
        "\n",
        "\n",
        "## Salida esperada (aproximada)\n",
        "\n",
        "```python\n",
        "\n",
        "Precisión del modelo: 0.9861111111111112\n",
        "Matriz de Confusión:\n",
        " [[33  0  0  0  0  0  0  0  0  0]\n",
        " [ 0 28  0  0  0  0  0  0  0  0]\n",
        " [ 0  0 33  0  0  0  0  0  0  0]\n",
        " [ 0  0  0 33  0  1  0  0  0  0]\n",
        " [ 0  0  0  0 46  0  0  0  0  0]\n",
        " [ 0  0  0  0  0 46  1  0  0  0]\n",
        " [ 0  0  0  0  0  0 35  0  0  0]\n",
        " [ 0  0  0  0  0  0  0 33  0  1]\n",
        " [ 0  0  0  0  0  1  0  0 29  0]\n",
        " [ 0  0  0  0  0  0  0  1  0 39]]\n",
        "Reporte de Clasificación:\n",
        "               precision    recall  f1-score   support\n",
        "\n",
        "           0       1.00      1.00      1.00        33\n",
        "           1       1.00      1.00      1.00        28\n",
        "           2       1.00      1.00      1.00        33\n",
        "           3       1.00      0.97      0.99        34\n",
        "           4       1.00      1.00      1.00        46\n",
        "           5       0.96      0.98      0.97        47\n",
        "           6       0.97      1.00      0.99        35\n",
        "           7       0.97      0.97      0.97        34\n",
        "           8       1.00      0.97      0.98        30\n",
        "           9       0.97      0.97      0.97        40\n",
        "\n",
        "    accuracy                           0.99       360\n",
        "   macro avg       0.99      0.99      0.99       360\n",
        "weighted avg       0.99      0.99      0.99       360\n",
        "```"
      ],
      "metadata": {
        "id": "8fh-m-jQ8cvf"
      }
    },
    {
      "cell_type": "code",
      "execution_count": null,
      "metadata": {
        "id": "Lcv0r-nI7lTN"
      },
      "outputs": [],
      "source": []
    }
  ]
}