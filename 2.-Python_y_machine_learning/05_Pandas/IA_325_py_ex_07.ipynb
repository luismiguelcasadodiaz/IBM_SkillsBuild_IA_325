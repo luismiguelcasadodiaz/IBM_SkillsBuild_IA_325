{
  "nbformat": 4,
  "nbformat_minor": 0,
  "metadata": {
    "colab": {
      "provenance": [],
      "authorship_tag": "ABX9TyPI1ikTLf6Rk6QsJAs+hdFd",
      "include_colab_link": true
    },
    "kernelspec": {
      "name": "python3",
      "display_name": "Python 3"
    },
    "language_info": {
      "name": "python"
    }
  },
  "cells": [
    {
      "cell_type": "markdown",
      "metadata": {
        "id": "view-in-github",
        "colab_type": "text"
      },
      "source": [
        "<a href=\"https://colab.research.google.com/github/luismiguelcasadodiaz/IBM_SkillsBuild_IA_325/blob/main/IA_325_py_ex_07.ipynb\" target=\"_parent\"><img src=\"https://colab.research.google.com/assets/colab-badge.svg\" alt=\"Open In Colab\"/></a>"
      ]
    },
    {
      "cell_type": "markdown",
      "source": [
        "Ejercicio 3 de Pandas 7 del curso"
      ],
      "metadata": {
        "id": "YrOmTb9zcqIG"
      }
    },
    {
      "cell_type": "code",
      "source": [
        "import pandas as pd"
      ],
      "metadata": {
        "id": "GwCI6Duod2z7"
      },
      "execution_count": 6,
      "outputs": []
    },
    {
      "cell_type": "code",
      "execution_count": 3,
      "metadata": {
        "id": "WyahB01nchuV"
      },
      "outputs": [],
      "source": [
        "# Crea una lista asignaturas con los textoe \"matematicas\", \"fisica\", \"historia\"\n",
        "asignaturas = [\"matematicas\", \"fisica\", \"historia\"]"
      ]
    },
    {
      "cell_type": "code",
      "source": [
        "# Crea una lista notas con los valores 9, 9, 8\n",
        "notas = [9, 9, 8]"
      ],
      "metadata": {
        "id": "2L3V_QdEdP0F"
      },
      "execution_count": 5,
      "outputs": []
    },
    {
      "cell_type": "code",
      "source": [
        "# Crea una serie  on la lista notas como valores y la lista asiganturas como indices\n",
        "\n",
        "notas = pd.Series(notas, index=asignaturas)\n",
        "notas"
      ],
      "metadata": {
        "colab": {
          "base_uri": "https://localhost:8080/",
          "height": 179
        },
        "id": "M_sQfB19dUds",
        "outputId": "658e64cf-f5a6-4370-f88a-ca00a38a9450"
      },
      "execution_count": 7,
      "outputs": [
        {
          "output_type": "execute_result",
          "data": {
            "text/plain": [
              "matematicas    9\n",
              "fisica         9\n",
              "historia       8\n",
              "dtype: int64"
            ],
            "text/html": [
              "<div>\n",
              "<style scoped>\n",
              "    .dataframe tbody tr th:only-of-type {\n",
              "        vertical-align: middle;\n",
              "    }\n",
              "\n",
              "    .dataframe tbody tr th {\n",
              "        vertical-align: top;\n",
              "    }\n",
              "\n",
              "    .dataframe thead th {\n",
              "        text-align: right;\n",
              "    }\n",
              "</style>\n",
              "<table border=\"1\" class=\"dataframe\">\n",
              "  <thead>\n",
              "    <tr style=\"text-align: right;\">\n",
              "      <th></th>\n",
              "      <th>0</th>\n",
              "    </tr>\n",
              "  </thead>\n",
              "  <tbody>\n",
              "    <tr>\n",
              "      <th>matematicas</th>\n",
              "      <td>9</td>\n",
              "    </tr>\n",
              "    <tr>\n",
              "      <th>fisica</th>\n",
              "      <td>9</td>\n",
              "    </tr>\n",
              "    <tr>\n",
              "      <th>historia</th>\n",
              "      <td>8</td>\n",
              "    </tr>\n",
              "  </tbody>\n",
              "</table>\n",
              "</div><br><label><b>dtype:</b> int64</label>"
            ]
          },
          "metadata": {},
          "execution_count": 7
        }
      ]
    },
    {
      "cell_type": "code",
      "source": [
        "#Crea la variable nota_fisica con la nota de la asignatura de fisica\n",
        "nota_fisica = notas[\"fisica\"]\n",
        "nota_fisica"
      ],
      "metadata": {
        "colab": {
          "base_uri": "https://localhost:8080/"
        },
        "id": "uJg26qK9d6z3",
        "outputId": "cae1e9a1-5b52-4238-830c-63b2c5d0642f"
      },
      "execution_count": 8,
      "outputs": [
        {
          "output_type": "execute_result",
          "data": {
            "text/plain": [
              "np.int64(9)"
            ]
          },
          "metadata": {},
          "execution_count": 8
        }
      ]
    },
    {
      "cell_type": "code",
      "source": [
        "#Mediante el método \"print\" muestra la frase \"La nota de fisica es un .....)\n",
        "print(f\"La nota de fisica es un {nota_fisica}\")"
      ],
      "metadata": {
        "colab": {
          "base_uri": "https://localhost:8080/"
        },
        "id": "DaroGpiwd_qW",
        "outputId": "000d2896-4bf0-4019-e2f1-cc4e44accc7c"
      },
      "execution_count": 9,
      "outputs": [
        {
          "output_type": "stream",
          "name": "stdout",
          "text": [
            "La nota de fisica es un 9\n"
          ]
        }
      ]
    },
    {
      "cell_type": "code",
      "source": [],
      "metadata": {
        "id": "qTNA-Kr4eMTn"
      },
      "execution_count": null,
      "outputs": []
    }
  ]
}