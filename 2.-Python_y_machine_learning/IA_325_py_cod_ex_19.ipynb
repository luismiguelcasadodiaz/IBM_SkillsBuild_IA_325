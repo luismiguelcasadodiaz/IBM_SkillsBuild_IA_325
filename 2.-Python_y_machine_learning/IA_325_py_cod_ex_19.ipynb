{
  "nbformat": 4,
  "nbformat_minor": 0,
  "metadata": {
    "colab": {
      "provenance": [],
      "authorship_tag": "ABX9TyOp/GMiUklMxwiUeZqiMECA",
      "include_colab_link": true
    },
    "kernelspec": {
      "name": "python3",
      "display_name": "Python 3"
    },
    "language_info": {
      "name": "python"
    }
  },
  "cells": [
    {
      "cell_type": "markdown",
      "metadata": {
        "id": "view-in-github",
        "colab_type": "text"
      },
      "source": [
        "<a href=\"https://colab.research.google.com/github/luismiguelcasadodiaz/IBM_SkillsBuild_IA_325/blob/main/IA_325_py_cod_ex_19.ipynb\" target=\"_parent\"><img src=\"https://colab.research.google.com/assets/colab-badge.svg\" alt=\"Open In Colab\"/></a>"
      ]
    },
    {
      "cell_type": "markdown",
      "source": [
        "# Predecir futuro de una app ¿Tendrá éxito tu app?\n",
        "\n",
        "## 📱 Contexto\n",
        "\n",
        "Eres parte de un equipo de análisis de una startup que lanza apps móviles. Se te ha asignado la tarea de construir un modelo que pueda predecir si una app será exitosa o no en función de sus métricas iniciales.\n",
        "\n",
        "La empresa ha recopilado datos de otras apps anteriores, tanto exitosas como fallidas, y quiere automatizar este análisis con Machine Learning.\n",
        "\n",
        "## 🎯 Objetivo\n",
        "\n",
        "Crea un sistema en Python que permita:\n",
        "\n",
        "+ Representar los datos de una app.\n",
        "+ Preparar un conjunto de datos a partir de múltiples apps.\n",
        "+ Entrenar un modelo de regresión logística con scikit-learn.\n",
        "+ Predecir si una app será exitosa.\n",
        "+ De forma opcional, mostrar la probabilidad de éxito.\n",
        "\n",
        "## 🧱 Estructura del proyecto\n",
        "\n",
        "Debes implementar las siguientes clases:\n",
        "\n",
        "+ 📦 App: Representa una app móvil con las siguientes:\n",
        "\n",
        "  + Atributos\n",
        "    + app_name: nombre de la app.\n",
        "    + monthly_users: número de usuarios mensuales.\n",
        "    + avg_session_length: duración media de las sesiones (en minutos).\n",
        "    + retention_rate: tasa de retención entre 0 y 1.\n",
        "    + social_shares: número de veces que se ha compartido en redes sociales.\n",
        "    + success: valor opcional (1 = éxito, 0 = fracaso).\n",
        "\n",
        "  + Métodos:\n",
        "    + to_features(self): devuelve una lista de características numéricas.\n",
        "<br>\n",
        "<br>\n",
        "+ 📊 AppDataset: Representa un conjunto de datos de apps con las siguientes:\n",
        "  \n",
        "  + Atributos\n",
        "    + Lista de objetos App.\n",
        "\n",
        "  + Métodos:\n",
        "    + get_feature_matrix(self): devuelve una matriz de características.\n",
        "    + get_target_vector(self): devuelve un vector de etiquetas (success).\n",
        "<br>\n",
        "<br>\n",
        "+🤖 SuccessPredictor: Encargado de entrenar y usar el modelo de regresión logística.\n",
        "\n",
        "  + Métodos:\n",
        "    + train(dataset): entrena el modelo usando un AppDataset.\n",
        "    + predict(app): devuelve 1 o 0 para predecir si la app será exitosa.\n",
        "    + predict_proba(app): (opcional) devuelve la probabilidad de éxito como número decimal entre 0 y 1.\n",
        "\n",
        "💡 Sugerencia: puedes usar StandardScaler para mejorar la precisión del modelo escalando los datos.\n",
        "\n",
        "\n",
        "\n",
        "## 🧪 Ejemplo de uso\n",
        "\n",
        "### Datos de entrenamiento\n",
        "```python\n",
        "apps = [\n",
        "    App(\"FastChat\", 10000, 12.5, 0.65, 1500, 1),\n",
        "    App(\"FitTrack\", 500, 5.0, 0.2, 50, 0),\n",
        "    App(\"GameHub\", 15000, 25.0, 0.75, 3000, 1),\n",
        "    App(\"BudgetBuddy\", 800, 6.5, 0.3, 80, 0),\n",
        "    App(\"EduFlash\", 12000, 18.0, 0.7, 2200, 1),\n",
        "    App(\"NoteKeeper\", 600, 4.0, 0.15, 30, 0)\n",
        "]\n",
        "\n",
        "dataset = AppDataset(apps)\n",
        "predictor = SuccessPredictor()\n",
        "predictor.train(dataset)\n",
        "```\n",
        "\n",
        "###  Nueva app a evaluar\n",
        "```python\n",
        "new_app = App(\"StudyBoost\", 20000, 15.0, 0.5, 700)\n",
        "predicted_success = predictor.predict(new_app)\n",
        "prob = predictor.predict_proba(new_app)\n",
        "\n",
        "print(f\"¿Será exitosa la app {new_app.app_name}? {'Sí' if predicted_success else 'No'}\")\n",
        "print(f\"Probabilidad estimada de éxito: {prob:.2f}\")\n",
        "```\n",
        "\n",
        "\n",
        "🧪 Salida esperada\n",
        "\n",
        "¿Será exitosa la app StudyBoost? Sí\n",
        "\n",
        "Probabilidad estimada de éxito: 0.83\n"
      ],
      "metadata": {
        "id": "t6ghCYq3CP7d"
      }
    },
    {
      "cell_type": "code",
      "execution_count": null,
      "metadata": {
        "id": "pkEqgjmRCGcX"
      },
      "outputs": [],
      "source": []
    }
  ]
}