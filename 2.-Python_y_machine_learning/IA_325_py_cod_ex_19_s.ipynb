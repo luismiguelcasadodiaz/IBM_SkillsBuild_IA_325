{
  "nbformat": 4,
  "nbformat_minor": 0,
  "metadata": {
    "colab": {
      "provenance": [],
      "authorship_tag": "ABX9TyP5w93UWYoGFNN3HV8TLoWe",
      "include_colab_link": true
    },
    "kernelspec": {
      "name": "python3",
      "display_name": "Python 3"
    },
    "language_info": {
      "name": "python"
    }
  },
  "cells": [
    {
      "cell_type": "markdown",
      "metadata": {
        "id": "view-in-github",
        "colab_type": "text"
      },
      "source": [
        "<a href=\"https://colab.research.google.com/github/luismiguelcasadodiaz/IBM_SkillsBuild_IA_325/blob/main/IA_325_py_cod_ex_19_s.ipynb\" target=\"_parent\"><img src=\"https://colab.research.google.com/assets/colab-badge.svg\" alt=\"Open In Colab\"/></a>"
      ]
    },
    {
      "cell_type": "markdown",
      "source": [
        "# Predecir futuro de una app ¿Tendrá éxito tu app?\n",
        "\n",
        "## 📱 Contexto\n",
        "\n",
        "Eres parte de un equipo de análisis de una startup que lanza apps móviles. Se te ha asignado la tarea de construir un modelo que pueda predecir si una app será exitosa o no en función de sus métricas iniciales.\n",
        "\n",
        "La empresa ha recopilado datos de otras apps anteriores, tanto exitosas como fallidas, y quiere automatizar este análisis con Machine Learning.\n",
        "\n",
        "## 🎯 Objetivo\n",
        "\n",
        "Crea un sistema en Python que permita:\n",
        "\n",
        "+ Representar los datos de una app.\n",
        "+ Preparar un conjunto de datos a partir de múltiples apps.\n",
        "+ Entrenar un modelo de regresión logística con scikit-learn.\n",
        "+ Predecir si una app será exitosa.\n",
        "+ De forma opcional, mostrar la probabilidad de éxito.\n",
        "\n",
        "## 🧱 Estructura del proyecto\n",
        "\n",
        "Debes implementar las siguientes clases:\n",
        "\n",
        "+ 📦 App: Representa una app móvil con las siguientes:\n",
        "\n",
        "  + Atributos\n",
        "    + app_name: nombre de la app.\n",
        "    + monthly_users: número de usuarios mensuales.\n",
        "    + avg_session_length: duración media de las sesiones (en minutos).\n",
        "    + retention_rate: tasa de retención entre 0 y 1.\n",
        "    + social_shares: número de veces que se ha compartido en redes sociales.\n",
        "    + success: valor opcional (1 = éxito, 0 = fracaso).\n",
        "\n",
        "  + Métodos:\n",
        "    + to_features(self): devuelve una lista de características numéricas.\n",
        "<br>\n",
        "<br>\n",
        "+ 📊 AppDataset: Representa un conjunto de datos de apps con las siguientes:\n",
        "  \n",
        "  + Atributos\n",
        "    + Lista de objetos App.\n",
        "\n",
        "  + Métodos:\n",
        "    + get_feature_matrix(self): devuelve una matriz de características.\n",
        "    + get_target_vector(self): devuelve un vector de etiquetas (success).\n",
        "<br>\n",
        "<br>\n",
        "+🤖 SuccessPredictor: Encargado de entrenar y usar el modelo de regresión logística.\n",
        "\n",
        "  + Métodos:\n",
        "    + train(dataset): entrena el modelo usando un AppDataset.\n",
        "    + predict(app): devuelve 1 o 0 para predecir si la app será exitosa.\n",
        "    + predict_proba(app): (opcional) devuelve la probabilidad de éxito como número decimal entre 0 y 1.\n",
        "\n",
        "💡 Sugerencia: puedes usar StandardScaler para mejorar la precisión del modelo escalando los datos.\n",
        "\n",
        "\n",
        "\n",
        "## 🧪 Ejemplo de uso\n",
        "\n",
        "### Datos de entrenamiento\n",
        "```python\n",
        "apps = [\n",
        "    App(\"FastChat\", 10000, 12.5, 0.65, 1500, 1),\n",
        "    App(\"FitTrack\", 500, 5.0, 0.2, 50, 0),\n",
        "    App(\"GameHub\", 15000, 25.0, 0.75, 3000, 1),\n",
        "    App(\"BudgetBuddy\", 800, 6.5, 0.3, 80, 0),\n",
        "    App(\"EduFlash\", 12000, 18.0, 0.7, 2200, 1),\n",
        "    App(\"NoteKeeper\", 600, 4.0, 0.15, 30, 0)\n",
        "]\n",
        "\n",
        "dataset = AppDataset(apps)\n",
        "predictor = SuccessPredictor()\n",
        "predictor.train(dataset)\n",
        "```\n",
        "\n",
        "###  Nueva app a evaluar\n",
        "```python\n",
        "new_app = App(\"StudyBoost\", 20000, 15.0, 0.5, 700)\n",
        "predicted_success = predictor.predict(new_app)\n",
        "prob = predictor.predict_proba(new_app)\n",
        "\n",
        "print(f\"¿Será exitosa la app {new_app.app_name}? {'Sí' if predicted_success else 'No'}\")\n",
        "print(f\"Probabilidad estimada de éxito: {prob:.2f}\")\n",
        "```\n",
        "\n",
        "\n",
        "🧪 Salida esperada\n",
        "\n",
        "¿Será exitosa la app StudyBoost? Sí\n",
        "\n",
        "Probabilidad estimada de éxito: 0.83\n"
      ],
      "metadata": {
        "id": "t6ghCYq3CP7d"
      }
    },
    {
      "cell_type": "markdown",
      "source": [
        "### Definición de la clase App"
      ],
      "metadata": {
        "id": "jTGDxm7-FEZv"
      }
    },
    {
      "cell_type": "code",
      "execution_count": 37,
      "metadata": {
        "id": "pkEqgjmRCGcX"
      },
      "outputs": [],
      "source": [
        "class App:\n",
        "  def __init__(self, app_name, monthly_users, avg_session_length,\n",
        "               retention_rate, social_shares, success=None):\n",
        "    if not isinstance(app_name, str):\n",
        "        raise TypeError(\"app_name debe ser un texto\")\n",
        "    self.app_name = app_name\n",
        "\n",
        "    if not isinstance(monthly_users, int) or monthly_users <= 0:\n",
        "        raise ValueError(\"monthly_users debe ser un entero positivo\")\n",
        "    self.monthly_users = monthly_users\n",
        "\n",
        "    if not isinstance(avg_session_length, float) or avg_session_length <= 0:\n",
        "        raise ValueError(\"avg_session_length debe ser float positivo\")\n",
        "    self.avg_session_length = avg_session_length\n",
        "\n",
        "    if not (0 <= retention_rate  and retention_rate  <= 1):\n",
        "        raise ValueError(\"retention_rate debe ser 0 <= x <= 1\")\n",
        "    self.retention_rate = retention_rate\n",
        "\n",
        "    if not isinstance(social_shares, int) or social_shares < 0:\n",
        "        raise ValueError(\"social_shares debe ser un entero positivo\")\n",
        "    self.social_shares = social_shares\n",
        "\n",
        "    if success is not None and success not in [0, 1]:\n",
        "        raise ValueError(\"success must debe ser o 0 o 1\")\n",
        "    self.success = success\n",
        "\n",
        "  def to_features(self):\n",
        "    \"\"\"\n",
        "    Devuelve una lista de características numéricas.\n",
        "    \"\"\"\n",
        "    return [vars(self)[key] for key in vars(self) if key != 'app_name']"
      ]
    },
    {
      "cell_type": "markdown",
      "source": [
        "#### Pruebas a la clase App"
      ],
      "metadata": {
        "id": "nBHmBwG5F7kx"
      }
    },
    {
      "cell_type": "code",
      "source": [
        "una = App(\"una\", 10000, 12.5, 0.65, 1500, 1)\n",
        "dos = App(\"dos\", 10000, 12.5, 0.65, 1500)\n",
        "print(una.to_features())\n",
        "print(dos.to_features())\n",
        "dos = App(\"dos\", 10000, 12.5, 0.65, 1500)"
      ],
      "metadata": {
        "colab": {
          "base_uri": "https://localhost:8080/"
        },
        "id": "R41getyxGBkn",
        "outputId": "eb45411a-225c-4824-97b8-89d341064d6d"
      },
      "execution_count": 38,
      "outputs": [
        {
          "output_type": "stream",
          "name": "stdout",
          "text": [
            "[10000, 12.5, 0.65, 1500, 1]\n",
            "[10000, 12.5, 0.65, 1500, None]\n"
          ]
        }
      ]
    },
    {
      "cell_type": "markdown",
      "source": [
        "### Definición de la clase AppDataset"
      ],
      "metadata": {
        "id": "2aE5C-H5Kqlr"
      }
    },
    {
      "cell_type": "code",
      "source": [
        "class AppDataset:\n",
        "    \"\"\"Maneja un conjunto de objetos App.\n",
        "\n",
        "    Almacena una lista de objetos App y extrae matrices de\n",
        "    características y vectores objetivo para aprendizaje automático.\n",
        "    \"\"\"\n",
        "    def __init__(self, lista_apps=None):\n",
        "        \"\"\"Inicializa un objeto AppDataset.\n",
        "\n",
        "        Args:\n",
        "            lista_apps (list, optional): Lista inicial de objetos App.\n",
        "                Por defecto es None (crea una lista vacía).\n",
        "        \"\"\"\n",
        "        if lista_apps is None:\n",
        "            self.lista_apps = []\n",
        "        else:\n",
        "            self.lista_apps = lista_apps\n",
        "\n",
        "    def get_feature_matrix(self):\n",
        "        \"\"\"Devuelve matriz de características de los objetos App.\n",
        "\n",
        "        Cada fila es una App, las columnas son sus características\n",
        "        numéricas (excepto 'success').\n",
        "\n",
        "        Returns:\n",
        "            list: Lista de listas con características numéricas por App.\n",
        "                  Retorna lista vacía si el dataset está vacío.\n",
        "        \"\"\"\n",
        "        if not self.lista_apps:\n",
        "            return []\n",
        "        return [app.to_features()[:-1] for app in self.lista_apps]\n",
        "\n",
        "    def get_target_vector(self):\n",
        "        \"\"\"Devuelve vector objetivo ('success') de los objetos App.\n",
        "\n",
        "        Cada elemento es el valor 'success' de una aplicación.\n",
        "\n",
        "        Returns:\n",
        "            list: Lista de los valores 'success' por aplicación.\n",
        "                  Retorna lista vacía si el dataset está vacío.\n",
        "        \"\"\"\n",
        "        if not self.lista_apps:\n",
        "            return []\n",
        "        return [app.to_features()[-1] for app in self.lista_apps]"
      ],
      "metadata": {
        "id": "pkNWhkFbKw4V"
      },
      "execution_count": 39,
      "outputs": []
    },
    {
      "cell_type": "markdown",
      "source": [
        "#### Pruebas a la clase AppDataset"
      ],
      "metadata": {
        "id": "47q9diMnL7Ru"
      }
    },
    {
      "cell_type": "code",
      "source": [
        "# Uso normal\n",
        "lista_apps = [\n",
        "    App(\"FastChat\", 10000, 12.5, 0.65, 1500, 1),\n",
        "    App(\"FitTrack\", 500, 5.0, 0.2, 50, 0),\n",
        "    App(\"GameHub\", 15000, 25.0, 0.75, 3000, 1),\n",
        "    App(\"BudgetBuddy\", 800, 6.5, 0.3, 80, 0),\n",
        "    App(\"EduFlash\", 12000, 18.0, 0.7, 2200, 1),\n",
        "    App(\"NoteKeeper\", 600, 4.0, 0.15, 30, 0)\n",
        "]\n",
        "obj_appdataset = AppDataset(lista_apps)\n",
        "print(obj_appdataset.get_feature_matrix())\n",
        "print(obj_appdataset.get_target_vector())"
      ],
      "metadata": {
        "colab": {
          "base_uri": "https://localhost:8080/"
        },
        "id": "hAspgG88MBC5",
        "outputId": "194aa242-a629-40ad-f627-a68c87eb3fd6"
      },
      "execution_count": 40,
      "outputs": [
        {
          "output_type": "stream",
          "name": "stdout",
          "text": [
            "[[10000, 12.5, 0.65, 1500], [500, 5.0, 0.2, 50], [15000, 25.0, 0.75, 3000], [800, 6.5, 0.3, 80], [12000, 18.0, 0.7, 2200], [600, 4.0, 0.15, 30]]\n",
            "[1, 0, 1, 0, 1, 0]\n"
          ]
        }
      ]
    },
    {
      "cell_type": "code",
      "source": [
        "# uso la lista vacia\n",
        "lista_apps = []\n",
        "obj_appdataset = AppDataset(lista_apps)\n",
        "print(obj_appdataset.get_feature_matrix())\n",
        "print(obj_appdataset.get_target_vector())"
      ],
      "metadata": {
        "colab": {
          "base_uri": "https://localhost:8080/"
        },
        "id": "vpW2r44ANKUm",
        "outputId": "6dfdbcfc-1485-4334-dd49-07c8dc7bdfa6"
      },
      "execution_count": 41,
      "outputs": [
        {
          "output_type": "stream",
          "name": "stdout",
          "text": [
            "[]\n",
            "[]\n"
          ]
        }
      ]
    },
    {
      "cell_type": "code",
      "source": [
        "# uso sin lista\n",
        "obj_appdataset = AppDataset()\n",
        "print(obj_appdataset.get_feature_matrix())\n",
        "print(obj_appdataset.get_target_vector())"
      ],
      "metadata": {
        "colab": {
          "base_uri": "https://localhost:8080/"
        },
        "id": "6ZuIlTjvNToa",
        "outputId": "353df2d1-26b3-4a0f-c8cc-c6625b13eac0"
      },
      "execution_count": 42,
      "outputs": [
        {
          "output_type": "stream",
          "name": "stdout",
          "text": [
            "[]\n",
            "[]\n"
          ]
        }
      ]
    },
    {
      "cell_type": "markdown",
      "source": [
        "## Definición de la clase SuccessPredictor"
      ],
      "metadata": {
        "id": "BgUz2O6kN8l2"
      }
    },
    {
      "cell_type": "code",
      "source": [
        "#!pip install --upgrade scikit-learn\n",
        "#!pip install numpy==1.26.4\n",
        "import numpy as np\n",
        "import sklearn\n",
        "from sklearn.linear_model import LogisticRegression\n",
        "from sklearn.preprocessing import StandardScaler\n",
        "from sklearn.metrics import classification_report\n",
        "\n",
        "print(f\"Versión de scikit-learn: {sklearn.__version__}\")\n",
        "print(f\"Versión de NumPy: {np.__version__}\")"
      ],
      "metadata": {
        "colab": {
          "base_uri": "https://localhost:8080/"
        },
        "id": "MfaU_Dg-OK8D",
        "outputId": "08b13c3d-0235-40d7-db1e-9804b0ff6bff"
      },
      "execution_count": 43,
      "outputs": [
        {
          "output_type": "stream",
          "name": "stdout",
          "text": [
            "Versión de scikit-learn: 1.6.1\n",
            "Versión de NumPy: 1.26.4\n"
          ]
        }
      ]
    },
    {
      "cell_type": "code",
      "source": [
        "class SuccessPredictor:\n",
        "    \"\"\"Predice la probabilidad de éxito de una aplicación.\n",
        "\n",
        "    Utiliza regresión logística para clasificar aplicaciones\n",
        "    basándose en sus características.\n",
        "    \"\"\"\n",
        "    def __init__(self):\n",
        "        \"\"\"Inicializa el predictor con un modelo y un escalador.\"\"\"\n",
        "        self.model = LogisticRegression()\n",
        "        self.scaler = StandardScaler()\n",
        "\n",
        "    def train(self, dataset):\n",
        "        \"\"\"Entrena el modelo con los datos proporcionados.\n",
        "\n",
        "        Args:\n",
        "            dataset (AppDataset): Objeto AppDataset con datos de\n",
        "                entrenamiento (características y variable objetivo).\n",
        "        \"\"\"\n",
        "        X = dataset.get_feature_matrix()\n",
        "        y = dataset.get_target_vector()\n",
        "        self.scaler.fit(X) # calcula avg, std de cada atributo\n",
        "        X_scaled = self.scaler.transform(X) # escala los datos\n",
        "        self.model.fit(X_scaled, y)\n",
        "\n",
        "    def predict(self, nueva_app):\n",
        "        \"\"\"Predice si una nueva aplicación será exitosa (1) o no (0).\n",
        "\n",
        "        Args:\n",
        "            nueva_app (App): Objeto App con las características a\n",
        "                predecir.\n",
        "\n",
        "        Returns:\n",
        "            int: 1 si la aplicación se predice como exitosa, 0 en caso\n",
        "                contrario.\n",
        "        \"\"\"\n",
        "        nueva_app_atributos_normalizados = self.scaler.transform(\n",
        "            [nueva_app.to_features()[:-1]]\n",
        "        )\n",
        "        return self.model.predict(nueva_app_atributos_normalizados)[0]\n",
        "\n",
        "    def predict_proba(self, nueva_app):\n",
        "        \"\"\"Devuelve la probabilidad de que una nueva aplicación sea exitosa.\n",
        "\n",
        "        Args:\n",
        "            nueva_app (App): Objeto App con las características a\n",
        "                predecir.\n",
        "\n",
        "        Returns:\n",
        "            float: Probabilidad de éxito de la aplicación (valor entre 0 y 1).\n",
        "        \"\"\"\n",
        "        nueva_app_atributos_normalizados = self.scaler.transform(\n",
        "            [nueva_app.to_features()[:-1]]\n",
        "        )\n",
        "        return self.model.predict_proba(nueva_app_atributos_normalizados)[0][1]\n"
      ],
      "metadata": {
        "id": "AX8JweZlOEK1"
      },
      "execution_count": 44,
      "outputs": []
    },
    {
      "cell_type": "markdown",
      "source": [
        "#### Pruebas a la clase SuccessPreditor"
      ],
      "metadata": {
        "id": "9r3GCUL2SQbb"
      }
    },
    {
      "cell_type": "code",
      "source": [
        "lista_apps = [\n",
        "    App(\"FastChat\", 10000, 12.5, 0.65, 1500, 1),\n",
        "    App(\"FitTrack\", 500, 5.0, 0.2, 50, 0),\n",
        "    App(\"GameHub\", 15000, 25.0, 0.75, 3000, 1),\n",
        "    App(\"BudgetBuddy\", 800, 6.5, 0.3, 80, 0),\n",
        "    App(\"EduFlash\", 12000, 18.0, 0.7, 2200, 1),\n",
        "    App(\"NoteKeeper\", 600, 4.0, 0.15, 30, 0)\n",
        "]\n",
        "obj_appdataset = AppDataset(lista_apps)\n",
        "predictor = SuccessPredictor()\n",
        "predictor.train(obj_appdataset)\n",
        "print(predictor.model.coef_)\n",
        "print(predictor.model.intercept_)\n",
        "new_app = App(\"StudyBoost\", 20000, 15.0, 0.5, 700)\n",
        "predicted_success = predictor.predict(new_app)\n",
        "prob = predictor.predict_proba(new_app)\n",
        "print(\"Prediccion ->\",predicted_success)\n",
        "print(f\"¿Será exitosa la app {new_app.app_name}? {'Sí' if predicted_success else 'No'}\")\n",
        "print(f\"Probabilidad estimada de éxito: {prob:.2f}\")"
      ],
      "metadata": {
        "colab": {
          "base_uri": "https://localhost:8080/"
        },
        "id": "B6jfS6vdSWly",
        "outputId": "75ec4028-8d30-4a23-db28-7cf8b2d4355d"
      },
      "execution_count": 45,
      "outputs": [
        {
          "output_type": "stream",
          "name": "stdout",
          "text": [
            "[[0.62025599 0.4611371  0.64700619 0.54467896]]\n",
            "[0.13464581]\n",
            "Prediccion -> 1\n",
            "¿Será exitosa la app StudyBoost? Sí\n",
            "Probabilidad estimada de éxito: 0.83\n"
          ]
        }
      ]
    }
  ]
}