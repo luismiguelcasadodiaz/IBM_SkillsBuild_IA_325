{
  "nbformat": 4,
  "nbformat_minor": 0,
  "metadata": {
    "colab": {
      "provenance": [],
      "authorship_tag": "ABX9TyO7cMOuPIhJJjVNnreKLTYf",
      "include_colab_link": true
    },
    "kernelspec": {
      "name": "python3",
      "display_name": "Python 3"
    },
    "language_info": {
      "name": "python"
    }
  },
  "cells": [
    {
      "cell_type": "markdown",
      "metadata": {
        "id": "view-in-github",
        "colab_type": "text"
      },
      "source": [
        "<a href=\"https://colab.research.google.com/github/luismiguelcasadodiaz/IBM_SkillsBuild_IA_325/blob/main/IA_325_py_cod_ex_07.ipynb\" target=\"_parent\"><img src=\"https://colab.research.google.com/assets/colab-badge.svg\" alt=\"Open In Colab\"/></a>"
      ]
    },
    {
      "cell_type": "markdown",
      "source": [
        "# Finanzas personales\n",
        "Crear una función en Python que realice operaciones con arrays utilizando NumPy para analizar las finanzas personales de un estudiante.\n",
        "\n",
        "+ La función debe recibir dos arrays:\n",
        "  + Ingresos mensuales.\n",
        "  + Gastos mensuales.\n",
        "  \n",
        "+ La función debe devolver:\n",
        "  + El balance mensual (ingresos - gastos).\n",
        "  + La suma total de los ingresos.\n",
        "  + La suma total de los gastos.,\n",
        "  + Saldo total (ingresos totales - gastos totales) durante todo el año.\n",
        "\n",
        "## Instrucciones:\n",
        "\n",
        "Crear la función analizar_finanzas:\n",
        "\n",
        "La función debe recibir dos arrays de 12 elementos: uno con los ingresos mensuales (ingresos) y otro con los gastos mensuales (gastos).\n",
        "\n",
        "La función debe realizar las siguientes operaciones:\n",
        "\n",
        "Balance mensual: Resta los ingresos menos los gastos para cada mes.\n",
        "\n",
        "Total de ingresos: Suma todos los ingresos del año.\n",
        "\n",
        "Total de gastos: Suma todos los gastos del año.\n",
        "\n",
        "Saldo final: Calcula el saldo final del año (total ingresos - total gastos).\n",
        "\n",
        "La salida debe ser un array con estos 4 resultados:\n",
        "\n",
        "```python\n",
        "resultado = [balance_mensual, total_ingresos, total_gastos, saldo_final]\n",
        "```\n",
        "\n",
        "## Requisitos:\n",
        "\n",
        "Debes usar la librería NumPy para hacer las operaciones de forma eficiente.\n",
        "\n",
        "Los datos de los ingresos y los gastos deben ser positivos (no considerar valores negativos).\n",
        "\n",
        "\n",
        "\n",
        "\n",
        "\n",
        "+ Ejemplo de datos de entrada y salida esperada:\n",
        "\n",
        "Ingresos mensuales: [1500, 1600, 1700, 1650, 1800, 1900, 2000, 2100, 2200, 2300, 2400, 2500]\n",
        "\n",
        "Gastos mensuales: [1000, 1100, 1200, 1150, 1300, 1400, 1500, 1600, 1700, 1800, 1900, 2000]\n",
        "\n",
        "Salida esperada: La salida de la función debe ser un array con los resultados de las operaciones, de la siguiente forma:\n",
        "\n",
        "```python\n",
        "resultado = [\n",
        "  [500, 500, 500, 500, 500, 500, 500, 500, 500, 500, 500, 500],\n",
        "  23650,                                                           \n",
        "  17650,                                                            \n",
        "  6000]\n",
        "  ```"
      ],
      "metadata": {
        "id": "ctaKs1y5tMdw"
      }
    },
    {
      "cell_type": "code",
      "source": [
        "Ingresos = [1500, 1600, 1700, 1650, 1800, 1900, 2000, 2100, 2200, 2300, 2400, 2500]\n",
        "Gastos =   [1000, 1100, 1200, 1150, 1300, 1400, 1500, 1600, 1700, 1800, 1900, 2000]"
      ],
      "metadata": {
        "id": "ity8dcu0t9fU"
      },
      "execution_count": null,
      "outputs": []
    },
    {
      "cell_type": "code",
      "source": [
        "def analiza_finanzas(ingresos, gastos):\n",
        "    \"\"\"\n",
        "    Analiza las finanzas personales de un estudiante durante un año.\n",
        "    Calcula el balance mensual, el total de ingresos, el total de gastos\n",
        "    y el saldo final.\n",
        "\n",
        "    Args:\n",
        "    ingresos (np.array): Array de ingresos mensuales (12 elementos).\n",
        "    gastos (np.array): Array de gastos mensuales (12 elementos).\n",
        "\n",
        "    Returns:\n",
        "    np.array: Array con el balance mensual, el total de ingresos,\n",
        "              el total de gastos y el saldo final.\n",
        "    \"\"\""
      ],
      "metadata": {
        "id": "nGlZ64_buadp"
      },
      "execution_count": null,
      "outputs": []
    }
  ]
}