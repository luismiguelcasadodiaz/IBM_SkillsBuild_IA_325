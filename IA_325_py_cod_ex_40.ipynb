{
  "nbformat": 4,
  "nbformat_minor": 0,
  "metadata": {
    "colab": {
      "provenance": [],
      "authorship_tag": "ABX9TyNrHdVgJrvug1ZH2n/TVgEn",
      "include_colab_link": true
    },
    "kernelspec": {
      "name": "python3",
      "display_name": "Python 3"
    },
    "language_info": {
      "name": "python"
    }
  },
  "cells": [
    {
      "cell_type": "markdown",
      "metadata": {
        "id": "view-in-github",
        "colab_type": "text"
      },
      "source": [
        "<a href=\"https://colab.research.google.com/github/luismiguelcasadodiaz/IBM_SkillsBuild_IA_325/blob/main/IA_325_py_cod_ex_40.ipynb\" target=\"_parent\"><img src=\"https://colab.research.google.com/assets/colab-badge.svg\" alt=\"Open In Colab\"/></a>"
      ]
    },
    {
      "cell_type": "markdown",
      "source": [
        "# Algoritmo de k-medias\n",
        "\n",
        "El objetivo es implementar una función que:\n",
        "\n",
        "+ 1.- Entrene un modelo K-Means (KMeans de sklearn.cluster).\n",
        "+ 2.- Agrupe los datos en k clusters.\n",
        "+ 3.- Evalúe el rendimiento del modelo utilizando:\n",
        "\n",
        "  + Inercia (inertia_): mide qué tan bien se agrupan los datos.\n",
        "\n",
        "  + Puntuación de Silueta (silhouette_score): evalúa qué tan bien están separados los clusters.\n",
        "\n",
        "  + Precisión ajustada (adjusted_rand_score): mide la similitud con las etiquetas reales.\n",
        "\n",
        "+ 4.- Devuelva los resultados en un diccionario.\n",
        "+ 5.- Supervise la implementación con pruebas unitarias (unittest).\n",
        "\n",
        "\n",
        "\n",
        "## Instrucciones\n",
        "\n",
        "+ 1.- Implementa una función llamada entrenar_y_evaluar_kmeans(X, y, k) que:\n",
        "\n",
        "  + Entrene un modelo KMeans(n_clusters=k, random_state=42).\n",
        "\n",
        "  + Asigne cada muestra a un cluster (labels_).\n",
        "\n",
        "  + Calcule las métricas de evaluación mencionadas.\n",
        "\n",
        "  + Devuelva un diccionario con:\n",
        "\n",
        "    + \"clusters\": Array con las asignaciones de cluster para cada muestra.\n",
        "\n",
        "    + \"inertia\": Suma de las distancias al centroide más cercano.\n",
        "\n",
        "      + inertia = modelo.inertia_\n",
        "\n",
        "    + \"silhouette_score\": Puntuación de silueta (qué tan bien se separan los clusters).\n",
        "\n",
        "      + silhouette = silhouette_score(X, clusters)\n",
        "\n",
        "    + \"adjusted_rand_score\": Similaridad con las etiquetas reales.\n",
        "\n",
        "      + rand_score = adjusted_rand_score(y, clusters)\n",
        "\n",
        "+ 2.- Usa el dataset de flores iris de sklearn.datasets.\n",
        "\n",
        "+ 3.- Asegúrate de que k=3 (correspondiente a las 3 clases reales de Iris).\n",
        "\n",
        "\n",
        "\n",
        "\n",
        "\n",
        "## Ejemplo de Uso\n",
        "\n",
        "El siguiente código debería ejecutarse correctamente una vez que implementes la función:\n",
        "\n",
        "\n",
        "```python\n",
        "from sklearn.datasets import load_iris\n",
        "import numpy as np\n",
        "\n",
        "# Cargar el dataset de flores Iris\n",
        "iris = load_iris()\n",
        "X = iris.data  # Características\n",
        "y = iris.target  # Etiquetas reales (para evaluación)\n",
        "\n",
        "# Llamar a la función con k=3 clusters\n",
        "resultados = entrenar_y_evaluar_kmeans(X, y, k=3)\n",
        "\n",
        "# Mostrar los resultados\n",
        "print(\"Inercia del modelo:\", resultados[\"inertia\"])\n",
        "print(\"Silhouette Score:\", resultados[\"silhouette_score\"])\n",
        "print(\"Adjusted Rand Score:\", resultados[\"adjusted_rand_score\"])\n",
        "print(\"Clusters asignados:\\n\", resultados[\"clusters\"][:10])  # Mostrar primeras 10 asignaciones\n",
        "\n",
        "```\n",
        "## Salida esperada\n",
        "```python\n",
        "\n",
        "\n",
        "Inercia del modelo: 78.85144142614601\n",
        "Silhouette Score: 0.5528190123564095\n",
        "Adjusted Rand Score: 0.7302382722834697\n",
        "Clusters asignados:\n",
        " [1 1 1 1 1 1 1 1 1 1]\n",
        "```\n",
        "\n",
        "\n",
        "\n"
      ],
      "metadata": {
        "id": "5E2hFFZ_OORa"
      }
    },
    {
      "cell_type": "code",
      "execution_count": null,
      "metadata": {
        "id": "iHHuSDPNOG9y"
      },
      "outputs": [],
      "source": []
    }
  ]
}