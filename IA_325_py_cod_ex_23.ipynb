{
  "nbformat": 4,
  "nbformat_minor": 0,
  "metadata": {
    "colab": {
      "provenance": [],
      "authorship_tag": "ABX9TyNfzmtqKSpI77nC54O/xPyq",
      "include_colab_link": true
    },
    "kernelspec": {
      "name": "python3",
      "display_name": "Python 3"
    },
    "language_info": {
      "name": "python"
    }
  },
  "cells": [
    {
      "cell_type": "markdown",
      "metadata": {
        "id": "view-in-github",
        "colab_type": "text"
      },
      "source": [
        "<a href=\"https://colab.research.google.com/github/luismiguelcasadodiaz/IBM_SkillsBuild_IA_325/blob/main/IA_325_py_cod_ex_23.ipynb\" target=\"_parent\"><img src=\"https://colab.research.google.com/assets/colab-badge.svg\" alt=\"Open In Colab\"/></a>"
      ]
    },
    {
      "cell_type": "markdown",
      "source": [
        "# Seguridad en Dispositivos IoT\n",
        "\n",
        "\n",
        "## Contexto\n",
        "Imagina que formas parte del equipo de defensa digital de un hogar inteligente.\n",
        "\n",
        "Con cada vez más dispositivos conectados a internet, se vuelve crucial **detectar cuáles son seguros y cuáles podrían representar una amenaza**.\n",
        "\n",
        "Tu tarea será construir un modelo que aprenda a clasificar dispositivos IoT (Internet de las Cosas) como **seguros (1)** o **peligrosos (0)** según su tráfico de red, utilizando el algoritmo **k-Nearest Neighbors (KNN)**.\n",
        "\n",
        "\n",
        "\n",
        "##🧠 Instrucciones\n",
        "\n",
        "Crea una clase llamada `IoTKNNClassifier` que simule un sistema de detección para dispositivos IoT basado en aprendizaje automático.\n",
        "\n",
        "\n",
        "\n",
        "### 🔧 1. Constructor: __init__(self, n_neighbors=3, n_samples=50)\n",
        "\n",
        "Genera un conjunto de datos sintéticos de tamaño n_samples que simulen tráfico de red para varios dispositivos.\n",
        "\n",
        "  + Atributos\n",
        "  \n",
        "    + **paquetes_por_segundo**: un entero entre 10 y 1000\n",
        "    + **bytes_por_paquete**: un entero entre 50 y 1500\n",
        "    + **protocolo**: valores posibles 1 (TCP), 2 (UDP), o 3 (HTTP)\n",
        "    + **seguro**: valor 0 (peligroso) o 1 (seguro), generado aleatoriamente\n",
        "\n",
        "Guarda los datos en un DataFrame de pandas.\n",
        "\n",
        "Divide los datos en entrenamiento y prueba (80% - 20%) usando train_test_split.\n",
        "\n",
        "```python\n",
        "self.X = self.df.drop(columns=[\"seguro\"])\n",
        "self.y = self.df[\"seguro\"]\n",
        "```\n",
        "\n",
        "### 🏋️‍♂️ 2. Método train(self)\n",
        "\n",
        "Entrena un modelo de KNeighborsClassifier de sklearn con los datos de entrenamiento (self.X_train, self.y_train).\n",
        "\n",
        "\n",
        "\n",
        "### 📈 3. Método evaluate(self)\n",
        "\n",
        "Evalúa el modelo sobre los datos de prueba.\n",
        "\n",
        "Calcula y retorna la precisión del modelo (valor entre 0 y 1) usando accuracy_score.\n",
        "\n",
        "\n",
        "\n",
        "### 🔍 4. Método predict(self, nuevo_dispositivo)\n",
        "\n",
        "Recibe una lista con 3 valores: [paquetes_por_segundo, bytes_por_paquete, protocolo].\n",
        "\n",
        "Retorna la predicción del modelo: 1 si el dispositivo es seguro, o 0 si es peligroso.\n",
        "\n",
        "\n",
        "\n",
        "## Ejemplo de uso\n",
        "```python\n",
        "clasificador = IoTKNNClassifier(n_neighbors=3, n_samples=50)\n",
        "clasificador.train()\n",
        "print(\"Precisión del modelo:\", clasificador.evaluate())\n",
        "```\n",
        "\n",
        "#### Nuevo dispositivo IoT\n",
        "```python\n",
        "nuevo = [300, 1000, 1]  # 300 paquetes/segundo, 1000 bytes/paquete, protocolo TCP\n",
        "resultado = clasificador.predict(nuevo)\n",
        "\n",
        "if resultado == 1:\n",
        "    print(\"✅ Dispositivo seguro\")\n",
        "else:\n",
        "    print(\"⚠️ Dispositivo peligroso\")\n",
        "\n",
        "```\n",
        "#### Salida esperada\n",
        "\n",
        "Precisión del modelo: 0.6\n",
        "\n",
        "⚠️ Dispositivo peligroso\n",
        "\n",
        "\n",
        "\n",
        "\n"
      ],
      "metadata": {
        "id": "QsGhhA_-OXZ9"
      }
    },
    {
      "cell_type": "code",
      "execution_count": null,
      "metadata": {
        "id": "8EoTO2B5OSWx"
      },
      "outputs": [],
      "source": []
    }
  ]
}