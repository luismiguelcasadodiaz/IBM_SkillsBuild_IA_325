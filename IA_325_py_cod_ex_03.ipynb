{
  "nbformat": 4,
  "nbformat_minor": 0,
  "metadata": {
    "colab": {
      "provenance": [],
      "authorship_tag": "ABX9TyNdc+OkytQuMjaa49HrUIqH",
      "include_colab_link": true
    },
    "kernelspec": {
      "name": "python3",
      "display_name": "Python 3"
    },
    "language_info": {
      "name": "python"
    }
  },
  "cells": [
    {
      "cell_type": "markdown",
      "metadata": {
        "id": "view-in-github",
        "colab_type": "text"
      },
      "source": [
        "<a href=\"https://colab.research.google.com/github/luismiguelcasadodiaz/IBM_SkillsBuild_IA_325/blob/main/IA_325_py_cod_ex_03.ipynb\" target=\"_parent\"><img src=\"https://colab.research.google.com/assets/colab-badge.svg\" alt=\"Open In Colab\"/></a>"
      ]
    },
    {
      "cell_type": "markdown",
      "source": [
        "# Frecuencia de elementos en una lista\n",
        "## Objetivo\n",
        "\n",
        "Crear una función que reciba una lista de elementos y devuelva un diccionario con la frecuencia de aparición de cada elemento en la lista.\n",
        "\n",
        "\n",
        "## Instrucciones\n",
        "\n",
        "+ Definir la función contar_frecuencia que tomará como parámetro una lista de elementos.\n",
        "\n",
        "+ Inicializar un diccionario:\n",
        "\n",
        "+ Dentro de la función, crea un diccionario vacío llamado frecuencia para almacenar la cantidad de veces que cada elemento aparece en la lista.\n",
        "\n",
        "+ Usar un bucle while para recorrer la lista de elementos. El bucle debe continuar mientras no se haya recorrido toda la lista.\n",
        "\n",
        "  + Comprobar si el elemento ya está en el diccionario:\n",
        "\n",
        "  + Para cada elemento de la lista:\n",
        "\n",
        "    +Si el elemento ya está en el diccionario, incrementa su frecuencia en 1.\n",
        "\n",
        "    + Si el elemento no está en el diccionario, agrega el elemento con una frecuencia inicial de 1.\n",
        "\n",
        "  + Incrementar el índice:\n",
        "\n",
        "  + Al final de cada iteración del bucle, incrementa el índice i para pasar al siguiente elemento de la lista.\n",
        "\n",
        "+ Devolver el diccionario:\n",
        "\n",
        "Al finalizar el recorrido de la lista, devuelve el diccionario frecuencia que contiene la cantidad de veces que cada elemento aparece en la lista.\n",
        "\n",
        "# Prueba la función:\n",
        "\n",
        "Fuera de la función, crea una lista con algunos elementos repetidos, por ejemplo [1, 2, 2, 3, 1, 2, 4, 5, 4].\n",
        "\n",
        "\n",
        "\n",
        "\n",
        "# Ejemplo de uso\n",
        "```PYTHON\n",
        "elementos = [1, 2, 2, 3, 1, 2, 4, 5, 4]\n",
        "resultado = contar_frecuencia(elementos)\n",
        "print(resultado)\n",
        "```\n",
        "\n",
        "Salida esperada\n",
        "\n",
        "{1: 2, 2: 3, 3: 1, 4: 2, 5: 1}"
      ],
      "metadata": {
        "id": "DRWCar9q_xGy"
      }
    }
  ]
}