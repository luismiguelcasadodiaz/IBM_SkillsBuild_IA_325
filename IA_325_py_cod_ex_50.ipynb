{
  "nbformat": 4,
  "nbformat_minor": 0,
  "metadata": {
    "colab": {
      "provenance": [],
      "authorship_tag": "ABX9TyOJxgR6yS9gbWoLj/PWKguQ",
      "include_colab_link": true
    },
    "kernelspec": {
      "name": "python3",
      "display_name": "Python 3"
    },
    "language_info": {
      "name": "python"
    }
  },
  "cells": [
    {
      "cell_type": "markdown",
      "metadata": {
        "id": "view-in-github",
        "colab_type": "text"
      },
      "source": [
        "<a href=\"https://colab.research.google.com/github/luismiguelcasadodiaz/IBM_SkillsBuild_IA_325/blob/main/IA_325_py_cod_ex_50.ipynb\" target=\"_parent\"><img src=\"https://colab.research.google.com/assets/colab-badge.svg\" alt=\"Open In Colab\"/></a>"
      ]
    },
    {
      "cell_type": "markdown",
      "source": [
        "# Detectar correo electrónico spam\n",
        "\n",
        "\n",
        "## Clasificación de Emails: ¿Spam o No Spam?\n",
        "\n",
        "**Contexto**: Tienes un conjunto de datos que contiene información sobre emails. Cada email tiene un conjunto de características, como la longitud del mensaje, la frecuencia de ciertas palabras clave, la cantidad de enlaces, y otros aspectos relevantes. El objetivo es construir un modelo de clasificación para predecir si un email es **Spam** o **No Spam**.\n",
        "\n",
        "**Objetivo**: Tu tarea es implementar un modelo de clasificación que, dada la información de un email (características como la longitud del mensaje y la frecuencia de palabras clave), sea capaz de predecir si el email es Spam (1) o No Spam (0).\n",
        "\n",
        "+ Funciones a Implementar:\n",
        "\n",
        "  + 1.- Generar datos de emails:\n",
        "\n",
        "    Función: generar_datos_emails(num_muestras)\n",
        "\n",
        "      + Esta función debe generar un conjunto de datos ficticios con **num_muestras** emails.\n",
        "\n",
        "      + Cada email tendrá las siguientes características:\n",
        "\n",
        "        + **longitud_mensaje**: Un número aleatorio que representa la longitud del email en caracteres (entre 50 y 500).\n",
        "\n",
        "        + **frecuencia_palabra_clave**: Un número aleatorio que representa la frecuencia de una palabra clave relacionada con spam (entre 0 y 1).\n",
        "\n",
        "        + **cantidad_enlaces**: Un número aleatorio que representa la cantidad de enlaces en el email (entre 0 y 10).\n",
        "\n",
        "      + Cada email será etiquetado como **Spam (1)** o **No Spam (0)**.\n",
        "\n",
        "  + 2.- Entrenar el modelo SVM:\n",
        "\n",
        "    Función: `entrenar_modelo_svm(datos, etiquetas)`\n",
        "\n",
        "      + Esta función debe tomar un conjunto de datos con características de emails y sus etiquetas, y entrenar un modelo de clasificación.\n",
        "\n",
        "      + La salida debe ser el modelo entrenado.\n",
        "\n",
        "  + 3.- Realizar predicciones:\n",
        "\n",
        "    Función: `predecir_email(modelo, longitud_mensaje, frecuencia_palabra_clave, cantidad_enlaces)`\n",
        "\n",
        "      + Esta función debe tomar un modelo entrenado y las características de un nuevo email, y devolver si el email es **Spam** o **No Spam**.\n",
        "\n",
        "      + La salida debe ser una cadena de texto que indique si el email es **Spam** o **No Spam**.\n",
        "<br>\n",
        "+ Instrucciones:\n",
        "\n",
        "  + 1.- **Generar Datos**: Para empezar, debes generar un conjunto de datos con emails etiquetados (Spam o No Spam).\n",
        "\n",
        "  + 2.- **Entrenar el Modelo**: Entrenar el modelo de clasificación basado en las características del email.\n",
        "\n",
        "  + 3.- **Predicciones**: Utiliza el modelo entrenado para predecir si un email es Spam o No Spam según sus características."
      ],
      "metadata": {
        "id": "-NHOio5s4ko1"
      }
    }
  ]
}