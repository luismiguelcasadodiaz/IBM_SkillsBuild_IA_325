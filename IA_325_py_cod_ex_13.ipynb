{
  "nbformat": 4,
  "nbformat_minor": 0,
  "metadata": {
    "colab": {
      "provenance": [],
      "authorship_tag": "ABX9TyOkNv7oakc6tK04G++sPK0n",
      "include_colab_link": true
    },
    "kernelspec": {
      "name": "python3",
      "display_name": "Python 3"
    },
    "language_info": {
      "name": "python"
    }
  },
  "cells": [
    {
      "cell_type": "markdown",
      "metadata": {
        "id": "view-in-github",
        "colab_type": "text"
      },
      "source": [
        "<a href=\"https://colab.research.google.com/github/luismiguelcasadodiaz/IBM_SkillsBuild_IA_325/blob/main/IA_325_py_cod_ex_13.ipynb\" target=\"_parent\"><img src=\"https://colab.research.google.com/assets/colab-badge.svg\" alt=\"Open In Colab\"/></a>"
      ]
    },
    {
      "cell_type": "markdown",
      "source": [
        "# Regresión Lineal con Datos de Ventas\n",
        "Supongamos que tienes un conjunto de datos que contiene información sobre las ventas de una tienda y la cantidad de dinero que se gastó en publicidad en diferentes medios (por ejemplo, televisión, radio y periódico).\n",
        "\n",
        "Tu tarea es desarrollar una función llamada regresion_ventas que tome estos datos como entrada y ajuste un modelo de regresión lineal para predecir las futuras ventas en función de la inversión en publicidad.\n",
        "\n",
        "\n",
        "\n",
        "def regresion_ventas(datos):\n",
        "\n",
        "\n",
        "\n",
        "# Ejemplo de uso con datos reales\n",
        "```python\n",
        "data = {\n",
        "    'TV': [230.1, 44.5, 17.2, 151.5, 180.8],\n",
        "    'Radio': [37.8, 39.3, 45.9, 41.3, 10.8],\n",
        "    'Periodico': [69.2, 45.1, 69.3, 58.5, 58.4],\n",
        "    'Ventas': [22.1, 10.4, 9.3, 18.5, 12.9]\n",
        "}\n",
        "df = pd.DataFrame(data)\n",
        "modelo_regresion = regresion_ventas(df)\n",
        "```\n",
        "\n",
        "### Estimaciones de ventas para nuevos datos de inversión en publicidad\n",
        "```python\n",
        "nuevos_datos = pd.DataFrame({'TV': [200, 60, 30], 'Radio': [40, 20, 10], 'Periodico': [50, 10, 5]})\n",
        "estimaciones_ventas = modelo_regresion.predict(nuevos_datos)\n",
        "\n",
        "print(\"Estimaciones de Ventas:\")\n",
        "print(estimaciones_ventas)\n",
        "```\n",
        "\n",
        "### Resultado:\n",
        "\n",
        "\n",
        "\n",
        "Estimaciones de Ventas:\n",
        "\n",
        "[21.54261464,  8.48121675,  4.16961329]\n",
        ""
      ],
      "metadata": {
        "id": "pNcxuSneTuBn"
      }
    },
    {
      "cell_type": "code",
      "source": [
        "## implementa la función\n",
        "def regresion_ventas(datos):\n",
        "  pass"
      ],
      "metadata": {
        "id": "zRdajF0iUgtN"
      },
      "execution_count": 2,
      "outputs": []
    }
  ]
}