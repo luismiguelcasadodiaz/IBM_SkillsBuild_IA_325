{
  "nbformat": 4,
  "nbformat_minor": 0,
  "metadata": {
    "colab": {
      "provenance": [],
      "authorship_tag": "ABX9TyPeaNZdj5dm6MHVhTcTK4dA",
      "include_colab_link": true
    },
    "kernelspec": {
      "name": "python3",
      "display_name": "Python 3"
    },
    "language_info": {
      "name": "python"
    }
  },
  "cells": [
    {
      "cell_type": "markdown",
      "metadata": {
        "id": "view-in-github",
        "colab_type": "text"
      },
      "source": [
        "<a href=\"https://colab.research.google.com/github/luismiguelcasadodiaz/IBM_SkillsBuild_IA_325/blob/main/IA_325_py_cod_ex_14_s.ipynb\" target=\"_parent\"><img src=\"https://colab.research.google.com/assets/colab-badge.svg\" alt=\"Open In Colab\"/></a>"
      ]
    },
    {
      "cell_type": "markdown",
      "source": [
        "# Predecir el rendimiento de un jugador\n",
        "\n",
        "### Enunciado del ejercicio\n",
        "\n",
        "Imagina que formas parte del equipo de desarrollo de un videojuego multijugador competitivo. El equipo de analítica necesita predecir cuántas **victorias** podría lograr un nuevo jugador, basándose únicamente en su estilo de juego.\n",
        "\n",
        "Como científico de datos, tu misión es crear un modelo de **regresión lineal** que pueda predecir las victorias de un jugador en función de su rendimiento medio en partidas anteriores.\n",
        "\n",
        "Para organizar bien tu solución y facilitar su reutilización en el futuro, deberás construirla utilizando tres clases bien definidas.\n",
        "\n",
        "### Lo que debes hacer\n",
        "\n",
        "1. Crea la clase Player.Representa a un jugador. Debe contener:\n",
        "+ atributos\n",
        "  + name: nombre del jugador\n",
        "\n",
        "  + avg_session_time: duración promedio de sus sesiones de juego (en minutos)\n",
        "\n",
        "  + avg_actions_per_min: acciones por minuto que realiza\n",
        "\n",
        "  + avg_kills_per_session: número promedio de eliminaciones por sesión\n",
        "\n",
        "  + victories: número de victorias (opcional, ya que puede usarse para predicción)\n",
        "+ métodos\n",
        "  + to_features(self) que devuelva una lista con los valores de entrada para el modelo.\n",
        "  <br>\n",
        "  <br>\n",
        "\n",
        "2. Crea la clase PlayerDataset. Representa una colección de jugadores. Debe tener:\n",
        "+ Métodos\n",
        "\n",
        "  + Un constructor que reciba una lista de objetos Player\n",
        "\n",
        "  + Un método get_feature_matrix() que devuelva una lista de listas con los valores de entrada (X)\n",
        "\n",
        "  + Un método get_target_vector() que devuelva una lista con los valores objetivo (y, las victorias)\n",
        "<br>\n",
        "<br>\n",
        "\n",
        "3. Crea la clase VictoryPredictor Encargada de entrenar y usar el modelo de regresión. Debe contener:\n",
        "+ Atributos:\n",
        "  + Un atributo con el modelo (LinearRegression)\n",
        "+ Metodos:\n",
        "  + Un método train(dataset: PlayerDataset) para entrenar el modelo con los datos del dataset\n",
        "\n",
        "  + Un método predict(player: Player) que devuelva el número de victorias predichas para ese jugador\n",
        "\n",
        "\n",
        "### Ejemplo de uso\n",
        "```python\n",
        "players = [\n",
        "    Player(\"Alice\", 40, 50, 6, 20),\n",
        "    Player(\"Bob\", 30, 35, 4, 10),\n",
        "    Player(\"Charlie\", 50, 60, 7, 25),\n",
        "    Player(\"Diana\", 20, 25, 2, 5),\n",
        "    Player(\"Eve\", 60, 70, 8, 30)\n",
        "]\n",
        "\n",
        "dataset = PlayerDataset(players)\n",
        "predictor = VictoryPredictor()\n",
        "predictor.train(dataset)\n",
        "\n",
        "test_player = Player(\"TestPlayer\", 45, 55, 5)\n",
        "predicted = predictor.predict(test_player)\n",
        "print(f\"Victorias predichas para {test_player.name}: {predicted:.2f}\")\n",
        "```\n",
        "\n",
        "### Salida esperada\n",
        "\n",
        "Victorias predichas para TestPlayer: 22.50\n",
        "\n"
      ],
      "metadata": {
        "id": "DCIysmIra30Z"
      }
    },
    {
      "cell_type": "markdown",
      "source": [
        "## Creación de la clase Player"
      ],
      "metadata": {
        "id": "UQI9bufHcRrl"
      }
    },
    {
      "cell_type": "code",
      "source": [
        "class Player:\n",
        "  def __init__(self, name, avg_session_time, avg_actions_per_min, avg_kills_per_session, victories=None):\n",
        "      \"\"\"\n",
        "      Inicializa una nueva instancia de la clase Player.\n",
        "\n",
        "      :param name: str - Nombre del jugador.\n",
        "      :param avg_session_time: float - Duración promedio de las sesiones en minutos.\n",
        "      :param avg_actions_per_min: float - Acciones por minuto.\n",
        "      :param avg_kills_per_session: float - Eliminaciones promedio por sesión.\n",
        "      :param victories: int, optional - Número de victorias.\n",
        "      \"\"\"\n",
        "      self.name = name\n",
        "      self.avg_session_time = avg_session_time\n",
        "      self.avg_actions_per_min = avg_actions_per_min\n",
        "      self.avg_kills_per_session = avg_kills_per_session\n",
        "      self.victories = victories\n",
        "\n",
        "  def to_features(self):\n",
        "      \"\"\"\n",
        "      Devuelve una lista con las características del jugador utilizadas como entrada para un modelo predictivo.\n",
        "\n",
        "      :return: list[float] - Características: [avg_session_time, avg_actions_per_min, avg_kills_per_session]\n",
        "      \"\"\"\n",
        "      return [\n",
        "          self.avg_session_time,\n",
        "          self.avg_actions_per_min,\n",
        "          self.avg_kills_per_session\n",
        "      ]"
      ],
      "metadata": {
        "id": "Zz855oRMcYee"
      },
      "execution_count": 47,
      "outputs": []
    },
    {
      "cell_type": "markdown",
      "source": [
        "#### Test para la clase player"
      ],
      "metadata": {
        "id": "KHjHlJ0zf7z6"
      }
    },
    {
      "cell_type": "code",
      "source": [
        "import numpy as np\n",
        "player1 = Player(\"Luis\", 45.5, 120.0, 15.2, victories=12)\n",
        "print(f\"Las caracteristicas de {player1.name} son {player1.to_features()}\")  # Salida: [45.5, 120.0, 15.2]\n",
        "fila =np.array(player1.to_features())\n",
        "print(fila)\n",
        "print(type(fila))\n",
        "print(fila.shape)\n",
        "#The elements of the shape tuple give the lengths of the corresponding array dimensions.\n",
        "#(4,) array unidimensional con 4 elementos\n",
        "\n",
        "columna = fila.reshape(1, -1) #transforma el unidimensional en bidimendional con 1 sola fila y las columnas necesarios\n",
        "print(columna)\n",
        "print(type(columna))\n",
        "print(columna.shape)\n",
        "#(1,4) array bidimensional con 1 fila y 4 columnas\n",
        "print(np.array(player1.to_features()).reshape(1, -1))"
      ],
      "metadata": {
        "colab": {
          "base_uri": "https://localhost:8080/"
        },
        "id": "epjuzfE5gNs2",
        "outputId": "f4c527c8-f2c9-4ef5-c304-6318a8c56c28"
      },
      "execution_count": 48,
      "outputs": [
        {
          "output_type": "stream",
          "name": "stdout",
          "text": [
            "Las caracteristicas de Luis son [45.5, 120.0, 15.2]\n",
            "[ 45.5 120.   15.2]\n",
            "<class 'numpy.ndarray'>\n",
            "(3,)\n",
            "[[ 45.5 120.   15.2]]\n",
            "<class 'numpy.ndarray'>\n",
            "(1, 3)\n",
            "[[ 45.5 120.   15.2]]\n"
          ]
        }
      ]
    },
    {
      "cell_type": "markdown",
      "source": [
        "## Creación de la clase PlayerDataset"
      ],
      "metadata": {
        "id": "pZ-cmX45fZPo"
      }
    },
    {
      "cell_type": "code",
      "source": [
        "class PlayerDataset:\n",
        "  def __init__(self, players):\n",
        "      \"\"\"\n",
        "      Inicializa una instancia de PlayerDataset con una lista de objetos Player.\n",
        "\n",
        "      :param players: list[Player] - Lista de jugadores.\n",
        "      \"\"\"\n",
        "      self.players = players\n",
        "\n",
        "  def get_feature_matrix(self):\n",
        "      \"\"\"\n",
        "      Devuelve una matriz de características (X), compuesta por listas con las características de cada jugador.\n",
        "\n",
        "      :return: list[list[float]] - Matriz de características.\n",
        "      \"\"\"\n",
        "      return [player.to_features() for player in self.players]\n",
        "\n",
        "  def get_target_vector(self):\n",
        "      \"\"\"\n",
        "      Devuelve un vector de etiquetas objetivo (y), correspondiente a las victorias de cada jugador.\n",
        "\n",
        "      :return: list[int] - Vector de objetivos (victorias). Jugadores sin victorias son excluidos.\n",
        "      \"\"\"\n",
        "      return [player.victories for player in self.players if player.victories is not None]\n"
      ],
      "metadata": {
        "id": "2XFvHnCmff8x"
      },
      "execution_count": 49,
      "outputs": []
    },
    {
      "cell_type": "markdown",
      "source": [
        "#### Test para la clase PlayerDataset"
      ],
      "metadata": {
        "id": "TKclCIP_gyFm"
      }
    },
    {
      "cell_type": "code",
      "source": [
        "players = [\n",
        "    Player(\"Luis\", 45.5, 120.0, 15.2, victories=12),\n",
        "    Player(\"Ana\", 30.0, 100.0, 10.5, victories=8),\n",
        "    Player(\"Carlos\", 60.0, 140.0, 20.0)  # Sin victorias conocidas\n",
        "]\n",
        "\n",
        "dataset = PlayerDataset(players)\n",
        "\n",
        "X = dataset.get_feature_matrix()\n",
        "y = dataset.get_target_vector()\n",
        "\n",
        "print(\"Matriz de características (X):\", X)\n",
        "print(\"Vector de objetivos (y):\", y)"
      ],
      "metadata": {
        "colab": {
          "base_uri": "https://localhost:8080/"
        },
        "id": "yXuC_Y3qgxpn",
        "outputId": "679b24b8-418b-4d20-bc9f-420436de0f60"
      },
      "execution_count": 50,
      "outputs": [
        {
          "output_type": "stream",
          "name": "stdout",
          "text": [
            "Matriz de características (X): [[45.5, 120.0, 15.2], [30.0, 100.0, 10.5], [60.0, 140.0, 20.0]]\n",
            "Vector de objetivos (y): [12, 8]\n"
          ]
        }
      ]
    },
    {
      "cell_type": "markdown",
      "source": [
        "## Creación de la clase VictoryPredictor"
      ],
      "metadata": {
        "id": "cXjlppR0hISH"
      }
    },
    {
      "cell_type": "code",
      "source": [
        "from sklearn.linear_model import LinearRegression\n",
        "import numpy as np\n",
        "\n",
        "class VictoryPredictor:\n",
        "  def __init__(self):\n",
        "      \"\"\"\n",
        "      Inicializa el predictor con un modelo de regresión lineal.\n",
        "      \"\"\"\n",
        "      self.model = LinearRegression()\n",
        "\n",
        "  def train(self, dataset):\n",
        "      \"\"\"\n",
        "      Entrena el modelo usando los datos proporcionados en un objeto PlayerDataset.\n",
        "\n",
        "      :param dataset: PlayerDataset - Dataset de jugadores con características y valores objetivo.\n",
        "      \"\"\"\n",
        "      X = dataset.get_feature_matrix()\n",
        "      y = dataset.get_target_vector()\n",
        "      self.model.fit(X, y)\n",
        "\n",
        "  def predict(self, player):\n",
        "      \"\"\"\n",
        "      Predice el número de victorias para un jugador individual.\n",
        "\n",
        "      :param player: Player - Jugador para el cual se desea predecir el número de victorias.\n",
        "      :return: float - Número predicho de victorias.\n",
        "      \"\"\"\n",
        "      X_new = np.array(player.to_features()).reshape(1, -1)\n",
        "      prediction = self.model.predict(X_new)\n",
        "      return prediction[0]\n"
      ],
      "metadata": {
        "id": "1ygxyesRfjx1"
      },
      "execution_count": 51,
      "outputs": []
    },
    {
      "cell_type": "code",
      "source": [
        "players = [\n",
        "    Player(\"Alice\", 40, 50, 6, 20),\n",
        "    Player(\"Bob\", 30, 35, 4, 10),\n",
        "    Player(\"Charlie\", 50, 60, 7, 25),\n",
        "    Player(\"Diana\", 20, 25, 2, 5),\n",
        "    Player(\"Eve\", 60, 70, 8, 30)\n",
        "]\n",
        "\n",
        "dataset = PlayerDataset(players)\n",
        "predictor = VictoryPredictor()\n",
        "predictor.train(dataset)\n",
        "\n",
        "test_player = Player(\"TestPlayer\", 45, 55, 5)\n",
        "predicted = predictor.predict(test_player)\n",
        "print(f\"Victorias predichas para {test_player.name}: {predicted:.2f}\")"
      ],
      "metadata": {
        "colab": {
          "base_uri": "https://localhost:8080/"
        },
        "id": "Ex0DxYlVmxW9",
        "outputId": "030135d4-c481-46e3-8bcf-9628568b6237"
      },
      "execution_count": 52,
      "outputs": [
        {
          "output_type": "stream",
          "name": "stdout",
          "text": [
            "Victorias predichas para TestPlayer: 22.50\n"
          ]
        }
      ]
    }
  ]
}