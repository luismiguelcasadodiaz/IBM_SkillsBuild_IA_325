{
  "nbformat": 4,
  "nbformat_minor": 0,
  "metadata": {
    "colab": {
      "provenance": [],
      "authorship_tag": "ABX9TyN+g0O37y851UXS4lqJ28/I",
      "include_colab_link": true
    },
    "kernelspec": {
      "name": "python3",
      "display_name": "Python 3"
    },
    "language_info": {
      "name": "python"
    }
  },
  "cells": [
    {
      "cell_type": "markdown",
      "metadata": {
        "id": "view-in-github",
        "colab_type": "text"
      },
      "source": [
        "<a href=\"https://colab.research.google.com/github/luismiguelcasadodiaz/IBM_SkillsBuild_IA_325/blob/main/IA_325_py_cod_ex_10.ipynb\" target=\"_parent\"><img src=\"https://colab.research.google.com/assets/colab-badge.svg\" alt=\"Open In Colab\"/></a>"
      ]
    },
    {
      "cell_type": "markdown",
      "source": [
        "# Limpieza inteligente de datos\n",
        "Imagina que estás trabajando con un conjunto de datos reales sobre estudiantes, pero algunas calificaciones están incompletas (aparecen como valores nulos). Tu tarea será completar esos valores vacíos de forma inteligente, utilizando la media (promedio) de la columna como reemplazo.\n",
        "##  Tu objetivo:\n",
        "\n",
        "Implementa una función llamada rellenar_con_media(dataframe, columna) que:\n",
        "\n",
        "+ Reciba como argumentos un DataFrame de pandas y el nombre de una columna numérica (por ejemplo, 'calificaciones').\n",
        "\n",
        "+ Calcule la media de los valores no nulos de esa columna.\n",
        "\n",
        "+ Reemplace todos los valores nulos (NaN) en esa columna con la media calculada.\n",
        "\n",
        "+ Devuelva el DataFrame modificado.\n",
        "\n",
        "\n",
        "## Ejemplo de uso:\n",
        "\n",
        "```python\n",
        "data = {\n",
        "    'nombre': ['Alice', 'Bob', 'Charlie', 'David', 'Eve'],\n",
        "    'edad': [20, None, 18, 25, None],\n",
        "    'calificaciones': [90, 88, None, None, 95]\n",
        "}\n",
        "\n",
        "df = pd.DataFrame(data)\n",
        "columna = 'calificaciones'\n",
        "\n",
        "resultado = rellenar_con_media(df, columna)\n",
        "print(resultado)\n",
        "```\n",
        "\n",
        " ## salida esperada\n",
        "\n",
        "|  |nombre  |edad | calificaciones|\n",
        "|--|--------|-----|---------------|\n",
        "|0 |   Alice|20.0 |           90.0|\n",
        "|1 |     Bob| NaN |           88.0|\n",
        "|2 | Charlie|18.0 |           91.0|\n",
        "|3 |   David|25.0 |           91.0|\n",
        "|4 |     Eve| NaN |           95.0|\n",
        "\n",
        "\n",
        "La columna \"calificaciones\" debe tener sus valores NaN reemplazados por la media de las calificaciones conocidas"
      ],
      "metadata": {
        "id": "bP1KSyK-mebI"
      }
    },
    {
      "cell_type": "code",
      "execution_count": null,
      "metadata": {
        "id": "JhyME4UKmah-"
      },
      "outputs": [],
      "source": []
    }
  ]
}