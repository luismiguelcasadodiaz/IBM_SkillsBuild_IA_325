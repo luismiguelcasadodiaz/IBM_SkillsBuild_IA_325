{
  "nbformat": 4,
  "nbformat_minor": 0,
  "metadata": {
    "colab": {
      "provenance": [],
      "authorship_tag": "ABX9TyP/hCwDdFfQATDmaElmSrv9",
      "include_colab_link": true
    },
    "kernelspec": {
      "name": "python3",
      "display_name": "Python 3"
    },
    "language_info": {
      "name": "python"
    }
  },
  "cells": [
    {
      "cell_type": "markdown",
      "metadata": {
        "id": "view-in-github",
        "colab_type": "text"
      },
      "source": [
        "<a href=\"https://colab.research.google.com/github/luismiguelcasadodiaz/IBM_SkillsBuild_IA_325/blob/main/IA_325_py_cod_ex_34_s.ipynb\" target=\"_parent\"><img src=\"https://colab.research.google.com/assets/colab-badge.svg\" alt=\"Open In Colab\"/></a>"
      ]
    },
    {
      "cell_type": "markdown",
      "source": [
        "# Recomendador de videojuegos\n",
        "\n",
        "##🧠 Descripción:\n",
        "\n",
        "Vas a construir un **sistema de recomendación de videojuegos** que pueda predecir si a un jugador le gustará o no un videojuego basándose en características como la acción, la estrategia, los gráficos o la dificultad.\n",
        "\n",
        "Para ello, utilizarás:\n",
        "\n",
        "  + Datos sintéticos generados con numpy\n",
        "  + Un modelo de clasificación usando **Random Forest** de sklearn\n",
        "\n",
        "\n",
        "\n",
        "## 🕹️ Objetivo:\n",
        "\n",
        "  1.- Crear una clase VideoGame que represente un videojuego con características numéricas.\n",
        "\n",
        "  2.- Generar una lista de videojuegos con etiquetas (le gusta/no le gusta) usando reglas sencillas.\n",
        "\n",
        "  3.- Entrenar un modelo con **RandomForestClassifier**.\n",
        "\n",
        "  4.- Usar el modelo para predecir si un nuevo videojuego será del gusto de un jugador.\n",
        "\n",
        "\n",
        "\n",
        "## 🧩 Especificaciones del ejercicio:\n",
        "\n",
        "  + ### Crea una clase VideoGame:\n",
        "    + Atributos:\n",
        "\n",
        "      + action (nivel de acción, de 0 a 1)\n",
        "      + strategy (nivel de estrategia, de 0 a 1)\n",
        "      + graphics (calidad gráfica, de 0 a 1)\n",
        "      + difficulty (nivel de dificultad, de 0 a 1)\n",
        "      + liked (opcional: 1 si le gusta al jugador, 0 si no)\n",
        "\n",
        "  + ### Crea una clase VideoGameGenerator que genere datos sintéticos de videojuegos, incluyendo si fueron o no del gusto de los jugadores (campo liked).\n",
        "\n",
        "    📝 Tip: Una regla simple para considerar que un juego gustó puede ser:\n",
        "\n",
        "    liked = int((action > 0.6 or graphics > 0.7) and difficulty < 0.7)\n",
        "\n",
        "\n",
        "\n",
        "  + ### Crea la clase VideoGameClassifier que:\n",
        "\n",
        "    + Entrene un modelo de clasificación usando RandomForestClassifier de scikit-learn, con el parámetro n_estimators=100, que indica que se usarán 100 árboles en el bosque aleatorio.\n",
        "\n",
        "    + Pueda predecir si le gustará un nuevo videojuego al jugador, a partir de sus características numéricas (action, strategy, graphics, difficulty).\n",
        "\n",
        "  + ### Crea una clase de ejemplo VideoGameRecommendationExample  donde:\n",
        "\n",
        "    + Generas 100 videojuegos aleatorios para entrenar.\n",
        "\n",
        "    + Predices si al jugador le gustará un nuevo juego con:\n",
        "     ```python\n",
        "     new_game = VideoGame(action=0.9, strategy=0.4, graphics=0.8, difficulty=0.3)\n",
        "     ```\n",
        "\n",
        "\n",
        "\n",
        "\n",
        "\n",
        "## ✅ Ejemplo de uso\n",
        "```python\n",
        "example = VideoGameRecommendationExample()\n",
        "example.run()\n",
        "```\n",
        "## Salida esperada\n",
        "```python\n",
        "🎮 Nuevo juego:\n",
        "Action: 0.9, Strategy: 0.4, Graphics: 0.8, Difficulty: 0.3\n",
        "✅ Le gustará al jugador el juego? Si!\n",
        "```"
      ],
      "metadata": {
        "id": "6Efs7GW1nA2P"
      }
    },
    {
      "cell_type": "markdown",
      "source": [
        "## Importación de librerías"
      ],
      "metadata": {
        "id": "DKOT0xHXr-0K"
      }
    },
    {
      "cell_type": "code",
      "source": [
        "import numpy as np\n",
        "from sklearn.ensemble import RandomForestClassifier\n",
        "import unittest"
      ],
      "metadata": {
        "id": "vVSXd8ZbuWIC"
      },
      "execution_count": 104,
      "outputs": []
    },
    {
      "cell_type": "markdown",
      "source": [
        "## Definición de la clase  VideoGame"
      ],
      "metadata": {
        "id": "i180kwALr-js"
      }
    },
    {
      "cell_type": "code",
      "source": [
        "class VideoGame:\n",
        "    \"\"\"\n",
        "    Representa un videojuego con características numéricas.\n",
        "\n",
        "    Atributos:\n",
        "        action (float): Nivel de acción del videojuego (entre 0 y 1).\n",
        "        strategy (float): Nivel de estrategia del videojuego (entre 0 y 1).\n",
        "        graphics (float): Calidad gráfica del videojuego (entre 0 y 1).\n",
        "        difficulty (float): Nivel de dificultad del videojuego (entre 0 y 1).\n",
        "        liked (int, optional): Indica si al jugador le gustó el juego (1) o no (0).\n",
        "                               El valor predeterminado es None.\n",
        "    \"\"\"\n",
        "    def __init__(self, action, strategy, graphics, difficulty, liked=None):\n",
        "        if not isinstance(action, (int, float)) or not 0 <= action <= 1:\n",
        "            raise ValueError(\"action debe ser un número entre 0 y 1\")\n",
        "        if not isinstance(strategy, (int, float)) or not 0 <= strategy <= 1:\n",
        "            raise ValueError(\"strategy debe ser un número entre 0 y 1\")\n",
        "        if not isinstance(graphics, (int, float)) or not 0 <= graphics <= 1:\n",
        "            raise ValueError(\"graphics debe ser un número entre 0 y 1\")\n",
        "        if not isinstance(difficulty, (int, float)) or not 0 <= difficulty <= 1:\n",
        "            raise ValueError(\"difficulty debe ser un número entre 0 y 1\")\n",
        "        if liked is not None and ( not isinstance(liked, int) or liked not in [0, 1]):\n",
        "            raise ValueError(\"liked debe ser 0 ó 1\")\n",
        "        self.action = action\n",
        "        self.strategy = strategy\n",
        "        self.graphics = graphics\n",
        "        self.difficulty = difficulty\n",
        "        self.liked = liked\n",
        "    def __str__(self):\n",
        "        return f\"Action: {self.action}, Strategy: {self.strategy}, Graphics: {self.graphics}, Difficulty: {self.difficulty}\""
      ],
      "metadata": {
        "id": "LXiORqqKsjl2"
      },
      "execution_count": 105,
      "outputs": []
    },
    {
      "cell_type": "markdown",
      "source": [
        "#### Tests para la clase VideoGame"
      ],
      "metadata": {
        "id": "GZoIo6U9-QVY"
      }
    },
    {
      "cell_type": "code",
      "source": [
        "class TestVideoGame(unittest.TestCase):\n",
        "    def test_creacion_videojuego_valido(self):\n",
        "        # Prueba la creación de un videojuego con valores válidos\n",
        "        juego = VideoGame(action=0.5, strategy=0.3, graphics=0.8, difficulty=0.4, liked=1)\n",
        "        self.assertEqual(juego.action, 0.5)\n",
        "        self.assertEqual(juego.strategy, 0.3)\n",
        "        self.assertEqual(juego.graphics, 0.8)\n",
        "        self.assertEqual(juego.difficulty, 0.4)\n",
        "        self.assertEqual(juego.liked, 1)\n",
        "\n",
        "    def test_creacion_videojuego_sin_liked(self):\n",
        "        # Prueba la creación de un videojuego sin el atributo 'liked'\n",
        "        juego = VideoGame(action=0.7, strategy=0.2, graphics=0.6, difficulty=0.9)\n",
        "        self.assertEqual(juego.action, 0.7)\n",
        "        self.assertEqual(juego.strategy, 0.2)\n",
        "        self.assertEqual(juego.graphics, 0.6)\n",
        "        self.assertEqual(juego.difficulty, 0.9)\n",
        "        self.assertIsNone(juego.liked)\n",
        "\n",
        "    def test_valor_invalido_action(self):\n",
        "        # Prueba con un valor de 'action' fuera del rango [0, 1]\n",
        "        with self.assertRaises(ValueError):\n",
        "            VideoGame(action=1.5, strategy=0.3, graphics=0.8, difficulty=0.4)\n",
        "        with self.assertRaises(ValueError):\n",
        "            VideoGame(action=-0.2, strategy=0.3, graphics=0.8, difficulty=0.4)\n",
        "\n",
        "    def test_tipo_invalido_action(self):\n",
        "        # Prueba con un tipo de dato inválido para 'action'\n",
        "        with self.assertRaises(ValueError):\n",
        "            VideoGame(action=\"alto\", strategy=0.3, graphics=0.8, difficulty=0.4)\n",
        "\n",
        "    def test_valor_invalido_strategy(self):\n",
        "        # Prueba con un valor de 'strategy' fuera del rango [0, 1]\n",
        "        with self.assertRaises(ValueError):\n",
        "            VideoGame(action=0.5, strategy=1.1, graphics=0.8, difficulty=0.4)\n",
        "        with self.assertRaises(ValueError):\n",
        "            VideoGame(action=0.5, strategy=-0.1, graphics=0.8, difficulty=0.4)\n",
        "\n",
        "    def test_tipo_invalido_strategy(self):\n",
        "        # Prueba con un tipo de dato inválido para 'strategy'\n",
        "        with self.assertRaises(ValueError):\n",
        "            VideoGame(action=0.5, strategy=\"medio\", graphics=0.8, difficulty=0.4)\n",
        "\n",
        "    def test_valor_invalido_graphics(self):\n",
        "        # Prueba con un valor de 'graphics' fuera del rango [0, 1]\n",
        "        with self.assertRaises(ValueError):\n",
        "            VideoGame(action=0.5, strategy=0.3, graphics=1.2, difficulty=0.4)\n",
        "        with self.assertRaises(ValueError):\n",
        "            VideoGame(action=0.5, strategy=0.3, graphics=-0.5, difficulty=0.4)\n",
        "\n",
        "    def test_tipo_invalido_graphics(self):\n",
        "        # Prueba con un tipo de dato inválido para 'graphics'\n",
        "        with self.assertRaises(ValueError):\n",
        "            VideoGame(action=0.5, strategy=0.3, graphics=\"excelente\", difficulty=0.4)\n",
        "\n",
        "    def test_valor_invalido_difficulty(self):\n",
        "        # Prueba con un valor de 'difficulty' fuera del rango [0, 1]\n",
        "        with self.assertRaises(ValueError):\n",
        "            VideoGame(action=0.5, strategy=0.3, graphics=0.8, difficulty=1.3)\n",
        "        with self.assertRaises(ValueError):\n",
        "            VideoGame(action=0.5, strategy=0.3, graphics=0.8, difficulty=-0.3)\n",
        "\n",
        "    def test_tipo_invalido_difficulty(self):\n",
        "        # Prueba con un tipo de dato inválido para 'difficulty'\n",
        "        with self.assertRaises(ValueError):\n",
        "            VideoGame(action=0.5, strategy=0.3, graphics=0.8, difficulty=\"dificil\")\n",
        "\n",
        "    def test_valor_invalido_liked(self):\n",
        "        # Prueba con un valor de 'liked' diferente de 0 o 1\n",
        "        with self.assertRaises(ValueError):\n",
        "            VideoGame(action=0.5, strategy=0.3, graphics=0.8, difficulty=0.4, liked=2)\n",
        "        with self.assertRaises(ValueError):\n",
        "            VideoGame(action=0.5, strategy=0.3, graphics=0.8, difficulty=0.4, liked=-1)\n",
        "\n",
        "    def test_tipo_invalido_liked(self):\n",
        "        # Prueba con un tipo de dato inválido para 'liked'\n",
        "        with self.assertRaises(ValueError):\n",
        "            VideoGame(action=0.5, strategy=0.3, graphics=0.8, difficulty=0.4, liked=\"si\")\n",
        "\n",
        "    def test_str_representacion(self):\n",
        "        # Prueba la representación en cadena del objeto\n",
        "        juego = VideoGame(action=0.1, strategy=0.9, graphics=0.2, difficulty=0.7)\n",
        "        self.assertEqual(str(juego), \"Action: 0.1, Strategy: 0.9, Graphics: 0.2, Difficulty: 0.7\")\n"
      ],
      "metadata": {
        "id": "6-8iETQl-O3Z"
      },
      "execution_count": 106,
      "outputs": []
    },
    {
      "cell_type": "code",
      "source": [
        "unittest.main(argv=['first-arg-is-ignored'], exit=False)"
      ],
      "metadata": {
        "colab": {
          "base_uri": "https://localhost:8080/"
        },
        "id": "NqOkVzBJ-bnC",
        "outputId": "0b872923-c520-47b7-9fc9-e49146a7cd25"
      },
      "execution_count": 107,
      "outputs": [
        {
          "output_type": "stream",
          "name": "stderr",
          "text": [
            ".............\n",
            "----------------------------------------------------------------------\n",
            "Ran 13 tests in 0.011s\n",
            "\n",
            "OK\n"
          ]
        },
        {
          "output_type": "execute_result",
          "data": {
            "text/plain": [
              "<unittest.main.TestProgram at 0x79ea41675cd0>"
            ]
          },
          "metadata": {},
          "execution_count": 107
        }
      ]
    },
    {
      "cell_type": "markdown",
      "source": [
        "## Definición de la clase VideoGameGenerator"
      ],
      "metadata": {
        "id": "MT4aKu2or-Ls"
      }
    },
    {
      "cell_type": "code",
      "source": [
        "class VideoGameGenerator:\n",
        "    \"\"\"\n",
        "    Genera datos sintéticos de videojuegos para entrenamiento y prueba.\n",
        "\n",
        "    Atributos:\n",
        "        num_games (int): El número de videojuegos a generar.\n",
        "        data (list): Una lista de objetos VideoGame generados.\n",
        "    \"\"\"\n",
        "    def __init__(self, num_samples = 100):\n",
        "        self.num_games = num_samples\n",
        "        self.data = self.generate(self.num_games)\n",
        "    def generate(self, num_games):\n",
        "        \"\"\"\n",
        "        Genera una lista de videojuegos con características aleatorias y etiquetas 'liked'.\n",
        "\n",
        "        Args:\n",
        "            num_games (int): El número de videojuegos a generar.\n",
        "\n",
        "        Returns:\n",
        "            list: Una lista de objetos VideoGame.\n",
        "        \"\"\"\n",
        "        games = []\n",
        "        for _ in range(num_games):\n",
        "            action = np.random.uniform(0, 1)\n",
        "            strategy = np.random.uniform(0, 1)\n",
        "            graphics = np.random.uniform(0, 1)\n",
        "            difficulty = np.random.uniform(0, 1)\n",
        "            liked = int((action > 0.6 or graphics > 0.7) and difficulty < 0.7)\n",
        "            game = VideoGame(action, strategy, graphics, difficulty, liked)\n",
        "            games.append(game)\n",
        "        return games\n",
        ""
      ],
      "metadata": {
        "id": "231877aMsr_y"
      },
      "execution_count": 108,
      "outputs": []
    },
    {
      "cell_type": "markdown",
      "source": [
        "##Definición de la clase VideoGameClassifier"
      ],
      "metadata": {
        "id": "FJW8ZhCvr99c"
      }
    },
    {
      "cell_type": "code",
      "source": [
        "class VideoGameClassifier:\n",
        "    \"\"\"\n",
        "    Clasificador de videojuegos que utiliza un modelo RandomForestClassifier\n",
        "    para predecir si a un jugador le gustará un videojuego.\n",
        "\n",
        "    Atributos:\n",
        "        model: El modelo RandomForestClassifier entrenado. Inicialmente None.\n",
        "    \"\"\"\n",
        "    def __init__(self):\n",
        "        self.model = None\n",
        "\n",
        "    def fit(self, datos):\n",
        "        \"\"\"\n",
        "        Entrena el modelo de clasificación con los datos de videojuegos proporcionados.\n",
        "\n",
        "        Args:\n",
        "            datos (list): Una lista de objetos VideoGame con el atributo 'liked' definido.\n",
        "        \"\"\"\n",
        "        labels = [game.liked for game in datos]\n",
        "        features = [[g.action, g.strategy, g.graphics, g.difficulty] \\\n",
        "                         for g in datos]\n",
        "        self.model = RandomForestClassifier(n_estimators=100)\n",
        "        self.model.fit(features, labels)\n",
        "\n",
        "    def predict(self, g:VideoGame):\n",
        "        \"\"\"\n",
        "        Predice si a un jugador le gustará un videojuego dado.\n",
        "\n",
        "        Args:\n",
        "            g (VideoGame): Un objeto VideoGame cuyas características se usarán para la predicción.\n",
        "\n",
        "        Returns:\n",
        "            int: 1 si se predice que le gustará al jugador, 0 en caso contrario.\n",
        "        \"\"\"\n",
        "        features = [g.action, g.strategy, g.graphics, g.difficulty]\n",
        "        prediction = self.model.predict([features])\n",
        "        return prediction[0]"
      ],
      "metadata": {
        "id": "K69mguVBtEWd"
      },
      "execution_count": 109,
      "outputs": []
    },
    {
      "cell_type": "markdown",
      "source": [
        "## Definición de la clase VIdeoGameRecommendationExample"
      ],
      "metadata": {
        "id": "j8WWOI2fm8t1"
      }
    },
    {
      "cell_type": "code",
      "source": [
        "class VideoGameRecommendationExample:\n",
        "    \"\"\"\n",
        "    Clase de ejemplo para demostrar el sistema de recomendación de videojuegos.\n",
        "    \"\"\"\n",
        "    def __init__(self):\n",
        "        \"\"\"\n",
        "        Inicializa el ejemplo creando una instancia del clasificador.\n",
        "        \"\"\"\n",
        "        self.classifier = VideoGameClassifier() # Crea una instancia del clasificador\n",
        "\n",
        "    def run(self):\n",
        "        \"\"\"\n",
        "        Ejecuta el ejemplo completo: genera datos, entrena el modelo y realiza una predicción.\n",
        "        \"\"\"\n",
        "        # Genera datos de videojuegos sintéticos para entrenar el modelo\n",
        "        generator = VideoGameGenerator(num_samples=200)\n",
        "        datos_entrenar = generator.data\n",
        "\n",
        "        # Entrena el clasificador con los datos generados\n",
        "        self.classifier.fit(datos_entrenar)\n",
        "\n",
        "        # Crea un nuevo videojuego para predecir si le gustará al jugador\n",
        "        new_game = VideoGame(action=0.9, strategy=0.4, graphics=0.8, difficulty=0.3)\n",
        "\n",
        "        # Realiza la predicción utilizando el clasificador entrenado\n",
        "        prediction = self.classifier.predict(new_game)\n",
        "\n",
        "        # Imprime los resultados de la predicción\n",
        "        print(\"🎮 Nuevo juego:\")\n",
        "        print(new_game)\n",
        "        if prediction == 1:\n",
        "            print(\"✅ Le gustará al jugador el juego? Sí!\")\n",
        "        else:\n",
        "            print(\"❌ No le gustará al jugador el juego? No!\")"
      ],
      "metadata": {
        "id": "kSWldpFyub_X"
      },
      "execution_count": 110,
      "outputs": []
    },
    {
      "cell_type": "markdown",
      "source": [
        "## Ejemplo de uso"
      ],
      "metadata": {
        "id": "sPFd4FJ0r9xP"
      }
    },
    {
      "cell_type": "code",
      "source": [
        "example = VideoGameRecommendationExample()\n",
        "example.run()"
      ],
      "metadata": {
        "colab": {
          "base_uri": "https://localhost:8080/"
        },
        "id": "ci3p_RAysgON",
        "outputId": "065df737-8038-4081-8467-273e2f2ed5f2"
      },
      "execution_count": 111,
      "outputs": [
        {
          "output_type": "stream",
          "name": "stdout",
          "text": [
            "🎮 Nuevo juego:\n",
            "Action: 0.9, Strategy: 0.4, Graphics: 0.8, Difficulty: 0.3\n",
            "✅ Le gustará al jugador el juego? Sí!\n"
          ]
        }
      ]
    }
  ]
}