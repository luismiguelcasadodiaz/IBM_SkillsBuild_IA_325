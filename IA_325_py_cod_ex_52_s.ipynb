{
  "nbformat": 4,
  "nbformat_minor": 0,
  "metadata": {
    "colab": {
      "provenance": [],
      "authorship_tag": "ABX9TyP3TUfvNMRIkAle9DJ57vPJ",
      "include_colab_link": true
    },
    "kernelspec": {
      "name": "python3",
      "display_name": "Python 3"
    },
    "language_info": {
      "name": "python"
    }
  },
  "cells": [
    {
      "cell_type": "markdown",
      "metadata": {
        "id": "view-in-github",
        "colab_type": "text"
      },
      "source": [
        "<a href=\"https://colab.research.google.com/github/luismiguelcasadodiaz/IBM_SkillsBuild_IA_325/blob/main/IA_325_py_cod_ex_52_s.ipynb\" target=\"_parent\"><img src=\"https://colab.research.google.com/assets/colab-badge.svg\" alt=\"Open In Colab\"/></a>"
      ]
    },
    {
      "cell_type": "markdown",
      "source": [
        "# Diseñar una IA que entienda a los jugadores\n",
        "\n",
        "Título: \"Phantom Arena: Entrenando una IA para clasificar, predecir y agrupar jugadores\"\n",
        "\n",
        "## Descripción:\n",
        "\n",
        "En este ejercicio, deberás entrenar un modelo de Machine Learning para predecir el estilo de juego de un jugador, el número de victorias esperadas y asignar a cada jugador un grupo de características. Para ello, deberás crear una clase llamada GameModel que gestione y entrene los modelos correspondientes.\n",
        "\n",
        "En lugar de cargar datos desde un archivo CSV, recibirás un conjunto de datos de prueba directamente en el código. Usarás estos datos para entrenar y evaluar tus modelos.\n",
        "\n",
        "## Tareas:\n",
        "\n",
        "+ 1.- Crear la clase **Player**: Esta clase representará a un jugador.\n",
        "  + guientes atributos:\n",
        "\n",
        "    + player_name: nombre del jugador (string).\n",
        "    + character_type: tipo de personaje (string). Puede ser \"mage\", \"tank\", \"archer\", \"assassin\".\n",
        "    + avg_session_time: tiempo promedio por sesión en minutos (float).\n",
        "    + matches_played: número total de partidas jugadas (int).\n",
        "    + aggressive_actions: cantidad de acciones agresivas realizadas (int).\n",
        "    + defensive_actions: cantidad de acciones defensivas realizadas (int).\n",
        "    + items_bought: cantidad de objetos comprados (int).\n",
        "    + victories: número de victorias (int).\n",
        "    + style: estilo de juego del jugador (\"aggressive\" o \"strategic\", sólo uno de estos).\n",
        "\n",
        "+ 2.- Crear la clase **GameModel**: Esta clase debe ser capaz de:\n",
        "\n",
        "  + Recibir una lista de jugadores y almacenarlos.\n",
        "\n",
        "  + Entrenar tres modelos diferentes:\n",
        "\n",
        "    + Modelo de **clasificación**: para predecir el estilo de juego del jugador (aggressive o strategic).\n",
        "\n",
        "    + Modelo de **regresión**: para predecir el número de victorias de un jugador.\n",
        "\n",
        "    + Modelo de **clustering**: para asignar a cada jugador un grupo basado en sus características.\n",
        "\n",
        "  + Proveer métodos para:\n",
        "\n",
        "    + Predecir el estilo de juego de un jugador.\n",
        "    + Predecir las victorias de un jugador.\n",
        "    + Asignar un cluster a un jugador.\n",
        "\n",
        "+ 3.- Pruebas:\n",
        "\n",
        "  + No deberás usar ningún archivo externo. Todos los datos serán proporcionados directamente en el código, en forma de una lista de objetos Player.\n",
        "\n",
        "  + Después de entrenar los modelos, deberás hacer predicciones para un jugador de prueba.\n",
        "\n",
        "🧩 Datos de prueba\n",
        "\n",
        "Se te proporcionará un conjunto de datos de prueba como el siguiente:\n",
        "```python\n",
        "players_data = [\n",
        "    Player(\"P1\", \"mage\", 40, 30, 90, 50, 20, 18, \"aggressive\"),\n",
        "    Player(\"P2\", \"tank\", 60, 45, 50, 120, 25, 24, \"strategic\"),\n",
        "    Player(\"P3\", \"archer\", 50, 35, 95, 60, 22, 20, \"aggressive\"),\n",
        "    Player(\"P4\", \"tank\", 55, 40, 60, 100, 28, 22, \"strategic\"),\n",
        "]\n",
        "```\n",
        "\n",
        "## 🧩 Ejemplo de uso\n",
        "```python\n",
        "# Crear datos de prueba para varios jugadores\n",
        "players_data = [\n",
        "    Player(\"P1\", \"mage\", 40, 30, 90, 50, 20, 18, \"aggressive\"),\n",
        "    Player(\"P2\", \"tank\", 60, 45, 50, 120, 25, 24, \"strategic\"),\n",
        "    Player(\"P3\", \"archer\", 50, 35, 95, 60, 22, 20, \"aggressive\"),\n",
        "    Player(\"P4\", \"tank\", 55, 40, 60, 100, 28, 22, \"strategic\"),\n",
        "]\n",
        "\n",
        "# Instanciar el modelo con los datos de los jugadores\n",
        "model = GameModel(players_data)\n",
        "\n",
        "# Entrenar los modelos\n",
        "model.train_classification_model()\n",
        "model.train_regression_model()\n",
        "model.train_clustering_model()\n",
        "\n",
        "# Crear un nuevo jugador para realizar predicciones\n",
        "new_player = Player(\"TestPlayer\", \"mage\", 42, 33, 88, 45, 21, 0)\n",
        "\n",
        "# Realizar predicciones\n",
        "predicted_style = model.predict_style(new_player)\n",
        "predicted_victories = model.predict_victories(new_player)\n",
        "predicted_cluster = model.assign_cluster(new_player)\n",
        "\n",
        "# Imprimir los resultados de las predicciones\n",
        "print(f\"Estilo de juego predicho para {new_player.player_name}: {predicted_style}\")\n",
        "print(f\"Victorias predichas para {new_player.player_name}: {predicted_victories:.2f}\")\n",
        "print(f\"Cluster asignado a {new_player.player_name}: {predicted_cluster}\")\n",
        "```\n",
        "\n",
        "## 🧩 Salida esperada\n",
        "\n",
        "Estilo de juego predicho para TestPlayer: aggressive\n",
        "Victorias predichas para TestPlayer: 17.70\n",
        "Cluster asignado a TestPlayer: 0\n",
        "\n",
        "\n",
        "## 🧩 Tarea Opcional: Mostrar jugadores por cluster\n",
        "\n",
        "Para este ejercicio adicional, te proponemos una función que te permitirá visualizar los jugadores agrupados por clusters. Esta función será útil para explorar y entender cómo el modelo de clustering (KMeans) ha agrupado a los jugadores en función de sus características.\n",
        "\n",
        "### Descripción de la tarea:\n",
        "\n",
        "Debes implementar una función que imprima los jugadores asignados a cada cluster después de que el modelo KMeans haya sido entrenado. Cada cluster debe ser visualizado con el nombre del jugador, el tipo de personaje y su estilo de juego.\n",
        "\n",
        "### Especificaciones:\n",
        "\n",
        "Utiliza el modelo KMeans entrenado en el ejercicio anterior.\n",
        "\n",
        "La función debe recorrer los diferentes clusters y mostrar los jugadores pertenecientes a cada uno, con los siguientes detalles:\n",
        "\n",
        "  + Nombre del jugador\n",
        "  + Tipo de personaje\n",
        "  + Estilo de juego\n",
        "\n",
        "### La salida debe ser algo como:\n",
        "```python\n",
        "Cluster 0:\n",
        "P1 - Mage - Aggressive\n",
        "P3 - Archer - Aggressive\n",
        "Cluster 1:\n",
        "P2 - Tank - Strategic\n",
        "P4 - Tank - Strategic\n",
        "```\n",
        "\n",
        "### Consejos:\n",
        "\n",
        " + Puedes utilizar model.cluster_model.labels_ para obtener las asignaciones de los clusters.\n",
        "\n",
        " + Convierte los datos de los jugadores en un DataFrame para facilitar la manipulación y visualización de la información.\n",
        "\n",
        " + La función debe imprimir los jugadores por cada cluster, y para ello puedes agrupar los jugadores según el valor de model.cluster_model.labels_."
      ],
      "metadata": {
        "id": "uHGrRrAcH3nQ"
      }
    },
    {
      "cell_type": "markdown",
      "source": [],
      "metadata": {
        "id": "1RCVy86pMRPy"
      }
    },
    {
      "cell_type": "markdown",
      "source": [
        "## Importación de las librerías"
      ],
      "metadata": {
        "id": "WvuhuuHOMNdd"
      }
    },
    {
      "cell_type": "code",
      "source": [
        "import pandas as pd\n",
        "from sklearn.model_selection import train_test_split\n",
        "from sklearn.linear_model import LogisticRegression\n",
        "from sklearn.linear_model import LinearRegression\n",
        "from sklearn.ensemble import RandomForestRegressor\n",
        "from sklearn.cluster import KMeans\n",
        "from sklearn.preprocessing import StandardScaler"
      ],
      "metadata": {
        "id": "md4o1VfZMWkW"
      },
      "execution_count": 8,
      "outputs": []
    },
    {
      "cell_type": "markdown",
      "source": [
        "## Definición de la clase Player"
      ],
      "metadata": {
        "id": "JWrdMi3AMW78"
      }
    },
    {
      "cell_type": "code",
      "source": [
        "class Player:\n",
        "    def __init__(self, player_name, character_type, avg_session_time, matches_played, aggressive_actions, defensive_actions, items_bought, victories, style=None):\n",
        "        self.player_name = player_name\n",
        "        self.character_type = character_type\n",
        "        self.avg_session_time = avg_session_time\n",
        "        self.matches_played = matches_played\n",
        "        self.aggressive_actions = aggressive_actions\n",
        "        self.defensive_actions = defensive_actions\n",
        "        self.items_bought = items_bought\n",
        "        self.victories = victories\n",
        "        self.style = style"
      ],
      "metadata": {
        "id": "08E1FBgMMi6K"
      },
      "execution_count": 9,
      "outputs": []
    },
    {
      "cell_type": "markdown",
      "source": [
        "## Definicion de la clase GameModel"
      ],
      "metadata": {
        "id": "D-hrQD9vM4Af"
      }
    },
    {
      "cell_type": "code",
      "source": [
        "class GameModel:\n",
        "    def __init__(self, players_data):\n",
        "        self.players_data = players_data\n",
        "        self.classification_model = None\n",
        "        self.regression_model = None\n",
        "        self.cluster_model = None\n",
        "        self.scaler = None\n",
        "    def train_classification_model(self):\n",
        "        # Preparar los datos para el modelo de clasificación del estilo\n",
        "        # Agresivo o defensivo en función de dos variables\n",
        "        data = {\n",
        "            'Aggressive': [player.aggressive_actions for player in self.players_data],\n",
        "            'Defensive': [player.defensive_actions for player in self.players_data],\n",
        "            'Style': [player.style for player in self.players_data]\n",
        "        }\n",
        "        df = pd.DataFrame(data)\n",
        "        X = df[['Aggressive', 'Defensive']]\n",
        "        y = df['Style']\n",
        "        X_train, _, y_train, _ = train_test_split(X, y, test_size=0.2, random_state=42)\n",
        "        self.classification_model = LogisticRegression(max_iter=1000)\n",
        "        self.classification_model.fit(X_train, y_train)\n",
        "    def train_regression_model(self):\n",
        "        # Preparar los datos para el modelo de regresión de victorias\n",
        "        data = {\n",
        "            'Matches Played': [player.matches_played for player in self.players_data],\n",
        "            'Items Bought': [player.items_bought for player in self.players_data],\n",
        "            'Victories': [player.victories for player in self.players_data]\n",
        "        }\n",
        "        df = pd.DataFrame(data)\n",
        "        X = df[['Matches Played', 'Items Bought']]\n",
        "        y = df['Victories']\n",
        "        X_train, _, y_train, _ = train_test_split(X, y, test_size=0.2, random_state=42)\n",
        "        self.regression_model = LinearRegression()\n",
        "        self.regression_model.fit(X_train, y_train)\n",
        "    def train_clustering_model(self):\n",
        "        # Preparar los datos para el modelo de clustering de jugadores\n",
        "        data = {\n",
        "            'Aggressive': [player.aggressive_actions for player in self.players_data],\n",
        "            'Defensive': [player.defensive_actions for player in self.players_data],\n",
        "            'Items Bought': [player.items_bought for player in self.players_data],\n",
        "            'Victories': [player.victories for player in self.players_data],\n",
        "            'Matches Played': [player.matches_played for player in self.players_data],\n",
        "            'Avg Session Time': [player.avg_session_time for player in self.players_data]\n",
        "        }\n",
        "        df = pd.DataFrame(data)\n",
        "        X = df[['Aggressive', 'Defensive', 'Items Bought', 'Victories', 'Matches Played', 'Avg Session Time']]\n",
        "        self.scaler = StandardScaler()\n",
        "        X_scaled = self.scaler.fit_transform(X)\n",
        "        self.cluster_model = KMeans(n_clusters=2, random_state=42)\n",
        "        self.cluster_model.fit(X_scaled)\n",
        "    def predict_style(self, new_player):\n",
        "        # Realizar predicción del estilo de juego para un nuevo jugador\n",
        "        new_data = [[new_player.aggressive_actions, new_player.defensive_actions]]\n",
        "        predicted_style = self.classification_model.predict(new_data)\n",
        "        return predicted_style[0]\n",
        "    def predict_victories(self, new_player):\n",
        "        # Realizar predicción de las victorias para un nuevo jugador\n",
        "        new_data = [[new_player.matches_played, new_player.items_bought]]\n",
        "        predicted_victories = self.regression_model.predict(new_data)\n",
        "        return predicted_victories[0]\n",
        "    def assign_cluster(self, new_player):\n",
        "        # Asignar un cluster a un nuevo jugador\n",
        "        new_data = [[new_player.aggressive_actions, new_player.defensive_actions, new_player.items_bought, new_player.victories, new_player.matches_played, new_player.avg_session_time]]\n",
        "        new_data_scaled = self.scaler.transform(new_data)\n",
        "        predicted_cluster = self.cluster_model.predict(new_data_scaled)\n",
        "        return predicted_cluster[0]\n"
      ],
      "metadata": {
        "id": "ez1DZ2c-M8qs"
      },
      "execution_count": 10,
      "outputs": []
    },
    {
      "cell_type": "markdown",
      "source": [
        "## Ejemplo de uso"
      ],
      "metadata": {
        "id": "vCoeLIvXME7s"
      }
    },
    {
      "cell_type": "code",
      "execution_count": 11,
      "metadata": {
        "id": "phxqkntJHzgL",
        "colab": {
          "base_uri": "https://localhost:8080/"
        },
        "outputId": "e49747ad-8104-47e9-ef35-7699b594a03f"
      },
      "outputs": [
        {
          "output_type": "stream",
          "name": "stdout",
          "text": [
            "Estilo de juego predicho para TestPlayer: aggressive\n",
            "Victorias predichas para TestPlayer: 19.20\n",
            "Cluster asignado a TestPlayer: 1\n"
          ]
        },
        {
          "output_type": "stream",
          "name": "stderr",
          "text": [
            "/usr/local/lib/python3.11/dist-packages/sklearn/utils/validation.py:2739: UserWarning: X does not have valid feature names, but LogisticRegression was fitted with feature names\n",
            "  warnings.warn(\n",
            "/usr/local/lib/python3.11/dist-packages/sklearn/utils/validation.py:2739: UserWarning: X does not have valid feature names, but LinearRegression was fitted with feature names\n",
            "  warnings.warn(\n",
            "/usr/local/lib/python3.11/dist-packages/sklearn/utils/validation.py:2739: UserWarning: X does not have valid feature names, but StandardScaler was fitted with feature names\n",
            "  warnings.warn(\n"
          ]
        }
      ],
      "source": [
        "# Crear datos de prueba para varios jugadores\n",
        "players_data = [\n",
        "    Player(\"P1\", \"mage\", 40, 30, 90, 50, 20, 18, \"aggressive\"),\n",
        "    Player(\"P2\", \"tank\", 60, 45, 50, 120, 25, 24, \"strategic\"),\n",
        "    Player(\"P3\", \"archer\", 50, 35, 95, 60, 22, 20, \"aggressive\"),\n",
        "    Player(\"P4\", \"tank\", 55, 40, 60, 100, 28, 22, \"strategic\"),\n",
        "]\n",
        "\n",
        "# Instanciar el modelo con los datos de los jugadores\n",
        "model = GameModel(players_data)\n",
        "\n",
        "# Entrenar los modelos\n",
        "model.train_classification_model()\n",
        "model.train_regression_model()\n",
        "model.train_clustering_model()\n",
        "\n",
        "# Crear un nuevo jugador para realizar predicciones\n",
        "new_player = Player(\"TestPlayer\", \"mage\", 42, 33, 88, 45, 21, 0)\n",
        "\n",
        "# Realizar predicciones\n",
        "predicted_style = model.predict_style(new_player)\n",
        "predicted_victories = model.predict_victories(new_player)\n",
        "predicted_cluster = model.assign_cluster(new_player)\n",
        "\n",
        "# Imprimir los resultados de las predicciones\n",
        "print(f\"Estilo de juego predicho para {new_player.player_name}: {predicted_style}\")\n",
        "print(f\"Victorias predichas para {new_player.player_name}: {predicted_victories:.2f}\")\n",
        "print(f\"Cluster asignado a {new_player.player_name}: {predicted_cluster}\")"
      ]
    }
  ]
}