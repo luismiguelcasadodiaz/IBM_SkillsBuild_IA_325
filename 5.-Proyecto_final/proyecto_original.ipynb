{
  "cells": [
    {
      "cell_type": "markdown",
      "metadata": {
        "id": "view-in-github",
        "colab_type": "text"
      },
      "source": [
        "<a href=\"https://colab.research.google.com/github/luismiguelcasadodiaz/IBM_SkillsBuild_IA_325/blob/main/proyecto_original.ipynb\" target=\"_parent\"><img src=\"https://colab.research.google.com/assets/colab-badge.svg\" alt=\"Open In Colab\"/></a>"
      ]
    },
    {
      "cell_type": "code",
      "execution_count": null,
      "metadata": {
        "id": "7VdUuU-JysJf"
      },
      "outputs": [],
      "source": [
        "import seaborn as sns\n",
        "import pandas as pd\n",
        "from sklearn.datasets import load_breast_cancer\n",
        "from sklearn.model_selection import train_test_split\n",
        "from sklearn.datasets import fetch_covtype\n",
        "from sklearn.linear_model import LinearRegression, LogisticRegression\n",
        "from sklearn.metrics import confusion_matrix, ConfusionMatrixDisplay\n",
        "from sklearn.neighbors import KNeighborsClassifier"
      ]
    },
    {
      "cell_type": "markdown",
      "metadata": {
        "id": "ZZoCUTZjysJi"
      },
      "source": [
        "## Ejercicio 1\n",
        "Imprime por pantalla tu nombre, apellido y email"
      ]
    },
    {
      "cell_type": "code",
      "execution_count": null,
      "metadata": {
        "id": "ZIN3lCERysJk"
      },
      "outputs": [],
      "source": [
        "# Resuelve en esta celda el ejercicio 1\n"
      ]
    },
    {
      "cell_type": "markdown",
      "metadata": {
        "id": "CedFZmNKysJk"
      },
      "source": [
        "## Ejercicio 2"
      ]
    },
    {
      "cell_type": "markdown",
      "metadata": {
        "id": "uROD5c1AysJl"
      },
      "source": [
        "### Ejercicio 2.1\n",
        "Muestra los primeros registros del siguiente conjunto de datos"
      ]
    },
    {
      "cell_type": "code",
      "execution_count": null,
      "metadata": {
        "id": "gKVq3kDWysJl"
      },
      "outputs": [],
      "source": [
        "# Cargar el dataset \"titanic\" de seaborn\n",
        "df = sns.load_dataset(\"titanic\")\n",
        "\n",
        "# Resolver aqui el ejercicio 2.1\n"
      ]
    },
    {
      "cell_type": "markdown",
      "metadata": {
        "id": "EMS_TwatysJm"
      },
      "source": [
        "### Ejercicio 2.2\n",
        "Muestra una descripción general del conjunto de datos cargado en el ejercicio 2.1"
      ]
    },
    {
      "cell_type": "code",
      "execution_count": null,
      "metadata": {
        "id": "z4uD05OoysJm"
      },
      "outputs": [],
      "source": [
        "# Resuelve aqui el ejercicio 2.2\n"
      ]
    },
    {
      "cell_type": "markdown",
      "metadata": {
        "id": "kSSCO1tTysJn"
      },
      "source": [
        "### Ejercicio 2.3\n",
        "Elimina los datos de la columna \"deck\" y sustituye los datos nulos para la columno \"age\" con el valor medio. Luego muestra el dataframe:"
      ]
    },
    {
      "cell_type": "code",
      "execution_count": null,
      "metadata": {
        "id": "jlqUkelzysJo"
      },
      "outputs": [],
      "source": [
        "# Resuelve aqui el ejercicio 2.3\n"
      ]
    },
    {
      "cell_type": "markdown",
      "metadata": {
        "id": "Xxn_gDFvysJo"
      },
      "source": [
        "#### Ejercicio 2.4\n",
        "Crea un gráfico de tipo histograma que represente la distribución de las edades de los pasajeros. Usa **matplotlib** o **seaborn** como herramientas de visualización"
      ]
    },
    {
      "cell_type": "code",
      "execution_count": null,
      "metadata": {
        "id": "VAl6Ho8TysJo"
      },
      "outputs": [],
      "source": [
        "# Resuelve aqui el ejercicio 2.4\n"
      ]
    },
    {
      "cell_type": "markdown",
      "metadata": {
        "id": "Cqxh3GF9ysJo"
      },
      "source": [
        "#### Ejercicio 2.5\n",
        "Crea un gráfico circular que represente la distribución por género de los pasajeros. Usa **matplotlib** o **seaborn** como herramientas de visualización"
      ]
    },
    {
      "cell_type": "code",
      "execution_count": null,
      "metadata": {
        "id": "XvMEKP08ysJp"
      },
      "outputs": [],
      "source": [
        "# Resuelve aqui el ejercicio 2.5\n"
      ]
    },
    {
      "cell_type": "markdown",
      "metadata": {
        "id": "v9CXEmIsysJp"
      },
      "source": [
        "## Ejercicio 3"
      ]
    },
    {
      "cell_type": "markdown",
      "metadata": {
        "id": "MidfCbomysJp"
      },
      "source": [
        "#### Ejercicio 3.1\n",
        "Separa el dataset en dos variables, 'x' e 'y'.\n",
        " - La variable 'x' debe incluir las columnas 'depth', 'table', 'price', 'x', 'y' y 'z'.\n",
        " - La variable 'y' debe incluir la columna 'carat'."
      ]
    },
    {
      "cell_type": "code",
      "execution_count": null,
      "metadata": {
        "id": "M_CXbdvgysJp"
      },
      "outputs": [],
      "source": [
        "# Carga el dataset \"diamonds\" de seaborn\n",
        "diamantes = sns.load_dataset(\"diamonds\")\n",
        "diamantes.head()\n",
        "\n",
        "# Resuelve aqui el ejercicio 3.1\n"
      ]
    },
    {
      "cell_type": "markdown",
      "metadata": {
        "id": "qLm0RtpUysJp"
      },
      "source": [
        "#### Ejercicio 3.2\n",
        "Separa el dataset provisto en conjunto de entrenamiento y de test, dando un 40% de los datos al conjunto de test"
      ]
    },
    {
      "cell_type": "code",
      "execution_count": null,
      "metadata": {
        "id": "CW7s1x_HysJp"
      },
      "outputs": [],
      "source": [
        "# Resuelve aqui el ejercicio 3.2\n"
      ]
    },
    {
      "cell_type": "markdown",
      "metadata": {
        "id": "V64QB9LVysJq"
      },
      "source": [
        "#### Ejercicio 3.3\n",
        "Crea un modelo de regresión lineal y entrenalo con los conjuntos de datos separados en el ejercicio anterior. La variable objetivo corresponde a la columna 'carat'"
      ]
    },
    {
      "cell_type": "code",
      "execution_count": null,
      "metadata": {
        "id": "vZB0Ri_ZysJq"
      },
      "outputs": [],
      "source": [
        "# Resuelve aqui el ejercicio 3.3\n"
      ]
    },
    {
      "cell_type": "markdown",
      "metadata": {
        "id": "fTCGCEm2ysJq"
      },
      "source": [
        "#### Ejercicio 3.4\n",
        "Utiliza el modelo entrenado en el apartado anterior para predecir los valores de la columna 'carat'"
      ]
    },
    {
      "cell_type": "code",
      "execution_count": null,
      "metadata": {
        "id": "wGppWPpuysJq"
      },
      "outputs": [],
      "source": [
        "# Resuelve aqui el ejercicio 3.3\n"
      ]
    },
    {
      "cell_type": "markdown",
      "metadata": {
        "id": "VxBNi9enysJr"
      },
      "source": [
        "### Ejercicio 4"
      ]
    },
    {
      "cell_type": "markdown",
      "metadata": {
        "id": "JpDyDtGxysJr"
      },
      "source": [
        "#### Ejercicio 4.1\n",
        "Muestra un resumen estadístico de los datos numéricos del dataset provisto"
      ]
    },
    {
      "cell_type": "code",
      "execution_count": null,
      "metadata": {
        "id": "qwxAWTF0ysJr"
      },
      "outputs": [],
      "source": [
        "data = load_breast_cancer()\n",
        "X = pd.DataFrame(data.data, columns=data.feature_names)\n",
        "y = pd.Series(data.target)\n",
        "\n",
        "# ALTERNATIVA CON OTRO DATASET\n",
        "# Cargar el dataset \"titanic\" de seaborn\n",
        "# df = sns.load_dataset(\"titanic\")\n",
        "\n",
        "# Resuelve aqui el ejercicio 4.1\n"
      ]
    },
    {
      "cell_type": "markdown",
      "metadata": {
        "id": "dRqZacztysJr"
      },
      "source": [
        "#### Ejercicio 4.2\n",
        "Separa el dataset provisto en conjunto de entrenamiento y de test, dando un 40% de los datos al conjunto de test"
      ]
    },
    {
      "cell_type": "code",
      "execution_count": null,
      "metadata": {
        "id": "p3OK5KVBysJr"
      },
      "outputs": [],
      "source": [
        "# Resuelve aqui el ejercicio 4.2\n"
      ]
    },
    {
      "cell_type": "markdown",
      "metadata": {
        "id": "PHPPpXM1ysJs"
      },
      "source": [
        "#### Ejercicio 4.3\n",
        "Crea un modelo de regresión logística y entrenalo con los conjuntos de datos separados en el ejercicio anterior."
      ]
    },
    {
      "cell_type": "code",
      "execution_count": null,
      "metadata": {
        "id": "5y2JinmRysJs"
      },
      "outputs": [],
      "source": [
        "# Resuelve aqui el ejercicio 4.3\n"
      ]
    },
    {
      "cell_type": "markdown",
      "metadata": {
        "id": "9J2yguHzysJt"
      },
      "source": [
        "#### Ejercicio 4.4\n",
        "Utiliza el modelo entrenado en el apartado anterior para predecir los valores de la variable objetivo."
      ]
    },
    {
      "cell_type": "code",
      "execution_count": null,
      "metadata": {
        "id": "P7aB8ZG4ysJt"
      },
      "outputs": [],
      "source": [
        "# Resuelve aqui el ejercicio 4.4\n"
      ]
    },
    {
      "cell_type": "markdown",
      "metadata": {
        "id": "w7FmjVMOysJt"
      },
      "source": [
        "### Ejercicio 5"
      ]
    },
    {
      "cell_type": "markdown",
      "metadata": {
        "id": "AKDvMQizysJt"
      },
      "source": [
        "#### Ejercicio 5.1\n",
        "Muestra los primeros registros del siguiente conjunto de datos"
      ]
    },
    {
      "cell_type": "code",
      "execution_count": null,
      "metadata": {
        "id": "QEB9NwDgysJu"
      },
      "outputs": [],
      "source": [
        "df = sns.load_dataset(\"penguins\")\n",
        "# Resuelve aqui el ejercicio 5.1\n"
      ]
    },
    {
      "cell_type": "markdown",
      "metadata": {
        "id": "ryJPpn08ysJu"
      },
      "source": [
        "#### Ejercicio 5.2\n",
        "Separa el dataset provisto en conjunto de entrenamiento y de test, dando un 40% de los datos al conjunto de test. La variable objetivo corresponde a la columna \"species\""
      ]
    },
    {
      "cell_type": "code",
      "execution_count": null,
      "metadata": {
        "id": "N3eReKG2ysJu"
      },
      "outputs": [],
      "source": [
        "# Resuelve aquí el ejericio 5.2\n"
      ]
    },
    {
      "cell_type": "markdown",
      "metadata": {
        "id": "pCx8TpkQysJu"
      },
      "source": [
        "#### Ejercicio 5.3\n",
        "Elige un modelo de clasificación entre los siguientes:\n",
        " - Decision tree (Árbol de decisión)\n",
        " - Random forest\n",
        " - SVM (Support Vector Machine)\n",
        "\n",
        "Entrenalo con los conjuntos de datos separados en el ejercicio anterior."
      ]
    },
    {
      "cell_type": "code",
      "execution_count": null,
      "metadata": {
        "id": "eOjKuSGPysJu"
      },
      "outputs": [],
      "source": [
        "# Resuelve aquí el ejericio 5.3\n"
      ]
    },
    {
      "cell_type": "markdown",
      "metadata": {
        "id": "_X0ZC189ysJ3"
      },
      "source": [
        "#### Ejercicio 5.4\n",
        "Utiliza el modelo entrenado en el apartado anterior para predecir los valores de la variable objetivo."
      ]
    },
    {
      "cell_type": "code",
      "execution_count": null,
      "metadata": {
        "id": "jW-lh5WaysJ3"
      },
      "outputs": [],
      "source": [
        "# Resuelve aquí el ejericio 5.4\n"
      ]
    },
    {
      "cell_type": "markdown",
      "metadata": {
        "id": "-rTIvHuBysJ3"
      },
      "source": [
        "### Ejercicio 6"
      ]
    },
    {
      "cell_type": "markdown",
      "metadata": {
        "id": "7XvCnpCqysJ3"
      },
      "source": [
        "#### Ejercicio 6.1\n",
        "Muestra un resumen estadístico de los datos numéricos del dataset provisto"
      ]
    },
    {
      "cell_type": "code",
      "execution_count": null,
      "metadata": {
        "id": "2N_RJTbyysJ4"
      },
      "outputs": [],
      "source": [
        "url = (\"https://archive.ics.uci.edu/ml/machine-learning-databases/abalone/abalone.data\")\n",
        "df = pd.read_csv(url, header=None)\n",
        "df.columns = [\n",
        "   \"Sex\",\n",
        "    \"Length\",\n",
        "    \"Diameter\",\n",
        "    \"Height\",\n",
        "    \"Whole weight\",\n",
        "    \"Shucked weight\",\n",
        "    \"Viscera weight\",\n",
        "    \"Shell weight\",\n",
        "    \"Rings\",\n",
        "]\n",
        "df = df.drop(\"Sex\", axis=1)\n",
        "\n",
        "# Resuelve aqui el ejercicio 6.1\n"
      ]
    },
    {
      "cell_type": "markdown",
      "metadata": {
        "id": "STEgP9HYysJ4"
      },
      "source": [
        "#### Ejercicio 6.2\n",
        "Separa el conjunto de datos en variables 'x' e 'y', donde la 'y' corresponde a la variable objetivo 'Sex'."
      ]
    },
    {
      "cell_type": "code",
      "execution_count": null,
      "metadata": {
        "id": "mtQLGeX5ysJ4"
      },
      "outputs": [],
      "source": [
        "# Resuelve aqui el ejercicio 6.2\n"
      ]
    },
    {
      "cell_type": "markdown",
      "metadata": {
        "id": "sSCYqBbeysJ4"
      },
      "source": [
        "#### Ejercicio 6.3\n",
        "Separa el dataset provisto en conjunto de entrenamiento y de test, dando un 40% de los datos al conjunto de test."
      ]
    },
    {
      "cell_type": "code",
      "execution_count": null,
      "metadata": {
        "id": "EaET2L9AysJ5"
      },
      "outputs": [],
      "source": [
        "# Resuelve aquí el ejercicio 6.3\n"
      ]
    },
    {
      "cell_type": "markdown",
      "metadata": {
        "id": "y2sY39bBysJ5"
      },
      "source": [
        "#### Ejercicio 6.4\n",
        "Crea un modelo de regresión logística y entrenalo con los conjuntos de datos separados en el ejercicio anterior. Utiliza el valor 3 para el parámetro 'n_neighbors'"
      ]
    },
    {
      "cell_type": "code",
      "execution_count": null,
      "metadata": {
        "id": "jDyJs7q6ysJ5"
      },
      "outputs": [],
      "source": [
        "# Resuelve aquí el ejercicio 6.4\n"
      ]
    },
    {
      "cell_type": "markdown",
      "metadata": {
        "id": "GN1AshVnysJ5"
      },
      "source": [
        "#### Ejercicio 6.5\n",
        "Muestra la matriz de confusión resultante para la salida del ejercicio anterior"
      ]
    },
    {
      "cell_type": "code",
      "execution_count": null,
      "metadata": {
        "id": "V4TQnQ5UysJ5"
      },
      "outputs": [],
      "source": [
        "# Resuelve aquí el ejercicio 6.5\n"
      ]
    }
  ],
  "metadata": {
    "kernelspec": {
      "display_name": "Python 3",
      "language": "python",
      "name": "python3"
    },
    "language_info": {
      "codemirror_mode": {
        "name": "ipython",
        "version": 3
      },
      "file_extension": ".py",
      "mimetype": "text/x-python",
      "name": "python",
      "nbconvert_exporter": "python",
      "pygments_lexer": "ipython3",
      "version": "3.10.12"
    },
    "colab": {
      "provenance": [],
      "include_colab_link": true
    }
  },
  "nbformat": 4,
  "nbformat_minor": 0
}