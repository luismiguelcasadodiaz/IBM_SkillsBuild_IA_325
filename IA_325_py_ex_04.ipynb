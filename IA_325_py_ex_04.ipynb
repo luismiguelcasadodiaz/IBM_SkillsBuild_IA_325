{
  "nbformat": 4,
  "nbformat_minor": 0,
  "metadata": {
    "colab": {
      "provenance": [],
      "authorship_tag": "ABX9TyOpxAcMkrndyh16aSt66Bj+",
      "include_colab_link": true
    },
    "kernelspec": {
      "name": "python3",
      "display_name": "Python 3"
    },
    "language_info": {
      "name": "python"
    }
  },
  "cells": [
    {
      "cell_type": "markdown",
      "metadata": {
        "id": "view-in-github",
        "colab_type": "text"
      },
      "source": [
        "<a href=\"https://colab.research.google.com/github/luismiguelcasadodiaz/IBM_SkillsBuild_IA_325/blob/main/IA_325_py_ex_04.ipynb\" target=\"_parent\"><img src=\"https://colab.research.google.com/assets/colab-badge.svg\" alt=\"Open In Colab\"/></a>"
      ]
    },
    {
      "cell_type": "markdown",
      "source": [
        "Definir la función mitad. Divide un número entre 2, calculando la mitad del número y devolviéndola."
      ],
      "metadata": {
        "id": "uMKj5T0U1Ek4"
      }
    },
    {
      "cell_type": "code",
      "source": [],
      "metadata": {
        "id": "QWGp8u4L14iK"
      },
      "execution_count": null,
      "outputs": []
    },
    {
      "cell_type": "markdown",
      "source": [
        "A partir de la lista notas, calcula la lista nuevas_notas en la que penalizas a tus alumnos con ayuda de la función map() y la funcion mitad()"
      ],
      "metadata": {
        "id": "pA-P6fVn15x7"
      }
    },
    {
      "cell_type": "code",
      "source": [
        "notas = [8, 7, 5, 9, 7,8,4,6,7,8,5,6,4,5,6,7,8,9,2]"
      ],
      "metadata": {
        "id": "kr_mAlat2OqI"
      },
      "execution_count": null,
      "outputs": []
    },
    {
      "cell_type": "code",
      "source": [
        "nuevas_notas ="
      ],
      "metadata": {
        "id": "99BP22JS2YB6"
      },
      "execution_count": null,
      "outputs": []
    }
  ]
}