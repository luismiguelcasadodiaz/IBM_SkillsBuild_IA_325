{
  "nbformat": 4,
  "nbformat_minor": 0,
  "metadata": {
    "colab": {
      "provenance": [],
      "authorship_tag": "ABX9TyPIO99+S/PSikXcRPC/R+0V",
      "include_colab_link": true
    },
    "kernelspec": {
      "name": "python3",
      "display_name": "Python 3"
    },
    "language_info": {
      "name": "python"
    }
  },
  "cells": [
    {
      "cell_type": "markdown",
      "metadata": {
        "id": "view-in-github",
        "colab_type": "text"
      },
      "source": [
        "<a href=\"https://colab.research.google.com/github/luismiguelcasadodiaz/IBM_SkillsBuild_IA_325/blob/main/IA_325_py_cod_ex_01.ipynb\" target=\"_parent\"><img src=\"https://colab.research.google.com/assets/colab-badge.svg\" alt=\"Open In Colab\"/></a>"
      ]
    },
    {
      "cell_type": "code",
      "execution_count": 1,
      "metadata": {
        "id": "oX4Ol9B35Azh"
      },
      "outputs": [],
      "source": []
    },
    {
      "cell_type": "markdown",
      "source": [
        "# Operaciones Matemáticas\n",
        "\n",
        "\n",
        "## Objetivo:\n",
        "\n",
        "Escribe una función en Python llamada operaciones_matematicas que reciba dos números enteros a y b, y realice las siguientes operaciones matemáticas:\n",
        "\n",
        "+ Suma: a + b\n",
        "\n",
        "+ Resta: a - b\n",
        "\n",
        "+ Multiplicación: a * b\n",
        "\n",
        "+ División: a / b, si b es diferente de 0; de lo contrario, devolver el mensaje \"División por cero no permitida\".\n",
        "\n",
        "+ Resto de la división: a % b, si b es diferente de 0; de lo contrario, devolver el mensaje \"División por cero no permitida\".\n",
        "\n",
        "La función debe devolver estos cinco resultados en una tupla.\n",
        "\n",
        "### Ejemplo de entrada y salida:\n",
        "\n",
        "```python\n",
        "a = 10\n",
        "b = 3\n",
        "resultado = operaciones_matematicas(a, b)\n",
        "print(\"Suma:\", resultado[0])         # 13\n",
        "print(\"Resta:\", resultado[1])        # 7\n",
        "print(\"Multiplicación:\", resultado[2]) # 30\n",
        "print(\"División:\", resultado[3])     # 3.3333...\n",
        "print(\"Residuo:\", resultado[4])      # 1\n",
        "```\n",
        "Requisitos:\n",
        "\n",
        "La función debe manejar correctamente la división por cero.\n",
        "\n",
        "Debe devolver los resultados como una tupla (suma, resta, multiplicación, división, resto).\n",
        "\n",
        "Prueba la función con diferentes valores de entrada para verificar su correcto funcionamiento."
      ],
      "metadata": {
        "id": "fjJFF9_55L6o"
      }
    },
    {
      "cell_type": "code",
      "source": [
        "def operaciones_matematicas(a, b):\n",
        "  if b != 0:\n",
        "      division = a / b\n",
        "      resto = a % b\n",
        "  else:\n",
        "      division = \"División por cero no permitida\"\n",
        "      resto = \"División por cero no permitida\"\n",
        "  suma = a + b\n",
        "  resta = a - b\n",
        "  multiplicacion = a * b\n",
        "  return suma, resta, multiplicacion, division, resto"
      ],
      "metadata": {
        "id": "bSon6oV75tqr"
      },
      "execution_count": 2,
      "outputs": []
    },
    {
      "cell_type": "code",
      "source": [
        "a = 10\n",
        "b = 3\n",
        "resultado = operaciones_matematicas(a, b)\n"
      ],
      "metadata": {
        "id": "BLmAGCpA6rxt"
      },
      "execution_count": 3,
      "outputs": []
    },
    {
      "cell_type": "code",
      "source": [
        "print(\"Suma:\", resultado[0])\n",
        "print(\"Resta:\", resultado[1])\n",
        "print(\"Multiplicación:\", resultado[2])\n",
        "print(\"División:\", resultado[3])\n",
        "print(\"Residuo:\", resultado[4])"
      ],
      "metadata": {
        "colab": {
          "base_uri": "https://localhost:8080/"
        },
        "id": "Oqd4qoIs6uZR",
        "outputId": "321a02e4-f9cb-4076-d999-dce7fcb7c6e7"
      },
      "execution_count": 4,
      "outputs": [
        {
          "output_type": "stream",
          "name": "stdout",
          "text": [
            "Suma: 13\n",
            "Resta: 7\n",
            "Multiplicación: 30\n",
            "División: 3.3333333333333335\n",
            "Residuo: 1\n"
          ]
        }
      ]
    }
  ]
}