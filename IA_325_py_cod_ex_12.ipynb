{
  "nbformat": 4,
  "nbformat_minor": 0,
  "metadata": {
    "colab": {
      "provenance": [],
      "authorship_tag": "ABX9TyMaP5icxLqJ1IfBErYLPO6T",
      "include_colab_link": true
    },
    "kernelspec": {
      "name": "python3",
      "display_name": "Python 3"
    },
    "language_info": {
      "name": "python"
    }
  },
  "cells": [
    {
      "cell_type": "markdown",
      "metadata": {
        "id": "view-in-github",
        "colab_type": "text"
      },
      "source": [
        "<a href=\"https://colab.research.google.com/github/luismiguelcasadodiaz/IBM_SkillsBuild_IA_325/blob/main/IA_325_py_cod_ex_12.ipynb\" target=\"_parent\"><img src=\"https://colab.research.google.com/assets/colab-badge.svg\" alt=\"Open In Colab\"/></a>"
      ]
    },
    {
      "cell_type": "markdown",
      "source": [
        "# Temperaturas Semanales\n",
        "Crear una función que reciba una lista de temperaturas diarias y los días de la semana correspondientes, y genere un gráfico de líneas utilizando Matplotlib. El gráfico debe visualizar las temperaturas a lo largo de la semana.\n",
        "\n",
        "## Requisitos:\n",
        "\n",
        "Función a crear:\n",
        "La función debe recibir dos listas:\n",
        "\n",
        "+ dias: Una lista de los días de la semana (por ejemplo, ['Lunes', 'Martes', 'Miércoles', 'Jueves', 'Viernes', 'Sábado', 'Domingo']).\n",
        "\n",
        "+ temperaturas: Una lista de las temperaturas correspondientes a cada día de la semana (por ejemplo, [22, 24, 23, 25, 26, 28, 27]).\n",
        "\n",
        "### Gráfico:\n",
        "\n",
        "Utilizar Matplotlib para graficar las temperaturas.\n",
        "\n",
        "+ El gráfico debe tener los días de la semana en el eje X.\n",
        "+ El gráfico debe tener las las temperaturas en el eje Y.\n",
        "+ El gráfico debe tener el título \"Temperaturas Semanales\".\n",
        "+ El gráfico debe tener la etiqueta \"Días\" en el eje X.\n",
        "+ El gráfico debe tener la etiqueta \"Temperatura (°C)\" en el eje Y).\n",
        "+ El gráfico debe tener el color de la línea a azul de estilo dashed (discontinua).\n",
        "\n",
        "Opcional:\n",
        "\n",
        "+ Añadir una leyenda al gráfico que indique \"Temperatura\".\n",
        "+ Modificar el tamaño del gráfico (por ejemplo, hacerlo más grande).\n",
        "\n",
        "\n",
        "\n",
        "### Ejemplo de Entrada y Salida:\n",
        "\n",
        "##### Entrada:\n",
        "\n",
        "dias = ['Lunes', 'Martes', 'Miércoles', 'Jueves', 'Viernes', 'Sábado', 'Domingo']\n",
        "temperaturas = [22, 24, 23, 25, 26, 28, 27]\n",
        "\n",
        "\n",
        "#####  Salida:\n",
        "Un gráfico que muestra las temperaturas a lo largo de la semana, con líneas discontinuas azules y el título \"Temperaturas Semanales\"."
      ],
      "metadata": {
        "id": "sCIIb48uCYgU"
      }
    },
    {
      "cell_type": "code",
      "source": [],
      "metadata": {
        "id": "C5Q9iOz7CanU"
      },
      "execution_count": null,
      "outputs": []
    }
  ]
}