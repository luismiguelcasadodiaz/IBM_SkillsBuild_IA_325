{
  "nbformat": 4,
  "nbformat_minor": 0,
  "metadata": {
    "colab": {
      "provenance": [],
      "authorship_tag": "ABX9TyPIpQ0KmcO/+fYLut70mxAo",
      "include_colab_link": true
    },
    "kernelspec": {
      "name": "python3",
      "display_name": "Python 3"
    },
    "language_info": {
      "name": "python"
    }
  },
  "cells": [
    {
      "cell_type": "markdown",
      "metadata": {
        "id": "view-in-github",
        "colab_type": "text"
      },
      "source": [
        "<a href=\"https://colab.research.google.com/github/luismiguelcasadodiaz/IBM_SkillsBuild_IA_325/blob/main/IA_325_py_cod_ex_15.ipynb\" target=\"_parent\"><img src=\"https://colab.research.google.com/assets/colab-badge.svg\" alt=\"Open In Colab\"/></a>"
      ]
    },
    {
      "cell_type": "markdown",
      "source": [
        "# Predecir ingresos de una aplicación\n",
        "\n",
        "Eres parte de un equipo de analistas de datos en una empresa tecnológica que desarrolla aplicaciones móviles. Te han proporcionado un pequeño conjunto de datos con información sobre diferentes apps que ya están publicadas, y tu tarea es crear un modelo de regresión lineal para predecir los ingresos estimados de una nueva app.\n",
        "\n",
        "\n",
        "\n",
        "## Datos disponibles por app:\n",
        "\n",
        "+ app_name: Nombre de la app\n",
        "+ downloads: Número de descargas (en miles)\n",
        "+ rating: Valoración media de los usuarios (de 1 a 5)\n",
        "+ size_mb: Tamaño de la app (en MB)\n",
        "+ reviews: Número de valoraciones escritas\n",
        "+ revenue: Ingresos generados (en miles de dólares) → variable a predecir\n",
        "\n",
        "\n",
        "\n",
        "## Tareas que debes realizar:\n",
        "\n",
        "+ Crea una clase App que represente cada app con sus atributos.\n",
        "\n",
        "+ Crea una clase RevenuePredictor que:\n",
        "\n",
        "  + Reciba una lista de objetos App.\n",
        "\n",
        "  + Extraiga las características relevantes para entrenar un modelo.\n",
        "\n",
        "  + Entrene un modelo de regresión lineal para predecir los ingresos (revenue).\n",
        "\n",
        "  + Permita predecir los ingresos de una nueva app con datos similares.\n",
        "\n",
        "+ Entrena el modelo con los datos proporcionados (puedes usar una lista de ejemplo en el código).\n",
        "\n",
        "+ Prueba el modelo prediciendo los ingresos estimados de una nueva app ficticia.\n",
        "\n",
        "\n",
        "\n",
        "##  Ejemplo de uso\n",
        "\n",
        "### Datos simulados de entrenamiento\n",
        "```python\n",
        "training_apps = [\n",
        "    App(\"TaskPro\", 200, 4.2, 45.0, 1800, 120.0),\n",
        "    App(\"MindSpark\", 150, 4.5, 60.0, 2100, 135.0),\n",
        "    App(\"WorkFlow\", 300, 4.1, 55.0, 2500, 160.0),\n",
        "    App(\"ZenTime\", 120, 4.8, 40.0, 1700, 140.0),\n",
        "    App(\"FocusApp\", 180, 4.3, 52.0, 1900, 130.0),\n",
        "    App(\"BoostApp\", 220, 4.0, 48.0, 2300, 145.0),\n",
        "]\n",
        "\n",
        "# Creamos y entrenamos el predictor\n",
        "predictor = RevenuePredictor()\n",
        "predictor.fit(training_apps)\n",
        "\n",
        "# Nueva app para predecir\n",
        "new_app = App(\"FocusMaster\", 250, 4.5, 50.0, 3000)\n",
        "predicted_revenue = predictor.predict(new_app)\n",
        "\n",
        "print(f\"Ingresos estimados para {new_app.name}: ${predicted_revenue:.2f}K\")\n",
        "```\n",
        "\n",
        "### Salida esperada\n",
        "\n",
        "Ingresos estimados para FocusMaster: $207.59K"
      ],
      "metadata": {
        "id": "jL7HEYJWq_xI"
      }
    },
    {
      "cell_type": "code",
      "source": [],
      "metadata": {
        "id": "LNL5MI2Br2p4"
      },
      "execution_count": null,
      "outputs": []
    }
  ]
}