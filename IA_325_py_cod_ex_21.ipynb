{
  "nbformat": 4,
  "nbformat_minor": 0,
  "metadata": {
    "colab": {
      "provenance": [],
      "authorship_tag": "ABX9TyNu4L2HI57miclniywMktec",
      "include_colab_link": true
    },
    "kernelspec": {
      "name": "python3",
      "display_name": "Python 3"
    },
    "language_info": {
      "name": "python"
    }
  },
  "cells": [
    {
      "cell_type": "markdown",
      "metadata": {
        "id": "view-in-github",
        "colab_type": "text"
      },
      "source": [
        "<a href=\"https://colab.research.google.com/github/luismiguelcasadodiaz/IBM_SkillsBuild_IA_325/blob/main/IA_325_py_cod_ex_21.ipynb\" target=\"_parent\"><img src=\"https://colab.research.google.com/assets/colab-badge.svg\" alt=\"Open In Colab\"/></a>"
      ]
    },
    {
      "cell_type": "markdown",
      "source": [
        "# Predicción meteorológica con gráfico\n",
        "Los meteorólogos recopilan datos de humedad y presión atmosférica para predecir si lloverá o no.\n",
        "\n",
        "Tu misión es construir un sistema inteligente que pueda predecir la probabilidad de lluvia utilizando un modelo de regresión logística.\n",
        "\n",
        "## 🧩 Pasos a seguir\n",
        "\n",
        "### Crea la clase WeatherRecord: Representará un registro de condiciones meteorológicas\n",
        "  + Atributos:\n",
        "    + Humedad (%)\n",
        "    + Presión atmosférica (hPa)\n",
        "    + Lluvia (1 si llovió, 0 si no)\n",
        "\n",
        "<br>\n",
        "<br>\n",
        "\n",
        "### Crea la clase WeatherDataGenerator:\n",
        "Deberá generar registros sintéticos simulando que:\n",
        "  + Alta humedad y baja presión aumentan la probabilidad de lluvia.\n",
        "  + Baja humedad y alta presión indican que no lloverá.\n",
        "<br>\n",
        "<br>\n",
        "\n",
        "### Crea la clase WeatherRainClassifier: Entrena un modelo de regresión logística\n",
        "  + Métodos:\n",
        "    + Método fit(records) para entrenar.\n",
        "    + Método predict(humidity, pressure) que devuelva 1 o 0.\n",
        "    + Método get_model() para obtener el modelo scikit-learn (útil para visualización).\n",
        "<br>\n",
        "<br>\n",
        "\n",
        "### Crea la clase WeatherPredictionExample:\n",
        "Que haga lo siguiente:\n",
        "  + Genere datos.\n",
        "  + Entrene el modelo.\n",
        "  + Haga una predicción para nuevas condiciones climáticas.\n",
        "  + Muestre un gráfico con matplotlib diferenciando los casos de lluvia y no lluvia.\n",
        "\n",
        "\n",
        "\n",
        "## 🎯 Ejemplo de uso\n",
        "```python\n",
        "example = WeatherRainPredictionExample()\n",
        "example.run()\n",
        "```\n",
        "\n",
        "#### 📊 Salida esperada\n",
        "```python\n",
        "[[21  0]\n",
        " [ 0 39]]\n",
        "              precision    recall  f1-score   support\n",
        "\n",
        "           0       1.00      1.00      1.00        21\n",
        "           1       1.00      1.00      1.00        39\n",
        "\n",
        "    accuracy                           1.00        60\n",
        "   macro avg       1.00      1.00      1.00        60\n",
        "weighted avg       1.00      1.00      1.00        60\n",
        " ```\n",
        "\n",
        "#### 🔍 Predicción para condiciones nuevas:\n",
        "```python\n",
        "   Humedad: 80%\n",
        "   Presión: 995 hPa\n",
        "   ¿Lloverá?: Sí ☔\n",
        "```"
      ],
      "metadata": {
        "id": "XoyYUrilfoBZ"
      }
    },
    {
      "cell_type": "code",
      "execution_count": null,
      "metadata": {
        "id": "dpKN9mZXfZq0"
      },
      "outputs": [],
      "source": []
    }
  ]
}