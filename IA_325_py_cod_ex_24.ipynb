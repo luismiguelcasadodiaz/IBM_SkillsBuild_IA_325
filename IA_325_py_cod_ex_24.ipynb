{
  "nbformat": 4,
  "nbformat_minor": 0,
  "metadata": {
    "colab": {
      "provenance": [],
      "authorship_tag": "ABX9TyML1tacYJKY/zEtGx44AUVG",
      "include_colab_link": true
    },
    "kernelspec": {
      "name": "python3",
      "display_name": "Python 3"
    },
    "language_info": {
      "name": "python"
    }
  },
  "cells": [
    {
      "cell_type": "markdown",
      "metadata": {
        "id": "view-in-github",
        "colab_type": "text"
      },
      "source": [
        "<a href=\"https://colab.research.google.com/github/luismiguelcasadodiaz/IBM_SkillsBuild_IA_325/blob/main/IA_325_py_cod_ex_24.ipynb\" target=\"_parent\"><img src=\"https://colab.research.google.com/assets/colab-badge.svg\" alt=\"Open In Colab\"/></a>"
      ]
    },
    {
      "cell_type": "markdown",
      "source": [
        "# Recomendador de Personajes\n",
        "🎮 \"Recomendador de Personajes: ¿Qué tipo de personaje deberías elegir?\"\n",
        "\n",
        "##📘 Enunciado\n",
        "\n",
        "En este ejercicio trabajarás como desarrollador de sistemas inteligentes para un nuevo videojuego tipo RPG online. El juego permite a los jugadores crear personajes y elegir entre distintos **roles o clases** (por ejemplo: guerrero, mago, arquero, curandero…).\n",
        "\n",
        "Tu tarea es construir un **modelo de recomendación** que, dado un perfil de jugador (nivel, estilo de combate, número de partidas jugadas, etc.), recomiende qué **tipo de personaje** debería usar, basándose en datos históricos de otros jugadores similares.\n",
        "\n",
        "## 🧩 Requerimientos\n",
        "\n",
        "+ Crea una **clase Player**:represente a un jugador con los siguientes\n",
        "  + Atributos:\n",
        "\n",
        "    + name: nombre del jugador.\n",
        "    + level: nivel del jugador (1 a 100).\n",
        "    + aggressiveness: valor entre 0 y 1 que representa su estilo ofensivo.\n",
        "    + cooperation: valor entre 0 y 1 que representa cuánto coopera con el equipo.\n",
        "    + exploration: valor entre 0 y 1 que representa cuánto le gusta explorar el mapa.\n",
        "    + preferred_class: clase de personaje que suele elegir (solo en los datos de entrenamiento).\n",
        "  + Métodos\n",
        "    + .to_features() en la clase para convertir al jugador en una **lista** de características numéricas (sin la clase preferida).\n",
        "\n",
        "+ Crea una **clase PlayerDataset**:\n",
        "\n",
        "  + Atributos:\n",
        "    + una lista de jugadores\n",
        "  + Métodos:\n",
        "    + get_X() → lista de listas de características.\n",
        "    + get_y() → lista de clases preferidas.\n",
        "\n",
        "+ Crea una clase **ClassRecommender** que use KNN para:\n",
        "  + Métoodos\n",
        "    + train : para Entrenar el modelo a partir de un PlayerDataset.\n",
        "    + predict: para Predecir la mejor clase para un nuevo jugador (predict(player)).\n",
        "    + get_nearest_neighbors(player) : para obtener los k jugadores más parecidos (get_nearest_neighbors(player)).\n",
        "    (opcional)\n",
        "    + best_k : para probar diferentes valores de k\n",
        "    + evaluate ; para evaluar la precisión del modelo con cross_val_score.\n",
        "\n",
        "\n",
        "\n",
        "## 🧪 Ejemplo de uso\n",
        "\n",
        "### Datos de entrenamiento\n",
        "```python\n",
        "players = [\n",
        "    Player(\"Alice\", 20, 0.8, 0.2, 0.1, \"Warrior\"),\n",
        "    Player(\"Bob\", 45, 0.4, 0.8, 0.2, \"Healer\"),\n",
        "    Player(\"Cleo\", 33, 0.6, 0.4, 0.6, \"Archer\"),\n",
        "    Player(\"Dan\", 60, 0.3, 0.9, 0.3, \"Healer\"),\n",
        "    Player(\"Eli\", 50, 0.7, 0.2, 0.9, \"Mage\"),\n",
        "    Player(\"Fay\", 25, 0.9, 0.1, 0.2, \"Warrior\"),\n",
        "]\n",
        "```\n",
        "\n",
        "### Nuevo jugador\n",
        "```python\n",
        "new_player = Player(\"TestPlayer\", 40, 0.6, 0.3, 0.8)\n",
        "```\n",
        "### Entrenamiento y predicción\n",
        "```python\n",
        "dataset = PlayerDataset(players)\n",
        "recommender = ClassRecommender(n_neighbors=3)\n",
        "recommender.train(dataset)\n",
        "```\n",
        "### Resultado\n",
        "```python\n",
        "recommended_class = recommender.predict(new_player)\n",
        "neighbors_indices = recommender.get_nearest_neighbors(new_player)\n",
        "\n",
        "print(f\"Clase recomendada para {new_player.name}: {recommended_class}\")\n",
        "print(\"Jugadores similares:\")\n",
        "for i in neighbors_indices:\n",
        "    print(f\"- {players[i].name} ({players[i].preferred_class})\")\n",
        "\n",
        "```\n",
        "\n",
        "### 🧪 Salida esperada\n",
        "\n",
        "Clase recomendada para TestPlayer: Archer\n",
        "Jugadores similares:\n",
        "- Bob (Healer)\n",
        "- Cleo (Archer)\n",
        "- Eli (Mage)"
      ],
      "metadata": {
        "id": "EPrG-I7-ltaz"
      }
    },
    {
      "cell_type": "code",
      "execution_count": null,
      "metadata": {
        "id": "L3uV_kRllqOS"
      },
      "outputs": [],
      "source": []
    }
  ]
}