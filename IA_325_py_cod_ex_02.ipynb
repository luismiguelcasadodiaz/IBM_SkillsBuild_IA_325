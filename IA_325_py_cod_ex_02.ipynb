{
  "nbformat": 4,
  "nbformat_minor": 0,
  "metadata": {
    "colab": {
      "provenance": [],
      "authorship_tag": "ABX9TyMLwK2k2LYPqMAb34y3GAZh",
      "include_colab_link": true
    },
    "kernelspec": {
      "name": "python3",
      "display_name": "Python 3"
    },
    "language_info": {
      "name": "python"
    }
  },
  "cells": [
    {
      "cell_type": "markdown",
      "metadata": {
        "id": "view-in-github",
        "colab_type": "text"
      },
      "source": [
        "<a href=\"https://colab.research.google.com/github/luismiguelcasadodiaz/IBM_SkillsBuild_IA_325/blob/main/IA_325_py_cod_ex_02.ipynb\" target=\"_parent\"><img src=\"https://colab.research.google.com/assets/colab-badge.svg\" alt=\"Open In Colab\"/></a>"
      ]
    },
    {
      "cell_type": "code",
      "execution_count": null,
      "metadata": {
        "id": "n4ecc2HX7TAm"
      },
      "outputs": [],
      "source": []
    },
    {
      "cell_type": "markdown",
      "source": [
        "# Calcular la suma y promedio de una lista de números\n",
        "\n",
        "## Objetivo\n",
        "\n",
        "Crear una función en Python que reciba una lista de números y devuelva un diccionario con dos resultados:\n",
        "\n",
        "+ La suma total de todos los elementos.\n",
        "+ El promedio de esos elementos.\n",
        "\n",
        "## Instrucciones\n",
        "\n",
        "+ Define una función llamada calcular_suma_y_promedio que reciba una lista de números como parámetro.\n",
        "\n",
        "+ Dentro de la función:\n",
        "\n",
        "  + Crea una variable para guardar la suma de los elementos, comenzando en 0.\n",
        "\n",
        "  + Crea una variable para contar cuántos elementos hay en la lista.\n",
        "\n",
        "  + Recorre cada número de la lista utilizando un bucle for:\n",
        "\n",
        "    + Suma el número actual a la variable suma.\n",
        "\n",
        "    + Aumenta el contador en 1 por cada número recorrido.\n",
        "\n",
        "  + Una vez terminado el bucle:\n",
        "\n",
        "    + Calcula el promedio dividiendo la suma total entre el número de elementos (contador).\n",
        "\n",
        "Importante: si la lista está vacía, el promedio debe ser 0 para evitar errores.\n",
        "\n",
        "  + Devuelve un diccionario con dos claves:\n",
        "\n",
        "    + \"suma\": el total de la suma.\n",
        "    + \"promedio\": el valor del promedio.\n",
        "\n",
        "Fuera de la función, crea una lista de prueba llamada numeros con algunos valores, por ejemplo [1, 2, 3, 4, 5].\n",
        "\n",
        "Llama a la función con esa lista y muestra por pantalla los resultados accediendo a las claves del diccionario.\n",
        "\n",
        "### Ejemplo de uso\n",
        "\n",
        "```python\n",
        "numeros = [1, 2, 3, 4, 5]\n",
        "resultado = calcular_suma_y_promedio(numeros)\n",
        "print(\"Suma:\", resultado[\"suma\"])\n",
        "print(\"Promedio:\", resultado[\"promedio\"])\n",
        "\n",
        "\n",
        "Suma: 15\n",
        "Promedio: 3.0\n",
        "```"
      ],
      "metadata": {
        "id": "vow7uZMt7XiA"
      }
    },
    {
      "cell_type": "code",
      "source": [
        "def calcular_suma_y_promedio(lista):\n",
        "    suma = 0\n",
        "    contador = 0\n",
        "\n",
        "    if not lista:\n",
        "        return {\"suma\": suma, \"promedio\": 0}\n",
        "\n",
        "    for numero in lista:\n",
        "        suma += numero\n",
        "        contador += 1\n",
        "\n",
        "    if contador > 0:\n",
        "        promedio = suma / contador\n",
        "    else:\n",
        "        promedio = 0\n",
        "\n",
        "    return {\"suma\": suma, \"promedio\": promedio}"
      ],
      "metadata": {
        "id": "sPx5L04T8Rh8"
      },
      "execution_count": 1,
      "outputs": []
    },
    {
      "cell_type": "code",
      "source": [
        "numeros = [1, 2, 3, 4, 5]\n",
        "resultado = calcular_suma_y_promedio(numeros)\n"
      ],
      "metadata": {
        "id": "o5rjxAVB8vjc"
      },
      "execution_count": 2,
      "outputs": []
    },
    {
      "cell_type": "code",
      "source": [
        "print(\"Suma:\", resultado[\"suma\"])\n",
        "print(\"Promedio:\", resultado[\"promedio\"])"
      ],
      "metadata": {
        "colab": {
          "base_uri": "https://localhost:8080/"
        },
        "id": "fbLnsFQX8zUI",
        "outputId": "60f4563c-2035-41ba-8cf4-cdd8a19d33a1"
      },
      "execution_count": 3,
      "outputs": [
        {
          "output_type": "stream",
          "name": "stdout",
          "text": [
            "Suma: 15\n",
            "Promedio: 3.0\n"
          ]
        }
      ]
    }
  ]
}