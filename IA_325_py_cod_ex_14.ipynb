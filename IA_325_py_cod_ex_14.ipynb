{
  "nbformat": 4,
  "nbformat_minor": 0,
  "metadata": {
    "colab": {
      "provenance": [],
      "authorship_tag": "ABX9TyNS4ykQocHXsMhQobH2mJCp",
      "include_colab_link": true
    },
    "kernelspec": {
      "name": "python3",
      "display_name": "Python 3"
    },
    "language_info": {
      "name": "python"
    }
  },
  "cells": [
    {
      "cell_type": "markdown",
      "metadata": {
        "id": "view-in-github",
        "colab_type": "text"
      },
      "source": [
        "<a href=\"https://colab.research.google.com/github/luismiguelcasadodiaz/IBM_SkillsBuild_IA_325/blob/main/IA_325_py_cod_ex_14.ipynb\" target=\"_parent\"><img src=\"https://colab.research.google.com/assets/colab-badge.svg\" alt=\"Open In Colab\"/></a>"
      ]
    },
    {
      "cell_type": "markdown",
      "source": [
        "# Predecir el rendimiento de un jugador\n",
        "\n",
        "### Enunciado del ejercicio\n",
        "\n",
        "Imagina que formas parte del equipo de desarrollo de un videojuego multijugador competitivo. El equipo de analítica necesita predecir cuántas **victorias** podría lograr un nuevo jugador, basándose únicamente en su estilo de juego.\n",
        "\n",
        "Como científico de datos, tu misión es crear un modelo de **regresión lineal** que pueda predecir las victorias de un jugador en función de su rendimiento medio en partidas anteriores.\n",
        "\n",
        "Para organizar bien tu solución y facilitar su reutilización en el futuro, deberás construirla utilizando tres clases bien definidas.\n",
        "\n",
        "### Lo que debes hacer\n",
        "\n",
        "1. Crea la clase Player.Representa a un jugador. Debe contener:\n",
        "+ atributos\n",
        "  + name: nombre del jugador\n",
        "\n",
        "  + avg_session_time: duración promedio de sus sesiones de juego (en minutos)\n",
        "\n",
        "  + avg_actions_per_min: acciones por minuto que realiza\n",
        "\n",
        "  + avg_kills_per_session: número promedio de eliminaciones por sesión\n",
        "\n",
        "  + victories: número de victorias (opcional, ya que puede usarse para predicción)\n",
        "+ métodos\n",
        "  + to_features(self) que devuelva una lista con los valores de entrada para el modelo.\n",
        "\n",
        "<br>\n",
        "<br>\n",
        "\n",
        "2. Crea la clase PlayerDataset. Representa una colección de jugadores. Debe tener:\n",
        "+ Métodos\n",
        "\n",
        "  + Un constructor que reciba una lista de objetos Player\n",
        "\n",
        "  + Un método get_feature_matrix() que devuelva una lista de listas con los valores de entrada (X)\n",
        "\n",
        "  + Un método get_target_vector() que devuelva una lista con los valores objetivo (y, las victorias)\n",
        "<br>\n",
        "<br>\n",
        "\n",
        "3. Crea la clase VictoryPredictor Encargada de entrenar y usar el modelo de regresión. Debe contener:\n",
        "+ Atributos:\n",
        "  + Un atributo con el modelo (LinearRegression)\n",
        "+ Metodos:\n",
        "  + Un método train(dataset: PlayerDataset) para entrenar el modelo con los datos del dataset\n",
        "\n",
        "  + Un método predict(player: Player) que devuelva el número de victorias predichas para ese jugador\n",
        "\n",
        "\n",
        "### Ejemplo de uso\n",
        "```python\n",
        "players = [\n",
        "    Player(\"Alice\", 40, 50, 6, 20),\n",
        "    Player(\"Bob\", 30, 35, 4, 10),\n",
        "    Player(\"Charlie\", 50, 60, 7, 25),\n",
        "    Player(\"Diana\", 20, 25, 2, 5),\n",
        "    Player(\"Eve\", 60, 70, 8, 30)\n",
        "]\n",
        "\n",
        "dataset = PlayerDataset(players)\n",
        "predictor = VictoryPredictor()\n",
        "predictor.train(dataset)\n",
        "\n",
        "test_player = Player(\"TestPlayer\", 45, 55, 5)\n",
        "predicted = predictor.predict(test_player)\n",
        "print(f\"Victorias predichas para {test_player.name}: {predicted:.2f}\")\n",
        "```\n",
        "\n",
        "### Salida esperada\n",
        "\n",
        "Victorias predichas para TestPlayer: 22.50\n"
      ],
      "metadata": {
        "id": "DCIysmIra30Z"
      }
    },
    {
      "cell_type": "code",
      "source": [],
      "metadata": {
        "id": "OashNYSNdCIX"
      },
      "execution_count": null,
      "outputs": []
    }
  ]
}