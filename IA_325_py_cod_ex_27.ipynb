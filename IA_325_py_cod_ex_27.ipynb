{
  "nbformat": 4,
  "nbformat_minor": 0,
  "metadata": {
    "colab": {
      "provenance": [],
      "authorship_tag": "ABX9TyO+bnrrzupTG7Cfwx7Ah0oy",
      "include_colab_link": true
    },
    "kernelspec": {
      "name": "python3",
      "display_name": "Python 3"
    },
    "language_info": {
      "name": "python"
    }
  },
  "cells": [
    {
      "cell_type": "markdown",
      "metadata": {
        "id": "view-in-github",
        "colab_type": "text"
      },
      "source": [
        "<a href=\"https://colab.research.google.com/github/luismiguelcasadodiaz/IBM_SkillsBuild_IA_325/blob/main/IA_325_py_cod_ex_27.ipynb\" target=\"_parent\"><img src=\"https://colab.research.google.com/assets/colab-badge.svg\" alt=\"Open In Colab\"/></a>"
      ]
    },
    {
      "cell_type": "markdown",
      "source": [
        "# Arboles de decisión\n",
        "Implementar una función en Python que entrene un árbol de decisión y lo use para hacer predicciones en un conjunto de datos.\n",
        "\n",
        "## Instrucciones\n",
        "\n",
        "Implementa una función llamada entrenar_arbol_decision(X_train, y_train, X_test) que:\n",
        "\n",
        "+ Entrene un árbol de decisión con los datos de entrenamiento X_train y y_train.\n",
        "\n",
        "+ Prediga los valores de X_test.\n",
        "\n",
        "+ Devuelva un array con las predicciones.\n",
        "\n",
        "Usa DecisionTreeClassifier de sklearn.tree con random_state=42 para asegurar reproducibilidad.\n",
        "\n",
        "No modifiques los parámetros de entrenamiento (como la profundidad del árbol o la función de división).\n",
        "\n",
        "+ Prueba la función con un conjunto de datos real como el conjunto de datos de flores Iris.\n",
        "\n",
        "\n",
        "\n",
        "## Ejemplo de Uso\n",
        "\n",
        "Tu función debe funcionar correctamente con este código de prueba:\n",
        "\n",
        "\n",
        "```python\n",
        "from sklearn.datasets import load_iris\n",
        "from sklearn.model_selection import train_test_split\n",
        "import numpy as np\n",
        "\n",
        "# Cargar el dataset de flores Iris\n",
        "iris = load_iris()\n",
        "X = iris.data  # Características\n",
        "y = iris.target  # Clases de las flores (Setosa, Versicolor, Virginica)\n",
        "\n",
        "# Dividir en conjunto de entrenamiento y prueba (80%-20%)\n",
        "X_train, X_test, y_train, y_test = train_test_split(X, y, test_size=0.2, random_state=42)\n",
        "\n",
        "# Llamar a la función que debes implementar\n",
        "predicciones = entrenar_arbol_decision(X_train, y_train, X_test)\n",
        "\n",
        "# Mostrar algunas predicciones\n",
        "print(\"Predicciones del Árbol de Decisión:\", predicciones[:10])\n",
        "print(\"Valores reales:                    \", y_test[:10])\n",
        "```\n",
        "\n"
      ],
      "metadata": {
        "id": "Y20MdXolfuZ4"
      }
    },
    {
      "cell_type": "code",
      "source": [],
      "metadata": {
        "id": "XXp7gFHLgKLU"
      },
      "execution_count": null,
      "outputs": []
    }
  ]
}