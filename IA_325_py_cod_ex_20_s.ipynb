{
  "nbformat": 4,
  "nbformat_minor": 0,
  "metadata": {
    "colab": {
      "provenance": [],
      "authorship_tag": "ABX9TyPRVkeBE4KsYD6N5EVx2IF2",
      "include_colab_link": true
    },
    "kernelspec": {
      "name": "python3",
      "display_name": "Python 3"
    },
    "language_info": {
      "name": "python"
    }
  },
  "cells": [
    {
      "cell_type": "markdown",
      "metadata": {
        "id": "view-in-github",
        "colab_type": "text"
      },
      "source": [
        "<a href=\"https://colab.research.google.com/github/luismiguelcasadodiaz/IBM_SkillsBuild_IA_325/blob/main/IA_325_py_cod_ex_20_s.ipynb\" target=\"_parent\"><img src=\"https://colab.research.google.com/assets/colab-badge.svg\" alt=\"Open In Colab\"/></a>"
      ]
    },
    {
      "cell_type": "markdown",
      "source": [
        "# Predecir resultados en partidas multijugador\n",
        "## 🧠 Objetivo\n",
        "\n",
        "En este ejercicio, aplicarás tus conocimientos de regresión logística para construir un modelo capaz de predecir si un jugador ganó o perdió una partida, a partir de sus estadísticas individuales.\n",
        "\n",
        "\n",
        "\n",
        "## 📋 Descripción del problema\n",
        "\n",
        "Tienes que construir un modelo predictivo que, a partir de las estadísticas de un jugador en una partida, determine si ganó o no. Para ello, deberás:\n",
        "\n",
        "+ Crear datos sintéticos que representen partidas ficticias de jugadores.\n",
        "+ Entrenar un modelo de regresión logística con esos datos.\n",
        "+ Implementar una función que prediga el resultado (ganar o no) para un nuevo jugador.\n",
        "\n",
        "\n",
        "\n",
        "## 📦 Paso 1: Definir una clase PlayerMatchData para representar una **partida**\n",
        "\n",
        "  + Atributos:\n",
        "    + kills: número de enemigos eliminados\n",
        "    + deaths: número de veces que el jugador ha muerto\n",
        "    + assists: asistencias realizadas\n",
        "    + damage_dealt: daño total infligido\n",
        "    + damage_received: daño total recibido\n",
        "    + healing_done: curación realizada\n",
        "    + objective_time: tiempo (en segundos) que el jugador estuvo capturando objetivos\n",
        "    + won: 1 si el jugador ganó la partida, 0 si perdió\n",
        "\n",
        "  + Métodos:\n",
        "    + .to_dict() que devuelva los datos como un diccionario (sin la variable won, opcionalmente).\n",
        "\n",
        "\n",
        "## 📦 Paso 2: Generar datos sintéticos con NumPy\n",
        "\n",
        "Crea una función llamada generate_synthetic_data que genere un conjunto de datos de entrenamiento simulando partidas de videojuegos. Para ello:\n",
        "\n",
        "Utiliza la librería numpy para generar los valores numéricos.\n",
        "\n",
        "Cada instancia representará el desempeño de un jugador en una partida.\n",
        "\n",
        "La función debe devolver una lista de objetos PlayerMatchData (ya definida previamente).\n",
        "\n",
        "Implementa la siguiente lógica para cada jugador:\n",
        "\n",
        "Reglas para los datos:\n",
        "\n",
        "+ kills: número de enemigos eliminados, generado con una distribución de Poisson con media 5.\n",
        "+ deaths: número de veces que el jugador ha muerto, distribución de Poisson con media 3.\n",
        "+ assists: asistencias realizadas, distribución de Poisson con media 2.\n",
        "+ damage_dealt: daño infligido, calculado como kills * 300 + ruido aleatorio normal.\n",
        "+ damage_received = deaths * 400 + np.random.normal(0, 100)\n",
        "damage_received: daño recibido, como deaths * 400 + ruido aleatorio normal.\n",
        "+ healing_done: cantidad de curación, valor aleatorio entero entre 0 y 300.\n",
        "+ objective_time: tiempo (en segundos) controlando objetivos, valor aleatorio entre 0 y 120.\n",
        "+ won: el jugador se considera que ganó la partida si hizo más daño del que recibió y tuvo más kills que muertes.\n",
        "\n",
        "Para un aleatorio con distribución de poisson de media 5 usar:\n",
        "```python\n",
        "kills = np.random.poisson(5)\n",
        "```\n",
        "\n",
        "Para un ruido aleatorio normal usar:\n",
        "```python\n",
        "ruido = np.random.normal(0, 100)\n",
        "```\n",
        "\n",
        "\n",
        "### 🧠 Tu función debe seguir esta estructura:\n",
        "```python\n",
        "import numpy as np\n",
        "\n",
        "def generate_synthetic_data(n=100):\n",
        "    data = []\n",
        "    for _ in range(n):\n",
        "        # Genera cada variable siguiendo las instrucciones dadas\n",
        "        # Crea un objeto PlayerMatchData con estos valores\n",
        "        # Añádelo a la lista de datos\n",
        "\n",
        "    return data\n",
        "\n",
        "```\n",
        "\n",
        "##🧪 Paso 3: Crear y entrenar el modelo\n",
        "\n",
        "Crea una clase VictoryPredictor que entrene un modelo de regresión logística con los datos sintéticos. Esta clase debe tener:\n",
        "  + Métodos:\n",
        "    + Un método train(data) para entrenar el modelo.\n",
        "    + Un método predict(player: PlayerMatchData) que devuelva 1 si predice victoria, 0 si derrota.\n",
        "\n",
        "\n",
        "\n",
        "## 📌 Ejemplo de uso\n",
        "```python\n",
        "# Crear datos de entrenamiento\n",
        "training_data = generate_synthetic_data(150)\n",
        "\n",
        "# Entrenar modelo\n",
        "predictor = VictoryPredictor()\n",
        "predictor.train(training_data)\n",
        "\n",
        "# Crear jugador de prueba\n",
        "test_player = PlayerMatchData(8, 2, 3, 2400, 800, 120, 90, None)\n",
        "\n",
        "# Predecir si ganará\n",
        "prediction = predictor.predict(test_player)\n",
        "print(f\"¿El jugador ganará? {'Sí' if prediction == 1 else 'No'}\")\n",
        "```\n",
        "\n",
        "## Salida esperada\n",
        "\n",
        "¿El jugador ganará? Sí"
      ],
      "metadata": {
        "id": "QDtJ8l-AmNoR"
      }
    },
    {
      "cell_type": "markdown",
      "source": [
        "### Importación de librerias"
      ],
      "metadata": {
        "id": "ofxr12w6yPt9"
      }
    },
    {
      "cell_type": "code",
      "execution_count": 68,
      "metadata": {
        "id": "JCGYI9cSmJo_"
      },
      "outputs": [],
      "source": [
        "import pandas as pd\n",
        "import numpy as np\n",
        "import sklearn\n",
        "from sklearn.linear_model  import LogisticRegression\n",
        "from sklearn.preprocessing import StandardScaler\n",
        "from sklearn.metrics import classification_report"
      ]
    },
    {
      "cell_type": "code",
      "source": [
        "class PlayerMatchData:\n",
        "    \"\"\"Almacena datos de una partida de jugador con estadísticas clave.\n",
        "\n",
        "    Incluye kills, deaths, assists, daño infligido/recibido, curación,\n",
        "    tiempo en objetivo y si la partida fue ganada o no.\n",
        "    \"\"\"\n",
        "    def __init__(self, kills, deaths, assists, damage_dealt,\n",
        "                 damage_received, healing_done, objective_time, won=None):\n",
        "        \"\"\"Inicializa los datos de la partida del jugador.\n",
        "\n",
        "        Args:\n",
        "            kills (int): Número de asesinatos realizados.\n",
        "            deaths (int): Número de veces que el jugador murió.\n",
        "            assists (int): Número de asistencias realizadas.\n",
        "            damage_dealt (float): Cantidad de daño infligido.\n",
        "            damage_received (float): Cantidad de daño recibido.\n",
        "            healing_done (float): Cantidad de curación realizada.\n",
        "            objective_time (float): Tiempo en segundos controlando objetivos.\n",
        "            won (int, optional): 1 si la partida se ganó, 0 si se perdió,\n",
        "                None si no se especifica. Defaults to None.\n",
        "\n",
        "        Raises:\n",
        "            ValueError: Si los tipos o valores de los argumentos no son válidos.\n",
        "        \"\"\"\n",
        "        if not all(isinstance(arg, int) and arg >= 0\n",
        "                   for arg in [kills, deaths, assists]):\n",
        "            raise ValueError(\"Kills, deaths, and assists must be non-negative integers.\")\n",
        "        if not all(isinstance(arg, (int, float)) and arg >= 0.0\n",
        "                   for arg in [damage_dealt, damage_received, healing_done,\n",
        "                               objective_time]):\n",
        "            raise ValueError(\"damage_dealt, damage_received, healing_done, and \"\n",
        "                             \"objective_time must be non-negative numbers.\")\n",
        "        if won is not None and won not in [0, 1]:\n",
        "            raise ValueError(\"WON must be 0 or 1 or None.\")\n",
        "\n",
        "        self.kills = kills\n",
        "        self.deaths = deaths\n",
        "        self.assists = assists\n",
        "        self.damage_dealt = damage_dealt\n",
        "        self.damage_received = damage_received\n",
        "        self.healing_done = healing_done\n",
        "        self.objective_time = objective_time\n",
        "        self.won = won\n",
        "\n",
        "    def to_dict(self):\n",
        "        \"\"\"Devuelve un diccionario con los atributos de la instancia.\"\"\"\n",
        "        return vars(self)\n",
        "\n",
        "    def __str__(self):\n",
        "        \"\"\"Devuelve una representación en cadena del objeto.\"\"\"\n",
        "        return str(self.to_dict())\n",
        "\n"
      ],
      "metadata": {
        "id": "lgsGmImEzH4a"
      },
      "execution_count": 69,
      "outputs": []
    },
    {
      "cell_type": "markdown",
      "source": [
        "##### pruebas a la clase Partida"
      ],
      "metadata": {
        "id": "PIaUemUL6qCh"
      }
    },
    {
      "cell_type": "code",
      "source": [
        "test_player = PlayerMatchData(8, 2, 3, 2400, 800, 120, 90, None)\n",
        "print(test_player.to_dict())\n",
        "print(test_player)"
      ],
      "metadata": {
        "colab": {
          "base_uri": "https://localhost:8080/"
        },
        "id": "Uhq8WJHk7H15",
        "outputId": "6f73ed9f-ef60-40f0-9ff5-954b63e08b0d"
      },
      "execution_count": 70,
      "outputs": [
        {
          "output_type": "stream",
          "name": "stdout",
          "text": [
            "{'kills': 8, 'deaths': 2, 'assists': 3, 'damage_dealt': 2400, 'damage_received': 800, 'healing_done': 120, 'objective_time': 90, 'won': None}\n",
            "{'kills': 8, 'deaths': 2, 'assists': 3, 'damage_dealt': 2400, 'damage_received': 800, 'healing_done': 120, 'objective_time': 90, 'won': None}\n"
          ]
        }
      ]
    },
    {
      "cell_type": "markdown",
      "source": [
        "### Creación de la función generate_synthetic_data"
      ],
      "metadata": {
        "id": "CcI-N5OpzKTb"
      }
    },
    {
      "cell_type": "code",
      "source": [
        "def generate_synthetic_data(n=100):\n",
        "    \"\"\"Genera datos sintéticos de partidas de jugadores.\n",
        "\n",
        "    Crea una lista de objetos PlayerMatchData con valores aleatorios\n",
        "    para simular estadísticas de juego.\n",
        "\n",
        "    Args:\n",
        "        n (int, optional): Número de partidas sintéticas a generar.\n",
        "            Defaults to 100.\n",
        "\n",
        "    Returns:\n",
        "        list: Una lista de objetos PlayerMatchData generados\n",
        "              aleatoriamente.\n",
        "    \"\"\"\n",
        "    data = []\n",
        "    for _ in range(n):\n",
        "        # Genera cada variable siguiendo las instrucciones dadas\n",
        "        kills           = np.random.poisson(5)\n",
        "        deaths          = np.random.poisson(3)\n",
        "        assists         = np.random.poisson(2)\n",
        "        invalido = True\n",
        "        while invalido:\n",
        "          damage_dealt    = 300 * kills + np.random.normal(0, 100)\n",
        "          invalido = (damage_dealt < 0)\n",
        "        invalido = True\n",
        "        while invalido:\n",
        "          damage_received = 400 * deaths + np.random.normal(0, 100)\n",
        "          invalido = (damage_received < 0)\n",
        "        healing_done    = np.random.randint(0, 300)\n",
        "        objective_time  = np.random.randint(0, 120)\n",
        "        won             = 1 if (damage_dealt > damage_received ) else 0\n",
        "        # Crea un objeto PlayerMatchData con estos valores\n",
        "        jugador_nuevo = PlayerMatchData( kills, deaths, assists, damage_dealt, \\\n",
        "              damage_received, healing_done, objective_time, won)\n",
        "        data.append(jugador_nuevo )# Añádelo a la lista de datos\n",
        "\n",
        "    return data"
      ],
      "metadata": {
        "id": "s_nq0fe4zQ8I"
      },
      "execution_count": 90,
      "outputs": []
    },
    {
      "cell_type": "markdown",
      "source": [
        "#### Tests a la función generate_syntehtic_data"
      ],
      "metadata": {
        "id": "e9nnuF3Y_fwz"
      }
    },
    {
      "cell_type": "code",
      "source": [
        "datos = generate_synthetic_data(2)\n",
        "print(type(datos))\n",
        "for dato in datos:\n",
        "  print(type(dato), dato)"
      ],
      "metadata": {
        "colab": {
          "base_uri": "https://localhost:8080/"
        },
        "id": "oT90N7QV8KkS",
        "outputId": "05e61b34-5ea5-470c-e80b-9f122e4693ee"
      },
      "execution_count": 72,
      "outputs": [
        {
          "output_type": "stream",
          "name": "stdout",
          "text": [
            "<class 'list'>\n",
            "<class '__main__.PlayerMatchData'> {'kills': 6, 'deaths': 3, 'assists': 5, 'damage_dealt': 1801.4461760088561, 'damage_received': 1239.6905024762088, 'healing_done': 260, 'objective_time': 19, 'won': 1}\n",
            "<class '__main__.PlayerMatchData'> {'kills': 4, 'deaths': 3, 'assists': 1, 'damage_dealt': 1182.5349440844661, 'damage_received': 1022.4105783089286, 'healing_done': 222, 'objective_time': 113, 'won': 1}\n"
          ]
        }
      ]
    },
    {
      "cell_type": "markdown",
      "source": [
        "### Creación de la clase VictoryPredictor"
      ],
      "metadata": {
        "id": "wIrJNVDc_dh-"
      }
    },
    {
      "cell_type": "code",
      "source": [
        "class VictoryPredictor:\n",
        "    \"\"\"Predice la probabilidad de victoria en una partida.\n",
        "\n",
        "    Utiliza regresión logística para clasificar si un jugador ganará\n",
        "    basándose en sus estadísticas de partida.\n",
        "    \"\"\"\n",
        "    def __init__(self):\n",
        "        \"\"\"Inicializa el predictor con un modelo y un escalador.\"\"\"\n",
        "        self.model = LogisticRegression()\n",
        "        self.scaler = StandardScaler()\n",
        "\n",
        "    def train(self, datos):\n",
        "        \"\"\"Entrena el modelo con los datos de partidas proporcionados.\n",
        "\n",
        "        Args:\n",
        "            datos (list): Una lista de objetos PlayerMatchData\n",
        "                utilizados para el entrenamiento.\n",
        "        \"\"\"\n",
        "        X = [[j.kills, j.deaths, j.assists, j.damage_dealt,\n",
        "              j.damage_received, j.healing_done, j.objective_time]\n",
        "             for j in datos]\n",
        "        y = [j.won for j in datos]\n",
        "        self.scaler.fit(X)\n",
        "        X_scaled = self.scaler.transform(X)\n",
        "        self.model.fit(X_scaled, y)\n",
        "\n",
        "    def predict(self, j: PlayerMatchData):\n",
        "        \"\"\"Predice si un jugador ganará la partida.\n",
        "\n",
        "        Args:\n",
        "            j (PlayerMatchData): Un objeto PlayerMatchData con las\n",
        "                estadísticas de la partida a predecir.\n",
        "\n",
        "        Returns:\n",
        "            ndarray: Un array numpy con la predicción (0 o 1).\n",
        "        \"\"\"\n",
        "        X = [[j.kills, j.deaths, j.assists, j.damage_dealt,\n",
        "              j.damage_received, j.healing_done, j.objective_time]]\n",
        "        X_scaled = self.scaler.transform(X)\n",
        "        return self.model.predict(X_scaled.reshape(1, -1))"
      ],
      "metadata": {
        "id": "sXTnm6XVE8uz"
      },
      "execution_count": 112,
      "outputs": []
    },
    {
      "cell_type": "code",
      "source": [
        "datos = generate_synthetic_data(40)\n",
        "vp = VictoryPredictor()\n",
        "vp.train(datos)\n",
        "print(\"coeficioentes :\" ,vp.model.coef_)\n",
        "print(\"intercep :\",vp.model.intercept_)\n",
        "test_player = PlayerMatchData(8, 2, 3, 2400, 800, 120, 90, None)\n",
        "predicción = vp.predict(test_player)\n",
        "print(f\"¿El jugador ganará? {'Sí' if predicción == 1 else 'No'}\")"
      ],
      "metadata": {
        "colab": {
          "base_uri": "https://localhost:8080/"
        },
        "id": "nTlGFM79G9cS",
        "outputId": "82c52062-568c-476c-d303-bf641b159645"
      },
      "execution_count": 111,
      "outputs": [
        {
          "output_type": "stream",
          "name": "stdout",
          "text": [
            "coeficioentes : [[ 1.01690032 -1.28160714 -0.28413591  1.20492955 -1.35648008 -0.29583005\n",
            "  -0.2629383 ]]\n",
            "intercep : [1.734082]\n",
            "¿El jugador ganará? Sí\n"
          ]
        }
      ]
    },
    {
      "cell_type": "markdown",
      "source": [],
      "metadata": {
        "id": "ql381en_G8dX"
      }
    }
  ]
}