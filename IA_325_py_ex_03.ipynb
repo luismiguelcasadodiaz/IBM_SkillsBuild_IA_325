{
  "nbformat": 4,
  "nbformat_minor": 0,
  "metadata": {
    "colab": {
      "provenance": [],
      "authorship_tag": "ABX9TyPd9hJzgYgjA6lapI6PgwJ4",
      "include_colab_link": true
    },
    "kernelspec": {
      "name": "python3",
      "display_name": "Python 3"
    },
    "language_info": {
      "name": "python"
    }
  },
  "cells": [
    {
      "cell_type": "markdown",
      "metadata": {
        "id": "view-in-github",
        "colab_type": "text"
      },
      "source": [
        "<a href=\"https://colab.research.google.com/github/luismiguelcasadodiaz/IBM_SkillsBuild_IA_325/blob/main/IA_325_py_ex_03.ipynb\" target=\"_parent\"><img src=\"https://colab.research.google.com/assets/colab-badge.svg\" alt=\"Open In Colab\"/></a>"
      ]
    },
    {
      "cell_type": "code",
      "execution_count": null,
      "metadata": {
        "id": "nvoUZArBKXb5"
      },
      "outputs": [],
      "source": []
    },
    {
      "cell_type": "markdown",
      "source": [
        "A partir de la lista de frutas definida, crea una nueva lista eliminando las palabras repetidas.\n",
        "\n",
        "Explica lo que haces con comentarios"
      ],
      "metadata": {
        "id": "hwqf7djDKbwN"
      }
    },
    {
      "cell_type": "code",
      "source": [
        "frutas = ['naranja', 'manzana', 'mango', 'fresa', 'piña', 'uva', 'papaya', 'naranja', 'manzana', 'mango', 'fresa', 'piña', 'uva', 'papaya']"
      ],
      "metadata": {
        "id": "8qyubmcFKwWu"
      },
      "execution_count": null,
      "outputs": []
    }
  ]
}