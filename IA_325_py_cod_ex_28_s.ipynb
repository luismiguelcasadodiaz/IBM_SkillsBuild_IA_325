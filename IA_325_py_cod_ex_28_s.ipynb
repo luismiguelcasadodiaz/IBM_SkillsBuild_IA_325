{
  "nbformat": 4,
  "nbformat_minor": 0,
  "metadata": {
    "colab": {
      "provenance": [],
      "authorship_tag": "ABX9TyM9S03wAk3dc+PzY/7iaGTH",
      "include_colab_link": true
    },
    "kernelspec": {
      "name": "python3",
      "display_name": "Python 3"
    },
    "language_info": {
      "name": "python"
    }
  },
  "cells": [
    {
      "cell_type": "markdown",
      "metadata": {
        "id": "view-in-github",
        "colab_type": "text"
      },
      "source": [
        "<a href=\"https://colab.research.google.com/github/luismiguelcasadodiaz/IBM_SkillsBuild_IA_325/blob/main/IA_325_py_cod_ex_28_s.ipynb\" target=\"_parent\"><img src=\"https://colab.research.google.com/assets/colab-badge.svg\" alt=\"Open In Colab\"/></a>"
      ]
    },
    {
      "cell_type": "markdown",
      "source": [
        "# Métricas en árboles de decisión\n",
        "El objetivo de este ejercicio es que los estudiantes implementen una función que:\n",
        "\n",
        "+ Entrene un árbol de decisión usando DecisionTreeClassifier de sklearn.\n",
        "+ Haga predicciones en un conjunto de prueba.\n",
        "+ Evalúe el modelo utilizando métricas como precisión (accuracy), matriz de confusión y reporte de clasificación.\n",
        "+ Pase pruebas unitarias (unittest) que validen el funcionamiento correcto del código.\n",
        "\n",
        "\n",
        "\n",
        "## Instrucciones\n",
        "\n",
        "Implementa una función llamada entrenar_y_evaluar_arbol(X_train, y_train, X_test, y_test) que:\n",
        "\n",
        "  + Entrene un modelo DecisionTreeClassifier con los datos de entrenamiento (X_train, y_train).\n",
        "  + Prediga los valores de X_test.\n",
        "  + Evalúe el modelo usando:\n",
        "    + Precisión (accuracy_score). aciertos / predicciones\n",
        "    + Matriz de confusión (confusion_matrix)\n",
        "    + Reporte de clasificación (classification_report)\n",
        "  + Devuelva un diccionario con:\n",
        "\n",
        "    + predicciones: Un array con las predicciones del modelo.\n",
        "    + accuracy: Un número flotante con la precisión.\n",
        "    + matriz_confusion: Una matriz de confusión.\n",
        "    + reporte: Un string con el reporte de clasificación.\n",
        "\n",
        "Usa random_state=42 en DecisionTreeClassifier para reproducibilidad.\n",
        "\n",
        "Prueba la función con el dataset Iris, asegurando que el modelo tenga al menos 85% de precisión en los datos de prueba.\n",
        "\n",
        "\n",
        "\n",
        "##Ejemplo de Uso\n",
        "\n",
        "Una vez implementada la función, debe ejecutarse correctamente con este código de prueba:\n",
        "\n",
        "\n",
        "```python\n",
        "from sklearn.datasets import load_iris\n",
        "from sklearn.model_selection import train_test_split\n",
        "import numpy as np\n",
        "\n",
        "# Cargar el dataset de flores Iris\n",
        "iris = load_iris()\n",
        "X = iris.data  # Características\n",
        "y = iris.target  # Clases de las flores (Setosa, Versicolor, Virginica)\n",
        "\n",
        "# Dividir en conjunto de entrenamiento (80%) y prueba (20%)\n",
        "X_train, X_test, y_train, y_test = train_test_split(X, y, test_size=0.2, random_state=42)\n",
        "\n",
        "# Importar la función implementada\n",
        "from solution import entrenar_y_evaluar_arbol\n",
        "\n",
        "# Llamar a la función y obtener las métricas\n",
        "resultados = entrenar_y_evaluar_arbol(X_train, y_train, X_test, y_test)\n",
        "\n",
        "# Mostrar los resultados\n",
        "print(\"Precisión del modelo:\", resultados[\"accuracy\"])\n",
        "print(\"Matriz de Confusión:\\n\", resultados[\"matriz_confusion\"])\n",
        "print(\"Reporte de Clasificación:\\n\", resultados[\"reporte\"])\n",
        "```\n",
        "\n",
        "## Salida esperada (aproximada):\n",
        "```python\n",
        "\n",
        "Precisión del modelo: 1.0\n",
        "Matriz de Confusión:\n",
        " [[10  0  0]\n",
        " [ 0  9  0]\n",
        " [ 0  0 11]]\n",
        "Reporte de Clasificación:\n",
        "               precision    recall  f1-score   support\n",
        "\n",
        "      Setosa       1.00      1.00      1.00        10\n",
        "  Versicolor       1.00      1.00      1.00         9\n",
        "   Virginica       1.00      1.00      1.00        11\n",
        "\n",
        "    accuracy                           1.00        30\n",
        "   macro avg       1.00      1.00      1.00        30\n",
        "weighted avg       1.00      1.00      1.00        30\n",
        "\n",
        "```\n",
        "\n"
      ],
      "metadata": {
        "id": "I6VN5Kx9iHDl"
      }
    },
    {
      "cell_type": "markdown",
      "source": [
        "## Importación de las librerías"
      ],
      "metadata": {
        "id": "DKXXAXMDn0rV"
      }
    },
    {
      "cell_type": "code",
      "source": [
        "from sklearn.tree import DecisionTreeClassifier\n",
        "from sklearn.metrics import accuracy_score, confusion_matrix, classification_report\n",
        "from sklearn.datasets import load_iris\n",
        "from sklearn.model_selection import train_test_split\n",
        "import numpy as np\n",
        "import unittest"
      ],
      "metadata": {
        "id": "IJgjHpMkoGZs"
      },
      "execution_count": 17,
      "outputs": []
    },
    {
      "cell_type": "markdown",
      "source": [
        "## Definición de la función"
      ],
      "metadata": {
        "id": "60Nzh6Duh-xg"
      }
    },
    {
      "cell_type": "code",
      "source": [
        "def entrenar_y_evaluar_arbol(X_train, y_train, X_test, y_test):\n",
        "    \"\"\"\n",
        "    Entrena un árbol de decisión y evalúa su rendimiento.\n",
        "\n",
        "    Esta función entrena un modelo DecisionTreeClassifier en los datos de entrenamiento,\n",
        "    realiza predicciones en los datos de prueba y evalúa el modelo utilizando\n",
        "    precisión, matriz de confusión y reporte de clasificación.\n",
        "\n",
        "    Args:\n",
        "        X_train (np.ndarray): Datos de características de entrenamiento.\n",
        "        y_train (np.ndarray): Etiquetas de clase de entrenamiento.\n",
        "        X_test (np.ndarray): Datos de características de prueba.\n",
        "        y_test (np.ndarray): Etiquetas de clase de prueba.\n",
        "\n",
        "    Returns:\n",
        "        dict: Un diccionario que contiene las siguientes métricas:\n",
        "            'predicciones' (np.ndarray): Predicciones del modelo en los datos de prueba.\n",
        "            'accuracy' (float): Precisión del modelo.\n",
        "            'matriz_confusion' (np.ndarray): Matriz de confusión del modelo.\n",
        "            'reporte' (str): Reporte de clasificación del modelo.\n",
        "    \"\"\"\n",
        "    dtc = DecisionTreeClassifier(random_state=42)\n",
        "    dtc.fit(X_train, y_train)\n",
        "    predicciones = dtc.predict(X_test)\n",
        "    accuracy = np.mean(predicciones == y_test)\n",
        "    matriz_confusion = confusion_matrix(predicciones, y_test)\n",
        "    reporte = classification_report(predicciones, y_test)\n",
        "    resultado = {'predicciones':predicciones,'accuracy':accuracy, \\\n",
        "    'matriz_confusion':matriz_confusion, 'reporte': reporte}\n",
        "    return resultado"
      ],
      "metadata": {
        "id": "9KwNOtyzoBzJ"
      },
      "execution_count": 18,
      "outputs": []
    },
    {
      "cell_type": "markdown",
      "source": [
        "#### Test para la función"
      ],
      "metadata": {
        "id": "Lc1nPLgdpnxg"
      }
    },
    {
      "cell_type": "code",
      "source": [
        "class TestDecisionTreeEvaluation(unittest.TestCase):\n",
        "\n",
        "    def setUp(self):\n",
        "        \"\"\"Prepara los datos para cada prueba.\"\"\"\n",
        "        iris = load_iris()\n",
        "        X = iris.data\n",
        "        y = iris.target\n",
        "        self.X_train, self.X_test, self.y_train, self.y_test = train_test_split(X, y, test_size=0.2, random_state=42)\n",
        "\n",
        "    def test_entrenar_y_evaluar_arbol_returns_dict(self):\n",
        "        \"\"\"Verifica que la función devuelve un diccionario.\"\"\"\n",
        "        resultados = entrenar_y_evaluar_arbol(self.X_train, self.y_train, self.X_test, self.y_test)\n",
        "        self.assertIsInstance(resultados, dict)\n",
        "\n",
        "    def test_entrenar_y_evaluar_arbol_contains_keys(self):\n",
        "        \"\"\"Verifica que el diccionario devuelto contiene las claves esperadas.\"\"\"\n",
        "        resultados = entrenar_y_evaluar_arbol(self.X_train, self.y_train, self.X_test, self.y_test)\n",
        "        expected_keys = ['predicciones', 'accuracy', 'matriz_confusion', 'reporte']\n",
        "        self.assertEqual(sorted(list(resultados.keys())), sorted(expected_keys))\n",
        "\n",
        "    def test_entrenar_y_evaluar_arbol_accuracy(self):\n",
        "        \"\"\"Verifica que la precisión es mayor o igual a 0.85.\"\"\"\n",
        "        resultados = entrenar_y_evaluar_arbol(self.X_train, self.y_train, self.X_test, self.y_test)\n",
        "        self.assertGreaterEqual(resultados['accuracy'], 0.85)\n",
        "\n",
        "    def test_entrenar_y_evaluar_arbol_predicciones_shape(self):\n",
        "        \"\"\"Verifica la forma de las predicciones.\"\"\"\n",
        "        resultados = entrenar_y_evaluar_arbol(self.X_train, self.y_train, self.X_test, self.y_test)\n",
        "        self.assertEqual(resultados['predicciones'].shape, self.y_test.shape)\n",
        "\n",
        "    def test_entrenar_y_evaluar_arbol_matriz_confusion_shape(self):\n",
        "        \"\"\"Verifica la forma de la matriz de confusión.\"\"\"\n",
        "        resultados = entrenar_y_evaluar_arbol(self.X_train, self.y_train, self.X_test, self.y_test)\n",
        "        # Para el dataset Iris, hay 3 clases, por lo que la matriz de confusión debe ser 3x3\n",
        "        self.assertEqual(resultados['matriz_confusion'].shape, (3, 3))"
      ],
      "metadata": {
        "id": "bqrrmXwepq5S"
      },
      "execution_count": 19,
      "outputs": []
    },
    {
      "cell_type": "code",
      "source": [
        "unittest.main(argv=['first-arg-is-ignored'], exit=False)"
      ],
      "metadata": {
        "colab": {
          "base_uri": "https://localhost:8080/"
        },
        "id": "uT2t6W4tpz9F",
        "outputId": "e4614809-b744-494c-d18b-41cf9e9c5dc0"
      },
      "execution_count": 21,
      "outputs": [
        {
          "output_type": "stream",
          "name": "stderr",
          "text": [
            ".....\n",
            "----------------------------------------------------------------------\n",
            "Ran 5 tests in 0.090s\n",
            "\n",
            "OK\n"
          ]
        },
        {
          "output_type": "execute_result",
          "data": {
            "text/plain": [
              "<unittest.main.TestProgram at 0x7ed7b1fe9490>"
            ]
          },
          "metadata": {},
          "execution_count": 21
        }
      ]
    },
    {
      "cell_type": "markdown",
      "source": [
        "##Prueba de la función"
      ],
      "metadata": {
        "id": "g7rGOJpnpHeb"
      }
    },
    {
      "cell_type": "code",
      "source": [
        "# Cargar el dataset de flores Iris\n",
        "iris = load_iris()\n",
        "X = iris.data  # Características\n",
        "y = iris.target  # Clases de las flores (Setosa, Versicolor, Virginica)\n",
        "\n",
        "# Dividir en conjunto de entrenamiento (80%) y prueba (20%)\n",
        "X_train, X_test, y_train, y_test = train_test_split(X, y, test_size=0.2, random_state=42)\n",
        "\n",
        "# Importar la función implementada\n",
        "\n",
        "\n",
        "# Llamar a la función y obtener las métricas\n",
        "resultados = entrenar_y_evaluar_arbol(X_train, y_train, X_test, y_test)\n",
        "\n",
        "# Mostrar los resultados\n",
        "print(\"Precisión del modelo:\", resultados[\"accuracy\"])\n",
        "print(\"Matriz de Confusión:\\n\", resultados[\"matriz_confusion\"])\n",
        "print(\"Reporte de Clasificación:\\n\", resultados[\"reporte\"])"
      ],
      "metadata": {
        "colab": {
          "base_uri": "https://localhost:8080/"
        },
        "id": "m-dfnAXNpLSY",
        "outputId": "ec089ea0-8fe5-4e9b-b7c3-c8f004beb14e"
      },
      "execution_count": 20,
      "outputs": [
        {
          "output_type": "stream",
          "name": "stdout",
          "text": [
            "Precisión del modelo: 1.0\n",
            "Matriz de Confusión:\n",
            " [[10  0  0]\n",
            " [ 0  9  0]\n",
            " [ 0  0 11]]\n",
            "Reporte de Clasificación:\n",
            "               precision    recall  f1-score   support\n",
            "\n",
            "           0       1.00      1.00      1.00        10\n",
            "           1       1.00      1.00      1.00         9\n",
            "           2       1.00      1.00      1.00        11\n",
            "\n",
            "    accuracy                           1.00        30\n",
            "   macro avg       1.00      1.00      1.00        30\n",
            "weighted avg       1.00      1.00      1.00        30\n",
            "\n"
          ]
        }
      ]
    }
  ]
}