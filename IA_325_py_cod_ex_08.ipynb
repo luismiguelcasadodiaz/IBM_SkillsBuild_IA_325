{
  "nbformat": 4,
  "nbformat_minor": 0,
  "metadata": {
    "colab": {
      "provenance": [],
      "authorship_tag": "ABX9TyPudz+kYUzNSaib0rIrguzf",
      "include_colab_link": true
    },
    "kernelspec": {
      "name": "python3",
      "display_name": "Python 3"
    },
    "language_info": {
      "name": "python"
    }
  },
  "cells": [
    {
      "cell_type": "markdown",
      "metadata": {
        "id": "view-in-github",
        "colab_type": "text"
      },
      "source": [
        "<a href=\"https://colab.research.google.com/github/luismiguelcasadodiaz/IBM_SkillsBuild_IA_325/blob/main/IA_325_py_cod_ex_08.ipynb\" target=\"_parent\"><img src=\"https://colab.research.google.com/assets/colab-badge.svg\" alt=\"Open In Colab\"/></a>"
      ]
    },
    {
      "cell_type": "code",
      "execution_count": null,
      "metadata": {
        "id": "WvvDGxvEiPCx"
      },
      "outputs": [],
      "source": []
    },
    {
      "cell_type": "markdown",
      "source": [
        "# Calcular promedio\n",
        "Estás trabajando con una tabla de datos numéricos almacenada en un DataFrame de pandas. El objetivo es calcular el promedio de cada columna de manera automatizada, *sin usar bucles explícitos*.\n",
        "\n",
        "Sigue estos pasos para construir la solución:\n",
        "\n",
        "Crea una función llamada calcular_promedio(dataframe) que reciba un DataFrame como parámetro.\n",
        "\n",
        "Dentro de la función, usa un método de pandas que calcule el promedio de cada columna automáticamente. Evita usar bucles for o while.\n",
        "\n",
        "Retorna los valores promedio como resultado de la función.\n",
        "\n",
        "Prueba tu función con un DataFrame de ejemplo que contenga varias columnas con números enteros.\n",
        "\n",
        "Imprime el resultado y asegúrate de que sea una Serie de pandas con el promedio de cada columna.\n",
        "\n",
        "\n",
        "\n",
        "# Ejemplo de uso\n",
        "```python\n",
        "data = {\n",
        "    'A': [1, 2, 3, 4],\n",
        "    'B': [5, 6, 7, 8],\n",
        "    'C': [9, 10, 11, 12]\n",
        "}\n",
        "\n",
        "df = pd.DataFrame(data)\n",
        "resultado = calcular_promedio(df)\n",
        "print(resultado)\n",
        "```\n",
        "\n",
        "Resultado\n",
        "\n",
        "\n",
        "\n",
        "A     2.5\n",
        "B     6.5\n",
        "C    10.5\n",
        "dtype: float64\n"
      ],
      "metadata": {
        "id": "l1mhziwpibT2"
      }
    },
    {
      "cell_type": "code",
      "source": [
        "import pandas as pd"
      ],
      "metadata": {
        "id": "ms1LvIyXi6I2"
      },
      "execution_count": null,
      "outputs": []
    },
    {
      "cell_type": "code",
      "source": [
        "def calcular_promedio(dataframe):\n"
      ],
      "metadata": {
        "id": "Dp7UYKh0jTOy"
      },
      "execution_count": null,
      "outputs": []
    }
  ]
}