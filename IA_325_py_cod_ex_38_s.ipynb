{
  "nbformat": 4,
  "nbformat_minor": 0,
  "metadata": {
    "colab": {
      "provenance": [],
      "authorship_tag": "ABX9TyNafjpvdUSELuUEt7OWKrQV",
      "include_colab_link": true
    },
    "kernelspec": {
      "name": "python3",
      "display_name": "Python 3"
    },
    "language_info": {
      "name": "python"
    }
  },
  "cells": [
    {
      "cell_type": "markdown",
      "metadata": {
        "id": "view-in-github",
        "colab_type": "text"
      },
      "source": [
        "<a href=\"https://colab.research.google.com/github/luismiguelcasadodiaz/IBM_SkillsBuild_IA_325/blob/main/IA_325_py_cod_ex_38_s.ipynb\" target=\"_parent\"><img src=\"https://colab.research.google.com/assets/colab-badge.svg\" alt=\"Open In Colab\"/></a>"
      ]
    },
    {
      "cell_type": "markdown",
      "source": [
        "# Clasificador de calidad del aire\n",
        "## Contexto:\n",
        "\n",
        "Imagina que trabajas en una empresa de tecnología verde. Te piden crear un modelo que, basándose en datos de calidad del aire, prediga si un área es saludable o contaminada para las personas.\n",
        "\n",
        "\n",
        "\n",
        "## Objetivo:\n",
        "\n",
        "Usando NumPy para generar datos simulados y SVM para clasificar, debes construir un modelo que prediga si un área tiene buena o mala calidad del aire.\n",
        "\n",
        "\n",
        "\n",
        "## Requisitos:\n",
        "\n",
        "+ #### Crear una clase AirSample.\n",
        "  + Atributos:\n",
        "\n",
        "    + pm25 (partículas finas PM2.5 en µg/m³)\n",
        "\n",
        "    + pm10 (partículas gruesas PM10 en µg/m³)\n",
        "\n",
        "    + o3 (ozono en ppb)\n",
        "\n",
        "    + no2 (dióxido de nitrógeno en ppb)\n",
        "\n",
        "    + quality (0 = saludable, 1 = contaminado) → solo en entrenamiento.\n",
        "\n",
        "+ #### Crear una clase AirDataGenerator para generar datos sintéticos:\n",
        "\n",
        "  Regla orientativa: si pm25 > 35 o pm10 > 50 o no2 > 40 → contaminado.\n",
        "\n",
        "+ #### Crear una clase AirQualityClassifier para:\n",
        "\n",
        "  Entrenar un modelo SVM usando los datos generados.\n",
        "\n",
        "  Predecir la calidad del aire de una nueva muestra.\n",
        "\n",
        "+ #### Crear una clase AirQualityExample para:\n",
        "\n",
        "  + Generar muestras.\n",
        "\n",
        "  + Entrenar el clasificador.\n",
        "\n",
        "  + Predecir la calidad de una muestra nueva (creada manualmente).\n",
        "\n",
        "  + Mostrar el resultado de la predicción.\n",
        "\n",
        "\n",
        "\n",
        "## Ejemplo de uso\n",
        "```python\n",
        "example = AirQualityExample()\n",
        "example.run()\n",
        "```\n",
        "## Salida esperada\n",
        "```python\n",
        "🌍 Muestra de aire:\n",
        "PM2.5: 22, PM10: 30, O3: 50, NO2: 35\n",
        "✅ Predicción de calidad: Saludable ✅\n",
        "```"
      ],
      "metadata": {
        "id": "TR-41ryMs9we"
      }
    },
    {
      "cell_type": "markdown",
      "source": [
        "## Importación de librerías"
      ],
      "metadata": {
        "id": "7GCIbtYAsqXs"
      }
    },
    {
      "cell_type": "code",
      "source": [
        "from sklearn.svm import SVC\n",
        "from sklearn.model_selection import train_test_split\n",
        "\n",
        "import numpy as np"
      ],
      "metadata": {
        "id": "lVYXm8bIu8Sn"
      },
      "execution_count": 63,
      "outputs": []
    },
    {
      "cell_type": "markdown",
      "source": [
        "## Definición de la clase AirSample"
      ],
      "metadata": {
        "id": "Pfn802efvMv5"
      }
    },
    {
      "cell_type": "code",
      "source": [
        "class AirSample:\n",
        "  \"\"\"\n",
        "  Representa una muestra de aire con diferentes métricas de calidad.\n",
        "\n",
        "  Atributos:\n",
        "      pm25 (float): Concentración de partículas finas PM2.5 en µg/m³.\n",
        "      pm10 (float): Concentración de partículas gruesas PM10 en µg/m³.\n",
        "      o3 (float): Concentración de ozono en ppb.\n",
        "      no2 (float): Concentración de dióxido de nitrógeno en ppb.\n",
        "      q (int, opcional): Calidad del aire (0 = saludable, 1 = contaminado).\n",
        "                         Por defecto es None.\n",
        "  \"\"\"\n",
        "  def __init__(self, pm25, pm10, o3, no2, q=None):\n",
        "    \"\"\"\n",
        "    Inicializa una nueva instancia de AirSample.\n",
        "\n",
        "    Args:\n",
        "        pm25 (float): Concentración de partículas finas PM2.5.\n",
        "        pm10 (float): Concentración de partículas gruesas PM10.\n",
        "        o3 (float): Concentración de ozono.\n",
        "        no2 (float): Concentración de dióxido de nitrógeno.\n",
        "        q (int, opcional): Calidad del aire. Por defecto es None.\n",
        "    \"\"\"\n",
        "    self.pm25 = pm25\n",
        "    self.pm10 = pm10\n",
        "    self.o3 = o3\n",
        "    self.no2 = no2\n",
        "    self.q = q\n",
        "  def __str__(self):\n",
        "    return f\"PM2.5: {self.pm25}, PM10: {self.pm10}, O3: {self.o3}, NO2: {self.no2}\"\n",
        "  def to_vector(self):\n",
        "    \"\"\"\n",
        "    Convierte los atributos de la muestra (sin la calidad) en un vector numérico.\n",
        "\n",
        "    Este método es útil para preparar los datos para el entrenamiento de modelos\n",
        "    de aprendizaje automático.\n",
        "\n",
        "    Returns:\n",
        "        list: Una lista de floats con las métricas de la muestra\n",
        "              [pm25, pm10, o3, no2].\n",
        "    \"\"\"\n",
        "    return [self.pm25, self.pm10, self.o3, self.no2]"
      ],
      "metadata": {
        "id": "pw7599ZpvnY6"
      },
      "execution_count": 64,
      "outputs": []
    },
    {
      "cell_type": "markdown",
      "source": [
        "## Definición de la clase AirDataGenerator"
      ],
      "metadata": {
        "id": "o4FVE95SvSke"
      }
    },
    {
      "cell_type": "code",
      "source": [
        "class AirDataGenerator:\n",
        "  \"\"\"\n",
        "  Generador de datos sintéticos para muestras de calidad del aire.\n",
        "\n",
        "  Atributos:\n",
        "      num_samples (int): El número de muestras a generar.\n",
        "      samples (list): Una lista para almacenar las muestras generadas.\n",
        "  \"\"\"\n",
        "  def __init__(self, num_samples):\n",
        "    self.num_samples = num_samples\n",
        "    self.samples = []\n",
        "  def generate(self):\n",
        "    \"\"\"\n",
        "    Genera un número especificado de muestras de aire sintéticas.\n",
        "\n",
        "    La calidad (contaminado o saludable) se determina basándose en umbrales\n",
        "    simples para PM2.5, PM10 y NO2.\n",
        "\n",
        "    Returns:\n",
        "        list: Una lista de objetos AirSample generados.\n",
        "    \"\"\"\n",
        "    for _ in range(self.num_samples):\n",
        "      pm25 = np.random.uniform(0, 150)\n",
        "      pm10 = np.random.uniform(0, 200)\n",
        "      o3 = np.random.uniform(0, 120)\n",
        "      no2 = np.random.uniform(0, 60)\n",
        "      polluted = int(pm25 > 50 or pm10 > 80 or o3 > 100  or no2 > 40)\n",
        "      sample = AirSample(pm25, pm10, o3, no2, polluted)\n",
        "      self.samples.append(sample)\n",
        "    return self.samples\n"
      ],
      "metadata": {
        "id": "htPKzjVWwMA1"
      },
      "execution_count": 65,
      "outputs": []
    },
    {
      "cell_type": "markdown",
      "source": [
        "## Definición de la clase AirQualityClassifier"
      ],
      "metadata": {
        "id": "ibkt6RfyvX_X"
      }
    },
    {
      "cell_type": "code",
      "source": [
        "class AirQualityClassifier:\n",
        "  \"\"\"\n",
        "  Clasificador de calidad del aire basado en un modelo SVM.\n",
        "\n",
        "  Permite entrenar un modelo para predecir si una muestra de aire es\n",
        "  saludable o contaminada.\n",
        "\n",
        "  Atributos:\n",
        "      model: Instancia del modelo SVC de scikit-learn, inicialmente None.\n",
        "  \"\"\"\n",
        "  def __init__(self):\n",
        "    self.model = None\n",
        "  def fit(self,samples):\n",
        "    \"\"\"\n",
        "    Entrena el modelo SVM utilizando una lista de objetos AirSample.\n",
        "\n",
        "    Extrae las características y etiquetas de las muestras para entrenar\n",
        "    el clasificador. Si el modelo ya está entrenado, imprime un mensaje.\n",
        "\n",
        "    Args:\n",
        "        samples (list): Una lista de objetos AirSample con etiquetas de calidad (q).\n",
        "    \"\"\"\n",
        "    if self.model is None:\n",
        "      X = [sample.to_vector() for sample in samples]\n",
        "      y = [sample.q for sample in samples]\n",
        "      self.model = SVC(kernel='linear')\n",
        "      self.model.fit(X,y)\n",
        "    else:\n",
        "      print(\"El modelo ya está entrenado\")\n",
        "  def predict(self,sample):\n",
        "    \"\"\"\n",
        "    Predice la calidad del aire para una sola muestra de AirSample.\n",
        "\n",
        "    Si el modelo no está entrenado, imprime un mensaje y retorna None.\n",
        "\n",
        "    Args:\n",
        "        sample (AirSample): Un objeto AirSample para predecir su calidad.\n",
        "\n",
        "    Returns:\n",
        "        int or None: La predicción de calidad (0 = saludable, 1 = contaminado)\n",
        "                     o None si el modelo no está entrenado.\n",
        "    \"\"\"\n",
        "    if self.model is None:\n",
        "      print(\"El modelo no está entrenado\")\n",
        "      return None\n",
        "    else:\n",
        "      X = [sample.to_vector()]\n",
        "      y_pred = self.model.predict(X)\n",
        "      return y_pred[0]\n",
        "\n"
      ],
      "metadata": {
        "id": "C5Wx06cwyTE6"
      },
      "execution_count": 66,
      "outputs": []
    },
    {
      "cell_type": "markdown",
      "source": [
        "## Definición de la clase AirQUalityExample"
      ],
      "metadata": {
        "id": "t7kPL-v9vgXu"
      }
    },
    {
      "cell_type": "code",
      "source": [
        "class AirQualityExample:\n",
        "  def __init__(self):\n",
        "    self.generator = AirDataGenerator(1000)\n",
        "    self.classifier = AirQualityClassifier()\n",
        "  def run(self):\n",
        "    samples = self.generator.generate()\n",
        "    self.classifier.fit(samples)\n",
        "    new_sample = AirSample(22, 30, 50, 35)\n",
        "    prediction = self.classifier.predict(new_sample)\n",
        "    print(\"🌍 Muestra de aire:\")\n",
        "    print(new_sample)\n",
        "    if prediction == 0:\n",
        "      print(\"✅ Predicción de calidad: Saludable ✅\")\n",
        "    else:\n",
        "      print(\"❌ Predicción de calidad: Contaminado ❌\")"
      ],
      "metadata": {
        "id": "fLkCrnGhvmPu"
      },
      "execution_count": 67,
      "outputs": []
    },
    {
      "cell_type": "code",
      "source": [
        "example = AirQualityExample()\n",
        "example.run()"
      ],
      "metadata": {
        "colab": {
          "base_uri": "https://localhost:8080/"
        },
        "id": "04PTymSF2dpp",
        "outputId": "c0e2c3dd-1921-4f8a-9bad-03110c52f197"
      },
      "execution_count": 68,
      "outputs": [
        {
          "output_type": "stream",
          "name": "stdout",
          "text": [
            "🌍 Muestra de aire:\n",
            "PM2.5: 22, PM10: 30, O3: 50, NO2: 35\n",
            "✅ Predicción de calidad: Saludable ✅\n"
          ]
        }
      ]
    }
  ]
}