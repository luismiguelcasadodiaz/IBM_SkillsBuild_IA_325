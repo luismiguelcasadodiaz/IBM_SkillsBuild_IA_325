{
  "nbformat": 4,
  "nbformat_minor": 0,
  "metadata": {
    "colab": {
      "provenance": [],
      "authorship_tag": "ABX9TyNsu7o/lsX+wIAzsy/cEoky",
      "include_colab_link": true
    },
    "kernelspec": {
      "name": "python3",
      "display_name": "Python 3"
    },
    "language_info": {
      "name": "python"
    }
  },
  "cells": [
    {
      "cell_type": "markdown",
      "metadata": {
        "id": "view-in-github",
        "colab_type": "text"
      },
      "source": [
        "<a href=\"https://colab.research.google.com/github/luismiguelcasadodiaz/IBM_SkillsBuild_IA_325/blob/main/IA_325_py_cod_ex_32.ipynb\" target=\"_parent\"><img src=\"https://colab.research.google.com/assets/colab-badge.svg\" alt=\"Open In Colab\"/></a>"
      ]
    },
    {
      "cell_type": "markdown",
      "source": [
        "# Random Forest\n",
        "El objetivo es implementar una función que:\n",
        "\n",
        "+ 1.- **Entrene** un modelo Random Forest (RandomForestClassifier).\n",
        "+ 2.-Haga **predicciones** en datos de prueba.\n",
        "+ 3.-**Evalúe** el rendimiento del modelo con:\n",
        "  + **Precisión** (accuracy_score)\n",
        "  + **Matriz de confusión** (confusion_matrix)\n",
        "  + **Reporte de clasificación** (classification_report)\n",
        "+ 4.-**Devuelva los resultados en un diccionario**.\n",
        "+ 5.-**Supervise la implementación con pruebas unitarias** (unittest).\n",
        "\n",
        "\n",
        "\n",
        "## Instrucciones\n",
        "\n",
        "### 1.- Implementa una función llamada entrenar_y_evaluar_random_forest(X_train, y_train, X_test, y_test) que:\n",
        "\n",
        "  + **Entrene** un RandomForestClassifier(n_estimators=100, random_state=42).\n",
        "  + **Prediga** los valores de X_test.\n",
        "  + **Calcule** las métricas de evaluación mencionadas.\n",
        "  + **Devuelva** un diccionario con:\n",
        "\n",
        "   + \"predicciones\": Array de predicciones del modelo.\n",
        "   +  \"accuracy\": Precisión del modelo en los datos de prueba.\n",
        "   +  \"matriz_confusion\": Matriz de confusión.\n",
        "   +  \"reporte\": Reporte de clasificación.\n",
        "\n",
        "### 2.- Usa el dataset de vinos (wine dataset) de sklearn.datasets.\n",
        "\n",
        "###3.- Asegúrate de que el modelo tenga al menos 90% de precisión en los datos de prueba.\n",
        "\n",
        "\n",
        "\n",
        "## Ejemplo de Uso\n",
        "\n",
        "El siguiente código debería ejecutarse correctamente una vez que implementes la función:\n",
        "```python\n",
        "from sklearn.datasets import load_wine\n",
        "from sklearn.model_selection import train_test_split\n",
        "import numpy as np\n",
        "\n",
        "# Cargar el dataset de vinos\n",
        "wine = load_wine()\n",
        "X = wine.data  # Características\n",
        "y = wine.target  # Clases de vinos\n",
        "\n",
        "# Dividir en conjunto de entrenamiento (80%) y prueba (20%)\n",
        "X_train, X_test, y_train, y_test = train_test_split(X, y, test_size=0.2, random_state=42)\n",
        "\n",
        "# Importar la función implementada\n",
        "from solution import entrenar_y_evaluar_random_forest\n",
        "\n",
        "# Llamar a la función y obtener las métricas\n",
        "resultados = entrenar_y_evaluar_random_forest(X_train, y_train, X_test, y_test)\n",
        "\n",
        "# Mostrar los resultados\n",
        "print(\"Precisión del modelo:\", resultados[\"accuracy\"])\n",
        "print(\"Matriz de Confusión:\\n\", resultados[\"matriz_confusion\"])\n",
        "print(\"Reporte de Clasificación:\\n\", resultados[\"reporte\"])\n",
        "\n",
        "```\n",
        "\n",
        "\n",
        "## Salida esperada (aproximada)\n",
        "```python\n",
        "Precisión del modelo: 1.0\n",
        "Matriz de Confusión:\n",
        " [[14  0  0]\n",
        " [ 0 14  0]\n",
        " [ 0  0  8]]\n",
        "Reporte de Clasificación:\n",
        "               precision    recall  f1-score   support\n",
        "\n",
        "     Clase 0       1.00      1.00      1.00        14\n",
        "     Clase 1       1.00      1.00      1.00        14\n",
        "     Clase 2       1.00      1.00      1.00         8\n",
        "\n",
        "    accuracy                           1.00        36\n",
        "   macro avg       1.00      1.00      1.00        36\n",
        "weighted avg       1.00      1.00      1.00        36\n",
        "```\n"
      ],
      "metadata": {
        "id": "eXxWAucG9glG"
      }
    },
    {
      "cell_type": "code",
      "execution_count": null,
      "metadata": {
        "id": "bHUQcElE9UQh"
      },
      "outputs": [],
      "source": []
    }
  ]
}