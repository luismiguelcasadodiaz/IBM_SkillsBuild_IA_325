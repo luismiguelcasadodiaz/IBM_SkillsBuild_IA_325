{
  "nbformat": 4,
  "nbformat_minor": 0,
  "metadata": {
    "colab": {
      "provenance": [],
      "authorship_tag": "ABX9TyNdDh3FWgjFc9GTUFEmCyx+",
      "include_colab_link": true
    },
    "kernelspec": {
      "name": "python3",
      "display_name": "Python 3"
    },
    "language_info": {
      "name": "python"
    }
  },
  "cells": [
    {
      "cell_type": "markdown",
      "metadata": {
        "id": "view-in-github",
        "colab_type": "text"
      },
      "source": [
        "<a href=\"https://colab.research.google.com/github/luismiguelcasadodiaz/IBM_SkillsBuild_IA_325/blob/main/IA_325_py_ex_03_s.ipynb\" target=\"_parent\"><img src=\"https://colab.research.google.com/assets/colab-badge.svg\" alt=\"Open In Colab\"/></a>"
      ]
    },
    {
      "cell_type": "markdown",
      "source": [
        "A partir de la lista de frutas definida, crea una nueva lista eliminando las palabras repetidas.\n",
        "\n",
        "Explica lo que haces con comentarios"
      ],
      "metadata": {
        "id": "hwqf7djDKbwN"
      }
    },
    {
      "cell_type": "code",
      "source": [
        "frutas = ['naranja', 'manzana', 'mango', 'fresa', 'piña', 'uva', 'papaya', 'naranja', 'manzana', 'mango', 'fresa', 'piña', 'uva', 'papaya']"
      ],
      "metadata": {
        "id": "8qyubmcFKwWu"
      },
      "execution_count": 2,
      "outputs": []
    },
    {
      "cell_type": "markdown",
      "source": [],
      "metadata": {
        "id": "hWFqY7Mxz4DL"
      }
    },
    {
      "cell_type": "code",
      "source": [
        "# uso los conjuntos cuya caracter´ritica es no tener elementos repetidos\n",
        "conjunto_frutas_unicas = set(frutas)\n"
      ],
      "metadata": {
        "id": "RmnNiYxlz6yM"
      },
      "execution_count": 3,
      "outputs": []
    },
    {
      "cell_type": "code",
      "source": [
        "# Creo una lista a partir de un conjuto\n",
        "lista_frutas_unicas = list(conjunto_frutas_unicas)"
      ],
      "metadata": {
        "id": "O-25sq100MX6"
      },
      "execution_count": 4,
      "outputs": []
    },
    {
      "cell_type": "code",
      "source": [
        "# Muestro la fruta\n",
        "print(lista_frutas_unicas)"
      ],
      "metadata": {
        "colab": {
          "base_uri": "https://localhost:8080/"
        },
        "id": "8wsJC7tO0Vpw",
        "outputId": "7ffabece-2c39-4531-d3b2-4b93026d224b"
      },
      "execution_count": 5,
      "outputs": [
        {
          "output_type": "stream",
          "name": "stdout",
          "text": [
            "['fresa', 'uva', 'manzana', 'mango', 'papaya', 'naranja', 'piña']\n"
          ]
        }
      ]
    },
    {
      "cell_type": "code",
      "source": [],
      "metadata": {
        "id": "7UWXERoQ0ano"
      },
      "execution_count": null,
      "outputs": []
    }
  ]
}