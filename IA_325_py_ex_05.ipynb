{
  "nbformat": 4,
  "nbformat_minor": 0,
  "metadata": {
    "colab": {
      "provenance": [],
      "authorship_tag": "ABX9TyOgLXhyWZhkYwzd9ax7Fkp7",
      "include_colab_link": true
    },
    "kernelspec": {
      "name": "python3",
      "display_name": "Python 3"
    },
    "language_info": {
      "name": "python"
    }
  },
  "cells": [
    {
      "cell_type": "markdown",
      "metadata": {
        "id": "view-in-github",
        "colab_type": "text"
      },
      "source": [
        "<a href=\"https://colab.research.google.com/github/luismiguelcasadodiaz/IBM_SkillsBuild_IA_325/blob/main/IA_325_py_ex_05.ipynb\" target=\"_parent\"><img src=\"https://colab.research.google.com/assets/colab-badge.svg\" alt=\"Open In Colab\"/></a>"
      ]
    },
    {
      "cell_type": "code",
      "execution_count": null,
      "metadata": {
        "id": "Yiy0DQvvbpDq"
      },
      "outputs": [],
      "source": []
    },
    {
      "cell_type": "markdown",
      "source": [
        "Crea una lista de números secuenciales del 11 al 26."
      ],
      "metadata": {
        "id": "HCM4Pztib9qd"
      }
    },
    {
      "cell_type": "code",
      "source": [],
      "metadata": {
        "id": "qd778vIUcwpI"
      },
      "execution_count": null,
      "outputs": []
    },
    {
      "cell_type": "markdown",
      "source": [
        "Convierte la lista en una matriz de 2 dimensiones 3 filas por 5 columnas."
      ],
      "metadata": {
        "id": "QhVq5WHHcJm3"
      }
    },
    {
      "cell_type": "code",
      "source": [],
      "metadata": {
        "id": "BoJu7najcwNC"
      },
      "execution_count": null,
      "outputs": []
    },
    {
      "cell_type": "markdown",
      "source": [
        "Muestra por pantalla el valor del elemento de la esquina superior derecha de la matriz"
      ],
      "metadata": {
        "id": "SDNec5w2cm47"
      }
    },
    {
      "cell_type": "code",
      "source": [],
      "metadata": {
        "id": "MV0RRiN1cweG"
      },
      "execution_count": null,
      "outputs": []
    }
  ]
}