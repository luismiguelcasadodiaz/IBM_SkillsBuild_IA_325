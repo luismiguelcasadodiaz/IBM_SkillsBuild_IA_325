{
  "nbformat": 4,
  "nbformat_minor": 0,
  "metadata": {
    "colab": {
      "provenance": [],
      "authorship_tag": "ABX9TyMaZ0lNCTj3Lx5PsjFfdWul",
      "include_colab_link": true
    },
    "kernelspec": {
      "name": "python3",
      "display_name": "Python 3"
    },
    "language_info": {
      "name": "python"
    }
  },
  "cells": [
    {
      "cell_type": "markdown",
      "metadata": {
        "id": "view-in-github",
        "colab_type": "text"
      },
      "source": [
        "<a href=\"https://colab.research.google.com/github/luismiguelcasadodiaz/IBM_SkillsBuild_IA_325/blob/main/IA_325_py_cod_ex_04.ipynb\" target=\"_parent\"><img src=\"https://colab.research.google.com/assets/colab-badge.svg\" alt=\"Open In Colab\"/></a>"
      ]
    },
    {
      "cell_type": "code",
      "execution_count": null,
      "metadata": {
        "id": "svIr6mKvBfK1"
      },
      "outputs": [],
      "source": []
    },
    {
      "cell_type": "markdown",
      "source": [
        "# Aplicar una Función y Filtrar Elementos en una Lista\n",
        "## Objetivo\n",
        "\n",
        "Crear una función que reciba una lista de números y un valor umbral. La función debe aplicar una operación a cada número (como elevarlo al cuadrado) y luego filtrar aquellos resultados que sean mayores que el valor umbral.\n",
        "\n",
        "\n",
        "\n",
        "## Instrucciones\n",
        "\n",
        "+ Definir la función aplicar_funcion_y_filtrar, que tomará como parámetros una lista de números lista y un número valor_umbral.\n",
        "\n",
        "  + Aplicar una función con map:Usa la función map para aplicar una operación a cada elemento de la lista. En este caso, la operación será elevar al cuadrado cada número de la lista.\n",
        "\n",
        "  + Filtrar los resultados con filter. Después de aplicar la función, usa la función filter para filtrar los elementos que sean mayores que el valor umbral (valor_umbral).\n",
        "\n",
        "  + Devolver los resultados:\n",
        "\n",
        "La función debe devolver una lista con los elementos que pasen el filtro.\n",
        "\n",
        "# Prueba la función:\n",
        "\n",
        "Fuera de la función, crea una lista de números, por ejemplo [1, 2, 3, 4, 5], y un valor umbral (por ejemplo, 3).\n",
        "\n",
        "Llama a la función con esta lista y umbral, y muestra el resultado.\n",
        "\n",
        "\n",
        "\n",
        "Ejemplo de entrada y salida:\n",
        "\n",
        "```python\n",
        "numeros = [1, 2, 3, 4, 5]\n",
        "valor_umbral = 3\n",
        "resultado = aplicar_funcion_y_filtrar(numeros, valor_umbral)\n",
        "print(resultado)\n",
        "```\n",
        "Salida esperada:\n",
        "\n",
        "[4, 9, 16, 25]"
      ],
      "metadata": {
        "id": "RXOERco5Bh0s"
      }
    },
    {
      "cell_type": "code",
      "source": [
        "def aplicar_funcion_y_filtrar(lista, valor_umbral):\n",
        "    # Aplicar la función a cada elemento de la lista\n",
        "    resultados = list(map(lambda x: x ** 2, lista))\n",
        "    return list(filter(lambda x: x > valor_umbral, resultados))"
      ],
      "metadata": {
        "id": "Y9d_OU1hCSMd"
      },
      "execution_count": null,
      "outputs": []
    },
    {
      "cell_type": "code",
      "source": [
        "numeros = [1, 2, 3, 4, 5]\n",
        "valor_umbral = 3\n",
        "resultado = aplicar_funcion_y_filtrar(numeros, valor_umbral)\n",
        "print(resultado)"
      ],
      "metadata": {
        "colab": {
          "base_uri": "https://localhost:8080/"
        },
        "id": "HocRkqmSCoo6",
        "outputId": "ff8a0a61-0fbe-499a-8151-d313edb9d5b9"
      },
      "execution_count": null,
      "outputs": [
        {
          "output_type": "stream",
          "name": "stdout",
          "text": [
            "[4, 9, 16, 25]\n"
          ]
        }
      ]
    }
  ]
}