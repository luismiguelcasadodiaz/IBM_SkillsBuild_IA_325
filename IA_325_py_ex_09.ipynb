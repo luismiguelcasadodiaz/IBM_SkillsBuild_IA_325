{
  "nbformat": 4,
  "nbformat_minor": 0,
  "metadata": {
    "colab": {
      "provenance": [],
      "authorship_tag": "ABX9TyNmC/lACXUNTY7FR9YAvZyY",
      "include_colab_link": true
    },
    "kernelspec": {
      "name": "python3",
      "display_name": "Python 3"
    },
    "language_info": {
      "name": "python"
    }
  },
  "cells": [
    {
      "cell_type": "markdown",
      "metadata": {
        "id": "view-in-github",
        "colab_type": "text"
      },
      "source": [
        "<a href=\"https://colab.research.google.com/github/luismiguelcasadodiaz/IBM_SkillsBuild_IA_325/blob/main/IA_325_py_ex_09.ipynb\" target=\"_parent\"><img src=\"https://colab.research.google.com/assets/colab-badge.svg\" alt=\"Open In Colab\"/></a>"
      ]
    },
    {
      "cell_type": "markdown",
      "source": [
        "Ejercicio 1 de Matplotlib, 9 del curso"
      ],
      "metadata": {
        "id": "dcBvmC_M_pCD"
      }
    },
    {
      "cell_type": "code",
      "source": [
        "import matplotlib.pyplot as plt\n",
        "import numpy as np"
      ],
      "metadata": {
        "id": "OaFG2nnw_uaX"
      },
      "execution_count": 1,
      "outputs": []
    },
    {
      "cell_type": "markdown",
      "source": [
        "Crear una variable x con 10 valores equidistantes entre los valores 0 y 20"
      ],
      "metadata": {
        "id": "Y43Wn-lb_yw1"
      }
    },
    {
      "cell_type": "code",
      "source": [
        "x = np.linspace(0,20,10)\n",
        "x"
      ],
      "metadata": {
        "colab": {
          "base_uri": "https://localhost:8080/"
        },
        "id": "Yj6ZrXWn_x5S",
        "outputId": "f0fc175e-e430-47b0-9f5c-c41187e95c22"
      },
      "execution_count": 2,
      "outputs": [
        {
          "output_type": "execute_result",
          "data": {
            "text/plain": [
              "array([ 0.        ,  2.22222222,  4.44444444,  6.66666667,  8.88888889,\n",
              "       11.11111111, 13.33333333, 15.55555556, 17.77777778, 20.        ])"
            ]
          },
          "metadata": {},
          "execution_count": 2
        }
      ]
    },
    {
      "cell_type": "markdown",
      "source": [
        "Crear una variable y que tenga el resultado de la funcion y = x**2 + 5"
      ],
      "metadata": {
        "id": "PvSvdlxkAFal"
      }
    },
    {
      "cell_type": "code",
      "source": [
        "y = 5 + x ** 2\n",
        "y"
      ],
      "metadata": {
        "colab": {
          "base_uri": "https://localhost:8080/"
        },
        "id": "ahw3k6Ca_6U9",
        "outputId": "197e1988-1fe9-4aaf-eebb-6f113137d759"
      },
      "execution_count": 3,
      "outputs": [
        {
          "output_type": "execute_result",
          "data": {
            "text/plain": [
              "array([  5.        ,   9.9382716 ,  24.75308642,  49.44444444,\n",
              "        84.01234568, 128.45679012, 182.77777778, 246.97530864,\n",
              "       321.04938272, 405.        ])"
            ]
          },
          "metadata": {},
          "execution_count": 3
        }
      ]
    },
    {
      "cell_type": "markdown",
      "source": [
        "Crea un gráfico que dibuje la serie de valores de y=f(x) con una línea de color rojo, ancho 5 y estilo punteado."
      ],
      "metadata": {
        "id": "GHfave8eAZ9s"
      }
    },
    {
      "cell_type": "code",
      "source": [
        "plt.plot(x,y, color='red', linewidth=5, linestyle=':')\n",
        "plt.title('Función y = 5 + x^2')\n",
        "plt.xlabel('Eje x')\n",
        "plt.ylabel('Eje y')\n",
        "plt.show()"
      ],
      "metadata": {
        "colab": {
          "base_uri": "https://localhost:8080/",
          "height": 472
        },
        "id": "IYulFZjAAXCe",
        "outputId": "c75905c8-2bd5-434f-eecf-e83d8cb6db86"
      },
      "execution_count": 7,
      "outputs": [
        {
          "output_type": "display_data",
          "data": {
            "text/plain": [
              "<Figure size 640x480 with 1 Axes>"
            ],
            "image/png": "[encoded data removed]"
          },
          "metadata": {}
        }
      ]
    },
    {
      "cell_type": "code",
      "source": [],
      "metadata": {
        "id": "gShhOmvUA7BH"
      },
      "execution_count": null,
      "outputs": []
    }
  ]
}