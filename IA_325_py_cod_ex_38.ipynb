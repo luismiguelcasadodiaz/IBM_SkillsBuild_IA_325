{
  "nbformat": 4,
  "nbformat_minor": 0,
  "metadata": {
    "colab": {
      "provenance": [],
      "authorship_tag": "ABX9TyOzdf3bsGVZV2jdYEyKSmK/",
      "include_colab_link": true
    },
    "kernelspec": {
      "name": "python3",
      "display_name": "Python 3"
    },
    "language_info": {
      "name": "python"
    }
  },
  "cells": [
    {
      "cell_type": "markdown",
      "metadata": {
        "id": "view-in-github",
        "colab_type": "text"
      },
      "source": [
        "<a href=\"https://colab.research.google.com/github/luismiguelcasadodiaz/IBM_SkillsBuild_IA_325/blob/main/IA_325_py_cod_ex_38.ipynb\" target=\"_parent\"><img src=\"https://colab.research.google.com/assets/colab-badge.svg\" alt=\"Open In Colab\"/></a>"
      ]
    },
    {
      "cell_type": "code",
      "execution_count": null,
      "metadata": {
        "id": "7GCIbtYAsqXs"
      },
      "outputs": [],
      "source": []
    },
    {
      "cell_type": "markdown",
      "source": [
        "# Clasificador de calidad del aire\n",
        "## Contexto:\n",
        "\n",
        "Imagina que trabajas en una empresa de tecnología verde. Te piden crear un modelo que, basándose en datos de calidad del aire, prediga si un área es saludable o contaminada para las personas.\n",
        "\n",
        "\n",
        "\n",
        "## Objetivo:\n",
        "\n",
        "Usando NumPy para generar datos simulados y SVM para clasificar, debes construir un modelo que prediga si un área tiene buena o mala calidad del aire.\n",
        "\n",
        "\n",
        "\n",
        "## Requisitos:\n",
        "\n",
        "+ #### Crear una clase AirSample.\n",
        "  + Atributos:\n",
        "\n",
        "    + pm25 (partículas finas PM2.5 en µg/m³)\n",
        "\n",
        "    + pm10 (partículas gruesas PM10 en µg/m³)\n",
        "\n",
        "    + o3 (ozono en ppb)\n",
        "\n",
        "    + no2 (dióxido de nitrógeno en ppb)\n",
        "\n",
        "    + quality (0 = saludable, 1 = contaminado) → solo en entrenamiento.\n",
        "\n",
        "+ #### Crear una clase AirDataGenerator para generar datos sintéticos:\n",
        "\n",
        "  Regla orientativa: si pm25 > 35 o pm10 > 50 o no2 > 40 → contaminado.\n",
        "\n",
        "+ #### Crear una clase AirQualityClassifier para:\n",
        "\n",
        "  Entrenar un modelo SVM usando los datos generados.\n",
        "\n",
        "  Predecir la calidad del aire de una nueva muestra.\n",
        "\n",
        "+ #### Crear una clase AirQualityExample para:\n",
        "\n",
        "  + Generar muestras.\n",
        "\n",
        "  + Entrenar el clasificador.\n",
        "\n",
        "  + Predecir la calidad de una muestra nueva (creada manualmente).\n",
        "\n",
        "  + Mostrar el resultado de la predicción.\n",
        "\n",
        "\n",
        "\n",
        "## Ejemplo de uso\n",
        "```python\n",
        "example = AirQualityExample()\n",
        "example.run()\n",
        "```\n",
        "## Salida esperada\n",
        "```python\n",
        "🌍 Muestra de aire:\n",
        "PM2.5: 22, PM10: 30, O3: 50, NO2: 35\n",
        "✅ Predicción de calidad: Saludable ✅\n",
        "```"
      ],
      "metadata": {
        "id": "TR-41ryMs9we"
      }
    }
  ]
}