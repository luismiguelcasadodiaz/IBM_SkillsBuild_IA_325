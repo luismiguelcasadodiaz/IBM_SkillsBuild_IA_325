{
  "nbformat": 4,
  "nbformat_minor": 0,
  "metadata": {
    "colab": {
      "provenance": [],
      "authorship_tag": "ABX9TyPI+bNijifKzssmLnnHmHoG",
      "include_colab_link": true
    },
    "kernelspec": {
      "name": "python3",
      "display_name": "Python 3"
    },
    "language_info": {
      "name": "python"
    }
  },
  "cells": [
    {
      "cell_type": "markdown",
      "metadata": {
        "id": "view-in-github",
        "colab_type": "text"
      },
      "source": [
        "<a href=\"https://colab.research.google.com/github/luismiguelcasadodiaz/IBM_SkillsBuild_IA_325/blob/main/IA_325_py_cod_ex_09_s.ipynb\" target=\"_parent\"><img src=\"https://colab.research.google.com/assets/colab-badge.svg\" alt=\"Open In Colab\"/></a>"
      ]
    },
    {
      "cell_type": "markdown",
      "source": [
        "# Seleccionar datos\n",
        "## Objetivo:\n",
        "El objetivo de este ejercicio es familiarizarte con la manipulación de datos en pandas, utilizando filtros y criterios personalizados para seleccionar subconjuntos de datos en un DataFrame.\n",
        "\n",
        "## Contexto:\n",
        "Imagina que estás trabajando con un conjunto de datos de estudiantes, donde cada registro contiene el nombre, la edad y las calificaciones de cada uno. Tienes la tarea de implementar una función que permita seleccionar ciertos registros de acuerdo con un criterio dado (por ejemplo, edad mayor a 18 años).\n",
        "\n",
        "## Tarea:\n",
        "\n",
        "Crea una función llamada seleccionar_datos(dataframe, criterio) que tome dos argumentos:\n",
        "\n",
        "+ dataframe: un DataFrame de pandas que contiene varios registros.\n",
        "\n",
        "+ criterio: una cadena que representa una expresión de consulta que pandas puede entender (como edad > 18 o calificaciones >= 90).\n",
        "\n",
        "La función debe usar este criterio para filtrar los datos y devolver solo los registros que cumplan con el criterio.\n",
        "\n",
        "## Requisitos:\n",
        "\n",
        "Utiliza el *método query()* de pandas para aplicar el filtro de manera eficiente.\n",
        "\n",
        "Asegúrate de que la función sea flexible y permita cambiar el criterio de selección.\n",
        "\n",
        "   \n",
        "\n",
        "## Ejemplo de uso\n",
        "```python\n",
        "data = {\n",
        "    'nombre': ['Alice', 'Bob', 'Charlie', 'David'],\n",
        "    'edad': [20, 22, 18, 25],\n",
        "    'calificaciones': [90, 88, 75, 95]\n",
        "}\n",
        "\n",
        "df = pd.DataFrame(data)\n",
        "criterio = 'edad > 18'\n",
        "resultado = seleccionar_datos(df, criterio)\n",
        "print(resultado)\n",
        "```\n",
        "\n",
        "|  |nombre  |edad|  calificaciones|\n",
        "|--|--------|----|----------------|\n",
        "|0 |Alice   |20  |              90|\n",
        "|1 |  Bob   |22  |              88|\n",
        "|3 |David   |25  |              95|"
      ],
      "metadata": {
        "id": "Oi170k2ckNHU"
      }
    },
    {
      "cell_type": "code",
      "source": [
        "import pandas as pd\n",
        "\n",
        "def seleccionar_datos(dataframe, criterio):\n",
        "    return dataframe.query(criterio)"
      ],
      "metadata": {
        "id": "ZdbNhndCk3k1"
      },
      "execution_count": 1,
      "outputs": []
    },
    {
      "cell_type": "code",
      "source": [
        "data = {\n",
        "    'nombre': ['Alice', 'Bob', 'Charlie', 'David'],\n",
        "    'edad': [20, 22, 18, 25],\n",
        "    'calificaciones': [90, 88, 75, 95]\n",
        "}\n",
        "\n",
        "df = pd.DataFrame(data)\n",
        "criterio = 'edad > 18'\n",
        "resultado = seleccionar_datos(df, criterio)\n",
        "print(resultado)"
      ],
      "metadata": {
        "id": "QCNymBb0k-ht",
        "colab": {
          "base_uri": "https://localhost:8080/"
        },
        "outputId": "afb42bc1-919b-4d7f-c150-83dea4c196fc"
      },
      "execution_count": 2,
      "outputs": [
        {
          "output_type": "stream",
          "name": "stdout",
          "text": [
            "  nombre  edad  calificaciones\n",
            "0  Alice    20              90\n",
            "1    Bob    22              88\n",
            "3  David    25              95\n"
          ]
        }
      ]
    },
    {
      "cell_type": "code",
      "source": [],
      "metadata": {
        "id": "W5yys9q0lV_G"
      },
      "execution_count": null,
      "outputs": []
    }
  ]
}