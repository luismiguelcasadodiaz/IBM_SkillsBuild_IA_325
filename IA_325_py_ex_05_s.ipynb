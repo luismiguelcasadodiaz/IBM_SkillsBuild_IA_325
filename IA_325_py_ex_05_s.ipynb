{
  "nbformat": 4,
  "nbformat_minor": 0,
  "metadata": {
    "colab": {
      "provenance": [],
      "authorship_tag": "ABX9TyMSkbP2nXMrNfJMc9SiP9qv",
      "include_colab_link": true
    },
    "kernelspec": {
      "name": "python3",
      "display_name": "Python 3"
    },
    "language_info": {
      "name": "python"
    }
  },
  "cells": [
    {
      "cell_type": "markdown",
      "metadata": {
        "id": "view-in-github",
        "colab_type": "text"
      },
      "source": [
        "<a href=\"https://colab.research.google.com/github/luismiguelcasadodiaz/IBM_SkillsBuild_IA_325/blob/main/IA_325_py_ex_05_s.ipynb\" target=\"_parent\"><img src=\"https://colab.research.google.com/assets/colab-badge.svg\" alt=\"Open In Colab\"/></a>"
      ]
    },
    {
      "cell_type": "markdown",
      "source": [
        "Crea una lista de números secuenciales del 11 al 25."
      ],
      "metadata": {
        "id": "HCM4Pztib9qd"
      }
    },
    {
      "cell_type": "code",
      "source": [
        "import numpy as np\n",
        "lista = np.arange(11,26)\n",
        "lista"
      ],
      "metadata": {
        "colab": {
          "base_uri": "https://localhost:8080/"
        },
        "id": "qd778vIUcwpI",
        "outputId": "b8dab6cc-1df9-443a-b13d-dd99f1af1e60"
      },
      "execution_count": 6,
      "outputs": [
        {
          "output_type": "execute_result",
          "data": {
            "text/plain": [
              "array([11, 12, 13, 14, 15, 16, 17, 18, 19, 20, 21, 22, 23, 24, 25])"
            ]
          },
          "metadata": {},
          "execution_count": 6
        }
      ]
    },
    {
      "cell_type": "markdown",
      "source": [
        "Convierte la lista en una matriz de 2 dimensiones 3 filas por 5 columnas."
      ],
      "metadata": {
        "id": "QhVq5WHHcJm3"
      }
    },
    {
      "cell_type": "code",
      "source": [
        "matriz = lista.reshape(3,5)\n",
        "matriz"
      ],
      "metadata": {
        "colab": {
          "base_uri": "https://localhost:8080/"
        },
        "id": "BoJu7najcwNC",
        "outputId": "e9e54828-7624-48e9-88d0-d7e708495ee8"
      },
      "execution_count": 9,
      "outputs": [
        {
          "output_type": "execute_result",
          "data": {
            "text/plain": [
              "array([[11, 12, 13, 14, 15],\n",
              "       [16, 17, 18, 19, 20],\n",
              "       [21, 22, 23, 24, 25]])"
            ]
          },
          "metadata": {},
          "execution_count": 9
        }
      ]
    },
    {
      "cell_type": "markdown",
      "source": [
        "Muestra por pantalla el valor del elemento de la esquina superior derecha de la matriz"
      ],
      "metadata": {
        "id": "SDNec5w2cm47"
      }
    },
    {
      "cell_type": "code",
      "source": [
        "print(matriz[0,4])"
      ],
      "metadata": {
        "id": "MV0RRiN1cweG",
        "colab": {
          "base_uri": "https://localhost:8080/"
        },
        "outputId": "0fce959e-f42e-4d74-ad05-3d0587ab9c83"
      },
      "execution_count": 10,
      "outputs": [
        {
          "output_type": "stream",
          "name": "stdout",
          "text": [
            "15\n"
          ]
        }
      ]
    }
  ]
}